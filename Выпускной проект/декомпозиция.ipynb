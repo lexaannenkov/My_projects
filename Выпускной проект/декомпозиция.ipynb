{
 "cells": [
  {
   "cell_type": "markdown",
   "metadata": {},
   "source": [
    "**Декомпозиция** задачи: Анализ клиентов регионального банка и выделение портрета клиентов, склонных ухадить из банка.\n",
    "\n",
    "1. Загрузка данных\n",
    "    - Импорт необходимых библиотек\n",
    "    - Чтение данных и сохранение в таблицу\n",
    "    - Изучение общих сведений о данных \n",
    "2. Предобработка данных\n",
    "    - Проверка и замена типов данных\n",
    "    - Проверка данных на аномалии    \n",
    "    - Заполнение пропусков в данных\n",
    "    - Проверка на дубликаты\n",
    "3. Исследовательский анализ данных EDA\n",
    "    - Посмотреть на датасет: есть ли в нем отсутствующие признаки, изучите средние значения и стандартные отклонения\n",
    "    - Посмотреть на средние значения признаков в двух группах — тех, кто ушел в отток и тех, кто остался\n",
    "    - Изучение распределений признаков для тех, кто ушёл (отток) и тех, кто остался (не попали в отток)\n",
    "    - Корреляционный анализ\n",
    "4. Выведение портрета клиентов, которые склонны и не склонны уходить из банка на основе EDA\n",
    "5. Проверка гипотез\n",
    "    - Гипотеза о различии дохода между теми клиентами, которые ушли и теми, которые остались\n",
    "    - Гипотеза о различии возраста между теми клиентами, которые ушли и теми, которые остались\n",
    "6. Прогнозирование оттока клиентов(если будет время)\n",
    "    - Построение модели прогнозирования оттока клиентов\n",
    "    - Кластеризация клиентов\n",
    "7. Общие выводы и рекомендации"
   ]
  },
  {
   "cell_type": "code",
   "execution_count": null,
   "metadata": {},
   "outputs": [],
   "source": []
  }
 ],
 "metadata": {
  "ExecuteTimeLog": [
   {
    "duration": 381,
    "start_time": "2022-06-10T10:41:36.076Z"
   },
   {
    "duration": 143,
    "start_time": "2022-06-10T10:45:04.279Z"
   },
   {
    "duration": 22,
    "start_time": "2022-06-10T10:45:07.402Z"
   },
   {
    "duration": 14,
    "start_time": "2022-06-10T10:46:47.832Z"
   },
   {
    "duration": 11,
    "start_time": "2022-06-10T10:47:29.239Z"
   },
   {
    "duration": 7,
    "start_time": "2022-06-10T10:50:03.205Z"
   },
   {
    "duration": 12,
    "start_time": "2022-06-10T10:50:10.045Z"
   },
   {
    "duration": 6,
    "start_time": "2022-06-10T10:50:22.940Z"
   },
   {
    "duration": 562,
    "start_time": "2022-06-13T14:24:24.720Z"
   },
   {
    "duration": 213,
    "start_time": "2022-06-13T14:24:25.293Z"
   },
   {
    "duration": 47,
    "start_time": "2022-06-13T14:24:25.508Z"
   },
   {
    "duration": 21,
    "start_time": "2022-06-13T14:24:25.558Z"
   },
   {
    "duration": 23,
    "start_time": "2022-06-13T14:24:25.582Z"
   },
   {
    "duration": 29,
    "start_time": "2022-06-13T14:24:25.607Z"
   },
   {
    "duration": 24,
    "start_time": "2022-06-13T14:24:25.639Z"
   },
   {
    "duration": 7,
    "start_time": "2022-06-13T14:24:46.553Z"
   },
   {
    "duration": 15,
    "start_time": "2022-06-13T14:25:09.750Z"
   },
   {
    "duration": 11,
    "start_time": "2022-06-13T14:26:17.606Z"
   },
   {
    "duration": 10,
    "start_time": "2022-06-13T14:26:37.948Z"
   },
   {
    "duration": 13,
    "start_time": "2022-06-13T14:26:46.485Z"
   },
   {
    "duration": 6,
    "start_time": "2022-06-13T14:27:38.024Z"
   },
   {
    "duration": 8,
    "start_time": "2022-06-13T14:28:26.315Z"
   },
   {
    "duration": 36,
    "start_time": "2022-06-13T14:30:23.870Z"
   },
   {
    "duration": 20,
    "start_time": "2022-06-13T14:31:38.294Z"
   },
   {
    "duration": 20,
    "start_time": "2022-06-13T14:35:11.560Z"
   },
   {
    "duration": 64,
    "start_time": "2022-06-13T14:37:04.081Z"
   },
   {
    "duration": 5,
    "start_time": "2022-06-13T14:37:08.591Z"
   },
   {
    "duration": 6,
    "start_time": "2022-06-13T14:57:30.302Z"
   },
   {
    "duration": 19,
    "start_time": "2022-06-13T14:57:30.860Z"
   }
  ],
  "kernelspec": {
   "display_name": "Python 3 (ipykernel)",
   "language": "python",
   "name": "python3"
  },
  "language_info": {
   "codemirror_mode": {
    "name": "ipython",
    "version": 3
   },
   "file_extension": ".py",
   "mimetype": "text/x-python",
   "name": "python",
   "nbconvert_exporter": "python",
   "pygments_lexer": "ipython3",
   "version": "3.9.5"
  },
  "toc": {
   "base_numbering": 1,
   "nav_menu": {},
   "number_sections": true,
   "sideBar": true,
   "skip_h1_title": true,
   "title_cell": "Table of Contents",
   "title_sidebar": "Contents",
   "toc_cell": false,
   "toc_position": {},
   "toc_section_display": true,
   "toc_window_display": false
  }
 },
 "nbformat": 4,
 "nbformat_minor": 2
}
