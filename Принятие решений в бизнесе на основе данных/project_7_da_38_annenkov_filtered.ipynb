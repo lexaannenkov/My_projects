{
 "cells": [
  {
   "cell_type": "markdown",
   "metadata": {
    "toc": true
   },
   "source": [
    "<h1>Table of Contents<span class=\"tocSkip\"></span></h1>\n",
    "<div class=\"toc\"><ul class=\"toc-item\"><li><span><a href=\"#Контекст\" data-toc-modified-id=\"Контекст-1\"><span class=\"toc-item-num\">1&nbsp;&nbsp;</span>Контекст</a></span></li><li><span><a href=\"#Изучение-данных\" data-toc-modified-id=\"Изучение-данных-2\"><span class=\"toc-item-num\">2&nbsp;&nbsp;</span>Изучение данных</a></span></li><li><span><a href=\"#Предобработка-данных\" data-toc-modified-id=\"Предобработка-данных-3\"><span class=\"toc-item-num\">3&nbsp;&nbsp;</span>Предобработка данных</a></span></li><li><span><a href=\"#Приоритизация-гипотез\" data-toc-modified-id=\"Приоритизация-гипотез-4\"><span class=\"toc-item-num\">4&nbsp;&nbsp;</span>Приоритизация гипотез</a></span><ul class=\"toc-item\"><li><span><a href=\"#Применим-фреймворк-ICE-для-приоритизации-гипотез-и-отсортируем-их-по-убыванию-приоритета.\" data-toc-modified-id=\"Применим-фреймворк-ICE-для-приоритизации-гипотез-и-отсортируем-их-по-убыванию-приоритета.-4.1\"><span class=\"toc-item-num\">4.1&nbsp;&nbsp;</span>Применим фреймворк ICE для приоритизации гипотез и отсортируем их по убыванию приоритета.</a></span></li><li><span><a href=\"#Примениm-фреймворк-RICE-для-приоритизации-гипотез-и-отсортируем-их-по-убыванию-приоритета.\" data-toc-modified-id=\"Примениm-фреймворк-RICE-для-приоритизации-гипотез-и-отсортируем-их-по-убыванию-приоритета.-4.2\"><span class=\"toc-item-num\">4.2&nbsp;&nbsp;</span>Примениm фреймворк RICE для приоритизации гипотез и отсортируем их по убыванию приоритета.</a></span></li><li><span><a href=\"#Анализ-изменения-приоритизация-гипотез-при-применении-RICE-вместо-ICE.\" data-toc-modified-id=\"Анализ-изменения-приоритизация-гипотез-при-применении-RICE-вместо-ICE.-4.3\"><span class=\"toc-item-num\">4.3&nbsp;&nbsp;</span>Анализ изменения приоритизация гипотез при применении RICE вместо ICE.</a></span></li></ul></li><li><span><a href=\"#Анализ-A/B-теста\" data-toc-modified-id=\"Анализ-A/B-теста-5\"><span class=\"toc-item-num\">5&nbsp;&nbsp;</span>Анализ A/B-теста</a></span><ul class=\"toc-item\"><li><span><a href=\"#График-кумулятивной-выручки-по-группам.\" data-toc-modified-id=\"График-кумулятивной-выручки-по-группам.-5.1\"><span class=\"toc-item-num\">5.1&nbsp;&nbsp;</span>График кумулятивной выручки по группам.</a></span></li><li><span><a href=\"#График-кумулятивного-среднего-чека-по-группам.\" data-toc-modified-id=\"График-кумулятивного-среднего-чека-по-группам.-5.2\"><span class=\"toc-item-num\">5.2&nbsp;&nbsp;</span>График кумулятивного среднего чека по группам.</a></span></li><li><span><a href=\"#График-относительного-изменения-кумулятивного-среднего-чека-группы-B-к-группе-A.\" data-toc-modified-id=\"График-относительного-изменения-кумулятивного-среднего-чека-группы-B-к-группе-A.-5.3\"><span class=\"toc-item-num\">5.3&nbsp;&nbsp;</span>График относительного изменения кумулятивного среднего чека группы B к группе A.</a></span></li><li><span><a href=\"#График-кумулятивной-конверсии-по-группам.\" data-toc-modified-id=\"График-кумулятивной-конверсии-по-группам.-5.4\"><span class=\"toc-item-num\">5.4&nbsp;&nbsp;</span>График кумулятивной конверсии по группам.</a></span></li><li><span><a href=\"#График-относительного-изменения-кумулятивной-конверсии-группы-B-к-группе-A.\" data-toc-modified-id=\"График-относительного-изменения-кумулятивной-конверсии-группы-B-к-группе-A.-5.5\"><span class=\"toc-item-num\">5.5&nbsp;&nbsp;</span>График относительного изменения кумулятивной конверсии группы B к группе A.</a></span></li><li><span><a href=\"#Точечный-график-количества-заказов-по-пользователям.\" data-toc-modified-id=\"Точечный-график-количества-заказов-по-пользователям.-5.6\"><span class=\"toc-item-num\">5.6&nbsp;&nbsp;</span>Точечный график количества заказов по пользователям.</a></span></li><li><span><a href=\"#Расчет-95-й-и-99-й-перцентилей-количества-заказов-на-пользователя.-Выбор-границ-для-определения-аномальных-пользователей.\" data-toc-modified-id=\"Расчет-95-й-и-99-й-перцентилей-количества-заказов-на-пользователя.-Выбор-границ-для-определения-аномальных-пользователей.-5.7\"><span class=\"toc-item-num\">5.7&nbsp;&nbsp;</span>Расчет 95-й и 99-й перцентилей количества заказов на пользователя. Выбор границ для определения аномальных пользователей.</a></span></li><li><span><a href=\"#Точечный-график-стоимостей-заказов.\" data-toc-modified-id=\"Точечный-график-стоимостей-заказов.-5.8\"><span class=\"toc-item-num\">5.8&nbsp;&nbsp;</span>Точечный график стоимостей заказов.</a></span></li><li><span><a href=\"#Расчет-95-й-и-99-й-перцентилей-количества-заказов.-Выбор-границ-для-определения-аномальных-пользователей.\" data-toc-modified-id=\"Расчет-95-й-и-99-й-перцентилей-количества-заказов.-Выбор-границ-для-определения-аномальных-пользователей.-5.9\"><span class=\"toc-item-num\">5.9&nbsp;&nbsp;</span>Расчет 95-й и 99-й перцентилей количества заказов. Выбор границ для определения аномальных пользователей.</a></span></li><li><span><a href=\"#Расчет-статистической-значимости-различий-в-конверсий-между-группами-по-«сырым»-данным.\" data-toc-modified-id=\"Расчет-статистической-значимости-различий-в-конверсий-между-группами-по-«сырым»-данным.-5.10\"><span class=\"toc-item-num\">5.10&nbsp;&nbsp;</span>Расчет статистической значимости различий в конверсий между группами по «сырым» данным.</a></span></li><li><span><a href=\"#Расчет-статистической-значимости-различий-в-среднем-чеке-заказа-между-группами-по-«сырым»-данным.\" data-toc-modified-id=\"Расчет-статистической-значимости-различий-в-среднем-чеке-заказа-между-группами-по-«сырым»-данным.-5.11\"><span class=\"toc-item-num\">5.11&nbsp;&nbsp;</span>Расчет статистической значимости различий в среднем чеке заказа между группами по «сырым» данным.</a></span></li><li><span><a href=\"#Расчет-статистической-значимости-различий-в-конверсии-между-группами-по-«очищенным»-данным.\" data-toc-modified-id=\"Расчет-статистической-значимости-различий-в-конверсии-между-группами-по-«очищенным»-данным.-5.12\"><span class=\"toc-item-num\">5.12&nbsp;&nbsp;</span>Расчет статистической значимости различий в конверсии между группами по «очищенным» данным.</a></span></li><li><span><a href=\"#Расчет-статистической-значимости-различий-в-среднем-чеке-заказа-между-группами-по-«очищенным»-данным.\" data-toc-modified-id=\"Расчет-статистической-значимости-различий-в-среднем-чеке-заказа-между-группами-по-«очищенным»-данным.-5.13\"><span class=\"toc-item-num\">5.13&nbsp;&nbsp;</span>Расчет статистической значимости различий в среднем чеке заказа между группами по «очищенным» данным.</a></span></li><li><span><a href=\"#Решение-по-результатам-теста.\" data-toc-modified-id=\"Решение-по-результатам-теста.-5.14\"><span class=\"toc-item-num\">5.14&nbsp;&nbsp;</span>Решение по результатам теста.</a></span></li></ul></li><li><span><a href=\"#Вывод\" data-toc-modified-id=\"Вывод-6\"><span class=\"toc-item-num\">6&nbsp;&nbsp;</span>Вывод</a></span></li></ul></div>"
   ]
  },
  {
   "cell_type": "markdown",
   "metadata": {},
   "source": [
    "## Контекст"
   ]
  },
  {
   "cell_type": "markdown",
   "metadata": {},
   "source": [
    "Я — аналитик крупного интернет-магазина. Вместе с отделом маркетинга мы подготовили список гипотез для увеличения выручки.\n",
    "Проведена приоритизация гипотез, A/B-тест и анализ результатов."
   ]
  },
  {
   "cell_type": "markdown",
   "metadata": {},
   "source": [
    "## Изучение данных"
   ]
  },
  {
   "cell_type": "markdown",
   "metadata": {},
   "source": [
    "Импортируем нужные библиотеки."
   ]
  },
  {
   "cell_type": "code",
   "execution_count": 1,
   "metadata": {},
   "outputs": [],
   "source": [
    "import pandas as pd\n",
    "import numpy as np\n",
    "from matplotlib import pyplot as plt\n",
    "\n",
    "import math\n",
    "from scipy import stats\n",
    "\n",
    "from datetime import timedelta\n",
    "import datetime as dt"
   ]
  },
  {
   "cell_type": "markdown",
   "metadata": {},
   "source": [
    "Прочитаем данные"
   ]
  },
  {
   "cell_type": "code",
   "execution_count": 2,
   "metadata": {},
   "outputs": [],
   "source": [
    "data = pd.read_csv('https://drive.google.com/file/d/1kUooRWid_mdlK3tw8wfCGDqQcInshEpM/view?usp=sharing')\n",
    "pd.set_option('display.max_columns', None)\n",
    "orders = pd.read_csv('https://drive.google.com/file/d/1wSE3dBDVWK1HQQuVhe-hmPKIW_1rJ8ea/view?usp=sharing')\n",
    "visitors = pd.read_csv('https://drive.google.com/file/d/1Bljagn1AO259oPwsYPA7EIDG-EzTYPfB/view?usp=sharing')\n",
    "pd.options.display.max_colwidth = 150"
   ]
  },
  {
   "cell_type": "code",
   "execution_count": 3,
   "metadata": {},
   "outputs": [
    {
     "data": {
      "text/html": [
       "<div>\n",
       "<style scoped>\n",
       "    .dataframe tbody tr th:only-of-type {\n",
       "        vertical-align: middle;\n",
       "    }\n",
       "\n",
       "    .dataframe tbody tr th {\n",
       "        vertical-align: top;\n",
       "    }\n",
       "\n",
       "    .dataframe thead th {\n",
       "        text-align: right;\n",
       "    }\n",
       "</style>\n",
       "<table border=\"1\" class=\"dataframe\">\n",
       "  <thead>\n",
       "    <tr style=\"text-align: right;\">\n",
       "      <th></th>\n",
       "      <th>Hypothesis</th>\n",
       "      <th>Reach</th>\n",
       "      <th>Impact</th>\n",
       "      <th>Confidence</th>\n",
       "      <th>Efforts</th>\n",
       "    </tr>\n",
       "  </thead>\n",
       "  <tbody>\n",
       "    <tr>\n",
       "      <th>0</th>\n",
       "      <td>Добавить два новых канала привлечения трафика, что позволит привлекать на 30% больше пользователей</td>\n",
       "      <td>3</td>\n",
       "      <td>10</td>\n",
       "      <td>8</td>\n",
       "      <td>6</td>\n",
       "    </tr>\n",
       "    <tr>\n",
       "      <th>1</th>\n",
       "      <td>Запустить собственную службу доставки, что сократит срок доставки заказов</td>\n",
       "      <td>2</td>\n",
       "      <td>5</td>\n",
       "      <td>4</td>\n",
       "      <td>10</td>\n",
       "    </tr>\n",
       "    <tr>\n",
       "      <th>2</th>\n",
       "      <td>Добавить блоки рекомендаций товаров на сайт интернет магазина, чтобы повысить конверсию и средний чек заказа</td>\n",
       "      <td>8</td>\n",
       "      <td>3</td>\n",
       "      <td>7</td>\n",
       "      <td>3</td>\n",
       "    </tr>\n",
       "    <tr>\n",
       "      <th>3</th>\n",
       "      <td>Изменить структура категорий, что увеличит конверсию, т.к. пользователи быстрее найдут нужный товар</td>\n",
       "      <td>8</td>\n",
       "      <td>3</td>\n",
       "      <td>3</td>\n",
       "      <td>8</td>\n",
       "    </tr>\n",
       "    <tr>\n",
       "      <th>4</th>\n",
       "      <td>Изменить цвет фона главной страницы, чтобы увеличить вовлеченность пользователей</td>\n",
       "      <td>3</td>\n",
       "      <td>1</td>\n",
       "      <td>1</td>\n",
       "      <td>1</td>\n",
       "    </tr>\n",
       "    <tr>\n",
       "      <th>5</th>\n",
       "      <td>Добавить страницу отзывов клиентов о магазине, что позволит увеличить количество заказов</td>\n",
       "      <td>3</td>\n",
       "      <td>2</td>\n",
       "      <td>2</td>\n",
       "      <td>3</td>\n",
       "    </tr>\n",
       "    <tr>\n",
       "      <th>6</th>\n",
       "      <td>Показать на главной странице баннеры с актуальными акциями и распродажами, чтобы увеличить конверсию</td>\n",
       "      <td>5</td>\n",
       "      <td>3</td>\n",
       "      <td>8</td>\n",
       "      <td>3</td>\n",
       "    </tr>\n",
       "    <tr>\n",
       "      <th>7</th>\n",
       "      <td>Добавить форму подписки на все основные страницы, чтобы собрать базу клиентов для email-рассылок</td>\n",
       "      <td>10</td>\n",
       "      <td>7</td>\n",
       "      <td>8</td>\n",
       "      <td>5</td>\n",
       "    </tr>\n",
       "    <tr>\n",
       "      <th>8</th>\n",
       "      <td>Запустить акцию, дающую скидку на товар в день рождения</td>\n",
       "      <td>1</td>\n",
       "      <td>9</td>\n",
       "      <td>9</td>\n",
       "      <td>5</td>\n",
       "    </tr>\n",
       "  </tbody>\n",
       "</table>\n",
       "</div>"
      ],
      "text/plain": [
       "                                                                                                     Hypothesis  \\\n",
       "0            Добавить два новых канала привлечения трафика, что позволит привлекать на 30% больше пользователей   \n",
       "1                                     Запустить собственную службу доставки, что сократит срок доставки заказов   \n",
       "2  Добавить блоки рекомендаций товаров на сайт интернет магазина, чтобы повысить конверсию и средний чек заказа   \n",
       "3           Изменить структура категорий, что увеличит конверсию, т.к. пользователи быстрее найдут нужный товар   \n",
       "4                              Изменить цвет фона главной страницы, чтобы увеличить вовлеченность пользователей   \n",
       "5                      Добавить страницу отзывов клиентов о магазине, что позволит увеличить количество заказов   \n",
       "6          Показать на главной странице баннеры с актуальными акциями и распродажами, чтобы увеличить конверсию   \n",
       "7              Добавить форму подписки на все основные страницы, чтобы собрать базу клиентов для email-рассылок   \n",
       "8                                                       Запустить акцию, дающую скидку на товар в день рождения   \n",
       "\n",
       "   Reach  Impact  Confidence  Efforts  \n",
       "0      3      10           8        6  \n",
       "1      2       5           4       10  \n",
       "2      8       3           7        3  \n",
       "3      8       3           3        8  \n",
       "4      3       1           1        1  \n",
       "5      3       2           2        3  \n",
       "6      5       3           8        3  \n",
       "7     10       7           8        5  \n",
       "8      1       9           9        5  "
      ]
     },
     "execution_count": 3,
     "metadata": {},
     "output_type": "execute_result"
    }
   ],
   "source": [
    "data"
   ]
  },
  {
   "cell_type": "markdown",
   "metadata": {},
   "source": [
    "В таблице **data** 5 столбцов и 9 строк:\n",
    "\n",
    "* Hypothesis — краткое описание гипотезы;\n",
    "* Reach — охват пользователей по 10-балльной шкале;\n",
    "* Impact — влияние на пользователей по 10-балльной шкале;\n",
    "* Confidence — уверенность в гипотезе по 10-балльной шкале;\n",
    "* Efforts — затраты ресурсов на проверку гипотезы по 10-балльной шкале. Чем больше значение Efforts, тем дороже проверка гипотезы.\n"
   ]
  },
  {
   "cell_type": "code",
   "execution_count": 4,
   "metadata": {},
   "outputs": [
    {
     "data": {
      "text/html": [
       "<div>\n",
       "<style scoped>\n",
       "    .dataframe tbody tr th:only-of-type {\n",
       "        vertical-align: middle;\n",
       "    }\n",
       "\n",
       "    .dataframe tbody tr th {\n",
       "        vertical-align: top;\n",
       "    }\n",
       "\n",
       "    .dataframe thead th {\n",
       "        text-align: right;\n",
       "    }\n",
       "</style>\n",
       "<table border=\"1\" class=\"dataframe\">\n",
       "  <thead>\n",
       "    <tr style=\"text-align: right;\">\n",
       "      <th></th>\n",
       "      <th>transactionId</th>\n",
       "      <th>visitorId</th>\n",
       "      <th>date</th>\n",
       "      <th>revenue</th>\n",
       "      <th>group</th>\n",
       "    </tr>\n",
       "  </thead>\n",
       "  <tbody>\n",
       "    <tr>\n",
       "      <th>1190</th>\n",
       "      <td>38478481</td>\n",
       "      <td>1197745035</td>\n",
       "      <td>2019-08-14</td>\n",
       "      <td>8600</td>\n",
       "      <td>B</td>\n",
       "    </tr>\n",
       "    <tr>\n",
       "      <th>325</th>\n",
       "      <td>4276811111</td>\n",
       "      <td>818047933</td>\n",
       "      <td>2019-08-28</td>\n",
       "      <td>3460</td>\n",
       "      <td>A</td>\n",
       "    </tr>\n",
       "    <tr>\n",
       "      <th>172</th>\n",
       "      <td>86411600</td>\n",
       "      <td>2096506107</td>\n",
       "      <td>2019-08-17</td>\n",
       "      <td>5480</td>\n",
       "      <td>B</td>\n",
       "    </tr>\n",
       "    <tr>\n",
       "      <th>863</th>\n",
       "      <td>1408156385</td>\n",
       "      <td>2217984702</td>\n",
       "      <td>2019-08-30</td>\n",
       "      <td>790</td>\n",
       "      <td>A</td>\n",
       "    </tr>\n",
       "    <tr>\n",
       "      <th>184</th>\n",
       "      <td>1367815478</td>\n",
       "      <td>138252163</td>\n",
       "      <td>2019-08-23</td>\n",
       "      <td>4580</td>\n",
       "      <td>A</td>\n",
       "    </tr>\n",
       "    <tr>\n",
       "      <th>279</th>\n",
       "      <td>1101659272</td>\n",
       "      <td>1648269707</td>\n",
       "      <td>2019-08-18</td>\n",
       "      <td>860</td>\n",
       "      <td>A</td>\n",
       "    </tr>\n",
       "    <tr>\n",
       "      <th>443</th>\n",
       "      <td>2466620500</td>\n",
       "      <td>1388838483</td>\n",
       "      <td>2019-08-03</td>\n",
       "      <td>7300</td>\n",
       "      <td>B</td>\n",
       "    </tr>\n",
       "    <tr>\n",
       "      <th>579</th>\n",
       "      <td>1634400895</td>\n",
       "      <td>3540744920</td>\n",
       "      <td>2019-08-04</td>\n",
       "      <td>3559</td>\n",
       "      <td>A</td>\n",
       "    </tr>\n",
       "    <tr>\n",
       "      <th>204</th>\n",
       "      <td>1935539409</td>\n",
       "      <td>3836897869</td>\n",
       "      <td>2019-08-17</td>\n",
       "      <td>6700</td>\n",
       "      <td>B</td>\n",
       "    </tr>\n",
       "    <tr>\n",
       "      <th>791</th>\n",
       "      <td>3525952977</td>\n",
       "      <td>2888793654</td>\n",
       "      <td>2019-08-30</td>\n",
       "      <td>13770</td>\n",
       "      <td>A</td>\n",
       "    </tr>\n",
       "  </tbody>\n",
       "</table>\n",
       "</div>"
      ],
      "text/plain": [
       "      transactionId   visitorId        date  revenue group\n",
       "1190       38478481  1197745035  2019-08-14     8600     B\n",
       "325      4276811111   818047933  2019-08-28     3460     A\n",
       "172        86411600  2096506107  2019-08-17     5480     B\n",
       "863      1408156385  2217984702  2019-08-30      790     A\n",
       "184      1367815478   138252163  2019-08-23     4580     A\n",
       "279      1101659272  1648269707  2019-08-18      860     A\n",
       "443      2466620500  1388838483  2019-08-03     7300     B\n",
       "579      1634400895  3540744920  2019-08-04     3559     A\n",
       "204      1935539409  3836897869  2019-08-17     6700     B\n",
       "791      3525952977  2888793654  2019-08-30    13770     A"
      ]
     },
     "execution_count": 4,
     "metadata": {},
     "output_type": "execute_result"
    }
   ],
   "source": [
    "orders.sample(10)"
   ]
  },
  {
   "cell_type": "code",
   "execution_count": 5,
   "metadata": {},
   "outputs": [
    {
     "name": "stdout",
     "output_type": "stream",
     "text": [
      "<class 'pandas.core.frame.DataFrame'>\n",
      "RangeIndex: 1197 entries, 0 to 1196\n",
      "Data columns (total 5 columns):\n",
      " #   Column         Non-Null Count  Dtype \n",
      "---  ------         --------------  ----- \n",
      " 0   transactionId  1197 non-null   int64 \n",
      " 1   visitorId      1197 non-null   int64 \n",
      " 2   date           1197 non-null   object\n",
      " 3   revenue        1197 non-null   int64 \n",
      " 4   group          1197 non-null   object\n",
      "dtypes: int64(3), object(2)\n",
      "memory usage: 46.9+ KB\n"
     ]
    }
   ],
   "source": [
    "orders.info()"
   ]
  },
  {
   "cell_type": "code",
   "execution_count": 6,
   "metadata": {},
   "outputs": [
    {
     "data": {
      "text/plain": [
       "transactionId    0.0\n",
       "visitorId        0.0\n",
       "date             0.0\n",
       "revenue          0.0\n",
       "group            0.0\n",
       "dtype: float64"
      ]
     },
     "execution_count": 6,
     "metadata": {},
     "output_type": "execute_result"
    }
   ],
   "source": [
    "orders.isna().sum() / orders.shape[0] * 100"
   ]
  },
  {
   "cell_type": "code",
   "execution_count": 7,
   "metadata": {},
   "outputs": [
    {
     "data": {
      "text/plain": [
       "transactionId    0.0\n",
       "visitorId        0.0\n",
       "date             0.0\n",
       "revenue          0.0\n",
       "group            0.0\n",
       "dtype: float64"
      ]
     },
     "execution_count": 7,
     "metadata": {},
     "output_type": "execute_result"
    }
   ],
   "source": [
    "orders.isna().mean()"
   ]
  },
  {
   "cell_type": "code",
   "execution_count": 8,
   "metadata": {},
   "outputs": [
    {
     "data": {
      "text/plain": [
       "0"
      ]
     },
     "execution_count": 8,
     "metadata": {},
     "output_type": "execute_result"
    }
   ],
   "source": [
    "orders.duplicated().sum()"
   ]
  },
  {
   "cell_type": "markdown",
   "metadata": {},
   "source": [
    "В таблице **orders** 5 столбцов и 1197 строк:\n",
    "\n",
    "* transactionId — идентификатор заказа;\n",
    "* visitorId — идентификатор пользователя, совершившего заказ;\n",
    "* date — дата, когда был совершён заказ;\n",
    "* revenue — выручка заказа;\n",
    "* group — группа A/B-теста, в которую попал заказ."
   ]
  },
  {
   "cell_type": "code",
   "execution_count": 9,
   "metadata": {},
   "outputs": [
    {
     "data": {
      "text/html": [
       "<div>\n",
       "<style scoped>\n",
       "    .dataframe tbody tr th:only-of-type {\n",
       "        vertical-align: middle;\n",
       "    }\n",
       "\n",
       "    .dataframe tbody tr th {\n",
       "        vertical-align: top;\n",
       "    }\n",
       "\n",
       "    .dataframe thead th {\n",
       "        text-align: right;\n",
       "    }\n",
       "</style>\n",
       "<table border=\"1\" class=\"dataframe\">\n",
       "  <thead>\n",
       "    <tr style=\"text-align: right;\">\n",
       "      <th></th>\n",
       "      <th>date</th>\n",
       "      <th>group</th>\n",
       "      <th>visitors</th>\n",
       "    </tr>\n",
       "  </thead>\n",
       "  <tbody>\n",
       "    <tr>\n",
       "      <th>0</th>\n",
       "      <td>2019-08-01</td>\n",
       "      <td>A</td>\n",
       "      <td>719</td>\n",
       "    </tr>\n",
       "    <tr>\n",
       "      <th>1</th>\n",
       "      <td>2019-08-02</td>\n",
       "      <td>A</td>\n",
       "      <td>619</td>\n",
       "    </tr>\n",
       "    <tr>\n",
       "      <th>2</th>\n",
       "      <td>2019-08-03</td>\n",
       "      <td>A</td>\n",
       "      <td>507</td>\n",
       "    </tr>\n",
       "    <tr>\n",
       "      <th>3</th>\n",
       "      <td>2019-08-04</td>\n",
       "      <td>A</td>\n",
       "      <td>717</td>\n",
       "    </tr>\n",
       "    <tr>\n",
       "      <th>4</th>\n",
       "      <td>2019-08-05</td>\n",
       "      <td>A</td>\n",
       "      <td>756</td>\n",
       "    </tr>\n",
       "    <tr>\n",
       "      <th>5</th>\n",
       "      <td>2019-08-06</td>\n",
       "      <td>A</td>\n",
       "      <td>667</td>\n",
       "    </tr>\n",
       "    <tr>\n",
       "      <th>6</th>\n",
       "      <td>2019-08-07</td>\n",
       "      <td>A</td>\n",
       "      <td>644</td>\n",
       "    </tr>\n",
       "    <tr>\n",
       "      <th>7</th>\n",
       "      <td>2019-08-08</td>\n",
       "      <td>A</td>\n",
       "      <td>610</td>\n",
       "    </tr>\n",
       "    <tr>\n",
       "      <th>8</th>\n",
       "      <td>2019-08-09</td>\n",
       "      <td>A</td>\n",
       "      <td>617</td>\n",
       "    </tr>\n",
       "    <tr>\n",
       "      <th>9</th>\n",
       "      <td>2019-08-10</td>\n",
       "      <td>A</td>\n",
       "      <td>406</td>\n",
       "    </tr>\n",
       "  </tbody>\n",
       "</table>\n",
       "</div>"
      ],
      "text/plain": [
       "         date group  visitors\n",
       "0  2019-08-01     A       719\n",
       "1  2019-08-02     A       619\n",
       "2  2019-08-03     A       507\n",
       "3  2019-08-04     A       717\n",
       "4  2019-08-05     A       756\n",
       "5  2019-08-06     A       667\n",
       "6  2019-08-07     A       644\n",
       "7  2019-08-08     A       610\n",
       "8  2019-08-09     A       617\n",
       "9  2019-08-10     A       406"
      ]
     },
     "execution_count": 9,
     "metadata": {},
     "output_type": "execute_result"
    }
   ],
   "source": [
    "visitors.head(10)"
   ]
  },
  {
   "cell_type": "code",
   "execution_count": 10,
   "metadata": {},
   "outputs": [
    {
     "name": "stdout",
     "output_type": "stream",
     "text": [
      "<class 'pandas.core.frame.DataFrame'>\n",
      "RangeIndex: 62 entries, 0 to 61\n",
      "Data columns (total 3 columns):\n",
      " #   Column    Non-Null Count  Dtype \n",
      "---  ------    --------------  ----- \n",
      " 0   date      62 non-null     object\n",
      " 1   group     62 non-null     object\n",
      " 2   visitors  62 non-null     int64 \n",
      "dtypes: int64(1), object(2)\n",
      "memory usage: 1.6+ KB\n"
     ]
    }
   ],
   "source": [
    "visitors.info()"
   ]
  },
  {
   "cell_type": "code",
   "execution_count": 11,
   "metadata": {},
   "outputs": [
    {
     "data": {
      "text/plain": [
       "date        0.0\n",
       "group       0.0\n",
       "visitors    0.0\n",
       "dtype: float64"
      ]
     },
     "execution_count": 11,
     "metadata": {},
     "output_type": "execute_result"
    }
   ],
   "source": [
    "visitors.isna().sum() / visitors.shape[0] * 100"
   ]
  },
  {
   "cell_type": "code",
   "execution_count": 12,
   "metadata": {},
   "outputs": [
    {
     "data": {
      "text/plain": [
       "0"
      ]
     },
     "execution_count": 12,
     "metadata": {},
     "output_type": "execute_result"
    }
   ],
   "source": [
    "visitors.duplicated().sum()"
   ]
  },
  {
   "cell_type": "markdown",
   "metadata": {},
   "source": [
    "Таблица **visitors** имеет 3 столбца и 62 строки:\n",
    "\n",
    "* date — дата;\n",
    "* group — группа A/B-теста;\n",
    "* visitors — количество пользователей в указанную дату в указанной группе A/B-теста"
   ]
  },
  {
   "cell_type": "markdown",
   "metadata": {},
   "source": [
    "**Вывод** \n",
    "\n",
    "Проанализировав входные данные видим, что таблицы не имеют пропущенных значений и дубликатов. Необходимо привести к нижнему регистру названия столбцов и перевести данные с датами к нужному типу."
   ]
  },
  {
   "cell_type": "markdown",
   "metadata": {},
   "source": [
    "## Предобработка данных"
   ]
  },
  {
   "cell_type": "markdown",
   "metadata": {},
   "source": [
    "Приведем название колонок к нижнему регистру."
   ]
  },
  {
   "cell_type": "code",
   "execution_count": 13,
   "metadata": {},
   "outputs": [],
   "source": [
    "data.columns = data.columns.str.lower()"
   ]
  },
  {
   "cell_type": "markdown",
   "metadata": {},
   "source": [
    "Приведем колонки с датами к нужному формату."
   ]
  },
  {
   "cell_type": "code",
   "execution_count": 14,
   "metadata": {},
   "outputs": [],
   "source": [
    "visitors['date'] = pd.to_datetime(visitors['date'], format=\"%Y-%m-%d\")\n",
    "orders['date'] = pd.to_datetime(orders['date'], format=\"%Y-%m-%d\")"
   ]
  },
  {
   "cell_type": "markdown",
   "metadata": {},
   "source": [
    "## Приоритизация гипотез"
   ]
  },
  {
   "cell_type": "markdown",
   "metadata": {},
   "source": [
    "### Применим фреймворк ICE для приоритизации гипотез и отсортируем их по убыванию приоритета."
   ]
  },
  {
   "cell_type": "code",
   "execution_count": 15,
   "metadata": {},
   "outputs": [
    {
     "data": {
      "text/html": [
       "<div>\n",
       "<style scoped>\n",
       "    .dataframe tbody tr th:only-of-type {\n",
       "        vertical-align: middle;\n",
       "    }\n",
       "\n",
       "    .dataframe tbody tr th {\n",
       "        vertical-align: top;\n",
       "    }\n",
       "\n",
       "    .dataframe thead th {\n",
       "        text-align: right;\n",
       "    }\n",
       "</style>\n",
       "<table border=\"1\" class=\"dataframe\">\n",
       "  <thead>\n",
       "    <tr style=\"text-align: right;\">\n",
       "      <th></th>\n",
       "      <th>hypothesis</th>\n",
       "      <th>ice</th>\n",
       "    </tr>\n",
       "  </thead>\n",
       "  <tbody>\n",
       "    <tr>\n",
       "      <th>8</th>\n",
       "      <td>Запустить акцию, дающую скидку на товар в день рождения</td>\n",
       "      <td>16.20</td>\n",
       "    </tr>\n",
       "    <tr>\n",
       "      <th>0</th>\n",
       "      <td>Добавить два новых канала привлечения трафика, что позволит привлекать на 30% больше пользователей</td>\n",
       "      <td>13.33</td>\n",
       "    </tr>\n",
       "    <tr>\n",
       "      <th>7</th>\n",
       "      <td>Добавить форму подписки на все основные страницы, чтобы собрать базу клиентов для email-рассылок</td>\n",
       "      <td>11.20</td>\n",
       "    </tr>\n",
       "    <tr>\n",
       "      <th>6</th>\n",
       "      <td>Показать на главной странице баннеры с актуальными акциями и распродажами, чтобы увеличить конверсию</td>\n",
       "      <td>8.00</td>\n",
       "    </tr>\n",
       "    <tr>\n",
       "      <th>2</th>\n",
       "      <td>Добавить блоки рекомендаций товаров на сайт интернет магазина, чтобы повысить конверсию и средний чек заказа</td>\n",
       "      <td>7.00</td>\n",
       "    </tr>\n",
       "    <tr>\n",
       "      <th>1</th>\n",
       "      <td>Запустить собственную службу доставки, что сократит срок доставки заказов</td>\n",
       "      <td>2.00</td>\n",
       "    </tr>\n",
       "    <tr>\n",
       "      <th>5</th>\n",
       "      <td>Добавить страницу отзывов клиентов о магазине, что позволит увеличить количество заказов</td>\n",
       "      <td>1.33</td>\n",
       "    </tr>\n",
       "    <tr>\n",
       "      <th>3</th>\n",
       "      <td>Изменить структура категорий, что увеличит конверсию, т.к. пользователи быстрее найдут нужный товар</td>\n",
       "      <td>1.12</td>\n",
       "    </tr>\n",
       "    <tr>\n",
       "      <th>4</th>\n",
       "      <td>Изменить цвет фона главной страницы, чтобы увеличить вовлеченность пользователей</td>\n",
       "      <td>1.00</td>\n",
       "    </tr>\n",
       "  </tbody>\n",
       "</table>\n",
       "</div>"
      ],
      "text/plain": [
       "                                                                                                     hypothesis  \\\n",
       "8                                                       Запустить акцию, дающую скидку на товар в день рождения   \n",
       "0            Добавить два новых канала привлечения трафика, что позволит привлекать на 30% больше пользователей   \n",
       "7              Добавить форму подписки на все основные страницы, чтобы собрать базу клиентов для email-рассылок   \n",
       "6          Показать на главной странице баннеры с актуальными акциями и распродажами, чтобы увеличить конверсию   \n",
       "2  Добавить блоки рекомендаций товаров на сайт интернет магазина, чтобы повысить конверсию и средний чек заказа   \n",
       "1                                     Запустить собственную службу доставки, что сократит срок доставки заказов   \n",
       "5                      Добавить страницу отзывов клиентов о магазине, что позволит увеличить количество заказов   \n",
       "3           Изменить структура категорий, что увеличит конверсию, т.к. пользователи быстрее найдут нужный товар   \n",
       "4                              Изменить цвет фона главной страницы, чтобы увеличить вовлеченность пользователей   \n",
       "\n",
       "     ice  \n",
       "8  16.20  \n",
       "0  13.33  \n",
       "7  11.20  \n",
       "6   8.00  \n",
       "2   7.00  \n",
       "1   2.00  \n",
       "5   1.33  \n",
       "3   1.12  \n",
       "4   1.00  "
      ]
     },
     "execution_count": 15,
     "metadata": {},
     "output_type": "execute_result"
    }
   ],
   "source": [
    "data['ice'] = ((data['impact'] * data['confidence']) / data['efforts']).round(2)\n",
    "data[['hypothesis', 'ice']].sort_values(by='ice', ascending=False)"
   ]
  },
  {
   "cell_type": "markdown",
   "metadata": {},
   "source": [
    "Самые перспективные гипотезы по **ICE**:\n",
    "\n",
    "* Запустить акцию, дающую скидку на товар в день рождения\n",
    "* Добавить два новых канала привлечения трафика, что позволит привлекать на 30% больше пользователей\t\n",
    "* Добавить форму подписки на все основные страницы, чтобы собрать базу клиентов для email-рассылок\t"
   ]
  },
  {
   "cell_type": "markdown",
   "metadata": {},
   "source": [
    "### Примениm фреймворк RICE для приоритизации гипотез и отсортируем их по убыванию приоритета."
   ]
  },
  {
   "cell_type": "code",
   "execution_count": 16,
   "metadata": {},
   "outputs": [
    {
     "data": {
      "text/html": [
       "<div>\n",
       "<style scoped>\n",
       "    .dataframe tbody tr th:only-of-type {\n",
       "        vertical-align: middle;\n",
       "    }\n",
       "\n",
       "    .dataframe tbody tr th {\n",
       "        vertical-align: top;\n",
       "    }\n",
       "\n",
       "    .dataframe thead th {\n",
       "        text-align: right;\n",
       "    }\n",
       "</style>\n",
       "<table border=\"1\" class=\"dataframe\">\n",
       "  <thead>\n",
       "    <tr style=\"text-align: right;\">\n",
       "      <th></th>\n",
       "      <th>hypothesis</th>\n",
       "      <th>rice</th>\n",
       "    </tr>\n",
       "  </thead>\n",
       "  <tbody>\n",
       "    <tr>\n",
       "      <th>7</th>\n",
       "      <td>Добавить форму подписки на все основные страницы, чтобы собрать базу клиентов для email-рассылок</td>\n",
       "      <td>112.0</td>\n",
       "    </tr>\n",
       "    <tr>\n",
       "      <th>2</th>\n",
       "      <td>Добавить блоки рекомендаций товаров на сайт интернет магазина, чтобы повысить конверсию и средний чек заказа</td>\n",
       "      <td>56.0</td>\n",
       "    </tr>\n",
       "    <tr>\n",
       "      <th>0</th>\n",
       "      <td>Добавить два новых канала привлечения трафика, что позволит привлекать на 30% больше пользователей</td>\n",
       "      <td>40.0</td>\n",
       "    </tr>\n",
       "    <tr>\n",
       "      <th>6</th>\n",
       "      <td>Показать на главной странице баннеры с актуальными акциями и распродажами, чтобы увеличить конверсию</td>\n",
       "      <td>40.0</td>\n",
       "    </tr>\n",
       "    <tr>\n",
       "      <th>8</th>\n",
       "      <td>Запустить акцию, дающую скидку на товар в день рождения</td>\n",
       "      <td>16.2</td>\n",
       "    </tr>\n",
       "    <tr>\n",
       "      <th>3</th>\n",
       "      <td>Изменить структура категорий, что увеличит конверсию, т.к. пользователи быстрее найдут нужный товар</td>\n",
       "      <td>9.0</td>\n",
       "    </tr>\n",
       "    <tr>\n",
       "      <th>1</th>\n",
       "      <td>Запустить собственную службу доставки, что сократит срок доставки заказов</td>\n",
       "      <td>4.0</td>\n",
       "    </tr>\n",
       "    <tr>\n",
       "      <th>5</th>\n",
       "      <td>Добавить страницу отзывов клиентов о магазине, что позволит увеличить количество заказов</td>\n",
       "      <td>4.0</td>\n",
       "    </tr>\n",
       "    <tr>\n",
       "      <th>4</th>\n",
       "      <td>Изменить цвет фона главной страницы, чтобы увеличить вовлеченность пользователей</td>\n",
       "      <td>3.0</td>\n",
       "    </tr>\n",
       "  </tbody>\n",
       "</table>\n",
       "</div>"
      ],
      "text/plain": [
       "                                                                                                     hypothesis  \\\n",
       "7              Добавить форму подписки на все основные страницы, чтобы собрать базу клиентов для email-рассылок   \n",
       "2  Добавить блоки рекомендаций товаров на сайт интернет магазина, чтобы повысить конверсию и средний чек заказа   \n",
       "0            Добавить два новых канала привлечения трафика, что позволит привлекать на 30% больше пользователей   \n",
       "6          Показать на главной странице баннеры с актуальными акциями и распродажами, чтобы увеличить конверсию   \n",
       "8                                                       Запустить акцию, дающую скидку на товар в день рождения   \n",
       "3           Изменить структура категорий, что увеличит конверсию, т.к. пользователи быстрее найдут нужный товар   \n",
       "1                                     Запустить собственную службу доставки, что сократит срок доставки заказов   \n",
       "5                      Добавить страницу отзывов клиентов о магазине, что позволит увеличить количество заказов   \n",
       "4                              Изменить цвет фона главной страницы, чтобы увеличить вовлеченность пользователей   \n",
       "\n",
       "    rice  \n",
       "7  112.0  \n",
       "2   56.0  \n",
       "0   40.0  \n",
       "6   40.0  \n",
       "8   16.2  \n",
       "3    9.0  \n",
       "1    4.0  \n",
       "5    4.0  \n",
       "4    3.0  "
      ]
     },
     "execution_count": 16,
     "metadata": {},
     "output_type": "execute_result"
    }
   ],
   "source": [
    "data['rice'] = (data['reach'] * data['impact'] * data['confidence']) / data['efforts']\n",
    "data[['hypothesis','rice']].sort_values(by='rice', ascending=False)"
   ]
  },
  {
   "cell_type": "markdown",
   "metadata": {},
   "source": [
    "Самые перспективные гипотезы по **RICE**:\n",
    "\n",
    "* Добавить форму подписки на все основные страницы, чтобы собрать базу клиентов для email-рассылок\t\n",
    "* Добавить блоки рекомендаций товаров на сайт интернет магазина, чтобы повысить конверсию и средний чек заказа\t\n",
    "* Добавить два новых канала привлечения трафика, что позволит привлекать на 30% больше пользователей"
   ]
  },
  {
   "cell_type": "markdown",
   "metadata": {},
   "source": [
    "### Анализ изменения приоритизация гипотез при применении RICE вместо ICE. "
   ]
  },
  {
   "cell_type": "code",
   "execution_count": 17,
   "metadata": {},
   "outputs": [
    {
     "data": {
      "text/html": [
       "<div>\n",
       "<style scoped>\n",
       "    .dataframe tbody tr th:only-of-type {\n",
       "        vertical-align: middle;\n",
       "    }\n",
       "\n",
       "    .dataframe tbody tr th {\n",
       "        vertical-align: top;\n",
       "    }\n",
       "\n",
       "    .dataframe thead th {\n",
       "        text-align: right;\n",
       "    }\n",
       "</style>\n",
       "<table border=\"1\" class=\"dataframe\">\n",
       "  <thead>\n",
       "    <tr style=\"text-align: right;\">\n",
       "      <th></th>\n",
       "      <th>hypothesis</th>\n",
       "      <th>ice</th>\n",
       "      <th>rice</th>\n",
       "    </tr>\n",
       "  </thead>\n",
       "  <tbody>\n",
       "    <tr>\n",
       "      <th>0</th>\n",
       "      <td>Добавить два новых канала привлечения трафика, что позволит привлекать на 30% больше пользователей</td>\n",
       "      <td>13.33</td>\n",
       "      <td>40.0</td>\n",
       "    </tr>\n",
       "    <tr>\n",
       "      <th>1</th>\n",
       "      <td>Запустить собственную службу доставки, что сократит срок доставки заказов</td>\n",
       "      <td>2.00</td>\n",
       "      <td>4.0</td>\n",
       "    </tr>\n",
       "    <tr>\n",
       "      <th>2</th>\n",
       "      <td>Добавить блоки рекомендаций товаров на сайт интернет магазина, чтобы повысить конверсию и средний чек заказа</td>\n",
       "      <td>7.00</td>\n",
       "      <td>56.0</td>\n",
       "    </tr>\n",
       "    <tr>\n",
       "      <th>3</th>\n",
       "      <td>Изменить структура категорий, что увеличит конверсию, т.к. пользователи быстрее найдут нужный товар</td>\n",
       "      <td>1.12</td>\n",
       "      <td>9.0</td>\n",
       "    </tr>\n",
       "    <tr>\n",
       "      <th>4</th>\n",
       "      <td>Изменить цвет фона главной страницы, чтобы увеличить вовлеченность пользователей</td>\n",
       "      <td>1.00</td>\n",
       "      <td>3.0</td>\n",
       "    </tr>\n",
       "    <tr>\n",
       "      <th>5</th>\n",
       "      <td>Добавить страницу отзывов клиентов о магазине, что позволит увеличить количество заказов</td>\n",
       "      <td>1.33</td>\n",
       "      <td>4.0</td>\n",
       "    </tr>\n",
       "    <tr>\n",
       "      <th>6</th>\n",
       "      <td>Показать на главной странице баннеры с актуальными акциями и распродажами, чтобы увеличить конверсию</td>\n",
       "      <td>8.00</td>\n",
       "      <td>40.0</td>\n",
       "    </tr>\n",
       "    <tr>\n",
       "      <th>7</th>\n",
       "      <td>Добавить форму подписки на все основные страницы, чтобы собрать базу клиентов для email-рассылок</td>\n",
       "      <td>11.20</td>\n",
       "      <td>112.0</td>\n",
       "    </tr>\n",
       "    <tr>\n",
       "      <th>8</th>\n",
       "      <td>Запустить акцию, дающую скидку на товар в день рождения</td>\n",
       "      <td>16.20</td>\n",
       "      <td>16.2</td>\n",
       "    </tr>\n",
       "  </tbody>\n",
       "</table>\n",
       "</div>"
      ],
      "text/plain": [
       "                                                                                                     hypothesis  \\\n",
       "0            Добавить два новых канала привлечения трафика, что позволит привлекать на 30% больше пользователей   \n",
       "1                                     Запустить собственную службу доставки, что сократит срок доставки заказов   \n",
       "2  Добавить блоки рекомендаций товаров на сайт интернет магазина, чтобы повысить конверсию и средний чек заказа   \n",
       "3           Изменить структура категорий, что увеличит конверсию, т.к. пользователи быстрее найдут нужный товар   \n",
       "4                              Изменить цвет фона главной страницы, чтобы увеличить вовлеченность пользователей   \n",
       "5                      Добавить страницу отзывов клиентов о магазине, что позволит увеличить количество заказов   \n",
       "6          Показать на главной странице баннеры с актуальными акциями и распродажами, чтобы увеличить конверсию   \n",
       "7              Добавить форму подписки на все основные страницы, чтобы собрать базу клиентов для email-рассылок   \n",
       "8                                                       Запустить акцию, дающую скидку на товар в день рождения   \n",
       "\n",
       "     ice   rice  \n",
       "0  13.33   40.0  \n",
       "1   2.00    4.0  \n",
       "2   7.00   56.0  \n",
       "3   1.12    9.0  \n",
       "4   1.00    3.0  \n",
       "5   1.33    4.0  \n",
       "6   8.00   40.0  \n",
       "7  11.20  112.0  \n",
       "8  16.20   16.2  "
      ]
     },
     "execution_count": 17,
     "metadata": {},
     "output_type": "execute_result"
    }
   ],
   "source": [
    "data[['hypothesis', 'ice', 'rice']]"
   ]
  },
  {
   "cell_type": "markdown",
   "metadata": {},
   "source": [
    "По фреймворку **ICE** наибольшую оценку имели гпиотезы 8,0 и 7. После применения фреймворка **RICE** приоритеты изменились на гипотезы 7,2 и 0. Это объясняется тем, что в случае фреймворка **ICE** в отличие от **RICE** мы не учитывали охват изменений, тогда как это важная составляющая оценки гипотез.\n",
    "\n",
    "В нашем случае наиболее приоритетными гипотезами будут 7, 2, 0."
   ]
  },
  {
   "cell_type": "markdown",
   "metadata": {},
   "source": [
    "## Анализ A/B-теста"
   ]
  },
  {
   "cell_type": "markdown",
   "metadata": {},
   "source": [
    "### График кумулятивной выручки по группам."
   ]
  },
  {
   "cell_type": "markdown",
   "metadata": {},
   "source": [
    "Создадим массив уникальных пар значений дат и групп теста методом `drop_duplicates()`:"
   ]
  },
  {
   "cell_type": "code",
   "execution_count": 18,
   "metadata": {},
   "outputs": [],
   "source": [
    "# создаем массив уникальных пар значений дат и групп теста\n",
    "datesGroups = orders[['date','group']].drop_duplicates() "
   ]
  },
  {
   "cell_type": "code",
   "execution_count": 19,
   "metadata": {},
   "outputs": [],
   "source": [
    "orders.rename(columns={'transactionId': 'orderId', 'visitorId': 'userId'}, inplace=True) # переименуем названия столбцов"
   ]
  },
  {
   "cell_type": "code",
   "execution_count": 20,
   "metadata": {},
   "outputs": [
    {
     "data": {
      "text/html": [
       "<div>\n",
       "<style scoped>\n",
       "    .dataframe tbody tr th:only-of-type {\n",
       "        vertical-align: middle;\n",
       "    }\n",
       "\n",
       "    .dataframe tbody tr th {\n",
       "        vertical-align: top;\n",
       "    }\n",
       "\n",
       "    .dataframe thead th {\n",
       "        text-align: right;\n",
       "    }\n",
       "</style>\n",
       "<table border=\"1\" class=\"dataframe\">\n",
       "  <thead>\n",
       "    <tr style=\"text-align: right;\">\n",
       "      <th></th>\n",
       "      <th>orderId</th>\n",
       "      <th>userId</th>\n",
       "      <th>date</th>\n",
       "      <th>revenue</th>\n",
       "      <th>group</th>\n",
       "    </tr>\n",
       "  </thead>\n",
       "  <tbody>\n",
       "    <tr>\n",
       "      <th>0</th>\n",
       "      <td>3667963787</td>\n",
       "      <td>3312258926</td>\n",
       "      <td>2019-08-15</td>\n",
       "      <td>1650</td>\n",
       "      <td>B</td>\n",
       "    </tr>\n",
       "    <tr>\n",
       "      <th>1</th>\n",
       "      <td>2804400009</td>\n",
       "      <td>3642806036</td>\n",
       "      <td>2019-08-15</td>\n",
       "      <td>730</td>\n",
       "      <td>B</td>\n",
       "    </tr>\n",
       "    <tr>\n",
       "      <th>2</th>\n",
       "      <td>2961555356</td>\n",
       "      <td>4069496402</td>\n",
       "      <td>2019-08-15</td>\n",
       "      <td>400</td>\n",
       "      <td>A</td>\n",
       "    </tr>\n",
       "    <tr>\n",
       "      <th>3</th>\n",
       "      <td>3797467345</td>\n",
       "      <td>1196621759</td>\n",
       "      <td>2019-08-15</td>\n",
       "      <td>9759</td>\n",
       "      <td>B</td>\n",
       "    </tr>\n",
       "    <tr>\n",
       "      <th>4</th>\n",
       "      <td>2282983706</td>\n",
       "      <td>2322279887</td>\n",
       "      <td>2019-08-15</td>\n",
       "      <td>2308</td>\n",
       "      <td>B</td>\n",
       "    </tr>\n",
       "    <tr>\n",
       "      <th>5</th>\n",
       "      <td>182168103</td>\n",
       "      <td>935554773</td>\n",
       "      <td>2019-08-15</td>\n",
       "      <td>2210</td>\n",
       "      <td>B</td>\n",
       "    </tr>\n",
       "    <tr>\n",
       "      <th>6</th>\n",
       "      <td>398296753</td>\n",
       "      <td>2900797465</td>\n",
       "      <td>2019-08-15</td>\n",
       "      <td>1860</td>\n",
       "      <td>B</td>\n",
       "    </tr>\n",
       "    <tr>\n",
       "      <th>7</th>\n",
       "      <td>2626614568</td>\n",
       "      <td>78758296</td>\n",
       "      <td>2019-08-15</td>\n",
       "      <td>1044</td>\n",
       "      <td>A</td>\n",
       "    </tr>\n",
       "    <tr>\n",
       "      <th>8</th>\n",
       "      <td>1576988021</td>\n",
       "      <td>295230930</td>\n",
       "      <td>2019-08-15</td>\n",
       "      <td>13710</td>\n",
       "      <td>A</td>\n",
       "    </tr>\n",
       "    <tr>\n",
       "      <th>9</th>\n",
       "      <td>1506739906</td>\n",
       "      <td>1882260405</td>\n",
       "      <td>2019-08-15</td>\n",
       "      <td>1855</td>\n",
       "      <td>B</td>\n",
       "    </tr>\n",
       "  </tbody>\n",
       "</table>\n",
       "</div>"
      ],
      "text/plain": [
       "      orderId      userId       date  revenue group\n",
       "0  3667963787  3312258926 2019-08-15     1650     B\n",
       "1  2804400009  3642806036 2019-08-15      730     B\n",
       "2  2961555356  4069496402 2019-08-15      400     A\n",
       "3  3797467345  1196621759 2019-08-15     9759     B\n",
       "4  2282983706  2322279887 2019-08-15     2308     B\n",
       "5   182168103   935554773 2019-08-15     2210     B\n",
       "6   398296753  2900797465 2019-08-15     1860     B\n",
       "7  2626614568    78758296 2019-08-15     1044     A\n",
       "8  1576988021   295230930 2019-08-15    13710     A\n",
       "9  1506739906  1882260405 2019-08-15     1855     B"
      ]
     },
     "execution_count": 20,
     "metadata": {},
     "output_type": "execute_result"
    }
   ],
   "source": [
    "orders.head(10)"
   ]
  },
  {
   "cell_type": "markdown",
   "metadata": {},
   "source": [
    "Создадим таблицу ordersAggregated, содержащую:\n",
    "* дату\n",
    "* группу A/B-теста\n",
    "* число уникальных заказов в группе теста по указанную дату включительно\n",
    "* число уникальных пользователей, совершивших хотя бы 1 заказ в группе теста по указанную дату включительно\n",
    "* суммарную выручку заказов в группе теста по указанную дату включительно"
   ]
  },
  {
   "cell_type": "code",
   "execution_count": 21,
   "metadata": {},
   "outputs": [],
   "source": [
    "ordersAggregated = datesGroups.apply(\n",
    "    lambda x: orders[\n",
    "        np.logical_and(\n",
    "            orders['date'] <= x['date'], orders['group'] == x['group']\n",
    "        )\n",
    "    ].agg(\n",
    "        {\n",
    "            'date' : 'max',\n",
    "            'group' : 'max',\n",
    "            'orderId' : 'nunique',\n",
    "            'userId' : 'nunique',\n",
    "            'revenue' : 'sum'\n",
    "        }\n",
    "    ), axis=1\n",
    ").sort_values(by=['date','group'])"
   ]
  },
  {
   "cell_type": "markdown",
   "metadata": {},
   "source": [
    "Создадим таблицу visitorsAggregated, содержащую:\n",
    "\n",
    "* дату\n",
    "* группу A/B-теста\n",
    "* количество уникальных посетителей в группе теста по указанную дату включительно"
   ]
  },
  {
   "cell_type": "code",
   "execution_count": 22,
   "metadata": {},
   "outputs": [],
   "source": [
    "visitorsAggregated = datesGroups.apply(\n",
    "    lambda x: visitors[\n",
    "        np.logical_and(\n",
    "            visitors['date'] <= x['date'], visitors['group'] == x['group']\n",
    "        )\n",
    "    ].agg(\n",
    "        {\n",
    "            'date' : 'max',\n",
    "            'group' : 'max',\n",
    "            'visitors' : 'sum'\n",
    "        }\n",
    "    ), axis=1\n",
    ").sort_values(by=['date','group'])"
   ]
  },
  {
   "cell_type": "markdown",
   "metadata": {},
   "source": [
    "Объединим обе таблицы в одну с понятными названиями столбцов"
   ]
  },
  {
   "cell_type": "code",
   "execution_count": 23,
   "metadata": {},
   "outputs": [
    {
     "data": {
      "text/html": [
       "<div>\n",
       "<style scoped>\n",
       "    .dataframe tbody tr th:only-of-type {\n",
       "        vertical-align: middle;\n",
       "    }\n",
       "\n",
       "    .dataframe tbody tr th {\n",
       "        vertical-align: top;\n",
       "    }\n",
       "\n",
       "    .dataframe thead th {\n",
       "        text-align: right;\n",
       "    }\n",
       "</style>\n",
       "<table border=\"1\" class=\"dataframe\">\n",
       "  <thead>\n",
       "    <tr style=\"text-align: right;\">\n",
       "      <th></th>\n",
       "      <th>date</th>\n",
       "      <th>group</th>\n",
       "      <th>orders</th>\n",
       "      <th>buyers</th>\n",
       "      <th>revenue</th>\n",
       "      <th>visitors</th>\n",
       "    </tr>\n",
       "  </thead>\n",
       "  <tbody>\n",
       "    <tr>\n",
       "      <th>0</th>\n",
       "      <td>2019-08-01</td>\n",
       "      <td>A</td>\n",
       "      <td>24</td>\n",
       "      <td>20</td>\n",
       "      <td>148579</td>\n",
       "      <td>719</td>\n",
       "    </tr>\n",
       "    <tr>\n",
       "      <th>1</th>\n",
       "      <td>2019-08-01</td>\n",
       "      <td>B</td>\n",
       "      <td>21</td>\n",
       "      <td>20</td>\n",
       "      <td>101217</td>\n",
       "      <td>713</td>\n",
       "    </tr>\n",
       "    <tr>\n",
       "      <th>2</th>\n",
       "      <td>2019-08-02</td>\n",
       "      <td>A</td>\n",
       "      <td>44</td>\n",
       "      <td>38</td>\n",
       "      <td>242401</td>\n",
       "      <td>1338</td>\n",
       "    </tr>\n",
       "    <tr>\n",
       "      <th>3</th>\n",
       "      <td>2019-08-02</td>\n",
       "      <td>B</td>\n",
       "      <td>45</td>\n",
       "      <td>43</td>\n",
       "      <td>266748</td>\n",
       "      <td>1294</td>\n",
       "    </tr>\n",
       "    <tr>\n",
       "      <th>4</th>\n",
       "      <td>2019-08-03</td>\n",
       "      <td>A</td>\n",
       "      <td>68</td>\n",
       "      <td>62</td>\n",
       "      <td>354874</td>\n",
       "      <td>1845</td>\n",
       "    </tr>\n",
       "  </tbody>\n",
       "</table>\n",
       "</div>"
      ],
      "text/plain": [
       "        date group  orders  buyers  revenue  visitors\n",
       "0 2019-08-01     A      24      20   148579       719\n",
       "1 2019-08-01     B      21      20   101217       713\n",
       "2 2019-08-02     A      44      38   242401      1338\n",
       "3 2019-08-02     B      45      43   266748      1294\n",
       "4 2019-08-03     A      68      62   354874      1845"
      ]
     },
     "execution_count": 23,
     "metadata": {},
     "output_type": "execute_result"
    }
   ],
   "source": [
    "# объединяем кумулятивные данные в одной таблице и присваиваем ее столбцам понятные названия\n",
    "cumulativeData = ordersAggregated.merge(\n",
    "    visitorsAggregated,\n",
    "    left_on=['date', 'group'],\n",
    "    right_on=['date', 'group']\n",
    ")\n",
    "cumulativeData.columns = ['date', 'group', 'orders', 'buyers', 'revenue', 'visitors']\n",
    "\n",
    "cumulativeData.head(5)"
   ]
  },
  {
   "cell_type": "markdown",
   "metadata": {},
   "source": [
    "Построим графики кумулятивной выручки по дням и группам A/B-тестирования"
   ]
  },
  {
   "cell_type": "code",
   "execution_count": 24,
   "metadata": {},
   "outputs": [
    {
     "data": {
      "image/png": "[encoded data removed]",
      "text/plain": [
       "<Figure size 864x576 with 1 Axes>"
      ]
     },
     "metadata": {
      "needs_background": "light"
     },
     "output_type": "display_data"
    }
   ],
   "source": [
    "# датафрейм с кумулятивным количеством заказов и кумулятивной выручкой по дням в группе А и В\n",
    "cumulativeRevenueA = cumulativeData[cumulativeData['group']=='A'][['date','revenue', 'orders']]\n",
    "cumulativeRevenueB = cumulativeData[cumulativeData['group']=='B'][['date','revenue', 'orders']]\n",
    "\n",
    "# Строим график выручки группы А и В\n",
    "plt.figure(figsize=(12, 8))\n",
    "plt.plot(cumulativeRevenueA['date'], cumulativeRevenueA['revenue'], label='A')\n",
    "plt.plot(cumulativeRevenueB['date'], cumulativeRevenueB['revenue'], label='B')\n",
    "plt.xticks(rotation=45)\n",
    "plt.legend() \n",
    "plt.title('Кумулятивная выручка по группам')\n",
    "plt.xlabel('Дата, день')\n",
    "plt.ylabel('Выручка, дол'); "
   ]
  },
  {
   "cell_type": "markdown",
   "metadata": {},
   "source": [
    "Выручка почти равномерно увеличивается в течение всего теста. С самого начала группа **B** пошла вверх и лидировала весь тест. В середине августа видим довольно резкий скачок группы **B**. Это может сигнализировать о всплесках числа заказов, либо о появлении очень дорогих заказов в выборке."
   ]
  },
  {
   "cell_type": "markdown",
   "metadata": {},
   "source": [
    "### График кумулятивного среднего чека по группам."
   ]
  },
  {
   "cell_type": "markdown",
   "metadata": {},
   "source": [
    "Построим графики среднего чека по группам — разделим кумулятивную выручку на кумулятивное число заказов."
   ]
  },
  {
   "cell_type": "code",
   "execution_count": 25,
   "metadata": {},
   "outputs": [
    {
     "data": {
      "image/png": "[encoded data removed]",
      "text/plain": [
       "<Figure size 864x576 with 1 Axes>"
      ]
     },
     "metadata": {
      "needs_background": "light"
     },
     "output_type": "display_data"
    }
   ],
   "source": [
    "plt.figure(figsize=(12, 8))\n",
    "plt.plot(cumulativeRevenueA['date'], cumulativeRevenueA['revenue']/cumulativeRevenueA['orders'], label='A')\n",
    "plt.plot(cumulativeRevenueB['date'], cumulativeRevenueB['revenue']/cumulativeRevenueB['orders'], label='B')\n",
    "plt.title('Кумулятивный средний чек по группам')\n",
    "plt.xlabel('Дата, день')\n",
    "plt.ylabel('Средний чек, дол')\n",
    "plt.legend();"
   ]
  },
  {
   "cell_type": "markdown",
   "metadata": {},
   "source": [
    "Кумулятивное значение среднего чека довольно нестабильно. После 17 августа со средним чеком группы **В** что-то случилось, и он резко увеличился(стал свыше 10000 дол). Пик для группы **А** пришелся на 13 августа (7000-8000 дол), после чего немного снизился.\n",
    "\n",
    "Скорее всего, принимать решение по этой метрике рано. Или требуется дополнительный анализ выбросов."
   ]
  },
  {
   "cell_type": "markdown",
   "metadata": {},
   "source": [
    "### График относительного изменения кумулятивного среднего чека группы B к группе A."
   ]
  },
  {
   "cell_type": "markdown",
   "metadata": {},
   "source": [
    "Чтобы нагляднее увидеть разницу между группами, строят график относительного различия. Каждую его точку рассчитывают так: кумулятивная метрика группы **B** / кумулятивная метрика группы **A** - 1"
   ]
  },
  {
   "cell_type": "code",
   "execution_count": 26,
   "metadata": {},
   "outputs": [
    {
     "data": {
      "image/png": "[encoded data removed]",
      "text/plain": [
       "<Figure size 864x576 with 1 Axes>"
      ]
     },
     "metadata": {
      "needs_background": "light"
     },
     "output_type": "display_data"
    }
   ],
   "source": [
    "# собираем данные в одном датафрейме\n",
    "mergedCumulativeRevenue = cumulativeRevenueA.merge(\n",
    "    cumulativeRevenueB,\n",
    "    left_on='date',\n",
    "    right_on='date',\n",
    "    how='left',\n",
    "    suffixes=['A', 'B']\n",
    ")\n",
    "\n",
    "# cтроим отношение средних чеков\n",
    "plt.figure(figsize=(12, 8))\n",
    "plt.plot(mergedCumulativeRevenue['date'], (mergedCumulativeRevenue['revenueB']/mergedCumulativeRevenue['ordersB'])/(mergedCumulativeRevenue['revenueA']/mergedCumulativeRevenue['ordersA'])-1)\n",
    "plt.title('Относительное изменение кумулятивного среднего чека группы B к группе A')\n",
    "plt.xlabel('Дата, день')\n",
    "plt.ylabel('Отношение средних чеков')\n",
    "plt.axhline(y=0, color='black', linestyle='--'); # добавляем ось X\n"
   ]
  },
  {
   "cell_type": "markdown",
   "metadata": {},
   "source": [
    "Результаты теста значительно и резко менялись в несколько дат. Вероятно, в эти дни были соверешены большие заказы."
   ]
  },
  {
   "cell_type": "markdown",
   "metadata": {},
   "source": [
    "### График кумулятивной конверсии по группам."
   ]
  },
  {
   "cell_type": "code",
   "execution_count": 27,
   "metadata": {},
   "outputs": [
    {
     "data": {
      "image/png": "[encoded data removed]",
      "text/plain": [
       "<Figure size 864x576 with 1 Axes>"
      ]
     },
     "metadata": {
      "needs_background": "light"
     },
     "output_type": "display_data"
    }
   ],
   "source": [
    "# считаем кумулятивную конверсию\n",
    "cumulativeData['conversion'] = cumulativeData['orders']/cumulativeData['visitors']\n",
    "\n",
    "# отделяем данные по группе A и В\n",
    "cumulativeDataA = cumulativeData[cumulativeData['group']=='A']\n",
    "cumulativeDataB = cumulativeData[cumulativeData['group']=='B']\n",
    "\n",
    "# строим графики\n",
    "plt.figure(figsize=(12, 8))\n",
    "plt.plot(cumulativeDataA['date'], cumulativeDataA['conversion'], label='A')\n",
    "plt.plot(cumulativeDataB['date'], cumulativeDataB['conversion'], label='B')\n",
    "plt.title(\"Кумулятивная конверсия по группам\")\n",
    "plt.xlabel('Дата, день')\n",
    "plt.ylabel('Конверсия')\n",
    "plt.legend();"
   ]
  },
  {
   "cell_type": "markdown",
   "metadata": {},
   "source": [
    "В начале теста группа **А** имела большую конверсию, но после чуть упала и выровнялась до уровня 0.03. Группа **B** наоборот начала с 0.03 и стабилизировалась на значении 0.035."
   ]
  },
  {
   "cell_type": "markdown",
   "metadata": {},
   "source": [
    "### График относительного изменения кумулятивной конверсии группы B к группе A."
   ]
  },
  {
   "cell_type": "code",
   "execution_count": 28,
   "metadata": {},
   "outputs": [
    {
     "data": {
      "image/png": "[encoded data removed]",
      "text/plain": [
       "<Figure size 864x576 with 1 Axes>"
      ]
     },
     "metadata": {
      "needs_background": "light"
     },
     "output_type": "display_data"
    }
   ],
   "source": [
    "mergedCumulativeConversions = cumulativeDataA[['date','conversion']].merge(\n",
    "    cumulativeDataB[['date','conversion']],\n",
    "    left_on='date',\n",
    "    right_on='date',\n",
    "    how='left',\n",
    "    suffixes=['A', 'B']\n",
    ")\n",
    "\n",
    "plt.figure(figsize=(12, 8))\n",
    "plt.plot(mergedCumulativeConversions['date'], mergedCumulativeConversions['conversionB']/mergedCumulativeConversions['conversionA']-1, label=\"Относительный прирост конверсии группы B относительно группы A\")\n",
    "plt.legend()\n",
    "plt.xlabel('Дата, день')\n",
    "plt.ylabel('Значение прироста')\n",
    "\n",
    "plt.axhline(y=0, color='black', linestyle='--')\n",
    "plt.axhline(y=0.2, color='grey', linestyle='--');"
   ]
  },
  {
   "cell_type": "markdown",
   "metadata": {},
   "source": [
    "В начале теста группа **B** проигрывала группе **A**, затем вырвалась резко вперёд 2 августа, а потом упала вновь 3 августа. Затем она начала расти вплоть до 15 августа (прирост 20%), после чего стала немного падать до 0.1, но все равно выигрывает по сравнению с группой А. В целом отношение конверсии ещё не установилось, и сейчас делать какие-либо выводы по тесту нельзя. Впрочем, сперва стоит проанализировать аномалии, возможно, они изменят картину."
   ]
  },
  {
   "cell_type": "markdown",
   "metadata": {},
   "source": [
    "### Точечный график количества заказов по пользователям."
   ]
  },
  {
   "cell_type": "markdown",
   "metadata": {},
   "source": [
    "Найдем число заказов по пользователям — создадим датафрейм c двумя столбцами: `userId` и `orders`. Назовем его `ordersByUsers`."
   ]
  },
  {
   "cell_type": "code",
   "execution_count": 29,
   "metadata": {},
   "outputs": [
    {
     "data": {
      "text/html": [
       "<div>\n",
       "<style scoped>\n",
       "    .dataframe tbody tr th:only-of-type {\n",
       "        vertical-align: middle;\n",
       "    }\n",
       "\n",
       "    .dataframe tbody tr th {\n",
       "        vertical-align: top;\n",
       "    }\n",
       "\n",
       "    .dataframe thead th {\n",
       "        text-align: right;\n",
       "    }\n",
       "</style>\n",
       "<table border=\"1\" class=\"dataframe\">\n",
       "  <thead>\n",
       "    <tr style=\"text-align: right;\">\n",
       "      <th></th>\n",
       "      <th>userId</th>\n",
       "      <th>orders</th>\n",
       "    </tr>\n",
       "  </thead>\n",
       "  <tbody>\n",
       "    <tr>\n",
       "      <th>1023</th>\n",
       "      <td>4256040402</td>\n",
       "      <td>11</td>\n",
       "    </tr>\n",
       "    <tr>\n",
       "      <th>591</th>\n",
       "      <td>2458001652</td>\n",
       "      <td>11</td>\n",
       "    </tr>\n",
       "    <tr>\n",
       "      <th>569</th>\n",
       "      <td>2378935119</td>\n",
       "      <td>9</td>\n",
       "    </tr>\n",
       "    <tr>\n",
       "      <th>487</th>\n",
       "      <td>2038680547</td>\n",
       "      <td>8</td>\n",
       "    </tr>\n",
       "    <tr>\n",
       "      <th>44</th>\n",
       "      <td>199603092</td>\n",
       "      <td>5</td>\n",
       "    </tr>\n",
       "    <tr>\n",
       "      <th>744</th>\n",
       "      <td>3062433592</td>\n",
       "      <td>5</td>\n",
       "    </tr>\n",
       "    <tr>\n",
       "      <th>55</th>\n",
       "      <td>237748145</td>\n",
       "      <td>5</td>\n",
       "    </tr>\n",
       "    <tr>\n",
       "      <th>917</th>\n",
       "      <td>3803269165</td>\n",
       "      <td>5</td>\n",
       "    </tr>\n",
       "    <tr>\n",
       "      <th>299</th>\n",
       "      <td>1230306981</td>\n",
       "      <td>5</td>\n",
       "    </tr>\n",
       "    <tr>\n",
       "      <th>897</th>\n",
       "      <td>3717692402</td>\n",
       "      <td>5</td>\n",
       "    </tr>\n",
       "  </tbody>\n",
       "</table>\n",
       "</div>"
      ],
      "text/plain": [
       "          userId  orders\n",
       "1023  4256040402      11\n",
       "591   2458001652      11\n",
       "569   2378935119       9\n",
       "487   2038680547       8\n",
       "44     199603092       5\n",
       "744   3062433592       5\n",
       "55     237748145       5\n",
       "917   3803269165       5\n",
       "299   1230306981       5\n",
       "897   3717692402       5"
      ]
     },
     "execution_count": 29,
     "metadata": {},
     "output_type": "execute_result"
    }
   ],
   "source": [
    "ordersByUsers = (\n",
    "    orders.groupby('userId', as_index=False)\n",
    "    .agg({'orderId': 'nunique'})\n",
    ")\n",
    "\n",
    "ordersByUsers.columns = ['userId', 'orders']\n",
    "\n",
    "ordersByUsers.sort_values(by='orders', ascending=False).head(10)"
   ]
  },
  {
   "cell_type": "markdown",
   "metadata": {},
   "source": [
    "Самое большое количество заказов в месяц - 11 от двух пользователей."
   ]
  },
  {
   "cell_type": "code",
   "execution_count": 30,
   "metadata": {},
   "outputs": [
    {
     "data": {
      "image/png": "[encoded data removed]",
      "text/plain": [
       "<Figure size 864x576 with 1 Axes>"
      ]
     },
     "metadata": {
      "needs_background": "light"
     },
     "output_type": "display_data"
    }
   ],
   "source": [
    "# серия из чисел от 0 до количества наблюдений в ordersByUsers\n",
    "x_values = pd.Series(range(0, len(ordersByUsers)))\n",
    "\n",
    "plt.figure(figsize=(12, 8))\n",
    "plt.scatter(x_values, ordersByUsers['orders']) \n",
    "plt.title('Распределение числа заказов по пользователям')\n",
    "plt.xlabel('Число пользователей, чел')\n",
    "plt.ylabel('Число заказов, шт');"
   ]
  },
  {
   "cell_type": "markdown",
   "metadata": {},
   "source": [
    "Пользователей, заказавших более двух раз, не так мало. Они вполне могут быть аномальными."
   ]
  },
  {
   "cell_type": "markdown",
   "metadata": {},
   "source": [
    "### Расчет 95-й и 99-й перцентилей количества заказов на пользователя. Выбор границ для определения аномальных пользователей."
   ]
  },
  {
   "cell_type": "code",
   "execution_count": 31,
   "metadata": {},
   "outputs": [
    {
     "data": {
      "text/plain": [
       "array([2., 4.])"
      ]
     },
     "execution_count": 31,
     "metadata": {},
     "output_type": "execute_result"
    }
   ],
   "source": [
    "# Метод np.percentile('column', [percentile1, percentile2, percentile3]) находит перцентили.\n",
    "np.percentile(ordersByUsers['orders'], [95, 99])"
   ]
  },
  {
   "cell_type": "markdown",
   "metadata": {},
   "source": [
    "Не более 5% пользователей совершали больше двух заказов. И не более 1% пользователей - больше четырех заказов."
   ]
  },
  {
   "cell_type": "markdown",
   "metadata": {},
   "source": [
    "### Точечный график стоимостей заказов."
   ]
  },
  {
   "cell_type": "code",
   "execution_count": 32,
   "metadata": {},
   "outputs": [
    {
     "data": {
      "image/png": "[encoded data removed]",
      "text/plain": [
       "<Figure size 864x576 with 1 Axes>"
      ]
     },
     "metadata": {
      "needs_background": "light"
     },
     "output_type": "display_data"
    }
   ],
   "source": [
    "x_values = pd.Series(range(0, len(orders['revenue'])))\n",
    "\n",
    "plt.figure(figsize=(12, 8))\n",
    "plt.scatter(x_values, orders['revenue']) \n",
    "plt.title('Распределение стоимости заказов')\n",
    "plt.xlabel('Число пользователей, чел')\n",
    "plt.ylabel('Стоимость заказов, дол')\n",
    "plt.axis([0, 1200, 0, 130000]);"
   ]
  },
  {
   "cell_type": "markdown",
   "metadata": {},
   "source": [
    "Есть некоторое количество дорогих заказов. Есть выбросы в районе 40 000 - 100 000 дол."
   ]
  },
  {
   "cell_type": "markdown",
   "metadata": {},
   "source": [
    "### Расчет 95-й и 99-й перцентилей количества заказов. Выбор границ для определения аномальных пользователей."
   ]
  },
  {
   "cell_type": "code",
   "execution_count": 33,
   "metadata": {},
   "outputs": [
    {
     "data": {
      "text/plain": [
       "array([28000. , 58233.2])"
      ]
     },
     "execution_count": 33,
     "metadata": {},
     "output_type": "execute_result"
    }
   ],
   "source": [
    "np.percentile(orders['revenue'], [95, 99])"
   ]
  },
  {
   "cell_type": "markdown",
   "metadata": {},
   "source": [
    "Не более, чем у 5% заказов чек дороже 28000 дол. И не больше, чем у 1% заказов чек дороже 58233 дол."
   ]
  },
  {
   "cell_type": "markdown",
   "metadata": {},
   "source": [
    "### Расчет статистической значимости различий в конверсий между группами по «сырым» данным."
   ]
  },
  {
   "cell_type": "markdown",
   "metadata": {},
   "source": [
    "Проверять статистическую значимость различий в конверсии по сырым данным будем критерием Манна-Уитни.\n",
    "\n",
    "Сформулируем гипотезы:\n",
    "\n",
    "Н0 - различия в конверсиях между группами по «сырым» данным статистически не значимы\n",
    "\n",
    "Н1 - различия в конверсиях между группами по «сырым» данным статистически значимы\n",
    "\n",
    "Пороговое значение alpha примем за 5%.\n",
    "\n",
    "Начнем с подготовки данных."
   ]
  },
  {
   "cell_type": "code",
   "execution_count": 34,
   "metadata": {},
   "outputs": [
    {
     "data": {
      "text/html": [
       "<div>\n",
       "<style scoped>\n",
       "    .dataframe tbody tr th:only-of-type {\n",
       "        vertical-align: middle;\n",
       "    }\n",
       "\n",
       "    .dataframe tbody tr th {\n",
       "        vertical-align: top;\n",
       "    }\n",
       "\n",
       "    .dataframe thead th {\n",
       "        text-align: right;\n",
       "    }\n",
       "</style>\n",
       "<table border=\"1\" class=\"dataframe\">\n",
       "  <thead>\n",
       "    <tr style=\"text-align: right;\">\n",
       "      <th></th>\n",
       "      <th>date</th>\n",
       "      <th>ordersPerDateA</th>\n",
       "      <th>revenuePerDateA</th>\n",
       "      <th>ordersPerDateB</th>\n",
       "      <th>revenuePerDateB</th>\n",
       "      <th>ordersCummulativeA</th>\n",
       "      <th>revenueCummulativeA</th>\n",
       "      <th>ordersCummulativeB</th>\n",
       "      <th>revenueCummulativeB</th>\n",
       "      <th>visitorsPerDateA</th>\n",
       "      <th>visitorsPerDateB</th>\n",
       "      <th>visitorsCummulativeA</th>\n",
       "      <th>visitorsCummulativeB</th>\n",
       "    </tr>\n",
       "  </thead>\n",
       "  <tbody>\n",
       "    <tr>\n",
       "      <th>0</th>\n",
       "      <td>2019-08-01</td>\n",
       "      <td>24</td>\n",
       "      <td>148579</td>\n",
       "      <td>21</td>\n",
       "      <td>101217</td>\n",
       "      <td>24</td>\n",
       "      <td>148579</td>\n",
       "      <td>21</td>\n",
       "      <td>101217</td>\n",
       "      <td>719</td>\n",
       "      <td>713</td>\n",
       "      <td>719</td>\n",
       "      <td>713</td>\n",
       "    </tr>\n",
       "    <tr>\n",
       "      <th>1</th>\n",
       "      <td>2019-08-02</td>\n",
       "      <td>20</td>\n",
       "      <td>93822</td>\n",
       "      <td>24</td>\n",
       "      <td>165531</td>\n",
       "      <td>44</td>\n",
       "      <td>242401</td>\n",
       "      <td>45</td>\n",
       "      <td>266748</td>\n",
       "      <td>619</td>\n",
       "      <td>581</td>\n",
       "      <td>1338</td>\n",
       "      <td>1294</td>\n",
       "    </tr>\n",
       "    <tr>\n",
       "      <th>2</th>\n",
       "      <td>2019-08-03</td>\n",
       "      <td>24</td>\n",
       "      <td>112473</td>\n",
       "      <td>16</td>\n",
       "      <td>114248</td>\n",
       "      <td>68</td>\n",
       "      <td>354874</td>\n",
       "      <td>61</td>\n",
       "      <td>380996</td>\n",
       "      <td>507</td>\n",
       "      <td>509</td>\n",
       "      <td>1845</td>\n",
       "      <td>1803</td>\n",
       "    </tr>\n",
       "    <tr>\n",
       "      <th>3</th>\n",
       "      <td>2019-08-04</td>\n",
       "      <td>16</td>\n",
       "      <td>70825</td>\n",
       "      <td>17</td>\n",
       "      <td>108571</td>\n",
       "      <td>84</td>\n",
       "      <td>425699</td>\n",
       "      <td>78</td>\n",
       "      <td>489567</td>\n",
       "      <td>717</td>\n",
       "      <td>770</td>\n",
       "      <td>2562</td>\n",
       "      <td>2573</td>\n",
       "    </tr>\n",
       "    <tr>\n",
       "      <th>4</th>\n",
       "      <td>2019-08-05</td>\n",
       "      <td>25</td>\n",
       "      <td>124218</td>\n",
       "      <td>23</td>\n",
       "      <td>92428</td>\n",
       "      <td>109</td>\n",
       "      <td>549917</td>\n",
       "      <td>101</td>\n",
       "      <td>581995</td>\n",
       "      <td>756</td>\n",
       "      <td>707</td>\n",
       "      <td>3318</td>\n",
       "      <td>3280</td>\n",
       "    </tr>\n",
       "  </tbody>\n",
       "</table>\n",
       "</div>"
      ],
      "text/plain": [
       "        date  ordersPerDateA  revenuePerDateA  ordersPerDateB  \\\n",
       "0 2019-08-01              24           148579              21   \n",
       "1 2019-08-02              20            93822              24   \n",
       "2 2019-08-03              24           112473              16   \n",
       "3 2019-08-04              16            70825              17   \n",
       "4 2019-08-05              25           124218              23   \n",
       "\n",
       "   revenuePerDateB  ordersCummulativeA  revenueCummulativeA  \\\n",
       "0           101217                  24               148579   \n",
       "1           165531                  44               242401   \n",
       "2           114248                  68               354874   \n",
       "3           108571                  84               425699   \n",
       "4            92428                 109               549917   \n",
       "\n",
       "   ordersCummulativeB  revenueCummulativeB  visitorsPerDateA  \\\n",
       "0                  21               101217               719   \n",
       "1                  45               266748               619   \n",
       "2                  61               380996               507   \n",
       "3                  78               489567               717   \n",
       "4                 101               581995               756   \n",
       "\n",
       "   visitorsPerDateB  visitorsCummulativeA  visitorsCummulativeB  \n",
       "0               713                   719                   713  \n",
       "1               581                  1338                  1294  \n",
       "2               509                  1845                  1803  \n",
       "3               770                  2562                  2573  \n",
       "4               707                  3318                  3280  "
      ]
     },
     "execution_count": 34,
     "metadata": {},
     "output_type": "execute_result"
    }
   ],
   "source": [
    "visitorsADaily = visitors[visitors['group'] == 'A'][['date', 'visitors']]\n",
    "visitorsADaily.columns = ['date', 'visitorsPerDateA']\n",
    "\n",
    "visitorsACummulative = visitorsADaily.apply(\n",
    "    lambda x: visitorsADaily[visitorsADaily['date'] <= x['date']].agg(\n",
    "        {'date': 'max', 'visitorsPerDateA': 'sum'}\n",
    "    ),\n",
    "    axis=1,\n",
    ")\n",
    "visitorsACummulative.columns = ['date', 'visitorsCummulativeA']\n",
    "\n",
    "visitorsBDaily = visitors[visitors['group'] == 'B'][['date', 'visitors']]\n",
    "visitorsBDaily.columns = ['date', 'visitorsPerDateB']\n",
    "\n",
    "visitorsBCummulative = visitorsBDaily.apply(\n",
    "    lambda x: visitorsBDaily[visitorsBDaily['date'] <= x['date']].agg(\n",
    "        {'date': 'max', 'visitorsPerDateB': 'sum'}\n",
    "    ),\n",
    "    axis=1,\n",
    ")\n",
    "visitorsBCummulative.columns = ['date', 'visitorsCummulativeB']\n",
    "\n",
    "ordersADaily = (\n",
    "    orders[orders['group'] == 'A'][['date', 'orderId', 'userId', 'revenue']]\n",
    "    .groupby('date', as_index=False)\n",
    "    .agg({'orderId': pd.Series.nunique, 'revenue': 'sum'})\n",
    ")\n",
    "ordersADaily.columns = ['date', 'ordersPerDateA', 'revenuePerDateA']\n",
    "\n",
    "ordersACummulative = ordersADaily.apply(\n",
    "    lambda x: ordersADaily[ordersADaily['date'] <= x['date']].agg(\n",
    "        {'date': 'max', 'ordersPerDateA': 'sum', 'revenuePerDateA': 'sum'}\n",
    "    ),\n",
    "    axis=1,\n",
    ").sort_values(by=['date'])\n",
    "ordersACummulative.columns = [\n",
    "    'date',\n",
    "    'ordersCummulativeA',\n",
    "    'revenueCummulativeA',\n",
    "]\n",
    "\n",
    "ordersBDaily = (\n",
    "    orders[orders['group'] == 'B'][['date', 'orderId', 'userId', 'revenue']]\n",
    "    .groupby('date', as_index=False)\n",
    "    .agg({'orderId': pd.Series.nunique, 'revenue': 'sum'})\n",
    ")\n",
    "ordersBDaily.columns = ['date', 'ordersPerDateB', 'revenuePerDateB']\n",
    "\n",
    "ordersBCummulative = ordersBDaily.apply(\n",
    "    lambda x: ordersBDaily[ordersBDaily['date'] <= x['date']].agg(\n",
    "        {'date': 'max', 'ordersPerDateB': 'sum', 'revenuePerDateB': 'sum'}\n",
    "    ),\n",
    "    axis=1,\n",
    ").sort_values(by=['date'])\n",
    "ordersBCummulative.columns = [\n",
    "    'date',\n",
    "    'ordersCummulativeB',\n",
    "    'revenueCummulativeB',\n",
    "]\n",
    "\n",
    "data = (\n",
    "    ordersADaily.merge(\n",
    "        ordersBDaily, left_on='date', right_on='date', how='left'\n",
    "    )\n",
    "    .merge(ordersACummulative, left_on='date', right_on='date', how='left')\n",
    "    .merge(ordersBCummulative, left_on='date', right_on='date', how='left')\n",
    "    .merge(visitorsADaily, left_on='date', right_on='date', how='left')\n",
    "    .merge(visitorsBDaily, left_on='date', right_on='date', how='left')\n",
    "    .merge(visitorsACummulative, left_on='date', right_on='date', how='left')\n",
    "    .merge(visitorsBCummulative, left_on='date', right_on='date', how='left')\n",
    ")\n",
    "\n",
    "data.head(5)"
   ]
  },
  {
   "cell_type": "markdown",
   "metadata": {},
   "source": [
    "Названия столбцов данных:\n",
    "* date — дата;\n",
    "* ordersPerDateA — количество заказов в выбранную дату в группе A;\n",
    "* revenuePerDateA — суммарная выручка в выбранную дату в группе A;\n",
    "* ordersPerDateB — количество заказов в выбранную дату в группе B;\n",
    "* revenuePerDateB — суммарная выручка в выбранную дату в группе B;\n",
    "* ordersCummulativeA — суммарное число заказов до выбранной даты включительно в группе A;\n",
    "* revenueCummulativeA — суммарная выручка до выбранной даты включительно в группе A;\n",
    "* ordersCummulativeB — суммарное количество заказов до выбранной даты включительно в группе B;\n",
    "* revenueCummulativeB — суммарная выручка до выбранной даты включительно в группе B;\n",
    "* visitorsPerDateA — количество пользователей в выбранную дату в группе A;\n",
    "* visitorsPerDateB — количество пользователей в выбранную дату в группе B;\n",
    "* visitorsCummulativeA — количество пользователей до выбранной даты включительно в группе A;\n",
    "* visitorsCummulativeB — количество пользователей до выбранной даты включительно в группе B."
   ]
  },
  {
   "cell_type": "markdown",
   "metadata": {},
   "source": [
    "Создадим переменные ordersByUsersA и ordersByUsersB. В них для пользователей, которые заказывали хотя бы 1 раз, укажем число совершённых заказов."
   ]
  },
  {
   "cell_type": "code",
   "execution_count": 35,
   "metadata": {},
   "outputs": [],
   "source": [
    "ordersByUsersA = (\n",
    "    orders[orders['group'] == 'A']\n",
    "    .groupby('userId', as_index=False)\n",
    "    .agg({'orderId': pd.Series.nunique})\n",
    ")\n",
    "ordersByUsersA.columns = ['userId', 'orders']\n",
    "\n",
    "ordersByUsersB = (\n",
    "    orders[orders['group'] == 'B']\n",
    "    .groupby('userId', as_index=False)\n",
    "    .agg({'orderId': pd.Series.nunique})\n",
    ")\n",
    "ordersByUsersB.columns = ['userId', 'orders'] "
   ]
  },
  {
   "cell_type": "markdown",
   "metadata": {},
   "source": [
    "Объявим переменные sampleA и sampleB, в которых пользователям из разных групп будет соответствовать количество заказов. Тем, кто ничего не заказал, будут соответствовать нули. Это нужно, чтобы подготовить выборки к проверке критерием Манна-Уитни."
   ]
  },
  {
   "cell_type": "code",
   "execution_count": 36,
   "metadata": {},
   "outputs": [
    {
     "data": {
      "text/plain": [
       "'P-value по конверсии до очистки данных: 1.7%'"
      ]
     },
     "metadata": {},
     "output_type": "display_data"
    },
    {
     "data": {
      "text/plain": [
       "'Относительный прирост конверсии группы B: 13.8%'"
      ]
     },
     "metadata": {},
     "output_type": "display_data"
    }
   ],
   "source": [
    "sampleA = pd.concat(\n",
    "    [\n",
    "        ordersByUsersA['orders'],\n",
    "        pd.Series(\n",
    "            0,\n",
    "            index=np.arange(\n",
    "                data['visitorsPerDateA'].sum() - len(ordersByUsersA['orders'])\n",
    "            ),\n",
    "            name='orders',\n",
    "        ),\n",
    "    ],\n",
    "    axis=0,\n",
    ")\n",
    "\n",
    "sampleB = pd.concat(\n",
    "    [\n",
    "        ordersByUsersB['orders'],\n",
    "        pd.Series(\n",
    "            0,\n",
    "            index=np.arange(\n",
    "                data['visitorsPerDateB'].sum() - len(ordersByUsersB['orders'])\n",
    "            ),\n",
    "            name='orders',\n",
    "        ),\n",
    "    ],\n",
    "    axis=0,\n",
    ")\n",
    "\n",
    "display(\"P-value по конверсии до очистки данных: {0:.1%}\".format(stats.mannwhitneyu(sampleA, sampleB)[1]))\n",
    "\n",
    "display(\"Относительный прирост конверсии группы B: {0:.1%}\".format(sampleB.mean() / sampleA.mean() - 1))"
   ]
  },
  {
   "cell_type": "markdown",
   "metadata": {},
   "source": [
    "P-value значительно меньше 5%, поэтому нулевую гипотезу отвергаем. Анализ сырых данных показывает, что в конверсии между группами есть статистически значимые различия. Относительный прирост конверсии группы **B** к конверсии группы **А** равен 13%."
   ]
  },
  {
   "cell_type": "markdown",
   "metadata": {},
   "source": [
    "### Расчет статистической значимости различий в среднем чеке заказа между группами по «сырым» данным. "
   ]
  },
  {
   "cell_type": "markdown",
   "metadata": {},
   "source": [
    "Проверять статистическую значимость различий в среднем чеке заказа по сырым данным будем критерием Манна-Уитни.\n",
    "\n",
    "Сформулируем гипотезы:\n",
    "\n",
    "Н0 - различия в среднем чеке заказа между группами по «сырым» данным статистически не значимы\n",
    "\n",
    "Н1 - различия в среднем чеке заказа между группами по «сырым» данным статистически значимы\n",
    "\n",
    "Пороговое значение alpha примем за 5%."
   ]
  },
  {
   "cell_type": "code",
   "execution_count": 38,
   "metadata": {},
   "outputs": [
    {
     "data": {
      "text/plain": [
       "'P-value по среднему чеку до очистки данных: 72.9%'"
      ]
     },
     "metadata": {},
     "output_type": "display_data"
    },
    {
     "data": {
      "text/plain": [
       "'Относительный прирост среднего чека группы B к среднему чеку группы А до очистки данных: 25.9%'"
      ]
     },
     "metadata": {},
     "output_type": "display_data"
    }
   ],
   "source": [
    "display('P-value по среднему чеку до очистки данных: {0:.1%}'.format(stats.mannwhitneyu(orders[orders['group']=='A']['revenue'], orders[orders['group']=='B']['revenue'])[1]))\n",
    "display('Относительный прирост среднего чека группы B к среднему чеку группы А до очистки данных: {0:.1%}'.format(orders[orders['group']=='B']['revenue'].mean()/orders[orders['group']=='A']['revenue'].mean()-1))"
   ]
  },
  {
   "cell_type": "markdown",
   "metadata": {},
   "source": [
    "P-value больше 5% - статистически значимых различий в среднем чеке заказа между группами по «сырым» данным нет. Относительное различие среднего чека между группами 26%."
   ]
  },
  {
   "cell_type": "markdown",
   "metadata": {},
   "source": [
    "### Расчет статистической значимости различий в конверсии между группами по «очищенным» данным."
   ]
  },
  {
   "cell_type": "markdown",
   "metadata": {},
   "source": [
    "Проведем анализ анамалий.\n",
    "\n",
    "95-й и 99-й перцентили средних чеков равны 28000 и 58233.2 доллара.\n",
    "\n",
    "95-й и 99-й перцентили числа заказов на одного пользователя равны 2 и 4 заказам на пользователя.\n",
    "\n",
    "Примем за аномальных пользователей тех, кто совершил 4 заказа и более, или совершил заказ на сумму свыше 30 000 рублей.\n",
    "\n",
    "Так мы уберём 1% пользователей с наибольшим числом заказов и от 1% до 5% заказов с наибольшей стоимостью.\n",
    "\n",
    "Сделаем срезы пользователей с числом заказов 4 и более — usersWithManyOrders и пользователей, совершивших заказы дороже 30 000 — usersWithExpensiveOrders.\n",
    "\n",
    "Узнаем, сколько всего аномальных пользователей методом shape()."
   ]
  },
  {
   "cell_type": "code",
   "execution_count": 39,
   "metadata": {},
   "outputs": [
    {
     "data": {
      "text/plain": [
       "1099    148427295\n",
       "18      199603092\n",
       "928     204675465\n",
       "23      237748145\n",
       "684     358944393\n",
       "Name: userId, dtype: int64"
      ]
     },
     "metadata": {},
     "output_type": "display_data"
    },
    {
     "data": {
      "text/plain": [
       "(57,)"
      ]
     },
     "metadata": {},
     "output_type": "display_data"
    }
   ],
   "source": [
    "usersWithManyOrders = pd.concat(\n",
    "    [\n",
    "        ordersByUsersA[ordersByUsersA['orders'] > 3]['userId'],\n",
    "        ordersByUsersB[ordersByUsersB['orders'] > 3]['userId'],\n",
    "    ],\n",
    "    axis=0,\n",
    ")\n",
    "usersWithExpensiveOrders = orders[orders['revenue'] > 30000]['userId']\n",
    "abnormalUsers = (\n",
    "    pd.concat([usersWithManyOrders, usersWithExpensiveOrders], axis=0)\n",
    "    .drop_duplicates()\n",
    "    .sort_values()\n",
    ")\n",
    "display(abnormalUsers.head(5))\n",
    "display(abnormalUsers.shape)"
   ]
  },
  {
   "cell_type": "markdown",
   "metadata": {},
   "source": [
    "Всего 57 аномальных пользователя.\n",
    "\n",
    "Узнаем, как их действия повлияли на результаты теста. Посчитаем статистическую значимость различий в конверсии между группами теста по очищенным данным. Сначала подготовим выборки количества заказов по пользователям по группам теста.\n",
    "\n",
    "Сформулируем гипотезы\n",
    "\n",
    "Н0 - различия в конверсии между группами по «очищенным» данным статистически не значимы\n",
    "\n",
    "Н1 - различия в конверсии между группами по «очищенным» данным статистически значимы\n",
    "\n",
    "Пороговое значение alpha примем за 5%."
   ]
  },
  {
   "cell_type": "code",
   "execution_count": 40,
   "metadata": {},
   "outputs": [],
   "source": [
    "sampleAFiltered = pd.concat(\n",
    "    [\n",
    "        ordersByUsersA[\n",
    "            np.logical_not(ordersByUsersA['userId'].isin(abnormalUsers))\n",
    "        ]['orders'],\n",
    "        pd.Series(\n",
    "            0,\n",
    "            index=np.arange(\n",
    "                data['visitorsPerDateA'].sum() - len(ordersByUsersA['orders'])\n",
    "            ),\n",
    "            name='orders',\n",
    "        ),\n",
    "    ],\n",
    "    axis=0,\n",
    ")\n",
    "\n",
    "sampleBFiltered = pd.concat(\n",
    "    [\n",
    "        ordersByUsersB[\n",
    "            np.logical_not(ordersByUsersB['userId'].isin(abnormalUsers))\n",
    "        ]['orders'],\n",
    "        pd.Series(\n",
    "            0,\n",
    "            index=np.arange(\n",
    "                data['visitorsPerDateB'].sum() - len(ordersByUsersB['orders'])\n",
    "            ),\n",
    "            name='orders',\n",
    "        ),\n",
    "    ],\n",
    "    axis=0,\n",
    ")"
   ]
  },
  {
   "cell_type": "code",
   "execution_count": 41,
   "metadata": {},
   "outputs": [
    {
     "data": {
      "text/plain": [
       "'P-value по конверсии после очистки данных: 1.8%'"
      ]
     },
     "metadata": {},
     "output_type": "display_data"
    },
    {
     "data": {
      "text/plain": [
       "'Относительный прирост конверсии группы B к конверсии группы А после очистки данных: 14.8%'"
      ]
     },
     "metadata": {},
     "output_type": "display_data"
    }
   ],
   "source": [
    "display('P-value по конверсии после очистки данных: {0:.1%}'.format(stats.mannwhitneyu(sampleAFiltered, sampleBFiltered)[1]))\n",
    "display('Относительный прирост конверсии группы B к конверсии группы А после очистки данных: {0:.1%}'.format(sampleBFiltered.mean()/sampleAFiltered.mean()-1)) "
   ]
  },
  {
   "cell_type": "markdown",
   "metadata": {},
   "source": [
    "Как и в случае с сырыми данными, статистическая значимость достигнута. Группа **B** лучше группы **А**. Относительный прирост конверсии очищенной группы **B** к **А** увеличился на 2% и равен 15%"
   ]
  },
  {
   "cell_type": "markdown",
   "metadata": {},
   "source": [
    "### Расчет статистической значимости различий в среднем чеке заказа между группами по «очищенным» данным."
   ]
  },
  {
   "cell_type": "markdown",
   "metadata": {},
   "source": [
    "Сформулируем гипотезы\n",
    "\n",
    "Н0 - различия в среднем чеке заказа между группами по «очищенным» данным статистически не значимы\n",
    "\n",
    "Н1 - различия в среднем чеке заказа между группами по «очищенным» данным статистически значимы\n",
    "\n",
    "Пороговое значение alpha примем за 5%."
   ]
  },
  {
   "cell_type": "code",
   "execution_count": 42,
   "metadata": {},
   "outputs": [
    {
     "data": {
      "text/plain": [
       "'P-value по среднему чеку после очистки данных: 95.8%'"
      ]
     },
     "metadata": {},
     "output_type": "display_data"
    },
    {
     "data": {
      "text/plain": [
       "'Относительный прирост среднего чека группы B к среднему чеку группы А после очистки данных: -2.0%'"
      ]
     },
     "metadata": {},
     "output_type": "display_data"
    }
   ],
   "source": [
    "display(\n",
    "    'P-value по среднему чеку после очистки данных: {0:.1%}'.format(\n",
    "        stats.mannwhitneyu(\n",
    "            orders[\n",
    "                np.logical_and(\n",
    "                    orders['group'] == 'A',\n",
    "                    np.logical_not(orders['userId'].isin(abnormalUsers)),\n",
    "                )\n",
    "            ]['revenue'],\n",
    "            orders[\n",
    "                np.logical_and(\n",
    "                    orders['group'] == 'B',\n",
    "                    np.logical_not(orders['userId'].isin(abnormalUsers)),\n",
    "                )\n",
    "            ]['revenue'],\n",
    "        )[1]\n",
    "    )\n",
    ")\n",
    "\n",
    "display(\n",
    "    \"Относительный прирост среднего чека группы B к среднему чеку группы А после очистки данных: {0:.1%}\".format(\n",
    "        orders[\n",
    "            np.logical_and(\n",
    "                orders['group'] == 'B',\n",
    "                np.logical_not(orders['userId'].isin(abnormalUsers)),\n",
    "            )\n",
    "        ]['revenue'].mean()\n",
    "        / orders[\n",
    "            np.logical_and(\n",
    "                orders['group'] == 'A',\n",
    "                np.logical_not(orders['userId'].isin(abnormalUsers)),\n",
    "            )\n",
    "        ]['revenue'].mean()\n",
    "        - 1\n",
    "    )\n",
    ")"
   ]
  },
  {
   "cell_type": "markdown",
   "metadata": {},
   "source": [
    "Статистической значимости различия между средними чеками не появилось. P-value увеличился до 96%, а разница между сегментами стала -2%."
   ]
  },
  {
   "cell_type": "markdown",
   "metadata": {},
   "source": [
    "### Решение по результатам теста."
   ]
  },
  {
   "cell_type": "markdown",
   "metadata": {},
   "source": [
    "Из полученных результатов следует, что по среднему чеку статистической значимости не обнаружено, нужно остановить тест и зафиксировать победу группы **В**. Группа **B** статистически значимо лучше группы **A** по метрике конверсии, но различий в средних чеках нет. Так как задача стоит в эффективности увеличения выручки, нужно смотреть на конверсию. Выручка не всегда покажет положительную или отрицательную динамику, точнее сложно понять по выручке, без учета числа покупателей.\n",
    "\n",
    "Коверсия влияет на выручку, и поэтому раз конверсия в группе **В** значимо увеличилась, то и выручка увеличилась тоже. Даже с учетом того, что средний чек остался без изменений."
   ]
  },
  {
   "cell_type": "markdown",
   "metadata": {},
   "source": [
    "## Вывод"
   ]
  },
  {
   "cell_type": "markdown",
   "metadata": {},
   "source": [
    "В первой части проекта было изучено 9 гипотез и выполнена приоритизация с помощью фреймворков **ICE** и **RICE**. \n",
    "\n",
    "По фреймворку **ICE** наибольшую оценку имели гпиотезы:\n",
    "* \"Запустить акцию, дающую скидку на товар в день рождения\"\n",
    "* \"Добавить два новых канала привлечения трафика, что позволит привлекать на 30% больше пользователей\"\n",
    "* \"Добавить форму подписки на все основные страницы, чтобы собрать базу клиентов для email-рассылок\"\n",
    "\n",
    "После применения фреймворка **RICE** приоритеты изменились на гипотезы:\n",
    "* \"Добавить форму подписки на все основные страницы, чтобы собрать базу клиентов для email-рассылок\"\n",
    "* \"Добавить блоки рекомендаций товаров на сайт интернет магазина, чтобы повысить конверсию и средний чек заказа\"\n",
    "* \"Добавить два новых канала привлечения трафика, что позволит привлекать на 30% больше пользователей\"\n",
    "\n",
    "Это объясняется тем, что в случае фреймворка **ICE** в отличие от **RICE** мы не учитывали охват изменений, тогда как это важная составляющая оценки гипотез. В нашем случае наиболее приоритетными гипотезами будут по фреймворку **RICE**. \n",
    "\n",
    "Во второй части проекта выполнен анализ результатов AB-теста, который был проведен с целью увеличения выручки.\n",
    "\n",
    "Из полученных результатов следует, что по среднему чеку статистической значимости не обнаружено, нужно остановить тест и зафиксировать победу группы **В**. Группа **B** статистически значимо лучше группы **A** по метрике конверсии, но различий в средних чеках нет. Так как задача стоит в эффективности увеличения выручки, нужно смотреть на конверсию. Выручка не всегда покажет положительную или отрицательную динамику, точнее сложно понять по выручке, без учета числа покупателей.\n",
    "\n",
    "Коверсия влияет на выручку, и поэтому раз конверсия в группе **В** значимо увеличилась, то и выручка увеличилась тоже. Даже с учетом того, что средний чек остался без изменений."
   ]
  }
 ],
 "metadata": {
  "ExecuteTimeLog": [
   {
    "duration": 1256,
    "start_time": "2022-04-05T17:24:19.501Z"
   },
   {
    "duration": 16,
    "start_time": "2022-04-05T17:25:11.668Z"
   },
   {
    "duration": 11,
    "start_time": "2022-04-05T17:25:18.512Z"
   },
   {
    "duration": 11,
    "start_time": "2022-04-05T17:25:48.276Z"
   },
   {
    "duration": 8,
    "start_time": "2022-04-05T17:25:49.709Z"
   },
   {
    "duration": 11,
    "start_time": "2022-04-05T17:26:01.615Z"
   },
   {
    "duration": 10,
    "start_time": "2022-04-05T17:26:02.268Z"
   },
   {
    "duration": 10,
    "start_time": "2022-04-05T17:26:10.573Z"
   },
   {
    "duration": 8,
    "start_time": "2022-04-05T17:26:11.613Z"
   },
   {
    "duration": 3,
    "start_time": "2022-04-05T17:31:06.983Z"
   },
   {
    "duration": 7,
    "start_time": "2022-04-05T17:31:10.176Z"
   },
   {
    "duration": 87,
    "start_time": "2022-04-05T17:34:58.111Z"
   },
   {
    "duration": 13,
    "start_time": "2022-04-05T17:35:03.226Z"
   },
   {
    "duration": 10,
    "start_time": "2022-04-05T17:35:52.307Z"
   },
   {
    "duration": 11,
    "start_time": "2022-04-05T17:39:57.889Z"
   },
   {
    "duration": 11,
    "start_time": "2022-04-05T17:40:14.062Z"
   },
   {
    "duration": 11,
    "start_time": "2022-04-05T17:40:21.833Z"
   },
   {
    "duration": 11,
    "start_time": "2022-04-05T17:46:42.881Z"
   },
   {
    "duration": 12,
    "start_time": "2022-04-05T17:46:47.242Z"
   },
   {
    "duration": 9,
    "start_time": "2022-04-05T17:46:58.373Z"
   },
   {
    "duration": 43,
    "start_time": "2022-04-05T18:04:39.896Z"
   },
   {
    "duration": 13,
    "start_time": "2022-04-05T18:05:11.881Z"
   },
   {
    "duration": 9,
    "start_time": "2022-04-05T18:05:24.264Z"
   },
   {
    "duration": 11,
    "start_time": "2022-04-05T18:06:15.882Z"
   },
   {
    "duration": 10,
    "start_time": "2022-04-05T18:07:50.116Z"
   },
   {
    "duration": 9,
    "start_time": "2022-04-05T18:08:04.031Z"
   },
   {
    "duration": 10,
    "start_time": "2022-04-05T18:08:15.980Z"
   },
   {
    "duration": 7,
    "start_time": "2022-04-05T18:13:26.435Z"
   },
   {
    "duration": 7,
    "start_time": "2022-04-05T18:14:11.180Z"
   },
   {
    "duration": 7,
    "start_time": "2022-04-05T18:15:00.369Z"
   },
   {
    "duration": 6,
    "start_time": "2022-04-05T18:15:11.380Z"
   },
   {
    "duration": 3,
    "start_time": "2022-04-05T18:20:55.214Z"
   },
   {
    "duration": 3,
    "start_time": "2022-04-05T18:23:15.456Z"
   },
   {
    "duration": 7,
    "start_time": "2022-04-05T18:26:51.379Z"
   },
   {
    "duration": 4,
    "start_time": "2022-04-05T18:28:02.635Z"
   },
   {
    "duration": 4,
    "start_time": "2022-04-05T18:28:28.618Z"
   },
   {
    "duration": 8,
    "start_time": "2022-04-05T18:29:53.988Z"
   },
   {
    "duration": 1441,
    "start_time": "2022-04-06T17:20:36.366Z"
   },
   {
    "duration": 118,
    "start_time": "2022-04-06T17:20:37.809Z"
   },
   {
    "duration": 11,
    "start_time": "2022-04-06T17:20:37.928Z"
   },
   {
    "duration": 11,
    "start_time": "2022-04-06T17:20:37.940Z"
   },
   {
    "duration": 11,
    "start_time": "2022-04-06T17:20:37.952Z"
   },
   {
    "duration": 7,
    "start_time": "2022-04-06T17:20:37.964Z"
   },
   {
    "duration": 5,
    "start_time": "2022-04-06T17:20:37.972Z"
   },
   {
    "duration": 6,
    "start_time": "2022-04-06T17:20:37.978Z"
   },
   {
    "duration": 11,
    "start_time": "2022-04-06T17:20:37.985Z"
   },
   {
    "duration": 10,
    "start_time": "2022-04-06T17:20:37.998Z"
   },
   {
    "duration": 7,
    "start_time": "2022-04-06T17:20:38.009Z"
   },
   {
    "duration": 5,
    "start_time": "2022-04-06T17:20:38.017Z"
   },
   {
    "duration": 10,
    "start_time": "2022-04-06T17:20:38.024Z"
   },
   {
    "duration": 12,
    "start_time": "2022-04-06T17:20:38.035Z"
   },
   {
    "duration": 10,
    "start_time": "2022-04-06T17:20:38.048Z"
   },
   {
    "duration": 11,
    "start_time": "2022-04-06T17:20:38.059Z"
   },
   {
    "duration": 4,
    "start_time": "2022-04-06T17:20:44.544Z"
   },
   {
    "duration": 100,
    "start_time": "2022-04-06T17:23:20.188Z"
   },
   {
    "duration": 19,
    "start_time": "2022-04-06T17:24:13.116Z"
   },
   {
    "duration": 21,
    "start_time": "2022-04-06T17:26:20.403Z"
   },
   {
    "duration": 1095,
    "start_time": "2022-04-06T17:26:58.249Z"
   },
   {
    "duration": 102,
    "start_time": "2022-04-06T17:26:59.345Z"
   },
   {
    "duration": 10,
    "start_time": "2022-04-06T17:26:59.448Z"
   },
   {
    "duration": 7,
    "start_time": "2022-04-06T17:26:59.460Z"
   },
   {
    "duration": 11,
    "start_time": "2022-04-06T17:26:59.468Z"
   },
   {
    "duration": 11,
    "start_time": "2022-04-06T17:26:59.480Z"
   },
   {
    "duration": 5,
    "start_time": "2022-04-06T17:26:59.492Z"
   },
   {
    "duration": 7,
    "start_time": "2022-04-06T17:26:59.498Z"
   },
   {
    "duration": 10,
    "start_time": "2022-04-06T17:26:59.506Z"
   },
   {
    "duration": 6,
    "start_time": "2022-04-06T17:26:59.518Z"
   },
   {
    "duration": 6,
    "start_time": "2022-04-06T17:26:59.525Z"
   },
   {
    "duration": 4,
    "start_time": "2022-04-06T17:26:59.532Z"
   },
   {
    "duration": 46,
    "start_time": "2022-04-06T17:26:59.537Z"
   },
   {
    "duration": 11,
    "start_time": "2022-04-06T17:26:59.584Z"
   },
   {
    "duration": 11,
    "start_time": "2022-04-06T17:26:59.596Z"
   },
   {
    "duration": 11,
    "start_time": "2022-04-06T17:26:59.608Z"
   },
   {
    "duration": 7,
    "start_time": "2022-04-06T17:26:59.621Z"
   },
   {
    "duration": 119,
    "start_time": "2022-04-06T17:26:59.629Z"
   },
   {
    "duration": 9,
    "start_time": "2022-04-06T17:27:30.350Z"
   },
   {
    "duration": 3,
    "start_time": "2022-04-06T17:29:47.124Z"
   },
   {
    "duration": 8,
    "start_time": "2022-04-06T17:29:47.876Z"
   },
   {
    "duration": 146,
    "start_time": "2022-04-06T17:29:52.216Z"
   },
   {
    "duration": 8,
    "start_time": "2022-04-06T17:30:19.067Z"
   },
   {
    "duration": 104,
    "start_time": "2022-04-06T17:31:51.329Z"
   },
   {
    "duration": 245,
    "start_time": "2022-04-06T17:34:33.216Z"
   },
   {
    "duration": 207,
    "start_time": "2022-04-06T17:35:31.991Z"
   },
   {
    "duration": 138,
    "start_time": "2022-04-06T17:35:38.418Z"
   },
   {
    "duration": 285,
    "start_time": "2022-04-06T17:36:52.040Z"
   },
   {
    "duration": 242,
    "start_time": "2022-04-06T17:37:05.312Z"
   },
   {
    "duration": 156,
    "start_time": "2022-04-06T17:37:18.211Z"
   },
   {
    "duration": 166,
    "start_time": "2022-04-06T17:37:23.491Z"
   },
   {
    "duration": 84,
    "start_time": "2022-04-06T17:38:43.752Z"
   },
   {
    "duration": 183,
    "start_time": "2022-04-06T17:39:05.644Z"
   },
   {
    "duration": 248,
    "start_time": "2022-04-06T17:40:00.416Z"
   },
   {
    "duration": 12,
    "start_time": "2022-04-06T17:48:35.836Z"
   },
   {
    "duration": 188,
    "start_time": "2022-04-06T17:53:42.694Z"
   },
   {
    "duration": 270,
    "start_time": "2022-04-06T17:58:10.287Z"
   },
   {
    "duration": 272,
    "start_time": "2022-04-06T17:59:13.021Z"
   },
   {
    "duration": 261,
    "start_time": "2022-04-06T17:59:24.409Z"
   },
   {
    "duration": 210,
    "start_time": "2022-04-06T18:04:29.890Z"
   },
   {
    "duration": 203,
    "start_time": "2022-04-06T18:04:58.168Z"
   },
   {
    "duration": 199,
    "start_time": "2022-04-06T18:05:07.805Z"
   },
   {
    "duration": 278,
    "start_time": "2022-04-06T18:08:49.603Z"
   },
   {
    "duration": 272,
    "start_time": "2022-04-06T18:09:46.316Z"
   },
   {
    "duration": 11,
    "start_time": "2022-04-06T18:14:08.050Z"
   },
   {
    "duration": 8,
    "start_time": "2022-04-06T18:15:04.273Z"
   },
   {
    "duration": 8,
    "start_time": "2022-04-06T18:15:08.628Z"
   },
   {
    "duration": 6,
    "start_time": "2022-04-06T18:15:13.269Z"
   },
   {
    "duration": 10,
    "start_time": "2022-04-06T18:15:38.525Z"
   },
   {
    "duration": 106,
    "start_time": "2022-04-06T18:17:32.465Z"
   },
   {
    "duration": 204,
    "start_time": "2022-04-06T18:18:26.014Z"
   },
   {
    "duration": 4,
    "start_time": "2022-04-06T18:20:14.623Z"
   },
   {
    "duration": 145,
    "start_time": "2022-04-06T18:21:55.121Z"
   },
   {
    "duration": 142,
    "start_time": "2022-04-06T18:21:59.849Z"
   },
   {
    "duration": 140,
    "start_time": "2022-04-06T18:22:11.601Z"
   },
   {
    "duration": 4,
    "start_time": "2022-04-06T18:24:30.451Z"
   },
   {
    "duration": 867,
    "start_time": "2022-04-06T18:27:39.267Z"
   },
   {
    "duration": 197,
    "start_time": "2022-04-06T18:33:24.701Z"
   },
   {
    "duration": 1735,
    "start_time": "2022-04-06T18:48:56.081Z"
   },
   {
    "duration": 81,
    "start_time": "2022-04-06T18:48:57.819Z"
   },
   {
    "duration": 17,
    "start_time": "2022-04-06T18:48:57.902Z"
   },
   {
    "duration": 13,
    "start_time": "2022-04-06T18:48:57.922Z"
   },
   {
    "duration": 26,
    "start_time": "2022-04-06T18:48:57.938Z"
   },
   {
    "duration": 14,
    "start_time": "2022-04-06T18:48:57.966Z"
   },
   {
    "duration": 7,
    "start_time": "2022-04-06T18:48:57.983Z"
   },
   {
    "duration": 13,
    "start_time": "2022-04-06T18:48:57.992Z"
   },
   {
    "duration": 43,
    "start_time": "2022-04-06T18:48:58.007Z"
   },
   {
    "duration": 9,
    "start_time": "2022-04-06T18:48:58.055Z"
   },
   {
    "duration": 10,
    "start_time": "2022-04-06T18:48:58.066Z"
   },
   {
    "duration": 6,
    "start_time": "2022-04-06T18:48:58.079Z"
   },
   {
    "duration": 10,
    "start_time": "2022-04-06T18:48:58.087Z"
   },
   {
    "duration": 52,
    "start_time": "2022-04-06T18:48:58.099Z"
   },
   {
    "duration": 18,
    "start_time": "2022-04-06T18:48:58.153Z"
   },
   {
    "duration": 15,
    "start_time": "2022-04-06T18:48:58.173Z"
   },
   {
    "duration": 9,
    "start_time": "2022-04-06T18:48:58.190Z"
   },
   {
    "duration": 42,
    "start_time": "2022-04-06T18:48:58.201Z"
   },
   {
    "duration": 12,
    "start_time": "2022-04-06T18:48:58.245Z"
   },
   {
    "duration": 284,
    "start_time": "2022-04-06T18:48:58.259Z"
   },
   {
    "duration": 230,
    "start_time": "2022-04-06T18:48:58.545Z"
   },
   {
    "duration": 19,
    "start_time": "2022-04-06T18:48:58.778Z"
   },
   {
    "duration": 505,
    "start_time": "2022-04-06T18:48:58.799Z"
   },
   {
    "duration": 356,
    "start_time": "2022-04-06T18:48:59.306Z"
   },
   {
    "duration": 509,
    "start_time": "2022-04-06T18:48:59.664Z"
   },
   {
    "duration": 382,
    "start_time": "2022-04-06T18:49:00.175Z"
   },
   {
    "duration": 471,
    "start_time": "2022-04-06T18:49:00.559Z"
   },
   {
    "duration": 21,
    "start_time": "2022-04-06T18:49:01.035Z"
   },
   {
    "duration": 283,
    "start_time": "2022-04-06T18:49:01.058Z"
   },
   {
    "duration": 8,
    "start_time": "2022-04-06T18:49:01.343Z"
   },
   {
    "duration": 335,
    "start_time": "2022-04-06T18:49:01.353Z"
   },
   {
    "duration": 7,
    "start_time": "2022-04-06T18:49:01.690Z"
   },
   {
    "duration": 405,
    "start_time": "2022-04-06T18:49:01.700Z"
   },
   {
    "duration": 374,
    "start_time": "2022-04-06T18:49:02.108Z"
   },
   {
    "duration": 14,
    "start_time": "2022-04-06T18:49:21.529Z"
   },
   {
    "duration": 9,
    "start_time": "2022-04-06T18:49:59.553Z"
   },
   {
    "duration": 30,
    "start_time": "2022-04-06T18:55:42.262Z"
   },
   {
    "duration": 31,
    "start_time": "2022-04-06T18:56:57.933Z"
   },
   {
    "duration": 52,
    "start_time": "2022-04-06T18:58:24.451Z"
   },
   {
    "duration": 34,
    "start_time": "2022-04-06T18:59:10.028Z"
   },
   {
    "duration": 6,
    "start_time": "2022-04-06T19:01:13.663Z"
   },
   {
    "duration": 30,
    "start_time": "2022-04-06T19:02:42.708Z"
   },
   {
    "duration": 5,
    "start_time": "2022-04-06T19:02:43.628Z"
   },
   {
    "duration": 30,
    "start_time": "2022-04-06T19:02:57.798Z"
   },
   {
    "duration": 6,
    "start_time": "2022-04-06T19:03:02.731Z"
   },
   {
    "duration": 5,
    "start_time": "2022-04-06T19:03:05.284Z"
   },
   {
    "duration": 1221,
    "start_time": "2022-04-07T16:28:01.543Z"
   },
   {
    "duration": 34,
    "start_time": "2022-04-07T16:28:02.765Z"
   },
   {
    "duration": 10,
    "start_time": "2022-04-07T16:28:02.800Z"
   },
   {
    "duration": 8,
    "start_time": "2022-04-07T16:28:02.812Z"
   },
   {
    "duration": 18,
    "start_time": "2022-04-07T16:28:02.823Z"
   },
   {
    "duration": 13,
    "start_time": "2022-04-07T16:28:02.843Z"
   },
   {
    "duration": 6,
    "start_time": "2022-04-07T16:28:02.858Z"
   },
   {
    "duration": 7,
    "start_time": "2022-04-07T16:28:02.865Z"
   },
   {
    "duration": 10,
    "start_time": "2022-04-07T16:28:02.873Z"
   },
   {
    "duration": 8,
    "start_time": "2022-04-07T16:28:02.884Z"
   },
   {
    "duration": 10,
    "start_time": "2022-04-07T16:28:02.894Z"
   },
   {
    "duration": 4,
    "start_time": "2022-04-07T16:28:02.906Z"
   },
   {
    "duration": 29,
    "start_time": "2022-04-07T16:28:02.912Z"
   },
   {
    "duration": 13,
    "start_time": "2022-04-07T16:28:02.945Z"
   },
   {
    "duration": 11,
    "start_time": "2022-04-07T16:28:02.959Z"
   },
   {
    "duration": 9,
    "start_time": "2022-04-07T16:28:02.971Z"
   },
   {
    "duration": 6,
    "start_time": "2022-04-07T16:28:02.982Z"
   },
   {
    "duration": 5,
    "start_time": "2022-04-07T16:28:02.989Z"
   },
   {
    "duration": 12,
    "start_time": "2022-04-07T16:28:02.996Z"
   },
   {
    "duration": 175,
    "start_time": "2022-04-07T16:28:03.010Z"
   },
   {
    "duration": 119,
    "start_time": "2022-04-07T16:28:03.187Z"
   },
   {
    "duration": 12,
    "start_time": "2022-04-07T16:28:03.308Z"
   },
   {
    "duration": 276,
    "start_time": "2022-04-07T16:28:03.329Z"
   },
   {
    "duration": 199,
    "start_time": "2022-04-07T16:28:03.607Z"
   },
   {
    "duration": 353,
    "start_time": "2022-04-07T16:28:03.807Z"
   },
   {
    "duration": 207,
    "start_time": "2022-04-07T16:28:04.162Z"
   },
   {
    "duration": 295,
    "start_time": "2022-04-07T16:28:04.370Z"
   },
   {
    "duration": 10,
    "start_time": "2022-04-07T16:28:04.667Z"
   },
   {
    "duration": 144,
    "start_time": "2022-04-07T16:28:04.678Z"
   },
   {
    "duration": 9,
    "start_time": "2022-04-07T16:28:04.824Z"
   },
   {
    "duration": 154,
    "start_time": "2022-04-07T16:28:04.835Z"
   },
   {
    "duration": 5,
    "start_time": "2022-04-07T16:28:04.991Z"
   },
   {
    "duration": 220,
    "start_time": "2022-04-07T16:28:04.998Z"
   },
   {
    "duration": 144,
    "start_time": "2022-04-07T16:28:05.220Z"
   },
   {
    "duration": 6,
    "start_time": "2022-04-07T16:28:05.365Z"
   },
   {
    "duration": 7,
    "start_time": "2022-04-07T16:28:05.372Z"
   },
   {
    "duration": 18,
    "start_time": "2022-04-07T16:28:05.381Z"
   },
   {
    "duration": 3,
    "start_time": "2022-04-07T16:28:05.401Z"
   },
   {
    "duration": 5,
    "start_time": "2022-04-07T16:28:05.430Z"
   },
   {
    "duration": 21,
    "start_time": "2022-04-07T16:32:40.109Z"
   },
   {
    "duration": 24,
    "start_time": "2022-04-07T16:32:57.159Z"
   },
   {
    "duration": 11,
    "start_time": "2022-04-07T16:34:48.611Z"
   },
   {
    "duration": 10,
    "start_time": "2022-04-07T16:41:04.254Z"
   },
   {
    "duration": 9,
    "start_time": "2022-04-07T16:41:45.892Z"
   },
   {
    "duration": 90,
    "start_time": "2022-04-07T16:43:38.262Z"
   },
   {
    "duration": 7,
    "start_time": "2022-04-07T16:43:48.687Z"
   },
   {
    "duration": 19,
    "start_time": "2022-04-07T16:43:49.601Z"
   },
   {
    "duration": 14,
    "start_time": "2022-04-07T16:49:23.673Z"
   },
   {
    "duration": 1259,
    "start_time": "2022-04-11T17:42:00.800Z"
   },
   {
    "duration": 218,
    "start_time": "2022-04-11T17:42:02.061Z"
   },
   {
    "duration": 13,
    "start_time": "2022-04-11T17:42:02.281Z"
   },
   {
    "duration": 12,
    "start_time": "2022-04-11T17:42:02.296Z"
   },
   {
    "duration": 16,
    "start_time": "2022-04-11T17:42:02.310Z"
   },
   {
    "duration": 17,
    "start_time": "2022-04-11T17:42:02.327Z"
   },
   {
    "duration": 7,
    "start_time": "2022-04-11T17:42:02.346Z"
   },
   {
    "duration": 15,
    "start_time": "2022-04-11T17:42:02.355Z"
   },
   {
    "duration": 27,
    "start_time": "2022-04-11T17:42:02.371Z"
   },
   {
    "duration": 6,
    "start_time": "2022-04-11T17:42:02.401Z"
   },
   {
    "duration": 6,
    "start_time": "2022-04-11T17:42:02.409Z"
   },
   {
    "duration": 6,
    "start_time": "2022-04-11T17:42:02.416Z"
   },
   {
    "duration": 16,
    "start_time": "2022-04-11T17:42:02.423Z"
   },
   {
    "duration": 16,
    "start_time": "2022-04-11T17:42:02.440Z"
   },
   {
    "duration": 13,
    "start_time": "2022-04-11T17:42:02.458Z"
   },
   {
    "duration": 7,
    "start_time": "2022-04-11T17:42:02.480Z"
   },
   {
    "duration": 7,
    "start_time": "2022-04-11T17:42:02.489Z"
   },
   {
    "duration": 4,
    "start_time": "2022-04-11T17:42:02.497Z"
   },
   {
    "duration": 12,
    "start_time": "2022-04-11T17:42:02.503Z"
   },
   {
    "duration": 159,
    "start_time": "2022-04-11T17:42:02.516Z"
   },
   {
    "duration": 118,
    "start_time": "2022-04-11T17:42:02.680Z"
   },
   {
    "duration": 15,
    "start_time": "2022-04-11T17:42:02.800Z"
   },
   {
    "duration": 379,
    "start_time": "2022-04-11T17:42:02.817Z"
   },
   {
    "duration": 196,
    "start_time": "2022-04-11T17:42:03.197Z"
   },
   {
    "duration": 332,
    "start_time": "2022-04-11T17:42:03.395Z"
   },
   {
    "duration": 196,
    "start_time": "2022-04-11T17:42:03.728Z"
   },
   {
    "duration": 282,
    "start_time": "2022-04-11T17:42:03.926Z"
   },
   {
    "duration": 10,
    "start_time": "2022-04-11T17:42:04.212Z"
   },
   {
    "duration": 150,
    "start_time": "2022-04-11T17:42:04.223Z"
   },
   {
    "duration": 8,
    "start_time": "2022-04-11T17:42:04.374Z"
   },
   {
    "duration": 161,
    "start_time": "2022-04-11T17:42:04.383Z"
   },
   {
    "duration": 4,
    "start_time": "2022-04-11T17:42:04.546Z"
   },
   {
    "duration": 234,
    "start_time": "2022-04-11T17:42:04.551Z"
   },
   {
    "duration": 129,
    "start_time": "2022-04-11T17:42:04.787Z"
   },
   {
    "duration": 25,
    "start_time": "2022-04-11T17:42:04.918Z"
   },
   {
    "duration": 9,
    "start_time": "2022-04-11T17:42:04.945Z"
   },
   {
    "duration": 32,
    "start_time": "2022-04-11T17:42:04.956Z"
   },
   {
    "duration": 6,
    "start_time": "2022-04-11T17:42:04.989Z"
   },
   {
    "duration": 23,
    "start_time": "2022-04-11T17:42:04.997Z"
   },
   {
    "duration": 13,
    "start_time": "2022-04-11T17:42:05.021Z"
   },
   {
    "duration": 75,
    "start_time": "2022-04-11T17:42:44.882Z"
   },
   {
    "duration": 3,
    "start_time": "2022-04-11T17:42:49.237Z"
   },
   {
    "duration": 66,
    "start_time": "2022-04-11T17:42:49.241Z"
   },
   {
    "duration": 7,
    "start_time": "2022-04-11T17:42:49.309Z"
   },
   {
    "duration": 9,
    "start_time": "2022-04-11T17:42:49.317Z"
   },
   {
    "duration": 9,
    "start_time": "2022-04-11T17:42:49.329Z"
   },
   {
    "duration": 6,
    "start_time": "2022-04-11T17:42:49.339Z"
   },
   {
    "duration": 6,
    "start_time": "2022-04-11T17:42:49.346Z"
   },
   {
    "duration": 29,
    "start_time": "2022-04-11T17:42:49.353Z"
   },
   {
    "duration": 10,
    "start_time": "2022-04-11T17:42:49.384Z"
   },
   {
    "duration": 7,
    "start_time": "2022-04-11T17:42:49.395Z"
   },
   {
    "duration": 5,
    "start_time": "2022-04-11T17:42:49.404Z"
   },
   {
    "duration": 5,
    "start_time": "2022-04-11T17:42:49.410Z"
   },
   {
    "duration": 13,
    "start_time": "2022-04-11T17:42:49.417Z"
   },
   {
    "duration": 18,
    "start_time": "2022-04-11T17:42:49.432Z"
   },
   {
    "duration": 43,
    "start_time": "2022-04-11T17:42:49.452Z"
   },
   {
    "duration": 12,
    "start_time": "2022-04-11T17:42:49.497Z"
   },
   {
    "duration": 9,
    "start_time": "2022-04-11T17:42:49.511Z"
   },
   {
    "duration": 4,
    "start_time": "2022-04-11T17:42:49.522Z"
   },
   {
    "duration": 10,
    "start_time": "2022-04-11T17:42:49.527Z"
   },
   {
    "duration": 173,
    "start_time": "2022-04-11T17:42:49.539Z"
   },
   {
    "duration": 118,
    "start_time": "2022-04-11T17:42:49.714Z"
   },
   {
    "duration": 11,
    "start_time": "2022-04-11T17:42:49.834Z"
   },
   {
    "duration": 206,
    "start_time": "2022-04-11T17:42:49.847Z"
   },
   {
    "duration": 260,
    "start_time": "2022-04-11T17:42:50.055Z"
   },
   {
    "duration": 300,
    "start_time": "2022-04-11T17:42:50.317Z"
   },
   {
    "duration": 201,
    "start_time": "2022-04-11T17:42:50.618Z"
   },
   {
    "duration": 299,
    "start_time": "2022-04-11T17:42:50.821Z"
   },
   {
    "duration": 15,
    "start_time": "2022-04-11T17:42:51.122Z"
   },
   {
    "duration": 157,
    "start_time": "2022-04-11T17:42:51.142Z"
   },
   {
    "duration": 5,
    "start_time": "2022-04-11T17:42:51.300Z"
   },
   {
    "duration": 159,
    "start_time": "2022-04-11T17:42:51.306Z"
   },
   {
    "duration": 5,
    "start_time": "2022-04-11T17:42:51.466Z"
   },
   {
    "duration": 210,
    "start_time": "2022-04-11T17:42:51.481Z"
   },
   {
    "duration": 140,
    "start_time": "2022-04-11T17:42:51.692Z"
   },
   {
    "duration": 27,
    "start_time": "2022-04-11T17:42:51.834Z"
   },
   {
    "duration": 30,
    "start_time": "2022-04-11T17:42:51.862Z"
   },
   {
    "duration": 13,
    "start_time": "2022-04-11T17:42:51.893Z"
   },
   {
    "duration": 10,
    "start_time": "2022-04-11T17:42:51.908Z"
   },
   {
    "duration": 25,
    "start_time": "2022-04-11T17:42:51.920Z"
   },
   {
    "duration": 49,
    "start_time": "2022-04-11T17:42:51.946Z"
   },
   {
    "duration": 2744,
    "start_time": "2022-04-11T17:48:58.764Z"
   },
   {
    "duration": 2559,
    "start_time": "2022-04-11T17:49:04.227Z"
   },
   {
    "duration": 4,
    "start_time": "2022-04-11T17:49:08.390Z"
   },
   {
    "duration": 65,
    "start_time": "2022-04-11T17:49:08.396Z"
   },
   {
    "duration": 7,
    "start_time": "2022-04-11T17:49:08.463Z"
   },
   {
    "duration": 11,
    "start_time": "2022-04-11T17:49:08.472Z"
   },
   {
    "duration": 10,
    "start_time": "2022-04-11T17:49:08.485Z"
   },
   {
    "duration": 8,
    "start_time": "2022-04-11T17:49:08.496Z"
   },
   {
    "duration": 7,
    "start_time": "2022-04-11T17:49:08.505Z"
   },
   {
    "duration": 8,
    "start_time": "2022-04-11T17:49:08.513Z"
   },
   {
    "duration": 0,
    "start_time": "2022-04-11T17:49:08.524Z"
   },
   {
    "duration": 0,
    "start_time": "2022-04-11T17:49:08.525Z"
   },
   {
    "duration": 0,
    "start_time": "2022-04-11T17:49:08.527Z"
   },
   {
    "duration": 0,
    "start_time": "2022-04-11T17:49:08.528Z"
   },
   {
    "duration": 0,
    "start_time": "2022-04-11T17:49:08.529Z"
   },
   {
    "duration": 0,
    "start_time": "2022-04-11T17:49:08.530Z"
   },
   {
    "duration": 0,
    "start_time": "2022-04-11T17:49:08.531Z"
   },
   {
    "duration": 0,
    "start_time": "2022-04-11T17:49:08.532Z"
   },
   {
    "duration": 0,
    "start_time": "2022-04-11T17:49:08.533Z"
   },
   {
    "duration": 0,
    "start_time": "2022-04-11T17:49:08.534Z"
   },
   {
    "duration": 0,
    "start_time": "2022-04-11T17:49:08.535Z"
   },
   {
    "duration": 0,
    "start_time": "2022-04-11T17:49:08.580Z"
   },
   {
    "duration": 0,
    "start_time": "2022-04-11T17:49:08.582Z"
   },
   {
    "duration": 0,
    "start_time": "2022-04-11T17:49:08.583Z"
   },
   {
    "duration": 0,
    "start_time": "2022-04-11T17:49:08.584Z"
   },
   {
    "duration": 0,
    "start_time": "2022-04-11T17:49:08.585Z"
   },
   {
    "duration": 0,
    "start_time": "2022-04-11T17:49:08.586Z"
   },
   {
    "duration": 0,
    "start_time": "2022-04-11T17:49:08.587Z"
   },
   {
    "duration": 0,
    "start_time": "2022-04-11T17:49:08.588Z"
   },
   {
    "duration": 0,
    "start_time": "2022-04-11T17:49:08.589Z"
   },
   {
    "duration": 0,
    "start_time": "2022-04-11T17:49:08.590Z"
   },
   {
    "duration": 0,
    "start_time": "2022-04-11T17:49:08.591Z"
   },
   {
    "duration": 0,
    "start_time": "2022-04-11T17:49:08.592Z"
   },
   {
    "duration": 0,
    "start_time": "2022-04-11T17:49:08.593Z"
   },
   {
    "duration": 0,
    "start_time": "2022-04-11T17:49:08.594Z"
   },
   {
    "duration": 0,
    "start_time": "2022-04-11T17:49:08.595Z"
   },
   {
    "duration": 0,
    "start_time": "2022-04-11T17:49:08.596Z"
   },
   {
    "duration": 0,
    "start_time": "2022-04-11T17:49:08.597Z"
   },
   {
    "duration": 0,
    "start_time": "2022-04-11T17:49:08.598Z"
   },
   {
    "duration": 0,
    "start_time": "2022-04-11T17:49:08.599Z"
   },
   {
    "duration": 0,
    "start_time": "2022-04-11T17:49:08.600Z"
   },
   {
    "duration": 0,
    "start_time": "2022-04-11T17:49:08.601Z"
   },
   {
    "duration": 0,
    "start_time": "2022-04-11T17:49:08.602Z"
   },
   {
    "duration": 5,
    "start_time": "2022-04-11T17:49:24.354Z"
   },
   {
    "duration": 9,
    "start_time": "2022-04-11T17:49:33.770Z"
   },
   {
    "duration": 12,
    "start_time": "2022-04-11T17:49:42.239Z"
   },
   {
    "duration": 6,
    "start_time": "2022-04-11T17:49:49.962Z"
   },
   {
    "duration": 9,
    "start_time": "2022-04-11T17:50:05.476Z"
   },
   {
    "duration": 2762,
    "start_time": "2022-04-11T17:51:00.025Z"
   },
   {
    "duration": 4,
    "start_time": "2022-04-11T17:51:12.785Z"
   },
   {
    "duration": 4430,
    "start_time": "2022-04-11T17:51:35.833Z"
   },
   {
    "duration": 6,
    "start_time": "2022-04-11T17:51:49.099Z"
   },
   {
    "duration": 5,
    "start_time": "2022-04-11T17:53:48.249Z"
   },
   {
    "duration": 159,
    "start_time": "2022-04-11T17:54:16.441Z"
   },
   {
    "duration": 3,
    "start_time": "2022-04-11T17:54:25.897Z"
   },
   {
    "duration": 64,
    "start_time": "2022-04-11T17:54:25.903Z"
   },
   {
    "duration": 8,
    "start_time": "2022-04-11T17:54:25.968Z"
   },
   {
    "duration": 9,
    "start_time": "2022-04-11T17:54:25.977Z"
   },
   {
    "duration": 11,
    "start_time": "2022-04-11T17:54:25.988Z"
   },
   {
    "duration": 7,
    "start_time": "2022-04-11T17:54:26.001Z"
   },
   {
    "duration": 7,
    "start_time": "2022-04-11T17:54:26.009Z"
   },
   {
    "duration": 7,
    "start_time": "2022-04-11T17:54:26.017Z"
   },
   {
    "duration": 9,
    "start_time": "2022-04-11T17:54:26.025Z"
   },
   {
    "duration": 7,
    "start_time": "2022-04-11T17:54:26.036Z"
   },
   {
    "duration": 39,
    "start_time": "2022-04-11T17:54:26.045Z"
   },
   {
    "duration": 6,
    "start_time": "2022-04-11T17:54:26.085Z"
   },
   {
    "duration": 10,
    "start_time": "2022-04-11T17:54:26.093Z"
   },
   {
    "duration": 12,
    "start_time": "2022-04-11T17:54:26.104Z"
   },
   {
    "duration": 12,
    "start_time": "2022-04-11T17:54:26.117Z"
   },
   {
    "duration": 10,
    "start_time": "2022-04-11T17:54:26.131Z"
   },
   {
    "duration": 18,
    "start_time": "2022-04-11T17:54:26.142Z"
   },
   {
    "duration": 10,
    "start_time": "2022-04-11T17:54:26.161Z"
   },
   {
    "duration": 15,
    "start_time": "2022-04-11T17:54:26.173Z"
   },
   {
    "duration": 155,
    "start_time": "2022-04-11T17:54:26.189Z"
   },
   {
    "duration": 120,
    "start_time": "2022-04-11T17:54:26.346Z"
   },
   {
    "duration": 25,
    "start_time": "2022-04-11T17:54:26.467Z"
   },
   {
    "duration": 192,
    "start_time": "2022-04-11T17:54:26.494Z"
   },
   {
    "duration": 193,
    "start_time": "2022-04-11T17:54:26.688Z"
   },
   {
    "duration": 301,
    "start_time": "2022-04-11T17:54:26.882Z"
   },
   {
    "duration": 197,
    "start_time": "2022-04-11T17:54:27.184Z"
   },
   {
    "duration": 388,
    "start_time": "2022-04-11T17:54:27.382Z"
   },
   {
    "duration": 17,
    "start_time": "2022-04-11T17:54:27.771Z"
   },
   {
    "duration": 140,
    "start_time": "2022-04-11T17:54:27.791Z"
   },
   {
    "duration": 5,
    "start_time": "2022-04-11T17:54:27.933Z"
   },
   {
    "duration": 250,
    "start_time": "2022-04-11T17:54:27.940Z"
   },
   {
    "duration": 6,
    "start_time": "2022-04-11T17:54:28.191Z"
   },
   {
    "duration": 331,
    "start_time": "2022-04-11T17:54:28.199Z"
   },
   {
    "duration": 131,
    "start_time": "2022-04-11T17:54:28.532Z"
   },
   {
    "duration": 37,
    "start_time": "2022-04-11T17:54:28.665Z"
   },
   {
    "duration": 12,
    "start_time": "2022-04-11T17:54:28.703Z"
   },
   {
    "duration": 9,
    "start_time": "2022-04-11T17:54:28.717Z"
   },
   {
    "duration": 8,
    "start_time": "2022-04-11T17:54:28.728Z"
   },
   {
    "duration": 47,
    "start_time": "2022-04-11T17:54:28.737Z"
   },
   {
    "duration": 14,
    "start_time": "2022-04-11T17:54:28.786Z"
   },
   {
    "duration": 1483,
    "start_time": "2022-04-11T17:59:01.260Z"
   },
   {
    "duration": 67,
    "start_time": "2022-04-11T17:59:02.746Z"
   },
   {
    "duration": 15,
    "start_time": "2022-04-11T17:59:02.816Z"
   },
   {
    "duration": 12,
    "start_time": "2022-04-11T17:59:02.833Z"
   },
   {
    "duration": 16,
    "start_time": "2022-04-11T17:59:02.846Z"
   },
   {
    "duration": 9,
    "start_time": "2022-04-11T17:59:02.863Z"
   },
   {
    "duration": 5,
    "start_time": "2022-04-11T17:59:02.874Z"
   },
   {
    "duration": 12,
    "start_time": "2022-04-11T17:59:02.881Z"
   },
   {
    "duration": 12,
    "start_time": "2022-04-11T17:59:02.895Z"
   },
   {
    "duration": 6,
    "start_time": "2022-04-11T17:59:02.910Z"
   },
   {
    "duration": 7,
    "start_time": "2022-04-11T17:59:02.917Z"
   },
   {
    "duration": 3,
    "start_time": "2022-04-11T17:59:02.925Z"
   },
   {
    "duration": 13,
    "start_time": "2022-04-11T17:59:02.930Z"
   },
   {
    "duration": 13,
    "start_time": "2022-04-11T17:59:02.944Z"
   },
   {
    "duration": 27,
    "start_time": "2022-04-11T17:59:02.959Z"
   },
   {
    "duration": 7,
    "start_time": "2022-04-11T17:59:02.988Z"
   },
   {
    "duration": 5,
    "start_time": "2022-04-11T17:59:02.997Z"
   },
   {
    "duration": 4,
    "start_time": "2022-04-11T17:59:03.004Z"
   },
   {
    "duration": 11,
    "start_time": "2022-04-11T17:59:03.009Z"
   },
   {
    "duration": 174,
    "start_time": "2022-04-11T17:59:03.021Z"
   },
   {
    "duration": 127,
    "start_time": "2022-04-11T17:59:03.197Z"
   },
   {
    "duration": 12,
    "start_time": "2022-04-11T17:59:03.325Z"
   },
   {
    "duration": 311,
    "start_time": "2022-04-11T17:59:03.339Z"
   },
   {
    "duration": 311,
    "start_time": "2022-04-11T17:59:03.653Z"
   },
   {
    "duration": 428,
    "start_time": "2022-04-11T17:59:03.966Z"
   },
   {
    "duration": 342,
    "start_time": "2022-04-11T17:59:04.396Z"
   },
   {
    "duration": 451,
    "start_time": "2022-04-11T17:59:04.740Z"
   },
   {
    "duration": 15,
    "start_time": "2022-04-11T17:59:05.196Z"
   },
   {
    "duration": 240,
    "start_time": "2022-04-11T17:59:05.213Z"
   },
   {
    "duration": 5,
    "start_time": "2022-04-11T17:59:05.455Z"
   },
   {
    "duration": 261,
    "start_time": "2022-04-11T17:59:05.462Z"
   },
   {
    "duration": 5,
    "start_time": "2022-04-11T17:59:05.725Z"
   },
   {
    "duration": 345,
    "start_time": "2022-04-11T17:59:05.732Z"
   },
   {
    "duration": 257,
    "start_time": "2022-04-11T17:59:06.082Z"
   },
   {
    "duration": 28,
    "start_time": "2022-04-11T17:59:06.341Z"
   },
   {
    "duration": 19,
    "start_time": "2022-04-11T17:59:06.370Z"
   },
   {
    "duration": 10,
    "start_time": "2022-04-11T17:59:06.390Z"
   },
   {
    "duration": 8,
    "start_time": "2022-04-11T17:59:06.401Z"
   },
   {
    "duration": 23,
    "start_time": "2022-04-11T17:59:06.410Z"
   },
   {
    "duration": 53,
    "start_time": "2022-04-11T17:59:06.435Z"
   },
   {
    "duration": 1067,
    "start_time": "2022-04-12T05:31:52.945Z"
   },
   {
    "duration": 43,
    "start_time": "2022-04-12T05:31:54.014Z"
   },
   {
    "duration": 11,
    "start_time": "2022-04-12T05:31:54.059Z"
   },
   {
    "duration": 9,
    "start_time": "2022-04-12T05:31:54.072Z"
   },
   {
    "duration": 14,
    "start_time": "2022-04-12T05:31:54.083Z"
   },
   {
    "duration": 9,
    "start_time": "2022-04-12T05:31:54.099Z"
   },
   {
    "duration": 5,
    "start_time": "2022-04-12T05:31:54.109Z"
   },
   {
    "duration": 6,
    "start_time": "2022-04-12T05:31:54.115Z"
   },
   {
    "duration": 11,
    "start_time": "2022-04-12T05:31:54.123Z"
   },
   {
    "duration": 6,
    "start_time": "2022-04-12T05:31:54.136Z"
   },
   {
    "duration": 33,
    "start_time": "2022-04-12T05:31:54.143Z"
   },
   {
    "duration": 2,
    "start_time": "2022-04-12T05:31:54.178Z"
   },
   {
    "duration": 7,
    "start_time": "2022-04-12T05:31:54.182Z"
   },
   {
    "duration": 12,
    "start_time": "2022-04-12T05:31:54.190Z"
   },
   {
    "duration": 10,
    "start_time": "2022-04-12T05:31:54.204Z"
   },
   {
    "duration": 10,
    "start_time": "2022-04-12T05:31:54.215Z"
   },
   {
    "duration": 5,
    "start_time": "2022-04-12T05:31:54.227Z"
   },
   {
    "duration": 4,
    "start_time": "2022-04-12T05:31:54.234Z"
   },
   {
    "duration": 34,
    "start_time": "2022-04-12T05:31:54.239Z"
   },
   {
    "duration": 152,
    "start_time": "2022-04-12T05:31:54.275Z"
   },
   {
    "duration": 113,
    "start_time": "2022-04-12T05:31:54.429Z"
   },
   {
    "duration": 11,
    "start_time": "2022-04-12T05:31:54.544Z"
   },
   {
    "duration": 275,
    "start_time": "2022-04-12T05:31:54.556Z"
   },
   {
    "duration": 195,
    "start_time": "2022-04-12T05:31:54.833Z"
   },
   {
    "duration": 301,
    "start_time": "2022-04-12T05:31:55.030Z"
   },
   {
    "duration": 212,
    "start_time": "2022-04-12T05:31:55.333Z"
   },
   {
    "duration": 339,
    "start_time": "2022-04-12T05:31:55.546Z"
   },
   {
    "duration": 10,
    "start_time": "2022-04-12T05:31:55.888Z"
   },
   {
    "duration": 145,
    "start_time": "2022-04-12T05:31:55.900Z"
   },
   {
    "duration": 5,
    "start_time": "2022-04-12T05:31:56.046Z"
   },
   {
    "duration": 163,
    "start_time": "2022-04-12T05:31:56.053Z"
   },
   {
    "duration": 4,
    "start_time": "2022-04-12T05:31:56.218Z"
   },
   {
    "duration": 222,
    "start_time": "2022-04-12T05:31:56.224Z"
   },
   {
    "duration": 120,
    "start_time": "2022-04-12T05:31:56.447Z"
   },
   {
    "duration": 26,
    "start_time": "2022-04-12T05:31:56.569Z"
   },
   {
    "duration": 11,
    "start_time": "2022-04-12T05:31:56.596Z"
   },
   {
    "duration": 10,
    "start_time": "2022-04-12T05:31:56.609Z"
   },
   {
    "duration": 9,
    "start_time": "2022-04-12T05:31:56.620Z"
   },
   {
    "duration": 60,
    "start_time": "2022-04-12T05:31:56.631Z"
   },
   {
    "duration": 14,
    "start_time": "2022-04-12T05:31:56.693Z"
   },
   {
    "duration": 7,
    "start_time": "2022-04-12T05:50:51.356Z"
   },
   {
    "duration": 4,
    "start_time": "2022-04-12T05:54:36.345Z"
   },
   {
    "duration": 1756,
    "start_time": "2022-04-13T16:56:15.040Z"
   },
   {
    "duration": 41,
    "start_time": "2022-04-13T16:56:16.799Z"
   },
   {
    "duration": 21,
    "start_time": "2022-04-13T16:56:16.842Z"
   },
   {
    "duration": 16,
    "start_time": "2022-04-13T16:56:16.867Z"
   },
   {
    "duration": 18,
    "start_time": "2022-04-13T16:56:16.886Z"
   },
   {
    "duration": 15,
    "start_time": "2022-04-13T16:56:16.906Z"
   },
   {
    "duration": 8,
    "start_time": "2022-04-13T16:56:16.924Z"
   },
   {
    "duration": 49,
    "start_time": "2022-04-13T16:56:16.934Z"
   },
   {
    "duration": 11,
    "start_time": "2022-04-13T16:56:16.985Z"
   },
   {
    "duration": 15,
    "start_time": "2022-04-13T16:56:17.001Z"
   },
   {
    "duration": 11,
    "start_time": "2022-04-13T16:56:17.018Z"
   },
   {
    "duration": 9,
    "start_time": "2022-04-13T16:56:17.032Z"
   },
   {
    "duration": 4,
    "start_time": "2022-04-13T16:56:17.083Z"
   },
   {
    "duration": 12,
    "start_time": "2022-04-13T16:56:17.090Z"
   },
   {
    "duration": 17,
    "start_time": "2022-04-13T16:56:17.105Z"
   },
   {
    "duration": 16,
    "start_time": "2022-04-13T16:56:17.124Z"
   },
   {
    "duration": 49,
    "start_time": "2022-04-13T16:56:17.142Z"
   },
   {
    "duration": 10,
    "start_time": "2022-04-13T16:56:17.193Z"
   },
   {
    "duration": 5,
    "start_time": "2022-04-13T16:56:17.206Z"
   },
   {
    "duration": 15,
    "start_time": "2022-04-13T16:56:17.214Z"
   },
   {
    "duration": 312,
    "start_time": "2022-04-13T16:56:17.232Z"
   },
   {
    "duration": 235,
    "start_time": "2022-04-13T16:56:17.547Z"
   },
   {
    "duration": 20,
    "start_time": "2022-04-13T16:56:17.784Z"
   },
   {
    "duration": 524,
    "start_time": "2022-04-13T16:56:17.807Z"
   },
   {
    "duration": 367,
    "start_time": "2022-04-13T16:56:18.334Z"
   },
   {
    "duration": 510,
    "start_time": "2022-04-13T16:56:18.704Z"
   },
   {
    "duration": 375,
    "start_time": "2022-04-13T16:56:19.217Z"
   },
   {
    "duration": 455,
    "start_time": "2022-04-13T16:56:19.597Z"
   },
   {
    "duration": 29,
    "start_time": "2022-04-13T16:56:20.055Z"
   },
   {
    "duration": 352,
    "start_time": "2022-04-13T16:56:20.087Z"
   },
   {
    "duration": 8,
    "start_time": "2022-04-13T16:56:20.443Z"
   },
   {
    "duration": 385,
    "start_time": "2022-04-13T16:56:20.454Z"
   },
   {
    "duration": 9,
    "start_time": "2022-04-13T16:56:20.842Z"
   },
   {
    "duration": 412,
    "start_time": "2022-04-13T16:56:20.854Z"
   },
   {
    "duration": 270,
    "start_time": "2022-04-13T16:56:21.268Z"
   },
   {
    "duration": 48,
    "start_time": "2022-04-13T16:56:21.540Z"
   },
   {
    "duration": 6,
    "start_time": "2022-04-13T16:56:21.590Z"
   },
   {
    "duration": 16,
    "start_time": "2022-04-13T16:56:21.598Z"
   },
   {
    "duration": 16,
    "start_time": "2022-04-13T16:56:21.617Z"
   },
   {
    "duration": 52,
    "start_time": "2022-04-13T16:56:21.635Z"
   },
   {
    "duration": 50,
    "start_time": "2022-04-13T16:56:21.689Z"
   },
   {
    "duration": 54,
    "start_time": "2022-04-13T16:56:21.742Z"
   },
   {
    "duration": 39,
    "start_time": "2022-04-13T16:56:43.163Z"
   },
   {
    "duration": 35,
    "start_time": "2022-04-13T16:57:32.106Z"
   },
   {
    "duration": 37,
    "start_time": "2022-04-13T16:57:48.633Z"
   },
   {
    "duration": 177,
    "start_time": "2022-04-13T16:58:13.005Z"
   },
   {
    "duration": 39,
    "start_time": "2022-04-13T16:58:20.498Z"
   },
   {
    "duration": 39,
    "start_time": "2022-04-13T16:58:34.149Z"
   },
   {
    "duration": 34,
    "start_time": "2022-04-13T16:58:43.272Z"
   },
   {
    "duration": 19,
    "start_time": "2022-04-13T17:03:12.900Z"
   },
   {
    "duration": 17,
    "start_time": "2022-04-13T17:03:34.325Z"
   },
   {
    "duration": 17,
    "start_time": "2022-04-13T17:03:43.081Z"
   },
   {
    "duration": 130,
    "start_time": "2022-04-13T17:06:06.966Z"
   },
   {
    "duration": 17,
    "start_time": "2022-04-13T17:06:18.017Z"
   },
   {
    "duration": 16,
    "start_time": "2022-04-13T17:06:29.646Z"
   },
   {
    "duration": 31,
    "start_time": "2022-04-13T17:09:19.209Z"
   },
   {
    "duration": 33,
    "start_time": "2022-04-13T17:09:33.095Z"
   },
   {
    "duration": 24,
    "start_time": "2022-04-13T17:09:54.177Z"
   },
   {
    "duration": 16,
    "start_time": "2022-04-13T17:10:07.422Z"
   },
   {
    "duration": 37,
    "start_time": "2022-04-13T17:10:23.977Z"
   },
   {
    "duration": 33,
    "start_time": "2022-04-13T17:10:28.591Z"
   },
   {
    "duration": 30,
    "start_time": "2022-04-13T17:10:51.331Z"
   },
   {
    "duration": 15,
    "start_time": "2022-04-13T17:11:10.564Z"
   },
   {
    "duration": 44,
    "start_time": "2022-04-13T17:11:30.647Z"
   },
   {
    "duration": 22,
    "start_time": "2022-04-13T17:14:15.715Z"
   },
   {
    "duration": 22,
    "start_time": "2022-04-13T17:14:46.618Z"
   },
   {
    "duration": 1372,
    "start_time": "2022-04-13T17:15:58.035Z"
   },
   {
    "duration": 76,
    "start_time": "2022-04-13T17:15:59.409Z"
   },
   {
    "duration": 16,
    "start_time": "2022-04-13T17:15:59.487Z"
   },
   {
    "duration": 13,
    "start_time": "2022-04-13T17:15:59.505Z"
   },
   {
    "duration": 17,
    "start_time": "2022-04-13T17:15:59.520Z"
   },
   {
    "duration": 43,
    "start_time": "2022-04-13T17:15:59.539Z"
   },
   {
    "duration": 9,
    "start_time": "2022-04-13T17:15:59.584Z"
   },
   {
    "duration": 8,
    "start_time": "2022-04-13T17:15:59.595Z"
   },
   {
    "duration": 10,
    "start_time": "2022-04-13T17:15:59.606Z"
   },
   {
    "duration": 13,
    "start_time": "2022-04-13T17:15:59.620Z"
   },
   {
    "duration": 48,
    "start_time": "2022-04-13T17:15:59.635Z"
   },
   {
    "duration": 8,
    "start_time": "2022-04-13T17:15:59.685Z"
   },
   {
    "duration": 5,
    "start_time": "2022-04-13T17:15:59.695Z"
   },
   {
    "duration": 9,
    "start_time": "2022-04-13T17:15:59.702Z"
   },
   {
    "duration": 23,
    "start_time": "2022-04-13T17:15:59.713Z"
   },
   {
    "duration": 49,
    "start_time": "2022-04-13T17:15:59.738Z"
   },
   {
    "duration": 13,
    "start_time": "2022-04-13T17:15:59.789Z"
   },
   {
    "duration": 9,
    "start_time": "2022-04-13T17:15:59.804Z"
   },
   {
    "duration": 7,
    "start_time": "2022-04-13T17:15:59.814Z"
   },
   {
    "duration": 16,
    "start_time": "2022-04-13T17:15:59.823Z"
   },
   {
    "duration": 284,
    "start_time": "2022-04-13T17:15:59.841Z"
   },
   {
    "duration": 221,
    "start_time": "2022-04-13T17:16:00.128Z"
   },
   {
    "duration": 35,
    "start_time": "2022-04-13T17:16:00.351Z"
   },
   {
    "duration": 496,
    "start_time": "2022-04-13T17:16:00.389Z"
   },
   {
    "duration": 351,
    "start_time": "2022-04-13T17:16:00.888Z"
   },
   {
    "duration": 491,
    "start_time": "2022-04-13T17:16:01.241Z"
   },
   {
    "duration": 385,
    "start_time": "2022-04-13T17:16:01.735Z"
   },
   {
    "duration": 510,
    "start_time": "2022-04-13T17:16:02.125Z"
   },
   {
    "duration": 16,
    "start_time": "2022-04-13T17:16:02.637Z"
   },
   {
    "duration": 272,
    "start_time": "2022-04-13T17:16:02.656Z"
   },
   {
    "duration": 7,
    "start_time": "2022-04-13T17:16:02.930Z"
   },
   {
    "duration": 292,
    "start_time": "2022-04-13T17:16:02.938Z"
   },
   {
    "duration": 7,
    "start_time": "2022-04-13T17:16:03.232Z"
   },
   {
    "duration": 405,
    "start_time": "2022-04-13T17:16:03.241Z"
   },
   {
    "duration": 345,
    "start_time": "2022-04-13T17:16:03.649Z"
   },
   {
    "duration": 40,
    "start_time": "2022-04-13T17:16:03.996Z"
   },
   {
    "duration": 5,
    "start_time": "2022-04-13T17:16:04.038Z"
   },
   {
    "duration": 46,
    "start_time": "2022-04-13T17:16:04.045Z"
   },
   {
    "duration": 16,
    "start_time": "2022-04-13T17:16:04.093Z"
   },
   {
    "duration": 11,
    "start_time": "2022-04-13T17:16:04.111Z"
   },
   {
    "duration": 65,
    "start_time": "2022-04-13T17:16:04.124Z"
   },
   {
    "duration": 24,
    "start_time": "2022-04-13T17:16:04.191Z"
   },
   {
    "duration": 1172,
    "start_time": "2022-04-14T05:51:21.322Z"
   },
   {
    "duration": 73,
    "start_time": "2022-04-14T05:51:22.496Z"
   },
   {
    "duration": 12,
    "start_time": "2022-04-14T05:51:22.571Z"
   },
   {
    "duration": 12,
    "start_time": "2022-04-14T05:51:22.585Z"
   },
   {
    "duration": 18,
    "start_time": "2022-04-14T05:51:22.599Z"
   },
   {
    "duration": 23,
    "start_time": "2022-04-14T05:51:22.618Z"
   },
   {
    "duration": 19,
    "start_time": "2022-04-14T05:51:22.643Z"
   },
   {
    "duration": 16,
    "start_time": "2022-04-14T05:51:22.664Z"
   },
   {
    "duration": 11,
    "start_time": "2022-04-14T05:51:22.682Z"
   },
   {
    "duration": 18,
    "start_time": "2022-04-14T05:51:22.695Z"
   },
   {
    "duration": 12,
    "start_time": "2022-04-14T05:51:22.714Z"
   },
   {
    "duration": 11,
    "start_time": "2022-04-14T05:51:22.728Z"
   },
   {
    "duration": 8,
    "start_time": "2022-04-14T05:51:22.741Z"
   },
   {
    "duration": 17,
    "start_time": "2022-04-14T05:51:22.752Z"
   },
   {
    "duration": 16,
    "start_time": "2022-04-14T05:51:22.771Z"
   },
   {
    "duration": 18,
    "start_time": "2022-04-14T05:51:22.789Z"
   },
   {
    "duration": 18,
    "start_time": "2022-04-14T05:51:22.809Z"
   },
   {
    "duration": 10,
    "start_time": "2022-04-14T05:51:22.829Z"
   },
   {
    "duration": 7,
    "start_time": "2022-04-14T05:51:22.841Z"
   },
   {
    "duration": 17,
    "start_time": "2022-04-14T05:51:22.849Z"
   },
   {
    "duration": 171,
    "start_time": "2022-04-14T05:51:22.868Z"
   },
   {
    "duration": 126,
    "start_time": "2022-04-14T05:51:23.041Z"
   },
   {
    "duration": 14,
    "start_time": "2022-04-14T05:51:23.169Z"
   },
   {
    "duration": 335,
    "start_time": "2022-04-14T05:51:23.184Z"
   },
   {
    "duration": 239,
    "start_time": "2022-04-14T05:51:23.520Z"
   },
   {
    "duration": 321,
    "start_time": "2022-04-14T05:51:23.761Z"
   },
   {
    "duration": 252,
    "start_time": "2022-04-14T05:51:24.084Z"
   },
   {
    "duration": 347,
    "start_time": "2022-04-14T05:51:24.337Z"
   },
   {
    "duration": 12,
    "start_time": "2022-04-14T05:51:24.686Z"
   },
   {
    "duration": 178,
    "start_time": "2022-04-14T05:51:24.700Z"
   },
   {
    "duration": 5,
    "start_time": "2022-04-14T05:51:24.880Z"
   },
   {
    "duration": 196,
    "start_time": "2022-04-14T05:51:24.887Z"
   },
   {
    "duration": 6,
    "start_time": "2022-04-14T05:51:25.084Z"
   },
   {
    "duration": 250,
    "start_time": "2022-04-14T05:51:25.091Z"
   },
   {
    "duration": 192,
    "start_time": "2022-04-14T05:51:25.342Z"
   },
   {
    "duration": 29,
    "start_time": "2022-04-14T05:51:25.536Z"
   },
   {
    "duration": 3,
    "start_time": "2022-04-14T05:51:25.567Z"
   },
   {
    "duration": 16,
    "start_time": "2022-04-14T05:51:25.572Z"
   },
   {
    "duration": 12,
    "start_time": "2022-04-14T05:51:25.590Z"
   },
   {
    "duration": 34,
    "start_time": "2022-04-14T05:51:25.604Z"
   },
   {
    "duration": 26,
    "start_time": "2022-04-14T05:51:25.642Z"
   },
   {
    "duration": 16,
    "start_time": "2022-04-14T05:51:25.670Z"
   },
   {
    "duration": 999,
    "start_time": "2022-08-30T11:19:39.589Z"
   },
   {
    "duration": 201,
    "start_time": "2022-08-30T11:19:40.591Z"
   },
   {
    "duration": 9,
    "start_time": "2022-08-30T11:19:40.794Z"
   },
   {
    "duration": 7,
    "start_time": "2022-08-30T11:19:40.805Z"
   },
   {
    "duration": 22,
    "start_time": "2022-08-30T11:19:40.814Z"
   },
   {
    "duration": 17,
    "start_time": "2022-08-30T11:19:40.837Z"
   },
   {
    "duration": 13,
    "start_time": "2022-08-30T11:19:40.855Z"
   },
   {
    "duration": 13,
    "start_time": "2022-08-30T11:19:40.870Z"
   },
   {
    "duration": 16,
    "start_time": "2022-08-30T11:19:40.884Z"
   },
   {
    "duration": 18,
    "start_time": "2022-08-30T11:19:40.902Z"
   },
   {
    "duration": 14,
    "start_time": "2022-08-30T11:19:40.922Z"
   },
   {
    "duration": 13,
    "start_time": "2022-08-30T11:19:40.937Z"
   },
   {
    "duration": 14,
    "start_time": "2022-08-30T11:19:40.951Z"
   },
   {
    "duration": 11,
    "start_time": "2022-08-30T11:19:40.968Z"
   },
   {
    "duration": 15,
    "start_time": "2022-08-30T11:19:40.980Z"
   },
   {
    "duration": 11,
    "start_time": "2022-08-30T11:19:40.997Z"
   },
   {
    "duration": 9,
    "start_time": "2022-08-30T11:19:41.010Z"
   },
   {
    "duration": 8,
    "start_time": "2022-08-30T11:19:41.020Z"
   },
   {
    "duration": 8,
    "start_time": "2022-08-30T11:19:41.029Z"
   },
   {
    "duration": 10,
    "start_time": "2022-08-30T11:19:41.038Z"
   },
   {
    "duration": 141,
    "start_time": "2022-08-30T11:19:41.050Z"
   },
   {
    "duration": 140,
    "start_time": "2022-08-30T11:19:41.193Z"
   },
   {
    "duration": 12,
    "start_time": "2022-08-30T11:19:41.334Z"
   },
   {
    "duration": 304,
    "start_time": "2022-08-30T11:19:41.347Z"
   },
   {
    "duration": 187,
    "start_time": "2022-08-30T11:19:41.653Z"
   },
   {
    "duration": 295,
    "start_time": "2022-08-30T11:19:41.842Z"
   },
   {
    "duration": 203,
    "start_time": "2022-08-30T11:19:42.138Z"
   },
   {
    "duration": 305,
    "start_time": "2022-08-30T11:19:42.343Z"
   },
   {
    "duration": 10,
    "start_time": "2022-08-30T11:19:42.650Z"
   },
   {
    "duration": 145,
    "start_time": "2022-08-30T11:19:42.661Z"
   },
   {
    "duration": 4,
    "start_time": "2022-08-30T11:19:42.807Z"
   },
   {
    "duration": 154,
    "start_time": "2022-08-30T11:19:42.812Z"
   },
   {
    "duration": 5,
    "start_time": "2022-08-30T11:19:42.968Z"
   },
   {
    "duration": 205,
    "start_time": "2022-08-30T11:19:42.974Z"
   },
   {
    "duration": 129,
    "start_time": "2022-08-30T11:19:43.181Z"
   },
   {
    "duration": 33,
    "start_time": "2022-08-30T11:19:43.312Z"
   },
   {
    "duration": 3,
    "start_time": "2022-08-30T11:19:43.346Z"
   },
   {
    "duration": 29,
    "start_time": "2022-08-30T11:19:43.351Z"
   },
   {
    "duration": 22,
    "start_time": "2022-08-30T11:19:43.381Z"
   },
   {
    "duration": 17,
    "start_time": "2022-08-30T11:19:43.404Z"
   },
   {
    "duration": 32,
    "start_time": "2022-08-30T11:19:43.424Z"
   },
   {
    "duration": 26,
    "start_time": "2022-08-30T11:19:43.457Z"
   }
  ],
  "kernelspec": {
   "display_name": "Python 3 (ipykernel)",
   "language": "python",
   "name": "python3"
  },
  "language_info": {
   "codemirror_mode": {
    "name": "ipython",
    "version": 3
   },
   "file_extension": ".py",
   "mimetype": "text/x-python",
   "name": "python",
   "nbconvert_exporter": "python",
   "pygments_lexer": "ipython3",
   "version": "3.9.5"
  },
  "toc": {
   "base_numbering": 1,
   "nav_menu": {
    "height": "421px",
    "width": "491px"
   },
   "number_sections": true,
   "sideBar": true,
   "skip_h1_title": true,
   "title_cell": "Table of Contents",
   "title_sidebar": "Contents",
   "toc_cell": true,
   "toc_position": {
    "height": "calc(100% - 180px)",
    "left": "10px",
    "top": "150px",
    "width": "185.391px"
   },
   "toc_section_display": true,
   "toc_window_display": true
  }
 },
 "nbformat": 4,
 "nbformat_minor": 2
}
