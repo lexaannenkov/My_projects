{
 "cells": [
  {
   "cell_type": "markdown",
   "metadata": {
    "toc": true
   },
   "source": [
    "<h1>Table of Contents<span class=\"tocSkip\"></span></h1>\n",
    "<div class=\"toc\"><ul class=\"toc-item\"><li><span><a href=\"#Загрузка-данных\" data-toc-modified-id=\"Загрузка-данных-1\"><span class=\"toc-item-num\">1&nbsp;&nbsp;</span>Загрузка данных</a></span></li><li><span><a href=\"#Предобработка-данных\" data-toc-modified-id=\"Предобработка-данных-2\"><span class=\"toc-item-num\">2&nbsp;&nbsp;</span>Предобработка данных</a></span></li><li><span><a href=\"#Исследовательский-анализ-данных-EDA\" data-toc-modified-id=\"Исследовательский-анализ-данных-EDA-3\"><span class=\"toc-item-num\">3&nbsp;&nbsp;</span>Исследовательский анализ данных EDA</a></span><ul class=\"toc-item\"><li><span><a href=\"#Анализ-аномалий\" data-toc-modified-id=\"Анализ-аномалий-3.1\"><span class=\"toc-item-num\">3.1&nbsp;&nbsp;</span>Анализ аномалий</a></span></li><li><span><a href=\"#Изучение-распределений-признаков-для-тех,-кто-ушёл-(отток)-и-тех,-кто-остался-(не-попали-в-отток)\" data-toc-modified-id=\"Изучение-распределений-признаков-для-тех,-кто-ушёл-(отток)-и-тех,-кто-остался-(не-попали-в-отток)-3.2\"><span class=\"toc-item-num\">3.2&nbsp;&nbsp;</span>Изучение распределений признаков для тех, кто ушёл (отток) и тех, кто остался (не попали в отток)</a></span></li><li><span><a href=\"#Категоризация-данных\" data-toc-modified-id=\"Категоризация-данных-3.3\"><span class=\"toc-item-num\">3.3&nbsp;&nbsp;</span>Категоризация данных</a></span><ul class=\"toc-item\"><li><span><a href=\"#Категоризация-по-возрасту\" data-toc-modified-id=\"Категоризация-по-возрасту-3.3.1\"><span class=\"toc-item-num\">3.3.1&nbsp;&nbsp;</span>Категоризация по возрасту</a></span></li><li><span><a href=\"#Категоризация-по-доходу\" data-toc-modified-id=\"Категоризация-по-доходу-3.3.2\"><span class=\"toc-item-num\">3.3.2&nbsp;&nbsp;</span>Категоризация по доходу</a></span></li><li><span><a href=\"#Категоризация-по-количеству-объектов-в-собственности\" data-toc-modified-id=\"Категоризация-по-количеству-объектов-в-собственности-3.3.3\"><span class=\"toc-item-num\">3.3.3&nbsp;&nbsp;</span>Категоризация по количеству объектов в собственности</a></span></li><li><span><a href=\"#Категоризация-по-количеству-используемых-продуктов-банка\" data-toc-modified-id=\"Категоризация-по-количеству-используемых-продуктов-банка-3.3.4\"><span class=\"toc-item-num\">3.3.4&nbsp;&nbsp;</span>Категоризация по количеству используемых продуктов банка</a></span></li></ul></li><li><span><a href=\"#Корреляционный-анализ\" data-toc-modified-id=\"Корреляционный-анализ-3.4\"><span class=\"toc-item-num\">3.4&nbsp;&nbsp;</span>Корреляционный анализ</a></span></li></ul></li><li><span><a href=\"#Выведение-портрета-клиентов,-которые-склонны-и-не-склонны-уходить-из-банка-на-основе-EDA\" data-toc-modified-id=\"Выведение-портрета-клиентов,-которые-склонны-и-не-склонны-уходить-из-банка-на-основе-EDA-4\"><span class=\"toc-item-num\">4&nbsp;&nbsp;</span>Выведение портрета клиентов, которые склонны и не склонны уходить из банка на основе EDA</a></span></li><li><span><a href=\"#Проверка-гипотез\" data-toc-modified-id=\"Проверка-гипотез-5\"><span class=\"toc-item-num\">5&nbsp;&nbsp;</span>Проверка гипотез</a></span><ul class=\"toc-item\"><li><span><a href=\"#Гипотеза-о-различии-дохода-между-теми-клиентами,-которые-ушли-и-теми,-которые-остались\" data-toc-modified-id=\"Гипотеза-о-различии-дохода-между-теми-клиентами,-которые-ушли-и-теми,-которые-остались-5.1\"><span class=\"toc-item-num\">5.1&nbsp;&nbsp;</span>Гипотеза о различии дохода между теми клиентами, которые ушли и теми, которые остались</a></span></li><li><span><a href=\"#Гипотеза-о-различии-возраста-между-теми-клиентами,-которые-ушли-и-теми,-которые-остались\" data-toc-modified-id=\"Гипотеза-о-различии-возраста-между-теми-клиентами,-которые-ушли-и-теми,-которые-остались-5.2\"><span class=\"toc-item-num\">5.2&nbsp;&nbsp;</span>Гипотеза о различии возраста между теми клиентами, которые ушли и теми, которые остались</a></span></li></ul></li><li><span><a href=\"#Общие-выводы-и-рекомендации\" data-toc-modified-id=\"Общие-выводы-и-рекомендации-6\"><span class=\"toc-item-num\">6&nbsp;&nbsp;</span>Общие выводы и рекомендации</a></span></li></ul></div>"
   ]
  },
  {
   "cell_type": "markdown",
   "metadata": {},
   "source": [
    "**Материалы**\n",
    "\n",
    "* Презентация: https://drive.google.com/file/d/1FS9tq8BwJUi6tpbpwa_yXgxdD5h5Elsq/view?usp=sharing\n",
    "\n",
    "* Дашборд: https://public.tableau.com/app/profile/alex6666/viz/_16558209631380/sheet1"
   ]
  },
  {
   "cell_type": "markdown",
   "metadata": {},
   "source": [
    "# Финальный проект"
   ]
  },
  {
   "cell_type": "markdown",
   "metadata": {},
   "source": [
    "**Задача:** Проанализируйте клиентов регионального банка и выделить портрет клиентов, которые склонны уходить из банка.\n",
    "\n",
    "    - Провести исследовательский анализ данных\n",
    "    - Выделить портреты клиентов, которые склонны уходить из банка\n",
    "    - Сформулировать и проверить статистические гипотезы\n",
    "    - Проверить гипотезу различия дохода между теми клиентами, которые ушли и теми, которые остались\n",
    "    - Сформулировать и проверить статистическую гипотезу относительно представленных данных"
   ]
  },
  {
   "cell_type": "markdown",
   "metadata": {},
   "source": [
    "## Загрузка данных"
   ]
  },
  {
   "cell_type": "markdown",
   "metadata": {},
   "source": [
    "Импортируем необходимые библиотеки"
   ]
  },
  {
   "cell_type": "code",
   "execution_count": 2,
   "metadata": {},
   "outputs": [],
   "source": [
    "import pandas as pd\n",
    "import numpy as np\n",
    "import matplotlib.pyplot as plt\n",
    "import seaborn as sns\n",
    "import scipy.stats as stats\n",
    "from scipy import stats as st"
   ]
  },
  {
   "cell_type": "markdown",
   "metadata": {},
   "source": [
    "Загрузим датасет"
   ]
  },
  {
   "cell_type": "code",
   "execution_count": 3,
   "metadata": {},
   "outputs": [],
   "source": [
    "data = pd.read_csv('/datasets/bank_dataset.csv')"
   ]
  },
  {
   "cell_type": "markdown",
   "metadata": {},
   "source": [
    "Посмотрим 20 случайных строк таблицы"
   ]
  },
  {
   "cell_type": "code",
   "execution_count": 4,
   "metadata": {},
   "outputs": [
    {
     "data": {
      "text/html": [
       "<div>\n",
       "<style scoped>\n",
       "    .dataframe tbody tr th:only-of-type {\n",
       "        vertical-align: middle;\n",
       "    }\n",
       "\n",
       "    .dataframe tbody tr th {\n",
       "        vertical-align: top;\n",
       "    }\n",
       "\n",
       "    .dataframe thead th {\n",
       "        text-align: right;\n",
       "    }\n",
       "</style>\n",
       "<table border=\"1\" class=\"dataframe\">\n",
       "  <thead>\n",
       "    <tr style=\"text-align: right;\">\n",
       "      <th></th>\n",
       "      <th>userid</th>\n",
       "      <th>score</th>\n",
       "      <th>City</th>\n",
       "      <th>Gender</th>\n",
       "      <th>Age</th>\n",
       "      <th>Objects</th>\n",
       "      <th>Balance</th>\n",
       "      <th>Products</th>\n",
       "      <th>CreditCard</th>\n",
       "      <th>Loyalty</th>\n",
       "      <th>estimated_salary</th>\n",
       "      <th>Churn</th>\n",
       "    </tr>\n",
       "  </thead>\n",
       "  <tbody>\n",
       "    <tr>\n",
       "      <th>3304</th>\n",
       "      <td>15719249</td>\n",
       "      <td>601</td>\n",
       "      <td>Ростов Великий</td>\n",
       "      <td>М</td>\n",
       "      <td>35</td>\n",
       "      <td>8</td>\n",
       "      <td>71553.83</td>\n",
       "      <td>1</td>\n",
       "      <td>1</td>\n",
       "      <td>0</td>\n",
       "      <td>177384.45</td>\n",
       "      <td>0</td>\n",
       "    </tr>\n",
       "    <tr>\n",
       "      <th>1921</th>\n",
       "      <td>15681091</td>\n",
       "      <td>658</td>\n",
       "      <td>Ярославль</td>\n",
       "      <td>Ж</td>\n",
       "      <td>35</td>\n",
       "      <td>5</td>\n",
       "      <td>126397.66</td>\n",
       "      <td>1</td>\n",
       "      <td>0</td>\n",
       "      <td>0</td>\n",
       "      <td>156361.58</td>\n",
       "      <td>1</td>\n",
       "    </tr>\n",
       "    <tr>\n",
       "      <th>215</th>\n",
       "      <td>15766224</td>\n",
       "      <td>668</td>\n",
       "      <td>Ростов Великий</td>\n",
       "      <td>М</td>\n",
       "      <td>47</td>\n",
       "      <td>7</td>\n",
       "      <td>106854.21</td>\n",
       "      <td>1</td>\n",
       "      <td>0</td>\n",
       "      <td>1</td>\n",
       "      <td>157959.02</td>\n",
       "      <td>1</td>\n",
       "    </tr>\n",
       "    <tr>\n",
       "      <th>1845</th>\n",
       "      <td>15631812</td>\n",
       "      <td>737</td>\n",
       "      <td>Ярославль</td>\n",
       "      <td>М</td>\n",
       "      <td>36</td>\n",
       "      <td>9</td>\n",
       "      <td>NaN</td>\n",
       "      <td>1</td>\n",
       "      <td>0</td>\n",
       "      <td>1</td>\n",
       "      <td>188670.90</td>\n",
       "      <td>1</td>\n",
       "    </tr>\n",
       "    <tr>\n",
       "      <th>8866</th>\n",
       "      <td>15853731</td>\n",
       "      <td>526</td>\n",
       "      <td>Ростов Великий</td>\n",
       "      <td>М</td>\n",
       "      <td>34</td>\n",
       "      <td>3</td>\n",
       "      <td>122726.56</td>\n",
       "      <td>1</td>\n",
       "      <td>1</td>\n",
       "      <td>1</td>\n",
       "      <td>46772.36</td>\n",
       "      <td>0</td>\n",
       "    </tr>\n",
       "    <tr>\n",
       "      <th>9469</th>\n",
       "      <td>15717309</td>\n",
       "      <td>713</td>\n",
       "      <td>Ярославль</td>\n",
       "      <td>Ж</td>\n",
       "      <td>25</td>\n",
       "      <td>4</td>\n",
       "      <td>121172.97</td>\n",
       "      <td>1</td>\n",
       "      <td>1</td>\n",
       "      <td>1</td>\n",
       "      <td>56268.98</td>\n",
       "      <td>0</td>\n",
       "    </tr>\n",
       "    <tr>\n",
       "      <th>1234</th>\n",
       "      <td>15727601</td>\n",
       "      <td>771</td>\n",
       "      <td>Ярославль</td>\n",
       "      <td>Ж</td>\n",
       "      <td>66</td>\n",
       "      <td>7</td>\n",
       "      <td>143773.07</td>\n",
       "      <td>1</td>\n",
       "      <td>1</td>\n",
       "      <td>1</td>\n",
       "      <td>130827.88</td>\n",
       "      <td>0</td>\n",
       "    </tr>\n",
       "    <tr>\n",
       "      <th>9241</th>\n",
       "      <td>15818363</td>\n",
       "      <td>509</td>\n",
       "      <td>Ярославль</td>\n",
       "      <td>М</td>\n",
       "      <td>35</td>\n",
       "      <td>8</td>\n",
       "      <td>NaN</td>\n",
       "      <td>2</td>\n",
       "      <td>0</td>\n",
       "      <td>1</td>\n",
       "      <td>67431.28</td>\n",
       "      <td>0</td>\n",
       "    </tr>\n",
       "    <tr>\n",
       "      <th>7759</th>\n",
       "      <td>15849125</td>\n",
       "      <td>549</td>\n",
       "      <td>Ростов Великий</td>\n",
       "      <td>Ж</td>\n",
       "      <td>55</td>\n",
       "      <td>1</td>\n",
       "      <td>137592.31</td>\n",
       "      <td>2</td>\n",
       "      <td>0</td>\n",
       "      <td>1</td>\n",
       "      <td>116548.02</td>\n",
       "      <td>1</td>\n",
       "    </tr>\n",
       "    <tr>\n",
       "      <th>1675</th>\n",
       "      <td>15701195</td>\n",
       "      <td>784</td>\n",
       "      <td>Рыбинск</td>\n",
       "      <td>М</td>\n",
       "      <td>33</td>\n",
       "      <td>10</td>\n",
       "      <td>NaN</td>\n",
       "      <td>2</td>\n",
       "      <td>1</td>\n",
       "      <td>0</td>\n",
       "      <td>162022.47</td>\n",
       "      <td>0</td>\n",
       "    </tr>\n",
       "    <tr>\n",
       "      <th>1301</th>\n",
       "      <td>15843592</td>\n",
       "      <td>643</td>\n",
       "      <td>Рыбинск</td>\n",
       "      <td>М</td>\n",
       "      <td>34</td>\n",
       "      <td>3</td>\n",
       "      <td>83132.09</td>\n",
       "      <td>1</td>\n",
       "      <td>1</td>\n",
       "      <td>1</td>\n",
       "      <td>21360.88</td>\n",
       "      <td>0</td>\n",
       "    </tr>\n",
       "    <tr>\n",
       "      <th>3399</th>\n",
       "      <td>15676088</td>\n",
       "      <td>628</td>\n",
       "      <td>Ярославль</td>\n",
       "      <td>Ж</td>\n",
       "      <td>31</td>\n",
       "      <td>6</td>\n",
       "      <td>175443.75</td>\n",
       "      <td>1</td>\n",
       "      <td>1</td>\n",
       "      <td>0</td>\n",
       "      <td>113167.17</td>\n",
       "      <td>1</td>\n",
       "    </tr>\n",
       "    <tr>\n",
       "      <th>1450</th>\n",
       "      <td>15718978</td>\n",
       "      <td>632</td>\n",
       "      <td>Рыбинск</td>\n",
       "      <td>М</td>\n",
       "      <td>31</td>\n",
       "      <td>3</td>\n",
       "      <td>136556.44</td>\n",
       "      <td>1</td>\n",
       "      <td>1</td>\n",
       "      <td>0</td>\n",
       "      <td>82152.83</td>\n",
       "      <td>1</td>\n",
       "    </tr>\n",
       "    <tr>\n",
       "      <th>7660</th>\n",
       "      <td>15707750</td>\n",
       "      <td>458</td>\n",
       "      <td>Рыбинск</td>\n",
       "      <td>М</td>\n",
       "      <td>36</td>\n",
       "      <td>5</td>\n",
       "      <td>NaN</td>\n",
       "      <td>2</td>\n",
       "      <td>1</td>\n",
       "      <td>0</td>\n",
       "      <td>79723.78</td>\n",
       "      <td>0</td>\n",
       "    </tr>\n",
       "    <tr>\n",
       "      <th>5667</th>\n",
       "      <td>15761753</td>\n",
       "      <td>672</td>\n",
       "      <td>Ярославль</td>\n",
       "      <td>Ж</td>\n",
       "      <td>34</td>\n",
       "      <td>8</td>\n",
       "      <td>NaN</td>\n",
       "      <td>2</td>\n",
       "      <td>1</td>\n",
       "      <td>1</td>\n",
       "      <td>16245.25</td>\n",
       "      <td>0</td>\n",
       "    </tr>\n",
       "    <tr>\n",
       "      <th>4847</th>\n",
       "      <td>15667332</td>\n",
       "      <td>534</td>\n",
       "      <td>Ярославль</td>\n",
       "      <td>Ж</td>\n",
       "      <td>23</td>\n",
       "      <td>5</td>\n",
       "      <td>104822.45</td>\n",
       "      <td>1</td>\n",
       "      <td>0</td>\n",
       "      <td>1</td>\n",
       "      <td>160176.47</td>\n",
       "      <td>0</td>\n",
       "    </tr>\n",
       "    <tr>\n",
       "      <th>9791</th>\n",
       "      <td>15784827</td>\n",
       "      <td>825</td>\n",
       "      <td>Ростов Великий</td>\n",
       "      <td>Ж</td>\n",
       "      <td>35</td>\n",
       "      <td>6</td>\n",
       "      <td>118336.95</td>\n",
       "      <td>1</td>\n",
       "      <td>1</td>\n",
       "      <td>0</td>\n",
       "      <td>26342.33</td>\n",
       "      <td>1</td>\n",
       "    </tr>\n",
       "    <tr>\n",
       "      <th>628</th>\n",
       "      <td>15631766</td>\n",
       "      <td>649</td>\n",
       "      <td>Ярославль</td>\n",
       "      <td>М</td>\n",
       "      <td>47</td>\n",
       "      <td>1</td>\n",
       "      <td>NaN</td>\n",
       "      <td>2</td>\n",
       "      <td>1</td>\n",
       "      <td>1</td>\n",
       "      <td>145593.85</td>\n",
       "      <td>0</td>\n",
       "    </tr>\n",
       "    <tr>\n",
       "      <th>9395</th>\n",
       "      <td>15843697</td>\n",
       "      <td>627</td>\n",
       "      <td>Ростов Великий</td>\n",
       "      <td>М</td>\n",
       "      <td>52</td>\n",
       "      <td>1</td>\n",
       "      <td>76101.81</td>\n",
       "      <td>2</td>\n",
       "      <td>0</td>\n",
       "      <td>1</td>\n",
       "      <td>177238.35</td>\n",
       "      <td>0</td>\n",
       "    </tr>\n",
       "    <tr>\n",
       "      <th>9479</th>\n",
       "      <td>15638948</td>\n",
       "      <td>781</td>\n",
       "      <td>Рыбинск</td>\n",
       "      <td>М</td>\n",
       "      <td>35</td>\n",
       "      <td>1</td>\n",
       "      <td>NaN</td>\n",
       "      <td>2</td>\n",
       "      <td>0</td>\n",
       "      <td>0</td>\n",
       "      <td>42117.90</td>\n",
       "      <td>0</td>\n",
       "    </tr>\n",
       "  </tbody>\n",
       "</table>\n",
       "</div>"
      ],
      "text/plain": [
       "        userid  score            City Gender  Age  Objects    Balance  \\\n",
       "3304  15719249    601  Ростов Великий      М   35        8   71553.83   \n",
       "1921  15681091    658       Ярославль      Ж   35        5  126397.66   \n",
       "215   15766224    668  Ростов Великий      М   47        7  106854.21   \n",
       "1845  15631812    737       Ярославль      М   36        9        NaN   \n",
       "8866  15853731    526  Ростов Великий      М   34        3  122726.56   \n",
       "9469  15717309    713       Ярославль      Ж   25        4  121172.97   \n",
       "1234  15727601    771       Ярославль      Ж   66        7  143773.07   \n",
       "9241  15818363    509       Ярославль      М   35        8        NaN   \n",
       "7759  15849125    549  Ростов Великий      Ж   55        1  137592.31   \n",
       "1675  15701195    784         Рыбинск      М   33       10        NaN   \n",
       "1301  15843592    643         Рыбинск      М   34        3   83132.09   \n",
       "3399  15676088    628       Ярославль      Ж   31        6  175443.75   \n",
       "1450  15718978    632         Рыбинск      М   31        3  136556.44   \n",
       "7660  15707750    458         Рыбинск      М   36        5        NaN   \n",
       "5667  15761753    672       Ярославль      Ж   34        8        NaN   \n",
       "4847  15667332    534       Ярославль      Ж   23        5  104822.45   \n",
       "9791  15784827    825  Ростов Великий      Ж   35        6  118336.95   \n",
       "628   15631766    649       Ярославль      М   47        1        NaN   \n",
       "9395  15843697    627  Ростов Великий      М   52        1   76101.81   \n",
       "9479  15638948    781         Рыбинск      М   35        1        NaN   \n",
       "\n",
       "      Products  CreditCard  Loyalty  estimated_salary  Churn  \n",
       "3304         1           1        0         177384.45      0  \n",
       "1921         1           0        0         156361.58      1  \n",
       "215          1           0        1         157959.02      1  \n",
       "1845         1           0        1         188670.90      1  \n",
       "8866         1           1        1          46772.36      0  \n",
       "9469         1           1        1          56268.98      0  \n",
       "1234         1           1        1         130827.88      0  \n",
       "9241         2           0        1          67431.28      0  \n",
       "7759         2           0        1         116548.02      1  \n",
       "1675         2           1        0         162022.47      0  \n",
       "1301         1           1        1          21360.88      0  \n",
       "3399         1           1        0         113167.17      1  \n",
       "1450         1           1        0          82152.83      1  \n",
       "7660         2           1        0          79723.78      0  \n",
       "5667         2           1        1          16245.25      0  \n",
       "4847         1           0        1         160176.47      0  \n",
       "9791         1           1        0          26342.33      1  \n",
       "628          2           1        1         145593.85      0  \n",
       "9395         2           0        1         177238.35      0  \n",
       "9479         2           0        0          42117.90      0  "
      ]
     },
     "execution_count": 4,
     "metadata": {},
     "output_type": "execute_result"
    }
   ],
   "source": [
    "data.sample(20)"
   ]
  },
  {
   "cell_type": "markdown",
   "metadata": {},
   "source": [
    "Посмотрим информацию о таблице"
   ]
  },
  {
   "cell_type": "code",
   "execution_count": 5,
   "metadata": {},
   "outputs": [
    {
     "name": "stdout",
     "output_type": "stream",
     "text": [
      "<class 'pandas.core.frame.DataFrame'>\n",
      "RangeIndex: 10000 entries, 0 to 9999\n",
      "Data columns (total 12 columns):\n",
      " #   Column            Non-Null Count  Dtype  \n",
      "---  ------            --------------  -----  \n",
      " 0   userid            10000 non-null  int64  \n",
      " 1   score             10000 non-null  int64  \n",
      " 2   City              10000 non-null  object \n",
      " 3   Gender            10000 non-null  object \n",
      " 4   Age               10000 non-null  int64  \n",
      " 5   Objects           10000 non-null  int64  \n",
      " 6   Balance           6383 non-null   float64\n",
      " 7   Products          10000 non-null  int64  \n",
      " 8   CreditCard        10000 non-null  int64  \n",
      " 9   Loyalty           10000 non-null  int64  \n",
      " 10  estimated_salary  10000 non-null  float64\n",
      " 11  Churn             10000 non-null  int64  \n",
      "dtypes: float64(2), int64(8), object(2)\n",
      "memory usage: 937.6+ KB\n"
     ]
    }
   ],
   "source": [
    "data.info()"
   ]
  },
  {
   "cell_type": "markdown",
   "metadata": {},
   "source": [
    "Имеем таблицу состоящую из 12 столбцов и 10 000 строк:\n",
    "\n",
    "* `userid` — идентификатор пользователя\n",
    "* `score` — баллы кредитного скоринга\n",
    "* `City` — город\n",
    "* `Gender` — пол\n",
    "* `Age` — возраст\n",
    "* `Objects` — количество объектов в собственности\n",
    "* `Balance` — баланс на счёте\n",
    "* `Products` — количество продуктов, которыми пользуется клиент\n",
    "* `CreditCard` — есть ли кредитная карта\n",
    "* `Loyalty` — активный клиент\n",
    "* `estimated_salary` — заработная плата клиента\n",
    "* `Churn` — ушёл или нет\n",
    "    \n",
    "В таблице необходимо привести названия столбцов к нижнему регистру и змеиному стилю, пропущенные значения есть в столбце `Balance` - балансе на счете клиента. Причиной появления пропусков может быть технический сбой, ошибка при выгрузке данных, или клиент не имеет дебетовой карты и отображается в базе таким образом. В данном случае стоит обратиться в технический отдел чтобы прояснить ситуацию. Далее посмотрим, является ли такой сбой характерным для определенных признаков. С типами данных все в порядке. Можно приступать к предобработке данных."
   ]
  },
  {
   "cell_type": "markdown",
   "metadata": {},
   "source": [
    "Посмотрим данные с пропусками"
   ]
  },
  {
   "cell_type": "code",
   "execution_count": 6,
   "metadata": {},
   "outputs": [
    {
     "data": {
      "text/html": [
       "<div>\n",
       "<style scoped>\n",
       "    .dataframe tbody tr th:only-of-type {\n",
       "        vertical-align: middle;\n",
       "    }\n",
       "\n",
       "    .dataframe tbody tr th {\n",
       "        vertical-align: top;\n",
       "    }\n",
       "\n",
       "    .dataframe thead th {\n",
       "        text-align: right;\n",
       "    }\n",
       "</style>\n",
       "<table border=\"1\" class=\"dataframe\">\n",
       "  <thead>\n",
       "    <tr style=\"text-align: right;\">\n",
       "      <th></th>\n",
       "      <th>userid</th>\n",
       "      <th>score</th>\n",
       "      <th>Gender</th>\n",
       "      <th>Age</th>\n",
       "      <th>Objects</th>\n",
       "      <th>Balance</th>\n",
       "      <th>Products</th>\n",
       "      <th>CreditCard</th>\n",
       "      <th>Loyalty</th>\n",
       "      <th>estimated_salary</th>\n",
       "      <th>Churn</th>\n",
       "    </tr>\n",
       "    <tr>\n",
       "      <th>City</th>\n",
       "      <th></th>\n",
       "      <th></th>\n",
       "      <th></th>\n",
       "      <th></th>\n",
       "      <th></th>\n",
       "      <th></th>\n",
       "      <th></th>\n",
       "      <th></th>\n",
       "      <th></th>\n",
       "      <th></th>\n",
       "      <th></th>\n",
       "    </tr>\n",
       "  </thead>\n",
       "  <tbody>\n",
       "    <tr>\n",
       "      <th>Ростов Великий</th>\n",
       "      <td>2509</td>\n",
       "      <td>2509</td>\n",
       "      <td>2509</td>\n",
       "      <td>2509</td>\n",
       "      <td>2509</td>\n",
       "      <td>2509</td>\n",
       "      <td>2509</td>\n",
       "      <td>2509</td>\n",
       "      <td>2509</td>\n",
       "      <td>2509</td>\n",
       "      <td>2509</td>\n",
       "    </tr>\n",
       "    <tr>\n",
       "      <th>Рыбинск</th>\n",
       "      <td>2477</td>\n",
       "      <td>2477</td>\n",
       "      <td>2477</td>\n",
       "      <td>2477</td>\n",
       "      <td>2477</td>\n",
       "      <td>1278</td>\n",
       "      <td>2477</td>\n",
       "      <td>2477</td>\n",
       "      <td>2477</td>\n",
       "      <td>2477</td>\n",
       "      <td>2477</td>\n",
       "    </tr>\n",
       "    <tr>\n",
       "      <th>Ярославль</th>\n",
       "      <td>5014</td>\n",
       "      <td>5014</td>\n",
       "      <td>5014</td>\n",
       "      <td>5014</td>\n",
       "      <td>5014</td>\n",
       "      <td>2596</td>\n",
       "      <td>5014</td>\n",
       "      <td>5014</td>\n",
       "      <td>5014</td>\n",
       "      <td>5014</td>\n",
       "      <td>5014</td>\n",
       "    </tr>\n",
       "  </tbody>\n",
       "</table>\n",
       "</div>"
      ],
      "text/plain": [
       "                userid  score  Gender   Age  Objects  Balance  Products  \\\n",
       "City                                                                      \n",
       "Ростов Великий    2509   2509    2509  2509     2509     2509      2509   \n",
       "Рыбинск           2477   2477    2477  2477     2477     1278      2477   \n",
       "Ярославль         5014   5014    5014  5014     5014     2596      5014   \n",
       "\n",
       "                CreditCard  Loyalty  estimated_salary  Churn  \n",
       "City                                                          \n",
       "Ростов Великий        2509     2509              2509   2509  \n",
       "Рыбинск               2477     2477              2477   2477  \n",
       "Ярославль             5014     5014              5014   5014  "
      ]
     },
     "execution_count": 6,
     "metadata": {},
     "output_type": "execute_result"
    }
   ],
   "source": [
    "data.groupby('City').count()"
   ]
  },
  {
   "cell_type": "markdown",
   "metadata": {},
   "source": [
    "Пропуски встречаются в 2 из 3 городов. В Ярославле и Рыбинске пропуски составляют чуть более половины. Создадим датафрейм с пропусками, заменим их нулями и посторим данные."
   ]
  },
  {
   "cell_type": "code",
   "execution_count": 17,
   "metadata": {},
   "outputs": [
    {
     "data": {
      "text/html": [
       "<div>\n",
       "<style scoped>\n",
       "    .dataframe tbody tr th:only-of-type {\n",
       "        vertical-align: middle;\n",
       "    }\n",
       "\n",
       "    .dataframe tbody tr th {\n",
       "        vertical-align: top;\n",
       "    }\n",
       "\n",
       "    .dataframe thead th {\n",
       "        text-align: right;\n",
       "    }\n",
       "</style>\n",
       "<table border=\"1\" class=\"dataframe\">\n",
       "  <thead>\n",
       "    <tr style=\"text-align: right;\">\n",
       "      <th></th>\n",
       "      <th>userid</th>\n",
       "      <th>score</th>\n",
       "      <th>City</th>\n",
       "      <th>Gender</th>\n",
       "      <th>Age</th>\n",
       "      <th>Objects</th>\n",
       "      <th>Balance</th>\n",
       "      <th>Products</th>\n",
       "      <th>CreditCard</th>\n",
       "      <th>Loyalty</th>\n",
       "      <th>estimated_salary</th>\n",
       "      <th>Churn</th>\n",
       "    </tr>\n",
       "  </thead>\n",
       "  <tbody>\n",
       "    <tr>\n",
       "      <th>0</th>\n",
       "      <td>15677338</td>\n",
       "      <td>619</td>\n",
       "      <td>Ярославль</td>\n",
       "      <td>Ж</td>\n",
       "      <td>42</td>\n",
       "      <td>2</td>\n",
       "      <td>0.0</td>\n",
       "      <td>1</td>\n",
       "      <td>1</td>\n",
       "      <td>1</td>\n",
       "      <td>101348.88</td>\n",
       "      <td>1</td>\n",
       "    </tr>\n",
       "    <tr>\n",
       "      <th>3</th>\n",
       "      <td>15744090</td>\n",
       "      <td>699</td>\n",
       "      <td>Ярославль</td>\n",
       "      <td>Ж</td>\n",
       "      <td>39</td>\n",
       "      <td>1</td>\n",
       "      <td>0.0</td>\n",
       "      <td>2</td>\n",
       "      <td>0</td>\n",
       "      <td>0</td>\n",
       "      <td>93826.63</td>\n",
       "      <td>0</td>\n",
       "    </tr>\n",
       "    <tr>\n",
       "      <th>6</th>\n",
       "      <td>15635267</td>\n",
       "      <td>822</td>\n",
       "      <td>Ярославль</td>\n",
       "      <td>М</td>\n",
       "      <td>50</td>\n",
       "      <td>7</td>\n",
       "      <td>0.0</td>\n",
       "      <td>2</td>\n",
       "      <td>1</td>\n",
       "      <td>1</td>\n",
       "      <td>10062.80</td>\n",
       "      <td>0</td>\n",
       "    </tr>\n",
       "    <tr>\n",
       "      <th>11</th>\n",
       "      <td>15779909</td>\n",
       "      <td>497</td>\n",
       "      <td>Рыбинск</td>\n",
       "      <td>М</td>\n",
       "      <td>24</td>\n",
       "      <td>3</td>\n",
       "      <td>0.0</td>\n",
       "      <td>2</td>\n",
       "      <td>1</td>\n",
       "      <td>0</td>\n",
       "      <td>76390.01</td>\n",
       "      <td>0</td>\n",
       "    </tr>\n",
       "    <tr>\n",
       "      <th>12</th>\n",
       "      <td>15675000</td>\n",
       "      <td>476</td>\n",
       "      <td>Ярославль</td>\n",
       "      <td>Ж</td>\n",
       "      <td>34</td>\n",
       "      <td>10</td>\n",
       "      <td>0.0</td>\n",
       "      <td>2</td>\n",
       "      <td>1</td>\n",
       "      <td>0</td>\n",
       "      <td>26260.98</td>\n",
       "      <td>0</td>\n",
       "    </tr>\n",
       "  </tbody>\n",
       "</table>\n",
       "</div>"
      ],
      "text/plain": [
       "      userid  score       City Gender  Age  Objects  Balance  Products  \\\n",
       "0   15677338    619  Ярославль      Ж   42        2      0.0         1   \n",
       "3   15744090    699  Ярославль      Ж   39        1      0.0         2   \n",
       "6   15635267    822  Ярославль      М   50        7      0.0         2   \n",
       "11  15779909    497    Рыбинск      М   24        3      0.0         2   \n",
       "12  15675000    476  Ярославль      Ж   34       10      0.0         2   \n",
       "\n",
       "    CreditCard  Loyalty  estimated_salary  Churn  \n",
       "0            1        1         101348.88      1  \n",
       "3            0        0          93826.63      0  \n",
       "6            1        1          10062.80      0  \n",
       "11           1        0          76390.01      0  \n",
       "12           1        0          26260.98      0  "
      ]
     },
     "execution_count": 17,
     "metadata": {},
     "output_type": "execute_result"
    }
   ],
   "source": [
    "data_nan = data.replace(np.nan, 0)\n",
    "data_nan = data_nan.query('Balance == 0')\n",
    "data_nan.head()"
   ]
  },
  {
   "cell_type": "code",
   "execution_count": 18,
   "metadata": {},
   "outputs": [
    {
     "data": {
      "text/plain": [
       "Ярославль    2418\n",
       "Рыбинск      1199\n",
       "Name: City, dtype: int64"
      ]
     },
     "execution_count": 18,
     "metadata": {},
     "output_type": "execute_result"
    }
   ],
   "source": [
    "data_nan['City'].value_counts()"
   ]
  },
  {
   "cell_type": "markdown",
   "metadata": {},
   "source": [
    "В Ярославле пропусков 2418 из 3617 значений, в Рыбинске оставшиеся 1199."
   ]
  },
  {
   "cell_type": "code",
   "execution_count": 19,
   "metadata": {},
   "outputs": [
    {
     "data": {
      "text/plain": [
       "0    3117\n",
       "1     500\n",
       "Name: Churn, dtype: int64"
      ]
     },
     "execution_count": 19,
     "metadata": {},
     "output_type": "execute_result"
    }
   ],
   "source": [
    "data_nan['Churn'].value_counts()"
   ]
  },
  {
   "cell_type": "markdown",
   "metadata": {},
   "source": [
    "Из всех клиентов с пропусками в балансе на счете, ушли в отток 500."
   ]
  },
  {
   "cell_type": "code",
   "execution_count": 20,
   "metadata": {},
   "outputs": [
    {
     "data": {
      "text/plain": [
       "1    1873\n",
       "0    1744\n",
       "Name: Loyalty, dtype: int64"
      ]
     },
     "execution_count": 20,
     "metadata": {},
     "output_type": "execute_result"
    }
   ],
   "source": [
    "data_nan['Loyalty'].value_counts()"
   ]
  },
  {
   "cell_type": "markdown",
   "metadata": {},
   "source": [
    "По активности примерно поровну кто ушел и кто остался."
   ]
  },
  {
   "cell_type": "code",
   "execution_count": 21,
   "metadata": {},
   "outputs": [
    {
     "data": {
      "text/plain": [
       "1    2592\n",
       "0    1025\n",
       "Name: CreditCard, dtype: int64"
      ]
     },
     "execution_count": 21,
     "metadata": {},
     "output_type": "execute_result"
    }
   ],
   "source": [
    "data_nan['CreditCard'].value_counts()"
   ]
  },
  {
   "cell_type": "markdown",
   "metadata": {},
   "source": [
    "Более чем у 2/3 таких клиентов есть кредитная карта. В целом можно предположить, что действительно система в случае отсутствия у клиента дебетовой карты дает такой сбой и это происходит не во всех городах. Но какого-то явного очевидного признака не обнаружено."
   ]
  },
  {
   "cell_type": "markdown",
   "metadata": {},
   "source": [
    "## Предобработка данных"
   ]
  },
  {
   "cell_type": "markdown",
   "metadata": {},
   "source": [
    "Приведем названия столбцов к нижнему регистру и переименуем столбец"
   ]
  },
  {
   "cell_type": "code",
   "execution_count": 5,
   "metadata": {},
   "outputs": [
    {
     "data": {
      "text/html": [
       "<div>\n",
       "<style scoped>\n",
       "    .dataframe tbody tr th:only-of-type {\n",
       "        vertical-align: middle;\n",
       "    }\n",
       "\n",
       "    .dataframe tbody tr th {\n",
       "        vertical-align: top;\n",
       "    }\n",
       "\n",
       "    .dataframe thead th {\n",
       "        text-align: right;\n",
       "    }\n",
       "</style>\n",
       "<table border=\"1\" class=\"dataframe\">\n",
       "  <thead>\n",
       "    <tr style=\"text-align: right;\">\n",
       "      <th></th>\n",
       "      <th>user_id</th>\n",
       "      <th>score</th>\n",
       "      <th>city</th>\n",
       "      <th>gender</th>\n",
       "      <th>age</th>\n",
       "      <th>objects</th>\n",
       "      <th>balance</th>\n",
       "      <th>products</th>\n",
       "      <th>creditcard</th>\n",
       "      <th>loyalty</th>\n",
       "      <th>estimated_salary</th>\n",
       "      <th>churn</th>\n",
       "    </tr>\n",
       "  </thead>\n",
       "  <tbody>\n",
       "    <tr>\n",
       "      <th>0</th>\n",
       "      <td>15677338</td>\n",
       "      <td>619</td>\n",
       "      <td>Ярославль</td>\n",
       "      <td>Ж</td>\n",
       "      <td>42</td>\n",
       "      <td>2</td>\n",
       "      <td>NaN</td>\n",
       "      <td>1</td>\n",
       "      <td>1</td>\n",
       "      <td>1</td>\n",
       "      <td>101348.88</td>\n",
       "      <td>1</td>\n",
       "    </tr>\n",
       "    <tr>\n",
       "      <th>1</th>\n",
       "      <td>15690047</td>\n",
       "      <td>608</td>\n",
       "      <td>Рыбинск</td>\n",
       "      <td>Ж</td>\n",
       "      <td>41</td>\n",
       "      <td>1</td>\n",
       "      <td>83807.86</td>\n",
       "      <td>1</td>\n",
       "      <td>0</td>\n",
       "      <td>1</td>\n",
       "      <td>112542.58</td>\n",
       "      <td>0</td>\n",
       "    </tr>\n",
       "    <tr>\n",
       "      <th>2</th>\n",
       "      <td>15662040</td>\n",
       "      <td>502</td>\n",
       "      <td>Ярославль</td>\n",
       "      <td>Ж</td>\n",
       "      <td>42</td>\n",
       "      <td>8</td>\n",
       "      <td>159660.80</td>\n",
       "      <td>3</td>\n",
       "      <td>1</td>\n",
       "      <td>0</td>\n",
       "      <td>113931.57</td>\n",
       "      <td>1</td>\n",
       "    </tr>\n",
       "    <tr>\n",
       "      <th>3</th>\n",
       "      <td>15744090</td>\n",
       "      <td>699</td>\n",
       "      <td>Ярославль</td>\n",
       "      <td>Ж</td>\n",
       "      <td>39</td>\n",
       "      <td>1</td>\n",
       "      <td>NaN</td>\n",
       "      <td>2</td>\n",
       "      <td>0</td>\n",
       "      <td>0</td>\n",
       "      <td>93826.63</td>\n",
       "      <td>0</td>\n",
       "    </tr>\n",
       "    <tr>\n",
       "      <th>4</th>\n",
       "      <td>15780624</td>\n",
       "      <td>850</td>\n",
       "      <td>Рыбинск</td>\n",
       "      <td>Ж</td>\n",
       "      <td>43</td>\n",
       "      <td>2</td>\n",
       "      <td>125510.82</td>\n",
       "      <td>1</td>\n",
       "      <td>1</td>\n",
       "      <td>1</td>\n",
       "      <td>79084.10</td>\n",
       "      <td>0</td>\n",
       "    </tr>\n",
       "  </tbody>\n",
       "</table>\n",
       "</div>"
      ],
      "text/plain": [
       "    user_id  score       city gender  age  objects    balance  products  \\\n",
       "0  15677338    619  Ярославль      Ж   42        2        NaN         1   \n",
       "1  15690047    608    Рыбинск      Ж   41        1   83807.86         1   \n",
       "2  15662040    502  Ярославль      Ж   42        8  159660.80         3   \n",
       "3  15744090    699  Ярославль      Ж   39        1        NaN         2   \n",
       "4  15780624    850    Рыбинск      Ж   43        2  125510.82         1   \n",
       "\n",
       "   creditcard  loyalty  estimated_salary  churn  \n",
       "0           1        1         101348.88      1  \n",
       "1           0        1         112542.58      0  \n",
       "2           1        0         113931.57      1  \n",
       "3           0        0          93826.63      0  \n",
       "4           1        1          79084.10      0  "
      ]
     },
     "execution_count": 5,
     "metadata": {},
     "output_type": "execute_result"
    }
   ],
   "source": [
    "data.columns = data.columns.str.lower()\n",
    "data.rename(columns = {'userid':'user_id'}, inplace = True)\n",
    "data.head()"
   ]
  },
  {
   "cell_type": "markdown",
   "metadata": {},
   "source": [
    "Заменим в столбце `gender` значения на числовые"
   ]
  },
  {
   "cell_type": "code",
   "execution_count": 6,
   "metadata": {},
   "outputs": [],
   "source": [
    "data.replace({'Ж':0, 'М': 1}, inplace = True)"
   ]
  },
  {
   "cell_type": "markdown",
   "metadata": {},
   "source": [
    "Напишем функции для перевода названий городов в цифровые значения"
   ]
  },
  {
   "cell_type": "code",
   "execution_count": 7,
   "metadata": {},
   "outputs": [],
   "source": [
    "def city_1 (data):\n",
    "    if data['city'] == 'Ярославль':\n",
    "        return 1\n",
    "    else:\n",
    "        return 0   \n",
    "\n",
    "def city_2 (data):\n",
    "    if data['city'] == 'Рыбинск':\n",
    "        return 1\n",
    "    else:\n",
    "        return 0   \n",
    "    \n",
    "def city_3 (data):\n",
    "    if data['city'] == 'Ростов Великий':\n",
    "        return 1\n",
    "    else:\n",
    "        return 0    "
   ]
  },
  {
   "cell_type": "markdown",
   "metadata": {},
   "source": [
    "<div class='alert alert-info'> 🔬\n",
    "Такой кодирование можно делать с помощью pd.get_dummies"
   ]
  },
  {
   "cell_type": "code",
   "execution_count": 8,
   "metadata": {},
   "outputs": [
    {
     "data": {
      "text/html": [
       "<div>\n",
       "<style scoped>\n",
       "    .dataframe tbody tr th:only-of-type {\n",
       "        vertical-align: middle;\n",
       "    }\n",
       "\n",
       "    .dataframe tbody tr th {\n",
       "        vertical-align: top;\n",
       "    }\n",
       "\n",
       "    .dataframe thead th {\n",
       "        text-align: right;\n",
       "    }\n",
       "</style>\n",
       "<table border=\"1\" class=\"dataframe\">\n",
       "  <thead>\n",
       "    <tr style=\"text-align: right;\">\n",
       "      <th></th>\n",
       "      <th>user_id</th>\n",
       "      <th>score</th>\n",
       "      <th>gender</th>\n",
       "      <th>age</th>\n",
       "      <th>objects</th>\n",
       "      <th>balance</th>\n",
       "      <th>products</th>\n",
       "      <th>creditcard</th>\n",
       "      <th>loyalty</th>\n",
       "      <th>estimated_salary</th>\n",
       "      <th>churn</th>\n",
       "      <th>Ярославль</th>\n",
       "      <th>Рыбинск</th>\n",
       "      <th>Ростов Великий</th>\n",
       "    </tr>\n",
       "  </thead>\n",
       "  <tbody>\n",
       "    <tr>\n",
       "      <th>5514</th>\n",
       "      <td>15816019</td>\n",
       "      <td>641</td>\n",
       "      <td>1</td>\n",
       "      <td>65</td>\n",
       "      <td>6</td>\n",
       "      <td>38340.02</td>\n",
       "      <td>1</td>\n",
       "      <td>1</td>\n",
       "      <td>0</td>\n",
       "      <td>32607.77</td>\n",
       "      <td>1</td>\n",
       "      <td>1</td>\n",
       "      <td>0</td>\n",
       "      <td>0</td>\n",
       "    </tr>\n",
       "    <tr>\n",
       "      <th>1552</th>\n",
       "      <td>15761515</td>\n",
       "      <td>780</td>\n",
       "      <td>1</td>\n",
       "      <td>34</td>\n",
       "      <td>1</td>\n",
       "      <td>NaN</td>\n",
       "      <td>1</td>\n",
       "      <td>1</td>\n",
       "      <td>1</td>\n",
       "      <td>64804.04</td>\n",
       "      <td>0</td>\n",
       "      <td>1</td>\n",
       "      <td>0</td>\n",
       "      <td>0</td>\n",
       "    </tr>\n",
       "    <tr>\n",
       "      <th>5547</th>\n",
       "      <td>15756581</td>\n",
       "      <td>688</td>\n",
       "      <td>1</td>\n",
       "      <td>38</td>\n",
       "      <td>7</td>\n",
       "      <td>148045.68</td>\n",
       "      <td>1</td>\n",
       "      <td>1</td>\n",
       "      <td>0</td>\n",
       "      <td>175479.92</td>\n",
       "      <td>1</td>\n",
       "      <td>1</td>\n",
       "      <td>0</td>\n",
       "      <td>0</td>\n",
       "    </tr>\n",
       "    <tr>\n",
       "      <th>5381</th>\n",
       "      <td>15706619</td>\n",
       "      <td>850</td>\n",
       "      <td>1</td>\n",
       "      <td>32</td>\n",
       "      <td>9</td>\n",
       "      <td>141827.33</td>\n",
       "      <td>2</td>\n",
       "      <td>1</td>\n",
       "      <td>1</td>\n",
       "      <td>149458.73</td>\n",
       "      <td>0</td>\n",
       "      <td>0</td>\n",
       "      <td>0</td>\n",
       "      <td>1</td>\n",
       "    </tr>\n",
       "    <tr>\n",
       "      <th>1763</th>\n",
       "      <td>15645580</td>\n",
       "      <td>717</td>\n",
       "      <td>1</td>\n",
       "      <td>38</td>\n",
       "      <td>7</td>\n",
       "      <td>97459.06</td>\n",
       "      <td>1</td>\n",
       "      <td>0</td>\n",
       "      <td>0</td>\n",
       "      <td>189175.71</td>\n",
       "      <td>0</td>\n",
       "      <td>1</td>\n",
       "      <td>0</td>\n",
       "      <td>0</td>\n",
       "    </tr>\n",
       "    <tr>\n",
       "      <th>4868</th>\n",
       "      <td>15704066</td>\n",
       "      <td>754</td>\n",
       "      <td>1</td>\n",
       "      <td>37</td>\n",
       "      <td>6</td>\n",
       "      <td>NaN</td>\n",
       "      <td>1</td>\n",
       "      <td>1</td>\n",
       "      <td>1</td>\n",
       "      <td>116141.72</td>\n",
       "      <td>0</td>\n",
       "      <td>1</td>\n",
       "      <td>0</td>\n",
       "      <td>0</td>\n",
       "    </tr>\n",
       "    <tr>\n",
       "      <th>7548</th>\n",
       "      <td>15701240</td>\n",
       "      <td>584</td>\n",
       "      <td>0</td>\n",
       "      <td>62</td>\n",
       "      <td>9</td>\n",
       "      <td>137727.34</td>\n",
       "      <td>2</td>\n",
       "      <td>0</td>\n",
       "      <td>1</td>\n",
       "      <td>121102.90</td>\n",
       "      <td>0</td>\n",
       "      <td>0</td>\n",
       "      <td>0</td>\n",
       "      <td>1</td>\n",
       "    </tr>\n",
       "    <tr>\n",
       "      <th>3245</th>\n",
       "      <td>15810887</td>\n",
       "      <td>514</td>\n",
       "      <td>0</td>\n",
       "      <td>45</td>\n",
       "      <td>3</td>\n",
       "      <td>109032.23</td>\n",
       "      <td>1</td>\n",
       "      <td>0</td>\n",
       "      <td>1</td>\n",
       "      <td>155407.21</td>\n",
       "      <td>1</td>\n",
       "      <td>0</td>\n",
       "      <td>0</td>\n",
       "      <td>1</td>\n",
       "    </tr>\n",
       "    <tr>\n",
       "      <th>7344</th>\n",
       "      <td>15763461</td>\n",
       "      <td>762</td>\n",
       "      <td>1</td>\n",
       "      <td>28</td>\n",
       "      <td>2</td>\n",
       "      <td>NaN</td>\n",
       "      <td>2</td>\n",
       "      <td>1</td>\n",
       "      <td>0</td>\n",
       "      <td>167909.52</td>\n",
       "      <td>0</td>\n",
       "      <td>1</td>\n",
       "      <td>0</td>\n",
       "      <td>0</td>\n",
       "    </tr>\n",
       "    <tr>\n",
       "      <th>2066</th>\n",
       "      <td>15814998</td>\n",
       "      <td>545</td>\n",
       "      <td>1</td>\n",
       "      <td>37</td>\n",
       "      <td>9</td>\n",
       "      <td>110483.86</td>\n",
       "      <td>1</td>\n",
       "      <td>1</td>\n",
       "      <td>1</td>\n",
       "      <td>127394.67</td>\n",
       "      <td>0</td>\n",
       "      <td>0</td>\n",
       "      <td>0</td>\n",
       "      <td>1</td>\n",
       "    </tr>\n",
       "  </tbody>\n",
       "</table>\n",
       "</div>"
      ],
      "text/plain": [
       "       user_id  score  gender  age  objects    balance  products  creditcard  \\\n",
       "5514  15816019    641       1   65        6   38340.02         1           1   \n",
       "1552  15761515    780       1   34        1        NaN         1           1   \n",
       "5547  15756581    688       1   38        7  148045.68         1           1   \n",
       "5381  15706619    850       1   32        9  141827.33         2           1   \n",
       "1763  15645580    717       1   38        7   97459.06         1           0   \n",
       "4868  15704066    754       1   37        6        NaN         1           1   \n",
       "7548  15701240    584       0   62        9  137727.34         2           0   \n",
       "3245  15810887    514       0   45        3  109032.23         1           0   \n",
       "7344  15763461    762       1   28        2        NaN         2           1   \n",
       "2066  15814998    545       1   37        9  110483.86         1           1   \n",
       "\n",
       "      loyalty  estimated_salary  churn  Ярославль  Рыбинск  Ростов Великий  \n",
       "5514        0          32607.77      1          1        0               0  \n",
       "1552        1          64804.04      0          1        0               0  \n",
       "5547        0         175479.92      1          1        0               0  \n",
       "5381        1         149458.73      0          0        0               1  \n",
       "1763        0         189175.71      0          1        0               0  \n",
       "4868        1         116141.72      0          1        0               0  \n",
       "7548        1         121102.90      0          0        0               1  \n",
       "3245        1         155407.21      1          0        0               1  \n",
       "7344        0         167909.52      0          1        0               0  \n",
       "2066        1         127394.67      0          0        0               1  "
      ]
     },
     "execution_count": 8,
     "metadata": {},
     "output_type": "execute_result"
    }
   ],
   "source": [
    "data['Ярославль'] = data.apply(city_1, axis=1)\n",
    "data['Рыбинск'] = data.apply(city_2, axis=1)\n",
    "data['Ростов Великий'] = data.apply(city_3, axis=1)   #применим функции\n",
    "\n",
    "data.drop(columns=['city'], inplace=True)   #удалим ненужный столбец с названиями городов и заодно удалим столбец user_id он ничего нам не дает.\n",
    "\n",
    "data.sample(10)"
   ]
  },
  {
   "cell_type": "markdown",
   "metadata": {},
   "source": [
    "Посмотрим дубликаты"
   ]
  },
  {
   "cell_type": "code",
   "execution_count": 9,
   "metadata": {},
   "outputs": [
    {
     "data": {
      "text/plain": [
       "0"
      ]
     },
     "execution_count": 9,
     "metadata": {},
     "output_type": "execute_result"
    }
   ],
   "source": [
    "data.duplicated().sum()"
   ]
  },
  {
   "cell_type": "markdown",
   "metadata": {},
   "source": [
    "Дубликатов не обнаружено, посмотри пропуски"
   ]
  },
  {
   "cell_type": "code",
   "execution_count": 10,
   "metadata": {},
   "outputs": [
    {
     "data": {
      "text/plain": [
       "user_id                0\n",
       "score                  0\n",
       "gender                 0\n",
       "age                    0\n",
       "objects                0\n",
       "balance             3617\n",
       "products               0\n",
       "creditcard             0\n",
       "loyalty                0\n",
       "estimated_salary       0\n",
       "churn                  0\n",
       "Ярославль              0\n",
       "Рыбинск                0\n",
       "Ростов Великий         0\n",
       "dtype: int64"
      ]
     },
     "execution_count": 10,
     "metadata": {},
     "output_type": "execute_result"
    }
   ],
   "source": [
    "data.isna().sum()"
   ]
  },
  {
   "cell_type": "markdown",
   "metadata": {},
   "source": [
    "Обнаруженные ранее пропуски подтвердились. Пропусков 36% выборки, это довольно много, удалять их нельзя. Можно предположить, что это технический сбой при выгрузке, либо какой то сбой при записи в БД, или отсутствие дебетовой карты, либо сберегательного счета и т.д. Выберем предположение, что наличие пропусков заключается в отсутствии у клиента дебетовой карты и система распознает их таким образом, что можно приравнять к нулевому балансу, заменим пропуски на нули."
   ]
  },
  {
   "cell_type": "code",
   "execution_count": 11,
   "metadata": {},
   "outputs": [
    {
     "data": {
      "text/html": [
       "<div>\n",
       "<style scoped>\n",
       "    .dataframe tbody tr th:only-of-type {\n",
       "        vertical-align: middle;\n",
       "    }\n",
       "\n",
       "    .dataframe tbody tr th {\n",
       "        vertical-align: top;\n",
       "    }\n",
       "\n",
       "    .dataframe thead th {\n",
       "        text-align: right;\n",
       "    }\n",
       "</style>\n",
       "<table border=\"1\" class=\"dataframe\">\n",
       "  <thead>\n",
       "    <tr style=\"text-align: right;\">\n",
       "      <th></th>\n",
       "      <th>user_id</th>\n",
       "      <th>score</th>\n",
       "      <th>gender</th>\n",
       "      <th>age</th>\n",
       "      <th>objects</th>\n",
       "      <th>balance</th>\n",
       "      <th>products</th>\n",
       "      <th>creditcard</th>\n",
       "      <th>loyalty</th>\n",
       "      <th>estimated_salary</th>\n",
       "      <th>churn</th>\n",
       "      <th>Ярославль</th>\n",
       "      <th>Рыбинск</th>\n",
       "      <th>Ростов Великий</th>\n",
       "    </tr>\n",
       "  </thead>\n",
       "  <tbody>\n",
       "    <tr>\n",
       "      <th>0</th>\n",
       "      <td>15677338</td>\n",
       "      <td>619</td>\n",
       "      <td>0</td>\n",
       "      <td>42</td>\n",
       "      <td>2</td>\n",
       "      <td>0.00</td>\n",
       "      <td>1</td>\n",
       "      <td>1</td>\n",
       "      <td>1</td>\n",
       "      <td>101348.88</td>\n",
       "      <td>1</td>\n",
       "      <td>1</td>\n",
       "      <td>0</td>\n",
       "      <td>0</td>\n",
       "    </tr>\n",
       "    <tr>\n",
       "      <th>1</th>\n",
       "      <td>15690047</td>\n",
       "      <td>608</td>\n",
       "      <td>0</td>\n",
       "      <td>41</td>\n",
       "      <td>1</td>\n",
       "      <td>83807.86</td>\n",
       "      <td>1</td>\n",
       "      <td>0</td>\n",
       "      <td>1</td>\n",
       "      <td>112542.58</td>\n",
       "      <td>0</td>\n",
       "      <td>0</td>\n",
       "      <td>1</td>\n",
       "      <td>0</td>\n",
       "    </tr>\n",
       "    <tr>\n",
       "      <th>2</th>\n",
       "      <td>15662040</td>\n",
       "      <td>502</td>\n",
       "      <td>0</td>\n",
       "      <td>42</td>\n",
       "      <td>8</td>\n",
       "      <td>159660.80</td>\n",
       "      <td>3</td>\n",
       "      <td>1</td>\n",
       "      <td>0</td>\n",
       "      <td>113931.57</td>\n",
       "      <td>1</td>\n",
       "      <td>1</td>\n",
       "      <td>0</td>\n",
       "      <td>0</td>\n",
       "    </tr>\n",
       "    <tr>\n",
       "      <th>3</th>\n",
       "      <td>15744090</td>\n",
       "      <td>699</td>\n",
       "      <td>0</td>\n",
       "      <td>39</td>\n",
       "      <td>1</td>\n",
       "      <td>0.00</td>\n",
       "      <td>2</td>\n",
       "      <td>0</td>\n",
       "      <td>0</td>\n",
       "      <td>93826.63</td>\n",
       "      <td>0</td>\n",
       "      <td>1</td>\n",
       "      <td>0</td>\n",
       "      <td>0</td>\n",
       "    </tr>\n",
       "    <tr>\n",
       "      <th>4</th>\n",
       "      <td>15780624</td>\n",
       "      <td>850</td>\n",
       "      <td>0</td>\n",
       "      <td>43</td>\n",
       "      <td>2</td>\n",
       "      <td>125510.82</td>\n",
       "      <td>1</td>\n",
       "      <td>1</td>\n",
       "      <td>1</td>\n",
       "      <td>79084.10</td>\n",
       "      <td>0</td>\n",
       "      <td>0</td>\n",
       "      <td>1</td>\n",
       "      <td>0</td>\n",
       "    </tr>\n",
       "  </tbody>\n",
       "</table>\n",
       "</div>"
      ],
      "text/plain": [
       "    user_id  score  gender  age  objects    balance  products  creditcard  \\\n",
       "0  15677338    619       0   42        2       0.00         1           1   \n",
       "1  15690047    608       0   41        1   83807.86         1           0   \n",
       "2  15662040    502       0   42        8  159660.80         3           1   \n",
       "3  15744090    699       0   39        1       0.00         2           0   \n",
       "4  15780624    850       0   43        2  125510.82         1           1   \n",
       "\n",
       "   loyalty  estimated_salary  churn  Ярославль  Рыбинск  Ростов Великий  \n",
       "0        1         101348.88      1          1        0               0  \n",
       "1        1         112542.58      0          0        1               0  \n",
       "2        0         113931.57      1          1        0               0  \n",
       "3        0          93826.63      0          1        0               0  \n",
       "4        1          79084.10      0          0        1               0  "
      ]
     },
     "execution_count": 11,
     "metadata": {},
     "output_type": "execute_result"
    }
   ],
   "source": [
    "data['balance'].replace(np.nan, 0, inplace=True)\n",
    "data.head()"
   ]
  },
  {
   "cell_type": "markdown",
   "metadata": {},
   "source": [
    "Создадим отдельный столбец с новым признаком, который будет отображать что действующего дебетового счета у клиента нет. В данном случае баланс равный нулю будет свидетельствовать, что действующего счета нет."
   ]
  },
  {
   "cell_type": "code",
   "execution_count": 12,
   "metadata": {},
   "outputs": [],
   "source": [
    "data['is_account'] = data['balance'].copy() \n",
    "data.is_account = data.is_account.astype(np.int64)\n",
    "data.loc[(data['is_account'] != 0), 'is_account'] = 1"
   ]
  },
  {
   "cell_type": "markdown",
   "metadata": {},
   "source": [
    "В данных было исправлено:\n",
    "\n",
    "- названия столбцов\n",
    "- стиль написания\n",
    "- дубликатов дубликатов не обнаружено\n",
    "- пропуски заменены на значения\n",
    "- значения в столбцах `gender` и `city` переведены в числовые значения\n",
    "- создан новый столбец показывающий наличие или отсутствия дебетового счета"
   ]
  },
  {
   "cell_type": "markdown",
   "metadata": {},
   "source": [
    "## Исследовательский анализ данных EDA"
   ]
  },
  {
   "cell_type": "markdown",
   "metadata": {},
   "source": [
    "Посмотрим статистические данные"
   ]
  },
  {
   "cell_type": "code",
   "execution_count": 13,
   "metadata": {},
   "outputs": [
    {
     "data": {
      "text/html": [
       "<div>\n",
       "<style scoped>\n",
       "    .dataframe tbody tr th:only-of-type {\n",
       "        vertical-align: middle;\n",
       "    }\n",
       "\n",
       "    .dataframe tbody tr th {\n",
       "        vertical-align: top;\n",
       "    }\n",
       "\n",
       "    .dataframe thead th {\n",
       "        text-align: right;\n",
       "    }\n",
       "</style>\n",
       "<table border=\"1\" class=\"dataframe\">\n",
       "  <thead>\n",
       "    <tr style=\"text-align: right;\">\n",
       "      <th></th>\n",
       "      <th>count</th>\n",
       "      <th>mean</th>\n",
       "      <th>std</th>\n",
       "      <th>min</th>\n",
       "      <th>25%</th>\n",
       "      <th>50%</th>\n",
       "      <th>75%</th>\n",
       "      <th>max</th>\n",
       "    </tr>\n",
       "  </thead>\n",
       "  <tbody>\n",
       "    <tr>\n",
       "      <th>user_id</th>\n",
       "      <td>10000.0</td>\n",
       "      <td>1.573368e+07</td>\n",
       "      <td>71936.186123</td>\n",
       "      <td>15608437.00</td>\n",
       "      <td>15671264.25</td>\n",
       "      <td>1.573347e+07</td>\n",
       "      <td>1.579597e+07</td>\n",
       "      <td>15858426.00</td>\n",
       "    </tr>\n",
       "    <tr>\n",
       "      <th>score</th>\n",
       "      <td>10000.0</td>\n",
       "      <td>6.505288e+02</td>\n",
       "      <td>96.653299</td>\n",
       "      <td>350.00</td>\n",
       "      <td>584.00</td>\n",
       "      <td>6.520000e+02</td>\n",
       "      <td>7.180000e+02</td>\n",
       "      <td>850.00</td>\n",
       "    </tr>\n",
       "    <tr>\n",
       "      <th>gender</th>\n",
       "      <td>10000.0</td>\n",
       "      <td>5.457000e-01</td>\n",
       "      <td>0.497932</td>\n",
       "      <td>0.00</td>\n",
       "      <td>0.00</td>\n",
       "      <td>1.000000e+00</td>\n",
       "      <td>1.000000e+00</td>\n",
       "      <td>1.00</td>\n",
       "    </tr>\n",
       "    <tr>\n",
       "      <th>age</th>\n",
       "      <td>10000.0</td>\n",
       "      <td>3.892180e+01</td>\n",
       "      <td>10.487806</td>\n",
       "      <td>18.00</td>\n",
       "      <td>32.00</td>\n",
       "      <td>3.700000e+01</td>\n",
       "      <td>4.400000e+01</td>\n",
       "      <td>92.00</td>\n",
       "    </tr>\n",
       "    <tr>\n",
       "      <th>objects</th>\n",
       "      <td>10000.0</td>\n",
       "      <td>5.012800e+00</td>\n",
       "      <td>2.892174</td>\n",
       "      <td>0.00</td>\n",
       "      <td>3.00</td>\n",
       "      <td>5.000000e+00</td>\n",
       "      <td>7.000000e+00</td>\n",
       "      <td>10.00</td>\n",
       "    </tr>\n",
       "    <tr>\n",
       "      <th>balance</th>\n",
       "      <td>10000.0</td>\n",
       "      <td>7.648589e+04</td>\n",
       "      <td>62397.405202</td>\n",
       "      <td>0.00</td>\n",
       "      <td>0.00</td>\n",
       "      <td>9.719854e+04</td>\n",
       "      <td>1.276442e+05</td>\n",
       "      <td>250898.09</td>\n",
       "    </tr>\n",
       "    <tr>\n",
       "      <th>products</th>\n",
       "      <td>10000.0</td>\n",
       "      <td>1.530200e+00</td>\n",
       "      <td>0.581654</td>\n",
       "      <td>1.00</td>\n",
       "      <td>1.00</td>\n",
       "      <td>1.000000e+00</td>\n",
       "      <td>2.000000e+00</td>\n",
       "      <td>4.00</td>\n",
       "    </tr>\n",
       "    <tr>\n",
       "      <th>creditcard</th>\n",
       "      <td>10000.0</td>\n",
       "      <td>7.055000e-01</td>\n",
       "      <td>0.455840</td>\n",
       "      <td>0.00</td>\n",
       "      <td>0.00</td>\n",
       "      <td>1.000000e+00</td>\n",
       "      <td>1.000000e+00</td>\n",
       "      <td>1.00</td>\n",
       "    </tr>\n",
       "    <tr>\n",
       "      <th>loyalty</th>\n",
       "      <td>10000.0</td>\n",
       "      <td>5.151000e-01</td>\n",
       "      <td>0.499797</td>\n",
       "      <td>0.00</td>\n",
       "      <td>0.00</td>\n",
       "      <td>1.000000e+00</td>\n",
       "      <td>1.000000e+00</td>\n",
       "      <td>1.00</td>\n",
       "    </tr>\n",
       "    <tr>\n",
       "      <th>estimated_salary</th>\n",
       "      <td>10000.0</td>\n",
       "      <td>1.000902e+05</td>\n",
       "      <td>57510.492818</td>\n",
       "      <td>11.58</td>\n",
       "      <td>51002.11</td>\n",
       "      <td>1.001939e+05</td>\n",
       "      <td>1.493882e+05</td>\n",
       "      <td>199992.48</td>\n",
       "    </tr>\n",
       "    <tr>\n",
       "      <th>churn</th>\n",
       "      <td>10000.0</td>\n",
       "      <td>2.037000e-01</td>\n",
       "      <td>0.402769</td>\n",
       "      <td>0.00</td>\n",
       "      <td>0.00</td>\n",
       "      <td>0.000000e+00</td>\n",
       "      <td>0.000000e+00</td>\n",
       "      <td>1.00</td>\n",
       "    </tr>\n",
       "    <tr>\n",
       "      <th>Ярославль</th>\n",
       "      <td>10000.0</td>\n",
       "      <td>5.014000e-01</td>\n",
       "      <td>0.500023</td>\n",
       "      <td>0.00</td>\n",
       "      <td>0.00</td>\n",
       "      <td>1.000000e+00</td>\n",
       "      <td>1.000000e+00</td>\n",
       "      <td>1.00</td>\n",
       "    </tr>\n",
       "    <tr>\n",
       "      <th>Рыбинск</th>\n",
       "      <td>10000.0</td>\n",
       "      <td>2.477000e-01</td>\n",
       "      <td>0.431698</td>\n",
       "      <td>0.00</td>\n",
       "      <td>0.00</td>\n",
       "      <td>0.000000e+00</td>\n",
       "      <td>0.000000e+00</td>\n",
       "      <td>1.00</td>\n",
       "    </tr>\n",
       "    <tr>\n",
       "      <th>Ростов Великий</th>\n",
       "      <td>10000.0</td>\n",
       "      <td>2.509000e-01</td>\n",
       "      <td>0.433553</td>\n",
       "      <td>0.00</td>\n",
       "      <td>0.00</td>\n",
       "      <td>0.000000e+00</td>\n",
       "      <td>1.000000e+00</td>\n",
       "      <td>1.00</td>\n",
       "    </tr>\n",
       "    <tr>\n",
       "      <th>is_account</th>\n",
       "      <td>10000.0</td>\n",
       "      <td>6.383000e-01</td>\n",
       "      <td>0.480517</td>\n",
       "      <td>0.00</td>\n",
       "      <td>0.00</td>\n",
       "      <td>1.000000e+00</td>\n",
       "      <td>1.000000e+00</td>\n",
       "      <td>1.00</td>\n",
       "    </tr>\n",
       "  </tbody>\n",
       "</table>\n",
       "</div>"
      ],
      "text/plain": [
       "                    count          mean           std          min  \\\n",
       "user_id           10000.0  1.573368e+07  71936.186123  15608437.00   \n",
       "score             10000.0  6.505288e+02     96.653299       350.00   \n",
       "gender            10000.0  5.457000e-01      0.497932         0.00   \n",
       "age               10000.0  3.892180e+01     10.487806        18.00   \n",
       "objects           10000.0  5.012800e+00      2.892174         0.00   \n",
       "balance           10000.0  7.648589e+04  62397.405202         0.00   \n",
       "products          10000.0  1.530200e+00      0.581654         1.00   \n",
       "creditcard        10000.0  7.055000e-01      0.455840         0.00   \n",
       "loyalty           10000.0  5.151000e-01      0.499797         0.00   \n",
       "estimated_salary  10000.0  1.000902e+05  57510.492818        11.58   \n",
       "churn             10000.0  2.037000e-01      0.402769         0.00   \n",
       "Ярославль         10000.0  5.014000e-01      0.500023         0.00   \n",
       "Рыбинск           10000.0  2.477000e-01      0.431698         0.00   \n",
       "Ростов Великий    10000.0  2.509000e-01      0.433553         0.00   \n",
       "is_account        10000.0  6.383000e-01      0.480517         0.00   \n",
       "\n",
       "                          25%           50%           75%          max  \n",
       "user_id           15671264.25  1.573347e+07  1.579597e+07  15858426.00  \n",
       "score                  584.00  6.520000e+02  7.180000e+02       850.00  \n",
       "gender                   0.00  1.000000e+00  1.000000e+00         1.00  \n",
       "age                     32.00  3.700000e+01  4.400000e+01        92.00  \n",
       "objects                  3.00  5.000000e+00  7.000000e+00        10.00  \n",
       "balance                  0.00  9.719854e+04  1.276442e+05    250898.09  \n",
       "products                 1.00  1.000000e+00  2.000000e+00         4.00  \n",
       "creditcard               0.00  1.000000e+00  1.000000e+00         1.00  \n",
       "loyalty                  0.00  1.000000e+00  1.000000e+00         1.00  \n",
       "estimated_salary     51002.11  1.001939e+05  1.493882e+05    199992.48  \n",
       "churn                    0.00  0.000000e+00  0.000000e+00         1.00  \n",
       "Ярославль                0.00  1.000000e+00  1.000000e+00         1.00  \n",
       "Рыбинск                  0.00  0.000000e+00  0.000000e+00         1.00  \n",
       "Ростов Великий           0.00  0.000000e+00  1.000000e+00         1.00  \n",
       "is_account               0.00  1.000000e+00  1.000000e+00         1.00  "
      ]
     },
     "execution_count": 13,
     "metadata": {},
     "output_type": "execute_result"
    }
   ],
   "source": [
    "data.describe().T"
   ]
  },
  {
   "cell_type": "markdown",
   "metadata": {},
   "source": [
    "Минимальный бал кредитного скоринга 350, а максимальный 850. В данном случае используется система скоринга 300-850. Так же бывают другие вариации баллов, однако в любой системе клиенту для одобрения кредита необходимо иметь не менее 600 баллов.\n",
    "\n",
    "В данных мужчин примерно 55%, женщин соответственно 45%.\n",
    "\n",
    "Минимальный возраст клиента 18 лет, максимальный 92(долгожитель), средний возраст составляет 39 лет.\n",
    "\n",
    "В среднем клиенты владеют 5 объектами.\n",
    "\n",
    "Минимальный баланс счета составляет 3768 руб., максимальный 250 898 руб, в среднем около 120 000 руб.\n",
    "\n",
    "Минимальное количество продуктов банка которыми клиенты пользуются 1, максимальное 4.\n",
    "\n",
    "Кредитная карта в среднем есть у 70% клиентов.\n",
    "\n",
    "Активных и неактивных клиентов примерно одинаково.\n",
    "\n",
    "Минимальная заработная плата 11,58 руб., максимальная заработная плата 199 992 руб. , средняя 100 000 руб.\n",
    "\n",
    "Отток клиентов в текущем месяце составляет 20%.\n",
    "\n",
    "В выборке 50% клиентов из Ярославля, и по 25% из Рыбинска и Ростова Великого"
   ]
  },
  {
   "cell_type": "code",
   "execution_count": 14,
   "metadata": {},
   "outputs": [
    {
     "data": {
      "text/html": [
       "<div>\n",
       "<style scoped>\n",
       "    .dataframe tbody tr th:only-of-type {\n",
       "        vertical-align: middle;\n",
       "    }\n",
       "\n",
       "    .dataframe tbody tr th {\n",
       "        vertical-align: top;\n",
       "    }\n",
       "\n",
       "    .dataframe thead th {\n",
       "        text-align: right;\n",
       "    }\n",
       "</style>\n",
       "<table border=\"1\" class=\"dataframe\">\n",
       "  <thead>\n",
       "    <tr style=\"text-align: right;\">\n",
       "      <th>churn</th>\n",
       "      <th>0</th>\n",
       "      <th>1</th>\n",
       "    </tr>\n",
       "  </thead>\n",
       "  <tbody>\n",
       "    <tr>\n",
       "      <th>user_id</th>\n",
       "      <td>1.573390e+07</td>\n",
       "      <td>1.573279e+07</td>\n",
       "    </tr>\n",
       "    <tr>\n",
       "      <th>score</th>\n",
       "      <td>6.518532e+02</td>\n",
       "      <td>6.453515e+02</td>\n",
       "    </tr>\n",
       "    <tr>\n",
       "      <th>gender</th>\n",
       "      <td>5.725229e-01</td>\n",
       "      <td>4.408444e-01</td>\n",
       "    </tr>\n",
       "    <tr>\n",
       "      <th>age</th>\n",
       "      <td>3.740839e+01</td>\n",
       "      <td>4.483800e+01</td>\n",
       "    </tr>\n",
       "    <tr>\n",
       "      <th>objects</th>\n",
       "      <td>5.033279e+00</td>\n",
       "      <td>4.932744e+00</td>\n",
       "    </tr>\n",
       "    <tr>\n",
       "      <th>balance</th>\n",
       "      <td>7.274530e+04</td>\n",
       "      <td>9.110854e+04</td>\n",
       "    </tr>\n",
       "    <tr>\n",
       "      <th>products</th>\n",
       "      <td>1.544267e+00</td>\n",
       "      <td>1.475209e+00</td>\n",
       "    </tr>\n",
       "    <tr>\n",
       "      <th>creditcard</th>\n",
       "      <td>7.071455e-01</td>\n",
       "      <td>6.990673e-01</td>\n",
       "    </tr>\n",
       "    <tr>\n",
       "      <th>loyalty</th>\n",
       "      <td>5.545649e-01</td>\n",
       "      <td>3.608247e-01</td>\n",
       "    </tr>\n",
       "    <tr>\n",
       "      <th>estimated_salary</th>\n",
       "      <td>9.973839e+04</td>\n",
       "      <td>1.014657e+05</td>\n",
       "    </tr>\n",
       "    <tr>\n",
       "      <th>Ярославль</th>\n",
       "      <td>5.279417e-01</td>\n",
       "      <td>3.976436e-01</td>\n",
       "    </tr>\n",
       "    <tr>\n",
       "      <th>Рыбинск</th>\n",
       "      <td>2.591988e-01</td>\n",
       "      <td>2.027491e-01</td>\n",
       "    </tr>\n",
       "    <tr>\n",
       "      <th>Ростов Великий</th>\n",
       "      <td>2.128595e-01</td>\n",
       "      <td>3.996073e-01</td>\n",
       "    </tr>\n",
       "    <tr>\n",
       "      <th>is_account</th>\n",
       "      <td>6.085646e-01</td>\n",
       "      <td>7.545410e-01</td>\n",
       "    </tr>\n",
       "  </tbody>\n",
       "</table>\n",
       "</div>"
      ],
      "text/plain": [
       "churn                        0             1\n",
       "user_id           1.573390e+07  1.573279e+07\n",
       "score             6.518532e+02  6.453515e+02\n",
       "gender            5.725229e-01  4.408444e-01\n",
       "age               3.740839e+01  4.483800e+01\n",
       "objects           5.033279e+00  4.932744e+00\n",
       "balance           7.274530e+04  9.110854e+04\n",
       "products          1.544267e+00  1.475209e+00\n",
       "creditcard        7.071455e-01  6.990673e-01\n",
       "loyalty           5.545649e-01  3.608247e-01\n",
       "estimated_salary  9.973839e+04  1.014657e+05\n",
       "Ярославль         5.279417e-01  3.976436e-01\n",
       "Рыбинск           2.591988e-01  2.027491e-01\n",
       "Ростов Великий    2.128595e-01  3.996073e-01\n",
       "is_account        6.085646e-01  7.545410e-01"
      ]
     },
     "execution_count": 14,
     "metadata": {},
     "output_type": "execute_result"
    }
   ],
   "source": [
    "data.groupby('churn').mean().T"
   ]
  },
  {
   "cell_type": "markdown",
   "metadata": {},
   "source": [
    "Кредитные рейтинги ушедших и оставшихся примерно одинаковый в районе 650\n",
    "\n",
    "Ушло около 44% мужчин и 56% женщин\n",
    "\n",
    "Средний возраст ушедших около 45 лет, оставшихся 37\n",
    "\n",
    "Из тех кто ушел и кто остался по 5 объектов в собственности\n",
    "\n",
    "У ушедших на счетах всреднем 91 000 руб., у оставшихся 72 000 руб.\n",
    "\n",
    "Пользовалисть одинаковым количеством продуктов банка около 2-х\n",
    "\n",
    "Кредитными картами владели по 70% ушедшие и оставшиеся\n",
    "\n",
    "Активных клиентов ушло около 36%\n",
    "\n",
    "Заработная плата у ушедших и оставшихся в среднем 100 000 руб.\n",
    "\n",
    "При первом взгляде на данные создается ощущение, что клиенты, ушедшие в отток почти ничем значительно не отличаются от лояльных клиентов, кроме активности (в отток чаще попадают клиенты, не являющиеся активными), так же можно сказать, что в оттоке чуть больше женщин. Есть небольшое отличие в балансе счета, в оттоке средняя зп выше. Остальные признаки отличаются не значительно."
   ]
  },
  {
   "cell_type": "markdown",
   "metadata": {},
   "source": [
    "### Анализ аномалий"
   ]
  },
  {
   "cell_type": "markdown",
   "metadata": {},
   "source": [
    "Посмотрим на клиентов у которых нет дебетовых карт"
   ]
  },
  {
   "cell_type": "code",
   "execution_count": 15,
   "metadata": {},
   "outputs": [
    {
     "data": {
      "text/html": [
       "<div>\n",
       "<style scoped>\n",
       "    .dataframe tbody tr th:only-of-type {\n",
       "        vertical-align: middle;\n",
       "    }\n",
       "\n",
       "    .dataframe tbody tr th {\n",
       "        vertical-align: top;\n",
       "    }\n",
       "\n",
       "    .dataframe thead th {\n",
       "        text-align: right;\n",
       "    }\n",
       "</style>\n",
       "<table border=\"1\" class=\"dataframe\">\n",
       "  <thead>\n",
       "    <tr style=\"text-align: right;\">\n",
       "      <th></th>\n",
       "      <th>user_id</th>\n",
       "      <th>score</th>\n",
       "      <th>gender</th>\n",
       "      <th>age</th>\n",
       "      <th>objects</th>\n",
       "      <th>balance</th>\n",
       "      <th>products</th>\n",
       "      <th>creditcard</th>\n",
       "      <th>loyalty</th>\n",
       "      <th>estimated_salary</th>\n",
       "      <th>churn</th>\n",
       "      <th>Ярославль</th>\n",
       "      <th>Рыбинск</th>\n",
       "      <th>Ростов Великий</th>\n",
       "      <th>is_account</th>\n",
       "    </tr>\n",
       "  </thead>\n",
       "  <tbody>\n",
       "    <tr>\n",
       "      <th>0</th>\n",
       "      <td>15677338</td>\n",
       "      <td>619</td>\n",
       "      <td>0</td>\n",
       "      <td>42</td>\n",
       "      <td>2</td>\n",
       "      <td>0.0</td>\n",
       "      <td>1</td>\n",
       "      <td>1</td>\n",
       "      <td>1</td>\n",
       "      <td>101348.88</td>\n",
       "      <td>1</td>\n",
       "      <td>1</td>\n",
       "      <td>0</td>\n",
       "      <td>0</td>\n",
       "      <td>0</td>\n",
       "    </tr>\n",
       "    <tr>\n",
       "      <th>3</th>\n",
       "      <td>15744090</td>\n",
       "      <td>699</td>\n",
       "      <td>0</td>\n",
       "      <td>39</td>\n",
       "      <td>1</td>\n",
       "      <td>0.0</td>\n",
       "      <td>2</td>\n",
       "      <td>0</td>\n",
       "      <td>0</td>\n",
       "      <td>93826.63</td>\n",
       "      <td>0</td>\n",
       "      <td>1</td>\n",
       "      <td>0</td>\n",
       "      <td>0</td>\n",
       "      <td>0</td>\n",
       "    </tr>\n",
       "    <tr>\n",
       "      <th>6</th>\n",
       "      <td>15635267</td>\n",
       "      <td>822</td>\n",
       "      <td>1</td>\n",
       "      <td>50</td>\n",
       "      <td>7</td>\n",
       "      <td>0.0</td>\n",
       "      <td>2</td>\n",
       "      <td>1</td>\n",
       "      <td>1</td>\n",
       "      <td>10062.80</td>\n",
       "      <td>0</td>\n",
       "      <td>1</td>\n",
       "      <td>0</td>\n",
       "      <td>0</td>\n",
       "      <td>0</td>\n",
       "    </tr>\n",
       "    <tr>\n",
       "      <th>11</th>\n",
       "      <td>15779909</td>\n",
       "      <td>497</td>\n",
       "      <td>1</td>\n",
       "      <td>24</td>\n",
       "      <td>3</td>\n",
       "      <td>0.0</td>\n",
       "      <td>2</td>\n",
       "      <td>1</td>\n",
       "      <td>0</td>\n",
       "      <td>76390.01</td>\n",
       "      <td>0</td>\n",
       "      <td>0</td>\n",
       "      <td>1</td>\n",
       "      <td>0</td>\n",
       "      <td>0</td>\n",
       "    </tr>\n",
       "    <tr>\n",
       "      <th>12</th>\n",
       "      <td>15675000</td>\n",
       "      <td>476</td>\n",
       "      <td>0</td>\n",
       "      <td>34</td>\n",
       "      <td>10</td>\n",
       "      <td>0.0</td>\n",
       "      <td>2</td>\n",
       "      <td>1</td>\n",
       "      <td>0</td>\n",
       "      <td>26260.98</td>\n",
       "      <td>0</td>\n",
       "      <td>1</td>\n",
       "      <td>0</td>\n",
       "      <td>0</td>\n",
       "      <td>0</td>\n",
       "    </tr>\n",
       "  </tbody>\n",
       "</table>\n",
       "</div>"
      ],
      "text/plain": [
       "     user_id  score  gender  age  objects  balance  products  creditcard  \\\n",
       "0   15677338    619       0   42        2      0.0         1           1   \n",
       "3   15744090    699       0   39        1      0.0         2           0   \n",
       "6   15635267    822       1   50        7      0.0         2           1   \n",
       "11  15779909    497       1   24        3      0.0         2           1   \n",
       "12  15675000    476       0   34       10      0.0         2           1   \n",
       "\n",
       "    loyalty  estimated_salary  churn  Ярославль  Рыбинск  Ростов Великий  \\\n",
       "0         1         101348.88      1          1        0               0   \n",
       "3         0          93826.63      0          1        0               0   \n",
       "6         1          10062.80      0          1        0               0   \n",
       "11        0          76390.01      0          0        1               0   \n",
       "12        0          26260.98      0          1        0               0   \n",
       "\n",
       "    is_account  \n",
       "0            0  \n",
       "3            0  \n",
       "6            0  \n",
       "11           0  \n",
       "12           0  "
      ]
     },
     "execution_count": 15,
     "metadata": {},
     "output_type": "execute_result"
    }
   ],
   "source": [
    "deb_card = data.query('balance == 0')\n",
    "deb_card.head()"
   ]
  },
  {
   "cell_type": "code",
   "execution_count": 16,
   "metadata": {},
   "outputs": [
    {
     "data": {
      "text/html": [
       "<div>\n",
       "<style scoped>\n",
       "    .dataframe tbody tr th:only-of-type {\n",
       "        vertical-align: middle;\n",
       "    }\n",
       "\n",
       "    .dataframe tbody tr th {\n",
       "        vertical-align: top;\n",
       "    }\n",
       "\n",
       "    .dataframe thead th {\n",
       "        text-align: right;\n",
       "    }\n",
       "</style>\n",
       "<table border=\"1\" class=\"dataframe\">\n",
       "  <thead>\n",
       "    <tr style=\"text-align: right;\">\n",
       "      <th></th>\n",
       "      <th>count</th>\n",
       "      <th>mean</th>\n",
       "      <th>std</th>\n",
       "      <th>min</th>\n",
       "      <th>25%</th>\n",
       "      <th>50%</th>\n",
       "      <th>75%</th>\n",
       "      <th>max</th>\n",
       "    </tr>\n",
       "  </thead>\n",
       "  <tbody>\n",
       "    <tr>\n",
       "      <th>user_id</th>\n",
       "      <td>3617.0</td>\n",
       "      <td>1.573469e+07</td>\n",
       "      <td>71947.494611</td>\n",
       "      <td>15608442.00</td>\n",
       "      <td>15672255.00</td>\n",
       "      <td>15736083.00</td>\n",
       "      <td>15796286.00</td>\n",
       "      <td>15858100.00</td>\n",
       "    </tr>\n",
       "    <tr>\n",
       "      <th>score</th>\n",
       "      <td>3617.0</td>\n",
       "      <td>6.494529e+02</td>\n",
       "      <td>96.158798</td>\n",
       "      <td>350.00</td>\n",
       "      <td>583.00</td>\n",
       "      <td>651.00</td>\n",
       "      <td>717.00</td>\n",
       "      <td>850.00</td>\n",
       "    </tr>\n",
       "    <tr>\n",
       "      <th>gender</th>\n",
       "      <td>3617.0</td>\n",
       "      <td>5.427150e-01</td>\n",
       "      <td>0.498241</td>\n",
       "      <td>0.00</td>\n",
       "      <td>0.00</td>\n",
       "      <td>1.00</td>\n",
       "      <td>1.00</td>\n",
       "      <td>1.00</td>\n",
       "    </tr>\n",
       "    <tr>\n",
       "      <th>age</th>\n",
       "      <td>3617.0</td>\n",
       "      <td>3.843489e+01</td>\n",
       "      <td>10.492002</td>\n",
       "      <td>18.00</td>\n",
       "      <td>31.00</td>\n",
       "      <td>37.00</td>\n",
       "      <td>43.00</td>\n",
       "      <td>88.00</td>\n",
       "    </tr>\n",
       "    <tr>\n",
       "      <th>objects</th>\n",
       "      <td>3617.0</td>\n",
       "      <td>5.071330e+00</td>\n",
       "      <td>2.860781</td>\n",
       "      <td>0.00</td>\n",
       "      <td>3.00</td>\n",
       "      <td>5.00</td>\n",
       "      <td>7.00</td>\n",
       "      <td>10.00</td>\n",
       "    </tr>\n",
       "    <tr>\n",
       "      <th>balance</th>\n",
       "      <td>3617.0</td>\n",
       "      <td>0.000000e+00</td>\n",
       "      <td>0.000000</td>\n",
       "      <td>0.00</td>\n",
       "      <td>0.00</td>\n",
       "      <td>0.00</td>\n",
       "      <td>0.00</td>\n",
       "      <td>0.00</td>\n",
       "    </tr>\n",
       "    <tr>\n",
       "      <th>products</th>\n",
       "      <td>3617.0</td>\n",
       "      <td>1.784628e+00</td>\n",
       "      <td>0.496455</td>\n",
       "      <td>1.00</td>\n",
       "      <td>1.00</td>\n",
       "      <td>2.00</td>\n",
       "      <td>2.00</td>\n",
       "      <td>4.00</td>\n",
       "    </tr>\n",
       "    <tr>\n",
       "      <th>creditcard</th>\n",
       "      <td>3617.0</td>\n",
       "      <td>7.166160e-01</td>\n",
       "      <td>0.450704</td>\n",
       "      <td>0.00</td>\n",
       "      <td>0.00</td>\n",
       "      <td>1.00</td>\n",
       "      <td>1.00</td>\n",
       "      <td>1.00</td>\n",
       "    </tr>\n",
       "    <tr>\n",
       "      <th>loyalty</th>\n",
       "      <td>3617.0</td>\n",
       "      <td>5.178325e-01</td>\n",
       "      <td>0.499751</td>\n",
       "      <td>0.00</td>\n",
       "      <td>0.00</td>\n",
       "      <td>1.00</td>\n",
       "      <td>1.00</td>\n",
       "      <td>1.00</td>\n",
       "    </tr>\n",
       "    <tr>\n",
       "      <th>estimated_salary</th>\n",
       "      <td>3617.0</td>\n",
       "      <td>9.898356e+04</td>\n",
       "      <td>57730.828955</td>\n",
       "      <td>90.07</td>\n",
       "      <td>49506.82</td>\n",
       "      <td>98618.79</td>\n",
       "      <td>148330.97</td>\n",
       "      <td>199992.48</td>\n",
       "    </tr>\n",
       "    <tr>\n",
       "      <th>churn</th>\n",
       "      <td>3617.0</td>\n",
       "      <td>1.382361e-01</td>\n",
       "      <td>0.345195</td>\n",
       "      <td>0.00</td>\n",
       "      <td>0.00</td>\n",
       "      <td>0.00</td>\n",
       "      <td>0.00</td>\n",
       "      <td>1.00</td>\n",
       "    </tr>\n",
       "    <tr>\n",
       "      <th>Ярославль</th>\n",
       "      <td>3617.0</td>\n",
       "      <td>6.685098e-01</td>\n",
       "      <td>0.470814</td>\n",
       "      <td>0.00</td>\n",
       "      <td>0.00</td>\n",
       "      <td>1.00</td>\n",
       "      <td>1.00</td>\n",
       "      <td>1.00</td>\n",
       "    </tr>\n",
       "    <tr>\n",
       "      <th>Рыбинск</th>\n",
       "      <td>3617.0</td>\n",
       "      <td>3.314902e-01</td>\n",
       "      <td>0.470814</td>\n",
       "      <td>0.00</td>\n",
       "      <td>0.00</td>\n",
       "      <td>0.00</td>\n",
       "      <td>1.00</td>\n",
       "      <td>1.00</td>\n",
       "    </tr>\n",
       "    <tr>\n",
       "      <th>Ростов Великий</th>\n",
       "      <td>3617.0</td>\n",
       "      <td>0.000000e+00</td>\n",
       "      <td>0.000000</td>\n",
       "      <td>0.00</td>\n",
       "      <td>0.00</td>\n",
       "      <td>0.00</td>\n",
       "      <td>0.00</td>\n",
       "      <td>0.00</td>\n",
       "    </tr>\n",
       "    <tr>\n",
       "      <th>is_account</th>\n",
       "      <td>3617.0</td>\n",
       "      <td>0.000000e+00</td>\n",
       "      <td>0.000000</td>\n",
       "      <td>0.00</td>\n",
       "      <td>0.00</td>\n",
       "      <td>0.00</td>\n",
       "      <td>0.00</td>\n",
       "      <td>0.00</td>\n",
       "    </tr>\n",
       "  </tbody>\n",
       "</table>\n",
       "</div>"
      ],
      "text/plain": [
       "                   count          mean           std          min  \\\n",
       "user_id           3617.0  1.573469e+07  71947.494611  15608442.00   \n",
       "score             3617.0  6.494529e+02     96.158798       350.00   \n",
       "gender            3617.0  5.427150e-01      0.498241         0.00   \n",
       "age               3617.0  3.843489e+01     10.492002        18.00   \n",
       "objects           3617.0  5.071330e+00      2.860781         0.00   \n",
       "balance           3617.0  0.000000e+00      0.000000         0.00   \n",
       "products          3617.0  1.784628e+00      0.496455         1.00   \n",
       "creditcard        3617.0  7.166160e-01      0.450704         0.00   \n",
       "loyalty           3617.0  5.178325e-01      0.499751         0.00   \n",
       "estimated_salary  3617.0  9.898356e+04  57730.828955        90.07   \n",
       "churn             3617.0  1.382361e-01      0.345195         0.00   \n",
       "Ярославль         3617.0  6.685098e-01      0.470814         0.00   \n",
       "Рыбинск           3617.0  3.314902e-01      0.470814         0.00   \n",
       "Ростов Великий    3617.0  0.000000e+00      0.000000         0.00   \n",
       "is_account        3617.0  0.000000e+00      0.000000         0.00   \n",
       "\n",
       "                          25%          50%          75%          max  \n",
       "user_id           15672255.00  15736083.00  15796286.00  15858100.00  \n",
       "score                  583.00       651.00       717.00       850.00  \n",
       "gender                   0.00         1.00         1.00         1.00  \n",
       "age                     31.00        37.00        43.00        88.00  \n",
       "objects                  3.00         5.00         7.00        10.00  \n",
       "balance                  0.00         0.00         0.00         0.00  \n",
       "products                 1.00         2.00         2.00         4.00  \n",
       "creditcard               0.00         1.00         1.00         1.00  \n",
       "loyalty                  0.00         1.00         1.00         1.00  \n",
       "estimated_salary     49506.82     98618.79    148330.97    199992.48  \n",
       "churn                    0.00         0.00         0.00         1.00  \n",
       "Ярославль                0.00         1.00         1.00         1.00  \n",
       "Рыбинск                  0.00         0.00         1.00         1.00  \n",
       "Ростов Великий           0.00         0.00         0.00         0.00  \n",
       "is_account               0.00         0.00         0.00         0.00  "
      ]
     },
     "execution_count": 16,
     "metadata": {},
     "output_type": "execute_result"
    }
   ],
   "source": [
    "deb_card.describe().T"
   ]
  },
  {
   "cell_type": "markdown",
   "metadata": {},
   "source": [
    "Кредитный рейтинг у клиентов не имеющих кредитных карт в среднем 650 баллов\n",
    "\n",
    "Среди клиентов не имеющих кредитных карт мужчин 54%, женщин 46%\n",
    "\n",
    "Средний возраст клиентов 38 лет, владеют примерно 3 объектами, в среднем используют 2 продукта банка\n",
    "\n",
    "Активныи и неактивных клиентов поровну 50/50, средний заработок 100 000 руб.\n",
    "\n",
    "Отток среди таких клиенов составляет 14%\n",
    "\n",
    "Примерно 67% клиентов из Ярославля и 33% из Рыбинска, отсутствуют клиенты из Ростова Великого"
   ]
  },
  {
   "cell_type": "markdown",
   "metadata": {},
   "source": [
    "### Изучение распределений признаков для тех, кто ушёл (отток) и тех, кто остался (не попали в отток)"
   ]
  },
  {
   "cell_type": "markdown",
   "metadata": {},
   "source": [
    "Постром столбчатые гистограммы распределения признаков для тех, кто ушёл (отток)"
   ]
  },
  {
   "cell_type": "code",
   "execution_count": 17,
   "metadata": {},
   "outputs": [],
   "source": [
    "churn_1 = data.query('churn == 1')\n",
    "churn_0 = data.query('churn == 0')\n",
    "columns = data.drop(columns=['churn']).columns.tolist()"
   ]
  },
  {
   "cell_type": "code",
   "execution_count": 18,
   "metadata": {},
   "outputs": [],
   "source": [
    "def just_hist(data, columns):\n",
    "    for i in columns:\n",
    "        plt.figure(figsize =(10, 6))\n",
    "        sns.distplot(data[i], kde=False)\n",
    "        plt.title('Распределение признака {}'.format(i)) #подпись заголовка\n",
    "        plt.xlabel('Значение') #подпись оси х\n",
    "        plt.ylabel('Частота') #подпись оси у\n",
    "        plt.grid() \n",
    "        plt.show()  "
   ]
  },
  {
   "cell_type": "code",
   "execution_count": 19,
   "metadata": {
    "scrolled": true
   },
   "outputs": [
    {
     "name": "stderr",
     "output_type": "stream",
     "text": [
      "/opt/conda/lib/python3.9/site-packages/seaborn/distributions.py:2557: FutureWarning: `distplot` is a deprecated function and will be removed in a future version. Please adapt your code to use either `displot` (a figure-level function with similar flexibility) or `histplot` (an axes-level function for histograms).\n",
      "  warnings.warn(msg, FutureWarning)\n"
     ]
    },
    {
     "data": {
      "image/png": "[encoded data removed]",
      "text/plain": [
       "<Figure size 720x432 with 1 Axes>"
      ]
     },
     "metadata": {
      "needs_background": "light"
     },
     "output_type": "display_data"
    },
    {
     "data": {
      "image/png": "[encoded data removed]",
      "text/plain": [
       "<Figure size 720x432 with 1 Axes>"
      ]
     },
     "metadata": {
      "needs_background": "light"
     },
     "output_type": "display_data"
    },
    {
     "data": {
      "image/png": "[encoded data removed]",
      "text/plain": [
       "<Figure size 720x432 with 1 Axes>"
      ]
     },
     "metadata": {
      "needs_background": "light"
     },
     "output_type": "display_data"
    },
    {
     "data": {
      "image/png": "[encoded data removed]",
      "text/plain": [
       "<Figure size 720x432 with 1 Axes>"
      ]
     },
     "metadata": {
      "needs_background": "light"
     },
     "output_type": "display_data"
    },
    {
     "data": {
      "image/png": "[encoded data removed]",
      "text/plain": [
       "<Figure size 720x432 with 1 Axes>"
      ]
     },
     "metadata": {
      "needs_background": "light"
     },
     "output_type": "display_data"
    },
    {
     "data": {
      "image/png": "[encoded data removed]",
      "text/plain": [
       "<Figure size 720x432 with 1 Axes>"
      ]
     },
     "metadata": {
      "needs_background": "light"
     },
     "output_type": "display_data"
    },
    {
     "data": {
      "image/png": "[encoded data removed]",
      "text/plain": [
       "<Figure size 720x432 with 1 Axes>"
      ]
     },
     "metadata": {
      "needs_background": "light"
     },
     "output_type": "display_data"
    },
    {
     "data": {
      "image/png": "[encoded data removed]",
      "text/plain": [
       "<Figure size 720x432 with 1 Axes>"
      ]
     },
     "metadata": {
      "needs_background": "light"
     },
     "output_type": "display_data"
    },
    {
     "data": {
      "image/png": "[encoded data removed]",
      "text/plain": [
       "<Figure size 720x432 with 1 Axes>"
      ]
     },
     "metadata": {
      "needs_background": "light"
     },
     "output_type": "display_data"
    },
    {
     "data": {
      "image/png": "[encoded data removed]",
      "text/plain": [
       "<Figure size 720x432 with 1 Axes>"
      ]
     },
     "metadata": {
      "needs_background": "light"
     },
     "output_type": "display_data"
    },
    {
     "data": {
      "image/png": "[encoded data removed]",
      "text/plain": [
       "<Figure size 720x432 with 1 Axes>"
      ]
     },
     "metadata": {
      "needs_background": "light"
     },
     "output_type": "display_data"
    },
    {
     "data": {
      "image/png": "[encoded data removed]",
      "text/plain": [
       "<Figure size 720x432 with 1 Axes>"
      ]
     },
     "metadata": {
      "needs_background": "light"
     },
     "output_type": "display_data"
    },
    {
     "data": {
      "image/png": "[encoded data removed]",
      "text/plain": [
       "<Figure size 720x432 with 1 Axes>"
      ]
     },
     "metadata": {
      "needs_background": "light"
     },
     "output_type": "display_data"
    },
    {
     "data": {
      "image/png": "[encoded data removed]",
      "text/plain": [
       "<Figure size 720x432 with 1 Axes>"
      ]
     },
     "metadata": {
      "needs_background": "light"
     },
     "output_type": "display_data"
    }
   ],
   "source": [
    "just_hist(churn_1, columns)"
   ]
  },
  {
   "cell_type": "markdown",
   "metadata": {},
   "source": [
    "Выводы из графиков для тех, кто ушел (отток):\n",
    "\n",
    "1. Распределение кредитного скоринга нормальное\n",
    "2. Из ушедших примерно 55% женщин и 45% мужчин\n",
    "3. Распределение по возрасту нормальное, медианный возраст ушедших 45 лет\n",
    "4. Распределение количества объектов в собственности близко к нормальному, медиана 5\n",
    "5. Распределение баланса на счете нормальное, медиана в районе 110 000 руб., есть выбросы от 0 до примерно 12 000 руб.\n",
    "6. Наибольшее количество ушедших пользовалось 1 банковским продуктом\n",
    "7. 70% ушебших пользовались кредитной картой\n",
    "8. 35% ушедших были активными\n",
    "9. Распределение заработной платы близко к нормальному, медиана около 100 000 руб.\n",
    "10. Среди ушедших клиентов по 40% из Ярославля и Ростова Великого, и 20% из Рыбинска."
   ]
  },
  {
   "cell_type": "markdown",
   "metadata": {},
   "source": [
    "Постром столбчатые гистограммы распределения признаков для тех, кто остался"
   ]
  },
  {
   "cell_type": "code",
   "execution_count": 20,
   "metadata": {},
   "outputs": [
    {
     "data": {
      "image/png": "[encoded data removed]",
      "text/plain": [
       "<Figure size 720x432 with 1 Axes>"
      ]
     },
     "metadata": {
      "needs_background": "light"
     },
     "output_type": "display_data"
    },
    {
     "data": {
      "image/png": "[encoded data removed]",
      "text/plain": [
       "<Figure size 720x432 with 1 Axes>"
      ]
     },
     "metadata": {
      "needs_background": "light"
     },
     "output_type": "display_data"
    },
    {
     "data": {
      "image/png": "[encoded data removed]",
      "text/plain": [
       "<Figure size 720x432 with 1 Axes>"
      ]
     },
     "metadata": {
      "needs_background": "light"
     },
     "output_type": "display_data"
    },
    {
     "data": {
      "image/png": "[encoded data removed]",
      "text/plain": [
       "<Figure size 720x432 with 1 Axes>"
      ]
     },
     "metadata": {
      "needs_background": "light"
     },
     "output_type": "display_data"
    },
    {
     "data": {
      "image/png": "[encoded data removed]",
      "text/plain": [
       "<Figure size 720x432 with 1 Axes>"
      ]
     },
     "metadata": {
      "needs_background": "light"
     },
     "output_type": "display_data"
    },
    {
     "data": {
      "image/png": "[encoded data removed]",
      "text/plain": [
       "<Figure size 720x432 with 1 Axes>"
      ]
     },
     "metadata": {
      "needs_background": "light"
     },
     "output_type": "display_data"
    },
    {
     "data": {
      "image/png": "[encoded data removed]",
      "text/plain": [
       "<Figure size 720x432 with 1 Axes>"
      ]
     },
     "metadata": {
      "needs_background": "light"
     },
     "output_type": "display_data"
    },
    {
     "data": {
      "image/png": "[encoded data removed]",
      "text/plain": [
       "<Figure size 720x432 with 1 Axes>"
      ]
     },
     "metadata": {
      "needs_background": "light"
     },
     "output_type": "display_data"
    },
    {
     "data": {
      "image/png": "[encoded data removed]",
      "text/plain": [
       "<Figure size 720x432 with 1 Axes>"
      ]
     },
     "metadata": {
      "needs_background": "light"
     },
     "output_type": "display_data"
    },
    {
     "data": {
      "image/png": "[encoded data removed]",
      "text/plain": [
       "<Figure size 720x432 with 1 Axes>"
      ]
     },
     "metadata": {
      "needs_background": "light"
     },
     "output_type": "display_data"
    },
    {
     "data": {
      "image/png": "[encoded data removed]",
      "text/plain": [
       "<Figure size 720x432 with 1 Axes>"
      ]
     },
     "metadata": {
      "needs_background": "light"
     },
     "output_type": "display_data"
    },
    {
     "data": {
      "image/png": "[encoded data removed]",
      "text/plain": [
       "<Figure size 720x432 with 1 Axes>"
      ]
     },
     "metadata": {
      "needs_background": "light"
     },
     "output_type": "display_data"
    },
    {
     "data": {
      "image/png": "[encoded data removed]",
      "text/plain": [
       "<Figure size 720x432 with 1 Axes>"
      ]
     },
     "metadata": {
      "needs_background": "light"
     },
     "output_type": "display_data"
    },
    {
     "data": {
      "image/png": "[encoded data removed]",
      "text/plain": [
       "<Figure size 720x432 with 1 Axes>"
      ]
     },
     "metadata": {
      "needs_background": "light"
     },
     "output_type": "display_data"
    }
   ],
   "source": [
    "just_hist(churn_0, columns)"
   ]
  },
  {
   "cell_type": "markdown",
   "metadata": {},
   "source": [
    "Выводы из графиков для тех, кто остался:\n",
    "\n",
    "1. Распределение кредитного скоринга нормальное, медиана около 650\n",
    "2. Среди оставшихся клиентов 57%  мужчины и 43% женщины\n",
    "3. Распределение по возрасту смещено влево, медиана 36 лет\n",
    "4. Среди оставшихся клиенты всреднем владеют 5 объектами, распределение нормальное\n",
    "5. Распределение баланса на счете нормальное, медиана в районе 90 000 руб., так же есть выбросы от 0 до примерно 12 000 руб.\n",
    "6. Примерно 60% оставшихся клиентов пользовались 2 продуктами, 35% 1 продуктом и 5% 3 продуктами\n",
    "7. 70% оставшихся клиентов пользуются кредитной картой\n",
    "8. Среди оставшихся клиентов 60% активных\n",
    "9. Распределение заработной платы близко к нормальному, медиана составляет около 100 000 руб.\n",
    "10. Среди оставшихся клиентов 53% из Ярославля, 26% из Рыбинска и 21% из Ростова Великого"
   ]
  },
  {
   "cell_type": "markdown",
   "metadata": {},
   "source": [
    "### Категоризация данных"
   ]
  },
  {
   "cell_type": "markdown",
   "metadata": {},
   "source": [
    "Разобьем данные на категории, найдем какие больше всего влияют на отток клиентов"
   ]
  },
  {
   "cell_type": "markdown",
   "metadata": {},
   "source": [
    "#### Категоризация по возрасту"
   ]
  },
  {
   "cell_type": "code",
   "execution_count": 21,
   "metadata": {},
   "outputs": [
    {
     "data": {
      "text/html": [
       "<div>\n",
       "<style scoped>\n",
       "    .dataframe tbody tr th:only-of-type {\n",
       "        vertical-align: middle;\n",
       "    }\n",
       "\n",
       "    .dataframe tbody tr th {\n",
       "        vertical-align: top;\n",
       "    }\n",
       "\n",
       "    .dataframe thead th {\n",
       "        text-align: right;\n",
       "    }\n",
       "</style>\n",
       "<table border=\"1\" class=\"dataframe\">\n",
       "  <thead>\n",
       "    <tr style=\"text-align: right;\">\n",
       "      <th></th>\n",
       "      <th>user_id</th>\n",
       "      <th>score</th>\n",
       "      <th>gender</th>\n",
       "      <th>age</th>\n",
       "      <th>objects</th>\n",
       "      <th>balance</th>\n",
       "      <th>products</th>\n",
       "      <th>creditcard</th>\n",
       "      <th>loyalty</th>\n",
       "      <th>estimated_salary</th>\n",
       "      <th>churn</th>\n",
       "      <th>Ярославль</th>\n",
       "      <th>Рыбинск</th>\n",
       "      <th>Ростов Великий</th>\n",
       "      <th>is_account</th>\n",
       "      <th>age_cat</th>\n",
       "    </tr>\n",
       "  </thead>\n",
       "  <tbody>\n",
       "    <tr>\n",
       "      <th>0</th>\n",
       "      <td>15677338</td>\n",
       "      <td>619</td>\n",
       "      <td>0</td>\n",
       "      <td>42</td>\n",
       "      <td>2</td>\n",
       "      <td>0.00</td>\n",
       "      <td>1</td>\n",
       "      <td>1</td>\n",
       "      <td>1</td>\n",
       "      <td>101348.88</td>\n",
       "      <td>1</td>\n",
       "      <td>1</td>\n",
       "      <td>0</td>\n",
       "      <td>0</td>\n",
       "      <td>0</td>\n",
       "      <td>среднего возраста</td>\n",
       "    </tr>\n",
       "    <tr>\n",
       "      <th>1</th>\n",
       "      <td>15690047</td>\n",
       "      <td>608</td>\n",
       "      <td>0</td>\n",
       "      <td>41</td>\n",
       "      <td>1</td>\n",
       "      <td>83807.86</td>\n",
       "      <td>1</td>\n",
       "      <td>0</td>\n",
       "      <td>1</td>\n",
       "      <td>112542.58</td>\n",
       "      <td>0</td>\n",
       "      <td>0</td>\n",
       "      <td>1</td>\n",
       "      <td>0</td>\n",
       "      <td>1</td>\n",
       "      <td>среднего возраста</td>\n",
       "    </tr>\n",
       "    <tr>\n",
       "      <th>2</th>\n",
       "      <td>15662040</td>\n",
       "      <td>502</td>\n",
       "      <td>0</td>\n",
       "      <td>42</td>\n",
       "      <td>8</td>\n",
       "      <td>159660.80</td>\n",
       "      <td>3</td>\n",
       "      <td>1</td>\n",
       "      <td>0</td>\n",
       "      <td>113931.57</td>\n",
       "      <td>1</td>\n",
       "      <td>1</td>\n",
       "      <td>0</td>\n",
       "      <td>0</td>\n",
       "      <td>1</td>\n",
       "      <td>среднего возраста</td>\n",
       "    </tr>\n",
       "    <tr>\n",
       "      <th>3</th>\n",
       "      <td>15744090</td>\n",
       "      <td>699</td>\n",
       "      <td>0</td>\n",
       "      <td>39</td>\n",
       "      <td>1</td>\n",
       "      <td>0.00</td>\n",
       "      <td>2</td>\n",
       "      <td>0</td>\n",
       "      <td>0</td>\n",
       "      <td>93826.63</td>\n",
       "      <td>0</td>\n",
       "      <td>1</td>\n",
       "      <td>0</td>\n",
       "      <td>0</td>\n",
       "      <td>0</td>\n",
       "      <td>среднего возраста</td>\n",
       "    </tr>\n",
       "    <tr>\n",
       "      <th>4</th>\n",
       "      <td>15780624</td>\n",
       "      <td>850</td>\n",
       "      <td>0</td>\n",
       "      <td>43</td>\n",
       "      <td>2</td>\n",
       "      <td>125510.82</td>\n",
       "      <td>1</td>\n",
       "      <td>1</td>\n",
       "      <td>1</td>\n",
       "      <td>79084.10</td>\n",
       "      <td>0</td>\n",
       "      <td>0</td>\n",
       "      <td>1</td>\n",
       "      <td>0</td>\n",
       "      <td>1</td>\n",
       "      <td>среднего возраста</td>\n",
       "    </tr>\n",
       "  </tbody>\n",
       "</table>\n",
       "</div>"
      ],
      "text/plain": [
       "    user_id  score  gender  age  objects    balance  products  creditcard  \\\n",
       "0  15677338    619       0   42        2       0.00         1           1   \n",
       "1  15690047    608       0   41        1   83807.86         1           0   \n",
       "2  15662040    502       0   42        8  159660.80         3           1   \n",
       "3  15744090    699       0   39        1       0.00         2           0   \n",
       "4  15780624    850       0   43        2  125510.82         1           1   \n",
       "\n",
       "   loyalty  estimated_salary  churn  Ярославль  Рыбинск  Ростов Великий  \\\n",
       "0        1         101348.88      1          1        0               0   \n",
       "1        1         112542.58      0          0        1               0   \n",
       "2        0         113931.57      1          1        0               0   \n",
       "3        0          93826.63      0          1        0               0   \n",
       "4        1          79084.10      0          0        1               0   \n",
       "\n",
       "   is_account            age_cat  \n",
       "0           0  среднего возраста  \n",
       "1           1  среднего возраста  \n",
       "2           1  среднего возраста  \n",
       "3           0  среднего возраста  \n",
       "4           1  среднего возраста  "
      ]
     },
     "execution_count": 21,
     "metadata": {},
     "output_type": "execute_result"
    }
   ],
   "source": [
    "#напишем функцию для распределения возраста по категориям\n",
    "def age_cat(data):\n",
    "    \n",
    "    if data['age'] <= 30:\n",
    "        return 'молодой'\n",
    "    \n",
    "    elif data['age'] <= 50:\n",
    "        return 'среднего возраста'\n",
    "    \n",
    "    elif data['age'] <= 65:\n",
    "        return 'взрослые'\n",
    "    \n",
    "    else:\n",
    "        return 'пенсионеры'\n",
    "\n",
    "#добавим новый столбец в таблицу\n",
    "data['age_cat'] = data.apply(age_cat, axis=1)\n",
    "\n",
    "data.head()"
   ]
  },
  {
   "cell_type": "markdown",
   "metadata": {},
   "source": [
    "Посмотрим распределение по возрастным категориям"
   ]
  },
  {
   "cell_type": "code",
   "execution_count": 22,
   "metadata": {},
   "outputs": [
    {
     "data": {
      "image/png": "[encoded data removed]",
      "text/plain": [
       "<Figure size 720x432 with 1 Axes>"
      ]
     },
     "metadata": {
      "needs_background": "light"
     },
     "output_type": "display_data"
    }
   ],
   "source": [
    "plt.figure(figsize =(10, 6))\n",
    "sns.countplot(x = 'age_cat', data = data, palette = 'viridis')\n",
    "plt.xlabel('Категории') #подпись оси х\n",
    "plt.ylabel('Количество клиентов') #подпись оси у\n",
    "plt.title('Количество клиентов в возрастных категориях')\n",
    "plt.grid() \n",
    "plt.show()"
   ]
  },
  {
   "cell_type": "markdown",
   "metadata": {},
   "source": [
    "Посмотрим отток по каждой из категорий"
   ]
  },
  {
   "cell_type": "code",
   "execution_count": 23,
   "metadata": {},
   "outputs": [
    {
     "data": {
      "text/plain": [
       "count    1968.000000\n",
       "mean        0.075203\n",
       "std         0.263786\n",
       "min         0.000000\n",
       "25%         0.000000\n",
       "50%         0.000000\n",
       "75%         0.000000\n",
       "max         1.000000\n",
       "Name: churn, dtype: float64"
      ]
     },
     "execution_count": 23,
     "metadata": {},
     "output_type": "execute_result"
    }
   ],
   "source": [
    "churn_young = data.query('age_cat == \"молодой\"')\n",
    "churn_young['churn'].describe()"
   ]
  },
  {
   "cell_type": "markdown",
   "metadata": {},
   "source": [
    "Среди молодежи склонных к уходу 7,5%, посмотрим среднюю возрастную категорию"
   ]
  },
  {
   "cell_type": "code",
   "execution_count": 24,
   "metadata": {},
   "outputs": [
    {
     "data": {
      "text/plain": [
       "count    6771.000000\n",
       "mean        0.195835\n",
       "std         0.396872\n",
       "min         0.000000\n",
       "25%         0.000000\n",
       "50%         0.000000\n",
       "75%         0.000000\n",
       "max         1.000000\n",
       "Name: churn, dtype: float64"
      ]
     },
     "execution_count": 24,
     "metadata": {},
     "output_type": "execute_result"
    }
   ],
   "source": [
    "churn_average = data.query('age_cat == \"среднего возраста\"')\n",
    "churn_average['churn'].describe()"
   ]
  },
  {
   "cell_type": "markdown",
   "metadata": {},
   "source": [
    "У клиентов среднего возраста отток составил 19%, посмотрим пенсионер"
   ]
  },
  {
   "cell_type": "code",
   "execution_count": 25,
   "metadata": {},
   "outputs": [
    {
     "data": {
      "text/plain": [
       "count    264.000000\n",
       "mean       0.132576\n",
       "std        0.339760\n",
       "min        0.000000\n",
       "25%        0.000000\n",
       "50%        0.000000\n",
       "75%        0.000000\n",
       "max        1.000000\n",
       "Name: churn, dtype: float64"
      ]
     },
     "execution_count": 25,
     "metadata": {},
     "output_type": "execute_result"
    }
   ],
   "source": [
    "churn_pensioners = data.query('age_cat == \"пенсионеры\"')\n",
    "churn_pensioners['churn'].describe()"
   ]
  },
  {
   "cell_type": "markdown",
   "metadata": {},
   "source": [
    "У пенсионеров отток составил примерно 13%"
   ]
  },
  {
   "cell_type": "code",
   "execution_count": 26,
   "metadata": {},
   "outputs": [
    {
     "data": {
      "text/plain": [
       "count    997.000000\n",
       "mean       0.529589\n",
       "std        0.499374\n",
       "min        0.000000\n",
       "25%        0.000000\n",
       "50%        1.000000\n",
       "75%        1.000000\n",
       "max        1.000000\n",
       "Name: churn, dtype: float64"
      ]
     },
     "execution_count": 26,
     "metadata": {},
     "output_type": "execute_result"
    }
   ],
   "source": [
    "churn_adults = data.query('age_cat == \"взрослые\"')\n",
    "churn_adults['churn'].describe()"
   ]
  },
  {
   "cell_type": "markdown",
   "metadata": {},
   "source": [
    "У взрослых клиентов отток составил 53%, процент хоть и высокий, но и количество клиентов в этой категории небольшое"
   ]
  },
  {
   "cell_type": "markdown",
   "metadata": {},
   "source": [
    "#### Категоризация по доходу"
   ]
  },
  {
   "cell_type": "code",
   "execution_count": 27,
   "metadata": {},
   "outputs": [
    {
     "data": {
      "text/html": [
       "<div>\n",
       "<style scoped>\n",
       "    .dataframe tbody tr th:only-of-type {\n",
       "        vertical-align: middle;\n",
       "    }\n",
       "\n",
       "    .dataframe tbody tr th {\n",
       "        vertical-align: top;\n",
       "    }\n",
       "\n",
       "    .dataframe thead th {\n",
       "        text-align: right;\n",
       "    }\n",
       "</style>\n",
       "<table border=\"1\" class=\"dataframe\">\n",
       "  <thead>\n",
       "    <tr style=\"text-align: right;\">\n",
       "      <th></th>\n",
       "      <th>user_id</th>\n",
       "      <th>score</th>\n",
       "      <th>gender</th>\n",
       "      <th>age</th>\n",
       "      <th>objects</th>\n",
       "      <th>balance</th>\n",
       "      <th>products</th>\n",
       "      <th>creditcard</th>\n",
       "      <th>loyalty</th>\n",
       "      <th>estimated_salary</th>\n",
       "      <th>churn</th>\n",
       "      <th>Ярославль</th>\n",
       "      <th>Рыбинск</th>\n",
       "      <th>Ростов Великий</th>\n",
       "      <th>is_account</th>\n",
       "      <th>age_cat</th>\n",
       "      <th>money_cat</th>\n",
       "    </tr>\n",
       "  </thead>\n",
       "  <tbody>\n",
       "    <tr>\n",
       "      <th>0</th>\n",
       "      <td>15677338</td>\n",
       "      <td>619</td>\n",
       "      <td>0</td>\n",
       "      <td>42</td>\n",
       "      <td>2</td>\n",
       "      <td>0.00</td>\n",
       "      <td>1</td>\n",
       "      <td>1</td>\n",
       "      <td>1</td>\n",
       "      <td>101348.88</td>\n",
       "      <td>1</td>\n",
       "      <td>1</td>\n",
       "      <td>0</td>\n",
       "      <td>0</td>\n",
       "      <td>0</td>\n",
       "      <td>среднего возраста</td>\n",
       "      <td>высокий доход</td>\n",
       "    </tr>\n",
       "    <tr>\n",
       "      <th>1</th>\n",
       "      <td>15690047</td>\n",
       "      <td>608</td>\n",
       "      <td>0</td>\n",
       "      <td>41</td>\n",
       "      <td>1</td>\n",
       "      <td>83807.86</td>\n",
       "      <td>1</td>\n",
       "      <td>0</td>\n",
       "      <td>1</td>\n",
       "      <td>112542.58</td>\n",
       "      <td>0</td>\n",
       "      <td>0</td>\n",
       "      <td>1</td>\n",
       "      <td>0</td>\n",
       "      <td>1</td>\n",
       "      <td>среднего возраста</td>\n",
       "      <td>высокий доход</td>\n",
       "    </tr>\n",
       "    <tr>\n",
       "      <th>2</th>\n",
       "      <td>15662040</td>\n",
       "      <td>502</td>\n",
       "      <td>0</td>\n",
       "      <td>42</td>\n",
       "      <td>8</td>\n",
       "      <td>159660.80</td>\n",
       "      <td>3</td>\n",
       "      <td>1</td>\n",
       "      <td>0</td>\n",
       "      <td>113931.57</td>\n",
       "      <td>1</td>\n",
       "      <td>1</td>\n",
       "      <td>0</td>\n",
       "      <td>0</td>\n",
       "      <td>1</td>\n",
       "      <td>среднего возраста</td>\n",
       "      <td>высокий доход</td>\n",
       "    </tr>\n",
       "    <tr>\n",
       "      <th>3</th>\n",
       "      <td>15744090</td>\n",
       "      <td>699</td>\n",
       "      <td>0</td>\n",
       "      <td>39</td>\n",
       "      <td>1</td>\n",
       "      <td>0.00</td>\n",
       "      <td>2</td>\n",
       "      <td>0</td>\n",
       "      <td>0</td>\n",
       "      <td>93826.63</td>\n",
       "      <td>0</td>\n",
       "      <td>1</td>\n",
       "      <td>0</td>\n",
       "      <td>0</td>\n",
       "      <td>0</td>\n",
       "      <td>среднего возраста</td>\n",
       "      <td>средний доход</td>\n",
       "    </tr>\n",
       "    <tr>\n",
       "      <th>4</th>\n",
       "      <td>15780624</td>\n",
       "      <td>850</td>\n",
       "      <td>0</td>\n",
       "      <td>43</td>\n",
       "      <td>2</td>\n",
       "      <td>125510.82</td>\n",
       "      <td>1</td>\n",
       "      <td>1</td>\n",
       "      <td>1</td>\n",
       "      <td>79084.10</td>\n",
       "      <td>0</td>\n",
       "      <td>0</td>\n",
       "      <td>1</td>\n",
       "      <td>0</td>\n",
       "      <td>1</td>\n",
       "      <td>среднего возраста</td>\n",
       "      <td>средний доход</td>\n",
       "    </tr>\n",
       "  </tbody>\n",
       "</table>\n",
       "</div>"
      ],
      "text/plain": [
       "    user_id  score  gender  age  objects    balance  products  creditcard  \\\n",
       "0  15677338    619       0   42        2       0.00         1           1   \n",
       "1  15690047    608       0   41        1   83807.86         1           0   \n",
       "2  15662040    502       0   42        8  159660.80         3           1   \n",
       "3  15744090    699       0   39        1       0.00         2           0   \n",
       "4  15780624    850       0   43        2  125510.82         1           1   \n",
       "\n",
       "   loyalty  estimated_salary  churn  Ярославль  Рыбинск  Ростов Великий  \\\n",
       "0        1         101348.88      1          1        0               0   \n",
       "1        1         112542.58      0          0        1               0   \n",
       "2        0         113931.57      1          1        0               0   \n",
       "3        0          93826.63      0          1        0               0   \n",
       "4        1          79084.10      0          0        1               0   \n",
       "\n",
       "   is_account            age_cat      money_cat  \n",
       "0           0  среднего возраста  высокий доход  \n",
       "1           1  среднего возраста  высокий доход  \n",
       "2           1  среднего возраста  высокий доход  \n",
       "3           0  среднего возраста  средний доход  \n",
       "4           1  среднего возраста  средний доход  "
      ]
     },
     "execution_count": 27,
     "metadata": {},
     "output_type": "execute_result"
    }
   ],
   "source": [
    "#напишем функцию для распределения дохода по категориям\n",
    "def money_cat(data):\n",
    "    \n",
    "    if data['estimated_salary'] <= 50000:\n",
    "        return 'низкий доход'\n",
    "    \n",
    "    elif data['estimated_salary'] <= 100000:\n",
    "        return 'средний доход'\n",
    "        \n",
    "    else:\n",
    "        return 'высокий доход'\n",
    "\n",
    "#добавим новый столбец в таблицу\n",
    "data['money_cat'] = data.apply(money_cat, axis=1)\n",
    "\n",
    "data.head()"
   ]
  },
  {
   "cell_type": "markdown",
   "metadata": {},
   "source": [
    "Посмотрим распределение по категории доход"
   ]
  },
  {
   "cell_type": "code",
   "execution_count": 28,
   "metadata": {},
   "outputs": [
    {
     "data": {
      "image/png": "[encoded data removed]",
      "text/plain": [
       "<Figure size 720x432 with 1 Axes>"
      ]
     },
     "metadata": {
      "needs_background": "light"
     },
     "output_type": "display_data"
    }
   ],
   "source": [
    "plt.figure(figsize =(10, 6))\n",
    "sns.countplot(x = 'money_cat', data = data, palette = 'viridis')\n",
    "plt.xlabel('Категории') #подпись оси х\n",
    "plt.ylabel('Количество клиентов') #подпись оси у\n",
    "plt.title('Количество клиентов в категориях доход')\n",
    "plt.grid() \n",
    "plt.show()"
   ]
  },
  {
   "cell_type": "markdown",
   "metadata": {},
   "source": [
    "50% клиентов с высоким доходом, и по 25% со средним и низким доходом, посмотрим отток клиентов в каждой категории"
   ]
  },
  {
   "cell_type": "code",
   "execution_count": 29,
   "metadata": {},
   "outputs": [
    {
     "data": {
      "text/plain": [
       "count    2453.000000\n",
       "mean        0.199348\n",
       "std         0.399591\n",
       "min         0.000000\n",
       "25%         0.000000\n",
       "50%         0.000000\n",
       "75%         0.000000\n",
       "max         1.000000\n",
       "Name: churn, dtype: float64"
      ]
     },
     "execution_count": 29,
     "metadata": {},
     "output_type": "execute_result"
    }
   ],
   "source": [
    "churn_short_money = data.query('money_cat == \"низкий доход\"')\n",
    "churn_short_money['churn'].describe()"
   ]
  },
  {
   "cell_type": "markdown",
   "metadata": {},
   "source": [
    "Отток в категории с низким доходом составил 20%"
   ]
  },
  {
   "cell_type": "code",
   "execution_count": 30,
   "metadata": {},
   "outputs": [
    {
     "data": {
      "text/plain": [
       "count    2537.00000\n",
       "mean        0.19866\n",
       "std         0.39907\n",
       "min         0.00000\n",
       "25%         0.00000\n",
       "50%         0.00000\n",
       "75%         0.00000\n",
       "max         1.00000\n",
       "Name: churn, dtype: float64"
      ]
     },
     "execution_count": 30,
     "metadata": {},
     "output_type": "execute_result"
    }
   ],
   "source": [
    "churn_average_money = data.query('money_cat == \"средний доход\"')\n",
    "churn_average_money['churn'].describe()"
   ]
  },
  {
   "cell_type": "markdown",
   "metadata": {},
   "source": [
    "Отток в категории со средним доходом составил 20%"
   ]
  },
  {
   "cell_type": "code",
   "execution_count": 31,
   "metadata": {},
   "outputs": [
    {
     "data": {
      "text/plain": [
       "count    5010.000000\n",
       "mean        0.208383\n",
       "std         0.406193\n",
       "min         0.000000\n",
       "25%         0.000000\n",
       "50%         0.000000\n",
       "75%         0.000000\n",
       "max         1.000000\n",
       "Name: churn, dtype: float64"
      ]
     },
     "execution_count": 31,
     "metadata": {},
     "output_type": "execute_result"
    }
   ],
   "source": [
    "churn_high_money = data.query('money_cat == \"высокий доход\"')\n",
    "churn_high_money['churn'].describe()"
   ]
  },
  {
   "cell_type": "markdown",
   "metadata": {},
   "source": [
    "Отток в категории с высоким доходом составил 21%"
   ]
  },
  {
   "cell_type": "markdown",
   "metadata": {},
   "source": [
    "#### Категоризация по количеству объектов в собственности"
   ]
  },
  {
   "cell_type": "code",
   "execution_count": 32,
   "metadata": {},
   "outputs": [
    {
     "data": {
      "text/html": [
       "<div>\n",
       "<style scoped>\n",
       "    .dataframe tbody tr th:only-of-type {\n",
       "        vertical-align: middle;\n",
       "    }\n",
       "\n",
       "    .dataframe tbody tr th {\n",
       "        vertical-align: top;\n",
       "    }\n",
       "\n",
       "    .dataframe thead th {\n",
       "        text-align: right;\n",
       "    }\n",
       "</style>\n",
       "<table border=\"1\" class=\"dataframe\">\n",
       "  <thead>\n",
       "    <tr style=\"text-align: right;\">\n",
       "      <th></th>\n",
       "      <th>user_id</th>\n",
       "      <th>score</th>\n",
       "      <th>gender</th>\n",
       "      <th>age</th>\n",
       "      <th>objects</th>\n",
       "      <th>balance</th>\n",
       "      <th>products</th>\n",
       "      <th>creditcard</th>\n",
       "      <th>loyalty</th>\n",
       "      <th>estimated_salary</th>\n",
       "      <th>churn</th>\n",
       "      <th>Ярославль</th>\n",
       "      <th>Рыбинск</th>\n",
       "      <th>Ростов Великий</th>\n",
       "      <th>is_account</th>\n",
       "      <th>age_cat</th>\n",
       "      <th>money_cat</th>\n",
       "      <th>objects_cat</th>\n",
       "    </tr>\n",
       "  </thead>\n",
       "  <tbody>\n",
       "    <tr>\n",
       "      <th>0</th>\n",
       "      <td>15677338</td>\n",
       "      <td>619</td>\n",
       "      <td>0</td>\n",
       "      <td>42</td>\n",
       "      <td>2</td>\n",
       "      <td>0.00</td>\n",
       "      <td>1</td>\n",
       "      <td>1</td>\n",
       "      <td>1</td>\n",
       "      <td>101348.88</td>\n",
       "      <td>1</td>\n",
       "      <td>1</td>\n",
       "      <td>0</td>\n",
       "      <td>0</td>\n",
       "      <td>0</td>\n",
       "      <td>среднего возраста</td>\n",
       "      <td>высокий доход</td>\n",
       "      <td>1-2 объекта</td>\n",
       "    </tr>\n",
       "    <tr>\n",
       "      <th>1</th>\n",
       "      <td>15690047</td>\n",
       "      <td>608</td>\n",
       "      <td>0</td>\n",
       "      <td>41</td>\n",
       "      <td>1</td>\n",
       "      <td>83807.86</td>\n",
       "      <td>1</td>\n",
       "      <td>0</td>\n",
       "      <td>1</td>\n",
       "      <td>112542.58</td>\n",
       "      <td>0</td>\n",
       "      <td>0</td>\n",
       "      <td>1</td>\n",
       "      <td>0</td>\n",
       "      <td>1</td>\n",
       "      <td>среднего возраста</td>\n",
       "      <td>высокий доход</td>\n",
       "      <td>1-2 объекта</td>\n",
       "    </tr>\n",
       "    <tr>\n",
       "      <th>2</th>\n",
       "      <td>15662040</td>\n",
       "      <td>502</td>\n",
       "      <td>0</td>\n",
       "      <td>42</td>\n",
       "      <td>8</td>\n",
       "      <td>159660.80</td>\n",
       "      <td>3</td>\n",
       "      <td>1</td>\n",
       "      <td>0</td>\n",
       "      <td>113931.57</td>\n",
       "      <td>1</td>\n",
       "      <td>1</td>\n",
       "      <td>0</td>\n",
       "      <td>0</td>\n",
       "      <td>1</td>\n",
       "      <td>среднего возраста</td>\n",
       "      <td>высокий доход</td>\n",
       "      <td>более 5 объектов</td>\n",
       "    </tr>\n",
       "    <tr>\n",
       "      <th>3</th>\n",
       "      <td>15744090</td>\n",
       "      <td>699</td>\n",
       "      <td>0</td>\n",
       "      <td>39</td>\n",
       "      <td>1</td>\n",
       "      <td>0.00</td>\n",
       "      <td>2</td>\n",
       "      <td>0</td>\n",
       "      <td>0</td>\n",
       "      <td>93826.63</td>\n",
       "      <td>0</td>\n",
       "      <td>1</td>\n",
       "      <td>0</td>\n",
       "      <td>0</td>\n",
       "      <td>0</td>\n",
       "      <td>среднего возраста</td>\n",
       "      <td>средний доход</td>\n",
       "      <td>1-2 объекта</td>\n",
       "    </tr>\n",
       "    <tr>\n",
       "      <th>4</th>\n",
       "      <td>15780624</td>\n",
       "      <td>850</td>\n",
       "      <td>0</td>\n",
       "      <td>43</td>\n",
       "      <td>2</td>\n",
       "      <td>125510.82</td>\n",
       "      <td>1</td>\n",
       "      <td>1</td>\n",
       "      <td>1</td>\n",
       "      <td>79084.10</td>\n",
       "      <td>0</td>\n",
       "      <td>0</td>\n",
       "      <td>1</td>\n",
       "      <td>0</td>\n",
       "      <td>1</td>\n",
       "      <td>среднего возраста</td>\n",
       "      <td>средний доход</td>\n",
       "      <td>1-2 объекта</td>\n",
       "    </tr>\n",
       "  </tbody>\n",
       "</table>\n",
       "</div>"
      ],
      "text/plain": [
       "    user_id  score  gender  age  objects    balance  products  creditcard  \\\n",
       "0  15677338    619       0   42        2       0.00         1           1   \n",
       "1  15690047    608       0   41        1   83807.86         1           0   \n",
       "2  15662040    502       0   42        8  159660.80         3           1   \n",
       "3  15744090    699       0   39        1       0.00         2           0   \n",
       "4  15780624    850       0   43        2  125510.82         1           1   \n",
       "\n",
       "   loyalty  estimated_salary  churn  Ярославль  Рыбинск  Ростов Великий  \\\n",
       "0        1         101348.88      1          1        0               0   \n",
       "1        1         112542.58      0          0        1               0   \n",
       "2        0         113931.57      1          1        0               0   \n",
       "3        0          93826.63      0          1        0               0   \n",
       "4        1          79084.10      0          0        1               0   \n",
       "\n",
       "   is_account            age_cat      money_cat       objects_cat  \n",
       "0           0  среднего возраста  высокий доход       1-2 объекта  \n",
       "1           1  среднего возраста  высокий доход       1-2 объекта  \n",
       "2           1  среднего возраста  высокий доход  более 5 объектов  \n",
       "3           0  среднего возраста  средний доход       1-2 объекта  \n",
       "4           1  среднего возраста  средний доход       1-2 объекта  "
      ]
     },
     "execution_count": 32,
     "metadata": {},
     "output_type": "execute_result"
    }
   ],
   "source": [
    "#напишем функцию по категоризации по числу объектов в собстенности\n",
    "def objects_cat(data):\n",
    "    \n",
    "    if data['objects'] == 0:\n",
    "        return 'нет объектов'\n",
    "    \n",
    "    elif data['objects'] < 3:\n",
    "        return '1-2 объекта'\n",
    "    \n",
    "    elif data['objects'] <= 5:\n",
    "        return '3-5 объектов'\n",
    "    \n",
    "    else:\n",
    "        return 'более 5 объектов'\n",
    "\n",
    "#добавим новый столбец в таблицу\n",
    "data['objects_cat'] = data.apply(objects_cat, axis=1)\n",
    "\n",
    "data.head()"
   ]
  },
  {
   "cell_type": "markdown",
   "metadata": {},
   "source": [
    "Посмотрим на распределение по категориям количество обектов в собственности"
   ]
  },
  {
   "cell_type": "code",
   "execution_count": 33,
   "metadata": {},
   "outputs": [
    {
     "data": {
      "image/png": "[encoded data removed]",
      "text/plain": [
       "<Figure size 720x432 with 1 Axes>"
      ]
     },
     "metadata": {
      "needs_background": "light"
     },
     "output_type": "display_data"
    }
   ],
   "source": [
    "plt.figure(figsize =(10, 6))\n",
    "sns.countplot(x = 'objects_cat', data = data, palette = 'viridis')\n",
    "plt.xlabel('Категории') #подпись оси х\n",
    "plt.ylabel('Количество клиентов') #подпись оси у\n",
    "plt.title('Количество клиентов в категориях количество объектов в собственности')\n",
    "plt.grid() \n",
    "plt.show()"
   ]
  },
  {
   "cell_type": "markdown",
   "metadata": {},
   "source": [
    "45% клиентов имеют в собственности более 5 объектов, 30% имеют в собственности 3-5 объектов, 21% 1-2 объекта и 4% клиентов не имеют в собственности объектов."
   ]
  },
  {
   "cell_type": "code",
   "execution_count": 34,
   "metadata": {},
   "outputs": [
    {
     "data": {
      "text/plain": [
       "count    2083.000000\n",
       "mean        0.207873\n",
       "std         0.405883\n",
       "min         0.000000\n",
       "25%         0.000000\n",
       "50%         0.000000\n",
       "75%         0.000000\n",
       "max         1.000000\n",
       "Name: churn, dtype: float64"
      ]
     },
     "execution_count": 34,
     "metadata": {},
     "output_type": "execute_result"
    }
   ],
   "source": [
    "objects_1_2 = data.query('objects_cat == \"1-2 объекта\"')\n",
    "objects_1_2['churn'].describe()"
   ]
  },
  {
   "cell_type": "markdown",
   "metadata": {},
   "source": [
    "Отток в категории 1-2 объекта составил 21%"
   ]
  },
  {
   "cell_type": "code",
   "execution_count": 35,
   "metadata": {},
   "outputs": [
    {
     "data": {
      "text/plain": [
       "count    4494.000000\n",
       "mean        0.196707\n",
       "std         0.397553\n",
       "min         0.000000\n",
       "25%         0.000000\n",
       "50%         0.000000\n",
       "75%         0.000000\n",
       "max         1.000000\n",
       "Name: churn, dtype: float64"
      ]
     },
     "execution_count": 35,
     "metadata": {},
     "output_type": "execute_result"
    }
   ],
   "source": [
    "objects_5 = data.query('objects_cat == \"более 5 объектов\"')\n",
    "objects_5['churn'].describe()"
   ]
  },
  {
   "cell_type": "markdown",
   "metadata": {},
   "source": [
    "Отток в категории более 5 объектов составил 20%"
   ]
  },
  {
   "cell_type": "code",
   "execution_count": 36,
   "metadata": {},
   "outputs": [
    {
     "data": {
      "text/plain": [
       "count    3010.000000\n",
       "mean        0.207641\n",
       "std         0.405686\n",
       "min         0.000000\n",
       "25%         0.000000\n",
       "50%         0.000000\n",
       "75%         0.000000\n",
       "max         1.000000\n",
       "Name: churn, dtype: float64"
      ]
     },
     "execution_count": 36,
     "metadata": {},
     "output_type": "execute_result"
    }
   ],
   "source": [
    "objects_3_5 = data.query('objects_cat == \"3-5 объектов\"')\n",
    "objects_3_5['churn'].describe()"
   ]
  },
  {
   "cell_type": "markdown",
   "metadata": {},
   "source": [
    "Отток в категории 3-5 объекта составил 21%"
   ]
  },
  {
   "cell_type": "code",
   "execution_count": 37,
   "metadata": {},
   "outputs": [
    {
     "data": {
      "text/plain": [
       "count    413.000000\n",
       "mean       0.230024\n",
       "std        0.421358\n",
       "min        0.000000\n",
       "25%        0.000000\n",
       "50%        0.000000\n",
       "75%        0.000000\n",
       "max        1.000000\n",
       "Name: churn, dtype: float64"
      ]
     },
     "execution_count": 37,
     "metadata": {},
     "output_type": "execute_result"
    }
   ],
   "source": [
    "objects_0 = data.query('objects_cat == \"нет объектов\"')\n",
    "objects_0['churn'].describe()"
   ]
  },
  {
   "cell_type": "markdown",
   "metadata": {},
   "source": [
    "Отток в категории нет объектов составил 23%"
   ]
  },
  {
   "cell_type": "markdown",
   "metadata": {},
   "source": [
    "#### Категоризация по количеству используемых продуктов банка"
   ]
  },
  {
   "cell_type": "code",
   "execution_count": 38,
   "metadata": {},
   "outputs": [
    {
     "data": {
      "text/html": [
       "<div>\n",
       "<style scoped>\n",
       "    .dataframe tbody tr th:only-of-type {\n",
       "        vertical-align: middle;\n",
       "    }\n",
       "\n",
       "    .dataframe tbody tr th {\n",
       "        vertical-align: top;\n",
       "    }\n",
       "\n",
       "    .dataframe thead th {\n",
       "        text-align: right;\n",
       "    }\n",
       "</style>\n",
       "<table border=\"1\" class=\"dataframe\">\n",
       "  <thead>\n",
       "    <tr style=\"text-align: right;\">\n",
       "      <th></th>\n",
       "      <th>user_id</th>\n",
       "      <th>score</th>\n",
       "      <th>gender</th>\n",
       "      <th>age</th>\n",
       "      <th>objects</th>\n",
       "      <th>balance</th>\n",
       "      <th>products</th>\n",
       "      <th>creditcard</th>\n",
       "      <th>loyalty</th>\n",
       "      <th>estimated_salary</th>\n",
       "      <th>churn</th>\n",
       "      <th>Ярославль</th>\n",
       "      <th>Рыбинск</th>\n",
       "      <th>Ростов Великий</th>\n",
       "      <th>is_account</th>\n",
       "      <th>age_cat</th>\n",
       "      <th>money_cat</th>\n",
       "      <th>objects_cat</th>\n",
       "      <th>products_cat</th>\n",
       "    </tr>\n",
       "  </thead>\n",
       "  <tbody>\n",
       "    <tr>\n",
       "      <th>0</th>\n",
       "      <td>15677338</td>\n",
       "      <td>619</td>\n",
       "      <td>0</td>\n",
       "      <td>42</td>\n",
       "      <td>2</td>\n",
       "      <td>0.00</td>\n",
       "      <td>1</td>\n",
       "      <td>1</td>\n",
       "      <td>1</td>\n",
       "      <td>101348.88</td>\n",
       "      <td>1</td>\n",
       "      <td>1</td>\n",
       "      <td>0</td>\n",
       "      <td>0</td>\n",
       "      <td>0</td>\n",
       "      <td>среднего возраста</td>\n",
       "      <td>высокий доход</td>\n",
       "      <td>1-2 объекта</td>\n",
       "      <td>1 продукт</td>\n",
       "    </tr>\n",
       "    <tr>\n",
       "      <th>1</th>\n",
       "      <td>15690047</td>\n",
       "      <td>608</td>\n",
       "      <td>0</td>\n",
       "      <td>41</td>\n",
       "      <td>1</td>\n",
       "      <td>83807.86</td>\n",
       "      <td>1</td>\n",
       "      <td>0</td>\n",
       "      <td>1</td>\n",
       "      <td>112542.58</td>\n",
       "      <td>0</td>\n",
       "      <td>0</td>\n",
       "      <td>1</td>\n",
       "      <td>0</td>\n",
       "      <td>1</td>\n",
       "      <td>среднего возраста</td>\n",
       "      <td>высокий доход</td>\n",
       "      <td>1-2 объекта</td>\n",
       "      <td>1 продукт</td>\n",
       "    </tr>\n",
       "    <tr>\n",
       "      <th>2</th>\n",
       "      <td>15662040</td>\n",
       "      <td>502</td>\n",
       "      <td>0</td>\n",
       "      <td>42</td>\n",
       "      <td>8</td>\n",
       "      <td>159660.80</td>\n",
       "      <td>3</td>\n",
       "      <td>1</td>\n",
       "      <td>0</td>\n",
       "      <td>113931.57</td>\n",
       "      <td>1</td>\n",
       "      <td>1</td>\n",
       "      <td>0</td>\n",
       "      <td>0</td>\n",
       "      <td>1</td>\n",
       "      <td>среднего возраста</td>\n",
       "      <td>высокий доход</td>\n",
       "      <td>более 5 объектов</td>\n",
       "      <td>3 продукта</td>\n",
       "    </tr>\n",
       "    <tr>\n",
       "      <th>3</th>\n",
       "      <td>15744090</td>\n",
       "      <td>699</td>\n",
       "      <td>0</td>\n",
       "      <td>39</td>\n",
       "      <td>1</td>\n",
       "      <td>0.00</td>\n",
       "      <td>2</td>\n",
       "      <td>0</td>\n",
       "      <td>0</td>\n",
       "      <td>93826.63</td>\n",
       "      <td>0</td>\n",
       "      <td>1</td>\n",
       "      <td>0</td>\n",
       "      <td>0</td>\n",
       "      <td>0</td>\n",
       "      <td>среднего возраста</td>\n",
       "      <td>средний доход</td>\n",
       "      <td>1-2 объекта</td>\n",
       "      <td>2 продукта</td>\n",
       "    </tr>\n",
       "    <tr>\n",
       "      <th>4</th>\n",
       "      <td>15780624</td>\n",
       "      <td>850</td>\n",
       "      <td>0</td>\n",
       "      <td>43</td>\n",
       "      <td>2</td>\n",
       "      <td>125510.82</td>\n",
       "      <td>1</td>\n",
       "      <td>1</td>\n",
       "      <td>1</td>\n",
       "      <td>79084.10</td>\n",
       "      <td>0</td>\n",
       "      <td>0</td>\n",
       "      <td>1</td>\n",
       "      <td>0</td>\n",
       "      <td>1</td>\n",
       "      <td>среднего возраста</td>\n",
       "      <td>средний доход</td>\n",
       "      <td>1-2 объекта</td>\n",
       "      <td>1 продукт</td>\n",
       "    </tr>\n",
       "  </tbody>\n",
       "</table>\n",
       "</div>"
      ],
      "text/plain": [
       "    user_id  score  gender  age  objects    balance  products  creditcard  \\\n",
       "0  15677338    619       0   42        2       0.00         1           1   \n",
       "1  15690047    608       0   41        1   83807.86         1           0   \n",
       "2  15662040    502       0   42        8  159660.80         3           1   \n",
       "3  15744090    699       0   39        1       0.00         2           0   \n",
       "4  15780624    850       0   43        2  125510.82         1           1   \n",
       "\n",
       "   loyalty  estimated_salary  churn  Ярославль  Рыбинск  Ростов Великий  \\\n",
       "0        1         101348.88      1          1        0               0   \n",
       "1        1         112542.58      0          0        1               0   \n",
       "2        0         113931.57      1          1        0               0   \n",
       "3        0          93826.63      0          1        0               0   \n",
       "4        1          79084.10      0          0        1               0   \n",
       "\n",
       "   is_account            age_cat      money_cat       objects_cat products_cat  \n",
       "0           0  среднего возраста  высокий доход       1-2 объекта    1 продукт  \n",
       "1           1  среднего возраста  высокий доход       1-2 объекта    1 продукт  \n",
       "2           1  среднего возраста  высокий доход  более 5 объектов   3 продукта  \n",
       "3           0  среднего возраста  средний доход       1-2 объекта   2 продукта  \n",
       "4           1  среднего возраста  средний доход       1-2 объекта    1 продукт  "
      ]
     },
     "execution_count": 38,
     "metadata": {},
     "output_type": "execute_result"
    }
   ],
   "source": [
    "#напишем функцию по категоризации по количеству используемых продуктов банка\n",
    "def products_cat(data):\n",
    "    \n",
    "    if data['products'] == 1:\n",
    "        return '1 продукт'\n",
    "    \n",
    "    elif data['products'] == 2:\n",
    "        return '2 продукта'\n",
    "    \n",
    "    elif data['products'] ==3:\n",
    "        return '3 продукта'\n",
    "    \n",
    "    else:\n",
    "        return '4 продукта'\n",
    "\n",
    "#добавим новый столбец в таблицу\n",
    "data['products_cat'] = data.apply(products_cat, axis=1)\n",
    "\n",
    "data.head()"
   ]
  },
  {
   "cell_type": "markdown",
   "metadata": {},
   "source": [
    "Посмотрим распределение по категориям количество используемых продуктов банка"
   ]
  },
  {
   "cell_type": "code",
   "execution_count": 39,
   "metadata": {},
   "outputs": [
    {
     "data": {
      "image/png": "[encoded data removed]",
      "text/plain": [
       "<Figure size 720x432 with 1 Axes>"
      ]
     },
     "metadata": {
      "needs_background": "light"
     },
     "output_type": "display_data"
    }
   ],
   "source": [
    "plt.figure(figsize =(10, 6))\n",
    "sns.countplot(x = 'products_cat', data = data, palette = 'viridis')\n",
    "plt.xlabel('Категории') #подпись оси х\n",
    "plt.ylabel('Количество клиентов') #подпись оси у\n",
    "plt.title('Количество клиентов в категориях количество используемых продуктов банка')\n",
    "plt.grid() \n",
    "plt.show()"
   ]
  },
  {
   "cell_type": "markdown",
   "metadata": {},
   "source": [
    "51% клиентов пользуются 1 продуктом банка, 45% клиентов используют 2 продукта банка, 3% используют 3 продукта и 1% использует 4продукта банка. Посмотрим на отток в этих категориях"
   ]
  },
  {
   "cell_type": "code",
   "execution_count": 40,
   "metadata": {},
   "outputs": [
    {
     "data": {
      "text/plain": [
       "count    5084.000000\n",
       "mean        0.277144\n",
       "std         0.447632\n",
       "min         0.000000\n",
       "25%         0.000000\n",
       "50%         0.000000\n",
       "75%         1.000000\n",
       "max         1.000000\n",
       "Name: churn, dtype: float64"
      ]
     },
     "execution_count": 40,
     "metadata": {},
     "output_type": "execute_result"
    }
   ],
   "source": [
    "products_1 = data.query('products_cat == \"1 продукт\"')\n",
    "products_1['churn'].describe()"
   ]
  },
  {
   "cell_type": "markdown",
   "metadata": {},
   "source": [
    "Отток в категории клиентов, использующих 1 продукт банка, составил 28%"
   ]
  },
  {
   "cell_type": "code",
   "execution_count": 41,
   "metadata": {},
   "outputs": [
    {
     "data": {
      "text/plain": [
       "count    4590.000000\n",
       "mean        0.075817\n",
       "std         0.264734\n",
       "min         0.000000\n",
       "25%         0.000000\n",
       "50%         0.000000\n",
       "75%         0.000000\n",
       "max         1.000000\n",
       "Name: churn, dtype: float64"
      ]
     },
     "execution_count": 41,
     "metadata": {},
     "output_type": "execute_result"
    }
   ],
   "source": [
    "products_2 = data.query('products_cat == \"2 продукта\"')\n",
    "products_2['churn'].describe()"
   ]
  },
  {
   "cell_type": "markdown",
   "metadata": {},
   "source": [
    "Отток в категории клиентов, использующих 2 продукт банка, составил 7,5%"
   ]
  },
  {
   "cell_type": "code",
   "execution_count": 42,
   "metadata": {},
   "outputs": [
    {
     "data": {
      "text/plain": [
       "count    266.000000\n",
       "mean       0.827068\n",
       "std        0.378902\n",
       "min        0.000000\n",
       "25%        1.000000\n",
       "50%        1.000000\n",
       "75%        1.000000\n",
       "max        1.000000\n",
       "Name: churn, dtype: float64"
      ]
     },
     "execution_count": 42,
     "metadata": {},
     "output_type": "execute_result"
    }
   ],
   "source": [
    "products_3 = data.query('products_cat == \"3 продукта\"')\n",
    "products_3['churn'].describe()"
   ]
  },
  {
   "cell_type": "markdown",
   "metadata": {},
   "source": [
    "Отток в категории клиентов, использующих 3 продукт банка, составил 83%"
   ]
  },
  {
   "cell_type": "code",
   "execution_count": 43,
   "metadata": {},
   "outputs": [
    {
     "data": {
      "text/plain": [
       "count    60.0\n",
       "mean      1.0\n",
       "std       0.0\n",
       "min       1.0\n",
       "25%       1.0\n",
       "50%       1.0\n",
       "75%       1.0\n",
       "max       1.0\n",
       "Name: churn, dtype: float64"
      ]
     },
     "execution_count": 43,
     "metadata": {},
     "output_type": "execute_result"
    }
   ],
   "source": [
    "products_4 = data.query('products_cat == \"4 продукта\"')\n",
    "products_4['churn'].describe()"
   ]
  },
  {
   "cell_type": "markdown",
   "metadata": {},
   "source": [
    "Отток в категории клиентов, использующих 4 продукт банка, составил 100%, все 60 клиентов ушли из банка"
   ]
  },
  {
   "cell_type": "markdown",
   "metadata": {},
   "source": [
    "### Корреляционный анализ"
   ]
  },
  {
   "cell_type": "code",
   "execution_count": 44,
   "metadata": {},
   "outputs": [
    {
     "data": {
      "text/html": [
       "<div>\n",
       "<style scoped>\n",
       "    .dataframe tbody tr th:only-of-type {\n",
       "        vertical-align: middle;\n",
       "    }\n",
       "\n",
       "    .dataframe tbody tr th {\n",
       "        vertical-align: top;\n",
       "    }\n",
       "\n",
       "    .dataframe thead th {\n",
       "        text-align: right;\n",
       "    }\n",
       "</style>\n",
       "<table border=\"1\" class=\"dataframe\">\n",
       "  <thead>\n",
       "    <tr style=\"text-align: right;\">\n",
       "      <th></th>\n",
       "      <th>user_id</th>\n",
       "      <th>score</th>\n",
       "      <th>gender</th>\n",
       "      <th>age</th>\n",
       "      <th>objects</th>\n",
       "      <th>balance</th>\n",
       "      <th>products</th>\n",
       "      <th>creditcard</th>\n",
       "      <th>loyalty</th>\n",
       "      <th>estimated_salary</th>\n",
       "      <th>churn</th>\n",
       "      <th>Ярославль</th>\n",
       "      <th>Рыбинск</th>\n",
       "      <th>Ростов Великий</th>\n",
       "      <th>is_account</th>\n",
       "      <th>age_cat</th>\n",
       "      <th>money_cat</th>\n",
       "      <th>objects_cat</th>\n",
       "      <th>products_cat</th>\n",
       "    </tr>\n",
       "  </thead>\n",
       "  <tbody>\n",
       "    <tr>\n",
       "      <th>0</th>\n",
       "      <td>15677338</td>\n",
       "      <td>619</td>\n",
       "      <td>0</td>\n",
       "      <td>42</td>\n",
       "      <td>2</td>\n",
       "      <td>0.00</td>\n",
       "      <td>1</td>\n",
       "      <td>1</td>\n",
       "      <td>1</td>\n",
       "      <td>101348.88</td>\n",
       "      <td>1</td>\n",
       "      <td>1</td>\n",
       "      <td>0</td>\n",
       "      <td>0</td>\n",
       "      <td>0</td>\n",
       "      <td>среднего возраста</td>\n",
       "      <td>высокий доход</td>\n",
       "      <td>1-2 объекта</td>\n",
       "      <td>1 продукт</td>\n",
       "    </tr>\n",
       "    <tr>\n",
       "      <th>1</th>\n",
       "      <td>15690047</td>\n",
       "      <td>608</td>\n",
       "      <td>0</td>\n",
       "      <td>41</td>\n",
       "      <td>1</td>\n",
       "      <td>83807.86</td>\n",
       "      <td>1</td>\n",
       "      <td>0</td>\n",
       "      <td>1</td>\n",
       "      <td>112542.58</td>\n",
       "      <td>0</td>\n",
       "      <td>0</td>\n",
       "      <td>1</td>\n",
       "      <td>0</td>\n",
       "      <td>1</td>\n",
       "      <td>среднего возраста</td>\n",
       "      <td>высокий доход</td>\n",
       "      <td>1-2 объекта</td>\n",
       "      <td>1 продукт</td>\n",
       "    </tr>\n",
       "    <tr>\n",
       "      <th>2</th>\n",
       "      <td>15662040</td>\n",
       "      <td>502</td>\n",
       "      <td>0</td>\n",
       "      <td>42</td>\n",
       "      <td>8</td>\n",
       "      <td>159660.80</td>\n",
       "      <td>3</td>\n",
       "      <td>1</td>\n",
       "      <td>0</td>\n",
       "      <td>113931.57</td>\n",
       "      <td>1</td>\n",
       "      <td>1</td>\n",
       "      <td>0</td>\n",
       "      <td>0</td>\n",
       "      <td>1</td>\n",
       "      <td>среднего возраста</td>\n",
       "      <td>высокий доход</td>\n",
       "      <td>более 5 объектов</td>\n",
       "      <td>3 продукта</td>\n",
       "    </tr>\n",
       "    <tr>\n",
       "      <th>3</th>\n",
       "      <td>15744090</td>\n",
       "      <td>699</td>\n",
       "      <td>0</td>\n",
       "      <td>39</td>\n",
       "      <td>1</td>\n",
       "      <td>0.00</td>\n",
       "      <td>2</td>\n",
       "      <td>0</td>\n",
       "      <td>0</td>\n",
       "      <td>93826.63</td>\n",
       "      <td>0</td>\n",
       "      <td>1</td>\n",
       "      <td>0</td>\n",
       "      <td>0</td>\n",
       "      <td>0</td>\n",
       "      <td>среднего возраста</td>\n",
       "      <td>средний доход</td>\n",
       "      <td>1-2 объекта</td>\n",
       "      <td>2 продукта</td>\n",
       "    </tr>\n",
       "    <tr>\n",
       "      <th>4</th>\n",
       "      <td>15780624</td>\n",
       "      <td>850</td>\n",
       "      <td>0</td>\n",
       "      <td>43</td>\n",
       "      <td>2</td>\n",
       "      <td>125510.82</td>\n",
       "      <td>1</td>\n",
       "      <td>1</td>\n",
       "      <td>1</td>\n",
       "      <td>79084.10</td>\n",
       "      <td>0</td>\n",
       "      <td>0</td>\n",
       "      <td>1</td>\n",
       "      <td>0</td>\n",
       "      <td>1</td>\n",
       "      <td>среднего возраста</td>\n",
       "      <td>средний доход</td>\n",
       "      <td>1-2 объекта</td>\n",
       "      <td>1 продукт</td>\n",
       "    </tr>\n",
       "  </tbody>\n",
       "</table>\n",
       "</div>"
      ],
      "text/plain": [
       "    user_id  score  gender  age  objects    balance  products  creditcard  \\\n",
       "0  15677338    619       0   42        2       0.00         1           1   \n",
       "1  15690047    608       0   41        1   83807.86         1           0   \n",
       "2  15662040    502       0   42        8  159660.80         3           1   \n",
       "3  15744090    699       0   39        1       0.00         2           0   \n",
       "4  15780624    850       0   43        2  125510.82         1           1   \n",
       "\n",
       "   loyalty  estimated_salary  churn  Ярославль  Рыбинск  Ростов Великий  \\\n",
       "0        1         101348.88      1          1        0               0   \n",
       "1        1         112542.58      0          0        1               0   \n",
       "2        0         113931.57      1          1        0               0   \n",
       "3        0          93826.63      0          1        0               0   \n",
       "4        1          79084.10      0          0        1               0   \n",
       "\n",
       "   is_account            age_cat      money_cat       objects_cat products_cat  \n",
       "0           0  среднего возраста  высокий доход       1-2 объекта    1 продукт  \n",
       "1           1  среднего возраста  высокий доход       1-2 объекта    1 продукт  \n",
       "2           1  среднего возраста  высокий доход  более 5 объектов   3 продукта  \n",
       "3           0  среднего возраста  средний доход       1-2 объекта   2 продукта  \n",
       "4           1  среднего возраста  средний доход       1-2 объекта    1 продукт  "
      ]
     },
     "execution_count": 44,
     "metadata": {},
     "output_type": "execute_result"
    }
   ],
   "source": [
    "data.head()"
   ]
  },
  {
   "cell_type": "code",
   "execution_count": 45,
   "metadata": {},
   "outputs": [
    {
     "data": {
      "image/png": "[encoded data removed]",
      "text/plain": [
       "<Figure size 1080x720 with 2 Axes>"
      ]
     },
     "metadata": {
      "needs_background": "light"
     },
     "output_type": "display_data"
    }
   ],
   "source": [
    "plt.figure(figsize =(15, 10))\n",
    "sns.heatmap(data.corr(), annot = True, fmt ='0.2f', vmin=-1, vmax=1, center= 0, cmap= 'coolwarm') \n",
    "plt.show()"
   ]
  },
  {
   "cell_type": "markdown",
   "metadata": {},
   "source": [
    "* По матрице корреляций можно сказать, что влияние на отток имеют такие признаки как возраст (слабая корреляция 0.29), активность (очень слабая корреляция 0.16) и пол (очень слабая корреляция 0.11). Так же влияние имеют баланс и наличие действующего счета в банке (оба признака так же очень слабая корреляция 0.12).\n",
    "\n",
    "* Мультиколлинеарные признаки в данном случае это баланс и наличие действующего счета в банке. Это ожидаемо, потому что мы обозначили счета с нулевым балансом как отсутствие действующего счета.\n",
    "\n",
    "* Признаков имеющих нулевую корреляцию с целевой переменной нет, но большая часть почти нулевая (очень слабая, равная 0.01).\n",
    "\n",
    "* Такие признаки как заработная плата, наличие кредитной карты, количество объектов в собственности имеют корреляцию всего 0.01 (или -0.01), что говорит о том, что они почти никак не влияют.\n",
    "\n",
    "* Так же мы видим, что баланс счета довольно сильно коррелирует с количеством продуктов, которыми пользуется клиент.\n",
    "\n",
    "В целом можно сказать, что мы имеем довольно слабые признаки. Нет ни одного признака, который коррелировал бы с целевой переменной выше уровня слабой корреляции, в данном случае это не больше 0.29. Следовательно, у нас нет какого-то очевидного признака, по которому мы могли бы явно выявить склонность клиентов к оттоку."
   ]
  },
  {
   "cell_type": "markdown",
   "metadata": {},
   "source": [
    "## Выведение портрета клиентов, которые склонны и не склонны уходить из банка на основе EDA"
   ]
  },
  {
   "cell_type": "markdown",
   "metadata": {},
   "source": [
    "По результатам проведенного анализа можно выделить следующие признаки клиентов:\n",
    "\n",
    "**1. Признаки клиентов, которые склонны уходить в отток:**\n",
    "\n",
    "* клиенты проживают в Ярославле или Ростове Великом\n",
    "* в отток чаще попадают женщины\n",
    "* клиенты среднего возраста (около 30-50 лет). Так же стоит обратить внимание на клиентов пенсионного возраста, их всего 10% от общего числа клиентов в данной выборке, но в этой категории самый высокий процент оттока - 53% (от общего числа в этой категории).\n",
    "* клиенты имеют более 5 объектов в собственности, таких клиентов больше всего в данной выборке. Стоит обратить внимание на клиентов не имеющих объектов в собственности, тут отточников 23% (от общего числа в этой категории).\n",
    "* неактивные клиенты\n",
    "* клиенты с высоким уровнем дохода (более 100 000 руб.).\n",
    "* клиенты пользующиеся 1, 3 и 4 продуктами (в случае 4 продуктов это 100%-ый отток).\n",
    "\n",
    "**2. Признаки клиентов, которые не склонны уходить в отток:**\n",
    "\n",
    "* клиенты проживающие в Рыбинске\n",
    "* в большей массе это мужчины\n",
    "* клиенты среднего возраста, их большинство в выборке. По категориям самые стабильные молодые клиенты (до 30 лет), их 92,5% лояльных.\n",
    "* имеют более 5 объектов, внутри этой категории так же процент лояльности самый большой - 80%\n",
    "* активные клиенты\n",
    "* с высоким достатком, однако внутри категорий более лояльными являются категории с низким и средним достатком, у них не в оттоке 80% клиентов внутри категорий.\n",
    "* клиенты использующие 2 продукта."
   ]
  },
  {
   "cell_type": "markdown",
   "metadata": {},
   "source": [
    "## Проверка гипотез"
   ]
  },
  {
   "cell_type": "markdown",
   "metadata": {},
   "source": [
    "### Гипотеза о различии дохода между теми клиентами, которые ушли и теми, которые остались"
   ]
  },
  {
   "cell_type": "markdown",
   "metadata": {},
   "source": [
    "Посмотрим на распределение уровня дохода клиентов"
   ]
  },
  {
   "cell_type": "code",
   "execution_count": 46,
   "metadata": {},
   "outputs": [
    {
     "name": "stderr",
     "output_type": "stream",
     "text": [
      "/opt/conda/lib/python3.9/site-packages/seaborn/distributions.py:2557: FutureWarning: `distplot` is a deprecated function and will be removed in a future version. Please adapt your code to use either `displot` (a figure-level function with similar flexibility) or `histplot` (an axes-level function for histograms).\n",
      "  warnings.warn(msg, FutureWarning)\n"
     ]
    },
    {
     "data": {
      "image/png": "[encoded data removed]",
      "text/plain": [
       "<Figure size 1080x720 with 1 Axes>"
      ]
     },
     "metadata": {
      "needs_background": "light"
     },
     "output_type": "display_data"
    }
   ],
   "source": [
    "plt.figure(figsize =(15, 10))\n",
    "sns_plot = sns.distplot(data['estimated_salary'])\n",
    "fig = sns_plot.get_figure()\n",
    "plt.grid()\n",
    "plt.title('Распределение уровня дохода клиентов')\n",
    "plt.show()"
   ]
  },
  {
   "cell_type": "markdown",
   "metadata": {},
   "source": [
    "По графику рспределения можно скачать, что распределение приближенное к нормальному.\n",
    "\n",
    "При проверке гипотез будем использовать критерий Манна-Уитни, т.к. он наиболее мощный критерий для независимых выборок.\n",
    "\n",
    "Сформулируем гипотезы:\n",
    "\n",
    "* **H0**: доход клиентов, которые ушли не превосходит доход, которые остались\n",
    "* **H1**: доход клиентов, которые ушли превосходит доход, которые остались"
   ]
  },
  {
   "cell_type": "code",
   "execution_count": 47,
   "metadata": {},
   "outputs": [
    {
     "data": {
      "text/plain": [
       "'p-значение: '"
      ]
     },
     "metadata": {},
     "output_type": "display_data"
    },
    {
     "data": {
      "text/plain": [
       "0.11352575465076892"
      ]
     },
     "metadata": {},
     "output_type": "display_data"
    },
    {
     "data": {
      "text/plain": [
       "'Не получилось отвергнуть H0: вывод о различии сделать нельзя'"
      ]
     },
     "metadata": {},
     "output_type": "display_data"
    }
   ],
   "source": [
    "alpha = 0.05\n",
    "\n",
    "results = st.mannwhitneyu(data[data['churn']==1]['estimated_salary'], data[data['churn']==0]['estimated_salary'])\n",
    "pvalue = results.pvalue / 2\n",
    "\n",
    "display('p-значение: ', pvalue)\n",
    "\n",
    "if (pvalue < alpha):\n",
    "    display(\"Отвергаем H0: разница статистически значима\")\n",
    "else:\n",
    "    display(\"Не получилось отвергнуть H0: вывод о различии сделать нельзя\")"
   ]
  },
  {
   "cell_type": "code",
   "execution_count": 48,
   "metadata": {},
   "outputs": [
    {
     "data": {
      "text/plain": [
       "'Среднее значение дохода у тех, кто ушел в отток:'"
      ]
     },
     "metadata": {},
     "output_type": "display_data"
    },
    {
     "data": {
      "text/plain": [
       "101465.67753068237"
      ]
     },
     "metadata": {},
     "output_type": "display_data"
    },
    {
     "data": {
      "text/plain": [
       "'Среднее значение дохода у тех, кто не ушел в отток:'"
      ]
     },
     "metadata": {},
     "output_type": "display_data"
    },
    {
     "data": {
      "text/plain": [
       "99738.39177194524"
      ]
     },
     "metadata": {},
     "output_type": "display_data"
    }
   ],
   "source": [
    "display('Среднее значение дохода у тех, кто ушел в отток:', data[data['churn']==1]['estimated_salary'].mean())\n",
    "display('Среднее значение дохода у тех, кто не ушел в отток:', data[data['churn']==0]['estimated_salary'].mean())"
   ]
  },
  {
   "cell_type": "code",
   "execution_count": 49,
   "metadata": {},
   "outputs": [
    {
     "data": {
      "text/plain": [
       "'Медианное значение дохода у тех, кто ушел в отток:'"
      ]
     },
     "metadata": {},
     "output_type": "display_data"
    },
    {
     "data": {
      "text/plain": [
       "102460.84"
      ]
     },
     "metadata": {},
     "output_type": "display_data"
    },
    {
     "data": {
      "text/plain": [
       "'Медианное значение дохода у тех, кто не ушел в отток:'"
      ]
     },
     "metadata": {},
     "output_type": "display_data"
    },
    {
     "data": {
      "text/plain": [
       "99645.04"
      ]
     },
     "metadata": {},
     "output_type": "display_data"
    }
   ],
   "source": [
    "display('Медианное значение дохода у тех, кто ушел в отток:', data[data['churn']==1]['estimated_salary'].median())\n",
    "display('Медианное значение дохода у тех, кто не ушел в отток:', data[data['churn']==0]['estimated_salary'].median())"
   ]
  },
  {
   "cell_type": "markdown",
   "metadata": {},
   "source": [
    "**Вывод**\n",
    "\n",
    "Доход клиентов, которые ушли в отток немного превосходит доход клиентв, которые остались. Но в данном случае мы не можем говорить о статистически-значимой разнице."
   ]
  },
  {
   "cell_type": "markdown",
   "metadata": {},
   "source": [
    "### Гипотеза о различии возраста между теми клиентами, которые ушли и теми, которые остались"
   ]
  },
  {
   "cell_type": "markdown",
   "metadata": {},
   "source": [
    "Посмотрим на распределение возраста клиентов "
   ]
  },
  {
   "cell_type": "code",
   "execution_count": 50,
   "metadata": {},
   "outputs": [
    {
     "name": "stderr",
     "output_type": "stream",
     "text": [
      "/opt/conda/lib/python3.9/site-packages/seaborn/distributions.py:2557: FutureWarning: `distplot` is a deprecated function and will be removed in a future version. Please adapt your code to use either `displot` (a figure-level function with similar flexibility) or `histplot` (an axes-level function for histograms).\n",
      "  warnings.warn(msg, FutureWarning)\n"
     ]
    },
    {
     "data": {
      "image/png": "[encoded data removed]",
      "text/plain": [
       "<Figure size 1080x720 with 1 Axes>"
      ]
     },
     "metadata": {
      "needs_background": "light"
     },
     "output_type": "display_data"
    }
   ],
   "source": [
    "plt.figure(figsize =(15, 10))\n",
    "sns_plot = sns.distplot(data['age'])\n",
    "fig = sns_plot.get_figure()\n",
    "plt.grid()\n",
    "plt.title('Распределение возраста клиентов')\n",
    "plt.show()"
   ]
  },
  {
   "cell_type": "markdown",
   "metadata": {},
   "source": [
    "Распределение больше приближено к нормальному, хоть и есть небольшое смещение влево, что связано с наличием клиентов долгожителей.\n",
    "\n",
    "Сформулируем гипотезы:\n",
    "\n",
    "* **H0**: Возраст клиентов ушедших в отток и оставшихся не различается\n",
    "* **H1**: Возраст клиентов ушедших в отток и оставшихся различается"
   ]
  },
  {
   "cell_type": "code",
   "execution_count": 51,
   "metadata": {},
   "outputs": [
    {
     "data": {
      "text/plain": [
       "'p-значение: '"
      ]
     },
     "metadata": {},
     "output_type": "display_data"
    },
    {
     "data": {
      "text/plain": [
       "1.6052007159685838e-230"
      ]
     },
     "metadata": {},
     "output_type": "display_data"
    },
    {
     "data": {
      "text/plain": [
       "'Отвергаем H0: разница статистически значима'"
      ]
     },
     "metadata": {},
     "output_type": "display_data"
    }
   ],
   "source": [
    "alpha = 0.05\n",
    "\n",
    "results = st.mannwhitneyu(data[data['churn']==1]['age'], data[data['churn']==0]['age'])\n",
    "pvalue = results.pvalue / 2\n",
    "\n",
    "display('p-значение: ', pvalue)\n",
    "\n",
    "if (pvalue < alpha):\n",
    "    display(\"Отвергаем H0: разница статистически значима\")\n",
    "else:\n",
    "    display(\"Не получилось отвергнуть H0: вывод о различии сделать нельзя\")"
   ]
  },
  {
   "cell_type": "markdown",
   "metadata": {},
   "source": [
    "Посмотрим средний и медианный возраст оставшихся"
   ]
  },
  {
   "cell_type": "code",
   "execution_count": 52,
   "metadata": {},
   "outputs": [
    {
     "data": {
      "text/plain": [
       "count    7963.000000\n",
       "mean       37.408389\n",
       "std        10.125363\n",
       "min        18.000000\n",
       "25%        31.000000\n",
       "50%        36.000000\n",
       "75%        41.000000\n",
       "max        92.000000\n",
       "Name: age, dtype: float64"
      ]
     },
     "execution_count": 52,
     "metadata": {},
     "output_type": "execute_result"
    }
   ],
   "source": [
    "data_churn_0 = data.query('churn == 0')\n",
    "data_churn_1 = data.query('churn == 1')\n",
    "data_churn_0['age'].describe()"
   ]
  },
  {
   "cell_type": "markdown",
   "metadata": {},
   "source": [
    "Посмотрим средний и медианный возраст ушедших"
   ]
  },
  {
   "cell_type": "code",
   "execution_count": 53,
   "metadata": {},
   "outputs": [
    {
     "data": {
      "text/plain": [
       "count    2037.000000\n",
       "mean       44.837997\n",
       "std         9.761562\n",
       "min        18.000000\n",
       "25%        38.000000\n",
       "50%        45.000000\n",
       "75%        51.000000\n",
       "max        84.000000\n",
       "Name: age, dtype: float64"
      ]
     },
     "execution_count": 53,
     "metadata": {},
     "output_type": "execute_result"
    }
   ],
   "source": [
    "data_churn_1['age'].describe()"
   ]
  },
  {
   "cell_type": "markdown",
   "metadata": {},
   "source": [
    "**Вывод**\n",
    "\n",
    "Не удалось отвергнуть нулевую гипотезу об отсутствии различий в возрасте тех, кто ушел в отток и кто не ушел. И как мы видим, действительно разница в возрасте составляет около 10 лет."
   ]
  },
  {
   "cell_type": "markdown",
   "metadata": {},
   "source": [
    "## Общие выводы и рекомендации"
   ]
  },
  {
   "cell_type": "markdown",
   "metadata": {},
   "source": [
    "В данной выборке 10 000 уникальных клиентов, живущих в 3 городах. Из них 80% лояльных и 20% ушедших в отток.\n",
    "\n",
    "Большая часть клиентов банка является людьми с высоким уровнем дохода (более 100 000 руб.), среднего возраста (30-55 лет), клиенты имеют 5 и более объектов во владении, со средним уровнем кредитного скоринга, по полу выборка распределена равномерно.\n",
    "По итогам исследования был выведен такой портрет клиентов склонных и не склонных к оттоку:\n",
    "\n",
    "**1. Признаки клиентов, которые склонны уходить в отток:**\n",
    "\n",
    "* клиенты проживают в Ярославле или Ростове Великом\n",
    "* в отток чаще попадают женщины\n",
    "* клиенты среднего возраста (около 30-50 лет). Так же стоит обратить внимание на клиентов пенсионного возраста, их всего 10% от общего числа клиентов в данной выборке, но в этой категории самый высокий процент оттока - 53% (от общего числа в этой категории).\n",
    "* клиенты имеют более 5 объектов в собственности, таких клиентов больше всего в данной выборке. Стоит обратить внимание на клиентов не имеющих объектов в собственности, тут отточников 23% (от общего числа в этой категории).\n",
    "* неактивные клиенты\n",
    "* клиенты с высоким уровнем дохода (более 100 000 руб.).\n",
    "* клиенты пользующиеся 1, 3 и 4 продуктами (в случае 4 продуктов это 100%-ый отток).\n",
    "\n",
    "**2. Признаки клиентов, которые не склонны уходить в отток:**\n",
    "\n",
    "* клиенты проживающие в Рыбинске\n",
    "* в большей массе это мужчины\n",
    "* клиенты среднего возраста, их большинство в выборке. По категориям самые стабильные молодые клиенты (до 30 лет), их 92,5% лояльных.\n",
    "* имеют более 5 объектов, внутри этой категории так же процент лояльности самый большой - 80%\n",
    "* активные клиенты\n",
    "* с высоким достатком, однако внутри категорий более лояльными являются категории с низким и средним достатком, у них не в оттоке 80% клиентов внутри категорий.\n",
    "* клиенты использующие 2 продукта.\n",
    "\n",
    "Стоит обратить внимание на то, что использование **1, 3 и 4 продуктов** - самый сильный признак у клиентов склонных к оттоку. Так же важен **пол** (женщины больше склонны к оттоку). Есть статистически значимая разница в возрасте у лояльных и склонных к оттоку клиентов, разница составляет около 10 лет (чем старше клиент, тем больше вероятность ухода в отток). Большинство клиентов склонных к оттоку проживает в городе **Ростове Великом**.\n",
    "\n",
    "**Рекомендации**\n",
    "\n",
    "В ходе анализа были выявлены аномалии:\n",
    "\n",
    "* у трети клиентов в выборке отсутствующие значения в столбце с балансом счета. Это может быть результатом того, что система так распознает тех, у кого нет дебетовой карты. Такие случаи выявлены только в двух городах -Ярославле и Рыбинске. Стоит изучить этот момент более детально\n",
    "* при использовании 4 продуктов у клиентов 100% отток, это явление так же стоит изучить более детально по данным других клиентов и принять какие-то меры по изучению продуктов, чтобы разработать стратегию по работе с новыми клиентами\n",
    "* для работы с клиентами наиболее склонными к оттоку внутри категорий можно разработать специальные предложения. Пример: для людей пенсионного возраста ввести льготы на продукты и услуги, так как они наиболее склонны к оттоку(в рамках своей категории)"
   ]
  },
  {
   "cell_type": "code",
   "execution_count": null,
   "metadata": {},
   "outputs": [],
   "source": []
  }
 ],
 "metadata": {
  "ExecuteTimeLog": [
   {
    "duration": 421,
    "start_time": "2022-06-14T11:32:40.174Z"
   },
   {
    "duration": 333,
    "start_time": "2022-06-14T11:36:05.237Z"
   },
   {
    "duration": 21,
    "start_time": "2022-06-14T11:36:15.402Z"
   },
   {
    "duration": 19,
    "start_time": "2022-06-14T11:36:22.156Z"
   },
   {
    "duration": 16,
    "start_time": "2022-06-14T11:36:32.798Z"
   },
   {
    "duration": 39,
    "start_time": "2022-06-14T11:39:48.990Z"
   },
   {
    "duration": 51,
    "start_time": "2022-06-14T16:02:21.075Z"
   },
   {
    "duration": 375,
    "start_time": "2022-06-14T16:02:31.211Z"
   },
   {
    "duration": 179,
    "start_time": "2022-06-14T16:02:31.588Z"
   },
   {
    "duration": 32,
    "start_time": "2022-06-14T16:02:31.769Z"
   },
   {
    "duration": 20,
    "start_time": "2022-06-14T16:02:31.803Z"
   },
   {
    "duration": 64,
    "start_time": "2022-06-14T16:02:31.826Z"
   },
   {
    "duration": 14,
    "start_time": "2022-06-14T16:04:09.638Z"
   },
   {
    "duration": 12,
    "start_time": "2022-06-14T16:14:46.128Z"
   },
   {
    "duration": 13,
    "start_time": "2022-06-14T16:16:39.993Z"
   },
   {
    "duration": 39,
    "start_time": "2022-06-14T16:17:38.025Z"
   },
   {
    "duration": 39,
    "start_time": "2022-06-14T16:20:45.485Z"
   },
   {
    "duration": 3,
    "start_time": "2022-06-14T16:44:55.512Z"
   },
   {
    "duration": 6,
    "start_time": "2022-06-14T16:46:21.510Z"
   },
   {
    "duration": 8,
    "start_time": "2022-06-14T17:02:52.528Z"
   },
   {
    "duration": 45,
    "start_time": "2022-06-14T17:02:59.682Z"
   },
   {
    "duration": 11,
    "start_time": "2022-06-14T17:11:40.175Z"
   },
   {
    "duration": 7,
    "start_time": "2022-06-14T17:12:47.308Z"
   },
   {
    "duration": 4,
    "start_time": "2022-06-14T17:17:29.371Z"
   },
   {
    "duration": 7,
    "start_time": "2022-06-14T17:17:58.509Z"
   },
   {
    "duration": 13,
    "start_time": "2022-06-14T17:18:11.021Z"
   },
   {
    "duration": 51,
    "start_time": "2022-06-14T17:19:44.674Z"
   },
   {
    "duration": 23,
    "start_time": "2022-06-14T17:20:06.152Z"
   },
   {
    "duration": 16,
    "start_time": "2022-06-14T17:21:00.839Z"
   },
   {
    "duration": 15,
    "start_time": "2022-06-14T17:21:05.028Z"
   },
   {
    "duration": 72,
    "start_time": "2022-06-14T17:21:42.126Z"
   },
   {
    "duration": 21,
    "start_time": "2022-06-14T17:21:53.871Z"
   },
   {
    "duration": 8,
    "start_time": "2022-06-14T17:22:07.402Z"
   },
   {
    "duration": 7,
    "start_time": "2022-06-14T17:24:25.889Z"
   },
   {
    "duration": 6,
    "start_time": "2022-06-14T17:25:33.939Z"
   },
   {
    "duration": 16,
    "start_time": "2022-06-14T17:26:10.353Z"
   },
   {
    "duration": 12,
    "start_time": "2022-06-14T17:31:17.506Z"
   },
   {
    "duration": 9,
    "start_time": "2022-06-14T17:31:21.781Z"
   },
   {
    "duration": 12,
    "start_time": "2022-06-14T17:31:27.674Z"
   },
   {
    "duration": 7,
    "start_time": "2022-06-14T17:31:42.252Z"
   },
   {
    "duration": 13,
    "start_time": "2022-06-14T17:31:49.329Z"
   },
   {
    "duration": 9,
    "start_time": "2022-06-14T17:33:44.130Z"
   },
   {
    "duration": 14,
    "start_time": "2022-06-14T17:33:45.672Z"
   },
   {
    "duration": 13,
    "start_time": "2022-06-14T17:33:57.258Z"
   },
   {
    "duration": 14,
    "start_time": "2022-06-14T17:34:11.527Z"
   },
   {
    "duration": 2,
    "start_time": "2022-06-14T17:34:41.422Z"
   },
   {
    "duration": 12,
    "start_time": "2022-06-14T17:34:42.499Z"
   },
   {
    "duration": 3,
    "start_time": "2022-06-14T17:34:55.060Z"
   },
   {
    "duration": 12,
    "start_time": "2022-06-14T17:34:55.683Z"
   },
   {
    "duration": 4,
    "start_time": "2022-06-14T17:36:22.058Z"
   },
   {
    "duration": 17,
    "start_time": "2022-06-14T17:36:22.811Z"
   },
   {
    "duration": 2,
    "start_time": "2022-06-14T17:36:35.156Z"
   },
   {
    "duration": 12,
    "start_time": "2022-06-14T17:36:35.735Z"
   },
   {
    "duration": 3,
    "start_time": "2022-06-14T17:36:41.745Z"
   },
   {
    "duration": 14,
    "start_time": "2022-06-14T17:36:42.260Z"
   },
   {
    "duration": 9,
    "start_time": "2022-06-14T17:49:47.336Z"
   },
   {
    "duration": 9,
    "start_time": "2022-06-14T17:51:37.288Z"
   },
   {
    "duration": 8,
    "start_time": "2022-06-14T17:52:37.836Z"
   },
   {
    "duration": 993,
    "start_time": "2022-06-14T17:52:55.785Z"
   },
   {
    "duration": 61,
    "start_time": "2022-06-14T17:53:00.430Z"
   },
   {
    "duration": 609,
    "start_time": "2022-06-14T17:53:46.067Z"
   },
   {
    "duration": 658,
    "start_time": "2022-06-14T17:54:11.355Z"
   },
   {
    "duration": 3,
    "start_time": "2022-06-14T17:58:10.549Z"
   },
   {
    "duration": 12,
    "start_time": "2022-06-14T17:58:14.778Z"
   },
   {
    "duration": 5,
    "start_time": "2022-06-14T17:58:15.298Z"
   },
   {
    "duration": 1753,
    "start_time": "2022-06-14T17:58:26.179Z"
   },
   {
    "duration": 4,
    "start_time": "2022-06-14T17:58:57.436Z"
   },
   {
    "duration": 564,
    "start_time": "2022-06-14T17:58:58.173Z"
   },
   {
    "duration": 22,
    "start_time": "2022-06-14T18:13:06.818Z"
   },
   {
    "duration": 8,
    "start_time": "2022-06-14T18:13:32.607Z"
   },
   {
    "duration": 4,
    "start_time": "2022-06-14T18:13:34.407Z"
   },
   {
    "duration": 1729,
    "start_time": "2022-06-14T18:13:35.686Z"
   },
   {
    "duration": 9,
    "start_time": "2022-06-14T18:17:49.005Z"
   },
   {
    "duration": 3,
    "start_time": "2022-06-14T18:17:52.343Z"
   },
   {
    "duration": 10,
    "start_time": "2022-06-14T18:17:53.098Z"
   },
   {
    "duration": 73,
    "start_time": "2022-06-14T18:18:25.330Z"
   },
   {
    "duration": 173,
    "start_time": "2022-06-14T18:18:33.570Z"
   },
   {
    "duration": 4,
    "start_time": "2022-06-14T18:20:06.997Z"
   },
   {
    "duration": 3,
    "start_time": "2022-06-14T18:20:07.424Z"
   },
   {
    "duration": 3,
    "start_time": "2022-06-14T18:20:07.860Z"
   },
   {
    "duration": 236,
    "start_time": "2022-06-14T18:20:08.448Z"
   },
   {
    "duration": 207,
    "start_time": "2022-06-14T18:20:18.940Z"
   },
   {
    "duration": 229,
    "start_time": "2022-06-14T18:20:25.005Z"
   },
   {
    "duration": 9,
    "start_time": "2022-06-14T18:21:03.953Z"
   },
   {
    "duration": 5,
    "start_time": "2022-06-14T18:21:04.654Z"
   },
   {
    "duration": 2370,
    "start_time": "2022-06-14T18:21:05.818Z"
   },
   {
    "duration": 10,
    "start_time": "2022-06-14T18:23:07.240Z"
   },
   {
    "duration": 4,
    "start_time": "2022-06-14T18:23:08.034Z"
   },
   {
    "duration": 2077,
    "start_time": "2022-06-14T18:23:08.858Z"
   },
   {
    "duration": 34,
    "start_time": "2022-06-14T18:31:04.118Z"
   },
   {
    "duration": 56,
    "start_time": "2022-06-14T18:31:10.733Z"
   },
   {
    "duration": 2444,
    "start_time": "2022-06-14T18:43:06.445Z"
   },
   {
    "duration": 62,
    "start_time": "2022-06-14T18:43:13.454Z"
   },
   {
    "duration": 1604,
    "start_time": "2022-06-14T18:59:10.922Z"
   },
   {
    "duration": 1288,
    "start_time": "2022-06-15T05:08:48.800Z"
   },
   {
    "duration": 78,
    "start_time": "2022-06-15T05:08:50.091Z"
   },
   {
    "duration": 22,
    "start_time": "2022-06-15T05:08:50.171Z"
   },
   {
    "duration": 13,
    "start_time": "2022-06-15T05:08:50.195Z"
   },
   {
    "duration": 17,
    "start_time": "2022-06-15T05:08:50.210Z"
   },
   {
    "duration": 23,
    "start_time": "2022-06-15T05:08:50.229Z"
   },
   {
    "duration": 48,
    "start_time": "2022-06-15T05:08:50.254Z"
   },
   {
    "duration": 14,
    "start_time": "2022-06-15T05:08:50.303Z"
   },
   {
    "duration": 10,
    "start_time": "2022-06-15T05:08:50.319Z"
   },
   {
    "duration": 8,
    "start_time": "2022-06-15T05:08:50.351Z"
   },
   {
    "duration": 24,
    "start_time": "2022-06-15T05:08:50.361Z"
   },
   {
    "duration": 20,
    "start_time": "2022-06-15T05:08:50.386Z"
   },
   {
    "duration": 7,
    "start_time": "2022-06-15T05:08:50.408Z"
   },
   {
    "duration": 32,
    "start_time": "2022-06-15T05:08:50.417Z"
   },
   {
    "duration": 52,
    "start_time": "2022-06-15T05:08:50.451Z"
   },
   {
    "duration": 10,
    "start_time": "2022-06-15T05:08:50.505Z"
   },
   {
    "duration": 231,
    "start_time": "2022-06-15T05:08:50.517Z"
   },
   {
    "duration": 10,
    "start_time": "2022-06-15T05:08:50.752Z"
   },
   {
    "duration": 20,
    "start_time": "2022-06-15T05:08:50.763Z"
   },
   {
    "duration": 2158,
    "start_time": "2022-06-15T05:08:50.785Z"
   },
   {
    "duration": 2261,
    "start_time": "2022-06-15T05:08:52.945Z"
   },
   {
    "duration": 1548,
    "start_time": "2022-06-15T05:08:55.208Z"
   },
   {
    "duration": 3,
    "start_time": "2022-06-15T05:12:25.484Z"
   },
   {
    "duration": 211,
    "start_time": "2022-06-15T05:12:26.547Z"
   },
   {
    "duration": 215,
    "start_time": "2022-06-15T05:13:22.875Z"
   },
   {
    "duration": 53,
    "start_time": "2022-06-15T05:14:30.865Z"
   },
   {
    "duration": 3,
    "start_time": "2022-06-15T05:15:38.277Z"
   },
   {
    "duration": 64,
    "start_time": "2022-06-15T05:15:38.283Z"
   },
   {
    "duration": 18,
    "start_time": "2022-06-15T05:15:38.349Z"
   },
   {
    "duration": 19,
    "start_time": "2022-06-15T05:15:38.369Z"
   },
   {
    "duration": 17,
    "start_time": "2022-06-15T05:15:38.391Z"
   },
   {
    "duration": 21,
    "start_time": "2022-06-15T05:15:38.410Z"
   },
   {
    "duration": 19,
    "start_time": "2022-06-15T05:15:38.433Z"
   },
   {
    "duration": 237,
    "start_time": "2022-06-15T05:15:38.455Z"
   },
   {
    "duration": 50,
    "start_time": "2022-06-15T05:15:38.694Z"
   },
   {
    "duration": 14,
    "start_time": "2022-06-15T05:15:38.752Z"
   },
   {
    "duration": 23,
    "start_time": "2022-06-15T05:15:38.769Z"
   },
   {
    "duration": 12,
    "start_time": "2022-06-15T05:15:38.794Z"
   },
   {
    "duration": 26,
    "start_time": "2022-06-15T05:15:38.808Z"
   },
   {
    "duration": 45,
    "start_time": "2022-06-15T05:15:38.836Z"
   },
   {
    "duration": 539,
    "start_time": "2022-06-15T05:15:38.883Z"
   },
   {
    "duration": 0,
    "start_time": "2022-06-15T05:15:39.424Z"
   },
   {
    "duration": 0,
    "start_time": "2022-06-15T05:15:39.427Z"
   },
   {
    "duration": 0,
    "start_time": "2022-06-15T05:15:39.428Z"
   },
   {
    "duration": 0,
    "start_time": "2022-06-15T05:15:39.430Z"
   },
   {
    "duration": 0,
    "start_time": "2022-06-15T05:15:39.432Z"
   },
   {
    "duration": 2,
    "start_time": "2022-06-15T05:15:59.447Z"
   },
   {
    "duration": 45,
    "start_time": "2022-06-15T05:15:59.452Z"
   },
   {
    "duration": 16,
    "start_time": "2022-06-15T05:15:59.499Z"
   },
   {
    "duration": 14,
    "start_time": "2022-06-15T05:15:59.516Z"
   },
   {
    "duration": 12,
    "start_time": "2022-06-15T05:15:59.532Z"
   },
   {
    "duration": 10,
    "start_time": "2022-06-15T05:15:59.546Z"
   },
   {
    "duration": 4,
    "start_time": "2022-06-15T05:15:59.557Z"
   },
   {
    "duration": 235,
    "start_time": "2022-06-15T05:15:59.564Z"
   },
   {
    "duration": 67,
    "start_time": "2022-06-15T05:15:59.801Z"
   },
   {
    "duration": 12,
    "start_time": "2022-06-15T05:15:59.870Z"
   },
   {
    "duration": 9,
    "start_time": "2022-06-15T05:15:59.885Z"
   },
   {
    "duration": 7,
    "start_time": "2022-06-15T05:15:59.895Z"
   },
   {
    "duration": 15,
    "start_time": "2022-06-15T05:15:59.903Z"
   },
   {
    "duration": 44,
    "start_time": "2022-06-15T05:15:59.919Z"
   },
   {
    "duration": 20,
    "start_time": "2022-06-15T05:15:59.965Z"
   },
   {
    "duration": 0,
    "start_time": "2022-06-15T05:15:59.987Z"
   },
   {
    "duration": 0,
    "start_time": "2022-06-15T05:15:59.988Z"
   },
   {
    "duration": 0,
    "start_time": "2022-06-15T05:15:59.990Z"
   },
   {
    "duration": 1,
    "start_time": "2022-06-15T05:15:59.991Z"
   },
   {
    "duration": 13,
    "start_time": "2022-06-15T05:16:15.021Z"
   },
   {
    "duration": 5,
    "start_time": "2022-06-15T05:16:17.843Z"
   },
   {
    "duration": 1999,
    "start_time": "2022-06-15T05:16:19.987Z"
   },
   {
    "duration": 2309,
    "start_time": "2022-06-15T05:16:25.519Z"
   },
   {
    "duration": 15,
    "start_time": "2022-06-15T05:34:11.476Z"
   },
   {
    "duration": 13,
    "start_time": "2022-06-15T05:34:20.286Z"
   },
   {
    "duration": 46,
    "start_time": "2022-06-15T05:59:08.906Z"
   },
   {
    "duration": 98,
    "start_time": "2022-06-15T06:21:19.703Z"
   },
   {
    "duration": 93,
    "start_time": "2022-06-15T06:21:35.409Z"
   },
   {
    "duration": 100,
    "start_time": "2022-06-15T06:22:53.119Z"
   },
   {
    "duration": 90,
    "start_time": "2022-06-15T06:23:11.411Z"
   },
   {
    "duration": 101,
    "start_time": "2022-06-15T06:23:32.203Z"
   },
   {
    "duration": 7,
    "start_time": "2022-06-15T06:24:16.905Z"
   },
   {
    "duration": 9,
    "start_time": "2022-06-15T06:25:18.492Z"
   },
   {
    "duration": 9,
    "start_time": "2022-06-15T06:25:22.020Z"
   },
   {
    "duration": 133,
    "start_time": "2022-06-15T06:25:33.836Z"
   },
   {
    "duration": 131,
    "start_time": "2022-06-15T06:25:52.116Z"
   },
   {
    "duration": 228,
    "start_time": "2022-06-15T06:25:59.991Z"
   },
   {
    "duration": 136,
    "start_time": "2022-06-15T06:26:08.207Z"
   },
   {
    "duration": 133,
    "start_time": "2022-06-15T06:27:36.238Z"
   },
   {
    "duration": 142,
    "start_time": "2022-06-15T06:27:43.913Z"
   },
   {
    "duration": 138,
    "start_time": "2022-06-15T06:28:07.751Z"
   },
   {
    "duration": 5,
    "start_time": "2022-06-15T06:34:45.920Z"
   },
   {
    "duration": 6,
    "start_time": "2022-06-15T06:40:31.578Z"
   },
   {
    "duration": 9,
    "start_time": "2022-06-15T06:41:15.005Z"
   },
   {
    "duration": 6,
    "start_time": "2022-06-15T06:41:32.256Z"
   },
   {
    "duration": 8,
    "start_time": "2022-06-15T06:42:53.346Z"
   },
   {
    "duration": 11,
    "start_time": "2022-06-15T06:44:05.352Z"
   },
   {
    "duration": 14,
    "start_time": "2022-06-15T06:45:00.761Z"
   },
   {
    "duration": 101,
    "start_time": "2022-06-15T07:18:19.695Z"
   },
   {
    "duration": 90,
    "start_time": "2022-06-15T07:18:23.219Z"
   },
   {
    "duration": 11,
    "start_time": "2022-06-15T07:19:15.147Z"
   },
   {
    "duration": 93,
    "start_time": "2022-06-15T07:24:20.779Z"
   },
   {
    "duration": 135,
    "start_time": "2022-06-15T07:26:36.565Z"
   },
   {
    "duration": 11,
    "start_time": "2022-06-15T07:29:02.736Z"
   },
   {
    "duration": 13,
    "start_time": "2022-06-15T07:30:52.301Z"
   },
   {
    "duration": 12,
    "start_time": "2022-06-15T07:31:45.391Z"
   },
   {
    "duration": 52,
    "start_time": "2022-06-15T07:34:09.162Z"
   },
   {
    "duration": 9,
    "start_time": "2022-06-15T07:34:29.234Z"
   },
   {
    "duration": 6,
    "start_time": "2022-06-15T07:35:03.179Z"
   },
   {
    "duration": 48,
    "start_time": "2022-06-15T07:35:13.722Z"
   },
   {
    "duration": 126,
    "start_time": "2022-06-15T07:38:22.106Z"
   },
   {
    "duration": 126,
    "start_time": "2022-06-15T07:38:47.645Z"
   },
   {
    "duration": 132,
    "start_time": "2022-06-15T07:40:06.418Z"
   },
   {
    "duration": 13,
    "start_time": "2022-06-15T07:41:50.146Z"
   },
   {
    "duration": 129,
    "start_time": "2022-06-15T07:42:52.900Z"
   },
   {
    "duration": 12,
    "start_time": "2022-06-15T07:43:07.903Z"
   },
   {
    "duration": 11,
    "start_time": "2022-06-15T07:43:48.248Z"
   },
   {
    "duration": 15,
    "start_time": "2022-06-15T07:45:12.694Z"
   },
   {
    "duration": 1182,
    "start_time": "2022-06-15T09:17:23.112Z"
   },
   {
    "duration": 131,
    "start_time": "2022-06-15T09:17:24.296Z"
   },
   {
    "duration": 18,
    "start_time": "2022-06-15T09:17:24.428Z"
   },
   {
    "duration": 11,
    "start_time": "2022-06-15T09:17:24.448Z"
   },
   {
    "duration": 10,
    "start_time": "2022-06-15T09:17:24.460Z"
   },
   {
    "duration": 9,
    "start_time": "2022-06-15T09:17:24.472Z"
   },
   {
    "duration": 4,
    "start_time": "2022-06-15T09:17:24.482Z"
   },
   {
    "duration": 192,
    "start_time": "2022-06-15T09:17:24.487Z"
   },
   {
    "duration": 45,
    "start_time": "2022-06-15T09:17:24.680Z"
   },
   {
    "duration": 10,
    "start_time": "2022-06-15T09:17:24.727Z"
   },
   {
    "duration": 8,
    "start_time": "2022-06-15T09:17:24.739Z"
   },
   {
    "duration": 11,
    "start_time": "2022-06-15T09:17:24.749Z"
   },
   {
    "duration": 40,
    "start_time": "2022-06-15T09:17:24.761Z"
   },
   {
    "duration": 17,
    "start_time": "2022-06-15T09:17:24.802Z"
   },
   {
    "duration": 45,
    "start_time": "2022-06-15T09:17:24.820Z"
   },
   {
    "duration": 7,
    "start_time": "2022-06-15T09:17:24.867Z"
   },
   {
    "duration": 19,
    "start_time": "2022-06-15T09:17:24.875Z"
   },
   {
    "duration": 1752,
    "start_time": "2022-06-15T09:17:24.896Z"
   },
   {
    "duration": 2006,
    "start_time": "2022-06-15T09:17:26.650Z"
   },
   {
    "duration": 91,
    "start_time": "2022-06-15T09:17:28.657Z"
   },
   {
    "duration": 134,
    "start_time": "2022-06-15T09:17:28.750Z"
   },
   {
    "duration": 15,
    "start_time": "2022-06-15T09:17:28.885Z"
   },
   {
    "duration": 10,
    "start_time": "2022-06-15T09:17:28.901Z"
   },
   {
    "duration": 9,
    "start_time": "2022-06-15T09:17:28.912Z"
   },
   {
    "duration": 102,
    "start_time": "2022-06-15T09:17:28.923Z"
   },
   {
    "duration": 121,
    "start_time": "2022-06-15T09:17:29.027Z"
   },
   {
    "duration": 11,
    "start_time": "2022-06-15T09:17:29.150Z"
   },
   {
    "duration": 24,
    "start_time": "2022-06-15T09:17:29.164Z"
   },
   {
    "duration": 18,
    "start_time": "2022-06-15T09:17:29.189Z"
   },
   {
    "duration": 107,
    "start_time": "2022-06-15T09:17:29.208Z"
   },
   {
    "duration": 126,
    "start_time": "2022-06-15T09:17:29.317Z"
   },
   {
    "duration": 10,
    "start_time": "2022-06-15T09:17:29.444Z"
   },
   {
    "duration": 11,
    "start_time": "2022-06-15T09:17:29.456Z"
   },
   {
    "duration": 28,
    "start_time": "2022-06-15T09:17:29.468Z"
   },
   {
    "duration": 8,
    "start_time": "2022-06-15T09:17:29.498Z"
   },
   {
    "duration": 1441,
    "start_time": "2022-06-15T09:17:29.508Z"
   },
   {
    "duration": 100,
    "start_time": "2022-06-15T09:20:20.529Z"
   },
   {
    "duration": 119,
    "start_time": "2022-06-15T09:20:25.215Z"
   },
   {
    "duration": 97,
    "start_time": "2022-06-15T09:20:36.785Z"
   },
   {
    "duration": 120,
    "start_time": "2022-06-15T09:20:40.183Z"
   },
   {
    "duration": 10,
    "start_time": "2022-06-15T09:21:45.313Z"
   },
   {
    "duration": 10,
    "start_time": "2022-06-15T09:23:07.110Z"
   },
   {
    "duration": 106,
    "start_time": "2022-06-15T09:31:24.990Z"
   },
   {
    "duration": 128,
    "start_time": "2022-06-15T09:31:29.541Z"
   },
   {
    "duration": 13,
    "start_time": "2022-06-15T09:31:37.710Z"
   },
   {
    "duration": 137,
    "start_time": "2022-06-15T09:32:06.079Z"
   },
   {
    "duration": 103,
    "start_time": "2022-06-15T09:32:19.292Z"
   },
   {
    "duration": 137,
    "start_time": "2022-06-15T09:32:22.561Z"
   },
   {
    "duration": 1112,
    "start_time": "2022-06-15T09:35:52.483Z"
   },
   {
    "duration": 40,
    "start_time": "2022-06-15T09:35:53.597Z"
   },
   {
    "duration": 17,
    "start_time": "2022-06-15T09:35:53.638Z"
   },
   {
    "duration": 10,
    "start_time": "2022-06-15T09:35:53.657Z"
   },
   {
    "duration": 11,
    "start_time": "2022-06-15T09:35:53.668Z"
   },
   {
    "duration": 13,
    "start_time": "2022-06-15T09:35:53.680Z"
   },
   {
    "duration": 3,
    "start_time": "2022-06-15T09:35:53.695Z"
   },
   {
    "duration": 220,
    "start_time": "2022-06-15T09:35:53.699Z"
   },
   {
    "duration": 42,
    "start_time": "2022-06-15T09:35:53.921Z"
   },
   {
    "duration": 29,
    "start_time": "2022-06-15T09:35:53.966Z"
   },
   {
    "duration": 9,
    "start_time": "2022-06-15T09:35:53.997Z"
   },
   {
    "duration": 6,
    "start_time": "2022-06-15T09:35:54.008Z"
   },
   {
    "duration": 14,
    "start_time": "2022-06-15T09:35:54.015Z"
   },
   {
    "duration": 17,
    "start_time": "2022-06-15T09:35:54.031Z"
   },
   {
    "duration": 72,
    "start_time": "2022-06-15T09:35:54.050Z"
   },
   {
    "duration": 8,
    "start_time": "2022-06-15T09:35:54.123Z"
   },
   {
    "duration": 4,
    "start_time": "2022-06-15T09:35:54.132Z"
   },
   {
    "duration": 1845,
    "start_time": "2022-06-15T09:35:54.137Z"
   },
   {
    "duration": 1990,
    "start_time": "2022-06-15T09:35:55.984Z"
   },
   {
    "duration": 169,
    "start_time": "2022-06-15T09:35:57.976Z"
   },
   {
    "duration": 136,
    "start_time": "2022-06-15T09:35:58.147Z"
   },
   {
    "duration": 17,
    "start_time": "2022-06-15T09:35:58.284Z"
   },
   {
    "duration": 42,
    "start_time": "2022-06-15T09:35:58.303Z"
   },
   {
    "duration": 34,
    "start_time": "2022-06-15T09:35:58.347Z"
   },
   {
    "duration": 29,
    "start_time": "2022-06-15T09:35:58.383Z"
   },
   {
    "duration": 139,
    "start_time": "2022-06-15T09:35:58.414Z"
   },
   {
    "duration": 132,
    "start_time": "2022-06-15T09:35:58.555Z"
   },
   {
    "duration": 13,
    "start_time": "2022-06-15T09:35:58.693Z"
   },
   {
    "duration": 15,
    "start_time": "2022-06-15T09:35:58.707Z"
   },
   {
    "duration": 14,
    "start_time": "2022-06-15T09:35:58.724Z"
   },
   {
    "duration": 128,
    "start_time": "2022-06-15T09:35:58.740Z"
   },
   {
    "duration": 131,
    "start_time": "2022-06-15T09:35:58.870Z"
   },
   {
    "duration": 13,
    "start_time": "2022-06-15T09:35:59.003Z"
   },
   {
    "duration": 20,
    "start_time": "2022-06-15T09:35:59.018Z"
   },
   {
    "duration": 14,
    "start_time": "2022-06-15T09:35:59.040Z"
   },
   {
    "duration": 32,
    "start_time": "2022-06-15T09:35:59.056Z"
   },
   {
    "duration": 1466,
    "start_time": "2022-06-15T09:35:59.090Z"
   },
   {
    "duration": 88,
    "start_time": "2022-06-15T09:36:22.165Z"
   },
   {
    "duration": 131,
    "start_time": "2022-06-15T09:36:24.326Z"
   },
   {
    "duration": 10,
    "start_time": "2022-06-15T09:36:32.502Z"
   },
   {
    "duration": 10,
    "start_time": "2022-06-15T09:36:36.193Z"
   },
   {
    "duration": 7,
    "start_time": "2022-06-15T09:38:36.743Z"
   },
   {
    "duration": 95,
    "start_time": "2022-06-15T09:41:08.724Z"
   },
   {
    "duration": 121,
    "start_time": "2022-06-15T09:41:11.288Z"
   },
   {
    "duration": 99,
    "start_time": "2022-06-15T09:41:19.186Z"
   },
   {
    "duration": 128,
    "start_time": "2022-06-15T09:41:22.128Z"
   },
   {
    "duration": 13,
    "start_time": "2022-06-15T09:42:24.491Z"
   },
   {
    "duration": 11,
    "start_time": "2022-06-15T09:42:29.256Z"
   },
   {
    "duration": 11,
    "start_time": "2022-06-15T09:42:31.716Z"
   },
   {
    "duration": 12,
    "start_time": "2022-06-15T09:42:33.696Z"
   },
   {
    "duration": 11,
    "start_time": "2022-06-15T09:42:35.336Z"
   },
   {
    "duration": 101,
    "start_time": "2022-06-15T09:42:52.898Z"
   },
   {
    "duration": 139,
    "start_time": "2022-06-15T09:42:55.803Z"
   },
   {
    "duration": 15,
    "start_time": "2022-06-15T09:42:57.640Z"
   },
   {
    "duration": 13,
    "start_time": "2022-06-15T09:42:59.210Z"
   },
   {
    "duration": 14,
    "start_time": "2022-06-15T09:43:00.624Z"
   },
   {
    "duration": 134,
    "start_time": "2022-06-15T09:46:52.685Z"
   },
   {
    "duration": 80,
    "start_time": "2022-06-15T09:48:39.798Z"
   },
   {
    "duration": 135,
    "start_time": "2022-06-15T09:49:57.749Z"
   },
   {
    "duration": 14,
    "start_time": "2022-06-15T09:51:31.860Z"
   },
   {
    "duration": 13,
    "start_time": "2022-06-15T09:52:25.289Z"
   },
   {
    "duration": 14,
    "start_time": "2022-06-15T09:52:38.223Z"
   },
   {
    "duration": 13,
    "start_time": "2022-06-15T09:52:40.505Z"
   },
   {
    "duration": 12,
    "start_time": "2022-06-15T09:52:42.496Z"
   },
   {
    "duration": 15,
    "start_time": "2022-06-15T10:25:53.136Z"
   },
   {
    "duration": 12,
    "start_time": "2022-06-15T10:26:47.948Z"
   },
   {
    "duration": 7,
    "start_time": "2022-06-15T10:27:35.287Z"
   },
   {
    "duration": 14,
    "start_time": "2022-06-15T10:27:59.529Z"
   },
   {
    "duration": 4,
    "start_time": "2022-06-15T10:28:11.116Z"
   },
   {
    "duration": 46,
    "start_time": "2022-06-15T10:28:11.123Z"
   },
   {
    "duration": 14,
    "start_time": "2022-06-15T10:28:11.171Z"
   },
   {
    "duration": 35,
    "start_time": "2022-06-15T10:28:11.186Z"
   },
   {
    "duration": 23,
    "start_time": "2022-06-15T10:28:11.223Z"
   },
   {
    "duration": 15,
    "start_time": "2022-06-15T10:28:11.248Z"
   },
   {
    "duration": 16,
    "start_time": "2022-06-15T10:28:11.264Z"
   },
   {
    "duration": 187,
    "start_time": "2022-06-15T10:28:11.281Z"
   },
   {
    "duration": 25,
    "start_time": "2022-06-15T10:28:11.470Z"
   },
   {
    "duration": 6,
    "start_time": "2022-06-15T10:28:11.497Z"
   },
   {
    "duration": 36,
    "start_time": "2022-06-15T10:28:11.505Z"
   },
   {
    "duration": 49,
    "start_time": "2022-06-15T10:28:11.542Z"
   },
   {
    "duration": 11,
    "start_time": "2022-06-15T10:28:11.592Z"
   },
   {
    "duration": 27,
    "start_time": "2022-06-15T10:28:11.604Z"
   },
   {
    "duration": 48,
    "start_time": "2022-06-15T10:28:11.633Z"
   },
   {
    "duration": 9,
    "start_time": "2022-06-15T10:28:11.683Z"
   },
   {
    "duration": 16,
    "start_time": "2022-06-15T10:28:11.693Z"
   },
   {
    "duration": 1796,
    "start_time": "2022-06-15T10:28:11.710Z"
   },
   {
    "duration": 1982,
    "start_time": "2022-06-15T10:28:13.508Z"
   },
   {
    "duration": 119,
    "start_time": "2022-06-15T10:28:15.494Z"
   },
   {
    "duration": 157,
    "start_time": "2022-06-15T10:28:15.615Z"
   },
   {
    "duration": 11,
    "start_time": "2022-06-15T10:28:15.773Z"
   },
   {
    "duration": 11,
    "start_time": "2022-06-15T10:28:15.795Z"
   },
   {
    "duration": 9,
    "start_time": "2022-06-15T10:28:15.808Z"
   },
   {
    "duration": 11,
    "start_time": "2022-06-15T10:28:15.819Z"
   },
   {
    "duration": 111,
    "start_time": "2022-06-15T10:28:15.832Z"
   },
   {
    "duration": 135,
    "start_time": "2022-06-15T10:28:15.944Z"
   },
   {
    "duration": 15,
    "start_time": "2022-06-15T10:28:16.081Z"
   },
   {
    "duration": 10,
    "start_time": "2022-06-15T10:28:16.100Z"
   },
   {
    "duration": 10,
    "start_time": "2022-06-15T10:28:16.112Z"
   },
   {
    "duration": 156,
    "start_time": "2022-06-15T10:28:16.125Z"
   },
   {
    "duration": 131,
    "start_time": "2022-06-15T10:28:16.283Z"
   },
   {
    "duration": 12,
    "start_time": "2022-06-15T10:28:16.416Z"
   },
   {
    "duration": 15,
    "start_time": "2022-06-15T10:28:16.429Z"
   },
   {
    "duration": 13,
    "start_time": "2022-06-15T10:28:16.446Z"
   },
   {
    "duration": 39,
    "start_time": "2022-06-15T10:28:16.460Z"
   },
   {
    "duration": 94,
    "start_time": "2022-06-15T10:28:16.500Z"
   },
   {
    "duration": 217,
    "start_time": "2022-06-15T10:28:16.596Z"
   },
   {
    "duration": 11,
    "start_time": "2022-06-15T10:28:16.814Z"
   },
   {
    "duration": 10,
    "start_time": "2022-06-15T10:28:16.827Z"
   },
   {
    "duration": 12,
    "start_time": "2022-06-15T10:28:16.839Z"
   },
   {
    "duration": 43,
    "start_time": "2022-06-15T10:28:16.853Z"
   },
   {
    "duration": 1436,
    "start_time": "2022-06-15T10:28:16.899Z"
   },
   {
    "duration": 577,
    "start_time": "2022-06-15T10:34:59.978Z"
   },
   {
    "duration": 3,
    "start_time": "2022-06-15T10:35:19.919Z"
   },
   {
    "duration": 36,
    "start_time": "2022-06-15T10:35:19.926Z"
   },
   {
    "duration": 16,
    "start_time": "2022-06-15T10:35:19.964Z"
   },
   {
    "duration": 18,
    "start_time": "2022-06-15T10:35:19.981Z"
   },
   {
    "duration": 11,
    "start_time": "2022-06-15T10:35:20.001Z"
   },
   {
    "duration": 8,
    "start_time": "2022-06-15T10:35:20.014Z"
   },
   {
    "duration": 10,
    "start_time": "2022-06-15T10:35:20.024Z"
   },
   {
    "duration": 220,
    "start_time": "2022-06-15T10:35:20.036Z"
   },
   {
    "duration": 7,
    "start_time": "2022-06-15T10:35:20.258Z"
   },
   {
    "duration": 30,
    "start_time": "2022-06-15T10:35:20.267Z"
   },
   {
    "duration": 11,
    "start_time": "2022-06-15T10:35:20.299Z"
   },
   {
    "duration": 51,
    "start_time": "2022-06-15T10:35:20.311Z"
   },
   {
    "duration": 31,
    "start_time": "2022-06-15T10:35:20.364Z"
   },
   {
    "duration": 12,
    "start_time": "2022-06-15T10:35:20.397Z"
   },
   {
    "duration": 40,
    "start_time": "2022-06-15T10:35:20.411Z"
   },
   {
    "duration": 19,
    "start_time": "2022-06-15T10:35:20.453Z"
   },
   {
    "duration": 0,
    "start_time": "2022-06-15T10:35:20.494Z"
   },
   {
    "duration": 0,
    "start_time": "2022-06-15T10:35:20.495Z"
   },
   {
    "duration": 0,
    "start_time": "2022-06-15T10:35:20.496Z"
   },
   {
    "duration": 0,
    "start_time": "2022-06-15T10:35:20.497Z"
   },
   {
    "duration": 0,
    "start_time": "2022-06-15T10:35:20.499Z"
   },
   {
    "duration": 0,
    "start_time": "2022-06-15T10:35:20.500Z"
   },
   {
    "duration": 0,
    "start_time": "2022-06-15T10:35:20.501Z"
   },
   {
    "duration": 0,
    "start_time": "2022-06-15T10:35:20.502Z"
   },
   {
    "duration": 0,
    "start_time": "2022-06-15T10:35:20.503Z"
   },
   {
    "duration": 0,
    "start_time": "2022-06-15T10:35:20.504Z"
   },
   {
    "duration": 0,
    "start_time": "2022-06-15T10:35:20.505Z"
   },
   {
    "duration": 0,
    "start_time": "2022-06-15T10:35:20.506Z"
   },
   {
    "duration": 0,
    "start_time": "2022-06-15T10:35:20.507Z"
   },
   {
    "duration": 0,
    "start_time": "2022-06-15T10:35:20.508Z"
   },
   {
    "duration": 0,
    "start_time": "2022-06-15T10:35:20.509Z"
   },
   {
    "duration": 0,
    "start_time": "2022-06-15T10:35:20.509Z"
   },
   {
    "duration": 0,
    "start_time": "2022-06-15T10:35:20.510Z"
   },
   {
    "duration": 0,
    "start_time": "2022-06-15T10:35:20.511Z"
   },
   {
    "duration": 0,
    "start_time": "2022-06-15T10:35:20.512Z"
   },
   {
    "duration": 0,
    "start_time": "2022-06-15T10:35:20.513Z"
   },
   {
    "duration": 0,
    "start_time": "2022-06-15T10:35:20.514Z"
   },
   {
    "duration": 0,
    "start_time": "2022-06-15T10:35:20.515Z"
   },
   {
    "duration": 0,
    "start_time": "2022-06-15T10:35:20.517Z"
   },
   {
    "duration": 0,
    "start_time": "2022-06-15T10:35:20.517Z"
   },
   {
    "duration": 0,
    "start_time": "2022-06-15T10:35:20.518Z"
   },
   {
    "duration": 0,
    "start_time": "2022-06-15T10:35:20.520Z"
   },
   {
    "duration": 0,
    "start_time": "2022-06-15T10:35:20.521Z"
   },
   {
    "duration": 8,
    "start_time": "2022-06-15T10:35:36.795Z"
   },
   {
    "duration": 3,
    "start_time": "2022-06-15T10:35:41.544Z"
   },
   {
    "duration": 42,
    "start_time": "2022-06-15T10:35:41.552Z"
   },
   {
    "duration": 14,
    "start_time": "2022-06-15T10:35:41.595Z"
   },
   {
    "duration": 11,
    "start_time": "2022-06-15T10:35:41.611Z"
   },
   {
    "duration": 14,
    "start_time": "2022-06-15T10:35:41.624Z"
   },
   {
    "duration": 9,
    "start_time": "2022-06-15T10:35:41.639Z"
   },
   {
    "duration": 3,
    "start_time": "2022-06-15T10:35:41.650Z"
   },
   {
    "duration": 249,
    "start_time": "2022-06-15T10:35:41.655Z"
   },
   {
    "duration": 8,
    "start_time": "2022-06-15T10:35:41.907Z"
   },
   {
    "duration": 6,
    "start_time": "2022-06-15T10:35:41.917Z"
   },
   {
    "duration": 11,
    "start_time": "2022-06-15T10:35:41.924Z"
   },
   {
    "duration": 71,
    "start_time": "2022-06-15T10:35:41.937Z"
   },
   {
    "duration": 12,
    "start_time": "2022-06-15T10:35:42.010Z"
   },
   {
    "duration": 12,
    "start_time": "2022-06-15T10:35:42.024Z"
   },
   {
    "duration": 69,
    "start_time": "2022-06-15T10:35:42.038Z"
   },
   {
    "duration": 7,
    "start_time": "2022-06-15T10:35:42.109Z"
   },
   {
    "duration": 5,
    "start_time": "2022-06-15T10:35:42.118Z"
   },
   {
    "duration": 1896,
    "start_time": "2022-06-15T10:35:42.124Z"
   },
   {
    "duration": 1996,
    "start_time": "2022-06-15T10:35:44.022Z"
   },
   {
    "duration": 96,
    "start_time": "2022-06-15T10:35:46.022Z"
   },
   {
    "duration": 136,
    "start_time": "2022-06-15T10:35:46.120Z"
   },
   {
    "duration": 12,
    "start_time": "2022-06-15T10:35:46.258Z"
   },
   {
    "duration": 26,
    "start_time": "2022-06-15T10:35:46.272Z"
   },
   {
    "duration": 11,
    "start_time": "2022-06-15T10:35:46.299Z"
   },
   {
    "duration": 9,
    "start_time": "2022-06-15T10:35:46.311Z"
   },
   {
    "duration": 107,
    "start_time": "2022-06-15T10:35:46.322Z"
   },
   {
    "duration": 146,
    "start_time": "2022-06-15T10:35:46.431Z"
   },
   {
    "duration": 17,
    "start_time": "2022-06-15T10:35:46.578Z"
   },
   {
    "duration": 10,
    "start_time": "2022-06-15T10:35:46.597Z"
   },
   {
    "duration": 9,
    "start_time": "2022-06-15T10:35:46.608Z"
   },
   {
    "duration": 140,
    "start_time": "2022-06-15T10:35:46.619Z"
   },
   {
    "duration": 129,
    "start_time": "2022-06-15T10:35:46.761Z"
   },
   {
    "duration": 11,
    "start_time": "2022-06-15T10:35:46.895Z"
   },
   {
    "duration": 10,
    "start_time": "2022-06-15T10:35:46.908Z"
   },
   {
    "duration": 10,
    "start_time": "2022-06-15T10:35:46.921Z"
   },
   {
    "duration": 11,
    "start_time": "2022-06-15T10:35:46.932Z"
   },
   {
    "duration": 107,
    "start_time": "2022-06-15T10:35:46.945Z"
   },
   {
    "duration": 127,
    "start_time": "2022-06-15T10:35:47.054Z"
   },
   {
    "duration": 13,
    "start_time": "2022-06-15T10:35:47.183Z"
   },
   {
    "duration": 11,
    "start_time": "2022-06-15T10:35:47.198Z"
   },
   {
    "duration": 9,
    "start_time": "2022-06-15T10:35:47.210Z"
   },
   {
    "duration": 11,
    "start_time": "2022-06-15T10:35:47.221Z"
   },
   {
    "duration": 1342,
    "start_time": "2022-06-15T10:35:47.234Z"
   },
   {
    "duration": 17,
    "start_time": "2022-06-15T11:54:00.234Z"
   },
   {
    "duration": 19,
    "start_time": "2022-06-15T11:54:55.875Z"
   },
   {
    "duration": 1011,
    "start_time": "2022-06-15T11:55:13.385Z"
   },
   {
    "duration": 936,
    "start_time": "2022-06-15T11:55:52.610Z"
   },
   {
    "duration": 981,
    "start_time": "2022-06-15T11:56:41.753Z"
   },
   {
    "duration": 1060,
    "start_time": "2022-06-15T11:57:47.505Z"
   },
   {
    "duration": 9,
    "start_time": "2022-06-15T11:58:08.217Z"
   },
   {
    "duration": 11,
    "start_time": "2022-06-15T11:58:21.048Z"
   },
   {
    "duration": 510,
    "start_time": "2022-06-15T11:58:36.913Z"
   },
   {
    "duration": 2,
    "start_time": "2022-06-15T11:58:52.461Z"
   },
   {
    "duration": 36,
    "start_time": "2022-06-15T11:58:52.468Z"
   },
   {
    "duration": 13,
    "start_time": "2022-06-15T11:58:52.506Z"
   },
   {
    "duration": 19,
    "start_time": "2022-06-15T11:58:52.521Z"
   },
   {
    "duration": 11,
    "start_time": "2022-06-15T11:58:52.543Z"
   },
   {
    "duration": 8,
    "start_time": "2022-06-15T11:58:52.556Z"
   },
   {
    "duration": 4,
    "start_time": "2022-06-15T11:58:52.565Z"
   },
   {
    "duration": 214,
    "start_time": "2022-06-15T11:58:52.570Z"
   },
   {
    "duration": 9,
    "start_time": "2022-06-15T11:58:52.795Z"
   },
   {
    "duration": 7,
    "start_time": "2022-06-15T11:58:52.805Z"
   },
   {
    "duration": 11,
    "start_time": "2022-06-15T11:58:52.813Z"
   },
   {
    "duration": 70,
    "start_time": "2022-06-15T11:58:52.825Z"
   },
   {
    "duration": 11,
    "start_time": "2022-06-15T11:58:52.897Z"
   },
   {
    "duration": 12,
    "start_time": "2022-06-15T11:58:52.909Z"
   },
   {
    "duration": 41,
    "start_time": "2022-06-15T11:58:52.922Z"
   },
   {
    "duration": 31,
    "start_time": "2022-06-15T11:58:52.964Z"
   },
   {
    "duration": 3,
    "start_time": "2022-06-15T11:58:52.997Z"
   },
   {
    "duration": 2007,
    "start_time": "2022-06-15T11:58:53.001Z"
   },
   {
    "duration": 2104,
    "start_time": "2022-06-15T11:58:55.009Z"
   },
   {
    "duration": 97,
    "start_time": "2022-06-15T11:58:57.116Z"
   },
   {
    "duration": 150,
    "start_time": "2022-06-15T11:58:57.214Z"
   },
   {
    "duration": 12,
    "start_time": "2022-06-15T11:58:57.366Z"
   },
   {
    "duration": 21,
    "start_time": "2022-06-15T11:58:57.380Z"
   },
   {
    "duration": 16,
    "start_time": "2022-06-15T11:58:57.404Z"
   },
   {
    "duration": 12,
    "start_time": "2022-06-15T11:58:57.422Z"
   },
   {
    "duration": 28,
    "start_time": "2022-06-15T11:58:57.436Z"
   },
   {
    "duration": 0,
    "start_time": "2022-06-15T11:58:57.466Z"
   },
   {
    "duration": 0,
    "start_time": "2022-06-15T11:58:57.468Z"
   },
   {
    "duration": 0,
    "start_time": "2022-06-15T11:58:57.469Z"
   },
   {
    "duration": 0,
    "start_time": "2022-06-15T11:58:57.470Z"
   },
   {
    "duration": 0,
    "start_time": "2022-06-15T11:58:57.494Z"
   },
   {
    "duration": 0,
    "start_time": "2022-06-15T11:58:57.496Z"
   },
   {
    "duration": 0,
    "start_time": "2022-06-15T11:58:57.497Z"
   },
   {
    "duration": 0,
    "start_time": "2022-06-15T11:58:57.498Z"
   },
   {
    "duration": 0,
    "start_time": "2022-06-15T11:58:57.500Z"
   },
   {
    "duration": 0,
    "start_time": "2022-06-15T11:58:57.501Z"
   },
   {
    "duration": 0,
    "start_time": "2022-06-15T11:58:57.502Z"
   },
   {
    "duration": 0,
    "start_time": "2022-06-15T11:58:57.504Z"
   },
   {
    "duration": 0,
    "start_time": "2022-06-15T11:58:57.505Z"
   },
   {
    "duration": 0,
    "start_time": "2022-06-15T11:58:57.506Z"
   },
   {
    "duration": 0,
    "start_time": "2022-06-15T11:58:57.508Z"
   },
   {
    "duration": 0,
    "start_time": "2022-06-15T11:58:57.509Z"
   },
   {
    "duration": 0,
    "start_time": "2022-06-15T11:58:57.511Z"
   },
   {
    "duration": 0,
    "start_time": "2022-06-15T11:58:57.513Z"
   },
   {
    "duration": 16,
    "start_time": "2022-06-15T11:59:19.367Z"
   },
   {
    "duration": 288,
    "start_time": "2022-06-15T12:00:05.483Z"
   },
   {
    "duration": 317,
    "start_time": "2022-06-15T12:00:46.554Z"
   },
   {
    "duration": 321,
    "start_time": "2022-06-15T12:00:57.098Z"
   },
   {
    "duration": 364,
    "start_time": "2022-06-15T12:01:11.220Z"
   },
   {
    "duration": 266,
    "start_time": "2022-06-15T12:01:49.334Z"
   },
   {
    "duration": 255,
    "start_time": "2022-06-15T12:05:32.919Z"
   },
   {
    "duration": 1241,
    "start_time": "2022-06-15T12:06:40.941Z"
   },
   {
    "duration": 1294,
    "start_time": "2022-06-15T12:07:07.873Z"
   },
   {
    "duration": 1473,
    "start_time": "2022-06-15T12:08:21.990Z"
   },
   {
    "duration": 1260,
    "start_time": "2022-06-15T12:09:05.291Z"
   },
   {
    "duration": 5,
    "start_time": "2022-06-15T12:12:40.519Z"
   },
   {
    "duration": 1045,
    "start_time": "2022-06-15T12:16:51.938Z"
   },
   {
    "duration": 37,
    "start_time": "2022-06-15T12:16:52.985Z"
   },
   {
    "duration": 20,
    "start_time": "2022-06-15T12:16:53.024Z"
   },
   {
    "duration": 11,
    "start_time": "2022-06-15T12:16:53.045Z"
   },
   {
    "duration": 10,
    "start_time": "2022-06-15T12:16:53.058Z"
   },
   {
    "duration": 8,
    "start_time": "2022-06-15T12:16:53.070Z"
   },
   {
    "duration": 4,
    "start_time": "2022-06-15T12:16:53.079Z"
   },
   {
    "duration": 186,
    "start_time": "2022-06-15T12:16:53.093Z"
   },
   {
    "duration": 17,
    "start_time": "2022-06-15T12:16:53.281Z"
   },
   {
    "duration": 5,
    "start_time": "2022-06-15T12:16:53.301Z"
   },
   {
    "duration": 13,
    "start_time": "2022-06-15T12:16:53.307Z"
   },
   {
    "duration": 8,
    "start_time": "2022-06-15T12:16:53.321Z"
   },
   {
    "duration": 65,
    "start_time": "2022-06-15T12:16:53.330Z"
   },
   {
    "duration": 12,
    "start_time": "2022-06-15T12:16:53.397Z"
   },
   {
    "duration": 13,
    "start_time": "2022-06-15T12:16:53.410Z"
   },
   {
    "duration": 41,
    "start_time": "2022-06-15T12:16:53.424Z"
   },
   {
    "duration": 32,
    "start_time": "2022-06-15T12:16:53.466Z"
   },
   {
    "duration": 3,
    "start_time": "2022-06-15T12:16:53.499Z"
   },
   {
    "duration": 2144,
    "start_time": "2022-06-15T12:16:53.504Z"
   },
   {
    "duration": 2205,
    "start_time": "2022-06-15T12:16:55.649Z"
   },
   {
    "duration": 102,
    "start_time": "2022-06-15T12:16:57.856Z"
   },
   {
    "duration": 143,
    "start_time": "2022-06-15T12:16:57.959Z"
   },
   {
    "duration": 11,
    "start_time": "2022-06-15T12:16:58.104Z"
   },
   {
    "duration": 10,
    "start_time": "2022-06-15T12:16:58.117Z"
   },
   {
    "duration": 9,
    "start_time": "2022-06-15T12:16:58.129Z"
   },
   {
    "duration": 10,
    "start_time": "2022-06-15T12:16:58.140Z"
   },
   {
    "duration": 113,
    "start_time": "2022-06-15T12:16:58.152Z"
   },
   {
    "duration": 122,
    "start_time": "2022-06-15T12:16:58.268Z"
   },
   {
    "duration": 11,
    "start_time": "2022-06-15T12:16:58.391Z"
   },
   {
    "duration": 12,
    "start_time": "2022-06-15T12:16:58.403Z"
   },
   {
    "duration": 9,
    "start_time": "2022-06-15T12:16:58.417Z"
   },
   {
    "duration": 208,
    "start_time": "2022-06-15T12:16:58.427Z"
   },
   {
    "duration": 124,
    "start_time": "2022-06-15T12:16:58.636Z"
   },
   {
    "duration": 11,
    "start_time": "2022-06-15T12:16:58.762Z"
   },
   {
    "duration": 23,
    "start_time": "2022-06-15T12:16:58.775Z"
   },
   {
    "duration": 9,
    "start_time": "2022-06-15T12:16:58.800Z"
   },
   {
    "duration": 14,
    "start_time": "2022-06-15T12:16:58.811Z"
   },
   {
    "duration": 102,
    "start_time": "2022-06-15T12:16:58.826Z"
   },
   {
    "duration": 126,
    "start_time": "2022-06-15T12:16:58.930Z"
   },
   {
    "duration": 10,
    "start_time": "2022-06-15T12:16:59.058Z"
   },
   {
    "duration": 25,
    "start_time": "2022-06-15T12:16:59.070Z"
   },
   {
    "duration": 15,
    "start_time": "2022-06-15T12:16:59.096Z"
   },
   {
    "duration": 30,
    "start_time": "2022-06-15T12:16:59.113Z"
   },
   {
    "duration": 1412,
    "start_time": "2022-06-15T12:16:59.144Z"
   },
   {
    "duration": 1402,
    "start_time": "2022-06-15T12:17:00.558Z"
   },
   {
    "duration": 1432,
    "start_time": "2022-06-15T12:18:09.360Z"
   },
   {
    "duration": 1349,
    "start_time": "2022-06-15T12:18:42.350Z"
   },
   {
    "duration": 12,
    "start_time": "2022-06-15T12:19:43.394Z"
   },
   {
    "duration": 46,
    "start_time": "2022-06-15T16:33:17.167Z"
   },
   {
    "duration": 1278,
    "start_time": "2022-06-15T16:33:43.380Z"
   },
   {
    "duration": 77,
    "start_time": "2022-06-15T16:33:44.660Z"
   },
   {
    "duration": 21,
    "start_time": "2022-06-15T16:33:44.739Z"
   },
   {
    "duration": 20,
    "start_time": "2022-06-15T16:33:44.762Z"
   },
   {
    "duration": 32,
    "start_time": "2022-06-15T16:33:44.784Z"
   },
   {
    "duration": 42,
    "start_time": "2022-06-15T16:33:44.818Z"
   },
   {
    "duration": 15,
    "start_time": "2022-06-15T16:33:44.862Z"
   },
   {
    "duration": 228,
    "start_time": "2022-06-15T16:33:44.879Z"
   },
   {
    "duration": 10,
    "start_time": "2022-06-15T16:33:45.109Z"
   },
   {
    "duration": 7,
    "start_time": "2022-06-15T16:33:45.121Z"
   },
   {
    "duration": 33,
    "start_time": "2022-06-15T16:33:45.129Z"
   },
   {
    "duration": 7,
    "start_time": "2022-06-15T16:33:45.163Z"
   },
   {
    "duration": 57,
    "start_time": "2022-06-15T16:33:45.171Z"
   },
   {
    "duration": 34,
    "start_time": "2022-06-15T16:33:45.230Z"
   },
   {
    "duration": 19,
    "start_time": "2022-06-15T16:33:45.268Z"
   },
   {
    "duration": 80,
    "start_time": "2022-06-15T16:33:45.289Z"
   },
   {
    "duration": 9,
    "start_time": "2022-06-15T16:33:45.370Z"
   },
   {
    "duration": 7,
    "start_time": "2022-06-15T16:33:45.381Z"
   },
   {
    "duration": 2363,
    "start_time": "2022-06-15T16:33:45.389Z"
   },
   {
    "duration": 2485,
    "start_time": "2022-06-15T16:33:47.753Z"
   },
   {
    "duration": 105,
    "start_time": "2022-06-15T16:33:50.240Z"
   },
   {
    "duration": 165,
    "start_time": "2022-06-15T16:33:50.347Z"
   },
   {
    "duration": 13,
    "start_time": "2022-06-15T16:33:50.514Z"
   },
   {
    "duration": 25,
    "start_time": "2022-06-15T16:33:50.529Z"
   },
   {
    "duration": 14,
    "start_time": "2022-06-15T16:33:50.556Z"
   },
   {
    "duration": 20,
    "start_time": "2022-06-15T16:33:50.572Z"
   },
   {
    "duration": 101,
    "start_time": "2022-06-15T16:33:50.594Z"
   },
   {
    "duration": 144,
    "start_time": "2022-06-15T16:33:50.699Z"
   },
   {
    "duration": 13,
    "start_time": "2022-06-15T16:33:50.845Z"
   },
   {
    "duration": 18,
    "start_time": "2022-06-15T16:33:50.859Z"
   },
   {
    "duration": 22,
    "start_time": "2022-06-15T16:33:50.879Z"
   },
   {
    "duration": 214,
    "start_time": "2022-06-15T16:33:50.903Z"
   },
   {
    "duration": 148,
    "start_time": "2022-06-15T16:33:51.119Z"
   },
   {
    "duration": 12,
    "start_time": "2022-06-15T16:33:51.269Z"
   },
   {
    "duration": 19,
    "start_time": "2022-06-15T16:33:51.284Z"
   },
   {
    "duration": 19,
    "start_time": "2022-06-15T16:33:51.305Z"
   },
   {
    "duration": 10,
    "start_time": "2022-06-15T16:33:51.326Z"
   },
   {
    "duration": 102,
    "start_time": "2022-06-15T16:33:51.337Z"
   },
   {
    "duration": 151,
    "start_time": "2022-06-15T16:33:51.440Z"
   },
   {
    "duration": 11,
    "start_time": "2022-06-15T16:33:51.593Z"
   },
   {
    "duration": 63,
    "start_time": "2022-06-15T16:33:51.606Z"
   },
   {
    "duration": 16,
    "start_time": "2022-06-15T16:33:51.671Z"
   },
   {
    "duration": 37,
    "start_time": "2022-06-15T16:33:51.689Z"
   },
   {
    "duration": 30,
    "start_time": "2022-06-15T16:33:51.727Z"
   },
   {
    "duration": 1662,
    "start_time": "2022-06-15T16:33:51.758Z"
   },
   {
    "duration": 177,
    "start_time": "2022-06-15T16:33:53.421Z"
   },
   {
    "duration": 233,
    "start_time": "2022-06-15T16:34:09.455Z"
   },
   {
    "duration": 239,
    "start_time": "2022-06-15T16:34:21.966Z"
   },
   {
    "duration": 241,
    "start_time": "2022-06-15T16:34:39.487Z"
   },
   {
    "duration": 65,
    "start_time": "2022-06-15T16:40:34.047Z"
   },
   {
    "duration": 3,
    "start_time": "2022-06-15T16:41:08.882Z"
   },
   {
    "duration": 17,
    "start_time": "2022-06-15T16:41:14.249Z"
   },
   {
    "duration": 13,
    "start_time": "2022-06-15T16:44:03.860Z"
   },
   {
    "duration": 11,
    "start_time": "2022-06-15T16:44:53.518Z"
   },
   {
    "duration": 305,
    "start_time": "2022-06-15T16:47:33.057Z"
   },
   {
    "duration": 15,
    "start_time": "2022-06-15T16:50:35.993Z"
   },
   {
    "duration": 19,
    "start_time": "2022-06-15T16:52:42.099Z"
   },
   {
    "duration": 16,
    "start_time": "2022-06-15T16:52:48.272Z"
   },
   {
    "duration": 16,
    "start_time": "2022-06-15T16:52:55.375Z"
   },
   {
    "duration": 17,
    "start_time": "2022-06-15T16:53:03.789Z"
   },
   {
    "duration": 17,
    "start_time": "2022-06-15T16:53:09.776Z"
   },
   {
    "duration": 4,
    "start_time": "2022-06-15T16:54:24.465Z"
   },
   {
    "duration": 9,
    "start_time": "2022-06-15T16:54:41.593Z"
   },
   {
    "duration": 10,
    "start_time": "2022-06-15T16:54:50.660Z"
   },
   {
    "duration": 11,
    "start_time": "2022-06-15T16:55:05.183Z"
   },
   {
    "duration": 9,
    "start_time": "2022-06-15T16:55:12.079Z"
   },
   {
    "duration": 17,
    "start_time": "2022-06-15T16:57:02.546Z"
   },
   {
    "duration": 9,
    "start_time": "2022-06-15T16:57:28.692Z"
   },
   {
    "duration": 1352,
    "start_time": "2022-06-16T09:19:09.092Z"
   },
   {
    "duration": 77,
    "start_time": "2022-06-16T09:19:10.446Z"
   },
   {
    "duration": 18,
    "start_time": "2022-06-16T09:19:10.525Z"
   },
   {
    "duration": 13,
    "start_time": "2022-06-16T09:19:10.545Z"
   },
   {
    "duration": 16,
    "start_time": "2022-06-16T09:19:10.560Z"
   },
   {
    "duration": 13,
    "start_time": "2022-06-16T09:19:10.577Z"
   },
   {
    "duration": 7,
    "start_time": "2022-06-16T09:19:10.591Z"
   },
   {
    "duration": 218,
    "start_time": "2022-06-16T09:19:10.599Z"
   },
   {
    "duration": 12,
    "start_time": "2022-06-16T09:19:10.824Z"
   },
   {
    "duration": 15,
    "start_time": "2022-06-16T09:19:10.837Z"
   },
   {
    "duration": 13,
    "start_time": "2022-06-16T09:19:10.854Z"
   },
   {
    "duration": 8,
    "start_time": "2022-06-16T09:19:10.869Z"
   },
   {
    "duration": 64,
    "start_time": "2022-06-16T09:19:10.879Z"
   },
   {
    "duration": 13,
    "start_time": "2022-06-16T09:19:10.946Z"
   },
   {
    "duration": 14,
    "start_time": "2022-06-16T09:19:10.960Z"
   },
   {
    "duration": 70,
    "start_time": "2022-06-16T09:19:10.975Z"
   },
   {
    "duration": 8,
    "start_time": "2022-06-16T09:19:11.047Z"
   },
   {
    "duration": 6,
    "start_time": "2022-06-16T09:19:11.056Z"
   },
   {
    "duration": 2605,
    "start_time": "2022-06-16T09:19:11.064Z"
   },
   {
    "duration": 2557,
    "start_time": "2022-06-16T09:19:13.671Z"
   },
   {
    "duration": 95,
    "start_time": "2022-06-16T09:19:16.229Z"
   },
   {
    "duration": 146,
    "start_time": "2022-06-16T09:19:16.326Z"
   },
   {
    "duration": 11,
    "start_time": "2022-06-16T09:19:16.474Z"
   },
   {
    "duration": 12,
    "start_time": "2022-06-16T09:19:16.487Z"
   },
   {
    "duration": 31,
    "start_time": "2022-06-16T09:19:16.500Z"
   },
   {
    "duration": 12,
    "start_time": "2022-06-16T09:19:16.533Z"
   },
   {
    "duration": 105,
    "start_time": "2022-06-16T09:19:16.546Z"
   },
   {
    "duration": 129,
    "start_time": "2022-06-16T09:19:16.652Z"
   },
   {
    "duration": 10,
    "start_time": "2022-06-16T09:19:16.783Z"
   },
   {
    "duration": 11,
    "start_time": "2022-06-16T09:19:16.795Z"
   },
   {
    "duration": 10,
    "start_time": "2022-06-16T09:19:16.823Z"
   },
   {
    "duration": 219,
    "start_time": "2022-06-16T09:19:16.834Z"
   },
   {
    "duration": 141,
    "start_time": "2022-06-16T09:19:17.054Z"
   },
   {
    "duration": 10,
    "start_time": "2022-06-16T09:19:17.197Z"
   },
   {
    "duration": 21,
    "start_time": "2022-06-16T09:19:17.208Z"
   },
   {
    "duration": 9,
    "start_time": "2022-06-16T09:19:17.231Z"
   },
   {
    "duration": 9,
    "start_time": "2022-06-16T09:19:17.241Z"
   },
   {
    "duration": 109,
    "start_time": "2022-06-16T09:19:17.251Z"
   },
   {
    "duration": 140,
    "start_time": "2022-06-16T09:19:17.362Z"
   },
   {
    "duration": 20,
    "start_time": "2022-06-16T09:19:17.504Z"
   },
   {
    "duration": 12,
    "start_time": "2022-06-16T09:19:17.529Z"
   },
   {
    "duration": 11,
    "start_time": "2022-06-16T09:19:17.543Z"
   },
   {
    "duration": 10,
    "start_time": "2022-06-16T09:19:17.556Z"
   },
   {
    "duration": 23,
    "start_time": "2022-06-16T09:19:17.568Z"
   },
   {
    "duration": 1687,
    "start_time": "2022-06-16T09:19:17.592Z"
   },
   {
    "duration": 244,
    "start_time": "2022-06-16T09:19:19.282Z"
   },
   {
    "duration": 16,
    "start_time": "2022-06-16T09:19:19.527Z"
   },
   {
    "duration": 10,
    "start_time": "2022-06-16T09:19:19.545Z"
   },
   {
    "duration": 13,
    "start_time": "2022-06-16T09:19:19.557Z"
   },
   {
    "duration": 291,
    "start_time": "2022-06-16T09:19:19.572Z"
   },
   {
    "duration": 17,
    "start_time": "2022-06-16T09:19:19.865Z"
   },
   {
    "duration": 13,
    "start_time": "2022-06-16T09:19:19.884Z"
   },
   {
    "duration": 33,
    "start_time": "2022-06-16T09:19:19.898Z"
   },
   {
    "duration": 1404,
    "start_time": "2022-06-17T09:17:30.306Z"
   },
   {
    "duration": 38,
    "start_time": "2022-06-17T09:17:31.712Z"
   },
   {
    "duration": 16,
    "start_time": "2022-06-17T09:17:31.752Z"
   },
   {
    "duration": 13,
    "start_time": "2022-06-17T09:17:31.833Z"
   },
   {
    "duration": 4,
    "start_time": "2022-06-17T09:18:17.146Z"
   },
   {
    "duration": 48,
    "start_time": "2022-06-17T09:18:43.269Z"
   },
   {
    "duration": 42,
    "start_time": "2022-06-17T09:20:31.091Z"
   },
   {
    "duration": 46,
    "start_time": "2022-06-17T09:20:54.234Z"
   },
   {
    "duration": 43,
    "start_time": "2022-06-17T09:21:15.183Z"
   },
   {
    "duration": 1260,
    "start_time": "2022-06-20T07:11:39.156Z"
   },
   {
    "duration": 75,
    "start_time": "2022-06-20T07:11:41.310Z"
   },
   {
    "duration": 19,
    "start_time": "2022-06-20T07:11:43.545Z"
   },
   {
    "duration": 14,
    "start_time": "2022-06-20T07:11:46.200Z"
   },
   {
    "duration": 98,
    "start_time": "2022-06-20T07:22:25.580Z"
   },
   {
    "duration": 15,
    "start_time": "2022-06-20T07:22:31.766Z"
   },
   {
    "duration": 12,
    "start_time": "2022-06-20T07:22:44.276Z"
   },
   {
    "duration": 9,
    "start_time": "2022-06-20T07:23:27.307Z"
   },
   {
    "duration": 15,
    "start_time": "2022-06-20T07:23:42.770Z"
   },
   {
    "duration": 12,
    "start_time": "2022-06-20T07:34:15.049Z"
   },
   {
    "duration": 12,
    "start_time": "2022-06-20T07:36:52.290Z"
   },
   {
    "duration": 12,
    "start_time": "2022-06-20T07:37:54.872Z"
   },
   {
    "duration": 11,
    "start_time": "2022-06-20T07:39:42.471Z"
   },
   {
    "duration": 12,
    "start_time": "2022-06-20T07:40:16.787Z"
   },
   {
    "duration": 45,
    "start_time": "2022-06-20T09:32:44.255Z"
   },
   {
    "duration": 1301,
    "start_time": "2022-06-20T09:32:50.807Z"
   },
   {
    "duration": 78,
    "start_time": "2022-06-20T09:32:52.625Z"
   },
   {
    "duration": 18,
    "start_time": "2022-06-20T09:32:55.209Z"
   },
   {
    "duration": 13,
    "start_time": "2022-06-20T09:32:58.912Z"
   },
   {
    "duration": 13,
    "start_time": "2022-06-20T09:33:01.350Z"
   },
   {
    "duration": 16,
    "start_time": "2022-06-20T09:33:03.018Z"
   },
   {
    "duration": 14,
    "start_time": "2022-06-20T09:33:17.723Z"
   },
   {
    "duration": 82,
    "start_time": "2022-06-20T09:49:40.213Z"
   },
   {
    "duration": 5,
    "start_time": "2022-06-20T09:49:53.845Z"
   },
   {
    "duration": 6,
    "start_time": "2022-06-20T09:50:22.183Z"
   },
   {
    "duration": 4,
    "start_time": "2022-06-20T09:55:14.015Z"
   },
   {
    "duration": 10,
    "start_time": "2022-06-20T09:55:24.453Z"
   },
   {
    "duration": 12,
    "start_time": "2022-06-20T09:56:52.887Z"
   },
   {
    "duration": 19,
    "start_time": "2022-06-20T09:57:57.843Z"
   },
   {
    "duration": 16,
    "start_time": "2022-06-20T09:58:09.547Z"
   },
   {
    "duration": 16,
    "start_time": "2022-06-20T09:58:15.975Z"
   },
   {
    "duration": 6,
    "start_time": "2022-06-20T10:01:18.497Z"
   },
   {
    "duration": 5,
    "start_time": "2022-06-20T10:05:48.029Z"
   },
   {
    "duration": 5,
    "start_time": "2022-06-20T10:07:31.043Z"
   },
   {
    "duration": 7,
    "start_time": "2022-06-20T10:09:11.647Z"
   }
  ],
  "kernelspec": {
   "display_name": "Python 3 (ipykernel)",
   "language": "python",
   "name": "python3"
  },
  "language_info": {
   "codemirror_mode": {
    "name": "ipython",
    "version": 3
   },
   "file_extension": ".py",
   "mimetype": "text/x-python",
   "name": "python",
   "nbconvert_exporter": "python",
   "pygments_lexer": "ipython3",
   "version": "3.9.5"
  },
  "toc": {
   "base_numbering": 1,
   "nav_menu": {},
   "number_sections": true,
   "sideBar": true,
   "skip_h1_title": true,
   "title_cell": "Table of Contents",
   "title_sidebar": "Contents",
   "toc_cell": true,
   "toc_position": {},
   "toc_section_display": true,
   "toc_window_display": true
  }
 },
 "nbformat": 4,
 "nbformat_minor": 2
}
