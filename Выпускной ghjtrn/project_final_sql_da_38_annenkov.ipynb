{
 "cells": [
  {
   "cell_type": "markdown",
   "id": "5df4a2af",
   "metadata": {
    "toc": true
   },
   "source": [
    "<h1>Table of Contents<span class=\"tocSkip\"></span></h1>\n",
    "<div class=\"toc\"><ul class=\"toc-item\"><li><span><a href=\"#Загрузка-данных\" data-toc-modified-id=\"Загрузка-данных-1\"><span class=\"toc-item-num\">1&nbsp;&nbsp;</span>Загрузка данных</a></span></li><li><span><a href=\"#Расчет-количества-книг-вышедших-после-1-января-2000-года\" data-toc-modified-id=\"Расчет-количества-книг-вышедших-после-1-января-2000-года-2\"><span class=\"toc-item-num\">2&nbsp;&nbsp;</span>Расчет количества книг вышедших после 1 января 2000 года</a></span></li><li><span><a href=\"#Расчет-количества-обзоров-и-средней-оценки-для-каждой-книги\" data-toc-modified-id=\"Расчет-количества-обзоров-и-средней-оценки-для-каждой-книги-3\"><span class=\"toc-item-num\">3&nbsp;&nbsp;</span>Расчет количества обзоров и средней оценки для каждой книги</a></span></li><li><span><a href=\"#Определение-издательства,-которое-выпустило-наибольшее-число-книг-толще-50-страниц\" data-toc-modified-id=\"Определение-издательства,-которое-выпустило-наибольшее-число-книг-толще-50-страниц-4\"><span class=\"toc-item-num\">4&nbsp;&nbsp;</span>Определение издательства, которое выпустило наибольшее число книг толще 50 страниц</a></span></li><li><span><a href=\"#Определение-автора-с-самой-высокой-средней-оценкой-книг-—-учитывайте-только-книги-с-50-и-более-оценками\" data-toc-modified-id=\"Определение-автора-с-самой-высокой-средней-оценкой-книг-—-учитывайте-только-книги-с-50-и-более-оценками-5\"><span class=\"toc-item-num\">5&nbsp;&nbsp;</span>Определение автора с самой высокой средней оценкой книг — учитывайте только книги с 50 и более оценками</a></span></li><li><span><a href=\"#Расчет-среднего-количества-обзоров-от-пользователей,-которые-поставили-больше-50-оценок\" data-toc-modified-id=\"Расчет-среднего-количества-обзоров-от-пользователей,-которые-поставили-больше-50-оценок-6\"><span class=\"toc-item-num\">6&nbsp;&nbsp;</span>Расчет среднего количества обзоров от пользователей, которые поставили больше 50 оценок</a></span></li></ul></div>"
   ]
  },
  {
   "cell_type": "markdown",
   "id": "29a4305b",
   "metadata": {},
   "source": [
    "**SQL**\n",
    "\n",
    "**Описание проекта**\n",
    "Коронавирус застал мир врасплох, изменив привычный порядок вещей. В\n",
    "свободное время жители городов больше не выходят на улицу, не посещают кафе\n",
    "и торговые центры. Зато стало больше времени для книг. Это заметили\n",
    "стартаперы — и бросились создавать приложения для тех, кто любит читать.\n",
    "Ваша компания решила быть на волне и купила крупный сервис для чтения книг\n",
    "по подписке. Ваша первая задача как аналитика — проанализировать базу\n",
    "данных.\n",
    "\n",
    "**Цель исследования:** проанализировать базу данных. В ней — информация о книгах, издательствах, авторах, а также пользовательские обзоры книг. Эти данные помогут сформулировать ценностное предложение для нового продукта.\n"
   ]
  },
  {
   "cell_type": "markdown",
   "id": "5712b1a5",
   "metadata": {},
   "source": [
    "## Загрузка данных"
   ]
  },
  {
   "cell_type": "code",
   "execution_count": 1,
   "id": "2f080bc0",
   "metadata": {},
   "outputs": [],
   "source": [
    "# импортируем библиотеки\n",
    "import pandas as pd\n",
    "from sqlalchemy import create_engine"
   ]
  },
  {
   "cell_type": "code",
   "execution_count": 2,
   "id": "1020c879",
   "metadata": {},
   "outputs": [],
   "source": [
    "# устанавливаем параметры\n",
    "db_config = {'user': 'praktikum_student', # имя пользователя\n",
    "             'pwd': 'Sdf4$2;d-d30pp', # пароль\n",
    "             'host': 'rc1b-wcoijxj3yxfsf3fs.mdb.yandexcloud.net',\n",
    "             'port': 6432, # порт подключения\n",
    "             'db': 'data-analyst-final-project-db'} # название базы данных\n",
    "connection_string = 'postgresql://{}:{}@{}:{}/{}'.format(db_config['user'],\n",
    "                                                         db_config['pwd'],\n",
    "                                                         db_config['host'],\n",
    "                                                         db_config['port'],\n",
    "                                                         db_config['db'])\n",
    "# сохраняем коннектор\n",
    "engine = create_engine(connection_string, connect_args={'sslmode':'require'})"
   ]
  },
  {
   "cell_type": "code",
   "execution_count": 3,
   "id": "345535f7",
   "metadata": {
    "scrolled": false
   },
   "outputs": [
    {
     "data": {
      "text/plain": [
       "'Таблица - books'"
      ]
     },
     "metadata": {},
     "output_type": "display_data"
    },
    {
     "data": {
      "text/html": [
       "<div>\n",
       "<style scoped>\n",
       "    .dataframe tbody tr th:only-of-type {\n",
       "        vertical-align: middle;\n",
       "    }\n",
       "\n",
       "    .dataframe tbody tr th {\n",
       "        vertical-align: top;\n",
       "    }\n",
       "\n",
       "    .dataframe thead th {\n",
       "        text-align: right;\n",
       "    }\n",
       "</style>\n",
       "<table border=\"1\" class=\"dataframe\">\n",
       "  <thead>\n",
       "    <tr style=\"text-align: right;\">\n",
       "      <th></th>\n",
       "      <th>book_id</th>\n",
       "      <th>author_id</th>\n",
       "      <th>title</th>\n",
       "      <th>num_pages</th>\n",
       "      <th>publication_date</th>\n",
       "      <th>publisher_id</th>\n",
       "    </tr>\n",
       "  </thead>\n",
       "  <tbody>\n",
       "    <tr>\n",
       "      <th>0</th>\n",
       "      <td>1</td>\n",
       "      <td>546</td>\n",
       "      <td>'Salem's Lot</td>\n",
       "      <td>594</td>\n",
       "      <td>2005-11-01</td>\n",
       "      <td>93</td>\n",
       "    </tr>\n",
       "    <tr>\n",
       "      <th>1</th>\n",
       "      <td>2</td>\n",
       "      <td>465</td>\n",
       "      <td>1 000 Places to See Before You Die</td>\n",
       "      <td>992</td>\n",
       "      <td>2003-05-22</td>\n",
       "      <td>336</td>\n",
       "    </tr>\n",
       "    <tr>\n",
       "      <th>2</th>\n",
       "      <td>3</td>\n",
       "      <td>407</td>\n",
       "      <td>13 Little Blue Envelopes (Little Blue Envelope...</td>\n",
       "      <td>322</td>\n",
       "      <td>2010-12-21</td>\n",
       "      <td>135</td>\n",
       "    </tr>\n",
       "    <tr>\n",
       "      <th>3</th>\n",
       "      <td>4</td>\n",
       "      <td>82</td>\n",
       "      <td>1491: New Revelations of the Americas Before C...</td>\n",
       "      <td>541</td>\n",
       "      <td>2006-10-10</td>\n",
       "      <td>309</td>\n",
       "    </tr>\n",
       "    <tr>\n",
       "      <th>4</th>\n",
       "      <td>5</td>\n",
       "      <td>125</td>\n",
       "      <td>1776</td>\n",
       "      <td>386</td>\n",
       "      <td>2006-07-04</td>\n",
       "      <td>268</td>\n",
       "    </tr>\n",
       "    <tr>\n",
       "      <th>5</th>\n",
       "      <td>6</td>\n",
       "      <td>257</td>\n",
       "      <td>1st to Die (Women's Murder Club  #1)</td>\n",
       "      <td>424</td>\n",
       "      <td>2005-05-20</td>\n",
       "      <td>116</td>\n",
       "    </tr>\n",
       "    <tr>\n",
       "      <th>6</th>\n",
       "      <td>7</td>\n",
       "      <td>258</td>\n",
       "      <td>2nd Chance (Women's Murder Club  #2)</td>\n",
       "      <td>400</td>\n",
       "      <td>2005-05-20</td>\n",
       "      <td>116</td>\n",
       "    </tr>\n",
       "    <tr>\n",
       "      <th>7</th>\n",
       "      <td>8</td>\n",
       "      <td>260</td>\n",
       "      <td>4th of July (Women's Murder Club  #4)</td>\n",
       "      <td>448</td>\n",
       "      <td>2006-06-01</td>\n",
       "      <td>318</td>\n",
       "    </tr>\n",
       "    <tr>\n",
       "      <th>8</th>\n",
       "      <td>9</td>\n",
       "      <td>563</td>\n",
       "      <td>A Beautiful Mind</td>\n",
       "      <td>461</td>\n",
       "      <td>2002-02-04</td>\n",
       "      <td>104</td>\n",
       "    </tr>\n",
       "    <tr>\n",
       "      <th>9</th>\n",
       "      <td>10</td>\n",
       "      <td>445</td>\n",
       "      <td>A Bend in the Road</td>\n",
       "      <td>341</td>\n",
       "      <td>2005-04-01</td>\n",
       "      <td>116</td>\n",
       "    </tr>\n",
       "  </tbody>\n",
       "</table>\n",
       "</div>"
      ],
      "text/plain": [
       "   book_id  author_id                                              title  \\\n",
       "0        1        546                                       'Salem's Lot   \n",
       "1        2        465                 1 000 Places to See Before You Die   \n",
       "2        3        407  13 Little Blue Envelopes (Little Blue Envelope...   \n",
       "3        4         82  1491: New Revelations of the Americas Before C...   \n",
       "4        5        125                                               1776   \n",
       "5        6        257               1st to Die (Women's Murder Club  #1)   \n",
       "6        7        258               2nd Chance (Women's Murder Club  #2)   \n",
       "7        8        260              4th of July (Women's Murder Club  #4)   \n",
       "8        9        563                                   A Beautiful Mind   \n",
       "9       10        445                                 A Bend in the Road   \n",
       "\n",
       "   num_pages publication_date  publisher_id  \n",
       "0        594       2005-11-01            93  \n",
       "1        992       2003-05-22           336  \n",
       "2        322       2010-12-21           135  \n",
       "3        541       2006-10-10           309  \n",
       "4        386       2006-07-04           268  \n",
       "5        424       2005-05-20           116  \n",
       "6        400       2005-05-20           116  \n",
       "7        448       2006-06-01           318  \n",
       "8        461       2002-02-04           104  \n",
       "9        341       2005-04-01           116  "
      ]
     },
     "metadata": {},
     "output_type": "display_data"
    },
    {
     "name": "stdout",
     "output_type": "stream",
     "text": [
      "<class 'pandas.core.frame.DataFrame'>\n",
      "RangeIndex: 1000 entries, 0 to 999\n",
      "Data columns (total 6 columns):\n",
      " #   Column            Non-Null Count  Dtype \n",
      "---  ------            --------------  ----- \n",
      " 0   book_id           1000 non-null   int64 \n",
      " 1   author_id         1000 non-null   int64 \n",
      " 2   title             1000 non-null   object\n",
      " 3   num_pages         1000 non-null   int64 \n",
      " 4   publication_date  1000 non-null   object\n",
      " 5   publisher_id      1000 non-null   int64 \n",
      "dtypes: int64(4), object(2)\n",
      "memory usage: 47.0+ KB\n"
     ]
    },
    {
     "data": {
      "text/plain": [
       "None"
      ]
     },
     "metadata": {},
     "output_type": "display_data"
    },
    {
     "data": {
      "text/plain": [
       "'Таблица - authors'"
      ]
     },
     "metadata": {},
     "output_type": "display_data"
    },
    {
     "data": {
      "text/html": [
       "<div>\n",
       "<style scoped>\n",
       "    .dataframe tbody tr th:only-of-type {\n",
       "        vertical-align: middle;\n",
       "    }\n",
       "\n",
       "    .dataframe tbody tr th {\n",
       "        vertical-align: top;\n",
       "    }\n",
       "\n",
       "    .dataframe thead th {\n",
       "        text-align: right;\n",
       "    }\n",
       "</style>\n",
       "<table border=\"1\" class=\"dataframe\">\n",
       "  <thead>\n",
       "    <tr style=\"text-align: right;\">\n",
       "      <th></th>\n",
       "      <th>author_id</th>\n",
       "      <th>author</th>\n",
       "    </tr>\n",
       "  </thead>\n",
       "  <tbody>\n",
       "    <tr>\n",
       "      <th>0</th>\n",
       "      <td>1</td>\n",
       "      <td>A.S. Byatt</td>\n",
       "    </tr>\n",
       "    <tr>\n",
       "      <th>1</th>\n",
       "      <td>2</td>\n",
       "      <td>Aesop/Laura Harris/Laura Gibbs</td>\n",
       "    </tr>\n",
       "    <tr>\n",
       "      <th>2</th>\n",
       "      <td>3</td>\n",
       "      <td>Agatha Christie</td>\n",
       "    </tr>\n",
       "    <tr>\n",
       "      <th>3</th>\n",
       "      <td>4</td>\n",
       "      <td>Alan Brennert</td>\n",
       "    </tr>\n",
       "    <tr>\n",
       "      <th>4</th>\n",
       "      <td>5</td>\n",
       "      <td>Alan Moore/David   Lloyd</td>\n",
       "    </tr>\n",
       "    <tr>\n",
       "      <th>5</th>\n",
       "      <td>6</td>\n",
       "      <td>Alan Paton</td>\n",
       "    </tr>\n",
       "    <tr>\n",
       "      <th>6</th>\n",
       "      <td>7</td>\n",
       "      <td>Albert Camus/Justin O'Brien</td>\n",
       "    </tr>\n",
       "    <tr>\n",
       "      <th>7</th>\n",
       "      <td>8</td>\n",
       "      <td>Aldous Huxley</td>\n",
       "    </tr>\n",
       "    <tr>\n",
       "      <th>8</th>\n",
       "      <td>9</td>\n",
       "      <td>Aldous Huxley/Christopher Hitchens</td>\n",
       "    </tr>\n",
       "    <tr>\n",
       "      <th>9</th>\n",
       "      <td>10</td>\n",
       "      <td>Aleksandr Solzhenitsyn/H.T. Willetts</td>\n",
       "    </tr>\n",
       "  </tbody>\n",
       "</table>\n",
       "</div>"
      ],
      "text/plain": [
       "   author_id                                author\n",
       "0          1                            A.S. Byatt\n",
       "1          2        Aesop/Laura Harris/Laura Gibbs\n",
       "2          3                       Agatha Christie\n",
       "3          4                         Alan Brennert\n",
       "4          5              Alan Moore/David   Lloyd\n",
       "5          6                            Alan Paton\n",
       "6          7           Albert Camus/Justin O'Brien\n",
       "7          8                         Aldous Huxley\n",
       "8          9    Aldous Huxley/Christopher Hitchens\n",
       "9         10  Aleksandr Solzhenitsyn/H.T. Willetts"
      ]
     },
     "metadata": {},
     "output_type": "display_data"
    },
    {
     "name": "stdout",
     "output_type": "stream",
     "text": [
      "<class 'pandas.core.frame.DataFrame'>\n",
      "RangeIndex: 636 entries, 0 to 635\n",
      "Data columns (total 2 columns):\n",
      " #   Column     Non-Null Count  Dtype \n",
      "---  ------     --------------  ----- \n",
      " 0   author_id  636 non-null    int64 \n",
      " 1   author     636 non-null    object\n",
      "dtypes: int64(1), object(1)\n",
      "memory usage: 10.1+ KB\n"
     ]
    },
    {
     "data": {
      "text/plain": [
       "None"
      ]
     },
     "metadata": {},
     "output_type": "display_data"
    },
    {
     "data": {
      "text/plain": [
       "'Таблица - publishers'"
      ]
     },
     "metadata": {},
     "output_type": "display_data"
    },
    {
     "data": {
      "text/html": [
       "<div>\n",
       "<style scoped>\n",
       "    .dataframe tbody tr th:only-of-type {\n",
       "        vertical-align: middle;\n",
       "    }\n",
       "\n",
       "    .dataframe tbody tr th {\n",
       "        vertical-align: top;\n",
       "    }\n",
       "\n",
       "    .dataframe thead th {\n",
       "        text-align: right;\n",
       "    }\n",
       "</style>\n",
       "<table border=\"1\" class=\"dataframe\">\n",
       "  <thead>\n",
       "    <tr style=\"text-align: right;\">\n",
       "      <th></th>\n",
       "      <th>publisher_id</th>\n",
       "      <th>publisher</th>\n",
       "    </tr>\n",
       "  </thead>\n",
       "  <tbody>\n",
       "    <tr>\n",
       "      <th>0</th>\n",
       "      <td>1</td>\n",
       "      <td>Ace</td>\n",
       "    </tr>\n",
       "    <tr>\n",
       "      <th>1</th>\n",
       "      <td>2</td>\n",
       "      <td>Ace Book</td>\n",
       "    </tr>\n",
       "    <tr>\n",
       "      <th>2</th>\n",
       "      <td>3</td>\n",
       "      <td>Ace Books</td>\n",
       "    </tr>\n",
       "    <tr>\n",
       "      <th>3</th>\n",
       "      <td>4</td>\n",
       "      <td>Ace Hardcover</td>\n",
       "    </tr>\n",
       "    <tr>\n",
       "      <th>4</th>\n",
       "      <td>5</td>\n",
       "      <td>Addison Wesley Publishing Company</td>\n",
       "    </tr>\n",
       "    <tr>\n",
       "      <th>5</th>\n",
       "      <td>6</td>\n",
       "      <td>Aladdin</td>\n",
       "    </tr>\n",
       "    <tr>\n",
       "      <th>6</th>\n",
       "      <td>7</td>\n",
       "      <td>Aladdin Paperbacks</td>\n",
       "    </tr>\n",
       "    <tr>\n",
       "      <th>7</th>\n",
       "      <td>8</td>\n",
       "      <td>Albin Michel</td>\n",
       "    </tr>\n",
       "    <tr>\n",
       "      <th>8</th>\n",
       "      <td>9</td>\n",
       "      <td>Alfred A. Knopf</td>\n",
       "    </tr>\n",
       "    <tr>\n",
       "      <th>9</th>\n",
       "      <td>10</td>\n",
       "      <td>Alfred A. Knopf Books for Young Readers</td>\n",
       "    </tr>\n",
       "  </tbody>\n",
       "</table>\n",
       "</div>"
      ],
      "text/plain": [
       "   publisher_id                                publisher\n",
       "0             1                                      Ace\n",
       "1             2                                 Ace Book\n",
       "2             3                                Ace Books\n",
       "3             4                            Ace Hardcover\n",
       "4             5        Addison Wesley Publishing Company\n",
       "5             6                                  Aladdin\n",
       "6             7                       Aladdin Paperbacks\n",
       "7             8                             Albin Michel\n",
       "8             9                          Alfred A. Knopf\n",
       "9            10  Alfred A. Knopf Books for Young Readers"
      ]
     },
     "metadata": {},
     "output_type": "display_data"
    },
    {
     "name": "stdout",
     "output_type": "stream",
     "text": [
      "<class 'pandas.core.frame.DataFrame'>\n",
      "RangeIndex: 340 entries, 0 to 339\n",
      "Data columns (total 2 columns):\n",
      " #   Column        Non-Null Count  Dtype \n",
      "---  ------        --------------  ----- \n",
      " 0   publisher_id  340 non-null    int64 \n",
      " 1   publisher     340 non-null    object\n",
      "dtypes: int64(1), object(1)\n",
      "memory usage: 5.4+ KB\n"
     ]
    },
    {
     "data": {
      "text/plain": [
       "None"
      ]
     },
     "metadata": {},
     "output_type": "display_data"
    },
    {
     "data": {
      "text/plain": [
       "'Таблица - ratings'"
      ]
     },
     "metadata": {},
     "output_type": "display_data"
    },
    {
     "data": {
      "text/html": [
       "<div>\n",
       "<style scoped>\n",
       "    .dataframe tbody tr th:only-of-type {\n",
       "        vertical-align: middle;\n",
       "    }\n",
       "\n",
       "    .dataframe tbody tr th {\n",
       "        vertical-align: top;\n",
       "    }\n",
       "\n",
       "    .dataframe thead th {\n",
       "        text-align: right;\n",
       "    }\n",
       "</style>\n",
       "<table border=\"1\" class=\"dataframe\">\n",
       "  <thead>\n",
       "    <tr style=\"text-align: right;\">\n",
       "      <th></th>\n",
       "      <th>rating_id</th>\n",
       "      <th>book_id</th>\n",
       "      <th>username</th>\n",
       "      <th>rating</th>\n",
       "    </tr>\n",
       "  </thead>\n",
       "  <tbody>\n",
       "    <tr>\n",
       "      <th>0</th>\n",
       "      <td>1</td>\n",
       "      <td>1</td>\n",
       "      <td>ryanfranco</td>\n",
       "      <td>4</td>\n",
       "    </tr>\n",
       "    <tr>\n",
       "      <th>1</th>\n",
       "      <td>2</td>\n",
       "      <td>1</td>\n",
       "      <td>grantpatricia</td>\n",
       "      <td>2</td>\n",
       "    </tr>\n",
       "    <tr>\n",
       "      <th>2</th>\n",
       "      <td>3</td>\n",
       "      <td>1</td>\n",
       "      <td>brandtandrea</td>\n",
       "      <td>5</td>\n",
       "    </tr>\n",
       "    <tr>\n",
       "      <th>3</th>\n",
       "      <td>4</td>\n",
       "      <td>2</td>\n",
       "      <td>lorichen</td>\n",
       "      <td>3</td>\n",
       "    </tr>\n",
       "    <tr>\n",
       "      <th>4</th>\n",
       "      <td>5</td>\n",
       "      <td>2</td>\n",
       "      <td>mariokeller</td>\n",
       "      <td>2</td>\n",
       "    </tr>\n",
       "    <tr>\n",
       "      <th>5</th>\n",
       "      <td>6</td>\n",
       "      <td>3</td>\n",
       "      <td>johnsonamanda</td>\n",
       "      <td>4</td>\n",
       "    </tr>\n",
       "    <tr>\n",
       "      <th>6</th>\n",
       "      <td>7</td>\n",
       "      <td>3</td>\n",
       "      <td>scotttamara</td>\n",
       "      <td>5</td>\n",
       "    </tr>\n",
       "    <tr>\n",
       "      <th>7</th>\n",
       "      <td>8</td>\n",
       "      <td>3</td>\n",
       "      <td>lesliegibbs</td>\n",
       "      <td>5</td>\n",
       "    </tr>\n",
       "    <tr>\n",
       "      <th>8</th>\n",
       "      <td>9</td>\n",
       "      <td>4</td>\n",
       "      <td>abbottjames</td>\n",
       "      <td>5</td>\n",
       "    </tr>\n",
       "    <tr>\n",
       "      <th>9</th>\n",
       "      <td>10</td>\n",
       "      <td>4</td>\n",
       "      <td>valenciaanne</td>\n",
       "      <td>4</td>\n",
       "    </tr>\n",
       "  </tbody>\n",
       "</table>\n",
       "</div>"
      ],
      "text/plain": [
       "   rating_id  book_id       username  rating\n",
       "0          1        1     ryanfranco       4\n",
       "1          2        1  grantpatricia       2\n",
       "2          3        1   brandtandrea       5\n",
       "3          4        2       lorichen       3\n",
       "4          5        2    mariokeller       2\n",
       "5          6        3  johnsonamanda       4\n",
       "6          7        3    scotttamara       5\n",
       "7          8        3    lesliegibbs       5\n",
       "8          9        4    abbottjames       5\n",
       "9         10        4   valenciaanne       4"
      ]
     },
     "metadata": {},
     "output_type": "display_data"
    },
    {
     "name": "stdout",
     "output_type": "stream",
     "text": [
      "<class 'pandas.core.frame.DataFrame'>\n",
      "RangeIndex: 6456 entries, 0 to 6455\n",
      "Data columns (total 4 columns):\n",
      " #   Column     Non-Null Count  Dtype \n",
      "---  ------     --------------  ----- \n",
      " 0   rating_id  6456 non-null   int64 \n",
      " 1   book_id    6456 non-null   int64 \n",
      " 2   username   6456 non-null   object\n",
      " 3   rating     6456 non-null   int64 \n",
      "dtypes: int64(3), object(1)\n",
      "memory usage: 201.9+ KB\n"
     ]
    },
    {
     "data": {
      "text/plain": [
       "None"
      ]
     },
     "metadata": {},
     "output_type": "display_data"
    },
    {
     "data": {
      "text/plain": [
       "'Таблица - reviews'"
      ]
     },
     "metadata": {},
     "output_type": "display_data"
    },
    {
     "data": {
      "text/html": [
       "<div>\n",
       "<style scoped>\n",
       "    .dataframe tbody tr th:only-of-type {\n",
       "        vertical-align: middle;\n",
       "    }\n",
       "\n",
       "    .dataframe tbody tr th {\n",
       "        vertical-align: top;\n",
       "    }\n",
       "\n",
       "    .dataframe thead th {\n",
       "        text-align: right;\n",
       "    }\n",
       "</style>\n",
       "<table border=\"1\" class=\"dataframe\">\n",
       "  <thead>\n",
       "    <tr style=\"text-align: right;\">\n",
       "      <th></th>\n",
       "      <th>review_id</th>\n",
       "      <th>book_id</th>\n",
       "      <th>username</th>\n",
       "      <th>text</th>\n",
       "    </tr>\n",
       "  </thead>\n",
       "  <tbody>\n",
       "    <tr>\n",
       "      <th>0</th>\n",
       "      <td>1</td>\n",
       "      <td>1</td>\n",
       "      <td>brandtandrea</td>\n",
       "      <td>Mention society tell send professor analysis. ...</td>\n",
       "    </tr>\n",
       "    <tr>\n",
       "      <th>1</th>\n",
       "      <td>2</td>\n",
       "      <td>1</td>\n",
       "      <td>ryanfranco</td>\n",
       "      <td>Foot glass pretty audience hit themselves. Amo...</td>\n",
       "    </tr>\n",
       "    <tr>\n",
       "      <th>2</th>\n",
       "      <td>3</td>\n",
       "      <td>2</td>\n",
       "      <td>lorichen</td>\n",
       "      <td>Listen treat keep worry. Miss husband tax but ...</td>\n",
       "    </tr>\n",
       "    <tr>\n",
       "      <th>3</th>\n",
       "      <td>4</td>\n",
       "      <td>3</td>\n",
       "      <td>johnsonamanda</td>\n",
       "      <td>Finally month interesting blue could nature cu...</td>\n",
       "    </tr>\n",
       "    <tr>\n",
       "      <th>4</th>\n",
       "      <td>5</td>\n",
       "      <td>3</td>\n",
       "      <td>scotttamara</td>\n",
       "      <td>Nation purpose heavy give wait song will. List...</td>\n",
       "    </tr>\n",
       "    <tr>\n",
       "      <th>5</th>\n",
       "      <td>6</td>\n",
       "      <td>3</td>\n",
       "      <td>lesliegibbs</td>\n",
       "      <td>Analysis no several cause international.</td>\n",
       "    </tr>\n",
       "    <tr>\n",
       "      <th>6</th>\n",
       "      <td>7</td>\n",
       "      <td>4</td>\n",
       "      <td>valenciaanne</td>\n",
       "      <td>One there cost another. Say type save. With pe...</td>\n",
       "    </tr>\n",
       "    <tr>\n",
       "      <th>7</th>\n",
       "      <td>8</td>\n",
       "      <td>4</td>\n",
       "      <td>abbottjames</td>\n",
       "      <td>Within enough mother. There at system full rec...</td>\n",
       "    </tr>\n",
       "    <tr>\n",
       "      <th>8</th>\n",
       "      <td>9</td>\n",
       "      <td>5</td>\n",
       "      <td>npowers</td>\n",
       "      <td>Thank now focus realize economy focus fly. Ite...</td>\n",
       "    </tr>\n",
       "    <tr>\n",
       "      <th>9</th>\n",
       "      <td>10</td>\n",
       "      <td>5</td>\n",
       "      <td>staylor</td>\n",
       "      <td>Game push lot reduce where remember. Including...</td>\n",
       "    </tr>\n",
       "  </tbody>\n",
       "</table>\n",
       "</div>"
      ],
      "text/plain": [
       "   review_id  book_id       username  \\\n",
       "0          1        1   brandtandrea   \n",
       "1          2        1     ryanfranco   \n",
       "2          3        2       lorichen   \n",
       "3          4        3  johnsonamanda   \n",
       "4          5        3    scotttamara   \n",
       "5          6        3    lesliegibbs   \n",
       "6          7        4   valenciaanne   \n",
       "7          8        4    abbottjames   \n",
       "8          9        5        npowers   \n",
       "9         10        5        staylor   \n",
       "\n",
       "                                                text  \n",
       "0  Mention society tell send professor analysis. ...  \n",
       "1  Foot glass pretty audience hit themselves. Amo...  \n",
       "2  Listen treat keep worry. Miss husband tax but ...  \n",
       "3  Finally month interesting blue could nature cu...  \n",
       "4  Nation purpose heavy give wait song will. List...  \n",
       "5           Analysis no several cause international.  \n",
       "6  One there cost another. Say type save. With pe...  \n",
       "7  Within enough mother. There at system full rec...  \n",
       "8  Thank now focus realize economy focus fly. Ite...  \n",
       "9  Game push lot reduce where remember. Including...  "
      ]
     },
     "metadata": {},
     "output_type": "display_data"
    },
    {
     "name": "stdout",
     "output_type": "stream",
     "text": [
      "<class 'pandas.core.frame.DataFrame'>\n",
      "RangeIndex: 2793 entries, 0 to 2792\n",
      "Data columns (total 4 columns):\n",
      " #   Column     Non-Null Count  Dtype \n",
      "---  ------     --------------  ----- \n",
      " 0   review_id  2793 non-null   int64 \n",
      " 1   book_id    2793 non-null   int64 \n",
      " 2   username   2793 non-null   object\n",
      " 3   text       2793 non-null   object\n",
      "dtypes: int64(2), object(2)\n",
      "memory usage: 87.4+ KB\n"
     ]
    },
    {
     "data": {
      "text/plain": [
       "None"
      ]
     },
     "metadata": {},
     "output_type": "display_data"
    }
   ],
   "source": [
    "# выгрузим все таблицы через цикл\n",
    "tabels = ['books', 'authors', 'publishers', 'ratings', 'reviews']\n",
    "for table in tabels:\n",
    "    query = ''' SELECT * FROM {}; \n",
    "    '''.format(table)\n",
    "    request = pd.io.sql.read_sql(query, con = engine)\n",
    "    display('Таблица - {}'.format(table))\n",
    "    display(request.head(10))\n",
    "    display(request.info())"
   ]
  },
  {
   "cell_type": "markdown",
   "id": "46cb0b14",
   "metadata": {},
   "source": [
    "**Описание данных**\n",
    "\n",
    "Имеем 5 таблиц:\n",
    "\n",
    "Таблица `books` cодержит данные о книгах:\n",
    "* book_id — идентификатор книги;\n",
    "* author_id — идентификатор автора;\n",
    "* title — название книги;\n",
    "* num_pages — количество страниц;\n",
    "* publication_date — дата публикации книги;\n",
    "* publisher_id — идентификатор издателя.\n",
    "\n",
    "Таблица `authors` cодержит данные об авторах:\n",
    "* author_id — идентификатор автора;\n",
    "* author — имя автора.\n",
    "\n",
    "Таблица `publishers` cодержит данные об издательствах:\n",
    "* publisher_id — идентификатор издательства;\n",
    "* publisher — название издательства;\n",
    "\n",
    "Таблица `ratings` cодержит данные о пользовательских оценках книг:\n",
    "* rating_id — идентификатор оценки;\n",
    "* book_id — идентификатор книги;\n",
    "* username — имя пользователя, оставившего оценку;\n",
    "* rating — оценка книги.\n",
    "\n",
    "Таблица `reviews` cодержит данные о пользовательских обзорах на книги:\n",
    "* review_id — идентификатор обзора;\n",
    "* book_id — идентификатор книги;\n",
    "* username — имя пользователя, написавшего обзор;\n",
    "* text — текст обзора."
   ]
  },
  {
   "cell_type": "markdown",
   "id": "045f34c1",
   "metadata": {},
   "source": [
    "**Вывод**:\n",
    "\n",
    "С данными все хорошо, пропусков нет, типы данных соответствуют описанию, названия столбцов в таблицах в нижнем регистре и соответствуют \"змеиному стилю\"."
   ]
  },
  {
   "cell_type": "markdown",
   "id": "37c475e8",
   "metadata": {},
   "source": [
    "## Расчет количества книг вышедших после 1 января 2000 года"
   ]
  },
  {
   "cell_type": "code",
   "execution_count": 4,
   "id": "9f7299b7",
   "metadata": {},
   "outputs": [],
   "source": [
    "query_1 = '''\n",
    "SELECT COUNT(book_id)\n",
    "FROM books\n",
    "WHERE publication_date > '2000-01-01';\n",
    "'''"
   ]
  },
  {
   "cell_type": "code",
   "execution_count": 5,
   "id": "f5e826f3",
   "metadata": {},
   "outputs": [
    {
     "data": {
      "text/plain": [
       "'После 1 января 2000 года вышло 819 книг'"
      ]
     },
     "metadata": {},
     "output_type": "display_data"
    }
   ],
   "source": [
    "request_1 = pd.io.sql.read_sql(query_1, con = engine)\n",
    "display('После 1 января 2000 года вышло {} книг'.format(request_1.iloc[0,0]))"
   ]
  },
  {
   "cell_type": "markdown",
   "id": "331f008f",
   "metadata": {},
   "source": [
    "## Расчет количества обзоров и средней оценки для каждой книги"
   ]
  },
  {
   "cell_type": "code",
   "execution_count": 6,
   "id": "8daf8372",
   "metadata": {},
   "outputs": [],
   "source": [
    "query_rev = '''\n",
    "SELECT * FROM reviews;\n",
    "'''\n",
    "reviews = pd.io.sql.read_sql(query_rev, con = engine)\n",
    "\n",
    "query_b = '''\n",
    "SELECT * FROM books;\n",
    "'''\n",
    "books = pd.io.sql.read_sql(query_b, con = engine)\n",
    "\n",
    "query_rat = '''\n",
    "SELECT * FROM ratings;\n",
    "'''\n",
    "ratings = pd.io.sql.read_sql(query_rat, con = engine)"
   ]
  },
  {
   "cell_type": "code",
   "execution_count": 7,
   "id": "defe126a",
   "metadata": {},
   "outputs": [
    {
     "data": {
      "text/plain": [
       "'Количество уникальных book_id в таблице reviews 994'"
      ]
     },
     "metadata": {},
     "output_type": "display_data"
    },
    {
     "data": {
      "text/plain": [
       "'Количество уникальных book_id в таблице books 1000'"
      ]
     },
     "metadata": {},
     "output_type": "display_data"
    },
    {
     "data": {
      "text/plain": [
       "'Количество уникальных book_id в таблице ratings 1000'"
      ]
     },
     "metadata": {},
     "output_type": "display_data"
    }
   ],
   "source": [
    "display('Количество уникальных book_id в таблице reviews {}'.format(len(reviews['book_id'].unique())))\n",
    "display('Количество уникальных book_id в таблице books {}'.format(len(books['book_id'].unique())))\n",
    "display('Количество уникальных book_id в таблице ratings {}'.format(len(ratings['book_id'].unique())))"
   ]
  },
  {
   "cell_type": "markdown",
   "id": "eeb899c1",
   "metadata": {},
   "source": [
    "У всех 3-х таблиц одинаковый столбец **book_id**, будем соединять по этому столбцу. Как видим в таблице **reviews** в столбце **book_id 994** значений, в остальных по **1 000** значений, поэтому мы сначала объединим **books** и **ratings**, а затем **LEFT JOIN** присоединим **reviews**."
   ]
  },
  {
   "cell_type": "code",
   "execution_count": 8,
   "id": "d79de5b0",
   "metadata": {},
   "outputs": [],
   "source": [
    "query_2 = '''\n",
    "SELECT b.title, AVG(rat.rating) AS avg_rating, COUNT(DISTINCT rev.review_id) AS cnt_review\n",
    "FROM books AS b\n",
    "JOIN ratings AS rat ON b.book_id = rat.book_id\n",
    "LEFT JOIN reviews AS rev ON b.book_id = rev.book_id\n",
    "GROUP BY b.book_id\n",
    "ORDER BY cnt_review DESC;\n",
    "'''\n",
    "request_2 = pd.io.sql.read_sql(query_2, con = engine)"
   ]
  },
  {
   "cell_type": "code",
   "execution_count": 9,
   "id": "dc548589",
   "metadata": {},
   "outputs": [
    {
     "data": {
      "text/html": [
       "<div>\n",
       "<style scoped>\n",
       "    .dataframe tbody tr th:only-of-type {\n",
       "        vertical-align: middle;\n",
       "    }\n",
       "\n",
       "    .dataframe tbody tr th {\n",
       "        vertical-align: top;\n",
       "    }\n",
       "\n",
       "    .dataframe thead th {\n",
       "        text-align: right;\n",
       "    }\n",
       "</style>\n",
       "<table border=\"1\" class=\"dataframe\">\n",
       "  <thead>\n",
       "    <tr style=\"text-align: right;\">\n",
       "      <th></th>\n",
       "      <th>title</th>\n",
       "      <th>avg_rating</th>\n",
       "      <th>cnt_review</th>\n",
       "    </tr>\n",
       "  </thead>\n",
       "  <tbody>\n",
       "    <tr>\n",
       "      <th>0</th>\n",
       "      <td>Twilight (Twilight  #1)</td>\n",
       "      <td>3.662500</td>\n",
       "      <td>7</td>\n",
       "    </tr>\n",
       "    <tr>\n",
       "      <th>1</th>\n",
       "      <td>Water for Elephants</td>\n",
       "      <td>3.977273</td>\n",
       "      <td>6</td>\n",
       "    </tr>\n",
       "    <tr>\n",
       "      <th>2</th>\n",
       "      <td>The Glass Castle</td>\n",
       "      <td>4.206897</td>\n",
       "      <td>6</td>\n",
       "    </tr>\n",
       "    <tr>\n",
       "      <th>3</th>\n",
       "      <td>Harry Potter and the Prisoner of Azkaban (Harr...</td>\n",
       "      <td>4.414634</td>\n",
       "      <td>6</td>\n",
       "    </tr>\n",
       "    <tr>\n",
       "      <th>4</th>\n",
       "      <td>The Curious Incident of the Dog in the Night-Time</td>\n",
       "      <td>4.081081</td>\n",
       "      <td>6</td>\n",
       "    </tr>\n",
       "    <tr>\n",
       "      <th>...</th>\n",
       "      <td>...</td>\n",
       "      <td>...</td>\n",
       "      <td>...</td>\n",
       "    </tr>\n",
       "    <tr>\n",
       "      <th>995</th>\n",
       "      <td>Anne Rice's The Vampire Lestat: A Graphic Novel</td>\n",
       "      <td>3.666667</td>\n",
       "      <td>0</td>\n",
       "    </tr>\n",
       "    <tr>\n",
       "      <th>996</th>\n",
       "      <td>The Natural Way to Draw</td>\n",
       "      <td>3.000000</td>\n",
       "      <td>0</td>\n",
       "    </tr>\n",
       "    <tr>\n",
       "      <th>997</th>\n",
       "      <td>The Cat in the Hat and Other Dr. Seuss Favorites</td>\n",
       "      <td>5.000000</td>\n",
       "      <td>0</td>\n",
       "    </tr>\n",
       "    <tr>\n",
       "      <th>998</th>\n",
       "      <td>Essential Tales and Poems</td>\n",
       "      <td>4.000000</td>\n",
       "      <td>0</td>\n",
       "    </tr>\n",
       "    <tr>\n",
       "      <th>999</th>\n",
       "      <td>Disney's Beauty and the Beast (A Little Golden...</td>\n",
       "      <td>4.000000</td>\n",
       "      <td>0</td>\n",
       "    </tr>\n",
       "  </tbody>\n",
       "</table>\n",
       "<p>1000 rows × 3 columns</p>\n",
       "</div>"
      ],
      "text/plain": [
       "                                                 title  avg_rating  cnt_review\n",
       "0                              Twilight (Twilight  #1)    3.662500           7\n",
       "1                                  Water for Elephants    3.977273           6\n",
       "2                                     The Glass Castle    4.206897           6\n",
       "3    Harry Potter and the Prisoner of Azkaban (Harr...    4.414634           6\n",
       "4    The Curious Incident of the Dog in the Night-Time    4.081081           6\n",
       "..                                                 ...         ...         ...\n",
       "995    Anne Rice's The Vampire Lestat: A Graphic Novel    3.666667           0\n",
       "996                            The Natural Way to Draw    3.000000           0\n",
       "997   The Cat in the Hat and Other Dr. Seuss Favorites    5.000000           0\n",
       "998                          Essential Tales and Poems    4.000000           0\n",
       "999  Disney's Beauty and the Beast (A Little Golden...    4.000000           0\n",
       "\n",
       "[1000 rows x 3 columns]"
      ]
     },
     "execution_count": 9,
     "metadata": {},
     "output_type": "execute_result"
    }
   ],
   "source": [
    "request_2"
   ]
  },
  {
   "cell_type": "markdown",
   "id": "6d81e66c",
   "metadata": {},
   "source": [
    "**Вывод**\n",
    "\n",
    "Топ-5 по количеству обзоров:\n",
    "- Twilight (Twilight #1) **7**\n",
    "- Water for Elephants\t**6**\n",
    "- The Glass Castle\t**6**\n",
    "- Harry Potter and the Prisoner of Azkaban 4.414634\t**6**\n",
    "- The Curious Incident of the Dog in the Night-Time **6**\n",
    "\n",
    "У шести книг не было ревью вообще"
   ]
  },
  {
   "cell_type": "markdown",
   "id": "d45fff60",
   "metadata": {},
   "source": [
    "## Определение издательства, которое выпустило наибольшее число книг толще 50 страниц"
   ]
  },
  {
   "cell_type": "code",
   "execution_count": 10,
   "id": "7de56baa",
   "metadata": {},
   "outputs": [],
   "source": [
    "query_3 = '''\n",
    "SELECT p.publisher, COUNT(book_id)\n",
    "FROM publishers AS p\n",
    "LEFT JOIN books AS b ON p.publisher_id = b.publisher_id\n",
    "WHERE b.num_pages > 50\n",
    "GROUP BY p.publisher\n",
    "ORDER BY COUNT(book_id) DESC\n",
    "LIMIT 1;\n",
    "'''\n",
    "request_3 = pd.io.sql.read_sql(query_3, con = engine)"
   ]
  },
  {
   "cell_type": "code",
   "execution_count": 11,
   "id": "438d0783",
   "metadata": {},
   "outputs": [
    {
     "data": {
      "text/plain": [
       "'Издательство, выпустившее наибольшее число книг толще 50 листов, Penguin Books'"
      ]
     },
     "metadata": {},
     "output_type": "display_data"
    }
   ],
   "source": [
    "display('Издательство, выпустившее наибольшее число книг толще 50 листов, {}'.format(request_3.iloc[0,0]))"
   ]
  },
  {
   "cell_type": "markdown",
   "id": "f02f23e2",
   "metadata": {},
   "source": [
    "## Определение автора с самой высокой средней оценкой книг — учитывайте только книги с 50 и более оценками"
   ]
  },
  {
   "cell_type": "code",
   "execution_count": 12,
   "id": "001da760",
   "metadata": {},
   "outputs": [],
   "source": [
    "query_4 = '''\n",
    "SELECT authors.author, AVG(rat.avg_rating) AS avg_rating\n",
    "FROM books\n",
    "LEFT JOIN (\n",
    "        SELECT book_id, COUNT(rating_id) AS cnt_rating, AVG(rating) AS avg_rating\n",
    "        FROM ratings\n",
    "        GROUP BY book_id\n",
    "        ) AS rat ON rat.book_id = books.book_id\n",
    "LEFT JOIN authors ON authors.author_id = books.author_id\n",
    "WHERE cnt_rating > 50\n",
    "GROUP BY author\n",
    "ORDER BY avg_rating DESC\n",
    "LIMIT 1\n",
    "'''\n",
    "request_4 = pd.io.sql.read_sql(query_4, con = engine)"
   ]
  },
  {
   "cell_type": "code",
   "execution_count": 13,
   "id": "8675a0e5",
   "metadata": {},
   "outputs": [
    {
     "data": {
      "text/plain": [
       "'Автор с самой высокой средней оценкой книг J.K. Rowling/Mary GrandPré'"
      ]
     },
     "metadata": {},
     "output_type": "display_data"
    }
   ],
   "source": [
    "display('Автор с самой высокой средней оценкой книг {}'.format(request_4.iloc[0,0]))"
   ]
  },
  {
   "cell_type": "markdown",
   "id": "e79c9aa1",
   "metadata": {},
   "source": [
    "## Расчет среднего количества обзоров от пользователей, которые поставили больше 50 оценок"
   ]
  },
  {
   "cell_type": "code",
   "execution_count": 14,
   "id": "90954c3a",
   "metadata": {},
   "outputs": [],
   "source": [
    "query_5 = '''\n",
    "SELECT ROUND(AVG(sub_text_cnt.text_cnt)) AS avg_text_cnt\n",
    "FROM (SELECT COUNT(text) AS text_cnt\n",
    "      FROM reviews\n",
    "      WHERE username IN (SELECT username\n",
    "                         FROM ratings\n",
    "                         GROUP BY username\n",
    "                         HAVING\n",
    "                         COUNT(ratings) > 50)\n",
    "      GROUP BY username\n",
    "      ) AS sub_text_cnt  \n",
    "'''\n",
    "request_5 = pd.io.sql.read_sql(query_5, con = engine)"
   ]
  },
  {
   "cell_type": "code",
   "execution_count": 15,
   "id": "831b6fe6",
   "metadata": {},
   "outputs": [
    {
     "data": {
      "text/plain": [
       "'Среднее количество обзоров пользователей, которые поставили больше 50 оценок составляет 24.0'"
      ]
     },
     "metadata": {},
     "output_type": "display_data"
    }
   ],
   "source": [
    "display('Среднее количество обзоров пользователей, которые поставили больше 50 оценок составляет {}'.format(request_5.iloc[0,0]))"
   ]
  },
  {
   "cell_type": "markdown",
   "id": "c4058348",
   "metadata": {},
   "source": [
    "**Вывод**\n",
    "\n",
    "После 1 января 2000 года было выпущено **819** книг.\n",
    "\n",
    "Топ-5 по количеству обзоров:\n",
    "- Twilight (Twilight #1) **7**\n",
    "- Water for Elephants\t**6**\n",
    "- The Glass Castle\t**6**\n",
    "- Harry Potter and the Prisoner of Azkaban 4.414634\t**6**\n",
    "- The Curious Incident of the Dog in the Night-Time **6**\n",
    "\n",
    "Издательство, выпустившее наибольшее число книг толще 50 листов, **Penguin Books**\n",
    "\n",
    "Автор с самой высокой средней оценкой книг **J.K. Rowling/Mary GrandPré**\n",
    "\n",
    "Среднее количество обзоров пользователей, которые поставили больше 50 оценок составляет **24.0**"
   ]
  },
  {
   "cell_type": "markdown",
   "id": "0dee6159",
   "metadata": {},
   "source": []
  }
 ],
 "metadata": {
  "ExecuteTimeLog": [
   {
    "duration": 4,
    "start_time": "2022-06-12T08:04:57.020Z"
   },
   {
    "duration": 4,
    "start_time": "2022-06-12T08:04:58.111Z"
   },
   {
    "duration": 3,
    "start_time": "2022-06-12T08:06:34.836Z"
   },
   {
    "duration": 35,
    "start_time": "2022-06-12T08:07:13.785Z"
   },
   {
    "duration": 342,
    "start_time": "2022-06-12T08:07:21.656Z"
   },
   {
    "duration": 3,
    "start_time": "2022-06-12T08:09:02.697Z"
   },
   {
    "duration": 149,
    "start_time": "2022-06-12T08:09:03.707Z"
   },
   {
    "duration": 3,
    "start_time": "2022-06-12T08:10:51.386Z"
   },
   {
    "duration": 136,
    "start_time": "2022-06-12T08:11:00.882Z"
   },
   {
    "duration": 192,
    "start_time": "2022-06-12T08:11:14.979Z"
   },
   {
    "duration": 138,
    "start_time": "2022-06-12T08:11:22.715Z"
   },
   {
    "duration": 141,
    "start_time": "2022-06-12T08:11:36.210Z"
   },
   {
    "duration": 136,
    "start_time": "2022-06-12T08:11:44.482Z"
   },
   {
    "duration": 138,
    "start_time": "2022-06-12T08:11:50.457Z"
   },
   {
    "duration": 2,
    "start_time": "2022-06-12T08:12:17.531Z"
   },
   {
    "duration": 107,
    "start_time": "2022-06-12T08:12:21.611Z"
   },
   {
    "duration": 3,
    "start_time": "2022-06-12T08:13:14.631Z"
   },
   {
    "duration": 147,
    "start_time": "2022-06-12T08:13:16.498Z"
   },
   {
    "duration": 134,
    "start_time": "2022-06-12T08:13:32.106Z"
   },
   {
    "duration": 2,
    "start_time": "2022-06-12T08:14:38.501Z"
   },
   {
    "duration": 6,
    "start_time": "2022-06-12T08:14:58.311Z"
   },
   {
    "duration": 3,
    "start_time": "2022-06-12T08:15:10.915Z"
   },
   {
    "duration": 151,
    "start_time": "2022-06-12T08:15:21.342Z"
   },
   {
    "duration": 3,
    "start_time": "2022-06-12T08:15:41.044Z"
   },
   {
    "duration": 139,
    "start_time": "2022-06-12T08:15:42.639Z"
   },
   {
    "duration": 113,
    "start_time": "2022-06-12T08:25:06.051Z"
   },
   {
    "duration": 485,
    "start_time": "2022-06-12T08:26:18.683Z"
   },
   {
    "duration": 479,
    "start_time": "2022-06-12T08:26:40.945Z"
   },
   {
    "duration": 104,
    "start_time": "2022-06-12T08:27:39.221Z"
   },
   {
    "duration": 553,
    "start_time": "2022-06-12T08:27:45.023Z"
   },
   {
    "duration": 480,
    "start_time": "2022-06-12T08:28:12.347Z"
   },
   {
    "duration": 2,
    "start_time": "2022-06-12T08:40:07.220Z"
   },
   {
    "duration": 8,
    "start_time": "2022-06-12T08:42:45.529Z"
   },
   {
    "duration": 8,
    "start_time": "2022-06-12T08:42:54.385Z"
   },
   {
    "duration": 7,
    "start_time": "2022-06-12T08:43:00.567Z"
   },
   {
    "duration": 2,
    "start_time": "2022-06-12T08:43:02.326Z"
   },
   {
    "duration": 75,
    "start_time": "2022-06-12T08:43:02.789Z"
   },
   {
    "duration": 76,
    "start_time": "2022-06-12T08:43:35.985Z"
   },
   {
    "duration": 2,
    "start_time": "2022-06-12T08:43:55.953Z"
   },
   {
    "duration": 104,
    "start_time": "2022-06-12T08:43:56.463Z"
   },
   {
    "duration": 3,
    "start_time": "2022-06-12T08:44:30.026Z"
   },
   {
    "duration": 132,
    "start_time": "2022-06-12T08:44:30.578Z"
   },
   {
    "duration": 3,
    "start_time": "2022-06-12T08:44:53.437Z"
   },
   {
    "duration": 103,
    "start_time": "2022-06-12T08:44:53.958Z"
   },
   {
    "duration": 3,
    "start_time": "2022-06-12T08:45:32.987Z"
   },
   {
    "duration": 110,
    "start_time": "2022-06-12T08:45:36.800Z"
   },
   {
    "duration": 2,
    "start_time": "2022-06-12T08:45:57.505Z"
   },
   {
    "duration": 108,
    "start_time": "2022-06-12T08:45:58.278Z"
   },
   {
    "duration": 2,
    "start_time": "2022-06-12T08:51:08.089Z"
   },
   {
    "duration": 115,
    "start_time": "2022-06-12T08:51:08.650Z"
   },
   {
    "duration": 2,
    "start_time": "2022-06-12T08:52:59.498Z"
   },
   {
    "duration": 115,
    "start_time": "2022-06-12T08:53:00.250Z"
   },
   {
    "duration": 3,
    "start_time": "2022-06-12T08:53:07.746Z"
   },
   {
    "duration": 107,
    "start_time": "2022-06-12T08:53:08.291Z"
   },
   {
    "duration": 3,
    "start_time": "2022-06-12T08:53:12.409Z"
   },
   {
    "duration": 105,
    "start_time": "2022-06-12T08:53:13.225Z"
   },
   {
    "duration": 2,
    "start_time": "2022-06-12T08:53:21.180Z"
   },
   {
    "duration": 102,
    "start_time": "2022-06-12T08:53:22.010Z"
   },
   {
    "duration": 3,
    "start_time": "2022-06-12T08:54:51.333Z"
   },
   {
    "duration": 105,
    "start_time": "2022-06-12T08:54:51.929Z"
   },
   {
    "duration": 3,
    "start_time": "2022-06-12T08:54:57.366Z"
   },
   {
    "duration": 132,
    "start_time": "2022-06-12T08:54:58.164Z"
   },
   {
    "duration": 2,
    "start_time": "2022-06-12T08:55:28.411Z"
   },
   {
    "duration": 74,
    "start_time": "2022-06-12T08:55:29.013Z"
   },
   {
    "duration": 80,
    "start_time": "2022-06-12T10:12:23.190Z"
   },
   {
    "duration": 7,
    "start_time": "2022-06-12T10:12:41.013Z"
   },
   {
    "duration": 132,
    "start_time": "2022-06-12T10:15:52.937Z"
   },
   {
    "duration": 115,
    "start_time": "2022-06-12T10:16:16.423Z"
   },
   {
    "duration": 113,
    "start_time": "2022-06-12T10:16:30.999Z"
   },
   {
    "duration": 116,
    "start_time": "2022-06-12T10:19:28.250Z"
   },
   {
    "duration": 6,
    "start_time": "2022-06-12T10:19:48.687Z"
   },
   {
    "duration": 112,
    "start_time": "2022-06-12T10:21:39.516Z"
   },
   {
    "duration": 114,
    "start_time": "2022-06-12T10:22:10.408Z"
   },
   {
    "duration": 116,
    "start_time": "2022-06-12T10:29:00.284Z"
   },
   {
    "duration": 11,
    "start_time": "2022-06-12T10:29:01.482Z"
   },
   {
    "duration": 120,
    "start_time": "2022-06-12T10:29:59.931Z"
   },
   {
    "duration": 109,
    "start_time": "2022-06-12T10:30:09.827Z"
   },
   {
    "duration": 12,
    "start_time": "2022-06-12T10:30:12.157Z"
   },
   {
    "duration": 150,
    "start_time": "2022-06-12T13:59:03.159Z"
   },
   {
    "duration": 107,
    "start_time": "2022-06-12T13:59:26.636Z"
   },
   {
    "duration": 107,
    "start_time": "2022-06-12T14:00:29.682Z"
   },
   {
    "duration": 75,
    "start_time": "2022-06-12T14:02:29.405Z"
   },
   {
    "duration": 6,
    "start_time": "2022-06-12T14:02:36.285Z"
   },
   {
    "duration": 6,
    "start_time": "2022-06-12T14:02:54.613Z"
   },
   {
    "duration": 4,
    "start_time": "2022-06-12T14:04:53.793Z"
   },
   {
    "duration": 117,
    "start_time": "2022-06-12T14:05:43.749Z"
   },
   {
    "duration": 105,
    "start_time": "2022-06-12T14:06:01.183Z"
   },
   {
    "duration": 73,
    "start_time": "2022-06-12T14:06:26.267Z"
   },
   {
    "duration": 4,
    "start_time": "2022-06-12T14:06:27.573Z"
   },
   {
    "duration": 73,
    "start_time": "2022-06-12T14:06:39.442Z"
   },
   {
    "duration": 3,
    "start_time": "2022-06-12T14:06:40.771Z"
   },
   {
    "duration": 105,
    "start_time": "2022-06-12T14:06:55.889Z"
   },
   {
    "duration": 73,
    "start_time": "2022-06-12T14:07:03.985Z"
   },
   {
    "duration": 4,
    "start_time": "2022-06-12T14:07:06.502Z"
   },
   {
    "duration": 74,
    "start_time": "2022-06-12T14:08:31.822Z"
   },
   {
    "duration": 5,
    "start_time": "2022-06-12T14:08:32.581Z"
   },
   {
    "duration": 2,
    "start_time": "2022-06-12T14:20:23.019Z"
   },
   {
    "duration": 77,
    "start_time": "2022-06-12T14:20:37.727Z"
   },
   {
    "duration": 11,
    "start_time": "2022-06-12T14:20:43.367Z"
   },
   {
    "duration": 6,
    "start_time": "2022-06-12T14:21:31.100Z"
   },
   {
    "duration": 5,
    "start_time": "2022-06-12T14:21:36.395Z"
   },
   {
    "duration": 3,
    "start_time": "2022-06-12T14:28:12.758Z"
   },
   {
    "duration": 120,
    "start_time": "2022-06-12T14:28:26.071Z"
   },
   {
    "duration": 118,
    "start_time": "2022-06-12T14:32:59.163Z"
   },
   {
    "duration": 113,
    "start_time": "2022-06-12T14:33:16.362Z"
   },
   {
    "duration": 128,
    "start_time": "2022-06-12T14:34:14.328Z"
   },
   {
    "duration": 547,
    "start_time": "2022-06-12T14:34:29.540Z"
   },
   {
    "duration": 109,
    "start_time": "2022-06-12T14:34:30.089Z"
   },
   {
    "duration": 673,
    "start_time": "2022-06-12T14:34:30.200Z"
   },
   {
    "duration": 3,
    "start_time": "2022-06-12T14:34:30.875Z"
   },
   {
    "duration": 82,
    "start_time": "2022-06-12T14:34:30.880Z"
   },
   {
    "duration": 79,
    "start_time": "2022-06-12T14:34:30.964Z"
   },
   {
    "duration": 11,
    "start_time": "2022-06-12T14:34:31.045Z"
   },
   {
    "duration": 86,
    "start_time": "2022-06-12T14:34:31.058Z"
   },
   {
    "duration": 4,
    "start_time": "2022-06-12T14:34:31.146Z"
   },
   {
    "duration": 88,
    "start_time": "2022-06-12T14:34:31.152Z"
   },
   {
    "duration": 4,
    "start_time": "2022-06-12T14:34:31.242Z"
   },
   {
    "duration": 171,
    "start_time": "2022-06-12T14:34:31.248Z"
   },
   {
    "duration": 68,
    "start_time": "2022-06-12T14:34:45.043Z"
   },
   {
    "duration": 8,
    "start_time": "2022-06-12T14:34:50.987Z"
   },
   {
    "duration": 101,
    "start_time": "2022-06-12T14:50:41.305Z"
   },
   {
    "duration": 124,
    "start_time": "2022-06-12T14:51:07.555Z"
   },
   {
    "duration": 104,
    "start_time": "2022-06-12T14:51:18.047Z"
   },
   {
    "duration": 118,
    "start_time": "2022-06-12T14:53:01.612Z"
   },
   {
    "duration": 111,
    "start_time": "2022-06-12T14:53:22.175Z"
   },
   {
    "duration": 104,
    "start_time": "2022-06-12T14:58:49.727Z"
   },
   {
    "duration": 9,
    "start_time": "2022-06-12T14:58:50.848Z"
   },
   {
    "duration": 104,
    "start_time": "2022-06-12T14:59:13.292Z"
   },
   {
    "duration": 97,
    "start_time": "2022-06-12T14:59:25.456Z"
   },
   {
    "duration": 83,
    "start_time": "2022-06-12T14:59:37.170Z"
   },
   {
    "duration": 7,
    "start_time": "2022-06-12T14:59:39.484Z"
   },
   {
    "duration": 67,
    "start_time": "2022-06-12T15:00:40.128Z"
   },
   {
    "duration": 6,
    "start_time": "2022-06-12T15:00:41.667Z"
   },
   {
    "duration": 68,
    "start_time": "2022-06-12T15:01:31.647Z"
   },
   {
    "duration": 8,
    "start_time": "2022-06-12T15:01:32.557Z"
   },
   {
    "duration": 100,
    "start_time": "2022-06-12T15:02:25.664Z"
   },
   {
    "duration": 68,
    "start_time": "2022-06-12T15:02:41.551Z"
   },
   {
    "duration": 8,
    "start_time": "2022-06-12T15:02:42.950Z"
   },
   {
    "duration": 108,
    "start_time": "2022-06-12T15:08:33.528Z"
   },
   {
    "duration": 111,
    "start_time": "2022-06-12T15:10:33.819Z"
   },
   {
    "duration": 97,
    "start_time": "2022-06-12T15:10:48.178Z"
   },
   {
    "duration": 126,
    "start_time": "2022-06-12T15:11:03.898Z"
   },
   {
    "duration": 105,
    "start_time": "2022-06-12T15:11:18.946Z"
   },
   {
    "duration": 101,
    "start_time": "2022-06-12T15:14:11.627Z"
   },
   {
    "duration": 69,
    "start_time": "2022-06-12T15:14:18.729Z"
   },
   {
    "duration": 7,
    "start_time": "2022-06-12T15:14:26.050Z"
   },
   {
    "duration": 77,
    "start_time": "2022-06-12T15:14:35.082Z"
   },
   {
    "duration": 9,
    "start_time": "2022-06-12T15:14:36.274Z"
   },
   {
    "duration": 91,
    "start_time": "2022-06-12T15:15:12.847Z"
   },
   {
    "duration": 8,
    "start_time": "2022-06-12T15:15:13.881Z"
   },
   {
    "duration": 99,
    "start_time": "2022-06-12T15:16:02.503Z"
   },
   {
    "duration": 103,
    "start_time": "2022-06-12T15:16:31.110Z"
   },
   {
    "duration": 97,
    "start_time": "2022-06-12T15:17:17.886Z"
   },
   {
    "duration": 109,
    "start_time": "2022-06-12T15:17:27.444Z"
   },
   {
    "duration": 121,
    "start_time": "2022-06-12T15:17:39.994Z"
   },
   {
    "duration": 99,
    "start_time": "2022-06-12T15:18:14.781Z"
   },
   {
    "duration": 100,
    "start_time": "2022-06-12T15:18:40.164Z"
   },
   {
    "duration": 69,
    "start_time": "2022-06-12T15:18:51.824Z"
   },
   {
    "duration": 9,
    "start_time": "2022-06-12T15:18:54.777Z"
   },
   {
    "duration": 113,
    "start_time": "2022-06-12T15:19:51.919Z"
   },
   {
    "duration": 100,
    "start_time": "2022-06-12T15:20:11.146Z"
   },
   {
    "duration": 96,
    "start_time": "2022-06-12T15:20:41.798Z"
   },
   {
    "duration": 107,
    "start_time": "2022-06-12T15:24:24.376Z"
   },
   {
    "duration": 99,
    "start_time": "2022-06-12T15:24:40.027Z"
   },
   {
    "duration": 105,
    "start_time": "2022-06-12T15:27:26.025Z"
   },
   {
    "duration": 103,
    "start_time": "2022-06-12T15:30:29.409Z"
   },
   {
    "duration": 72,
    "start_time": "2022-06-12T15:30:51.834Z"
   },
   {
    "duration": 7,
    "start_time": "2022-06-12T15:30:54.322Z"
   },
   {
    "duration": 71,
    "start_time": "2022-06-12T15:32:30.937Z"
   },
   {
    "duration": 7,
    "start_time": "2022-06-12T15:32:31.841Z"
   },
   {
    "duration": 71,
    "start_time": "2022-06-12T15:33:22.408Z"
   },
   {
    "duration": 4,
    "start_time": "2022-06-12T15:33:23.112Z"
   },
   {
    "duration": 110,
    "start_time": "2022-06-12T16:03:03.934Z"
   },
   {
    "duration": 108,
    "start_time": "2022-06-12T16:03:22.773Z"
   },
   {
    "duration": 114,
    "start_time": "2022-06-12T16:04:01.491Z"
   },
   {
    "duration": 134,
    "start_time": "2022-06-12T16:05:03.075Z"
   },
   {
    "duration": 835,
    "start_time": "2022-06-12T16:05:19.556Z"
   },
   {
    "duration": 8,
    "start_time": "2022-06-12T16:05:22.122Z"
   },
   {
    "duration": 107,
    "start_time": "2022-06-12T16:09:27.631Z"
   },
   {
    "duration": 3316,
    "start_time": "2022-06-12T16:10:12.861Z"
   },
   {
    "duration": 22,
    "start_time": "2022-06-12T16:10:25.062Z"
   },
   {
    "duration": 216,
    "start_time": "2022-06-12T16:12:42.901Z"
   },
   {
    "duration": 118,
    "start_time": "2022-06-12T16:26:28.439Z"
   },
   {
    "duration": 123,
    "start_time": "2022-06-12T16:26:52.125Z"
   },
   {
    "duration": 90,
    "start_time": "2022-06-12T16:27:47.093Z"
   },
   {
    "duration": 8,
    "start_time": "2022-06-12T16:27:49.783Z"
   },
   {
    "duration": 1061,
    "start_time": "2022-06-12T16:28:32.499Z"
   },
   {
    "duration": 11,
    "start_time": "2022-06-12T16:28:33.563Z"
   },
   {
    "duration": 81,
    "start_time": "2022-06-12T16:28:38.788Z"
   },
   {
    "duration": 5,
    "start_time": "2022-06-12T16:28:39.637Z"
   },
   {
    "duration": 82,
    "start_time": "2022-06-12T16:32:10.934Z"
   },
   {
    "duration": 9,
    "start_time": "2022-06-12T16:32:11.772Z"
   },
   {
    "duration": 77,
    "start_time": "2022-06-12T16:32:19.032Z"
   },
   {
    "duration": 6,
    "start_time": "2022-06-12T16:32:19.598Z"
   },
   {
    "duration": 85,
    "start_time": "2022-06-12T16:32:30.622Z"
   },
   {
    "duration": 4,
    "start_time": "2022-06-12T16:34:19.337Z"
   },
   {
    "duration": 477,
    "start_time": "2022-06-13T11:02:31.094Z"
   },
   {
    "duration": 52,
    "start_time": "2022-06-13T11:02:31.573Z"
   },
   {
    "duration": 159,
    "start_time": "2022-06-13T11:02:31.627Z"
   },
   {
    "duration": 13,
    "start_time": "2022-06-13T11:02:31.794Z"
   },
   {
    "duration": 13,
    "start_time": "2022-06-13T11:02:31.811Z"
   },
   {
    "duration": 20,
    "start_time": "2022-06-13T11:02:31.825Z"
   },
   {
    "duration": 10,
    "start_time": "2022-06-13T11:02:31.847Z"
   },
   {
    "duration": 9,
    "start_time": "2022-06-13T11:02:31.859Z"
   },
   {
    "duration": 4,
    "start_time": "2022-06-13T11:02:31.870Z"
   },
   {
    "duration": 1297,
    "start_time": "2022-06-13T11:02:31.876Z"
   },
   {
    "duration": 3,
    "start_time": "2022-06-13T11:02:33.175Z"
   },
   {
    "duration": 12,
    "start_time": "2022-06-13T11:02:33.180Z"
   },
   {
    "duration": 4,
    "start_time": "2022-06-13T11:02:33.193Z"
   },
   {
    "duration": 1874,
    "start_time": "2022-06-13T11:04:02.368Z"
   },
   {
    "duration": 9,
    "start_time": "2022-06-13T11:04:04.978Z"
   },
   {
    "duration": 102,
    "start_time": "2022-06-13T11:06:06.448Z"
   },
   {
    "duration": 49,
    "start_time": "2022-06-13T11:06:27.025Z"
   },
   {
    "duration": 25,
    "start_time": "2022-06-13T11:06:33.811Z"
   },
   {
    "duration": 10,
    "start_time": "2022-06-13T11:06:35.513Z"
   },
   {
    "duration": 4,
    "start_time": "2022-06-13T11:08:57.255Z"
   },
   {
    "duration": 543,
    "start_time": "2022-06-27T18:51:51.924Z"
   },
   {
    "duration": 13029,
    "start_time": "2022-06-27T18:51:52.469Z"
   },
   {
    "duration": 215,
    "start_time": "2022-06-27T18:52:05.500Z"
   },
   {
    "duration": 2,
    "start_time": "2022-06-27T18:52:05.717Z"
   },
   {
    "duration": 38,
    "start_time": "2022-06-27T18:52:05.721Z"
   },
   {
    "duration": 19,
    "start_time": "2022-06-27T18:52:05.761Z"
   },
   {
    "duration": 10,
    "start_time": "2022-06-27T18:52:05.782Z"
   },
   {
    "duration": 9,
    "start_time": "2022-06-27T18:52:05.794Z"
   },
   {
    "duration": 4,
    "start_time": "2022-06-27T18:52:05.805Z"
   },
   {
    "duration": 12,
    "start_time": "2022-06-27T18:52:05.811Z"
   },
   {
    "duration": 12,
    "start_time": "2022-06-27T18:52:05.824Z"
   },
   {
    "duration": 46,
    "start_time": "2022-06-27T18:52:05.837Z"
   },
   {
    "duration": 5,
    "start_time": "2022-06-27T18:52:05.884Z"
   },
   {
    "duration": 14,
    "start_time": "2022-06-27T18:53:16.246Z"
   },
   {
    "duration": 11,
    "start_time": "2022-06-27T18:53:18.436Z"
   },
   {
    "duration": 11,
    "start_time": "2022-06-27T18:53:24.640Z"
   },
   {
    "duration": 13,
    "start_time": "2022-06-27T18:54:06.880Z"
   },
   {
    "duration": 14,
    "start_time": "2022-06-27T18:54:10.502Z"
   },
   {
    "duration": 9,
    "start_time": "2022-06-27T18:55:23.332Z"
   },
   {
    "duration": 598,
    "start_time": "2022-06-28T03:31:47.007Z"
   },
   {
    "duration": 5966,
    "start_time": "2022-06-28T03:31:47.608Z"
   },
   {
    "duration": 720,
    "start_time": "2022-06-28T03:31:53.580Z"
   },
   {
    "duration": 3,
    "start_time": "2022-06-28T03:31:54.302Z"
   },
   {
    "duration": 84,
    "start_time": "2022-06-28T03:31:54.307Z"
   },
   {
    "duration": 86,
    "start_time": "2022-06-28T03:31:54.393Z"
   },
   {
    "duration": 11,
    "start_time": "2022-06-28T03:31:54.481Z"
   },
   {
    "duration": 83,
    "start_time": "2022-06-28T03:31:54.494Z"
   },
   {
    "duration": 5,
    "start_time": "2022-06-28T03:31:54.579Z"
   },
   {
    "duration": 71,
    "start_time": "2022-06-28T03:31:54.585Z"
   },
   {
    "duration": 11,
    "start_time": "2022-06-28T03:31:54.658Z"
   },
   {
    "duration": 70,
    "start_time": "2022-06-28T03:31:54.675Z"
   },
   {
    "duration": 4,
    "start_time": "2022-06-28T03:31:54.747Z"
   },
   {
    "duration": 119,
    "start_time": "2022-06-28T03:32:55.601Z"
   },
   {
    "duration": 122,
    "start_time": "2022-06-28T03:33:06.403Z"
   },
   {
    "duration": 11,
    "start_time": "2022-06-28T03:33:07.932Z"
   },
   {
    "duration": 4,
    "start_time": "2022-06-28T04:38:38.701Z"
   },
   {
    "duration": 9,
    "start_time": "2022-06-28T04:38:38.707Z"
   },
   {
    "duration": 799,
    "start_time": "2022-06-28T04:38:38.718Z"
   },
   {
    "duration": 3,
    "start_time": "2022-06-28T04:38:39.520Z"
   },
   {
    "duration": 107,
    "start_time": "2022-06-28T04:38:39.525Z"
   },
   {
    "duration": 137,
    "start_time": "2022-06-28T04:38:39.634Z"
   },
   {
    "duration": 22,
    "start_time": "2022-06-28T04:38:39.773Z"
   },
   {
    "duration": 102,
    "start_time": "2022-06-28T04:38:39.798Z"
   },
   {
    "duration": 5,
    "start_time": "2022-06-28T04:38:39.902Z"
   },
   {
    "duration": 83,
    "start_time": "2022-06-28T04:38:39.909Z"
   },
   {
    "duration": 5,
    "start_time": "2022-06-28T04:38:39.994Z"
   },
   {
    "duration": 99,
    "start_time": "2022-06-28T04:38:40.003Z"
   },
   {
    "duration": 5,
    "start_time": "2022-06-28T04:38:40.105Z"
   },
   {
    "duration": 155,
    "start_time": "2022-06-28T04:43:47.596Z"
   },
   {
    "duration": 15,
    "start_time": "2022-06-28T04:43:48.692Z"
   },
   {
    "duration": 118,
    "start_time": "2022-06-28T04:43:53.707Z"
   },
   {
    "duration": 145,
    "start_time": "2022-06-28T04:45:06.792Z"
   },
   {
    "duration": 16,
    "start_time": "2022-06-28T04:45:07.642Z"
   },
   {
    "duration": 182,
    "start_time": "2022-06-28T04:45:23.920Z"
   },
   {
    "duration": 14,
    "start_time": "2022-06-28T04:45:25.629Z"
   },
   {
    "duration": 305,
    "start_time": "2022-06-28T04:45:38.252Z"
   },
   {
    "duration": 42,
    "start_time": "2022-06-28T04:45:39.056Z"
   },
   {
    "duration": 167,
    "start_time": "2022-06-28T04:47:09.248Z"
   },
   {
    "duration": 20,
    "start_time": "2022-06-28T04:47:09.953Z"
   },
   {
    "duration": 641,
    "start_time": "2022-06-28T04:48:15.984Z"
   },
   {
    "duration": 8118,
    "start_time": "2022-06-28T04:48:16.627Z"
   },
   {
    "duration": 877,
    "start_time": "2022-06-28T04:48:24.749Z"
   },
   {
    "duration": 4,
    "start_time": "2022-06-28T04:48:25.628Z"
   },
   {
    "duration": 97,
    "start_time": "2022-06-28T04:48:25.635Z"
   },
   {
    "duration": 641,
    "start_time": "2022-06-28T04:49:46.914Z"
   },
   {
    "duration": 8107,
    "start_time": "2022-06-28T04:49:47.558Z"
   },
   {
    "duration": 886,
    "start_time": "2022-06-28T04:49:55.669Z"
   },
   {
    "duration": 9,
    "start_time": "2022-06-28T04:49:56.558Z"
   },
   {
    "duration": 137,
    "start_time": "2022-06-28T04:49:56.572Z"
   },
   {
    "duration": 111,
    "start_time": "2022-06-28T04:49:56.711Z"
   },
   {
    "duration": 16,
    "start_time": "2022-06-28T04:49:56.825Z"
   },
   {
    "duration": 144,
    "start_time": "2022-06-28T04:49:56.843Z"
   },
   {
    "duration": 6,
    "start_time": "2022-06-28T04:49:56.989Z"
   },
   {
    "duration": 109,
    "start_time": "2022-06-28T04:49:56.998Z"
   },
   {
    "duration": 4,
    "start_time": "2022-06-28T04:49:57.109Z"
   },
   {
    "duration": 107,
    "start_time": "2022-06-28T04:49:57.115Z"
   },
   {
    "duration": 6,
    "start_time": "2022-06-28T04:49:57.225Z"
   },
   {
    "duration": 154,
    "start_time": "2022-06-28T04:50:38.101Z"
   },
   {
    "duration": 16,
    "start_time": "2022-06-28T04:50:39.919Z"
   },
   {
    "duration": 114,
    "start_time": "2022-06-28T04:52:08.824Z"
   },
   {
    "duration": 12,
    "start_time": "2022-06-28T04:52:10.116Z"
   },
   {
    "duration": 140,
    "start_time": "2022-06-28T04:56:38.181Z"
   },
   {
    "duration": 114,
    "start_time": "2022-06-28T04:56:57.714Z"
   },
   {
    "duration": 157,
    "start_time": "2022-06-28T04:57:51.463Z"
   },
   {
    "duration": 217,
    "start_time": "2022-06-28T04:58:25.785Z"
   },
   {
    "duration": 123,
    "start_time": "2022-06-28T04:59:18.886Z"
   },
   {
    "duration": 138,
    "start_time": "2022-06-28T05:04:50.610Z"
   },
   {
    "duration": 141,
    "start_time": "2022-06-28T05:05:04.710Z"
   },
   {
    "duration": 127,
    "start_time": "2022-06-28T05:05:29.514Z"
   },
   {
    "duration": 184,
    "start_time": "2022-06-28T05:07:44.366Z"
   },
   {
    "duration": 54,
    "start_time": "2022-06-28T05:07:46.686Z"
   },
   {
    "duration": 241,
    "start_time": "2022-06-28T05:08:07.984Z"
   },
   {
    "duration": 246,
    "start_time": "2022-06-28T05:08:31.330Z"
   },
   {
    "duration": 154,
    "start_time": "2022-06-28T05:08:47.694Z"
   },
   {
    "duration": 163,
    "start_time": "2022-06-28T05:09:59.148Z"
   },
   {
    "duration": 168,
    "start_time": "2022-06-28T05:10:05.147Z"
   },
   {
    "duration": 159,
    "start_time": "2022-06-28T05:10:48.444Z"
   },
   {
    "duration": 8,
    "start_time": "2022-06-28T05:11:17.526Z"
   },
   {
    "duration": 5,
    "start_time": "2022-06-28T05:11:30.600Z"
   },
   {
    "duration": 8,
    "start_time": "2022-06-28T05:11:47.104Z"
   },
   {
    "duration": 6,
    "start_time": "2022-06-28T05:12:06.983Z"
   },
   {
    "duration": 12,
    "start_time": "2022-06-28T05:12:28.907Z"
   },
   {
    "duration": 7,
    "start_time": "2022-06-28T05:12:35.078Z"
   },
   {
    "duration": 7,
    "start_time": "2022-06-28T05:12:49.239Z"
   },
   {
    "duration": 167,
    "start_time": "2022-06-28T05:14:51.933Z"
   },
   {
    "duration": 187,
    "start_time": "2022-06-28T05:14:52.986Z"
   },
   {
    "duration": 14,
    "start_time": "2022-06-28T05:15:01.720Z"
   },
   {
    "duration": 138,
    "start_time": "2022-06-28T05:15:33.984Z"
   },
   {
    "duration": 16,
    "start_time": "2022-06-28T05:15:36.327Z"
   },
   {
    "duration": 12,
    "start_time": "2022-06-28T05:16:03.342Z"
   },
   {
    "duration": 134,
    "start_time": "2022-06-28T05:16:38.887Z"
   },
   {
    "duration": 19,
    "start_time": "2022-06-28T05:16:39.790Z"
   },
   {
    "duration": 125,
    "start_time": "2022-06-28T05:17:09.207Z"
   },
   {
    "duration": 13,
    "start_time": "2022-06-28T05:17:09.839Z"
   },
   {
    "duration": 120,
    "start_time": "2022-06-28T05:17:15.914Z"
   },
   {
    "duration": 19,
    "start_time": "2022-06-28T05:17:16.487Z"
   },
   {
    "duration": 166,
    "start_time": "2022-06-28T05:21:11.688Z"
   },
   {
    "duration": 159,
    "start_time": "2022-06-28T05:21:20.394Z"
   },
   {
    "duration": 13,
    "start_time": "2022-06-28T05:21:36.102Z"
   },
   {
    "duration": 11,
    "start_time": "2022-06-28T05:22:36.910Z"
   },
   {
    "duration": 5,
    "start_time": "2022-06-28T05:22:47.023Z"
   },
   {
    "duration": 250,
    "start_time": "2022-06-28T05:24:59.597Z"
   },
   {
    "duration": 4,
    "start_time": "2022-06-28T05:25:30.931Z"
   },
   {
    "duration": 179,
    "start_time": "2022-06-28T05:28:06.256Z"
   },
   {
    "duration": 18,
    "start_time": "2022-06-28T05:28:07.220Z"
   },
   {
    "duration": 268,
    "start_time": "2022-06-28T05:28:32.983Z"
   },
   {
    "duration": 231,
    "start_time": "2022-06-28T05:28:38.774Z"
   },
   {
    "duration": 137,
    "start_time": "2022-06-28T05:28:43.345Z"
   },
   {
    "duration": 14,
    "start_time": "2022-06-28T05:28:46.094Z"
   },
   {
    "duration": 159,
    "start_time": "2022-06-28T05:29:13.653Z"
   },
   {
    "duration": 23,
    "start_time": "2022-06-28T05:29:14.778Z"
   },
   {
    "duration": 157,
    "start_time": "2022-06-28T05:30:31.348Z"
   },
   {
    "duration": 11,
    "start_time": "2022-06-28T05:30:32.715Z"
   },
   {
    "duration": 127,
    "start_time": "2022-06-28T05:31:13.322Z"
   },
   {
    "duration": 10,
    "start_time": "2022-06-28T05:31:14.609Z"
   },
   {
    "duration": 410,
    "start_time": "2022-06-28T06:30:06.436Z"
   },
   {
    "duration": 6,
    "start_time": "2022-06-28T06:30:21.909Z"
   },
   {
    "duration": 28,
    "start_time": "2022-06-28T06:30:21.921Z"
   },
   {
    "duration": 1305,
    "start_time": "2022-06-28T06:30:21.952Z"
   },
   {
    "duration": 13,
    "start_time": "2022-06-28T06:30:23.261Z"
   },
   {
    "duration": 223,
    "start_time": "2022-06-28T06:30:23.279Z"
   },
   {
    "duration": 136,
    "start_time": "2022-06-28T06:30:23.509Z"
   },
   {
    "duration": 268,
    "start_time": "2022-06-28T06:30:23.647Z"
   },
   {
    "duration": 0,
    "start_time": "2022-06-28T06:30:23.918Z"
   },
   {
    "duration": 0,
    "start_time": "2022-06-28T06:30:23.920Z"
   },
   {
    "duration": 0,
    "start_time": "2022-06-28T06:30:23.921Z"
   },
   {
    "duration": 0,
    "start_time": "2022-06-28T06:30:23.923Z"
   },
   {
    "duration": 0,
    "start_time": "2022-06-28T06:30:23.924Z"
   },
   {
    "duration": 0,
    "start_time": "2022-06-28T06:30:23.926Z"
   },
   {
    "duration": 0,
    "start_time": "2022-06-28T06:30:23.928Z"
   },
   {
    "duration": 0,
    "start_time": "2022-06-28T06:30:23.929Z"
   },
   {
    "duration": 0,
    "start_time": "2022-06-28T06:30:23.933Z"
   },
   {
    "duration": 0,
    "start_time": "2022-06-28T06:30:23.935Z"
   },
   {
    "duration": 0,
    "start_time": "2022-06-28T06:30:23.937Z"
   },
   {
    "duration": 0,
    "start_time": "2022-06-28T06:30:23.938Z"
   },
   {
    "duration": 0,
    "start_time": "2022-06-28T06:30:23.940Z"
   },
   {
    "duration": 0,
    "start_time": "2022-06-28T06:30:23.941Z"
   },
   {
    "duration": 351,
    "start_time": "2022-06-28T06:30:40.683Z"
   },
   {
    "duration": 169,
    "start_time": "2022-06-28T06:30:51.613Z"
   },
   {
    "duration": 23,
    "start_time": "2022-06-28T06:30:57.684Z"
   },
   {
    "duration": 44593,
    "start_time": "2022-06-28T06:45:18.686Z"
   },
   {
    "duration": 18,
    "start_time": "2022-06-28T06:46:03.285Z"
   },
   {
    "duration": 5,
    "start_time": "2022-06-28T06:50:56.788Z"
   },
   {
    "duration": 35,
    "start_time": "2022-06-28T06:50:56.796Z"
   },
   {
    "duration": 972,
    "start_time": "2022-06-28T06:50:56.833Z"
   },
   {
    "duration": 3,
    "start_time": "2022-06-28T06:50:57.808Z"
   },
   {
    "duration": 110,
    "start_time": "2022-06-28T06:50:57.815Z"
   },
   {
    "duration": 2,
    "start_time": "2022-06-28T06:50:57.927Z"
   },
   {
    "duration": 692,
    "start_time": "2022-06-28T06:51:37.007Z"
   },
   {
    "duration": 9852,
    "start_time": "2022-06-28T06:51:37.705Z"
   },
   {
    "duration": 970,
    "start_time": "2022-06-28T06:51:47.560Z"
   },
   {
    "duration": 3,
    "start_time": "2022-06-28T06:51:48.531Z"
   },
   {
    "duration": 107,
    "start_time": "2022-06-28T06:51:48.536Z"
   },
   {
    "duration": 2,
    "start_time": "2022-06-28T06:51:48.646Z"
   },
   {
    "duration": 609,
    "start_time": "2022-06-28T06:53:22.415Z"
   },
   {
    "duration": 9026,
    "start_time": "2022-06-28T06:53:23.029Z"
   },
   {
    "duration": 982,
    "start_time": "2022-06-28T06:53:32.056Z"
   },
   {
    "duration": 3,
    "start_time": "2022-06-28T06:53:33.040Z"
   },
   {
    "duration": 112,
    "start_time": "2022-06-28T06:53:33.044Z"
   },
   {
    "duration": 8,
    "start_time": "2022-06-28T06:53:33.157Z"
   },
   {
    "duration": 7193,
    "start_time": "2022-06-28T06:53:33.166Z"
   },
   {
    "duration": 41,
    "start_time": "2022-06-28T06:53:40.364Z"
   },
   {
    "duration": 142,
    "start_time": "2022-06-28T06:53:40.411Z"
   },
   {
    "duration": 30,
    "start_time": "2022-06-28T06:53:40.556Z"
   },
   {
    "duration": 199,
    "start_time": "2022-06-28T06:53:40.588Z"
   },
   {
    "duration": 4,
    "start_time": "2022-06-28T06:53:40.796Z"
   },
   {
    "duration": 142,
    "start_time": "2022-06-28T06:53:40.801Z"
   },
   {
    "duration": 6,
    "start_time": "2022-06-28T06:53:40.945Z"
   },
   {
    "duration": 77,
    "start_time": "2022-06-28T06:53:40.953Z"
   },
   {
    "duration": 106,
    "start_time": "2022-06-28T06:53:41.032Z"
   },
   {
    "duration": 4,
    "start_time": "2022-06-28T06:53:41.140Z"
   },
   {
    "duration": 97,
    "start_time": "2022-06-28T06:53:41.146Z"
   },
   {
    "duration": 5,
    "start_time": "2022-06-28T06:53:41.245Z"
   },
   {
    "duration": 88,
    "start_time": "2022-06-28T06:53:41.252Z"
   },
   {
    "duration": 4,
    "start_time": "2022-06-28T06:53:41.342Z"
   },
   {
    "duration": 306,
    "start_time": "2022-06-28T06:54:00.585Z"
   },
   {
    "duration": 117,
    "start_time": "2022-06-28T06:54:12.551Z"
   },
   {
    "duration": 31,
    "start_time": "2022-06-28T06:54:14.455Z"
   },
   {
    "duration": 142,
    "start_time": "2022-06-28T06:54:25.072Z"
   },
   {
    "duration": 11,
    "start_time": "2022-06-28T06:54:25.708Z"
   },
   {
    "duration": 218,
    "start_time": "2022-06-28T06:59:13.508Z"
   },
   {
    "duration": 12,
    "start_time": "2022-06-28T06:59:50.477Z"
   },
   {
    "duration": 7,
    "start_time": "2022-06-28T07:00:33.924Z"
   },
   {
    "duration": 422,
    "start_time": "2022-06-28T07:01:39.600Z"
   },
   {
    "duration": 12,
    "start_time": "2022-06-28T07:02:03.333Z"
   },
   {
    "duration": 6,
    "start_time": "2022-06-28T07:02:10.531Z"
   },
   {
    "duration": 9,
    "start_time": "2022-06-28T07:02:22.990Z"
   },
   {
    "duration": 8,
    "start_time": "2022-06-28T07:02:33.420Z"
   },
   {
    "duration": 11,
    "start_time": "2022-06-28T07:03:22.837Z"
   },
   {
    "duration": 56,
    "start_time": "2022-06-28T07:03:58.575Z"
   },
   {
    "duration": 10,
    "start_time": "2022-06-28T07:04:12.125Z"
   },
   {
    "duration": 350,
    "start_time": "2022-06-28T07:12:26.207Z"
   },
   {
    "duration": 16,
    "start_time": "2022-06-28T07:12:26.693Z"
   },
   {
    "duration": 50,
    "start_time": "2022-06-28T07:27:17.260Z"
   },
   {
    "duration": 18,
    "start_time": "2022-06-28T07:27:26.533Z"
   },
   {
    "duration": 198,
    "start_time": "2022-06-28T07:34:57.345Z"
   },
   {
    "duration": 8,
    "start_time": "2022-06-28T07:35:08.214Z"
   },
   {
    "duration": 5,
    "start_time": "2022-06-28T07:39:01.317Z"
   },
   {
    "duration": 6,
    "start_time": "2022-06-28T07:39:30.013Z"
   },
   {
    "duration": 510,
    "start_time": "2022-06-28T14:02:20.518Z"
   },
   {
    "duration": 9450,
    "start_time": "2022-06-28T14:02:21.030Z"
   },
   {
    "duration": 220,
    "start_time": "2022-06-28T14:02:30.482Z"
   },
   {
    "duration": 3,
    "start_time": "2022-06-28T14:02:30.704Z"
   },
   {
    "duration": 20,
    "start_time": "2022-06-28T14:02:30.709Z"
   },
   {
    "duration": 48,
    "start_time": "2022-06-28T14:02:30.731Z"
   },
   {
    "duration": 6,
    "start_time": "2022-06-28T14:02:30.781Z"
   },
   {
    "duration": 31,
    "start_time": "2022-06-28T14:02:30.789Z"
   },
   {
    "duration": 11,
    "start_time": "2022-06-28T14:02:30.822Z"
   },
   {
    "duration": 19,
    "start_time": "2022-06-28T14:02:30.834Z"
   },
   {
    "duration": 4,
    "start_time": "2022-06-28T14:02:30.855Z"
   },
   {
    "duration": 26,
    "start_time": "2022-06-28T14:02:30.860Z"
   },
   {
    "duration": 24,
    "start_time": "2022-06-28T14:02:30.888Z"
   },
   {
    "duration": 13,
    "start_time": "2022-06-28T14:02:30.914Z"
   },
   {
    "duration": 12,
    "start_time": "2022-06-28T14:02:30.928Z"
   },
   {
    "duration": 17,
    "start_time": "2022-06-28T14:02:30.941Z"
   },
   {
    "duration": 5,
    "start_time": "2022-06-28T14:02:30.960Z"
   },
   {
    "duration": 87,
    "start_time": "2022-06-28T14:02:56.230Z"
   },
   {
    "duration": 9,
    "start_time": "2022-06-28T14:03:41.010Z"
   },
   {
    "duration": 13,
    "start_time": "2022-06-28T14:03:49.569Z"
   },
   {
    "duration": 22,
    "start_time": "2022-06-28T14:14:10.012Z"
   },
   {
    "duration": 11,
    "start_time": "2022-06-28T14:14:10.911Z"
   },
   {
    "duration": 18,
    "start_time": "2022-06-28T14:14:29.075Z"
   },
   {
    "duration": 12,
    "start_time": "2022-06-28T14:14:30.041Z"
   },
   {
    "duration": 501,
    "start_time": "2022-06-28T14:19:57.952Z"
   },
   {
    "duration": 19655,
    "start_time": "2022-06-28T14:19:58.455Z"
   },
   {
    "duration": 195,
    "start_time": "2022-06-28T14:20:18.111Z"
   },
   {
    "duration": 3,
    "start_time": "2022-06-28T14:20:18.308Z"
   },
   {
    "duration": 22,
    "start_time": "2022-06-28T14:20:18.313Z"
   },
   {
    "duration": 40,
    "start_time": "2022-06-28T14:20:18.337Z"
   },
   {
    "duration": 9,
    "start_time": "2022-06-28T14:20:18.379Z"
   },
   {
    "duration": 20,
    "start_time": "2022-06-28T14:20:18.390Z"
   },
   {
    "duration": 12,
    "start_time": "2022-06-28T14:20:18.412Z"
   },
   {
    "duration": 10,
    "start_time": "2022-06-28T14:20:18.442Z"
   },
   {
    "duration": 5,
    "start_time": "2022-06-28T14:20:18.453Z"
   },
   {
    "duration": 13,
    "start_time": "2022-06-28T14:20:18.460Z"
   },
   {
    "duration": 5,
    "start_time": "2022-06-28T14:20:18.474Z"
   },
   {
    "duration": 12,
    "start_time": "2022-06-28T14:20:18.482Z"
   },
   {
    "duration": 4,
    "start_time": "2022-06-28T14:20:18.496Z"
   }
  ],
  "kernelspec": {
   "display_name": "Python 3 (ipykernel)",
   "language": "python",
   "name": "python3"
  },
  "language_info": {
   "codemirror_mode": {
    "name": "ipython",
    "version": 3
   },
   "file_extension": ".py",
   "mimetype": "text/x-python",
   "name": "python",
   "nbconvert_exporter": "python",
   "pygments_lexer": "ipython3",
   "version": "3.9.5"
  },
  "toc": {
   "base_numbering": 1,
   "nav_menu": {},
   "number_sections": true,
   "sideBar": true,
   "skip_h1_title": true,
   "title_cell": "Table of Contents",
   "title_sidebar": "Contents",
   "toc_cell": true,
   "toc_position": {},
   "toc_section_display": true,
   "toc_window_display": true
  }
 },
 "nbformat": 4,
 "nbformat_minor": 5
}
