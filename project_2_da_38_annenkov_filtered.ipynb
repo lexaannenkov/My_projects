{
 "cells": [
  {
   "cell_type": "markdown",
   "metadata": {},
   "source": [
    "# Исследование надёжности заёмщиков\n",
    "\n",
    "Заказчик — кредитный отдел банка. Нужно разобраться, влияет ли семейное положение и количество детей клиента на факт погашения кредита в срок. Входные данные от банка — статистика о платёжеспособности клиентов.\n",
    "\n",
    "Результаты исследования будут учтены при построении модели **кредитного скоринга** — специальной системы, которая оценивает способность потенциального заёмщика вернуть кредит банку."
   ]
  },
  {
   "cell_type": "markdown",
   "metadata": {},
   "source": [
    "## Шаг 1. Откройте файл с данными и изучите общую информацию"
   ]
  },
  {
   "cell_type": "markdown",
   "metadata": {},
   "source": [
    "### Обзор данных"
   ]
  },
  {
   "cell_type": "markdown",
   "metadata": {},
   "source": [
    "Основной инструмент аналитика — `pandas`. Импортируйте эту библиотеку."
   ]
  },
  {
   "cell_type": "code",
   "execution_count": 1,
   "metadata": {},
   "outputs": [],
   "source": [
    "import pandas as pd    #импорт библиотеки pandas как pd"
   ]
  },
  {
   "cell_type": "code",
   "execution_count": 2,
   "metadata": {},
   "outputs": [],
   "source": [
    "data = pd.read_csv('data.csv')    # чтение файла с данными и сохранение в data"
   ]
  },
  {
   "cell_type": "code",
   "execution_count": 3,
   "metadata": {},
   "outputs": [
    {
     "data": {
      "text/html": [
       "<div>\n",
       "<style scoped>\n",
       "    .dataframe tbody tr th:only-of-type {\n",
       "        vertical-align: middle;\n",
       "    }\n",
       "\n",
       "    .dataframe tbody tr th {\n",
       "        vertical-align: top;\n",
       "    }\n",
       "\n",
       "    .dataframe thead th {\n",
       "        text-align: right;\n",
       "    }\n",
       "</style>\n",
       "<table border=\"1\" class=\"dataframe\">\n",
       "  <thead>\n",
       "    <tr style=\"text-align: right;\">\n",
       "      <th></th>\n",
       "      <th>children</th>\n",
       "      <th>days_employed</th>\n",
       "      <th>dob_years</th>\n",
       "      <th>education</th>\n",
       "      <th>education_id</th>\n",
       "      <th>family_status</th>\n",
       "      <th>family_status_id</th>\n",
       "      <th>gender</th>\n",
       "      <th>income_type</th>\n",
       "      <th>debt</th>\n",
       "      <th>total_income</th>\n",
       "      <th>purpose</th>\n",
       "    </tr>\n",
       "  </thead>\n",
       "  <tbody>\n",
       "    <tr>\n",
       "      <th>0</th>\n",
       "      <td>1</td>\n",
       "      <td>-8437.673028</td>\n",
       "      <td>42</td>\n",
       "      <td>высшее</td>\n",
       "      <td>0</td>\n",
       "      <td>женат / замужем</td>\n",
       "      <td>0</td>\n",
       "      <td>F</td>\n",
       "      <td>сотрудник</td>\n",
       "      <td>0</td>\n",
       "      <td>253875.639453</td>\n",
       "      <td>покупка жилья</td>\n",
       "    </tr>\n",
       "    <tr>\n",
       "      <th>1</th>\n",
       "      <td>1</td>\n",
       "      <td>-4024.803754</td>\n",
       "      <td>36</td>\n",
       "      <td>среднее</td>\n",
       "      <td>1</td>\n",
       "      <td>женат / замужем</td>\n",
       "      <td>0</td>\n",
       "      <td>F</td>\n",
       "      <td>сотрудник</td>\n",
       "      <td>0</td>\n",
       "      <td>112080.014102</td>\n",
       "      <td>приобретение автомобиля</td>\n",
       "    </tr>\n",
       "    <tr>\n",
       "      <th>2</th>\n",
       "      <td>0</td>\n",
       "      <td>-5623.422610</td>\n",
       "      <td>33</td>\n",
       "      <td>Среднее</td>\n",
       "      <td>1</td>\n",
       "      <td>женат / замужем</td>\n",
       "      <td>0</td>\n",
       "      <td>M</td>\n",
       "      <td>сотрудник</td>\n",
       "      <td>0</td>\n",
       "      <td>145885.952297</td>\n",
       "      <td>покупка жилья</td>\n",
       "    </tr>\n",
       "    <tr>\n",
       "      <th>3</th>\n",
       "      <td>3</td>\n",
       "      <td>-4124.747207</td>\n",
       "      <td>32</td>\n",
       "      <td>среднее</td>\n",
       "      <td>1</td>\n",
       "      <td>женат / замужем</td>\n",
       "      <td>0</td>\n",
       "      <td>M</td>\n",
       "      <td>сотрудник</td>\n",
       "      <td>0</td>\n",
       "      <td>267628.550329</td>\n",
       "      <td>дополнительное образование</td>\n",
       "    </tr>\n",
       "    <tr>\n",
       "      <th>4</th>\n",
       "      <td>0</td>\n",
       "      <td>340266.072047</td>\n",
       "      <td>53</td>\n",
       "      <td>среднее</td>\n",
       "      <td>1</td>\n",
       "      <td>гражданский брак</td>\n",
       "      <td>1</td>\n",
       "      <td>F</td>\n",
       "      <td>пенсионер</td>\n",
       "      <td>0</td>\n",
       "      <td>158616.077870</td>\n",
       "      <td>сыграть свадьбу</td>\n",
       "    </tr>\n",
       "    <tr>\n",
       "      <th>5</th>\n",
       "      <td>0</td>\n",
       "      <td>-926.185831</td>\n",
       "      <td>27</td>\n",
       "      <td>высшее</td>\n",
       "      <td>0</td>\n",
       "      <td>гражданский брак</td>\n",
       "      <td>1</td>\n",
       "      <td>M</td>\n",
       "      <td>компаньон</td>\n",
       "      <td>0</td>\n",
       "      <td>255763.565419</td>\n",
       "      <td>покупка жилья</td>\n",
       "    </tr>\n",
       "    <tr>\n",
       "      <th>6</th>\n",
       "      <td>0</td>\n",
       "      <td>-2879.202052</td>\n",
       "      <td>43</td>\n",
       "      <td>высшее</td>\n",
       "      <td>0</td>\n",
       "      <td>женат / замужем</td>\n",
       "      <td>0</td>\n",
       "      <td>F</td>\n",
       "      <td>компаньон</td>\n",
       "      <td>0</td>\n",
       "      <td>240525.971920</td>\n",
       "      <td>операции с жильем</td>\n",
       "    </tr>\n",
       "    <tr>\n",
       "      <th>7</th>\n",
       "      <td>0</td>\n",
       "      <td>-152.779569</td>\n",
       "      <td>50</td>\n",
       "      <td>СРЕДНЕЕ</td>\n",
       "      <td>1</td>\n",
       "      <td>женат / замужем</td>\n",
       "      <td>0</td>\n",
       "      <td>M</td>\n",
       "      <td>сотрудник</td>\n",
       "      <td>0</td>\n",
       "      <td>135823.934197</td>\n",
       "      <td>образование</td>\n",
       "    </tr>\n",
       "    <tr>\n",
       "      <th>8</th>\n",
       "      <td>2</td>\n",
       "      <td>-6929.865299</td>\n",
       "      <td>35</td>\n",
       "      <td>ВЫСШЕЕ</td>\n",
       "      <td>0</td>\n",
       "      <td>гражданский брак</td>\n",
       "      <td>1</td>\n",
       "      <td>F</td>\n",
       "      <td>сотрудник</td>\n",
       "      <td>0</td>\n",
       "      <td>95856.832424</td>\n",
       "      <td>на проведение свадьбы</td>\n",
       "    </tr>\n",
       "    <tr>\n",
       "      <th>9</th>\n",
       "      <td>0</td>\n",
       "      <td>-2188.756445</td>\n",
       "      <td>41</td>\n",
       "      <td>среднее</td>\n",
       "      <td>1</td>\n",
       "      <td>женат / замужем</td>\n",
       "      <td>0</td>\n",
       "      <td>M</td>\n",
       "      <td>сотрудник</td>\n",
       "      <td>0</td>\n",
       "      <td>144425.938277</td>\n",
       "      <td>покупка жилья для семьи</td>\n",
       "    </tr>\n",
       "    <tr>\n",
       "      <th>10</th>\n",
       "      <td>2</td>\n",
       "      <td>-4171.483647</td>\n",
       "      <td>36</td>\n",
       "      <td>высшее</td>\n",
       "      <td>0</td>\n",
       "      <td>женат / замужем</td>\n",
       "      <td>0</td>\n",
       "      <td>M</td>\n",
       "      <td>компаньон</td>\n",
       "      <td>0</td>\n",
       "      <td>113943.491460</td>\n",
       "      <td>покупка недвижимости</td>\n",
       "    </tr>\n",
       "    <tr>\n",
       "      <th>11</th>\n",
       "      <td>0</td>\n",
       "      <td>-792.701887</td>\n",
       "      <td>40</td>\n",
       "      <td>среднее</td>\n",
       "      <td>1</td>\n",
       "      <td>женат / замужем</td>\n",
       "      <td>0</td>\n",
       "      <td>F</td>\n",
       "      <td>сотрудник</td>\n",
       "      <td>0</td>\n",
       "      <td>77069.234271</td>\n",
       "      <td>покупка коммерческой недвижимости</td>\n",
       "    </tr>\n",
       "    <tr>\n",
       "      <th>12</th>\n",
       "      <td>0</td>\n",
       "      <td>NaN</td>\n",
       "      <td>65</td>\n",
       "      <td>среднее</td>\n",
       "      <td>1</td>\n",
       "      <td>гражданский брак</td>\n",
       "      <td>1</td>\n",
       "      <td>M</td>\n",
       "      <td>пенсионер</td>\n",
       "      <td>0</td>\n",
       "      <td>NaN</td>\n",
       "      <td>сыграть свадьбу</td>\n",
       "    </tr>\n",
       "    <tr>\n",
       "      <th>13</th>\n",
       "      <td>0</td>\n",
       "      <td>-1846.641941</td>\n",
       "      <td>54</td>\n",
       "      <td>неоконченное высшее</td>\n",
       "      <td>2</td>\n",
       "      <td>женат / замужем</td>\n",
       "      <td>0</td>\n",
       "      <td>F</td>\n",
       "      <td>сотрудник</td>\n",
       "      <td>0</td>\n",
       "      <td>130458.228857</td>\n",
       "      <td>приобретение автомобиля</td>\n",
       "    </tr>\n",
       "    <tr>\n",
       "      <th>14</th>\n",
       "      <td>0</td>\n",
       "      <td>-1844.956182</td>\n",
       "      <td>56</td>\n",
       "      <td>высшее</td>\n",
       "      <td>0</td>\n",
       "      <td>гражданский брак</td>\n",
       "      <td>1</td>\n",
       "      <td>F</td>\n",
       "      <td>компаньон</td>\n",
       "      <td>1</td>\n",
       "      <td>165127.911772</td>\n",
       "      <td>покупка жилой недвижимости</td>\n",
       "    </tr>\n",
       "    <tr>\n",
       "      <th>15</th>\n",
       "      <td>1</td>\n",
       "      <td>-972.364419</td>\n",
       "      <td>26</td>\n",
       "      <td>среднее</td>\n",
       "      <td>1</td>\n",
       "      <td>женат / замужем</td>\n",
       "      <td>0</td>\n",
       "      <td>F</td>\n",
       "      <td>сотрудник</td>\n",
       "      <td>0</td>\n",
       "      <td>116820.904450</td>\n",
       "      <td>строительство собственной недвижимости</td>\n",
       "    </tr>\n",
       "    <tr>\n",
       "      <th>16</th>\n",
       "      <td>0</td>\n",
       "      <td>-1719.934226</td>\n",
       "      <td>35</td>\n",
       "      <td>среднее</td>\n",
       "      <td>1</td>\n",
       "      <td>женат / замужем</td>\n",
       "      <td>0</td>\n",
       "      <td>F</td>\n",
       "      <td>сотрудник</td>\n",
       "      <td>0</td>\n",
       "      <td>289202.704229</td>\n",
       "      <td>недвижимость</td>\n",
       "    </tr>\n",
       "    <tr>\n",
       "      <th>17</th>\n",
       "      <td>0</td>\n",
       "      <td>-2369.999720</td>\n",
       "      <td>33</td>\n",
       "      <td>высшее</td>\n",
       "      <td>0</td>\n",
       "      <td>гражданский брак</td>\n",
       "      <td>1</td>\n",
       "      <td>M</td>\n",
       "      <td>сотрудник</td>\n",
       "      <td>0</td>\n",
       "      <td>90410.586745</td>\n",
       "      <td>строительство недвижимости</td>\n",
       "    </tr>\n",
       "    <tr>\n",
       "      <th>18</th>\n",
       "      <td>0</td>\n",
       "      <td>400281.136913</td>\n",
       "      <td>53</td>\n",
       "      <td>среднее</td>\n",
       "      <td>1</td>\n",
       "      <td>вдовец / вдова</td>\n",
       "      <td>2</td>\n",
       "      <td>F</td>\n",
       "      <td>пенсионер</td>\n",
       "      <td>0</td>\n",
       "      <td>56823.777243</td>\n",
       "      <td>на покупку подержанного автомобиля</td>\n",
       "    </tr>\n",
       "    <tr>\n",
       "      <th>19</th>\n",
       "      <td>0</td>\n",
       "      <td>-10038.818549</td>\n",
       "      <td>48</td>\n",
       "      <td>СРЕДНЕЕ</td>\n",
       "      <td>1</td>\n",
       "      <td>в разводе</td>\n",
       "      <td>3</td>\n",
       "      <td>F</td>\n",
       "      <td>сотрудник</td>\n",
       "      <td>0</td>\n",
       "      <td>242831.107982</td>\n",
       "      <td>на покупку своего автомобиля</td>\n",
       "    </tr>\n",
       "    <tr>\n",
       "      <th>20</th>\n",
       "      <td>1</td>\n",
       "      <td>-1311.604166</td>\n",
       "      <td>36</td>\n",
       "      <td>среднее</td>\n",
       "      <td>1</td>\n",
       "      <td>женат / замужем</td>\n",
       "      <td>0</td>\n",
       "      <td>M</td>\n",
       "      <td>сотрудник</td>\n",
       "      <td>0</td>\n",
       "      <td>209552.644578</td>\n",
       "      <td>недвижимость</td>\n",
       "    </tr>\n",
       "    <tr>\n",
       "      <th>21</th>\n",
       "      <td>1</td>\n",
       "      <td>-253.685166</td>\n",
       "      <td>33</td>\n",
       "      <td>среднее</td>\n",
       "      <td>1</td>\n",
       "      <td>гражданский брак</td>\n",
       "      <td>1</td>\n",
       "      <td>F</td>\n",
       "      <td>сотрудник</td>\n",
       "      <td>0</td>\n",
       "      <td>131812.203909</td>\n",
       "      <td>приобретение автомобиля</td>\n",
       "    </tr>\n",
       "    <tr>\n",
       "      <th>22</th>\n",
       "      <td>1</td>\n",
       "      <td>-1766.644138</td>\n",
       "      <td>24</td>\n",
       "      <td>среднее</td>\n",
       "      <td>1</td>\n",
       "      <td>гражданский брак</td>\n",
       "      <td>1</td>\n",
       "      <td>F</td>\n",
       "      <td>сотрудник</td>\n",
       "      <td>0</td>\n",
       "      <td>149681.140731</td>\n",
       "      <td>на покупку подержанного автомобиля</td>\n",
       "    </tr>\n",
       "    <tr>\n",
       "      <th>23</th>\n",
       "      <td>0</td>\n",
       "      <td>-272.981385</td>\n",
       "      <td>21</td>\n",
       "      <td>высшее</td>\n",
       "      <td>0</td>\n",
       "      <td>гражданский брак</td>\n",
       "      <td>1</td>\n",
       "      <td>M</td>\n",
       "      <td>сотрудник</td>\n",
       "      <td>0</td>\n",
       "      <td>128265.720871</td>\n",
       "      <td>сыграть свадьбу</td>\n",
       "    </tr>\n",
       "    <tr>\n",
       "      <th>24</th>\n",
       "      <td>1</td>\n",
       "      <td>338551.952911</td>\n",
       "      <td>57</td>\n",
       "      <td>среднее</td>\n",
       "      <td>1</td>\n",
       "      <td>Не женат / не замужем</td>\n",
       "      <td>4</td>\n",
       "      <td>F</td>\n",
       "      <td>пенсионер</td>\n",
       "      <td>0</td>\n",
       "      <td>290547.235997</td>\n",
       "      <td>операции с коммерческой недвижимостью</td>\n",
       "    </tr>\n",
       "    <tr>\n",
       "      <th>25</th>\n",
       "      <td>0</td>\n",
       "      <td>363548.489348</td>\n",
       "      <td>67</td>\n",
       "      <td>среднее</td>\n",
       "      <td>1</td>\n",
       "      <td>женат / замужем</td>\n",
       "      <td>0</td>\n",
       "      <td>M</td>\n",
       "      <td>пенсионер</td>\n",
       "      <td>0</td>\n",
       "      <td>55112.757732</td>\n",
       "      <td>покупка недвижимости</td>\n",
       "    </tr>\n",
       "    <tr>\n",
       "      <th>26</th>\n",
       "      <td>0</td>\n",
       "      <td>NaN</td>\n",
       "      <td>41</td>\n",
       "      <td>среднее</td>\n",
       "      <td>1</td>\n",
       "      <td>женат / замужем</td>\n",
       "      <td>0</td>\n",
       "      <td>M</td>\n",
       "      <td>госслужащий</td>\n",
       "      <td>0</td>\n",
       "      <td>NaN</td>\n",
       "      <td>образование</td>\n",
       "    </tr>\n",
       "    <tr>\n",
       "      <th>27</th>\n",
       "      <td>0</td>\n",
       "      <td>-529.191635</td>\n",
       "      <td>28</td>\n",
       "      <td>высшее</td>\n",
       "      <td>0</td>\n",
       "      <td>женат / замужем</td>\n",
       "      <td>0</td>\n",
       "      <td>M</td>\n",
       "      <td>сотрудник</td>\n",
       "      <td>0</td>\n",
       "      <td>308848.983691</td>\n",
       "      <td>строительство собственной недвижимости</td>\n",
       "    </tr>\n",
       "    <tr>\n",
       "      <th>28</th>\n",
       "      <td>1</td>\n",
       "      <td>-717.274324</td>\n",
       "      <td>26</td>\n",
       "      <td>высшее</td>\n",
       "      <td>0</td>\n",
       "      <td>женат / замужем</td>\n",
       "      <td>0</td>\n",
       "      <td>F</td>\n",
       "      <td>сотрудник</td>\n",
       "      <td>0</td>\n",
       "      <td>187863.237306</td>\n",
       "      <td>строительство собственной недвижимости</td>\n",
       "    </tr>\n",
       "    <tr>\n",
       "      <th>29</th>\n",
       "      <td>0</td>\n",
       "      <td>NaN</td>\n",
       "      <td>63</td>\n",
       "      <td>среднее</td>\n",
       "      <td>1</td>\n",
       "      <td>Не женат / не замужем</td>\n",
       "      <td>4</td>\n",
       "      <td>F</td>\n",
       "      <td>пенсионер</td>\n",
       "      <td>0</td>\n",
       "      <td>NaN</td>\n",
       "      <td>строительство жилой недвижимости</td>\n",
       "    </tr>\n",
       "  </tbody>\n",
       "</table>\n",
       "</div>"
      ],
      "text/plain": [
       "    children  days_employed  dob_years            education  education_id  \\\n",
       "0          1   -8437.673028         42               высшее             0   \n",
       "1          1   -4024.803754         36              среднее             1   \n",
       "2          0   -5623.422610         33              Среднее             1   \n",
       "3          3   -4124.747207         32              среднее             1   \n",
       "4          0  340266.072047         53              среднее             1   \n",
       "5          0    -926.185831         27               высшее             0   \n",
       "6          0   -2879.202052         43               высшее             0   \n",
       "7          0    -152.779569         50              СРЕДНЕЕ             1   \n",
       "8          2   -6929.865299         35               ВЫСШЕЕ             0   \n",
       "9          0   -2188.756445         41              среднее             1   \n",
       "10         2   -4171.483647         36               высшее             0   \n",
       "11         0    -792.701887         40              среднее             1   \n",
       "12         0            NaN         65              среднее             1   \n",
       "13         0   -1846.641941         54  неоконченное высшее             2   \n",
       "14         0   -1844.956182         56               высшее             0   \n",
       "15         1    -972.364419         26              среднее             1   \n",
       "16         0   -1719.934226         35              среднее             1   \n",
       "17         0   -2369.999720         33               высшее             0   \n",
       "18         0  400281.136913         53              среднее             1   \n",
       "19         0  -10038.818549         48              СРЕДНЕЕ             1   \n",
       "20         1   -1311.604166         36              среднее             1   \n",
       "21         1    -253.685166         33              среднее             1   \n",
       "22         1   -1766.644138         24              среднее             1   \n",
       "23         0    -272.981385         21               высшее             0   \n",
       "24         1  338551.952911         57              среднее             1   \n",
       "25         0  363548.489348         67              среднее             1   \n",
       "26         0            NaN         41              среднее             1   \n",
       "27         0    -529.191635         28               высшее             0   \n",
       "28         1    -717.274324         26               высшее             0   \n",
       "29         0            NaN         63              среднее             1   \n",
       "\n",
       "            family_status  family_status_id gender  income_type  debt  \\\n",
       "0         женат / замужем                 0      F    сотрудник     0   \n",
       "1         женат / замужем                 0      F    сотрудник     0   \n",
       "2         женат / замужем                 0      M    сотрудник     0   \n",
       "3         женат / замужем                 0      M    сотрудник     0   \n",
       "4        гражданский брак                 1      F    пенсионер     0   \n",
       "5        гражданский брак                 1      M    компаньон     0   \n",
       "6         женат / замужем                 0      F    компаньон     0   \n",
       "7         женат / замужем                 0      M    сотрудник     0   \n",
       "8        гражданский брак                 1      F    сотрудник     0   \n",
       "9         женат / замужем                 0      M    сотрудник     0   \n",
       "10        женат / замужем                 0      M    компаньон     0   \n",
       "11        женат / замужем                 0      F    сотрудник     0   \n",
       "12       гражданский брак                 1      M    пенсионер     0   \n",
       "13        женат / замужем                 0      F    сотрудник     0   \n",
       "14       гражданский брак                 1      F    компаньон     1   \n",
       "15        женат / замужем                 0      F    сотрудник     0   \n",
       "16        женат / замужем                 0      F    сотрудник     0   \n",
       "17       гражданский брак                 1      M    сотрудник     0   \n",
       "18         вдовец / вдова                 2      F    пенсионер     0   \n",
       "19              в разводе                 3      F    сотрудник     0   \n",
       "20        женат / замужем                 0      M    сотрудник     0   \n",
       "21       гражданский брак                 1      F    сотрудник     0   \n",
       "22       гражданский брак                 1      F    сотрудник     0   \n",
       "23       гражданский брак                 1      M    сотрудник     0   \n",
       "24  Не женат / не замужем                 4      F    пенсионер     0   \n",
       "25        женат / замужем                 0      M    пенсионер     0   \n",
       "26        женат / замужем                 0      M  госслужащий     0   \n",
       "27        женат / замужем                 0      M    сотрудник     0   \n",
       "28        женат / замужем                 0      F    сотрудник     0   \n",
       "29  Не женат / не замужем                 4      F    пенсионер     0   \n",
       "\n",
       "     total_income                                 purpose  \n",
       "0   253875.639453                           покупка жилья  \n",
       "1   112080.014102                 приобретение автомобиля  \n",
       "2   145885.952297                           покупка жилья  \n",
       "3   267628.550329              дополнительное образование  \n",
       "4   158616.077870                         сыграть свадьбу  \n",
       "5   255763.565419                           покупка жилья  \n",
       "6   240525.971920                       операции с жильем  \n",
       "7   135823.934197                             образование  \n",
       "8    95856.832424                   на проведение свадьбы  \n",
       "9   144425.938277                 покупка жилья для семьи  \n",
       "10  113943.491460                    покупка недвижимости  \n",
       "11   77069.234271       покупка коммерческой недвижимости  \n",
       "12            NaN                         сыграть свадьбу  \n",
       "13  130458.228857                 приобретение автомобиля  \n",
       "14  165127.911772              покупка жилой недвижимости  \n",
       "15  116820.904450  строительство собственной недвижимости  \n",
       "16  289202.704229                            недвижимость  \n",
       "17   90410.586745              строительство недвижимости  \n",
       "18   56823.777243      на покупку подержанного автомобиля  \n",
       "19  242831.107982            на покупку своего автомобиля  \n",
       "20  209552.644578                            недвижимость  \n",
       "21  131812.203909                 приобретение автомобиля  \n",
       "22  149681.140731      на покупку подержанного автомобиля  \n",
       "23  128265.720871                         сыграть свадьбу  \n",
       "24  290547.235997   операции с коммерческой недвижимостью  \n",
       "25   55112.757732                    покупка недвижимости  \n",
       "26            NaN                             образование  \n",
       "27  308848.983691  строительство собственной недвижимости  \n",
       "28  187863.237306  строительство собственной недвижимости  \n",
       "29            NaN        строительство жилой недвижимости  "
      ]
     },
     "execution_count": 3,
     "metadata": {},
     "output_type": "execute_result"
    }
   ],
   "source": [
    "data.head(30)    # получение первых 15 строк таблицы data"
   ]
  },
  {
   "cell_type": "code",
   "execution_count": 4,
   "metadata": {},
   "outputs": [
    {
     "name": "stdout",
     "output_type": "stream",
     "text": [
      "<class 'pandas.core.frame.DataFrame'>\n",
      "RangeIndex: 21525 entries, 0 to 21524\n",
      "Data columns (total 12 columns):\n",
      " #   Column            Non-Null Count  Dtype  \n",
      "---  ------            --------------  -----  \n",
      " 0   children          21525 non-null  int64  \n",
      " 1   days_employed     19351 non-null  float64\n",
      " 2   dob_years         21525 non-null  int64  \n",
      " 3   education         21525 non-null  object \n",
      " 4   education_id      21525 non-null  int64  \n",
      " 5   family_status     21525 non-null  object \n",
      " 6   family_status_id  21525 non-null  int64  \n",
      " 7   gender            21525 non-null  object \n",
      " 8   income_type       21525 non-null  object \n",
      " 9   debt              21525 non-null  int64  \n",
      " 10  total_income      19351 non-null  float64\n",
      " 11  purpose           21525 non-null  object \n",
      "dtypes: float64(2), int64(5), object(5)\n",
      "memory usage: 2.0+ MB\n"
     ]
    }
   ],
   "source": [
    "data.info()    # получение общей информации о данных в таблице data"
   ]
  },
  {
   "cell_type": "code",
   "execution_count": 5,
   "metadata": {},
   "outputs": [
    {
     "data": {
      "text/html": [
       "<div>\n",
       "<style scoped>\n",
       "    .dataframe tbody tr th:only-of-type {\n",
       "        vertical-align: middle;\n",
       "    }\n",
       "\n",
       "    .dataframe tbody tr th {\n",
       "        vertical-align: top;\n",
       "    }\n",
       "\n",
       "    .dataframe thead th {\n",
       "        text-align: right;\n",
       "    }\n",
       "</style>\n",
       "<table border=\"1\" class=\"dataframe\">\n",
       "  <thead>\n",
       "    <tr style=\"text-align: right;\">\n",
       "      <th></th>\n",
       "      <th>children</th>\n",
       "      <th>days_employed</th>\n",
       "      <th>dob_years</th>\n",
       "      <th>education_id</th>\n",
       "      <th>family_status_id</th>\n",
       "      <th>debt</th>\n",
       "      <th>total_income</th>\n",
       "    </tr>\n",
       "  </thead>\n",
       "  <tbody>\n",
       "    <tr>\n",
       "      <th>count</th>\n",
       "      <td>21525.000000</td>\n",
       "      <td>19351.000000</td>\n",
       "      <td>21525.000000</td>\n",
       "      <td>21525.000000</td>\n",
       "      <td>21525.000000</td>\n",
       "      <td>21525.000000</td>\n",
       "      <td>1.935100e+04</td>\n",
       "    </tr>\n",
       "    <tr>\n",
       "      <th>mean</th>\n",
       "      <td>0.538908</td>\n",
       "      <td>63046.497661</td>\n",
       "      <td>43.293380</td>\n",
       "      <td>0.817236</td>\n",
       "      <td>0.972544</td>\n",
       "      <td>0.080883</td>\n",
       "      <td>1.674223e+05</td>\n",
       "    </tr>\n",
       "    <tr>\n",
       "      <th>std</th>\n",
       "      <td>1.381587</td>\n",
       "      <td>140827.311974</td>\n",
       "      <td>12.574584</td>\n",
       "      <td>0.548138</td>\n",
       "      <td>1.420324</td>\n",
       "      <td>0.272661</td>\n",
       "      <td>1.029716e+05</td>\n",
       "    </tr>\n",
       "    <tr>\n",
       "      <th>min</th>\n",
       "      <td>-1.000000</td>\n",
       "      <td>-18388.949901</td>\n",
       "      <td>0.000000</td>\n",
       "      <td>0.000000</td>\n",
       "      <td>0.000000</td>\n",
       "      <td>0.000000</td>\n",
       "      <td>2.066726e+04</td>\n",
       "    </tr>\n",
       "    <tr>\n",
       "      <th>25%</th>\n",
       "      <td>0.000000</td>\n",
       "      <td>-2747.423625</td>\n",
       "      <td>33.000000</td>\n",
       "      <td>1.000000</td>\n",
       "      <td>0.000000</td>\n",
       "      <td>0.000000</td>\n",
       "      <td>1.030532e+05</td>\n",
       "    </tr>\n",
       "    <tr>\n",
       "      <th>50%</th>\n",
       "      <td>0.000000</td>\n",
       "      <td>-1203.369529</td>\n",
       "      <td>42.000000</td>\n",
       "      <td>1.000000</td>\n",
       "      <td>0.000000</td>\n",
       "      <td>0.000000</td>\n",
       "      <td>1.450179e+05</td>\n",
       "    </tr>\n",
       "    <tr>\n",
       "      <th>75%</th>\n",
       "      <td>1.000000</td>\n",
       "      <td>-291.095954</td>\n",
       "      <td>53.000000</td>\n",
       "      <td>1.000000</td>\n",
       "      <td>1.000000</td>\n",
       "      <td>0.000000</td>\n",
       "      <td>2.034351e+05</td>\n",
       "    </tr>\n",
       "    <tr>\n",
       "      <th>max</th>\n",
       "      <td>20.000000</td>\n",
       "      <td>401755.400475</td>\n",
       "      <td>75.000000</td>\n",
       "      <td>4.000000</td>\n",
       "      <td>4.000000</td>\n",
       "      <td>1.000000</td>\n",
       "      <td>2.265604e+06</td>\n",
       "    </tr>\n",
       "  </tbody>\n",
       "</table>\n",
       "</div>"
      ],
      "text/plain": [
       "           children  days_employed     dob_years  education_id  \\\n",
       "count  21525.000000   19351.000000  21525.000000  21525.000000   \n",
       "mean       0.538908   63046.497661     43.293380      0.817236   \n",
       "std        1.381587  140827.311974     12.574584      0.548138   \n",
       "min       -1.000000  -18388.949901      0.000000      0.000000   \n",
       "25%        0.000000   -2747.423625     33.000000      1.000000   \n",
       "50%        0.000000   -1203.369529     42.000000      1.000000   \n",
       "75%        1.000000    -291.095954     53.000000      1.000000   \n",
       "max       20.000000  401755.400475     75.000000      4.000000   \n",
       "\n",
       "       family_status_id          debt  total_income  \n",
       "count      21525.000000  21525.000000  1.935100e+04  \n",
       "mean           0.972544      0.080883  1.674223e+05  \n",
       "std            1.420324      0.272661  1.029716e+05  \n",
       "min            0.000000      0.000000  2.066726e+04  \n",
       "25%            0.000000      0.000000  1.030532e+05  \n",
       "50%            0.000000      0.000000  1.450179e+05  \n",
       "75%            1.000000      0.000000  2.034351e+05  \n",
       "max            4.000000      1.000000  2.265604e+06  "
      ]
     },
     "execution_count": 5,
     "metadata": {},
     "output_type": "execute_result"
    }
   ],
   "source": [
    "data.describe() #применение метода describe()"
   ]
  },
  {
   "cell_type": "markdown",
   "metadata": {},
   "source": [
    "**Вывод**"
   ]
  },
  {
   "cell_type": "markdown",
   "metadata": {},
   "source": [
    "В таблице 12 столбцов, в некоторых столбцах тип данных — `object`, в других - `float64` и `int64`"
   ]
  },
  {
   "cell_type": "markdown",
   "metadata": {},
   "source": [
    "Согласно документации к данным:\n",
    "* `children` — количество детей в семье;\n",
    "* `days_employed` — общий трудовой стаж в днях;  \n",
    "* `dob_years` — возраст клиента в годах;\n",
    "* `education` — уровень образования клиента;\n",
    "* `yeducation_id` — идентификатор уровня образования;\n",
    "* `family_status` — семейное положение;\n",
    "* `family_status_id` — идентификатор семейного положения.\n",
    "* `gender` — пол клиента;\n",
    "* `income_type` — тип занятости;  \n",
    "* `debt` — имел ли задолженность по возврату кредитов;\n",
    "* `total_income` — ежемесячный доход;\n",
    "* `purpose` — цель получения кредита;\n",
    "\n",
    "В колонке `education` разный регистр, в колонке `days_employed` встречаются отрицательные значения.\n",
    "Количество значений в столбцах различается. Значит, в данных есть пропущенные значения."
   ]
  },
  {
   "cell_type": "markdown",
   "metadata": {},
   "source": [
    "## Шаг 2. Предобработка данных"
   ]
  },
  {
   "cell_type": "markdown",
   "metadata": {},
   "source": [
    "### Обработка пропусков"
   ]
  },
  {
   "cell_type": "markdown",
   "metadata": {},
   "source": [
    "Посчитаем количество пропусков в каждом столбце методом isna()."
   ]
  },
  {
   "cell_type": "code",
   "execution_count": 6,
   "metadata": {},
   "outputs": [
    {
     "data": {
      "text/plain": [
       "children               0\n",
       "days_employed       2174\n",
       "dob_years              0\n",
       "education              0\n",
       "education_id           0\n",
       "family_status          0\n",
       "family_status_id       0\n",
       "gender                 0\n",
       "income_type            0\n",
       "debt                   0\n",
       "total_income        2174\n",
       "purpose                0\n",
       "dtype: int64"
      ]
     },
     "execution_count": 6,
     "metadata": {},
     "output_type": "execute_result"
    }
   ],
   "source": [
    "data.isna().sum()"
   ]
  },
  {
   "cell_type": "markdown",
   "metadata": {},
   "source": [
    "Обнаружены пропуски в колонках days_employed и total_income, это колличественные переменные и пропуски в таких переменных заполняются характерными значениями. Причиной возникновения пропусков может служить не раскрытие данных о доходе и стаже госслужащих, так же отсутствуют данные о пенсионерах в виду того что отсутствовал цифровой сбор информации в период их трудовой деятельности."
   ]
  },
  {
   "cell_type": "markdown",
   "metadata": {},
   "source": [
    "Заполним пропуски в колонке total_income и days_employed применением метода fillna(). Пропуски в days_employed заполним средним значением, а в total_income медианным значением, т.к. некоторые значения сильно выделяются. Медианное значение будет браться по данным сгрупированным по столбцу income_type, т.к. каждому типу занятости соответствует разный доход."
   ]
  },
  {
   "cell_type": "code",
   "execution_count": 7,
   "metadata": {},
   "outputs": [],
   "source": [
    "data['days_employed'] = data['days_employed'].abs()"
   ]
  },
  {
   "cell_type": "code",
   "execution_count": 8,
   "metadata": {},
   "outputs": [],
   "source": [
    "data['days_employed'] = data['days_employed'].fillna(data.groupby('income_type')['days_employed'].transform('mean'))\n"
   ]
  },
  {
   "cell_type": "markdown",
   "metadata": {},
   "source": [
    "<div class=\"alert alert-success\">\n",
    "<b>✔️ Комментарий ревьюера:</b> \n",
    "<br>Отличная работа! Хоть этот столбец нам и не нужен для ответа на итоговые вопросы, но круто, что ты всё равно решил с ним поработать.\n",
    "</div>"
   ]
  },
  {
   "cell_type": "code",
   "execution_count": 9,
   "metadata": {},
   "outputs": [],
   "source": [
    "data['total_income'] = data['total_income'].fillna(data.groupby('income_type')['total_income'].transform('median'))"
   ]
  },
  {
   "cell_type": "markdown",
   "metadata": {},
   "source": [
    "<div class=\"alert alert-success\">\n",
    "<b>✔️ Комментарий ревьюера:</b> \n",
    "<br>То что нужно! Это отличный способ для замены пропусков в данном случае.\n",
    "</div>"
   ]
  },
  {
   "cell_type": "markdown",
   "metadata": {},
   "source": [
    "После заполнения проверяем на пропуски."
   ]
  },
  {
   "cell_type": "code",
   "execution_count": 10,
   "metadata": {
    "scrolled": true
   },
   "outputs": [
    {
     "data": {
      "text/plain": [
       "children            0\n",
       "days_employed       0\n",
       "dob_years           0\n",
       "education           0\n",
       "education_id        0\n",
       "family_status       0\n",
       "family_status_id    0\n",
       "gender              0\n",
       "income_type         0\n",
       "debt                0\n",
       "total_income        0\n",
       "purpose             0\n",
       "dtype: int64"
      ]
     },
     "execution_count": 10,
     "metadata": {},
     "output_type": "execute_result"
    }
   ],
   "source": [
    "data.isna().sum()"
   ]
  },
  {
   "cell_type": "markdown",
   "metadata": {},
   "source": [
    "**Вывод**"
   ]
  },
  {
   "cell_type": "markdown",
   "metadata": {},
   "source": [
    "Пропусков в данных было 10%, это много и могло повлиять на выявление зависимостей."
   ]
  },
  {
   "cell_type": "markdown",
   "metadata": {},
   "source": [
    "### Замена типа данных"
   ]
  },
  {
   "cell_type": "markdown",
   "metadata": {},
   "source": [
    "Заменим тип данных в столбцах days_employed и total_income методом astype()."
   ]
  },
  {
   "cell_type": "code",
   "execution_count": 11,
   "metadata": {},
   "outputs": [],
   "source": [
    "data['days_employed'] = data['days_employed'].astype('int')"
   ]
  },
  {
   "cell_type": "code",
   "execution_count": 12,
   "metadata": {},
   "outputs": [],
   "source": [
    "data['total_income'] = data['total_income'].astype('int')"
   ]
  },
  {
   "cell_type": "markdown",
   "metadata": {},
   "source": [
    "Проверим тип данных."
   ]
  },
  {
   "cell_type": "code",
   "execution_count": 13,
   "metadata": {},
   "outputs": [
    {
     "name": "stdout",
     "output_type": "stream",
     "text": [
      "<class 'pandas.core.frame.DataFrame'>\n",
      "RangeIndex: 21525 entries, 0 to 21524\n",
      "Data columns (total 12 columns):\n",
      " #   Column            Non-Null Count  Dtype \n",
      "---  ------            --------------  ----- \n",
      " 0   children          21525 non-null  int64 \n",
      " 1   days_employed     21525 non-null  int64 \n",
      " 2   dob_years         21525 non-null  int64 \n",
      " 3   education         21525 non-null  object\n",
      " 4   education_id      21525 non-null  int64 \n",
      " 5   family_status     21525 non-null  object\n",
      " 6   family_status_id  21525 non-null  int64 \n",
      " 7   gender            21525 non-null  object\n",
      " 8   income_type       21525 non-null  object\n",
      " 9   debt              21525 non-null  int64 \n",
      " 10  total_income      21525 non-null  int64 \n",
      " 11  purpose           21525 non-null  object\n",
      "dtypes: int64(7), object(5)\n",
      "memory usage: 2.0+ MB\n"
     ]
    }
   ],
   "source": [
    "data.info()"
   ]
  },
  {
   "cell_type": "markdown",
   "metadata": {},
   "source": [
    "Тип данных float64 изменен на int64."
   ]
  },
  {
   "cell_type": "markdown",
   "metadata": {},
   "source": [
    "Приведем данные в столбце days_employed к единице измерения \"года\"."
   ]
  },
  {
   "cell_type": "code",
   "execution_count": 14,
   "metadata": {},
   "outputs": [],
   "source": [
    "data['days_employed'] = data['days_employed'] / 365    #деление количества дней стажа на 365, получение таким образом стажа в годах"
   ]
  },
  {
   "cell_type": "markdown",
   "metadata": {},
   "source": [
    "Приведем данные в столбце total_income к единице измерения \"тысяч рублей\"."
   ]
  },
  {
   "cell_type": "code",
   "execution_count": 15,
   "metadata": {},
   "outputs": [],
   "source": [
    "data['total_income'] = data['total_income'] / 1000    #деление ежемесячный доход на 1000, получение значений в тысячах рублей"
   ]
  },
  {
   "cell_type": "markdown",
   "metadata": {},
   "source": [
    "Приведем данные в столбце education к нижнему регистру."
   ]
  },
  {
   "cell_type": "code",
   "execution_count": 16,
   "metadata": {},
   "outputs": [],
   "source": [
    "data['education'] = data['education'].str.lower()"
   ]
  },
  {
   "cell_type": "markdown",
   "metadata": {},
   "source": [
    "Проверим изменеение регистра."
   ]
  },
  {
   "cell_type": "code",
   "execution_count": 17,
   "metadata": {},
   "outputs": [
    {
     "data": {
      "text/html": [
       "<div>\n",
       "<style scoped>\n",
       "    .dataframe tbody tr th:only-of-type {\n",
       "        vertical-align: middle;\n",
       "    }\n",
       "\n",
       "    .dataframe tbody tr th {\n",
       "        vertical-align: top;\n",
       "    }\n",
       "\n",
       "    .dataframe thead th {\n",
       "        text-align: right;\n",
       "    }\n",
       "</style>\n",
       "<table border=\"1\" class=\"dataframe\">\n",
       "  <thead>\n",
       "    <tr style=\"text-align: right;\">\n",
       "      <th></th>\n",
       "      <th>children</th>\n",
       "      <th>days_employed</th>\n",
       "      <th>dob_years</th>\n",
       "      <th>education</th>\n",
       "      <th>education_id</th>\n",
       "      <th>family_status</th>\n",
       "      <th>family_status_id</th>\n",
       "      <th>gender</th>\n",
       "      <th>income_type</th>\n",
       "      <th>debt</th>\n",
       "      <th>total_income</th>\n",
       "      <th>purpose</th>\n",
       "    </tr>\n",
       "  </thead>\n",
       "  <tbody>\n",
       "    <tr>\n",
       "      <th>0</th>\n",
       "      <td>1</td>\n",
       "      <td>23.115068</td>\n",
       "      <td>42</td>\n",
       "      <td>высшее</td>\n",
       "      <td>0</td>\n",
       "      <td>женат / замужем</td>\n",
       "      <td>0</td>\n",
       "      <td>F</td>\n",
       "      <td>сотрудник</td>\n",
       "      <td>0</td>\n",
       "      <td>253.875</td>\n",
       "      <td>покупка жилья</td>\n",
       "    </tr>\n",
       "    <tr>\n",
       "      <th>1</th>\n",
       "      <td>1</td>\n",
       "      <td>11.024658</td>\n",
       "      <td>36</td>\n",
       "      <td>среднее</td>\n",
       "      <td>1</td>\n",
       "      <td>женат / замужем</td>\n",
       "      <td>0</td>\n",
       "      <td>F</td>\n",
       "      <td>сотрудник</td>\n",
       "      <td>0</td>\n",
       "      <td>112.080</td>\n",
       "      <td>приобретение автомобиля</td>\n",
       "    </tr>\n",
       "    <tr>\n",
       "      <th>2</th>\n",
       "      <td>0</td>\n",
       "      <td>15.405479</td>\n",
       "      <td>33</td>\n",
       "      <td>среднее</td>\n",
       "      <td>1</td>\n",
       "      <td>женат / замужем</td>\n",
       "      <td>0</td>\n",
       "      <td>M</td>\n",
       "      <td>сотрудник</td>\n",
       "      <td>0</td>\n",
       "      <td>145.885</td>\n",
       "      <td>покупка жилья</td>\n",
       "    </tr>\n",
       "    <tr>\n",
       "      <th>3</th>\n",
       "      <td>3</td>\n",
       "      <td>11.298630</td>\n",
       "      <td>32</td>\n",
       "      <td>среднее</td>\n",
       "      <td>1</td>\n",
       "      <td>женат / замужем</td>\n",
       "      <td>0</td>\n",
       "      <td>M</td>\n",
       "      <td>сотрудник</td>\n",
       "      <td>0</td>\n",
       "      <td>267.628</td>\n",
       "      <td>дополнительное образование</td>\n",
       "    </tr>\n",
       "    <tr>\n",
       "      <th>4</th>\n",
       "      <td>0</td>\n",
       "      <td>932.235616</td>\n",
       "      <td>53</td>\n",
       "      <td>среднее</td>\n",
       "      <td>1</td>\n",
       "      <td>гражданский брак</td>\n",
       "      <td>1</td>\n",
       "      <td>F</td>\n",
       "      <td>пенсионер</td>\n",
       "      <td>0</td>\n",
       "      <td>158.616</td>\n",
       "      <td>сыграть свадьбу</td>\n",
       "    </tr>\n",
       "    <tr>\n",
       "      <th>5</th>\n",
       "      <td>0</td>\n",
       "      <td>2.536986</td>\n",
       "      <td>27</td>\n",
       "      <td>высшее</td>\n",
       "      <td>0</td>\n",
       "      <td>гражданский брак</td>\n",
       "      <td>1</td>\n",
       "      <td>M</td>\n",
       "      <td>компаньон</td>\n",
       "      <td>0</td>\n",
       "      <td>255.763</td>\n",
       "      <td>покупка жилья</td>\n",
       "    </tr>\n",
       "    <tr>\n",
       "      <th>6</th>\n",
       "      <td>0</td>\n",
       "      <td>7.887671</td>\n",
       "      <td>43</td>\n",
       "      <td>высшее</td>\n",
       "      <td>0</td>\n",
       "      <td>женат / замужем</td>\n",
       "      <td>0</td>\n",
       "      <td>F</td>\n",
       "      <td>компаньон</td>\n",
       "      <td>0</td>\n",
       "      <td>240.525</td>\n",
       "      <td>операции с жильем</td>\n",
       "    </tr>\n",
       "    <tr>\n",
       "      <th>7</th>\n",
       "      <td>0</td>\n",
       "      <td>0.416438</td>\n",
       "      <td>50</td>\n",
       "      <td>среднее</td>\n",
       "      <td>1</td>\n",
       "      <td>женат / замужем</td>\n",
       "      <td>0</td>\n",
       "      <td>M</td>\n",
       "      <td>сотрудник</td>\n",
       "      <td>0</td>\n",
       "      <td>135.823</td>\n",
       "      <td>образование</td>\n",
       "    </tr>\n",
       "    <tr>\n",
       "      <th>8</th>\n",
       "      <td>2</td>\n",
       "      <td>18.983562</td>\n",
       "      <td>35</td>\n",
       "      <td>высшее</td>\n",
       "      <td>0</td>\n",
       "      <td>гражданский брак</td>\n",
       "      <td>1</td>\n",
       "      <td>F</td>\n",
       "      <td>сотрудник</td>\n",
       "      <td>0</td>\n",
       "      <td>95.856</td>\n",
       "      <td>на проведение свадьбы</td>\n",
       "    </tr>\n",
       "    <tr>\n",
       "      <th>9</th>\n",
       "      <td>0</td>\n",
       "      <td>5.994521</td>\n",
       "      <td>41</td>\n",
       "      <td>среднее</td>\n",
       "      <td>1</td>\n",
       "      <td>женат / замужем</td>\n",
       "      <td>0</td>\n",
       "      <td>M</td>\n",
       "      <td>сотрудник</td>\n",
       "      <td>0</td>\n",
       "      <td>144.425</td>\n",
       "      <td>покупка жилья для семьи</td>\n",
       "    </tr>\n",
       "  </tbody>\n",
       "</table>\n",
       "</div>"
      ],
      "text/plain": [
       "   children  days_employed  dob_years education  education_id  \\\n",
       "0         1      23.115068         42    высшее             0   \n",
       "1         1      11.024658         36   среднее             1   \n",
       "2         0      15.405479         33   среднее             1   \n",
       "3         3      11.298630         32   среднее             1   \n",
       "4         0     932.235616         53   среднее             1   \n",
       "5         0       2.536986         27    высшее             0   \n",
       "6         0       7.887671         43    высшее             0   \n",
       "7         0       0.416438         50   среднее             1   \n",
       "8         2      18.983562         35    высшее             0   \n",
       "9         0       5.994521         41   среднее             1   \n",
       "\n",
       "      family_status  family_status_id gender income_type  debt  total_income  \\\n",
       "0   женат / замужем                 0      F   сотрудник     0       253.875   \n",
       "1   женат / замужем                 0      F   сотрудник     0       112.080   \n",
       "2   женат / замужем                 0      M   сотрудник     0       145.885   \n",
       "3   женат / замужем                 0      M   сотрудник     0       267.628   \n",
       "4  гражданский брак                 1      F   пенсионер     0       158.616   \n",
       "5  гражданский брак                 1      M   компаньон     0       255.763   \n",
       "6   женат / замужем                 0      F   компаньон     0       240.525   \n",
       "7   женат / замужем                 0      M   сотрудник     0       135.823   \n",
       "8  гражданский брак                 1      F   сотрудник     0        95.856   \n",
       "9   женат / замужем                 0      M   сотрудник     0       144.425   \n",
       "\n",
       "                      purpose  \n",
       "0               покупка жилья  \n",
       "1     приобретение автомобиля  \n",
       "2               покупка жилья  \n",
       "3  дополнительное образование  \n",
       "4             сыграть свадьбу  \n",
       "5               покупка жилья  \n",
       "6           операции с жильем  \n",
       "7                 образование  \n",
       "8       на проведение свадьбы  \n",
       "9     покупка жилья для семьи  "
      ]
     },
     "execution_count": 17,
     "metadata": {},
     "output_type": "execute_result"
    }
   ],
   "source": [
    "data.head(10)"
   ]
  },
  {
   "cell_type": "markdown",
   "metadata": {},
   "source": [
    "**Вывод**"
   ]
  },
  {
   "cell_type": "markdown",
   "metadata": {},
   "source": [
    "Изменен тип данных для применения к ним математических операций, так же значения приведены к нижнему регистру что позволит выделять категории и избежать дубликатов."
   ]
  },
  {
   "cell_type": "markdown",
   "metadata": {},
   "source": [
    "### Обработка дубликатов"
   ]
  },
  {
   "cell_type": "markdown",
   "metadata": {},
   "source": [
    "Применим метод duplicated() к датасету чтобы выявить явные дубликаты."
   ]
  },
  {
   "cell_type": "code",
   "execution_count": 18,
   "metadata": {},
   "outputs": [
    {
     "data": {
      "text/plain": [
       "71"
      ]
     },
     "execution_count": 18,
     "metadata": {},
     "output_type": "execute_result"
    }
   ],
   "source": [
    "data.duplicated().sum()"
   ]
  },
  {
   "cell_type": "markdown",
   "metadata": {},
   "source": [
    "Количество дубликатов не большое, удалим их методом drop_duplicates()."
   ]
  },
  {
   "cell_type": "code",
   "execution_count": 19,
   "metadata": {},
   "outputs": [],
   "source": [
    "data = data.drop_duplicates().reset_index(drop=True)"
   ]
  },
  {
   "cell_type": "markdown",
   "metadata": {},
   "source": [
    "Проверка на дубликаты."
   ]
  },
  {
   "cell_type": "code",
   "execution_count": 20,
   "metadata": {},
   "outputs": [
    {
     "data": {
      "text/plain": [
       "0"
      ]
     },
     "execution_count": 20,
     "metadata": {},
     "output_type": "execute_result"
    }
   ],
   "source": [
    "data.duplicated().sum()"
   ]
  },
  {
   "cell_type": "markdown",
   "metadata": {},
   "source": [
    "**Вывод** "
   ]
  },
  {
   "cell_type": "markdown",
   "metadata": {},
   "source": [
    "Удалили дубликаты с сохранением индексации для дальнейшего исследования."
   ]
  },
  {
   "cell_type": "markdown",
   "metadata": {},
   "source": [
    "### Лемматизация"
   ]
  },
  {
   "cell_type": "markdown",
   "metadata": {},
   "source": [
    "Цели кредита все разные, но бывают совпадения, применим метод лемматизации библиоеки pymystem3? чтобы выделить леммы."
   ]
  },
  {
   "cell_type": "code",
   "execution_count": 21,
   "metadata": {},
   "outputs": [],
   "source": [
    "from pymystem3 import Mystem\n",
    "m = Mystem()\n",
    "data['lemma_purpose'] = data['purpose'].apply(m.lemmatize)"
   ]
  },
  {
   "cell_type": "code",
   "execution_count": 22,
   "metadata": {},
   "outputs": [
    {
     "ename": "TypeError",
     "evalue": "unhashable type: 'list'",
     "output_type": "error",
     "traceback": [
      "\u001b[0;31m---------------------------------------------------------------------------\u001b[0m",
      "\u001b[0;31mTypeError\u001b[0m                                 Traceback (most recent call last)",
      "\u001b[0;32mpandas/_libs/hashtable_class_helper.pxi\u001b[0m in \u001b[0;36mpandas._libs.hashtable.PyObjectHashTable.map_locations\u001b[0;34m()\u001b[0m\n",
      "\u001b[0;31mTypeError\u001b[0m: unhashable type: 'list'"
     ]
    },
    {
     "name": "stderr",
     "output_type": "stream",
     "text": [
      "Exception ignored in: 'pandas._libs.index.IndexEngine._call_map_locations'\n",
      "Traceback (most recent call last):\n",
      "  File \"pandas/_libs/hashtable_class_helper.pxi\", line 4588, in pandas._libs.hashtable.PyObjectHashTable.map_locations\n",
      "TypeError: unhashable type: 'list'\n"
     ]
    },
    {
     "data": {
      "text/plain": [
       "[автомобиль, \\n]                                          972\n",
       "[свадьба, \\n]                                             791\n",
       "[на,  , проведение,  , свадьба, \\n]                       768\n",
       "[сыграть,  , свадьба, \\n]                                 765\n",
       "[операция,  , с,  , недвижимость, \\n]                     675\n",
       "[покупка,  , коммерческий,  , недвижимость, \\n]           661\n",
       "[операция,  , с,  , жилье, \\n]                            652\n",
       "[покупка,  , жилье,  , для,  , сдача, \\n]                 651\n",
       "[операция,  , с,  , коммерческий,  , недвижимость, \\n]    650\n",
       "[покупка,  , жилье, \\n]                                   646\n",
       "[жилье, \\n]                                               646\n",
       "[покупка,  , жилье,  , для,  , семья, \\n]                 638\n",
       "[строительство,  , собственный,  , недвижимость, \\n]      635\n",
       "[недвижимость, \\n]                                        633\n",
       "[операция,  , со,  , свой,  , недвижимость, \\n]           627\n",
       "[строительство,  , жилой,  , недвижимость, \\n]            624\n",
       "[покупка,  , недвижимость, \\n]                            621\n",
       "[покупка,  , свой,  , жилье, \\n]                          620\n",
       "[строительство,  , недвижимость, \\n]                      619\n",
       "[ремонт,  , жилье, \\n]                                    607\n",
       "[покупка,  , жилой,  , недвижимость, \\n]                  606\n",
       "[на,  , покупка,  , свой,  , автомобиль, \\n]              505\n",
       "[заниматься,  , высокий,  , образование, \\n]              496\n",
       "[сделка,  , с,  , подержанный,  , автомобиль, \\n]         486\n",
       "[на,  , покупка,  , подержать,  , автомобиль, \\n]         478\n",
       "[свой,  , автомобиль, \\n]                                 478\n",
       "[на,  , покупка,  , автомобиль, \\n]                       471\n",
       "[приобретение,  , автомобиль, \\n]                         461\n",
       "[дополнительный,  , образование, \\n]                      460\n",
       "[сделка,  , с,  , автомобиль, \\n]                         455\n",
       "[высокий,  , образование, \\n]                             452\n",
       "[образование, \\n]                                         447\n",
       "[получение,  , дополнительный,  , образование, \\n]        446\n",
       "[получение,  , образование, \\n]                           442\n",
       "[профильный,  , образование, \\n]                          436\n",
       "[получение,  , высокий,  , образование, \\n]               426\n",
       "[заниматься,  , образование, \\n]                          408\n",
       "Name: lemma_purpose, dtype: int64"
      ]
     },
     "execution_count": 22,
     "metadata": {},
     "output_type": "execute_result"
    }
   ],
   "source": [
    "data['lemma_purpose'].value_counts()"
   ]
  },
  {
   "cell_type": "markdown",
   "metadata": {},
   "source": [
    "**Вывод** "
   ]
  },
  {
   "cell_type": "markdown",
   "metadata": {},
   "source": [
    "С помощью лемматизации выявили основные леммы: автомобиль, жилье, недвижимость, свадьба, образование. По этим леммам будем категоризировать данные."
   ]
  },
  {
   "cell_type": "markdown",
   "metadata": {},
   "source": [
    "### Категоризация данных"
   ]
  },
  {
   "cell_type": "markdown",
   "metadata": {},
   "source": [
    "Категоризируем данные, для дальнейшей группиворки их по целям кредита. Для этого применим функцию для одной строки."
   ]
  },
  {
   "cell_type": "code",
   "execution_count": 23,
   "metadata": {},
   "outputs": [],
   "source": [
    "def purpose_credit(row):\n",
    "    \n",
    "    lemma_purpose = row['lemma_purpose']\n",
    "    \n",
    "    if 'автомобиль' in lemma_purpose:\n",
    "        return 'автомобиль'\n",
    "    if 'свадьба' in lemma_purpose:\n",
    "        return 'свадьба'\n",
    "    if ('жилье' in lemma_purpose) or ('недвижимость' in lemma_purpose):\n",
    "        return 'недвижимость'\n",
    "    if 'образование' in lemma_purpose:\n",
    "        return 'образование'\n",
    "    \n",
    "data['cat_purpose'] = data.apply(purpose_credit, axis=1)\n"
   ]
  },
  {
   "cell_type": "markdown",
   "metadata": {},
   "source": [
    "Проверим результат."
   ]
  },
  {
   "cell_type": "code",
   "execution_count": 24,
   "metadata": {},
   "outputs": [
    {
     "data": {
      "text/plain": [
       "0     недвижимость\n",
       "1       автомобиль\n",
       "2     недвижимость\n",
       "3      образование\n",
       "4          свадьба\n",
       "5     недвижимость\n",
       "6     недвижимость\n",
       "7      образование\n",
       "8          свадьба\n",
       "9     недвижимость\n",
       "10    недвижимость\n",
       "11    недвижимость\n",
       "12         свадьба\n",
       "13      автомобиль\n",
       "14    недвижимость\n",
       "Name: cat_purpose, dtype: object"
      ]
     },
     "execution_count": 24,
     "metadata": {},
     "output_type": "execute_result"
    }
   ],
   "source": [
    "data['cat_purpose'].head(15)"
   ]
  },
  {
   "cell_type": "markdown",
   "metadata": {},
   "source": [
    "**Вывод**"
   ]
  },
  {
   "cell_type": "markdown",
   "metadata": {},
   "source": [
    "Благодаря категоризации данных получили новый столбец, с помощью которого сможем оценить зависимоть как разные цели кредита влияют на его возврат в срок."
   ]
  },
  {
   "cell_type": "markdown",
   "metadata": {},
   "source": [
    "## Шаг 3. Ответьте на вопросы"
   ]
  },
  {
   "cell_type": "markdown",
   "metadata": {},
   "source": [
    "- Есть ли зависимость между наличием детей и возвратом кредита в срок?"
   ]
  },
  {
   "cell_type": "markdown",
   "metadata": {},
   "source": [
    "Посчитаем зависимость по двум категориям с детьси и без детей."
   ]
  },
  {
   "cell_type": "code",
   "execution_count": 25,
   "metadata": {},
   "outputs": [
    {
     "data": {
      "text/plain": [
       " 0     14091\n",
       " 1      4808\n",
       " 2      2052\n",
       " 3       330\n",
       " 20       76\n",
       "-1        47\n",
       " 4        41\n",
       " 5         9\n",
       "Name: children, dtype: int64"
      ]
     },
     "execution_count": 25,
     "metadata": {},
     "output_type": "execute_result"
    }
   ],
   "source": [
    "data['children'].value_counts()"
   ]
  },
  {
   "cell_type": "markdown",
   "metadata": {},
   "source": [
    "В данных обнаружено что 47 человек имеют минус одного ребенка, осправим методом abs(), который возвращает модуль числа."
   ]
  },
  {
   "cell_type": "code",
   "execution_count": 26,
   "metadata": {},
   "outputs": [],
   "source": [
    "data['children'] = data['children'].abs()"
   ]
  },
  {
   "cell_type": "code",
   "execution_count": 27,
   "metadata": {},
   "outputs": [],
   "source": [
    "children_debt = data[['children', 'debt']]\n",
    "\n",
    "no_one_children = children_debt[children_debt['children'] == 0]['children'].count()    # колическтво людей без детей\n",
    "no_one_children_convr = children_debt[(children_debt['children'] == 0) & (children_debt['debt'] == 1)]['children'].count() / no_one_children    # конверсия по категории без детей\n",
    "\n",
    "several_children = children_debt[children_debt['children'] > 0]['children'].count()    # количество людей с детьми\n",
    "several_children_convr = children_debt[(children_debt['children'] > 0) & (children_debt['debt'] == 1)]['children'].count() / several_children    # конверсия по категории с детьми"
   ]
  },
  {
   "cell_type": "code",
   "execution_count": 28,
   "metadata": {},
   "outputs": [
    {
     "data": {
      "text/plain": [
       "'Процент просрочки по кредиту категории без детей : 7.54%'"
      ]
     },
     "metadata": {},
     "output_type": "display_data"
    },
    {
     "data": {
      "text/plain": [
       "'Процент просрочки по кредиту категории с детьми : 9.21%'"
      ]
     },
     "metadata": {},
     "output_type": "display_data"
    }
   ],
   "source": [
    "display('Процент просрочки по кредиту категории без детей : {:.2%}'.format(no_one_children_convr))\n",
    "display('Процент просрочки по кредиту категории с детьми : {:.2%}'.format(several_children_convr))"
   ]
  },
  {
   "cell_type": "markdown",
   "metadata": {},
   "source": [
    "Аналогичный метод."
   ]
  },
  {
   "cell_type": "code",
   "execution_count": 29,
   "metadata": {},
   "outputs": [
    {
     "data": {
      "text/plain": [
       "children\n",
       "0      7.543822\n",
       "1      9.165808\n",
       "2      9.454191\n",
       "3      8.181818\n",
       "4      9.756098\n",
       "5      0.000000\n",
       "20    10.526316\n",
       "Name: debt, dtype: float64"
      ]
     },
     "execution_count": 29,
     "metadata": {},
     "output_type": "execute_result"
    }
   ],
   "source": [
    "children_debt_group = data.groupby('children')['debt'].mean()*100\n",
    "children_debt_group"
   ]
  },
  {
   "cell_type": "markdown",
   "metadata": {},
   "source": [
    "**Вывод** "
   ]
  },
  {
   "cell_type": "markdown",
   "metadata": {},
   "source": [
    "Категория людей с детьми имеет больше просрочек по кредиту, что логично исходя из того что у них больше потребностей. Так же в данной выборке у людей с 5 детьми нет просрочек вообще."
   ]
  },
  {
   "cell_type": "markdown",
   "metadata": {},
   "source": [
    "- Есть ли зависимость между семейным положением и возвратом кредита в срок?"
   ]
  },
  {
   "cell_type": "markdown",
   "metadata": {},
   "source": [
    "Выведем основные категории колонки family_status."
   ]
  },
  {
   "cell_type": "code",
   "execution_count": 30,
   "metadata": {},
   "outputs": [
    {
     "data": {
      "text/plain": [
       "array(['женат / замужем', 'гражданский брак', 'вдовец / вдова',\n",
       "       'в разводе', 'Не женат / не замужем'], dtype=object)"
      ]
     },
     "execution_count": 30,
     "metadata": {},
     "output_type": "execute_result"
    }
   ],
   "source": [
    "data['family_status'].unique()"
   ]
  },
  {
   "cell_type": "markdown",
   "metadata": {},
   "source": [
    "Получили 5 основных категории по которым и будем проводить расчет."
   ]
  },
  {
   "cell_type": "code",
   "execution_count": 31,
   "metadata": {},
   "outputs": [],
   "source": [
    "family_debt = data[['family_status', 'debt']]\n",
    "\n",
    "married = family_debt[(family_debt['family_status'] == 'женат / замужем')]['family_status'].count()\n",
    "married_convr = family_debt[(family_debt['family_status'] == 'женат / замужем') & (family_debt['debt'] == 1)]['family_status'].count() / married\n",
    "\n",
    "no_married = family_debt[(family_debt['family_status'] == 'Не женат / не замужем')]['family_status'].count() \n",
    "no_married_convr = family_debt[(family_debt['family_status'] == 'Не женат / не замужем') & (family_debt['debt'] == 1)]['family_status'].count() / no_married\n",
    "\n",
    "civil_marriage = family_debt[(family_debt['family_status'] == 'гражданский брак')]['family_status'].count()\n",
    "civil_marriage_convr = family_debt[(family_debt['family_status'] == 'гражданский брак') & (family_debt['debt'] == 1)]['family_status'].count() / civil_marriage\n",
    "\n",
    "divorced = family_debt[(family_debt['family_status'] == 'в разводе')]['family_status'].count() \n",
    "divorced_convr = family_debt[(family_debt['family_status'] == 'в разводе') & (family_debt['debt'] == 1)]['family_status'].count() / divorced\n",
    "\n",
    "widow = family_debt[(family_debt['family_status'] == 'вдовец / вдова')]['family_status'].count() \n",
    "widow_convr = family_debt[(family_debt['family_status'] == 'вдовец / вдова') & (family_debt['debt'] == 1)]['family_status'].count() / widow"
   ]
  },
  {
   "cell_type": "code",
   "execution_count": 32,
   "metadata": {},
   "outputs": [
    {
     "data": {
      "text/plain": [
       "'Процент просрочки по кредиту категории женат / замужем : 7.55%'"
      ]
     },
     "metadata": {},
     "output_type": "display_data"
    },
    {
     "data": {
      "text/plain": [
       "'Процент просрочки по кредиту категории не женат / не замужем : 9.75%'"
      ]
     },
     "metadata": {},
     "output_type": "display_data"
    },
    {
     "data": {
      "text/plain": [
       "'Процент просрочки по кредиту категории гражданский брак : 9.35%'"
      ]
     },
     "metadata": {},
     "output_type": "display_data"
    },
    {
     "data": {
      "text/plain": [
       "'Процент просрочки по кредиту категории в разводе : 7.11%'"
      ]
     },
     "metadata": {},
     "output_type": "display_data"
    },
    {
     "data": {
      "text/plain": [
       "'Процент просрочки по кредиту категории в вдовец / вдова : 6.57%'"
      ]
     },
     "metadata": {},
     "output_type": "display_data"
    }
   ],
   "source": [
    "display('Процент просрочки по кредиту категории женат / замужем : {:.2%}'.format(married_convr))\n",
    "display('Процент просрочки по кредиту категории не женат / не замужем : {:.2%}'.format(no_married_convr))\n",
    "display('Процент просрочки по кредиту категории гражданский брак : {:.2%}'.format(civil_marriage_convr))\n",
    "display('Процент просрочки по кредиту категории в разводе : {:.2%}'.format(divorced_convr))\n",
    "display('Процент просрочки по кредиту категории в вдовец / вдова : {:.2%}'.format(widow_convr))"
   ]
  },
  {
   "cell_type": "markdown",
   "metadata": {},
   "source": [
    "Выведем сводную таблицу, методом pivot_table() "
   ]
  },
  {
   "cell_type": "code",
   "execution_count": 33,
   "metadata": {},
   "outputs": [],
   "source": [
    "data_pivot = data.pivot_table(index=['family_status'], columns='debt', values='family_status_id', aggfunc='count')\n",
    "data_pivot['% просрочки'] = (data_pivot[1] / (data_pivot[0] + data_pivot[1]))*100"
   ]
  },
  {
   "cell_type": "code",
   "execution_count": 34,
   "metadata": {},
   "outputs": [
    {
     "data": {
      "text/html": [
       "<style  type=\"text/css\" >\n",
       "</style><table id=\"T_0c014_\" ><thead>    <tr>        <th class=\"index_name level0\" >debt</th>        <th class=\"col_heading level0 col0\" >0</th>        <th class=\"col_heading level0 col1\" >1</th>        <th class=\"col_heading level0 col2\" >% просрочки</th>    </tr>    <tr>        <th class=\"index_name level0\" >family_status</th>        <th class=\"blank\" ></th>        <th class=\"blank\" ></th>        <th class=\"blank\" ></th>    </tr></thead><tbody>\n",
       "                <tr>\n",
       "                        <th id=\"T_0c014_level0_row0\" class=\"row_heading level0 row0\" >Не женат / не замужем</th>\n",
       "                        <td id=\"T_0c014_row0_col0\" class=\"data row0 col0\" >2536</td>\n",
       "                        <td id=\"T_0c014_row0_col1\" class=\"data row0 col1\" >274</td>\n",
       "                        <td id=\"T_0c014_row0_col2\" class=\"data row0 col2\" >9.75%</td>\n",
       "            </tr>\n",
       "            <tr>\n",
       "                        <th id=\"T_0c014_level0_row1\" class=\"row_heading level0 row1\" >в разводе</th>\n",
       "                        <td id=\"T_0c014_row1_col0\" class=\"data row1 col0\" >1110</td>\n",
       "                        <td id=\"T_0c014_row1_col1\" class=\"data row1 col1\" >85</td>\n",
       "                        <td id=\"T_0c014_row1_col2\" class=\"data row1 col2\" >7.11%</td>\n",
       "            </tr>\n",
       "            <tr>\n",
       "                        <th id=\"T_0c014_level0_row2\" class=\"row_heading level0 row2\" >вдовец / вдова</th>\n",
       "                        <td id=\"T_0c014_row2_col0\" class=\"data row2 col0\" >896</td>\n",
       "                        <td id=\"T_0c014_row2_col1\" class=\"data row2 col1\" >63</td>\n",
       "                        <td id=\"T_0c014_row2_col2\" class=\"data row2 col2\" >6.57%</td>\n",
       "            </tr>\n",
       "            <tr>\n",
       "                        <th id=\"T_0c014_level0_row3\" class=\"row_heading level0 row3\" >гражданский брак</th>\n",
       "                        <td id=\"T_0c014_row3_col0\" class=\"data row3 col0\" >3763</td>\n",
       "                        <td id=\"T_0c014_row3_col1\" class=\"data row3 col1\" >388</td>\n",
       "                        <td id=\"T_0c014_row3_col2\" class=\"data row3 col2\" >9.35%</td>\n",
       "            </tr>\n",
       "            <tr>\n",
       "                        <th id=\"T_0c014_level0_row4\" class=\"row_heading level0 row4\" >женат / замужем</th>\n",
       "                        <td id=\"T_0c014_row4_col0\" class=\"data row4 col0\" >11408</td>\n",
       "                        <td id=\"T_0c014_row4_col1\" class=\"data row4 col1\" >931</td>\n",
       "                        <td id=\"T_0c014_row4_col2\" class=\"data row4 col2\" >7.55%</td>\n",
       "            </tr>\n",
       "    </tbody></table>"
      ],
      "text/plain": [
       "<pandas.io.formats.style.Styler at 0x7f9439c34520>"
      ]
     },
     "execution_count": 34,
     "metadata": {},
     "output_type": "execute_result"
    }
   ],
   "source": [
    "data_pivot.style.format({'% просрочки':'{:.2f}%'})"
   ]
  },
  {
   "cell_type": "markdown",
   "metadata": {},
   "source": [
    "Из расчетов следует, что семейное положение влияет на своевременное покрытие долговых обязательств. Ответственнее всего к погашению кредита относятся вдовец / вдова,обычно это взрослые люди и в силу своего возраста лучше контролируют свои долговые обязательства. Дальше идет категория людей в разводе, которые в силу обстоятельств хорошо следят за долговыми обязательствами. Далее категория женатых людей которые платят по долгам лучше людей категорий гражданский брак и Не женат / не замужем в силу своего семейного бюджета, который складывается из доходов обоих членов семьи."
   ]
  },
  {
   "cell_type": "markdown",
   "metadata": {},
   "source": [
    "- Есть ли зависимость между уровнем дохода и возвратом кредита в срок?"
   ]
  },
  {
   "cell_type": "markdown",
   "metadata": {},
   "source": [
    "Введем категории достатка.\n",
    "* `250 >` — низкий доход;\n",
    "* `500 > и > 250` — средний доход;  \n",
    "* `500 <` — высокий доход;"
   ]
  },
  {
   "cell_type": "code",
   "execution_count": 35,
   "metadata": {},
   "outputs": [],
   "source": [
    "mean = 250\n",
    "high = 500"
   ]
  },
  {
   "cell_type": "markdown",
   "metadata": {},
   "source": [
    "Найдем просрочки по кредиту по уровню достатка."
   ]
  },
  {
   "cell_type": "code",
   "execution_count": 36,
   "metadata": {},
   "outputs": [],
   "source": [
    "income_debt = data[['total_income','debt']]\n",
    "low_income = income_debt[income_debt['total_income'] < mean]['total_income'].count() # с низким доходом\n",
    "low_income_convr = income_debt[(income_debt['total_income'] < mean) & (income_debt['debt'] == 1)]['total_income'].count() / low_income\n",
    "\n",
    "average_income = income_debt[(income_debt['total_income'] > mean) & (income_debt['total_income'] < high)]['total_income'].count() # со средним доходом\n",
    "average_income_convr = income_debt[(income_debt['total_income'] > mean) & (income_debt['total_income'] < high) & (income_debt['debt'] == 1)]['total_income'].count() / average_income\n",
    "\n",
    "high_income = income_debt[income_debt['total_income'] > high]['total_income'].count() # с высоким доходом\n",
    "high_income_convr = income_debt[(income_debt['total_income'] > high) & (income_debt['debt'] == 1)]['total_income'].count() / high_income"
   ]
  },
  {
   "cell_type": "code",
   "execution_count": 37,
   "metadata": {},
   "outputs": [
    {
     "data": {
      "text/plain": [
       "'Процент просрочки по кредиту категории с низким доходом : 8.30%'"
      ]
     },
     "metadata": {},
     "output_type": "display_data"
    },
    {
     "data": {
      "text/plain": [
       "'Процент просрочки по кредиту категории с средним доходом : 6.95%'"
      ]
     },
     "metadata": {},
     "output_type": "display_data"
    },
    {
     "data": {
      "text/plain": [
       "'Процент просрочки по кредиту категории с высоким доходом : 6.31%'"
      ]
     },
     "metadata": {},
     "output_type": "display_data"
    }
   ],
   "source": [
    "display('Процент просрочки по кредиту категории с низким доходом : {:.2%}'.format(low_income_convr))\n",
    "display('Процент просрочки по кредиту категории с средним доходом : {:.2%}'.format(average_income_convr))\n",
    "display('Процент просрочки по кредиту категории с высоким доходом : {:.2%}'.format(high_income_convr))"
   ]
  },
  {
   "cell_type": "markdown",
   "metadata": {},
   "source": [
    "**Вывод**"
   ]
  },
  {
   "cell_type": "markdown",
   "metadata": {},
   "source": [
    "Из расчетов следует линейная зависимость уровня заработки и покрытие долговых обязательств, чем больше доход тем меньше процент просрочки по кредиту."
   ]
  },
  {
   "cell_type": "markdown",
   "metadata": {},
   "source": [
    "- Как разные цели кредита влияют на его возврат в срок?"
   ]
  },
  {
   "cell_type": "markdown",
   "metadata": {},
   "source": [
    "Выделим основные цели кредита."
   ]
  },
  {
   "cell_type": "code",
   "execution_count": 38,
   "metadata": {},
   "outputs": [
    {
     "data": {
      "text/plain": [
       "array(['недвижимость', 'автомобиль', 'образование', 'свадьба'],\n",
       "      dtype=object)"
      ]
     },
     "execution_count": 38,
     "metadata": {},
     "output_type": "execute_result"
    }
   ],
   "source": [
    "data['cat_purpose'].unique()"
   ]
  },
  {
   "cell_type": "markdown",
   "metadata": {},
   "source": [
    "Найдем просрочки по кредитам по цели кредита."
   ]
  },
  {
   "cell_type": "code",
   "execution_count": 39,
   "metadata": {},
   "outputs": [],
   "source": [
    "purpose_debt = data[['cat_purpose', 'debt']]\n",
    "\n",
    "purpose_house = purpose_debt[purpose_debt['cat_purpose'] == 'недвижимость']['cat_purpose'].count()\n",
    "purpose_house_convr = purpose_debt[(purpose_debt['cat_purpose'] == 'недвижимость') & (purpose_debt['debt'] == 1)]['cat_purpose'].count() / purpose_house\n",
    "\n",
    "purpose_avto = purpose_debt[purpose_debt['cat_purpose'] == 'автомобиль']['cat_purpose'].count()\n",
    "purpose_avto_convr = purpose_debt[(purpose_debt['cat_purpose'] == 'автомобиль') & (purpose_debt['debt'] == 1)]['cat_purpose'].count() / purpose_avto\n",
    "\n",
    "purpose_education = purpose_debt[purpose_debt['cat_purpose'] == 'образование']['cat_purpose'].count()\n",
    "purpose_education_convr = purpose_debt[(purpose_debt['cat_purpose'] == 'образование') & (purpose_debt['debt'] == 1)]['cat_purpose'].count() / purpose_education\n",
    "\n",
    "purpose_wedding = purpose_debt[purpose_debt['cat_purpose'] == 'свадьба']['cat_purpose'].count()\n",
    "purpose_wedding_convr = purpose_debt[(purpose_debt['cat_purpose'] == 'свадьба') & (purpose_debt['debt'] == 1)]['cat_purpose'].count() / purpose_wedding"
   ]
  },
  {
   "cell_type": "code",
   "execution_count": 40,
   "metadata": {},
   "outputs": [
    {
     "data": {
      "text/plain": [
       "'Процент просрочки с целью кредита недвижимость : 7.23%'"
      ]
     },
     "metadata": {},
     "output_type": "display_data"
    },
    {
     "data": {
      "text/plain": [
       "'Процент просрочки с целью кредита автомобиль : 9.36%'"
      ]
     },
     "metadata": {},
     "output_type": "display_data"
    },
    {
     "data": {
      "text/plain": [
       "'Процент просрочки с целью кредита образование : 9.22%'"
      ]
     },
     "metadata": {},
     "output_type": "display_data"
    },
    {
     "data": {
      "text/plain": [
       "'Процент просрочки с целью кредита свадьба : 8.00%'"
      ]
     },
     "metadata": {},
     "output_type": "display_data"
    }
   ],
   "source": [
    "display('Процент просрочки с целью кредита недвижимость : {:.2%}'.format(purpose_house_convr))\n",
    "display('Процент просрочки с целью кредита автомобиль : {:.2%}'.format(purpose_avto_convr))\n",
    "display('Процент просрочки с целью кредита образование : {:.2%}'.format(purpose_education_convr))\n",
    "display('Процент просрочки с целью кредита свадьба : {:.2%}'.format(purpose_wedding_convr))"
   ]
  },
  {
   "cell_type": "markdown",
   "metadata": {},
   "source": [
    "Из расчетов следует, что долговые обязательства за недвижимость, это важнее всего, так же кредит на свадьбу оказалася важен кредита на автомобиль и образование."
   ]
  },
  {
   "cell_type": "markdown",
   "metadata": {},
   "source": [
    "## Шаг 4. Общий вывод"
   ]
  },
  {
   "cell_type": "markdown",
   "metadata": {},
   "source": [
    "По результатам исследования выявлено следующее:\n",
    "* наличие детей влияет на покрытие долговых обязательств, люди без детей платят лучше.\n",
    "* семейное положение влияет на покрытие долговых обязательств, вдовцы лучше платят по долговым обязательствам.\n",
    "* линейная зависимость уровня дохода и покрытие долговых обязательств, чем больше доход тем меньше просрочек по кредиту.\n",
    "* цель кредита так же важна, за недвижимость и свадьбу люди платят охотнее чем за автомобиль и образование."
   ]
  }
 ],
 "metadata": {
  "ExecuteTimeLog": [
   {
    "duration": 791,
    "start_time": "2022-01-03T11:53:15.408Z"
   },
   {
    "duration": 77,
    "start_time": "2022-01-03T11:53:17.038Z"
   },
   {
    "duration": 18,
    "start_time": "2022-01-03T11:53:48.924Z"
   },
   {
    "duration": 43,
    "start_time": "2022-01-03T11:56:47.943Z"
   },
   {
    "duration": 22,
    "start_time": "2022-01-03T11:58:03.253Z"
   },
   {
    "duration": 4,
    "start_time": "2022-01-03T12:03:31.203Z"
   },
   {
    "duration": 25,
    "start_time": "2022-01-03T15:36:35.220Z"
   },
   {
    "duration": 23,
    "start_time": "2022-01-03T15:37:02.141Z"
   },
   {
    "duration": 17,
    "start_time": "2022-01-03T15:37:07.335Z"
   },
   {
    "duration": 85,
    "start_time": "2022-01-03T15:52:44.295Z"
   },
   {
    "duration": 19,
    "start_time": "2022-01-03T16:06:38.515Z"
   },
   {
    "duration": 396,
    "start_time": "2022-01-04T08:25:07.854Z"
   },
   {
    "duration": 424,
    "start_time": "2022-01-04T08:25:44.142Z"
   },
   {
    "duration": 355,
    "start_time": "2022-01-04T08:26:06.529Z"
   },
   {
    "duration": 374,
    "start_time": "2022-01-04T08:26:13.122Z"
   },
   {
    "duration": 759,
    "start_time": "2022-01-04T08:26:17.406Z"
   },
   {
    "duration": 62,
    "start_time": "2022-01-04T08:26:18.750Z"
   },
   {
    "duration": 28,
    "start_time": "2022-01-04T08:26:19.849Z"
   },
   {
    "duration": 15,
    "start_time": "2022-01-04T08:26:22.985Z"
   },
   {
    "duration": 12,
    "start_time": "2022-01-04T08:26:25.842Z"
   },
   {
    "duration": 11,
    "start_time": "2022-01-04T08:27:15.108Z"
   },
   {
    "duration": 11,
    "start_time": "2022-01-04T08:29:26.720Z"
   },
   {
    "duration": 12,
    "start_time": "2022-01-04T08:29:46.800Z"
   },
   {
    "duration": 163,
    "start_time": "2022-01-04T08:31:12.604Z"
   },
   {
    "duration": 36,
    "start_time": "2022-01-04T08:31:19.334Z"
   },
   {
    "duration": 26,
    "start_time": "2022-01-04T08:32:15.062Z"
   },
   {
    "duration": 12,
    "start_time": "2022-01-04T08:32:24.450Z"
   },
   {
    "duration": 5,
    "start_time": "2022-01-04T08:42:43.013Z"
   },
   {
    "duration": 60,
    "start_time": "2022-01-04T08:42:43.828Z"
   },
   {
    "duration": 20,
    "start_time": "2022-01-04T08:42:44.573Z"
   },
   {
    "duration": 17,
    "start_time": "2022-01-04T08:42:46.492Z"
   },
   {
    "duration": 22,
    "start_time": "2022-01-04T09:02:50.246Z"
   },
   {
    "duration": 36,
    "start_time": "2022-01-04T09:03:44.755Z"
   },
   {
    "duration": 31,
    "start_time": "2022-01-04T09:04:35.339Z"
   },
   {
    "duration": 21,
    "start_time": "2022-01-04T09:04:48.720Z"
   },
   {
    "duration": 9,
    "start_time": "2022-01-04T09:28:33.197Z"
   },
   {
    "duration": 5,
    "start_time": "2022-01-04T09:28:50.242Z"
   },
   {
    "duration": 6,
    "start_time": "2022-01-04T09:29:17.855Z"
   },
   {
    "duration": 369,
    "start_time": "2022-01-04T09:30:53.469Z"
   },
   {
    "duration": 342,
    "start_time": "2022-01-04T09:31:03.416Z"
   },
   {
    "duration": 482,
    "start_time": "2022-01-04T09:32:17.462Z"
   },
   {
    "duration": 368,
    "start_time": "2022-01-04T09:32:46.480Z"
   },
   {
    "duration": 345,
    "start_time": "2022-01-04T09:32:59.309Z"
   },
   {
    "duration": 141,
    "start_time": "2022-01-04T09:33:54.461Z"
   },
   {
    "duration": 331,
    "start_time": "2022-01-04T09:34:16.977Z"
   },
   {
    "duration": 325,
    "start_time": "2022-01-04T09:40:59.665Z"
   },
   {
    "duration": 321,
    "start_time": "2022-01-04T09:41:13.936Z"
   },
   {
    "duration": 731,
    "start_time": "2022-01-04T09:41:58.206Z"
   },
   {
    "duration": 61,
    "start_time": "2022-01-04T09:41:58.943Z"
   },
   {
    "duration": 43,
    "start_time": "2022-01-04T09:41:59.009Z"
   },
   {
    "duration": 16,
    "start_time": "2022-01-04T09:41:59.054Z"
   },
   {
    "duration": 51,
    "start_time": "2022-01-04T09:41:59.072Z"
   },
   {
    "duration": 7,
    "start_time": "2022-01-04T09:41:59.126Z"
   },
   {
    "duration": 9,
    "start_time": "2022-01-04T09:41:59.135Z"
   },
   {
    "duration": 7,
    "start_time": "2022-01-04T09:42:36.312Z"
   },
   {
    "duration": 8,
    "start_time": "2022-01-04T09:42:37.337Z"
   },
   {
    "duration": 412,
    "start_time": "2022-01-04T09:44:34.734Z"
   },
   {
    "duration": 12,
    "start_time": "2022-01-04T09:44:41.804Z"
   },
   {
    "duration": 11,
    "start_time": "2022-01-04T09:45:29.918Z"
   },
   {
    "duration": 15,
    "start_time": "2022-01-04T09:46:13.508Z"
   },
   {
    "duration": 117,
    "start_time": "2022-01-04T09:49:40.266Z"
   },
   {
    "duration": 10,
    "start_time": "2022-01-04T10:04:06.003Z"
   },
   {
    "duration": 9,
    "start_time": "2022-01-04T10:04:06.412Z"
   },
   {
    "duration": 14,
    "start_time": "2022-01-04T10:04:07.471Z"
   },
   {
    "duration": 5,
    "start_time": "2022-01-04T10:21:25.455Z"
   },
   {
    "duration": 16,
    "start_time": "2022-01-04T10:24:48.786Z"
   },
   {
    "duration": 5,
    "start_time": "2022-01-04T10:25:07.249Z"
   },
   {
    "duration": 24,
    "start_time": "2022-01-04T10:25:09.072Z"
   },
   {
    "duration": 313,
    "start_time": "2022-01-04T10:36:29.185Z"
   },
   {
    "duration": 16,
    "start_time": "2022-01-04T10:39:44.722Z"
   },
   {
    "duration": 19,
    "start_time": "2022-01-04T10:41:48.025Z"
   },
   {
    "duration": 151,
    "start_time": "2022-01-04T10:45:44.595Z"
   },
   {
    "duration": 336,
    "start_time": "2022-01-04T10:45:55.431Z"
   },
   {
    "duration": 433,
    "start_time": "2022-01-04T10:47:18.305Z"
   },
   {
    "duration": 7,
    "start_time": "2022-01-04T10:49:05.178Z"
   },
   {
    "duration": 11,
    "start_time": "2022-01-04T10:49:19.032Z"
   },
   {
    "duration": 10,
    "start_time": "2022-01-04T10:49:19.631Z"
   },
   {
    "duration": 13,
    "start_time": "2022-01-04T10:49:22.095Z"
   },
   {
    "duration": 5,
    "start_time": "2022-01-04T10:49:25.343Z"
   },
   {
    "duration": 4,
    "start_time": "2022-01-04T10:49:26.158Z"
   },
   {
    "duration": 15,
    "start_time": "2022-01-04T10:49:28.699Z"
   },
   {
    "duration": 17,
    "start_time": "2022-01-04T10:49:45.255Z"
   },
   {
    "duration": 19,
    "start_time": "2022-01-04T10:49:47.064Z"
   },
   {
    "duration": 17,
    "start_time": "2022-01-04T10:50:12.354Z"
   },
   {
    "duration": 18,
    "start_time": "2022-01-04T10:50:20.803Z"
   },
   {
    "duration": 6,
    "start_time": "2022-01-04T10:50:44.424Z"
   },
   {
    "duration": 5,
    "start_time": "2022-01-04T10:50:47.992Z"
   },
   {
    "duration": 27,
    "start_time": "2022-01-04T10:50:48.441Z"
   },
   {
    "duration": 12,
    "start_time": "2022-01-04T10:51:00.840Z"
   },
   {
    "duration": 12,
    "start_time": "2022-01-04T10:51:01.371Z"
   },
   {
    "duration": 16,
    "start_time": "2022-01-04T10:51:02.688Z"
   },
   {
    "duration": 5,
    "start_time": "2022-01-04T10:51:05.620Z"
   },
   {
    "duration": 6,
    "start_time": "2022-01-04T10:51:06.183Z"
   },
   {
    "duration": 15,
    "start_time": "2022-01-04T10:51:07.567Z"
   },
   {
    "duration": 25,
    "start_time": "2022-01-04T10:51:11.975Z"
   },
   {
    "duration": 25,
    "start_time": "2022-01-04T10:51:13.329Z"
   },
   {
    "duration": 25,
    "start_time": "2022-01-04T10:52:37.793Z"
   },
   {
    "duration": 23,
    "start_time": "2022-01-04T10:52:45.077Z"
   },
   {
    "duration": 2227,
    "start_time": "2022-01-04T10:53:01.068Z"
   },
   {
    "duration": 10,
    "start_time": "2022-01-04T10:55:18.410Z"
   },
   {
    "duration": 10,
    "start_time": "2022-01-04T10:56:08.923Z"
   },
   {
    "duration": 10,
    "start_time": "2022-01-04T10:56:29.099Z"
   },
   {
    "duration": 14,
    "start_time": "2022-01-04T10:56:54.140Z"
   },
   {
    "duration": 3987,
    "start_time": "2022-01-04T10:57:15.188Z"
   },
   {
    "duration": 21,
    "start_time": "2022-01-04T11:05:03.996Z"
   },
   {
    "duration": 22,
    "start_time": "2022-01-04T11:05:13.543Z"
   },
   {
    "duration": 9,
    "start_time": "2022-01-04T11:05:18.949Z"
   },
   {
    "duration": 61,
    "start_time": "2022-01-04T11:05:21.764Z"
   },
   {
    "duration": 25,
    "start_time": "2022-01-04T11:05:21.828Z"
   },
   {
    "duration": 23,
    "start_time": "2022-01-04T11:05:23.522Z"
   },
   {
    "duration": 16,
    "start_time": "2022-01-04T11:05:25.087Z"
   },
   {
    "duration": 5,
    "start_time": "2022-01-04T11:05:26.048Z"
   },
   {
    "duration": 11,
    "start_time": "2022-01-04T11:05:26.118Z"
   },
   {
    "duration": 12,
    "start_time": "2022-01-04T11:05:26.579Z"
   },
   {
    "duration": 14,
    "start_time": "2022-01-04T11:05:26.810Z"
   },
   {
    "duration": 6,
    "start_time": "2022-01-04T11:05:28.161Z"
   },
   {
    "duration": 6,
    "start_time": "2022-01-04T11:05:28.393Z"
   },
   {
    "duration": 17,
    "start_time": "2022-01-04T11:05:28.954Z"
   },
   {
    "duration": 17,
    "start_time": "2022-01-04T11:05:29.558Z"
   },
   {
    "duration": 37,
    "start_time": "2022-01-04T11:05:30.272Z"
   },
   {
    "duration": 25,
    "start_time": "2022-01-04T11:05:31.682Z"
   },
   {
    "duration": 25,
    "start_time": "2022-01-04T11:05:31.727Z"
   },
   {
    "duration": 950,
    "start_time": "2022-01-04T11:05:59.391Z"
   },
   {
    "duration": 66,
    "start_time": "2022-01-04T11:06:00.344Z"
   },
   {
    "duration": 32,
    "start_time": "2022-01-04T11:06:00.422Z"
   },
   {
    "duration": 21,
    "start_time": "2022-01-04T11:06:00.458Z"
   },
   {
    "duration": 49,
    "start_time": "2022-01-04T11:06:00.481Z"
   },
   {
    "duration": 7,
    "start_time": "2022-01-04T11:06:00.533Z"
   },
   {
    "duration": 37,
    "start_time": "2022-01-04T11:06:00.542Z"
   },
   {
    "duration": 19,
    "start_time": "2022-01-04T11:06:00.582Z"
   },
   {
    "duration": 31,
    "start_time": "2022-01-04T11:06:00.605Z"
   },
   {
    "duration": 34,
    "start_time": "2022-01-04T11:06:00.639Z"
   },
   {
    "duration": 12,
    "start_time": "2022-01-04T11:06:00.675Z"
   },
   {
    "duration": 30,
    "start_time": "2022-01-04T11:06:00.690Z"
   },
   {
    "duration": 37,
    "start_time": "2022-01-04T11:06:00.722Z"
   },
   {
    "duration": 32,
    "start_time": "2022-01-04T11:06:00.762Z"
   },
   {
    "duration": 47,
    "start_time": "2022-01-04T11:06:00.796Z"
   },
   {
    "duration": 26,
    "start_time": "2022-01-04T11:06:00.846Z"
   },
   {
    "duration": 19,
    "start_time": "2022-01-04T11:06:25.336Z"
   },
   {
    "duration": 20,
    "start_time": "2022-01-04T11:07:39.197Z"
   },
   {
    "duration": 21,
    "start_time": "2022-01-04T11:07:41.927Z"
   },
   {
    "duration": 22,
    "start_time": "2022-01-04T11:07:42.676Z"
   },
   {
    "duration": 30,
    "start_time": "2022-01-04T11:08:32.141Z"
   },
   {
    "duration": 43,
    "start_time": "2022-01-04T11:08:34.982Z"
   },
   {
    "duration": 21,
    "start_time": "2022-01-04T11:09:11.786Z"
   },
   {
    "duration": 25,
    "start_time": "2022-01-04T11:36:38.620Z"
   },
   {
    "duration": 26,
    "start_time": "2022-01-04T11:36:39.085Z"
   },
   {
    "duration": 20,
    "start_time": "2022-01-04T11:39:05.855Z"
   },
   {
    "duration": 4,
    "start_time": "2022-01-04T11:39:06.270Z"
   },
   {
    "duration": 6,
    "start_time": "2022-01-04T11:39:07.152Z"
   },
   {
    "duration": 9,
    "start_time": "2022-01-04T11:39:27.873Z"
   },
   {
    "duration": 117,
    "start_time": "2022-01-04T11:40:05.411Z"
   },
   {
    "duration": 6,
    "start_time": "2022-01-04T11:40:09.898Z"
   },
   {
    "duration": 455,
    "start_time": "2022-01-04T11:40:31.664Z"
   },
   {
    "duration": 325,
    "start_time": "2022-01-04T11:40:41.928Z"
   },
   {
    "duration": 5,
    "start_time": "2022-01-04T11:44:51.396Z"
   },
   {
    "duration": 7,
    "start_time": "2022-01-04T11:45:02.410Z"
   },
   {
    "duration": 4,
    "start_time": "2022-01-04T11:45:05.303Z"
   },
   {
    "duration": 350,
    "start_time": "2022-01-04T11:47:48.736Z"
   },
   {
    "duration": 20,
    "start_time": "2022-01-04T11:48:02.441Z"
   },
   {
    "duration": 351,
    "start_time": "2022-01-04T11:48:13.098Z"
   },
   {
    "duration": 10,
    "start_time": "2022-01-04T11:49:36.403Z"
   },
   {
    "duration": 30,
    "start_time": "2022-01-04T11:51:31.061Z"
   },
   {
    "duration": 28,
    "start_time": "2022-01-04T11:52:38.078Z"
   },
   {
    "duration": 123,
    "start_time": "2022-01-04T11:54:21.157Z"
   },
   {
    "duration": 123,
    "start_time": "2022-01-04T11:54:35.603Z"
   },
   {
    "duration": 108,
    "start_time": "2022-01-04T11:54:45.390Z"
   },
   {
    "duration": 341,
    "start_time": "2022-01-04T11:57:05.884Z"
   },
   {
    "duration": 37,
    "start_time": "2022-01-04T11:57:06.410Z"
   },
   {
    "duration": 495,
    "start_time": "2022-01-04T11:57:20.795Z"
   },
   {
    "duration": 670,
    "start_time": "2022-01-04T11:57:37.818Z"
   },
   {
    "duration": 20,
    "start_time": "2022-01-04T12:01:32.117Z"
   },
   {
    "duration": 40,
    "start_time": "2022-01-04T12:01:35.109Z"
   },
   {
    "duration": 473,
    "start_time": "2022-01-04T12:04:00.247Z"
   },
   {
    "duration": 440,
    "start_time": "2022-01-04T12:04:18.838Z"
   },
   {
    "duration": 377,
    "start_time": "2022-01-04T12:04:28.978Z"
   },
   {
    "duration": 20,
    "start_time": "2022-01-04T12:04:36.813Z"
   },
   {
    "duration": 358,
    "start_time": "2022-01-04T12:04:37.542Z"
   },
   {
    "duration": 4,
    "start_time": "2022-01-04T12:05:10.631Z"
   },
   {
    "duration": 59,
    "start_time": "2022-01-04T12:05:10.958Z"
   },
   {
    "duration": 22,
    "start_time": "2022-01-04T12:05:11.242Z"
   },
   {
    "duration": 15,
    "start_time": "2022-01-04T12:05:11.840Z"
   },
   {
    "duration": 13,
    "start_time": "2022-01-04T12:05:12.880Z"
   },
   {
    "duration": 5,
    "start_time": "2022-01-04T12:05:14.335Z"
   },
   {
    "duration": 11,
    "start_time": "2022-01-04T12:05:14.672Z"
   },
   {
    "duration": 10,
    "start_time": "2022-01-04T12:05:15.141Z"
   },
   {
    "duration": 15,
    "start_time": "2022-01-04T12:05:16.312Z"
   },
   {
    "duration": 6,
    "start_time": "2022-01-04T12:05:21.063Z"
   },
   {
    "duration": 5,
    "start_time": "2022-01-04T12:05:21.560Z"
   },
   {
    "duration": 16,
    "start_time": "2022-01-04T12:05:22.095Z"
   },
   {
    "duration": 16,
    "start_time": "2022-01-04T12:05:26.411Z"
   },
   {
    "duration": 19,
    "start_time": "2022-01-04T12:05:26.736Z"
   },
   {
    "duration": 26,
    "start_time": "2022-01-04T12:05:37.001Z"
   },
   {
    "duration": 21,
    "start_time": "2022-01-04T12:05:39.352Z"
   },
   {
    "duration": 356,
    "start_time": "2022-01-04T12:05:40.737Z"
   },
   {
    "duration": 4054,
    "start_time": "2022-01-04T12:05:53.267Z"
   },
   {
    "duration": 4045,
    "start_time": "2022-01-04T12:05:53.277Z"
   },
   {
    "duration": 4044,
    "start_time": "2022-01-04T12:05:53.280Z"
   },
   {
    "duration": 4032,
    "start_time": "2022-01-04T12:05:53.294Z"
   },
   {
    "duration": 4018,
    "start_time": "2022-01-04T12:05:53.309Z"
   },
   {
    "duration": 4007,
    "start_time": "2022-01-04T12:05:53.322Z"
   },
   {
    "duration": 4000,
    "start_time": "2022-01-04T12:05:53.331Z"
   },
   {
    "duration": 3998,
    "start_time": "2022-01-04T12:05:53.334Z"
   },
   {
    "duration": 3985,
    "start_time": "2022-01-04T12:05:53.349Z"
   },
   {
    "duration": 3965,
    "start_time": "2022-01-04T12:05:53.373Z"
   },
   {
    "duration": 3953,
    "start_time": "2022-01-04T12:05:53.387Z"
   },
   {
    "duration": 3941,
    "start_time": "2022-01-04T12:05:53.400Z"
   },
   {
    "duration": 3928,
    "start_time": "2022-01-04T12:05:53.415Z"
   },
   {
    "duration": 3924,
    "start_time": "2022-01-04T12:05:53.421Z"
   },
   {
    "duration": 3923,
    "start_time": "2022-01-04T12:05:53.424Z"
   },
   {
    "duration": 3923,
    "start_time": "2022-01-04T12:05:53.426Z"
   },
   {
    "duration": 3920,
    "start_time": "2022-01-04T12:05:53.432Z"
   },
   {
    "duration": 3917,
    "start_time": "2022-01-04T12:05:53.436Z"
   },
   {
    "duration": 3,
    "start_time": "2022-01-04T12:06:04.675Z"
   },
   {
    "duration": 60,
    "start_time": "2022-01-04T12:06:04.681Z"
   },
   {
    "duration": 20,
    "start_time": "2022-01-04T12:06:04.744Z"
   },
   {
    "duration": 16,
    "start_time": "2022-01-04T12:06:04.767Z"
   },
   {
    "duration": 43,
    "start_time": "2022-01-04T12:06:04.785Z"
   },
   {
    "duration": 4,
    "start_time": "2022-01-04T12:06:04.830Z"
   },
   {
    "duration": 11,
    "start_time": "2022-01-04T12:06:04.836Z"
   },
   {
    "duration": 9,
    "start_time": "2022-01-04T12:06:04.851Z"
   },
   {
    "duration": 62,
    "start_time": "2022-01-04T12:06:04.863Z"
   },
   {
    "duration": 5,
    "start_time": "2022-01-04T12:06:04.928Z"
   },
   {
    "duration": 5,
    "start_time": "2022-01-04T12:06:04.936Z"
   },
   {
    "duration": 22,
    "start_time": "2022-01-04T12:06:04.944Z"
   },
   {
    "duration": 57,
    "start_time": "2022-01-04T12:06:04.968Z"
   },
   {
    "duration": 21,
    "start_time": "2022-01-04T12:06:05.027Z"
   },
   {
    "duration": 26,
    "start_time": "2022-01-04T12:06:05.051Z"
   },
   {
    "duration": 60,
    "start_time": "2022-01-04T12:06:05.080Z"
   },
   {
    "duration": 350,
    "start_time": "2022-01-04T12:06:05.143Z"
   },
   {
    "duration": 4048,
    "start_time": "2022-01-04T12:06:01.447Z"
   },
   {
    "duration": 7,
    "start_time": "2022-01-04T12:06:34.649Z"
   },
   {
    "duration": 15,
    "start_time": "2022-01-04T12:06:37.753Z"
   },
   {
    "duration": 21,
    "start_time": "2022-01-04T12:08:40.304Z"
   },
   {
    "duration": 24,
    "start_time": "2022-01-04T12:08:40.769Z"
   },
   {
    "duration": 33,
    "start_time": "2022-01-04T12:46:16.684Z"
   },
   {
    "duration": 20,
    "start_time": "2022-01-04T12:46:20.794Z"
   },
   {
    "duration": 26,
    "start_time": "2022-01-04T12:46:21.280Z"
   },
   {
    "duration": 361,
    "start_time": "2022-01-04T12:48:52.777Z"
   },
   {
    "duration": 368,
    "start_time": "2022-01-04T12:49:18.183Z"
   },
   {
    "duration": 352,
    "start_time": "2022-01-04T12:49:39.899Z"
   },
   {
    "duration": 4,
    "start_time": "2022-01-04T12:50:56.705Z"
   },
   {
    "duration": 389,
    "start_time": "2022-01-04T12:51:12.898Z"
   },
   {
    "duration": 7,
    "start_time": "2022-01-04T12:51:38.935Z"
   },
   {
    "duration": 5,
    "start_time": "2022-01-04T12:51:41.549Z"
   },
   {
    "duration": 6,
    "start_time": "2022-01-04T12:51:42.078Z"
   },
   {
    "duration": 4,
    "start_time": "2022-01-04T12:51:52.763Z"
   },
   {
    "duration": 68,
    "start_time": "2022-01-04T12:51:52.772Z"
   },
   {
    "duration": 24,
    "start_time": "2022-01-04T12:51:52.843Z"
   },
   {
    "duration": 20,
    "start_time": "2022-01-04T12:51:52.871Z"
   },
   {
    "duration": 17,
    "start_time": "2022-01-04T12:51:52.925Z"
   },
   {
    "duration": 4,
    "start_time": "2022-01-04T12:51:52.945Z"
   },
   {
    "duration": 13,
    "start_time": "2022-01-04T12:51:52.952Z"
   },
   {
    "duration": 55,
    "start_time": "2022-01-04T12:51:52.968Z"
   },
   {
    "duration": 14,
    "start_time": "2022-01-04T12:51:53.027Z"
   },
   {
    "duration": 17,
    "start_time": "2022-01-04T12:51:53.044Z"
   },
   {
    "duration": 12,
    "start_time": "2022-01-04T12:51:53.064Z"
   },
   {
    "duration": 46,
    "start_time": "2022-01-04T12:51:53.078Z"
   },
   {
    "duration": 24,
    "start_time": "2022-01-04T12:51:53.127Z"
   },
   {
    "duration": 35,
    "start_time": "2022-01-04T12:51:53.154Z"
   },
   {
    "duration": 61,
    "start_time": "2022-01-04T12:51:53.191Z"
   },
   {
    "duration": 28,
    "start_time": "2022-01-04T12:51:53.254Z"
   },
   {
    "duration": 44,
    "start_time": "2022-01-04T12:51:53.285Z"
   },
   {
    "duration": 23,
    "start_time": "2022-01-04T12:51:53.331Z"
   },
   {
    "duration": 35,
    "start_time": "2022-01-04T12:51:53.356Z"
   },
   {
    "duration": 367,
    "start_time": "2022-01-04T12:51:53.393Z"
   },
   {
    "duration": 7,
    "start_time": "2022-01-04T12:52:33.415Z"
   },
   {
    "duration": 402,
    "start_time": "2022-01-04T13:16:44.616Z"
   },
   {
    "duration": 8,
    "start_time": "2022-01-04T13:17:22.095Z"
   },
   {
    "duration": 6,
    "start_time": "2022-01-04T13:17:55.870Z"
   },
   {
    "duration": 7,
    "start_time": "2022-01-04T13:17:59.485Z"
   },
   {
    "duration": 6,
    "start_time": "2022-01-04T13:18:14.862Z"
   },
   {
    "duration": 655,
    "start_time": "2022-01-04T13:18:44.439Z"
   },
   {
    "duration": 425,
    "start_time": "2022-01-04T13:21:17.150Z"
   },
   {
    "duration": 347,
    "start_time": "2022-01-04T13:21:19.487Z"
   },
   {
    "duration": 913,
    "start_time": "2022-01-04T13:23:25.420Z"
   },
   {
    "duration": 11,
    "start_time": "2022-01-04T13:23:29.428Z"
   },
   {
    "duration": 767,
    "start_time": "2022-01-04T13:23:51.843Z"
   },
   {
    "duration": 11,
    "start_time": "2022-01-04T13:24:08.259Z"
   },
   {
    "duration": 340,
    "start_time": "2022-01-04T13:25:39.791Z"
   },
   {
    "duration": 4,
    "start_time": "2022-01-04T13:28:57.865Z"
   },
   {
    "duration": 10,
    "start_time": "2022-01-04T13:29:14.449Z"
   },
   {
    "duration": 464,
    "start_time": "2022-01-04T13:29:40.400Z"
   },
   {
    "duration": 9,
    "start_time": "2022-01-04T13:29:55.797Z"
   },
   {
    "duration": 363,
    "start_time": "2022-01-04T13:31:09.803Z"
   },
   {
    "duration": 347,
    "start_time": "2022-01-04T13:31:48.071Z"
   },
   {
    "duration": 342,
    "start_time": "2022-01-04T13:32:04.005Z"
   },
   {
    "duration": 12,
    "start_time": "2022-01-04T13:40:32.021Z"
   },
   {
    "duration": 4,
    "start_time": "2022-01-04T13:41:43.950Z"
   },
   {
    "duration": 10,
    "start_time": "2022-01-04T13:41:44.467Z"
   },
   {
    "duration": 10,
    "start_time": "2022-01-04T13:41:44.988Z"
   },
   {
    "duration": 14,
    "start_time": "2022-01-04T13:41:48.756Z"
   },
   {
    "duration": 4,
    "start_time": "2022-01-04T13:41:51.847Z"
   },
   {
    "duration": 5,
    "start_time": "2022-01-04T13:41:52.180Z"
   },
   {
    "duration": 18,
    "start_time": "2022-01-04T13:41:53.164Z"
   },
   {
    "duration": 16,
    "start_time": "2022-01-04T13:41:56.764Z"
   },
   {
    "duration": 18,
    "start_time": "2022-01-04T13:41:57.457Z"
   },
   {
    "duration": 26,
    "start_time": "2022-01-04T13:42:02.004Z"
   },
   {
    "duration": 23,
    "start_time": "2022-01-04T13:42:02.812Z"
   },
   {
    "duration": 25,
    "start_time": "2022-01-04T13:42:03.353Z"
   },
   {
    "duration": 344,
    "start_time": "2022-01-04T13:43:05.463Z"
   },
   {
    "duration": 5,
    "start_time": "2022-01-04T13:43:11.534Z"
   },
   {
    "duration": 5,
    "start_time": "2022-01-04T13:43:12.143Z"
   },
   {
    "duration": 934,
    "start_time": "2022-01-04T13:43:15.197Z"
   },
   {
    "duration": 11,
    "start_time": "2022-01-04T13:43:19.824Z"
   },
   {
    "duration": 10,
    "start_time": "2022-01-04T13:48:15.532Z"
   },
   {
    "duration": 350,
    "start_time": "2022-01-04T13:48:19.056Z"
   },
   {
    "duration": 328,
    "start_time": "2022-01-04T13:49:45.884Z"
   },
   {
    "duration": 924,
    "start_time": "2022-01-04T14:08:23.662Z"
   },
   {
    "duration": 7,
    "start_time": "2022-01-04T14:08:25.364Z"
   },
   {
    "duration": 7,
    "start_time": "2022-01-04T14:08:37.278Z"
   },
   {
    "duration": 760,
    "start_time": "2022-01-05T05:18:21.189Z"
   },
   {
    "duration": 309,
    "start_time": "2022-01-05T05:18:21.951Z"
   },
   {
    "duration": 29,
    "start_time": "2022-01-05T05:18:22.264Z"
   },
   {
    "duration": 16,
    "start_time": "2022-01-05T05:18:22.298Z"
   },
   {
    "duration": 16,
    "start_time": "2022-01-05T05:18:22.316Z"
   },
   {
    "duration": 4,
    "start_time": "2022-01-05T05:18:22.334Z"
   },
   {
    "duration": 12,
    "start_time": "2022-01-05T05:18:22.340Z"
   },
   {
    "duration": 10,
    "start_time": "2022-01-05T05:18:22.357Z"
   },
   {
    "duration": 58,
    "start_time": "2022-01-05T05:18:22.371Z"
   },
   {
    "duration": 6,
    "start_time": "2022-01-05T05:18:22.432Z"
   },
   {
    "duration": 6,
    "start_time": "2022-01-05T05:18:22.440Z"
   },
   {
    "duration": 17,
    "start_time": "2022-01-05T05:18:22.449Z"
   },
   {
    "duration": 60,
    "start_time": "2022-01-05T05:18:22.469Z"
   },
   {
    "duration": 20,
    "start_time": "2022-01-05T05:18:22.533Z"
   },
   {
    "duration": 30,
    "start_time": "2022-01-05T05:18:22.556Z"
   },
   {
    "duration": 52,
    "start_time": "2022-01-05T05:18:22.589Z"
   },
   {
    "duration": 27,
    "start_time": "2022-01-05T05:18:22.644Z"
   },
   {
    "duration": 5149,
    "start_time": "2022-01-05T05:18:22.674Z"
   },
   {
    "duration": 409,
    "start_time": "2022-01-05T05:26:30.072Z"
   },
   {
    "duration": 929,
    "start_time": "2022-01-05T05:27:12.045Z"
   },
   {
    "duration": 64,
    "start_time": "2022-01-05T05:27:12.977Z"
   },
   {
    "duration": 31,
    "start_time": "2022-01-05T05:27:13.044Z"
   },
   {
    "duration": 45,
    "start_time": "2022-01-05T05:27:13.080Z"
   },
   {
    "duration": 13,
    "start_time": "2022-01-05T05:27:13.128Z"
   },
   {
    "duration": 4,
    "start_time": "2022-01-05T05:27:13.144Z"
   },
   {
    "duration": 12,
    "start_time": "2022-01-05T05:27:13.150Z"
   },
   {
    "duration": 58,
    "start_time": "2022-01-05T05:27:13.165Z"
   },
   {
    "duration": 15,
    "start_time": "2022-01-05T05:27:13.228Z"
   },
   {
    "duration": 5,
    "start_time": "2022-01-05T05:27:13.246Z"
   },
   {
    "duration": 6,
    "start_time": "2022-01-05T05:27:13.254Z"
   },
   {
    "duration": 15,
    "start_time": "2022-01-05T05:27:13.263Z"
   },
   {
    "duration": 55,
    "start_time": "2022-01-05T05:27:13.281Z"
   },
   {
    "duration": 18,
    "start_time": "2022-01-05T05:27:13.339Z"
   },
   {
    "duration": 23,
    "start_time": "2022-01-05T05:27:13.360Z"
   },
   {
    "duration": 52,
    "start_time": "2022-01-05T05:27:13.385Z"
   },
   {
    "duration": 25,
    "start_time": "2022-01-05T05:27:13.439Z"
   },
   {
    "duration": 5567,
    "start_time": "2022-01-05T05:27:13.467Z"
   },
   {
    "duration": 4902,
    "start_time": "2022-01-05T05:27:32.373Z"
   },
   {
    "duration": 237,
    "start_time": "2022-01-05T05:32:26.488Z"
   },
   {
    "duration": 35,
    "start_time": "2022-01-05T05:34:00.260Z"
   },
   {
    "duration": 3929,
    "start_time": "2022-01-05T05:34:35.868Z"
   },
   {
    "duration": 34,
    "start_time": "2022-01-05T05:34:51.145Z"
   },
   {
    "duration": 7,
    "start_time": "2022-01-05T06:06:00.745Z"
   },
   {
    "duration": 50,
    "start_time": "2022-01-05T06:06:23.418Z"
   },
   {
    "duration": 44,
    "start_time": "2022-01-05T06:07:38.582Z"
   },
   {
    "duration": 13,
    "start_time": "2022-01-05T06:07:49.368Z"
   },
   {
    "duration": 9,
    "start_time": "2022-01-05T06:08:05.860Z"
   },
   {
    "duration": 10,
    "start_time": "2022-01-05T06:21:28.905Z"
   },
   {
    "duration": 484,
    "start_time": "2022-01-05T06:52:36.328Z"
   },
   {
    "duration": 7,
    "start_time": "2022-01-05T06:52:53.761Z"
   },
   {
    "duration": 11,
    "start_time": "2022-01-05T06:56:32.292Z"
   },
   {
    "duration": 20,
    "start_time": "2022-01-05T07:01:58.070Z"
   },
   {
    "duration": 6,
    "start_time": "2022-01-05T07:20:05.568Z"
   },
   {
    "duration": 15,
    "start_time": "2022-01-05T07:20:23.551Z"
   },
   {
    "duration": 17,
    "start_time": "2022-01-05T07:20:31.822Z"
   },
   {
    "duration": 6,
    "start_time": "2022-01-05T07:28:31.361Z"
   },
   {
    "duration": 11,
    "start_time": "2022-01-05T07:28:53.355Z"
   },
   {
    "duration": 6,
    "start_time": "2022-01-05T07:29:27.920Z"
   },
   {
    "duration": 7,
    "start_time": "2022-01-05T07:29:45.726Z"
   },
   {
    "duration": 983,
    "start_time": "2022-01-05T07:30:12.764Z"
   },
   {
    "duration": 75,
    "start_time": "2022-01-05T07:30:13.750Z"
   },
   {
    "duration": 36,
    "start_time": "2022-01-05T07:30:13.828Z"
   },
   {
    "duration": 13,
    "start_time": "2022-01-05T07:30:13.868Z"
   },
   {
    "duration": 11,
    "start_time": "2022-01-05T07:30:13.884Z"
   },
   {
    "duration": 4,
    "start_time": "2022-01-05T07:30:13.898Z"
   },
   {
    "duration": 19,
    "start_time": "2022-01-05T07:30:13.905Z"
   },
   {
    "duration": 12,
    "start_time": "2022-01-05T07:30:13.929Z"
   },
   {
    "duration": 16,
    "start_time": "2022-01-05T07:30:13.945Z"
   },
   {
    "duration": 6,
    "start_time": "2022-01-05T07:30:13.964Z"
   },
   {
    "duration": 6,
    "start_time": "2022-01-05T07:30:13.972Z"
   },
   {
    "duration": 16,
    "start_time": "2022-01-05T07:30:13.981Z"
   },
   {
    "duration": 27,
    "start_time": "2022-01-05T07:30:14.000Z"
   },
   {
    "duration": 18,
    "start_time": "2022-01-05T07:30:14.030Z"
   },
   {
    "duration": 24,
    "start_time": "2022-01-05T07:30:14.051Z"
   },
   {
    "duration": 19,
    "start_time": "2022-01-05T07:30:14.078Z"
   },
   {
    "duration": 34,
    "start_time": "2022-01-05T07:30:14.100Z"
   },
   {
    "duration": 5811,
    "start_time": "2022-01-05T07:30:14.136Z"
   },
   {
    "duration": 37,
    "start_time": "2022-01-05T07:30:19.950Z"
   },
   {
    "duration": 520,
    "start_time": "2022-01-05T07:30:19.990Z"
   },
   {
    "duration": 16,
    "start_time": "2022-01-05T07:30:20.513Z"
   },
   {
    "duration": 16,
    "start_time": "2022-01-05T07:30:20.532Z"
   },
   {
    "duration": 6,
    "start_time": "2022-01-05T07:30:20.554Z"
   },
   {
    "duration": 59,
    "start_time": "2022-01-05T07:30:20.564Z"
   },
   {
    "duration": 9,
    "start_time": "2022-01-05T07:30:20.627Z"
   },
   {
    "duration": 11,
    "start_time": "2022-01-05T07:34:04.362Z"
   },
   {
    "duration": 6,
    "start_time": "2022-01-05T07:34:21.384Z"
   },
   {
    "duration": 9,
    "start_time": "2022-01-05T07:34:38.419Z"
   },
   {
    "duration": 5,
    "start_time": "2022-01-05T07:34:40.655Z"
   },
   {
    "duration": 6,
    "start_time": "2022-01-05T07:36:45.773Z"
   },
   {
    "duration": 6,
    "start_time": "2022-01-05T07:36:47.841Z"
   },
   {
    "duration": 5,
    "start_time": "2022-01-05T07:39:55.851Z"
   },
   {
    "duration": 5,
    "start_time": "2022-01-05T07:39:56.425Z"
   },
   {
    "duration": 7,
    "start_time": "2022-01-05T07:39:56.865Z"
   },
   {
    "duration": 6,
    "start_time": "2022-01-05T07:40:35.729Z"
   },
   {
    "duration": 5,
    "start_time": "2022-01-05T07:40:42.722Z"
   },
   {
    "duration": 5,
    "start_time": "2022-01-05T07:40:43.265Z"
   },
   {
    "duration": 6,
    "start_time": "2022-01-05T07:40:43.921Z"
   },
   {
    "duration": 6,
    "start_time": "2022-01-05T07:41:29.486Z"
   },
   {
    "duration": 7,
    "start_time": "2022-01-05T07:41:30.242Z"
   },
   {
    "duration": 6,
    "start_time": "2022-01-05T07:46:04.838Z"
   },
   {
    "duration": 6,
    "start_time": "2022-01-05T07:46:05.307Z"
   },
   {
    "duration": 22,
    "start_time": "2022-01-05T07:51:36.373Z"
   },
   {
    "duration": 7,
    "start_time": "2022-01-05T07:51:47.384Z"
   },
   {
    "duration": 6,
    "start_time": "2022-01-05T07:52:10.449Z"
   },
   {
    "duration": 17,
    "start_time": "2022-01-05T07:52:31.582Z"
   },
   {
    "duration": 11,
    "start_time": "2022-01-05T07:52:57.897Z"
   },
   {
    "duration": 401,
    "start_time": "2022-01-05T07:54:18.057Z"
   },
   {
    "duration": 10,
    "start_time": "2022-01-05T07:54:31.818Z"
   },
   {
    "duration": 8,
    "start_time": "2022-01-05T07:55:56.267Z"
   },
   {
    "duration": 8,
    "start_time": "2022-01-05T07:56:10.530Z"
   },
   {
    "duration": 7,
    "start_time": "2022-01-05T07:56:38.576Z"
   },
   {
    "duration": 5,
    "start_time": "2022-01-05T07:57:06.065Z"
   },
   {
    "duration": 6,
    "start_time": "2022-01-05T07:57:32.595Z"
   },
   {
    "duration": 5,
    "start_time": "2022-01-05T07:57:41.772Z"
   },
   {
    "duration": 6,
    "start_time": "2022-01-05T07:57:55.681Z"
   },
   {
    "duration": 5,
    "start_time": "2022-01-05T08:20:00.455Z"
   },
   {
    "duration": 6,
    "start_time": "2022-01-05T08:20:00.967Z"
   },
   {
    "duration": 5,
    "start_time": "2022-01-05T08:20:01.423Z"
   },
   {
    "duration": 9,
    "start_time": "2022-01-05T08:24:05.129Z"
   },
   {
    "duration": 14,
    "start_time": "2022-01-05T08:24:19.409Z"
   },
   {
    "duration": 9,
    "start_time": "2022-01-05T08:24:43.565Z"
   },
   {
    "duration": 6,
    "start_time": "2022-01-05T08:24:44.069Z"
   },
   {
    "duration": 9,
    "start_time": "2022-01-05T08:25:19.580Z"
   },
   {
    "duration": 7,
    "start_time": "2022-01-05T08:25:19.921Z"
   },
   {
    "duration": 4,
    "start_time": "2022-01-05T08:26:58.418Z"
   },
   {
    "duration": 5,
    "start_time": "2022-01-05T08:26:58.932Z"
   },
   {
    "duration": 6,
    "start_time": "2022-01-05T08:26:59.435Z"
   },
   {
    "duration": 8,
    "start_time": "2022-01-05T08:26:59.914Z"
   },
   {
    "duration": 6,
    "start_time": "2022-01-05T08:27:00.785Z"
   },
   {
    "duration": 5,
    "start_time": "2022-01-05T08:27:28.969Z"
   },
   {
    "duration": 368,
    "start_time": "2022-01-05T08:31:33.748Z"
   },
   {
    "duration": 5,
    "start_time": "2022-01-05T08:31:37.210Z"
   },
   {
    "duration": 5,
    "start_time": "2022-01-05T08:31:37.586Z"
   },
   {
    "duration": 6,
    "start_time": "2022-01-05T08:31:37.972Z"
   },
   {
    "duration": 8,
    "start_time": "2022-01-05T08:31:38.395Z"
   },
   {
    "duration": 6,
    "start_time": "2022-01-05T08:31:38.849Z"
   },
   {
    "duration": 8,
    "start_time": "2022-01-05T08:31:39.361Z"
   },
   {
    "duration": 6,
    "start_time": "2022-01-05T08:31:39.857Z"
   },
   {
    "duration": 6,
    "start_time": "2022-01-05T08:31:40.338Z"
   },
   {
    "duration": 8,
    "start_time": "2022-01-05T08:47:22.557Z"
   },
   {
    "duration": 6,
    "start_time": "2022-01-05T08:49:35.170Z"
   },
   {
    "duration": 8,
    "start_time": "2022-01-05T08:49:47.211Z"
   },
   {
    "duration": 5,
    "start_time": "2022-01-05T08:52:54.051Z"
   },
   {
    "duration": 9,
    "start_time": "2022-01-05T08:52:54.617Z"
   },
   {
    "duration": 6,
    "start_time": "2022-01-05T08:52:56.865Z"
   },
   {
    "duration": 8,
    "start_time": "2022-01-05T08:53:15.757Z"
   },
   {
    "duration": 6,
    "start_time": "2022-01-05T08:53:17.802Z"
   },
   {
    "duration": 7,
    "start_time": "2022-01-05T08:53:34.369Z"
   },
   {
    "duration": 7,
    "start_time": "2022-01-05T08:53:46.291Z"
   },
   {
    "duration": 7,
    "start_time": "2022-01-05T08:53:47.825Z"
   },
   {
    "duration": 8,
    "start_time": "2022-01-05T08:53:52.071Z"
   },
   {
    "duration": 6,
    "start_time": "2022-01-05T08:53:54.259Z"
   },
   {
    "duration": 8,
    "start_time": "2022-01-05T08:54:03.190Z"
   },
   {
    "duration": 6,
    "start_time": "2022-01-05T08:54:05.467Z"
   },
   {
    "duration": 10,
    "start_time": "2022-01-05T08:54:13.718Z"
   },
   {
    "duration": 7,
    "start_time": "2022-01-05T08:54:25.605Z"
   },
   {
    "duration": 6,
    "start_time": "2022-01-05T08:54:27.098Z"
   },
   {
    "duration": 11,
    "start_time": "2022-01-05T08:55:11.708Z"
   },
   {
    "duration": 11,
    "start_time": "2022-01-05T08:55:16.525Z"
   },
   {
    "duration": 6,
    "start_time": "2022-01-05T08:55:17.962Z"
   },
   {
    "duration": 12,
    "start_time": "2022-01-05T08:59:24.189Z"
   },
   {
    "duration": 301,
    "start_time": "2022-01-05T08:59:42.277Z"
   },
   {
    "duration": 13,
    "start_time": "2022-01-05T08:59:52.722Z"
   },
   {
    "duration": 12,
    "start_time": "2022-01-05T08:59:59.485Z"
   },
   {
    "duration": 6,
    "start_time": "2022-01-05T09:00:00.353Z"
   },
   {
    "duration": 9,
    "start_time": "2022-01-05T09:01:43.996Z"
   },
   {
    "duration": 7,
    "start_time": "2022-01-05T09:01:48.990Z"
   },
   {
    "duration": 9,
    "start_time": "2022-01-05T09:01:52.989Z"
   },
   {
    "duration": 7,
    "start_time": "2022-01-05T09:01:55.325Z"
   },
   {
    "duration": 10,
    "start_time": "2022-01-05T09:02:29.472Z"
   },
   {
    "duration": 7,
    "start_time": "2022-01-05T09:02:31.469Z"
   },
   {
    "duration": 7,
    "start_time": "2022-01-05T09:04:23.754Z"
   },
   {
    "duration": 7,
    "start_time": "2022-01-05T09:04:26.182Z"
   },
   {
    "duration": 7,
    "start_time": "2022-01-05T09:04:48.806Z"
   },
   {
    "duration": 5,
    "start_time": "2022-01-05T09:04:51.078Z"
   },
   {
    "duration": 17,
    "start_time": "2022-01-05T10:14:52.332Z"
   },
   {
    "duration": 5,
    "start_time": "2022-01-05T10:15:01.602Z"
   },
   {
    "duration": 10,
    "start_time": "2022-01-05T10:15:03.052Z"
   },
   {
    "duration": 6,
    "start_time": "2022-01-05T10:15:06.684Z"
   },
   {
    "duration": 7,
    "start_time": "2022-01-05T10:15:19.964Z"
   },
   {
    "duration": 6,
    "start_time": "2022-01-05T10:15:23.963Z"
   },
   {
    "duration": 11,
    "start_time": "2022-01-05T10:15:32.334Z"
   },
   {
    "duration": 5,
    "start_time": "2022-01-05T10:15:32.851Z"
   },
   {
    "duration": 7,
    "start_time": "2022-01-05T10:15:33.676Z"
   },
   {
    "duration": 6,
    "start_time": "2022-01-05T10:15:37.465Z"
   },
   {
    "duration": 7,
    "start_time": "2022-01-05T10:15:53.448Z"
   },
   {
    "duration": 7,
    "start_time": "2022-01-05T10:15:55.620Z"
   },
   {
    "duration": 11,
    "start_time": "2022-01-05T10:16:06.015Z"
   },
   {
    "duration": 5,
    "start_time": "2022-01-05T10:16:08.211Z"
   },
   {
    "duration": 7,
    "start_time": "2022-01-05T10:16:13.922Z"
   },
   {
    "duration": 6,
    "start_time": "2022-01-05T10:16:16.831Z"
   },
   {
    "duration": 754,
    "start_time": "2022-01-05T10:16:54.713Z"
   },
   {
    "duration": 65,
    "start_time": "2022-01-05T10:16:55.470Z"
   },
   {
    "duration": 34,
    "start_time": "2022-01-05T10:16:55.538Z"
   },
   {
    "duration": 20,
    "start_time": "2022-01-05T10:16:55.575Z"
   },
   {
    "duration": 31,
    "start_time": "2022-01-05T10:16:55.598Z"
   },
   {
    "duration": 5,
    "start_time": "2022-01-05T10:16:55.633Z"
   },
   {
    "duration": 14,
    "start_time": "2022-01-05T10:16:55.642Z"
   },
   {
    "duration": 62,
    "start_time": "2022-01-05T10:16:55.661Z"
   },
   {
    "duration": 16,
    "start_time": "2022-01-05T10:16:55.727Z"
   },
   {
    "duration": 7,
    "start_time": "2022-01-05T10:16:55.746Z"
   },
   {
    "duration": 5,
    "start_time": "2022-01-05T10:16:55.756Z"
   },
   {
    "duration": 68,
    "start_time": "2022-01-05T10:16:55.764Z"
   },
   {
    "duration": 15,
    "start_time": "2022-01-05T10:16:55.835Z"
   },
   {
    "duration": 29,
    "start_time": "2022-01-05T10:16:55.852Z"
   },
   {
    "duration": 46,
    "start_time": "2022-01-05T10:16:55.883Z"
   },
   {
    "duration": 20,
    "start_time": "2022-01-05T10:16:55.932Z"
   },
   {
    "duration": 26,
    "start_time": "2022-01-05T10:16:55.954Z"
   },
   {
    "duration": 5110,
    "start_time": "2022-01-05T10:16:55.982Z"
   },
   {
    "duration": 44,
    "start_time": "2022-01-05T10:17:01.095Z"
   },
   {
    "duration": 557,
    "start_time": "2022-01-05T10:17:01.141Z"
   },
   {
    "duration": 7,
    "start_time": "2022-01-05T10:17:01.700Z"
   },
   {
    "duration": 20,
    "start_time": "2022-01-05T10:17:01.709Z"
   },
   {
    "duration": 11,
    "start_time": "2022-01-05T10:17:01.733Z"
   },
   {
    "duration": 6,
    "start_time": "2022-01-05T10:17:01.747Z"
   },
   {
    "duration": 16,
    "start_time": "2022-01-05T10:17:01.755Z"
   },
   {
    "duration": 6,
    "start_time": "2022-01-05T10:17:01.773Z"
   },
   {
    "duration": 49,
    "start_time": "2022-01-05T10:17:01.781Z"
   },
   {
    "duration": 17,
    "start_time": "2022-01-05T10:17:01.833Z"
   },
   {
    "duration": 19,
    "start_time": "2022-01-05T10:17:01.852Z"
   },
   {
    "duration": 28,
    "start_time": "2022-01-05T10:17:01.874Z"
   },
   {
    "duration": 26,
    "start_time": "2022-01-05T10:17:01.905Z"
   },
   {
    "duration": 7,
    "start_time": "2022-01-05T10:17:01.934Z"
   },
   {
    "duration": 13,
    "start_time": "2022-01-05T10:17:01.943Z"
   },
   {
    "duration": 143,
    "start_time": "2022-01-05T10:17:01.959Z"
   },
   {
    "duration": 4980,
    "start_time": "2022-01-05T10:16:57.125Z"
   },
   {
    "duration": 4977,
    "start_time": "2022-01-05T10:16:57.129Z"
   },
   {
    "duration": 4976,
    "start_time": "2022-01-05T10:16:57.132Z"
   },
   {
    "duration": 4975,
    "start_time": "2022-01-05T10:16:57.134Z"
   },
   {
    "duration": 7,
    "start_time": "2022-01-05T10:17:18.937Z"
   },
   {
    "duration": 12,
    "start_time": "2022-01-05T10:18:32.451Z"
   },
   {
    "duration": 5,
    "start_time": "2022-01-05T10:18:33.225Z"
   },
   {
    "duration": 7,
    "start_time": "2022-01-05T10:18:34.329Z"
   },
   {
    "duration": 6,
    "start_time": "2022-01-05T10:18:37.473Z"
   },
   {
    "duration": 12,
    "start_time": "2022-01-05T10:18:51.113Z"
   },
   {
    "duration": 11,
    "start_time": "2022-01-05T10:18:51.545Z"
   },
   {
    "duration": 11,
    "start_time": "2022-01-05T10:20:00.403Z"
   },
   {
    "duration": 8,
    "start_time": "2022-01-05T10:20:02.009Z"
   },
   {
    "duration": 463,
    "start_time": "2022-01-05T10:20:18.062Z"
   },
   {
    "duration": 11,
    "start_time": "2022-01-05T10:20:26.669Z"
   },
   {
    "duration": 9,
    "start_time": "2022-01-05T10:20:29.282Z"
   },
   {
    "duration": 11,
    "start_time": "2022-01-05T10:20:56.691Z"
   },
   {
    "duration": 7,
    "start_time": "2022-01-05T10:21:28.834Z"
   },
   {
    "duration": 8,
    "start_time": "2022-01-05T10:21:29.810Z"
   },
   {
    "duration": 10,
    "start_time": "2022-01-05T10:21:35.234Z"
   },
   {
    "duration": 7902,
    "start_time": "2022-01-05T10:22:48.323Z"
   },
   {
    "duration": 4977,
    "start_time": "2022-01-05T10:22:51.250Z"
   },
   {
    "duration": 7933,
    "start_time": "2022-01-05T10:23:46.949Z"
   },
   {
    "duration": 4971,
    "start_time": "2022-01-05T10:23:49.915Z"
   },
   {
    "duration": 6,
    "start_time": "2022-01-05T10:25:16.754Z"
   },
   {
    "duration": 6,
    "start_time": "2022-01-05T10:25:19.890Z"
   },
   {
    "duration": 10,
    "start_time": "2022-01-05T10:25:35.813Z"
   },
   {
    "duration": 6,
    "start_time": "2022-01-05T10:25:40.803Z"
   },
   {
    "duration": 11,
    "start_time": "2022-01-05T10:27:11.918Z"
   },
   {
    "duration": 7,
    "start_time": "2022-01-05T10:27:21.679Z"
   },
   {
    "duration": 6,
    "start_time": "2022-01-05T10:29:28.942Z"
   },
   {
    "duration": 10,
    "start_time": "2022-01-05T10:29:29.945Z"
   },
   {
    "duration": 8,
    "start_time": "2022-01-05T10:32:10.616Z"
   },
   {
    "duration": 10,
    "start_time": "2022-01-05T10:32:43.973Z"
   },
   {
    "duration": 6,
    "start_time": "2022-01-05T10:32:51.707Z"
   },
   {
    "duration": 7,
    "start_time": "2022-01-05T10:34:58.591Z"
   },
   {
    "duration": 10,
    "start_time": "2022-01-05T10:34:59.039Z"
   },
   {
    "duration": 5,
    "start_time": "2022-01-05T10:35:11.270Z"
   },
   {
    "duration": 6,
    "start_time": "2022-01-05T10:35:20.200Z"
   },
   {
    "duration": 7,
    "start_time": "2022-01-05T10:41:20.417Z"
   },
   {
    "duration": 13,
    "start_time": "2022-01-05T10:41:20.841Z"
   },
   {
    "duration": 13,
    "start_time": "2022-01-05T10:41:21.289Z"
   },
   {
    "duration": 15,
    "start_time": "2022-01-05T10:41:23.168Z"
   },
   {
    "duration": 115,
    "start_time": "2022-01-05T10:41:23.753Z"
   },
   {
    "duration": 111,
    "start_time": "2022-01-05T10:42:06.293Z"
   },
   {
    "duration": 153,
    "start_time": "2022-01-05T10:42:12.352Z"
   },
   {
    "duration": 307,
    "start_time": "2022-01-05T10:43:59.587Z"
   },
   {
    "duration": 357,
    "start_time": "2022-01-05T10:46:09.123Z"
   },
   {
    "duration": 448,
    "start_time": "2022-01-05T10:46:29.467Z"
   },
   {
    "duration": 7,
    "start_time": "2022-01-05T10:46:57.700Z"
   },
   {
    "duration": 13,
    "start_time": "2022-01-05T10:47:35.730Z"
   },
   {
    "duration": 6,
    "start_time": "2022-01-05T10:47:40.322Z"
   },
   {
    "duration": 11,
    "start_time": "2022-01-05T10:47:53.523Z"
   },
   {
    "duration": 11,
    "start_time": "2022-01-05T10:47:55.658Z"
   },
   {
    "duration": 6,
    "start_time": "2022-01-05T10:47:56.777Z"
   },
   {
    "duration": 106,
    "start_time": "2022-01-05T10:48:40.152Z"
   },
   {
    "duration": 5,
    "start_time": "2022-01-05T10:48:46.634Z"
   },
   {
    "duration": 109,
    "start_time": "2022-01-05T10:48:52.753Z"
   },
   {
    "duration": 106,
    "start_time": "2022-01-05T10:49:22.787Z"
   },
   {
    "duration": 5,
    "start_time": "2022-01-05T10:49:28.641Z"
   },
   {
    "duration": 6,
    "start_time": "2022-01-05T10:49:33.709Z"
   },
   {
    "duration": 5,
    "start_time": "2022-01-05T10:49:44.682Z"
   },
   {
    "duration": 133,
    "start_time": "2022-01-05T10:49:48.525Z"
   },
   {
    "duration": 103,
    "start_time": "2022-01-05T10:49:51.524Z"
   },
   {
    "duration": 5,
    "start_time": "2022-01-05T10:54:33.949Z"
   },
   {
    "duration": 5,
    "start_time": "2022-01-05T10:56:09.188Z"
   },
   {
    "duration": 5,
    "start_time": "2022-01-05T10:56:14.074Z"
   },
   {
    "duration": 7,
    "start_time": "2022-01-05T10:56:54.326Z"
   },
   {
    "duration": 122,
    "start_time": "2022-01-05T10:57:03.414Z"
   },
   {
    "duration": 6,
    "start_time": "2022-01-05T10:57:16.878Z"
   },
   {
    "duration": 122,
    "start_time": "2022-01-05T10:59:05.871Z"
   },
   {
    "duration": 6,
    "start_time": "2022-01-05T11:00:30.104Z"
   },
   {
    "duration": 6,
    "start_time": "2022-01-05T11:00:45.627Z"
   },
   {
    "duration": 10,
    "start_time": "2022-01-05T11:01:40.511Z"
   },
   {
    "duration": 7,
    "start_time": "2022-01-05T11:11:41.053Z"
   },
   {
    "duration": 7,
    "start_time": "2022-01-05T11:11:56.189Z"
   },
   {
    "duration": 6,
    "start_time": "2022-01-05T11:12:09.916Z"
   },
   {
    "duration": 5,
    "start_time": "2022-01-05T11:15:20.120Z"
   },
   {
    "duration": 6,
    "start_time": "2022-01-05T11:15:33.197Z"
   },
   {
    "duration": 510,
    "start_time": "2022-01-05T13:43:33.966Z"
   },
   {
    "duration": 45,
    "start_time": "2022-01-05T13:43:34.478Z"
   },
   {
    "duration": 19,
    "start_time": "2022-01-05T13:43:34.525Z"
   },
   {
    "duration": 8,
    "start_time": "2022-01-05T13:43:34.546Z"
   },
   {
    "duration": 8,
    "start_time": "2022-01-05T13:43:34.556Z"
   },
   {
    "duration": 3,
    "start_time": "2022-01-05T13:43:34.565Z"
   },
   {
    "duration": 9,
    "start_time": "2022-01-05T13:43:34.569Z"
   },
   {
    "duration": 6,
    "start_time": "2022-01-05T13:43:34.580Z"
   },
   {
    "duration": 8,
    "start_time": "2022-01-05T13:43:34.587Z"
   },
   {
    "duration": 3,
    "start_time": "2022-01-05T13:43:34.627Z"
   },
   {
    "duration": 4,
    "start_time": "2022-01-05T13:43:34.631Z"
   },
   {
    "duration": 12,
    "start_time": "2022-01-05T13:43:34.637Z"
   },
   {
    "duration": 9,
    "start_time": "2022-01-05T13:43:34.650Z"
   },
   {
    "duration": 13,
    "start_time": "2022-01-05T13:43:34.660Z"
   },
   {
    "duration": 15,
    "start_time": "2022-01-05T13:43:34.675Z"
   },
   {
    "duration": 35,
    "start_time": "2022-01-05T13:43:34.692Z"
   },
   {
    "duration": 13,
    "start_time": "2022-01-05T13:43:34.729Z"
   },
   {
    "duration": 3068,
    "start_time": "2022-01-05T13:43:34.744Z"
   },
   {
    "duration": 25,
    "start_time": "2022-01-05T13:43:37.813Z"
   },
   {
    "duration": 292,
    "start_time": "2022-01-05T13:43:37.840Z"
   },
   {
    "duration": 5,
    "start_time": "2022-01-05T13:43:38.134Z"
   },
   {
    "duration": 5,
    "start_time": "2022-01-05T13:43:38.140Z"
   },
   {
    "duration": 7,
    "start_time": "2022-01-05T13:43:38.148Z"
   },
   {
    "duration": 4,
    "start_time": "2022-01-05T13:43:38.156Z"
   },
   {
    "duration": 12,
    "start_time": "2022-01-05T13:43:38.161Z"
   },
   {
    "duration": 2,
    "start_time": "2022-01-05T13:43:38.175Z"
   },
   {
    "duration": 5,
    "start_time": "2022-01-05T13:43:38.179Z"
   },
   {
    "duration": 5,
    "start_time": "2022-01-05T13:43:38.186Z"
   },
   {
    "duration": 10,
    "start_time": "2022-01-05T13:43:38.192Z"
   },
   {
    "duration": 25,
    "start_time": "2022-01-05T13:43:38.203Z"
   },
   {
    "duration": 344,
    "start_time": "2022-01-05T13:43:38.229Z"
   },
   {
    "duration": 5137,
    "start_time": "2022-01-05T13:43:33.438Z"
   },
   {
    "duration": 5134,
    "start_time": "2022-01-05T13:43:33.441Z"
   },
   {
    "duration": 5132,
    "start_time": "2022-01-05T13:43:33.444Z"
   },
   {
    "duration": 5130,
    "start_time": "2022-01-05T13:43:33.447Z"
   },
   {
    "duration": 5129,
    "start_time": "2022-01-05T13:43:33.449Z"
   },
   {
    "duration": 5127,
    "start_time": "2022-01-05T13:43:33.452Z"
   },
   {
    "duration": 5117,
    "start_time": "2022-01-05T13:43:33.462Z"
   },
   {
    "duration": 5115,
    "start_time": "2022-01-05T13:43:33.465Z"
   },
   {
    "duration": 6,
    "start_time": "2022-01-05T13:45:12.611Z"
   },
   {
    "duration": 4,
    "start_time": "2022-01-05T13:45:13.082Z"
   },
   {
    "duration": 10,
    "start_time": "2022-01-05T13:45:13.555Z"
   },
   {
    "duration": 7,
    "start_time": "2022-01-05T13:45:14.627Z"
   },
   {
    "duration": 8,
    "start_time": "2022-01-05T13:45:15.095Z"
   },
   {
    "duration": 5,
    "start_time": "2022-01-05T13:45:15.570Z"
   },
   {
    "duration": 5,
    "start_time": "2022-01-05T13:45:20.219Z"
   },
   {
    "duration": 4,
    "start_time": "2022-01-05T13:45:20.682Z"
   },
   {
    "duration": 3,
    "start_time": "2022-01-05T13:45:21.202Z"
   },
   {
    "duration": 3,
    "start_time": "2022-01-05T13:45:21.658Z"
   },
   {
    "duration": 5,
    "start_time": "2022-01-05T13:45:57.099Z"
   },
   {
    "duration": 4,
    "start_time": "2022-01-05T13:45:57.650Z"
   },
   {
    "duration": 5,
    "start_time": "2022-01-05T13:45:58.226Z"
   },
   {
    "duration": 3,
    "start_time": "2022-01-05T13:46:00.581Z"
   },
   {
    "duration": 3,
    "start_time": "2022-01-05T13:46:01.163Z"
   },
   {
    "duration": 3,
    "start_time": "2022-01-05T13:46:49.228Z"
   },
   {
    "duration": 3,
    "start_time": "2022-01-05T13:47:32.094Z"
   },
   {
    "duration": 4,
    "start_time": "2022-01-05T13:53:43.526Z"
   },
   {
    "duration": 3,
    "start_time": "2022-01-05T14:12:41.934Z"
   },
   {
    "duration": 4,
    "start_time": "2022-01-05T14:24:52.769Z"
   },
   {
    "duration": 87,
    "start_time": "2022-01-05T14:24:53.797Z"
   },
   {
    "duration": 7,
    "start_time": "2022-01-05T14:25:30.905Z"
   },
   {
    "duration": 5,
    "start_time": "2022-01-05T14:27:06.544Z"
   },
   {
    "duration": 3,
    "start_time": "2022-01-05T14:27:07.533Z"
   },
   {
    "duration": 5,
    "start_time": "2022-01-05T14:27:16.520Z"
   },
   {
    "duration": 3,
    "start_time": "2022-01-05T14:27:17.311Z"
   },
   {
    "duration": 5,
    "start_time": "2022-01-05T14:28:26.451Z"
   },
   {
    "duration": 4,
    "start_time": "2022-01-05T14:28:26.967Z"
   },
   {
    "duration": 6,
    "start_time": "2022-01-05T14:28:39.394Z"
   },
   {
    "duration": 3,
    "start_time": "2022-01-05T14:28:40.007Z"
   },
   {
    "duration": 3,
    "start_time": "2022-01-05T14:29:32.568Z"
   },
   {
    "duration": 7,
    "start_time": "2022-01-05T14:30:33.585Z"
   },
   {
    "duration": 5,
    "start_time": "2022-01-05T14:31:01.695Z"
   },
   {
    "duration": 7,
    "start_time": "2022-01-05T14:31:28.354Z"
   },
   {
    "duration": 7,
    "start_time": "2022-01-05T14:31:28.847Z"
   },
   {
    "duration": 6,
    "start_time": "2022-01-05T14:31:30.364Z"
   },
   {
    "duration": 6,
    "start_time": "2022-01-05T14:31:50.430Z"
   },
   {
    "duration": 9,
    "start_time": "2022-01-05T14:45:12.748Z"
   },
   {
    "duration": 267,
    "start_time": "2022-01-05T14:45:14.404Z"
   },
   {
    "duration": 9,
    "start_time": "2022-01-05T14:45:46.613Z"
   },
   {
    "duration": 5,
    "start_time": "2022-01-05T14:45:47.580Z"
   },
   {
    "duration": 373,
    "start_time": "2022-01-06T16:05:11.122Z"
   },
   {
    "duration": 796,
    "start_time": "2022-01-06T16:05:17.984Z"
   },
   {
    "duration": 66,
    "start_time": "2022-01-06T16:05:18.783Z"
   },
   {
    "duration": 36,
    "start_time": "2022-01-06T16:05:18.852Z"
   },
   {
    "duration": 46,
    "start_time": "2022-01-06T16:05:18.891Z"
   },
   {
    "duration": 13,
    "start_time": "2022-01-06T16:05:18.939Z"
   },
   {
    "duration": 4,
    "start_time": "2022-01-06T16:05:18.955Z"
   },
   {
    "duration": 11,
    "start_time": "2022-01-06T16:05:18.961Z"
   },
   {
    "duration": 47,
    "start_time": "2022-01-06T16:05:18.978Z"
   },
   {
    "duration": 13,
    "start_time": "2022-01-06T16:05:19.028Z"
   },
   {
    "duration": 6,
    "start_time": "2022-01-06T16:05:19.043Z"
   },
   {
    "duration": 9,
    "start_time": "2022-01-06T16:05:19.051Z"
   },
   {
    "duration": 17,
    "start_time": "2022-01-06T16:05:19.063Z"
   },
   {
    "duration": 54,
    "start_time": "2022-01-06T16:05:19.083Z"
   },
   {
    "duration": 32,
    "start_time": "2022-01-06T16:05:19.140Z"
   },
   {
    "duration": 73,
    "start_time": "2022-01-06T16:05:19.174Z"
   },
   {
    "duration": 27,
    "start_time": "2022-01-06T16:05:19.250Z"
   },
   {
    "duration": 62,
    "start_time": "2022-01-06T16:05:19.280Z"
   },
   {
    "duration": 98,
    "start_time": "2022-01-06T16:05:19.344Z"
   },
   {
    "duration": 7621,
    "start_time": "2022-01-06T16:05:11.825Z"
   },
   {
    "duration": 7620,
    "start_time": "2022-01-06T16:05:11.828Z"
   },
   {
    "duration": 7619,
    "start_time": "2022-01-06T16:05:11.832Z"
   },
   {
    "duration": 7617,
    "start_time": "2022-01-06T16:05:11.835Z"
   },
   {
    "duration": 7617,
    "start_time": "2022-01-06T16:05:11.837Z"
   },
   {
    "duration": 7617,
    "start_time": "2022-01-06T16:05:11.839Z"
   },
   {
    "duration": 7615,
    "start_time": "2022-01-06T16:05:11.843Z"
   },
   {
    "duration": 7615,
    "start_time": "2022-01-06T16:05:11.845Z"
   },
   {
    "duration": 7615,
    "start_time": "2022-01-06T16:05:11.847Z"
   },
   {
    "duration": 7589,
    "start_time": "2022-01-06T16:05:11.874Z"
   },
   {
    "duration": 7589,
    "start_time": "2022-01-06T16:05:11.876Z"
   },
   {
    "duration": 7587,
    "start_time": "2022-01-06T16:05:11.880Z"
   },
   {
    "duration": 7582,
    "start_time": "2022-01-06T16:05:11.888Z"
   },
   {
    "duration": 7582,
    "start_time": "2022-01-06T16:05:11.890Z"
   },
   {
    "duration": 7581,
    "start_time": "2022-01-06T16:05:11.892Z"
   },
   {
    "duration": 7580,
    "start_time": "2022-01-06T16:05:11.895Z"
   },
   {
    "duration": 7575,
    "start_time": "2022-01-06T16:05:11.902Z"
   },
   {
    "duration": 7574,
    "start_time": "2022-01-06T16:05:11.904Z"
   },
   {
    "duration": 7574,
    "start_time": "2022-01-06T16:05:11.906Z"
   },
   {
    "duration": 7572,
    "start_time": "2022-01-06T16:05:11.909Z"
   },
   {
    "duration": 7567,
    "start_time": "2022-01-06T16:05:11.916Z"
   },
   {
    "duration": 7565,
    "start_time": "2022-01-06T16:05:11.920Z"
   },
   {
    "duration": 7601,
    "start_time": "2022-01-06T16:05:11.922Z"
   },
   {
    "duration": 7595,
    "start_time": "2022-01-06T16:05:11.929Z"
   },
   {
    "duration": 7593,
    "start_time": "2022-01-06T16:05:11.933Z"
   },
   {
    "duration": 7592,
    "start_time": "2022-01-06T16:05:11.936Z"
   },
   {
    "duration": 7590,
    "start_time": "2022-01-06T16:05:11.939Z"
   },
   {
    "duration": 140,
    "start_time": "2022-01-06T16:05:53.686Z"
   },
   {
    "duration": 5819,
    "start_time": "2022-01-06T16:06:06.981Z"
   },
   {
    "duration": 50,
    "start_time": "2022-01-06T16:06:12.803Z"
   },
   {
    "duration": 4,
    "start_time": "2022-01-06T16:06:28.985Z"
   },
   {
    "duration": 72,
    "start_time": "2022-01-06T16:06:28.992Z"
   },
   {
    "duration": 59,
    "start_time": "2022-01-06T16:06:29.067Z"
   },
   {
    "duration": 16,
    "start_time": "2022-01-06T16:06:29.129Z"
   },
   {
    "duration": 11,
    "start_time": "2022-01-06T16:06:29.147Z"
   },
   {
    "duration": 4,
    "start_time": "2022-01-06T16:06:29.161Z"
   },
   {
    "duration": 54,
    "start_time": "2022-01-06T16:06:29.169Z"
   },
   {
    "duration": 10,
    "start_time": "2022-01-06T16:06:29.227Z"
   },
   {
    "duration": 14,
    "start_time": "2022-01-06T16:06:29.239Z"
   },
   {
    "duration": 8,
    "start_time": "2022-01-06T16:06:29.255Z"
   },
   {
    "duration": 59,
    "start_time": "2022-01-06T16:06:29.266Z"
   },
   {
    "duration": 21,
    "start_time": "2022-01-06T16:06:29.328Z"
   },
   {
    "duration": 18,
    "start_time": "2022-01-06T16:06:29.352Z"
   },
   {
    "duration": 20,
    "start_time": "2022-01-06T16:06:29.372Z"
   },
   {
    "duration": 51,
    "start_time": "2022-01-06T16:06:29.395Z"
   },
   {
    "duration": 26,
    "start_time": "2022-01-06T16:06:29.449Z"
   },
   {
    "duration": 57,
    "start_time": "2022-01-06T16:06:29.477Z"
   },
   {
    "duration": 6217,
    "start_time": "2022-01-06T16:06:29.536Z"
   },
   {
    "duration": 36,
    "start_time": "2022-01-06T16:06:35.761Z"
   },
   {
    "duration": 561,
    "start_time": "2022-01-06T16:06:35.800Z"
   },
   {
    "duration": 108,
    "start_time": "2022-01-06T16:06:36.363Z"
   },
   {
    "duration": 7620,
    "start_time": "2022-01-06T16:06:28.853Z"
   },
   {
    "duration": 7618,
    "start_time": "2022-01-06T16:06:28.857Z"
   },
   {
    "duration": 7617,
    "start_time": "2022-01-06T16:06:28.859Z"
   },
   {
    "duration": 7616,
    "start_time": "2022-01-06T16:06:28.863Z"
   },
   {
    "duration": 7616,
    "start_time": "2022-01-06T16:06:28.865Z"
   },
   {
    "duration": 7615,
    "start_time": "2022-01-06T16:06:28.868Z"
   },
   {
    "duration": 7614,
    "start_time": "2022-01-06T16:06:28.870Z"
   },
   {
    "duration": 7614,
    "start_time": "2022-01-06T16:06:28.872Z"
   },
   {
    "duration": 7614,
    "start_time": "2022-01-06T16:06:28.874Z"
   },
   {
    "duration": 7613,
    "start_time": "2022-01-06T16:06:28.877Z"
   },
   {
    "duration": 7612,
    "start_time": "2022-01-06T16:06:28.879Z"
   },
   {
    "duration": 7606,
    "start_time": "2022-01-06T16:06:28.887Z"
   },
   {
    "duration": 7606,
    "start_time": "2022-01-06T16:06:28.889Z"
   },
   {
    "duration": 7606,
    "start_time": "2022-01-06T16:06:28.891Z"
   },
   {
    "duration": 7606,
    "start_time": "2022-01-06T16:06:28.893Z"
   },
   {
    "duration": 7606,
    "start_time": "2022-01-06T16:06:28.895Z"
   },
   {
    "duration": 7601,
    "start_time": "2022-01-06T16:06:28.902Z"
   },
   {
    "duration": 7601,
    "start_time": "2022-01-06T16:06:28.904Z"
   },
   {
    "duration": 7600,
    "start_time": "2022-01-06T16:06:28.907Z"
   },
   {
    "duration": 7595,
    "start_time": "2022-01-06T16:06:28.914Z"
   },
   {
    "duration": 7594,
    "start_time": "2022-01-06T16:06:28.916Z"
   },
   {
    "duration": 7594,
    "start_time": "2022-01-06T16:06:28.918Z"
   },
   {
    "duration": 7593,
    "start_time": "2022-01-06T16:06:28.920Z"
   },
   {
    "duration": 3,
    "start_time": "2022-01-06T16:06:49.159Z"
   },
   {
    "duration": 72,
    "start_time": "2022-01-06T16:06:49.165Z"
   },
   {
    "duration": 36,
    "start_time": "2022-01-06T16:06:49.241Z"
   },
   {
    "duration": 15,
    "start_time": "2022-01-06T16:06:49.324Z"
   },
   {
    "duration": 14,
    "start_time": "2022-01-06T16:06:49.342Z"
   },
   {
    "duration": 4,
    "start_time": "2022-01-06T16:06:49.359Z"
   },
   {
    "duration": 16,
    "start_time": "2022-01-06T16:06:49.367Z"
   },
   {
    "duration": 38,
    "start_time": "2022-01-06T16:06:49.386Z"
   },
   {
    "duration": 12,
    "start_time": "2022-01-06T16:06:49.427Z"
   },
   {
    "duration": 5,
    "start_time": "2022-01-06T16:06:49.441Z"
   },
   {
    "duration": 5,
    "start_time": "2022-01-06T16:06:49.448Z"
   },
   {
    "duration": 18,
    "start_time": "2022-01-06T16:06:49.456Z"
   },
   {
    "duration": 52,
    "start_time": "2022-01-06T16:06:49.476Z"
   },
   {
    "duration": 24,
    "start_time": "2022-01-06T16:06:49.531Z"
   },
   {
    "duration": 33,
    "start_time": "2022-01-06T16:06:49.558Z"
   },
   {
    "duration": 44,
    "start_time": "2022-01-06T16:06:49.593Z"
   },
   {
    "duration": 33,
    "start_time": "2022-01-06T16:06:49.648Z"
   },
   {
    "duration": 5193,
    "start_time": "2022-01-06T16:06:49.683Z"
   },
   {
    "duration": 64,
    "start_time": "2022-01-06T16:06:54.883Z"
   },
   {
    "duration": 546,
    "start_time": "2022-01-06T16:06:54.950Z"
   },
   {
    "duration": 6,
    "start_time": "2022-01-06T16:06:55.499Z"
   },
   {
    "duration": 18,
    "start_time": "2022-01-06T16:06:55.507Z"
   },
   {
    "duration": 19,
    "start_time": "2022-01-06T16:06:55.527Z"
   },
   {
    "duration": 15,
    "start_time": "2022-01-06T16:06:55.548Z"
   },
   {
    "duration": 8,
    "start_time": "2022-01-06T16:06:55.565Z"
   },
   {
    "duration": 7,
    "start_time": "2022-01-06T16:06:55.575Z"
   },
   {
    "duration": 10,
    "start_time": "2022-01-06T16:06:55.584Z"
   },
   {
    "duration": 27,
    "start_time": "2022-01-06T16:06:55.597Z"
   },
   {
    "duration": 10,
    "start_time": "2022-01-06T16:06:55.627Z"
   },
   {
    "duration": 7,
    "start_time": "2022-01-06T16:06:55.639Z"
   },
   {
    "duration": 13,
    "start_time": "2022-01-06T16:06:55.648Z"
   },
   {
    "duration": 11,
    "start_time": "2022-01-06T16:06:55.663Z"
   },
   {
    "duration": 12,
    "start_time": "2022-01-06T16:06:55.676Z"
   },
   {
    "duration": 8,
    "start_time": "2022-01-06T16:06:55.723Z"
   },
   {
    "duration": 5,
    "start_time": "2022-01-06T16:06:55.734Z"
   },
   {
    "duration": 9,
    "start_time": "2022-01-06T16:06:55.742Z"
   },
   {
    "duration": 5,
    "start_time": "2022-01-06T16:06:55.754Z"
   },
   {
    "duration": 10,
    "start_time": "2022-01-06T16:06:55.761Z"
   },
   {
    "duration": 50,
    "start_time": "2022-01-06T16:06:55.774Z"
   },
   {
    "duration": 13,
    "start_time": "2022-01-06T16:06:55.827Z"
   },
   {
    "duration": 13,
    "start_time": "2022-01-06T16:06:55.843Z"
   },
   {
    "duration": 11,
    "start_time": "2022-01-06T16:06:55.859Z"
   },
   {
    "duration": 53,
    "start_time": "2022-01-06T16:06:55.873Z"
   },
   {
    "duration": 111,
    "start_time": "2022-01-06T16:14:32.161Z"
   },
   {
    "duration": 323,
    "start_time": "2022-01-06T16:14:32.592Z"
   },
   {
    "duration": 7,
    "start_time": "2022-01-06T16:14:43.357Z"
   },
   {
    "duration": 6,
    "start_time": "2022-01-06T16:14:44.743Z"
   },
   {
    "duration": 13,
    "start_time": "2022-01-06T16:14:52.492Z"
   },
   {
    "duration": 13,
    "start_time": "2022-01-06T16:14:56.305Z"
   },
   {
    "duration": 7,
    "start_time": "2022-01-06T16:15:08.856Z"
   },
   {
    "duration": 5,
    "start_time": "2022-01-06T16:15:09.707Z"
   },
   {
    "duration": 6,
    "start_time": "2022-01-06T16:22:25.579Z"
   },
   {
    "duration": 7,
    "start_time": "2022-01-06T16:22:26.114Z"
   },
   {
    "duration": 106,
    "start_time": "2022-01-06T16:22:26.705Z"
   },
   {
    "duration": 197,
    "start_time": "2022-01-06T16:22:45.315Z"
   },
   {
    "duration": 409,
    "start_time": "2022-01-06T16:22:49.595Z"
   },
   {
    "duration": 12,
    "start_time": "2022-01-06T16:23:19.975Z"
   },
   {
    "duration": 7,
    "start_time": "2022-01-06T16:23:23.198Z"
   },
   {
    "duration": 150,
    "start_time": "2022-01-06T16:29:25.950Z"
   },
   {
    "duration": 7642,
    "start_time": "2022-01-06T16:31:34.751Z"
   },
   {
    "duration": 10,
    "start_time": "2022-01-06T16:31:44.939Z"
   },
   {
    "duration": 14,
    "start_time": "2022-01-06T16:33:29.656Z"
   },
   {
    "duration": 18,
    "start_time": "2022-01-06T16:35:06.624Z"
   },
   {
    "duration": 15,
    "start_time": "2022-01-06T16:36:07.856Z"
   },
   {
    "duration": 6,
    "start_time": "2022-01-06T16:36:48.703Z"
   },
   {
    "duration": 16,
    "start_time": "2022-01-06T16:36:49.190Z"
   },
   {
    "duration": 14,
    "start_time": "2022-01-06T16:36:52.871Z"
   },
   {
    "duration": 13,
    "start_time": "2022-01-06T16:36:54.783Z"
   },
   {
    "duration": 13,
    "start_time": "2022-01-06T16:36:55.375Z"
   },
   {
    "duration": 324,
    "start_time": "2022-01-06T16:48:16.535Z"
   },
   {
    "duration": 10,
    "start_time": "2022-01-06T16:48:20.590Z"
   },
   {
    "duration": 7,
    "start_time": "2022-01-06T16:48:40.585Z"
   },
   {
    "duration": 318,
    "start_time": "2022-01-06T16:52:29.091Z"
   },
   {
    "duration": 6,
    "start_time": "2022-01-06T16:52:49.860Z"
   },
   {
    "duration": 321,
    "start_time": "2022-01-06T16:52:52.020Z"
   },
   {
    "duration": 5,
    "start_time": "2022-01-06T16:53:32.180Z"
   },
   {
    "duration": 355,
    "start_time": "2022-01-06T16:54:02.829Z"
   },
   {
    "duration": 5,
    "start_time": "2022-01-06T16:54:22.457Z"
   },
   {
    "duration": 473,
    "start_time": "2022-01-06T16:54:22.989Z"
   },
   {
    "duration": 415,
    "start_time": "2022-01-06T16:54:32.833Z"
   },
   {
    "duration": 412,
    "start_time": "2022-01-06T16:55:17.919Z"
   },
   {
    "duration": 5,
    "start_time": "2022-01-06T16:57:19.158Z"
   },
   {
    "duration": 113,
    "start_time": "2022-01-06T16:58:30.351Z"
   },
   {
    "duration": 5,
    "start_time": "2022-01-06T16:58:34.299Z"
   },
   {
    "duration": 7,
    "start_time": "2022-01-06T16:58:45.494Z"
   },
   {
    "duration": 312,
    "start_time": "2022-01-06T16:59:40.736Z"
   },
   {
    "duration": 5,
    "start_time": "2022-01-06T16:59:55.117Z"
   },
   {
    "duration": 16,
    "start_time": "2022-01-06T17:00:05.351Z"
   },
   {
    "duration": 11,
    "start_time": "2022-01-06T17:00:08.733Z"
   },
   {
    "duration": 15,
    "start_time": "2022-01-06T17:01:06.551Z"
   },
   {
    "duration": 12,
    "start_time": "2022-01-06T17:01:07.990Z"
   },
   {
    "duration": 345,
    "start_time": "2022-01-06T17:06:28.204Z"
   },
   {
    "duration": 1918,
    "start_time": "2022-01-06T17:06:47.901Z"
   },
   {
    "duration": 11,
    "start_time": "2022-01-06T17:07:59.615Z"
   },
   {
    "duration": 7,
    "start_time": "2022-01-06T17:09:43.686Z"
   },
   {
    "duration": 10,
    "start_time": "2022-01-06T17:09:50.458Z"
   },
   {
    "duration": 336,
    "start_time": "2022-01-06T17:13:15.299Z"
   },
   {
    "duration": 7,
    "start_time": "2022-01-06T17:13:27.492Z"
   },
   {
    "duration": 4,
    "start_time": "2022-01-06T17:14:01.837Z"
   },
   {
    "duration": 5,
    "start_time": "2022-01-06T17:14:06.669Z"
   },
   {
    "duration": 129,
    "start_time": "2022-01-06T17:25:18.168Z"
   },
   {
    "duration": 23,
    "start_time": "2022-01-06T17:25:23.400Z"
   },
   {
    "duration": 24,
    "start_time": "2022-01-06T17:25:30.703Z"
   },
   {
    "duration": 3,
    "start_time": "2022-01-06T17:31:46.946Z"
   },
   {
    "duration": 6,
    "start_time": "2022-01-06T17:31:47.427Z"
   },
   {
    "duration": 6,
    "start_time": "2022-01-06T17:31:47.987Z"
   },
   {
    "duration": 4,
    "start_time": "2022-01-06T17:31:48.490Z"
   },
   {
    "duration": 5,
    "start_time": "2022-01-06T17:31:49.091Z"
   },
   {
    "duration": 5,
    "start_time": "2022-01-06T17:31:49.817Z"
   },
   {
    "duration": 9,
    "start_time": "2022-01-06T17:31:50.546Z"
   },
   {
    "duration": 14,
    "start_time": "2022-01-06T17:31:52.994Z"
   },
   {
    "duration": 9,
    "start_time": "2022-01-06T17:31:53.637Z"
   },
   {
    "duration": 5,
    "start_time": "2022-01-06T17:32:57.604Z"
   },
   {
    "duration": 9,
    "start_time": "2022-01-06T17:32:58.274Z"
   },
   {
    "duration": 14,
    "start_time": "2022-01-06T17:32:58.890Z"
   },
   {
    "duration": 9,
    "start_time": "2022-01-06T17:32:59.393Z"
   },
   {
    "duration": 16,
    "start_time": "2022-01-06T17:38:14.420Z"
   },
   {
    "duration": 399,
    "start_time": "2022-01-06T17:38:15.436Z"
   },
   {
    "duration": 13,
    "start_time": "2022-01-06T17:39:09.134Z"
   },
   {
    "duration": 315,
    "start_time": "2022-01-06T17:39:09.829Z"
   },
   {
    "duration": 11,
    "start_time": "2022-01-06T17:39:30.688Z"
   },
   {
    "duration": 14,
    "start_time": "2022-01-06T17:39:31.172Z"
   },
   {
    "duration": 317,
    "start_time": "2022-01-06T17:39:31.654Z"
   },
   {
    "duration": 9,
    "start_time": "2022-01-06T17:40:15.110Z"
   },
   {
    "duration": 16,
    "start_time": "2022-01-06T17:40:15.638Z"
   },
   {
    "duration": 10,
    "start_time": "2022-01-06T17:40:16.085Z"
   },
   {
    "duration": 5,
    "start_time": "2022-01-06T17:44:24.904Z"
   },
   {
    "duration": 11,
    "start_time": "2022-01-06T17:44:25.326Z"
   },
   {
    "duration": 332,
    "start_time": "2022-01-06T17:44:25.765Z"
   },
   {
    "duration": 13,
    "start_time": "2022-01-06T17:44:52.740Z"
   },
   {
    "duration": 10,
    "start_time": "2022-01-06T17:44:54.342Z"
   },
   {
    "duration": 8,
    "start_time": "2022-01-06T17:46:43.115Z"
   },
   {
    "duration": 9,
    "start_time": "2022-01-06T18:00:19.736Z"
   },
   {
    "duration": 11,
    "start_time": "2022-01-06T18:00:30.073Z"
   },
   {
    "duration": 9,
    "start_time": "2022-01-06T18:04:37.389Z"
   },
   {
    "duration": 9,
    "start_time": "2022-01-06T18:04:54.116Z"
   },
   {
    "duration": 112,
    "start_time": "2022-01-06T18:05:09.454Z"
   },
   {
    "duration": 9,
    "start_time": "2022-01-06T18:05:20.747Z"
   },
   {
    "duration": 105,
    "start_time": "2022-01-06T18:05:37.174Z"
   },
   {
    "duration": 11,
    "start_time": "2022-01-06T18:06:15.406Z"
   },
   {
    "duration": 11,
    "start_time": "2022-01-06T18:08:42.190Z"
   },
   {
    "duration": 11,
    "start_time": "2022-01-06T18:09:28.351Z"
   },
   {
    "duration": 16,
    "start_time": "2022-01-06T18:16:20.215Z"
   },
   {
    "duration": 10,
    "start_time": "2022-01-06T18:17:44.575Z"
   },
   {
    "duration": 13,
    "start_time": "2022-01-06T18:20:28.551Z"
   },
   {
    "duration": 12,
    "start_time": "2022-01-06T18:26:46.891Z"
   },
   {
    "duration": 7,
    "start_time": "2022-01-06T18:29:53.074Z"
   },
   {
    "duration": 20,
    "start_time": "2022-01-06T18:33:14.029Z"
   },
   {
    "duration": 9,
    "start_time": "2022-01-06T18:33:16.676Z"
   },
   {
    "duration": 3,
    "start_time": "2022-01-06T18:36:20.892Z"
   },
   {
    "duration": 22,
    "start_time": "2022-01-06T18:36:21.740Z"
   },
   {
    "duration": 9,
    "start_time": "2022-01-06T18:36:23.340Z"
   },
   {
    "duration": 8,
    "start_time": "2022-01-06T18:39:14.422Z"
   },
   {
    "duration": 7,
    "start_time": "2022-01-06T18:39:15.030Z"
   },
   {
    "duration": 31,
    "start_time": "2022-01-06T18:41:12.167Z"
   },
   {
    "duration": 9,
    "start_time": "2022-01-06T18:41:12.662Z"
   },
   {
    "duration": 30,
    "start_time": "2022-01-06T18:50:11.530Z"
   },
   {
    "duration": 430,
    "start_time": "2022-01-06T18:50:12.033Z"
   },
   {
    "duration": 343,
    "start_time": "2022-01-06T18:50:23.782Z"
   },
   {
    "duration": 326,
    "start_time": "2022-01-06T18:50:32.596Z"
   },
   {
    "duration": 326,
    "start_time": "2022-01-06T18:50:39.768Z"
   },
   {
    "duration": 4,
    "start_time": "2022-01-06T18:50:49.461Z"
   },
   {
    "duration": 308,
    "start_time": "2022-01-06T18:50:51.890Z"
   },
   {
    "duration": 9,
    "start_time": "2022-01-06T18:52:03.882Z"
   },
   {
    "duration": 9,
    "start_time": "2022-01-06T18:53:09.023Z"
   },
   {
    "duration": 8,
    "start_time": "2022-01-06T19:02:42.211Z"
   },
   {
    "duration": 7,
    "start_time": "2022-01-06T19:02:53.613Z"
   },
   {
    "duration": 4,
    "start_time": "2022-01-06T19:04:19.025Z"
   },
   {
    "duration": 62,
    "start_time": "2022-01-06T19:04:19.031Z"
   },
   {
    "duration": 52,
    "start_time": "2022-01-06T19:04:19.096Z"
   },
   {
    "duration": 15,
    "start_time": "2022-01-06T19:04:19.151Z"
   },
   {
    "duration": 55,
    "start_time": "2022-01-06T19:04:19.168Z"
   },
   {
    "duration": 4,
    "start_time": "2022-01-06T19:04:19.226Z"
   },
   {
    "duration": 12,
    "start_time": "2022-01-06T19:04:19.232Z"
   },
   {
    "duration": 9,
    "start_time": "2022-01-06T19:04:19.246Z"
   },
   {
    "duration": 11,
    "start_time": "2022-01-06T19:04:19.259Z"
   },
   {
    "duration": 54,
    "start_time": "2022-01-06T19:04:19.273Z"
   },
   {
    "duration": 8,
    "start_time": "2022-01-06T19:04:19.329Z"
   },
   {
    "duration": 22,
    "start_time": "2022-01-06T19:04:19.340Z"
   },
   {
    "duration": 22,
    "start_time": "2022-01-06T19:04:19.365Z"
   },
   {
    "duration": 51,
    "start_time": "2022-01-06T19:04:19.389Z"
   },
   {
    "duration": 26,
    "start_time": "2022-01-06T19:04:19.442Z"
   },
   {
    "duration": 19,
    "start_time": "2022-01-06T19:04:19.471Z"
   },
   {
    "duration": 54,
    "start_time": "2022-01-06T19:04:19.492Z"
   },
   {
    "duration": 5101,
    "start_time": "2022-01-06T19:04:19.548Z"
   },
   {
    "duration": 37,
    "start_time": "2022-01-06T19:04:24.652Z"
   },
   {
    "duration": 542,
    "start_time": "2022-01-06T19:04:24.692Z"
   },
   {
    "duration": 8,
    "start_time": "2022-01-06T19:04:25.236Z"
   },
   {
    "duration": 15,
    "start_time": "2022-01-06T19:04:25.247Z"
   },
   {
    "duration": 5,
    "start_time": "2022-01-06T19:04:25.268Z"
   },
   {
    "duration": 52,
    "start_time": "2022-01-06T19:04:25.276Z"
   },
   {
    "duration": 7,
    "start_time": "2022-01-06T19:04:25.331Z"
   },
   {
    "duration": 9,
    "start_time": "2022-01-06T19:04:25.340Z"
   },
   {
    "duration": 10,
    "start_time": "2022-01-06T19:04:25.355Z"
   },
   {
    "duration": 64,
    "start_time": "2022-01-06T19:04:25.368Z"
   },
   {
    "duration": 8,
    "start_time": "2022-01-06T19:04:25.435Z"
   },
   {
    "duration": 4,
    "start_time": "2022-01-06T19:04:25.445Z"
   },
   {
    "duration": 28,
    "start_time": "2022-01-06T19:04:25.451Z"
   },
   {
    "duration": 8,
    "start_time": "2022-01-06T19:04:25.482Z"
   },
   {
    "duration": 35,
    "start_time": "2022-01-06T19:04:25.493Z"
   },
   {
    "duration": 38,
    "start_time": "2022-01-06T19:04:25.530Z"
   },
   {
    "duration": 53,
    "start_time": "2022-01-06T19:04:25.570Z"
   },
   {
    "duration": 9,
    "start_time": "2022-01-06T19:09:04.819Z"
   },
   {
    "duration": 12,
    "start_time": "2022-01-06T19:10:32.033Z"
   },
   {
    "duration": 10,
    "start_time": "2022-01-06T19:11:23.817Z"
   },
   {
    "duration": 17,
    "start_time": "2022-01-06T19:11:24.415Z"
   },
   {
    "duration": 9,
    "start_time": "2022-01-06T19:11:44.915Z"
   },
   {
    "duration": 16,
    "start_time": "2022-01-06T19:11:45.423Z"
   },
   {
    "duration": 10,
    "start_time": "2022-01-06T19:12:00.606Z"
   },
   {
    "duration": 16,
    "start_time": "2022-01-06T19:12:01.280Z"
   },
   {
    "duration": 34,
    "start_time": "2022-01-06T19:12:03.486Z"
   },
   {
    "duration": 9,
    "start_time": "2022-01-06T19:12:05.110Z"
   },
   {
    "duration": 17,
    "start_time": "2022-01-06T19:13:53.859Z"
   },
   {
    "duration": 395,
    "start_time": "2022-01-07T06:52:54.081Z"
   },
   {
    "duration": 749,
    "start_time": "2022-01-07T06:52:58.442Z"
   },
   {
    "duration": 62,
    "start_time": "2022-01-07T06:52:59.194Z"
   },
   {
    "duration": 38,
    "start_time": "2022-01-07T06:52:59.258Z"
   },
   {
    "duration": 29,
    "start_time": "2022-01-07T06:52:59.299Z"
   },
   {
    "duration": 14,
    "start_time": "2022-01-07T06:52:59.331Z"
   },
   {
    "duration": 4,
    "start_time": "2022-01-07T06:52:59.348Z"
   },
   {
    "duration": 10,
    "start_time": "2022-01-07T06:52:59.355Z"
   },
   {
    "duration": 9,
    "start_time": "2022-01-07T06:52:59.367Z"
   },
   {
    "duration": 13,
    "start_time": "2022-01-07T06:52:59.419Z"
   },
   {
    "duration": 11,
    "start_time": "2022-01-07T06:52:59.436Z"
   },
   {
    "duration": 8,
    "start_time": "2022-01-07T06:52:59.449Z"
   },
   {
    "duration": 25,
    "start_time": "2022-01-07T06:52:59.459Z"
   },
   {
    "duration": 37,
    "start_time": "2022-01-07T06:52:59.486Z"
   },
   {
    "duration": 23,
    "start_time": "2022-01-07T06:52:59.527Z"
   },
   {
    "duration": 29,
    "start_time": "2022-01-07T06:52:59.553Z"
   },
   {
    "duration": 51,
    "start_time": "2022-01-07T06:52:59.585Z"
   },
   {
    "duration": 28,
    "start_time": "2022-01-07T06:52:59.638Z"
   },
   {
    "duration": 4494,
    "start_time": "2022-01-07T06:52:59.668Z"
   },
   {
    "duration": 52,
    "start_time": "2022-01-07T06:53:04.165Z"
   },
   {
    "duration": 520,
    "start_time": "2022-01-07T06:53:04.219Z"
   },
   {
    "duration": 7,
    "start_time": "2022-01-07T06:53:04.741Z"
   },
   {
    "duration": 16,
    "start_time": "2022-01-07T06:53:04.750Z"
   },
   {
    "duration": 32,
    "start_time": "2022-01-07T06:53:04.768Z"
   },
   {
    "duration": 16,
    "start_time": "2022-01-07T06:53:04.802Z"
   },
   {
    "duration": 10,
    "start_time": "2022-01-07T06:53:04.820Z"
   },
   {
    "duration": 8,
    "start_time": "2022-01-07T06:53:04.833Z"
   },
   {
    "duration": 15,
    "start_time": "2022-01-07T06:53:04.846Z"
   },
   {
    "duration": 66,
    "start_time": "2022-01-07T06:53:04.864Z"
   },
   {
    "duration": 8,
    "start_time": "2022-01-07T06:53:04.932Z"
   },
   {
    "duration": 6,
    "start_time": "2022-01-07T06:53:04.943Z"
   },
   {
    "duration": 32,
    "start_time": "2022-01-07T06:53:04.951Z"
   },
   {
    "duration": 32,
    "start_time": "2022-01-07T06:53:04.985Z"
   },
   {
    "duration": 12,
    "start_time": "2022-01-07T06:53:05.019Z"
   },
   {
    "duration": 387,
    "start_time": "2022-01-07T06:53:05.034Z"
   },
   {
    "duration": 9050,
    "start_time": "2022-01-07T06:52:56.374Z"
   },
   {
    "duration": 37,
    "start_time": "2022-01-07T06:54:13.679Z"
   },
   {
    "duration": 10,
    "start_time": "2022-01-07T06:54:19.997Z"
   },
   {
    "duration": 103,
    "start_time": "2022-01-07T06:55:33.421Z"
   },
   {
    "duration": 118,
    "start_time": "2022-01-07T06:55:49.081Z"
   },
   {
    "duration": 12,
    "start_time": "2022-01-07T06:55:58.645Z"
   },
   {
    "duration": 16,
    "start_time": "2022-01-07T06:56:55.929Z"
   },
   {
    "duration": 112,
    "start_time": "2022-01-07T06:57:02.864Z"
   },
   {
    "duration": 10,
    "start_time": "2022-01-07T06:57:08.272Z"
   },
   {
    "duration": 6,
    "start_time": "2022-01-07T06:57:54.087Z"
   },
   {
    "duration": 4,
    "start_time": "2022-01-07T06:58:55.120Z"
   },
   {
    "duration": 969,
    "start_time": "2022-01-07T06:59:17.950Z"
   },
   {
    "duration": 100,
    "start_time": "2022-01-07T06:59:26.278Z"
   },
   {
    "duration": 333,
    "start_time": "2022-01-07T07:02:22.997Z"
   },
   {
    "duration": 324,
    "start_time": "2022-01-07T07:03:23.100Z"
   },
   {
    "duration": 6,
    "start_time": "2022-01-07T07:04:06.555Z"
   },
   {
    "duration": 6,
    "start_time": "2022-01-07T07:04:50.131Z"
   },
   {
    "duration": 9,
    "start_time": "2022-01-07T07:05:10.399Z"
   },
   {
    "duration": 9,
    "start_time": "2022-01-07T07:06:30.578Z"
   },
   {
    "duration": 10,
    "start_time": "2022-01-07T07:06:38.060Z"
   },
   {
    "duration": 10,
    "start_time": "2022-01-07T07:06:56.129Z"
   },
   {
    "duration": 111,
    "start_time": "2022-01-07T07:13:14.275Z"
   },
   {
    "duration": 12,
    "start_time": "2022-01-07T07:20:40.828Z"
   },
   {
    "duration": 11,
    "start_time": "2022-01-07T07:21:02.348Z"
   },
   {
    "duration": 8,
    "start_time": "2022-01-07T07:27:23.614Z"
   },
   {
    "duration": 9,
    "start_time": "2022-01-07T11:04:01.383Z"
   },
   {
    "duration": 717,
    "start_time": "2022-01-08T08:18:44.187Z"
   },
   {
    "duration": 64,
    "start_time": "2022-01-08T08:18:44.907Z"
   },
   {
    "duration": 36,
    "start_time": "2022-01-08T08:18:44.974Z"
   },
   {
    "duration": 21,
    "start_time": "2022-01-08T08:18:45.013Z"
   },
   {
    "duration": 29,
    "start_time": "2022-01-08T08:18:45.036Z"
   },
   {
    "duration": 5,
    "start_time": "2022-01-08T08:18:45.067Z"
   },
   {
    "duration": 12,
    "start_time": "2022-01-08T08:18:45.074Z"
   },
   {
    "duration": 9,
    "start_time": "2022-01-08T08:18:45.090Z"
   },
   {
    "duration": 12,
    "start_time": "2022-01-08T08:18:45.102Z"
   },
   {
    "duration": 45,
    "start_time": "2022-01-08T08:18:45.116Z"
   },
   {
    "duration": 5,
    "start_time": "2022-01-08T08:18:45.164Z"
   },
   {
    "duration": 18,
    "start_time": "2022-01-08T08:18:45.172Z"
   },
   {
    "duration": 19,
    "start_time": "2022-01-08T08:18:45.192Z"
   },
   {
    "duration": 56,
    "start_time": "2022-01-08T08:18:45.213Z"
   },
   {
    "duration": 26,
    "start_time": "2022-01-08T08:18:45.271Z"
   },
   {
    "duration": 18,
    "start_time": "2022-01-08T08:18:45.300Z"
   },
   {
    "duration": 49,
    "start_time": "2022-01-08T08:18:45.320Z"
   },
   {
    "duration": 4703,
    "start_time": "2022-01-08T08:18:45.372Z"
   },
   {
    "duration": 43,
    "start_time": "2022-01-08T08:18:50.079Z"
   },
   {
    "duration": 529,
    "start_time": "2022-01-08T08:18:50.125Z"
   },
   {
    "duration": 7,
    "start_time": "2022-01-08T08:18:50.656Z"
   },
   {
    "duration": 11,
    "start_time": "2022-01-08T08:18:50.665Z"
   },
   {
    "duration": 5,
    "start_time": "2022-01-08T08:18:50.681Z"
   },
   {
    "duration": 19,
    "start_time": "2022-01-08T08:18:50.689Z"
   },
   {
    "duration": 51,
    "start_time": "2022-01-08T08:18:50.710Z"
   },
   {
    "duration": 15,
    "start_time": "2022-01-08T08:18:50.764Z"
   },
   {
    "duration": 8,
    "start_time": "2022-01-08T08:18:50.782Z"
   },
   {
    "duration": 11,
    "start_time": "2022-01-08T08:18:50.792Z"
   },
   {
    "duration": 62,
    "start_time": "2022-01-08T08:18:50.805Z"
   },
   {
    "duration": 10,
    "start_time": "2022-01-08T08:18:50.869Z"
   },
   {
    "duration": 12,
    "start_time": "2022-01-08T08:18:50.881Z"
   },
   {
    "duration": 6,
    "start_time": "2022-01-08T08:18:50.896Z"
   },
   {
    "duration": 56,
    "start_time": "2022-01-08T08:18:50.904Z"
   },
   {
    "duration": 10,
    "start_time": "2022-01-08T08:18:50.963Z"
   },
   {
    "duration": 10,
    "start_time": "2022-01-08T08:18:50.976Z"
   },
   {
    "duration": 91,
    "start_time": "2022-01-08T08:18:50.989Z"
   },
   {
    "duration": 12,
    "start_time": "2022-01-08T08:18:51.083Z"
   },
   {
    "duration": 15,
    "start_time": "2022-01-08T08:18:51.098Z"
   },
   {
    "duration": 4,
    "start_time": "2022-01-08T08:31:32.215Z"
   },
   {
    "duration": 72,
    "start_time": "2022-01-08T08:31:32.222Z"
   },
   {
    "duration": 27,
    "start_time": "2022-01-08T08:31:32.297Z"
   },
   {
    "duration": 46,
    "start_time": "2022-01-08T08:31:32.327Z"
   },
   {
    "duration": 11,
    "start_time": "2022-01-08T08:31:32.375Z"
   },
   {
    "duration": 6,
    "start_time": "2022-01-08T08:31:32.388Z"
   },
   {
    "duration": 10,
    "start_time": "2022-01-08T08:31:32.397Z"
   },
   {
    "duration": 49,
    "start_time": "2022-01-08T08:31:32.410Z"
   },
   {
    "duration": 12,
    "start_time": "2022-01-08T08:31:32.462Z"
   },
   {
    "duration": 5,
    "start_time": "2022-01-08T08:31:32.476Z"
   },
   {
    "duration": 6,
    "start_time": "2022-01-08T08:31:32.483Z"
   },
   {
    "duration": 16,
    "start_time": "2022-01-08T08:31:32.492Z"
   },
   {
    "duration": 53,
    "start_time": "2022-01-08T08:31:32.510Z"
   },
   {
    "duration": 17,
    "start_time": "2022-01-08T08:31:32.566Z"
   },
   {
    "duration": 27,
    "start_time": "2022-01-08T08:31:32.585Z"
   },
   {
    "duration": 53,
    "start_time": "2022-01-08T08:31:32.614Z"
   },
   {
    "duration": 25,
    "start_time": "2022-01-08T08:31:32.669Z"
   },
   {
    "duration": 4606,
    "start_time": "2022-01-08T08:31:32.696Z"
   },
   {
    "duration": 52,
    "start_time": "2022-01-08T08:31:37.307Z"
   },
   {
    "duration": 517,
    "start_time": "2022-01-08T08:31:37.362Z"
   },
   {
    "duration": 7,
    "start_time": "2022-01-08T08:31:37.881Z"
   },
   {
    "duration": 10,
    "start_time": "2022-01-08T08:31:37.890Z"
   },
   {
    "duration": 4,
    "start_time": "2022-01-08T08:31:37.902Z"
   },
   {
    "duration": 54,
    "start_time": "2022-01-08T08:31:37.908Z"
   },
   {
    "duration": 6,
    "start_time": "2022-01-08T08:31:37.964Z"
   },
   {
    "duration": 19,
    "start_time": "2022-01-08T08:31:37.973Z"
   },
   {
    "duration": 15,
    "start_time": "2022-01-08T08:31:37.994Z"
   },
   {
    "duration": 34,
    "start_time": "2022-01-08T08:31:38.012Z"
   },
   {
    "duration": 31,
    "start_time": "2022-01-08T08:31:38.049Z"
   },
   {
    "duration": 8,
    "start_time": "2022-01-08T08:31:38.082Z"
   },
   {
    "duration": 23,
    "start_time": "2022-01-08T08:31:38.092Z"
   },
   {
    "duration": 6,
    "start_time": "2022-01-08T08:31:38.117Z"
   },
   {
    "duration": 40,
    "start_time": "2022-01-08T08:31:38.126Z"
   },
   {
    "duration": 8,
    "start_time": "2022-01-08T08:31:38.169Z"
   },
   {
    "duration": 24,
    "start_time": "2022-01-08T08:31:38.179Z"
   },
   {
    "duration": 35,
    "start_time": "2022-01-08T08:31:38.205Z"
   },
   {
    "duration": 10,
    "start_time": "2022-01-08T08:31:38.260Z"
   },
   {
    "duration": 13,
    "start_time": "2022-01-08T08:31:38.273Z"
   },
   {
    "duration": 599,
    "start_time": "2022-01-09T11:08:32.959Z"
   },
   {
    "duration": 50,
    "start_time": "2022-01-09T11:08:33.560Z"
   },
   {
    "duration": 23,
    "start_time": "2022-01-09T11:08:33.612Z"
   },
   {
    "duration": 11,
    "start_time": "2022-01-09T11:08:33.637Z"
   },
   {
    "duration": 19,
    "start_time": "2022-01-09T11:08:33.649Z"
   },
   {
    "duration": 3,
    "start_time": "2022-01-09T11:08:33.669Z"
   },
   {
    "duration": 9,
    "start_time": "2022-01-09T11:08:33.674Z"
   },
   {
    "duration": 6,
    "start_time": "2022-01-09T11:08:33.684Z"
   },
   {
    "duration": 8,
    "start_time": "2022-01-09T11:08:33.692Z"
   },
   {
    "duration": 3,
    "start_time": "2022-01-09T11:08:33.702Z"
   },
   {
    "duration": 4,
    "start_time": "2022-01-09T11:08:33.706Z"
   },
   {
    "duration": 11,
    "start_time": "2022-01-09T11:08:33.712Z"
   },
   {
    "duration": 47,
    "start_time": "2022-01-09T11:08:33.725Z"
   },
   {
    "duration": 13,
    "start_time": "2022-01-09T11:08:33.774Z"
   },
   {
    "duration": 20,
    "start_time": "2022-01-09T11:08:33.789Z"
   },
   {
    "duration": 13,
    "start_time": "2022-01-09T11:08:33.811Z"
   },
   {
    "duration": 35,
    "start_time": "2022-01-09T11:08:33.825Z"
   },
   {
    "duration": 3498,
    "start_time": "2022-01-09T11:08:33.862Z"
   },
   {
    "duration": 26,
    "start_time": "2022-01-09T11:08:37.363Z"
   },
   {
    "duration": 327,
    "start_time": "2022-01-09T11:08:37.391Z"
   },
   {
    "duration": 6,
    "start_time": "2022-01-09T11:08:37.720Z"
   },
   {
    "duration": 6,
    "start_time": "2022-01-09T11:08:37.727Z"
   },
   {
    "duration": 3,
    "start_time": "2022-01-09T11:08:37.735Z"
   },
   {
    "duration": 31,
    "start_time": "2022-01-09T11:08:37.740Z"
   },
   {
    "duration": 5,
    "start_time": "2022-01-09T11:08:37.772Z"
   },
   {
    "duration": 13,
    "start_time": "2022-01-09T11:08:37.778Z"
   },
   {
    "duration": 5,
    "start_time": "2022-01-09T11:08:37.794Z"
   },
   {
    "duration": 7,
    "start_time": "2022-01-09T11:08:37.801Z"
   },
   {
    "duration": 19,
    "start_time": "2022-01-09T11:08:37.810Z"
   },
   {
    "duration": 4,
    "start_time": "2022-01-09T11:08:37.831Z"
   },
   {
    "duration": 7,
    "start_time": "2022-01-09T11:08:37.861Z"
   },
   {
    "duration": 2,
    "start_time": "2022-01-09T11:08:37.870Z"
   },
   {
    "duration": 14,
    "start_time": "2022-01-09T11:08:37.873Z"
   },
   {
    "duration": 4,
    "start_time": "2022-01-09T11:08:37.889Z"
   },
   {
    "duration": 5,
    "start_time": "2022-01-09T11:08:37.895Z"
   },
   {
    "duration": 61,
    "start_time": "2022-01-09T11:08:37.901Z"
   },
   {
    "duration": 6,
    "start_time": "2022-01-09T11:08:37.964Z"
   },
   {
    "duration": 7,
    "start_time": "2022-01-09T11:08:37.972Z"
   },
   {
    "duration": 372,
    "start_time": "2022-01-09T16:55:01.471Z"
   },
   {
    "duration": 353,
    "start_time": "2022-01-09T16:56:03.400Z"
   },
   {
    "duration": 850,
    "start_time": "2022-01-09T16:56:12.651Z"
   },
   {
    "duration": 95,
    "start_time": "2022-01-09T16:56:13.503Z"
   },
   {
    "duration": 72,
    "start_time": "2022-01-09T16:56:13.602Z"
   },
   {
    "duration": 23,
    "start_time": "2022-01-09T16:56:13.678Z"
   },
   {
    "duration": 13,
    "start_time": "2022-01-09T16:56:13.704Z"
   },
   {
    "duration": 6,
    "start_time": "2022-01-09T16:56:13.721Z"
   },
   {
    "duration": 12,
    "start_time": "2022-01-09T16:56:13.769Z"
   },
   {
    "duration": 10,
    "start_time": "2022-01-09T16:56:13.785Z"
   },
   {
    "duration": 12,
    "start_time": "2022-01-09T16:56:13.798Z"
   },
   {
    "duration": 6,
    "start_time": "2022-01-09T16:56:13.813Z"
   },
   {
    "duration": 6,
    "start_time": "2022-01-09T16:56:13.867Z"
   },
   {
    "duration": 19,
    "start_time": "2022-01-09T16:56:13.876Z"
   },
   {
    "duration": 408,
    "start_time": "2022-01-09T16:56:13.897Z"
   },
   {
    "duration": 752,
    "start_time": "2022-01-09T16:56:13.559Z"
   },
   {
    "duration": 751,
    "start_time": "2022-01-09T16:56:13.562Z"
   },
   {
    "duration": 745,
    "start_time": "2022-01-09T16:56:13.570Z"
   },
   {
    "duration": 744,
    "start_time": "2022-01-09T16:56:13.573Z"
   },
   {
    "duration": 743,
    "start_time": "2022-01-09T16:56:13.575Z"
   },
   {
    "duration": 743,
    "start_time": "2022-01-09T16:56:13.577Z"
   },
   {
    "duration": 742,
    "start_time": "2022-01-09T16:56:13.579Z"
   },
   {
    "duration": 741,
    "start_time": "2022-01-09T16:56:13.582Z"
   },
   {
    "duration": 740,
    "start_time": "2022-01-09T16:56:13.585Z"
   },
   {
    "duration": 739,
    "start_time": "2022-01-09T16:56:13.587Z"
   },
   {
    "duration": 738,
    "start_time": "2022-01-09T16:56:13.590Z"
   },
   {
    "duration": 736,
    "start_time": "2022-01-09T16:56:13.593Z"
   },
   {
    "duration": 737,
    "start_time": "2022-01-09T16:56:13.598Z"
   },
   {
    "duration": 738,
    "start_time": "2022-01-09T16:56:13.600Z"
   },
   {
    "duration": 738,
    "start_time": "2022-01-09T16:56:13.602Z"
   },
   {
    "duration": 728,
    "start_time": "2022-01-09T16:56:13.614Z"
   },
   {
    "duration": 736,
    "start_time": "2022-01-09T16:56:13.616Z"
   },
   {
    "duration": 736,
    "start_time": "2022-01-09T16:56:13.619Z"
   },
   {
    "duration": 735,
    "start_time": "2022-01-09T16:56:13.621Z"
   },
   {
    "duration": 733,
    "start_time": "2022-01-09T16:56:13.624Z"
   },
   {
    "duration": 741,
    "start_time": "2022-01-09T16:56:13.626Z"
   },
   {
    "duration": 741,
    "start_time": "2022-01-09T16:56:13.628Z"
   },
   {
    "duration": 740,
    "start_time": "2022-01-09T16:56:13.631Z"
   },
   {
    "duration": 5,
    "start_time": "2022-01-09T16:56:44.401Z"
   },
   {
    "duration": 4,
    "start_time": "2022-01-09T16:56:49.305Z"
   },
   {
    "duration": 25,
    "start_time": "2022-01-09T16:56:50.251Z"
   },
   {
    "duration": 19,
    "start_time": "2022-01-09T16:56:51.611Z"
   },
   {
    "duration": 6,
    "start_time": "2022-01-09T17:01:20.636Z"
   },
   {
    "duration": 5,
    "start_time": "2022-01-09T17:01:28.024Z"
   },
   {
    "duration": 18,
    "start_time": "2022-01-09T17:01:31.305Z"
   },
   {
    "duration": 31,
    "start_time": "2022-01-09T17:01:33.419Z"
   },
   {
    "duration": 5,
    "start_time": "2022-01-09T17:02:42.125Z"
   },
   {
    "duration": 20,
    "start_time": "2022-01-09T17:02:44.883Z"
   },
   {
    "duration": 3,
    "start_time": "2022-01-09T17:02:54.804Z"
   },
   {
    "duration": 68,
    "start_time": "2022-01-09T17:02:54.810Z"
   },
   {
    "duration": 27,
    "start_time": "2022-01-09T17:02:54.882Z"
   },
   {
    "duration": 15,
    "start_time": "2022-01-09T17:02:54.912Z"
   },
   {
    "duration": 48,
    "start_time": "2022-01-09T17:02:54.930Z"
   },
   {
    "duration": 5,
    "start_time": "2022-01-09T17:02:54.980Z"
   },
   {
    "duration": 11,
    "start_time": "2022-01-09T17:02:54.989Z"
   },
   {
    "duration": 10,
    "start_time": "2022-01-09T17:02:55.003Z"
   },
   {
    "duration": 13,
    "start_time": "2022-01-09T17:02:55.015Z"
   },
   {
    "duration": 6,
    "start_time": "2022-01-09T17:02:55.068Z"
   },
   {
    "duration": 9,
    "start_time": "2022-01-09T17:02:55.076Z"
   },
   {
    "duration": 24,
    "start_time": "2022-01-09T17:02:55.088Z"
   },
   {
    "duration": 6,
    "start_time": "2022-01-09T17:02:55.116Z"
   },
   {
    "duration": 44,
    "start_time": "2022-01-09T17:02:55.125Z"
   },
   {
    "duration": 17,
    "start_time": "2022-01-09T17:02:55.171Z"
   },
   {
    "duration": 23,
    "start_time": "2022-01-09T17:02:55.191Z"
   },
   {
    "duration": 57,
    "start_time": "2022-01-09T17:02:55.217Z"
   },
   {
    "duration": 22,
    "start_time": "2022-01-09T17:02:55.277Z"
   },
   {
    "duration": 29,
    "start_time": "2022-01-09T17:02:55.303Z"
   },
   {
    "duration": 4812,
    "start_time": "2022-01-09T17:02:55.335Z"
   },
   {
    "duration": 51,
    "start_time": "2022-01-09T17:03:00.150Z"
   },
   {
    "duration": 585,
    "start_time": "2022-01-09T17:03:00.204Z"
   },
   {
    "duration": 7,
    "start_time": "2022-01-09T17:03:00.792Z"
   },
   {
    "duration": 22,
    "start_time": "2022-01-09T17:03:00.801Z"
   },
   {
    "duration": 10,
    "start_time": "2022-01-09T17:03:00.825Z"
   },
   {
    "duration": 40,
    "start_time": "2022-01-09T17:03:00.838Z"
   },
   {
    "duration": 8,
    "start_time": "2022-01-09T17:03:00.881Z"
   },
   {
    "duration": 11,
    "start_time": "2022-01-09T17:03:00.892Z"
   },
   {
    "duration": 10,
    "start_time": "2022-01-09T17:03:00.906Z"
   },
   {
    "duration": 72,
    "start_time": "2022-01-09T17:03:00.919Z"
   },
   {
    "duration": 10,
    "start_time": "2022-01-09T17:03:00.994Z"
   },
   {
    "duration": 15,
    "start_time": "2022-01-09T17:03:01.007Z"
   },
   {
    "duration": 50,
    "start_time": "2022-01-09T17:03:01.025Z"
   },
   {
    "duration": 9,
    "start_time": "2022-01-09T17:03:01.078Z"
   },
   {
    "duration": 35,
    "start_time": "2022-01-09T17:03:01.090Z"
   },
   {
    "duration": 50,
    "start_time": "2022-01-09T17:03:01.128Z"
   },
   {
    "duration": 9,
    "start_time": "2022-01-09T17:03:01.181Z"
   },
   {
    "duration": 2504,
    "start_time": "2022-01-09T17:08:17.811Z"
   },
   {
    "duration": 2248,
    "start_time": "2022-01-09T17:08:37.980Z"
   },
   {
    "duration": 4,
    "start_time": "2022-01-09T17:08:44.462Z"
   },
   {
    "duration": 72,
    "start_time": "2022-01-09T17:08:44.468Z"
   },
   {
    "duration": 37,
    "start_time": "2022-01-09T17:08:44.567Z"
   },
   {
    "duration": 18,
    "start_time": "2022-01-09T17:08:44.607Z"
   },
   {
    "duration": 44,
    "start_time": "2022-01-09T17:08:44.628Z"
   },
   {
    "duration": 6,
    "start_time": "2022-01-09T17:08:44.675Z"
   },
   {
    "duration": 13,
    "start_time": "2022-01-09T17:08:44.685Z"
   },
   {
    "duration": 13,
    "start_time": "2022-01-09T17:08:44.702Z"
   },
   {
    "duration": 60,
    "start_time": "2022-01-09T17:08:44.718Z"
   },
   {
    "duration": 6,
    "start_time": "2022-01-09T17:08:44.781Z"
   },
   {
    "duration": 8,
    "start_time": "2022-01-09T17:08:44.790Z"
   },
   {
    "duration": 31,
    "start_time": "2022-01-09T17:08:44.801Z"
   },
   {
    "duration": 32,
    "start_time": "2022-01-09T17:08:44.835Z"
   },
   {
    "duration": 7,
    "start_time": "2022-01-09T17:08:44.870Z"
   },
   {
    "duration": 20,
    "start_time": "2022-01-09T17:08:44.880Z"
   },
   {
    "duration": 22,
    "start_time": "2022-01-09T17:08:44.902Z"
   },
   {
    "duration": 59,
    "start_time": "2022-01-09T17:08:44.927Z"
   },
   {
    "duration": 34,
    "start_time": "2022-01-09T17:08:44.989Z"
   },
   {
    "duration": 44,
    "start_time": "2022-01-09T17:08:45.027Z"
   },
   {
    "duration": 4712,
    "start_time": "2022-01-09T17:08:45.074Z"
   },
   {
    "duration": 38,
    "start_time": "2022-01-09T17:08:49.789Z"
   },
   {
    "duration": 565,
    "start_time": "2022-01-09T17:08:49.829Z"
   },
   {
    "duration": 7,
    "start_time": "2022-01-09T17:08:50.397Z"
   },
   {
    "duration": 9,
    "start_time": "2022-01-09T17:08:50.406Z"
   },
   {
    "duration": 5,
    "start_time": "2022-01-09T17:08:50.417Z"
   },
   {
    "duration": 48,
    "start_time": "2022-01-09T17:08:50.424Z"
   },
   {
    "duration": 6,
    "start_time": "2022-01-09T17:08:50.475Z"
   },
   {
    "duration": 8,
    "start_time": "2022-01-09T17:08:50.483Z"
   },
   {
    "duration": 10,
    "start_time": "2022-01-09T17:08:50.493Z"
   },
   {
    "duration": 70,
    "start_time": "2022-01-09T17:08:50.505Z"
   },
   {
    "duration": 10,
    "start_time": "2022-01-09T17:08:50.577Z"
   },
   {
    "duration": 4,
    "start_time": "2022-01-09T17:08:50.590Z"
   },
   {
    "duration": 28,
    "start_time": "2022-01-09T17:08:50.597Z"
   },
   {
    "duration": 9,
    "start_time": "2022-01-09T17:08:50.668Z"
   },
   {
    "duration": 6,
    "start_time": "2022-01-09T17:08:50.680Z"
   },
   {
    "duration": 35,
    "start_time": "2022-01-09T17:08:50.688Z"
   },
   {
    "duration": 46,
    "start_time": "2022-01-09T17:08:50.726Z"
   },
   {
    "duration": 4,
    "start_time": "2022-01-09T17:09:19.535Z"
   },
   {
    "duration": 89,
    "start_time": "2022-01-09T17:09:19.543Z"
   },
   {
    "duration": 71,
    "start_time": "2022-01-09T17:09:19.636Z"
   },
   {
    "duration": 23,
    "start_time": "2022-01-09T17:09:19.710Z"
   },
   {
    "duration": 43,
    "start_time": "2022-01-09T17:09:19.736Z"
   },
   {
    "duration": 5,
    "start_time": "2022-01-09T17:09:19.782Z"
   },
   {
    "duration": 17,
    "start_time": "2022-01-09T17:09:19.793Z"
   },
   {
    "duration": 14,
    "start_time": "2022-01-09T17:09:19.815Z"
   },
   {
    "duration": 21,
    "start_time": "2022-01-09T17:09:19.867Z"
   },
   {
    "duration": 7,
    "start_time": "2022-01-09T17:09:19.891Z"
   },
   {
    "duration": 8,
    "start_time": "2022-01-09T17:09:19.901Z"
   },
   {
    "duration": 21,
    "start_time": "2022-01-09T17:09:19.912Z"
   },
   {
    "duration": 6,
    "start_time": "2022-01-09T17:09:19.968Z"
   },
   {
    "duration": 8,
    "start_time": "2022-01-09T17:09:19.977Z"
   },
   {
    "duration": 19,
    "start_time": "2022-01-09T17:09:19.988Z"
   },
   {
    "duration": 61,
    "start_time": "2022-01-09T17:09:20.010Z"
   },
   {
    "duration": 38,
    "start_time": "2022-01-09T17:09:20.073Z"
   },
   {
    "duration": 26,
    "start_time": "2022-01-09T17:09:20.113Z"
   },
   {
    "duration": 5419,
    "start_time": "2022-01-09T17:09:20.170Z"
   },
   {
    "duration": 37,
    "start_time": "2022-01-09T17:09:25.592Z"
   },
   {
    "duration": 576,
    "start_time": "2022-01-09T17:09:25.632Z"
   },
   {
    "duration": 7,
    "start_time": "2022-01-09T17:09:26.210Z"
   },
   {
    "duration": 9,
    "start_time": "2022-01-09T17:09:26.219Z"
   },
   {
    "duration": 5,
    "start_time": "2022-01-09T17:09:26.231Z"
   },
   {
    "duration": 56,
    "start_time": "2022-01-09T17:09:26.239Z"
   },
   {
    "duration": 7,
    "start_time": "2022-01-09T17:09:26.298Z"
   },
   {
    "duration": 8,
    "start_time": "2022-01-09T17:09:26.307Z"
   },
   {
    "duration": 52,
    "start_time": "2022-01-09T17:09:26.317Z"
   },
   {
    "duration": 31,
    "start_time": "2022-01-09T17:09:26.372Z"
   },
   {
    "duration": 9,
    "start_time": "2022-01-09T17:09:26.405Z"
   },
   {
    "duration": 4,
    "start_time": "2022-01-09T17:09:26.416Z"
   },
   {
    "duration": 66,
    "start_time": "2022-01-09T17:09:26.422Z"
   },
   {
    "duration": 8,
    "start_time": "2022-01-09T17:09:26.490Z"
   },
   {
    "duration": 21,
    "start_time": "2022-01-09T17:09:26.500Z"
   },
   {
    "duration": 72,
    "start_time": "2022-01-09T17:09:26.524Z"
   },
   {
    "duration": 11,
    "start_time": "2022-01-09T17:09:26.599Z"
   },
   {
    "duration": 4190,
    "start_time": "2022-01-09T17:11:26.228Z"
   },
   {
    "duration": 4,
    "start_time": "2022-01-09T17:11:34.598Z"
   },
   {
    "duration": 73,
    "start_time": "2022-01-09T17:11:34.605Z"
   },
   {
    "duration": 28,
    "start_time": "2022-01-09T17:11:34.681Z"
   },
   {
    "duration": 14,
    "start_time": "2022-01-09T17:11:34.712Z"
   },
   {
    "duration": 50,
    "start_time": "2022-01-09T17:11:34.729Z"
   },
   {
    "duration": 4,
    "start_time": "2022-01-09T17:11:34.782Z"
   },
   {
    "duration": 12,
    "start_time": "2022-01-09T17:11:34.789Z"
   },
   {
    "duration": 10,
    "start_time": "2022-01-09T17:11:34.807Z"
   },
   {
    "duration": 54,
    "start_time": "2022-01-09T17:11:34.820Z"
   },
   {
    "duration": 6,
    "start_time": "2022-01-09T17:11:34.877Z"
   },
   {
    "duration": 7,
    "start_time": "2022-01-09T17:11:34.887Z"
   },
   {
    "duration": 22,
    "start_time": "2022-01-09T17:11:34.896Z"
   },
   {
    "duration": 5,
    "start_time": "2022-01-09T17:11:34.920Z"
   },
   {
    "duration": 5,
    "start_time": "2022-01-09T17:11:34.968Z"
   },
   {
    "duration": 22,
    "start_time": "2022-01-09T17:11:34.975Z"
   },
   {
    "duration": 30,
    "start_time": "2022-01-09T17:11:35.000Z"
   },
   {
    "duration": 54,
    "start_time": "2022-01-09T17:11:35.033Z"
   },
   {
    "duration": 37,
    "start_time": "2022-01-09T17:11:35.090Z"
   },
   {
    "duration": 4784,
    "start_time": "2022-01-09T17:11:35.130Z"
   },
   {
    "duration": 50,
    "start_time": "2022-01-09T17:11:39.917Z"
   },
   {
    "duration": 574,
    "start_time": "2022-01-09T17:11:39.969Z"
   },
   {
    "duration": 9,
    "start_time": "2022-01-09T17:11:40.545Z"
   },
   {
    "duration": 8,
    "start_time": "2022-01-09T17:11:40.570Z"
   },
   {
    "duration": 5,
    "start_time": "2022-01-09T17:11:40.580Z"
   },
   {
    "duration": 22,
    "start_time": "2022-01-09T17:11:40.588Z"
   },
   {
    "duration": 6,
    "start_time": "2022-01-09T17:11:40.613Z"
   },
   {
    "duration": 54,
    "start_time": "2022-01-09T17:11:40.621Z"
   },
   {
    "duration": 13,
    "start_time": "2022-01-09T17:11:40.677Z"
   },
   {
    "duration": 31,
    "start_time": "2022-01-09T17:11:40.693Z"
   },
   {
    "duration": 41,
    "start_time": "2022-01-09T17:11:40.726Z"
   },
   {
    "duration": 3,
    "start_time": "2022-01-09T17:11:40.770Z"
   },
   {
    "duration": 24,
    "start_time": "2022-01-09T17:11:40.776Z"
   },
   {
    "duration": 8,
    "start_time": "2022-01-09T17:11:40.802Z"
   },
   {
    "duration": 6,
    "start_time": "2022-01-09T17:11:40.813Z"
   },
   {
    "duration": 81,
    "start_time": "2022-01-09T17:11:40.821Z"
   },
   {
    "duration": 10,
    "start_time": "2022-01-09T17:11:40.905Z"
   },
   {
    "duration": 4,
    "start_time": "2022-01-09T17:15:07.643Z"
   },
   {
    "duration": 76,
    "start_time": "2022-01-09T17:15:07.651Z"
   },
   {
    "duration": 31,
    "start_time": "2022-01-09T17:15:07.731Z"
   },
   {
    "duration": 25,
    "start_time": "2022-01-09T17:15:07.765Z"
   },
   {
    "duration": 16,
    "start_time": "2022-01-09T17:15:07.793Z"
   },
   {
    "duration": 11,
    "start_time": "2022-01-09T17:15:07.813Z"
   },
   {
    "duration": 15,
    "start_time": "2022-01-09T17:15:07.828Z"
   },
   {
    "duration": 10,
    "start_time": "2022-01-09T17:15:07.847Z"
   },
   {
    "duration": 13,
    "start_time": "2022-01-09T17:15:07.870Z"
   },
   {
    "duration": 6,
    "start_time": "2022-01-09T17:15:07.886Z"
   },
   {
    "duration": 23,
    "start_time": "2022-01-09T17:15:07.894Z"
   },
   {
    "duration": 19,
    "start_time": "2022-01-09T17:15:07.920Z"
   },
   {
    "duration": 5,
    "start_time": "2022-01-09T17:15:07.941Z"
   },
   {
    "duration": 7,
    "start_time": "2022-01-09T17:15:07.949Z"
   },
   {
    "duration": 30,
    "start_time": "2022-01-09T17:15:07.959Z"
   },
   {
    "duration": 29,
    "start_time": "2022-01-09T17:15:07.992Z"
   },
   {
    "duration": 43,
    "start_time": "2022-01-09T17:15:08.024Z"
   },
   {
    "duration": 36,
    "start_time": "2022-01-09T17:15:08.071Z"
   },
   {
    "duration": 5069,
    "start_time": "2022-01-09T17:15:08.110Z"
   },
   {
    "duration": 40,
    "start_time": "2022-01-09T17:15:13.181Z"
   },
   {
    "duration": 582,
    "start_time": "2022-01-09T17:15:13.224Z"
   },
   {
    "duration": 8,
    "start_time": "2022-01-09T17:15:13.809Z"
   },
   {
    "duration": 10,
    "start_time": "2022-01-09T17:15:13.820Z"
   },
   {
    "duration": 4,
    "start_time": "2022-01-09T17:15:13.833Z"
   },
   {
    "duration": 22,
    "start_time": "2022-01-09T17:15:13.869Z"
   },
   {
    "duration": 7,
    "start_time": "2022-01-09T17:15:13.894Z"
   },
   {
    "duration": 7,
    "start_time": "2022-01-09T17:15:13.906Z"
   },
   {
    "duration": 79,
    "start_time": "2022-01-09T17:15:13.916Z"
   },
   {
    "duration": 10,
    "start_time": "2022-01-09T17:15:13.998Z"
   },
   {
    "duration": 5,
    "start_time": "2022-01-09T17:15:14.011Z"
   },
   {
    "duration": 67,
    "start_time": "2022-01-09T17:15:14.020Z"
   },
   {
    "duration": 10,
    "start_time": "2022-01-09T17:15:14.090Z"
   },
   {
    "duration": 7,
    "start_time": "2022-01-09T17:15:14.103Z"
   },
   {
    "duration": 76,
    "start_time": "2022-01-09T17:15:14.113Z"
   },
   {
    "duration": 13,
    "start_time": "2022-01-09T17:15:14.192Z"
   },
   {
    "duration": 112,
    "start_time": "2022-01-09T17:19:18.326Z"
   },
   {
    "duration": 45,
    "start_time": "2022-01-09T17:19:34.739Z"
   },
   {
    "duration": 114,
    "start_time": "2022-01-09T17:19:36.759Z"
   },
   {
    "duration": 14,
    "start_time": "2022-01-09T17:20:15.858Z"
   },
   {
    "duration": 753,
    "start_time": "2022-01-09T17:23:46.716Z"
   },
   {
    "duration": 66,
    "start_time": "2022-01-09T17:23:47.471Z"
   },
   {
    "duration": 43,
    "start_time": "2022-01-09T17:23:47.540Z"
   },
   {
    "duration": 17,
    "start_time": "2022-01-09T17:23:47.587Z"
   },
   {
    "duration": 13,
    "start_time": "2022-01-09T17:23:47.606Z"
   },
   {
    "duration": 45,
    "start_time": "2022-01-09T17:23:47.622Z"
   },
   {
    "duration": 10,
    "start_time": "2022-01-09T17:23:47.670Z"
   },
   {
    "duration": 10,
    "start_time": "2022-01-09T17:23:47.682Z"
   },
   {
    "duration": 12,
    "start_time": "2022-01-09T17:23:47.696Z"
   },
   {
    "duration": 5,
    "start_time": "2022-01-09T17:23:47.712Z"
   },
   {
    "duration": 50,
    "start_time": "2022-01-09T17:23:47.719Z"
   },
   {
    "duration": 17,
    "start_time": "2022-01-09T17:23:47.771Z"
   },
   {
    "duration": 10,
    "start_time": "2022-01-09T17:23:47.791Z"
   },
   {
    "duration": 6,
    "start_time": "2022-01-09T17:23:47.803Z"
   },
   {
    "duration": 59,
    "start_time": "2022-01-09T17:23:47.811Z"
   },
   {
    "duration": 20,
    "start_time": "2022-01-09T17:23:47.873Z"
   },
   {
    "duration": 28,
    "start_time": "2022-01-09T17:23:47.896Z"
   },
   {
    "duration": 60,
    "start_time": "2022-01-09T17:23:47.927Z"
   },
   {
    "duration": 5120,
    "start_time": "2022-01-09T17:23:47.990Z"
   },
   {
    "duration": 75,
    "start_time": "2022-01-09T17:23:53.114Z"
   },
   {
    "duration": 1020,
    "start_time": "2022-01-09T17:23:53.192Z"
   },
   {
    "duration": 7,
    "start_time": "2022-01-09T17:23:54.215Z"
   },
   {
    "duration": 10,
    "start_time": "2022-01-09T17:23:54.225Z"
   },
   {
    "duration": 31,
    "start_time": "2022-01-09T17:23:54.237Z"
   },
   {
    "duration": 27,
    "start_time": "2022-01-09T17:23:54.271Z"
   },
   {
    "duration": 10,
    "start_time": "2022-01-09T17:23:54.301Z"
   },
   {
    "duration": 7,
    "start_time": "2022-01-09T17:23:54.316Z"
   },
   {
    "duration": 89,
    "start_time": "2022-01-09T17:23:54.326Z"
   },
   {
    "duration": 13,
    "start_time": "2022-01-09T17:23:54.418Z"
   },
   {
    "duration": 33,
    "start_time": "2022-01-09T17:23:54.434Z"
   },
   {
    "duration": 26,
    "start_time": "2022-01-09T17:23:54.470Z"
   },
   {
    "duration": 10,
    "start_time": "2022-01-09T17:23:54.498Z"
   },
   {
    "duration": 15,
    "start_time": "2022-01-09T17:23:54.511Z"
   },
   {
    "duration": 37,
    "start_time": "2022-01-09T17:23:54.568Z"
   },
   {
    "duration": 14,
    "start_time": "2022-01-09T17:23:54.608Z"
   },
   {
    "duration": 4,
    "start_time": "2022-01-09T17:24:23.740Z"
   },
   {
    "duration": 23,
    "start_time": "2022-01-09T17:24:25.282Z"
   },
   {
    "duration": 8,
    "start_time": "2022-01-09T17:24:27.466Z"
   },
   {
    "duration": 16,
    "start_time": "2022-01-09T17:34:39.066Z"
   },
   {
    "duration": 15,
    "start_time": "2022-01-09T17:35:51.641Z"
   },
   {
    "duration": 6,
    "start_time": "2022-01-09T17:35:56.458Z"
   },
   {
    "duration": 1180,
    "start_time": "2022-01-09T17:40:28.946Z"
   },
   {
    "duration": 439,
    "start_time": "2022-01-09T17:40:52.420Z"
   },
   {
    "duration": 356,
    "start_time": "2022-01-09T17:41:30.367Z"
   },
   {
    "duration": 342,
    "start_time": "2022-01-09T17:43:09.043Z"
   },
   {
    "duration": 323,
    "start_time": "2022-01-09T17:45:00.481Z"
   },
   {
    "duration": 364,
    "start_time": "2022-01-09T17:45:42.426Z"
   },
   {
    "duration": 311,
    "start_time": "2022-01-09T17:46:09.740Z"
   },
   {
    "duration": 386,
    "start_time": "2022-01-09T17:46:28.712Z"
   },
   {
    "duration": 381,
    "start_time": "2022-01-09T17:46:40.757Z"
   },
   {
    "duration": 334,
    "start_time": "2022-01-09T17:51:03.535Z"
   },
   {
    "duration": 379,
    "start_time": "2022-01-09T17:51:25.024Z"
   },
   {
    "duration": 4,
    "start_time": "2022-01-09T17:51:27.960Z"
   },
   {
    "duration": 108,
    "start_time": "2022-01-09T17:51:27.967Z"
   },
   {
    "duration": 29,
    "start_time": "2022-01-09T17:51:28.078Z"
   },
   {
    "duration": 17,
    "start_time": "2022-01-09T17:51:28.111Z"
   },
   {
    "duration": 50,
    "start_time": "2022-01-09T17:51:28.131Z"
   },
   {
    "duration": 5,
    "start_time": "2022-01-09T17:51:28.185Z"
   },
   {
    "duration": 12,
    "start_time": "2022-01-09T17:51:28.195Z"
   },
   {
    "duration": 10,
    "start_time": "2022-01-09T17:51:28.210Z"
   },
   {
    "duration": 14,
    "start_time": "2022-01-09T17:51:28.267Z"
   },
   {
    "duration": 5,
    "start_time": "2022-01-09T17:51:28.284Z"
   },
   {
    "duration": 7,
    "start_time": "2022-01-09T17:51:28.291Z"
   },
   {
    "duration": 16,
    "start_time": "2022-01-09T17:51:28.301Z"
   },
   {
    "duration": 4,
    "start_time": "2022-01-09T17:51:28.320Z"
   },
   {
    "duration": 5,
    "start_time": "2022-01-09T17:51:28.368Z"
   },
   {
    "duration": 22,
    "start_time": "2022-01-09T17:51:28.376Z"
   },
   {
    "duration": 22,
    "start_time": "2022-01-09T17:51:28.401Z"
   },
   {
    "duration": 53,
    "start_time": "2022-01-09T17:51:28.425Z"
   },
   {
    "duration": 27,
    "start_time": "2022-01-09T17:51:28.480Z"
   },
   {
    "duration": 4820,
    "start_time": "2022-01-09T17:51:28.512Z"
   },
   {
    "duration": 48,
    "start_time": "2022-01-09T17:51:33.336Z"
   },
   {
    "duration": 569,
    "start_time": "2022-01-09T17:51:33.387Z"
   },
   {
    "duration": 11,
    "start_time": "2022-01-09T17:51:33.959Z"
   },
   {
    "duration": 9,
    "start_time": "2022-01-09T17:51:33.972Z"
   },
   {
    "duration": 5,
    "start_time": "2022-01-09T17:51:33.984Z"
   },
   {
    "duration": 23,
    "start_time": "2022-01-09T17:51:33.992Z"
   },
   {
    "duration": 49,
    "start_time": "2022-01-09T17:51:34.018Z"
   },
   {
    "duration": 13,
    "start_time": "2022-01-09T17:51:34.070Z"
   },
   {
    "duration": 4559,
    "start_time": "2022-01-09T17:51:34.086Z"
   },
   {
    "duration": 757,
    "start_time": "2022-01-09T17:51:37.892Z"
   },
   {
    "duration": 719,
    "start_time": "2022-01-09T17:51:37.931Z"
   },
   {
    "duration": 716,
    "start_time": "2022-01-09T17:51:37.936Z"
   },
   {
    "duration": 683,
    "start_time": "2022-01-09T17:51:37.970Z"
   },
   {
    "duration": 683,
    "start_time": "2022-01-09T17:51:37.972Z"
   },
   {
    "duration": 681,
    "start_time": "2022-01-09T17:51:37.975Z"
   },
   {
    "duration": 680,
    "start_time": "2022-01-09T17:51:37.978Z"
   },
   {
    "duration": 670,
    "start_time": "2022-01-09T17:51:37.989Z"
   },
   {
    "duration": 318,
    "start_time": "2022-01-09T17:52:19.362Z"
   },
   {
    "duration": 814,
    "start_time": "2022-01-09T17:54:00.279Z"
   },
   {
    "duration": 70,
    "start_time": "2022-01-09T17:54:01.097Z"
   },
   {
    "duration": 40,
    "start_time": "2022-01-09T17:54:01.171Z"
   },
   {
    "duration": 30,
    "start_time": "2022-01-09T17:54:01.214Z"
   },
   {
    "duration": 39,
    "start_time": "2022-01-09T17:54:01.247Z"
   },
   {
    "duration": 16,
    "start_time": "2022-01-09T17:54:01.289Z"
   },
   {
    "duration": 28,
    "start_time": "2022-01-09T17:54:01.308Z"
   },
   {
    "duration": 22,
    "start_time": "2022-01-09T17:54:01.340Z"
   },
   {
    "duration": 15,
    "start_time": "2022-01-09T17:54:01.365Z"
   },
   {
    "duration": 35,
    "start_time": "2022-01-09T17:54:01.383Z"
   },
   {
    "duration": 12,
    "start_time": "2022-01-09T17:54:01.421Z"
   },
   {
    "duration": 29,
    "start_time": "2022-01-09T17:54:01.436Z"
   },
   {
    "duration": 10,
    "start_time": "2022-01-09T17:54:01.468Z"
   },
   {
    "duration": 9,
    "start_time": "2022-01-09T17:54:01.481Z"
   },
   {
    "duration": 31,
    "start_time": "2022-01-09T17:54:01.492Z"
   },
   {
    "duration": 42,
    "start_time": "2022-01-09T17:54:01.525Z"
   },
   {
    "duration": 48,
    "start_time": "2022-01-09T17:54:01.569Z"
   },
   {
    "duration": 34,
    "start_time": "2022-01-09T17:54:01.619Z"
   },
   {
    "duration": 4838,
    "start_time": "2022-01-09T17:54:01.657Z"
   },
   {
    "duration": 43,
    "start_time": "2022-01-09T17:54:06.498Z"
   },
   {
    "duration": 607,
    "start_time": "2022-01-09T17:54:06.545Z"
   },
   {
    "duration": 15,
    "start_time": "2022-01-09T17:54:07.154Z"
   },
   {
    "duration": 7,
    "start_time": "2022-01-09T17:54:07.174Z"
   },
   {
    "duration": 6,
    "start_time": "2022-01-09T17:54:07.184Z"
   },
   {
    "duration": 22,
    "start_time": "2022-01-09T17:54:07.192Z"
   },
   {
    "duration": 7,
    "start_time": "2022-01-09T17:54:07.217Z"
   },
   {
    "duration": 14,
    "start_time": "2022-01-09T17:54:07.267Z"
   },
   {
    "duration": 4048,
    "start_time": "2022-01-09T17:54:07.284Z"
   },
   {
    "duration": 851,
    "start_time": "2022-01-09T17:54:10.483Z"
   },
   {
    "duration": 850,
    "start_time": "2022-01-09T17:54:10.486Z"
   },
   {
    "duration": 846,
    "start_time": "2022-01-09T17:54:10.491Z"
   },
   {
    "duration": 844,
    "start_time": "2022-01-09T17:54:10.495Z"
   },
   {
    "duration": 844,
    "start_time": "2022-01-09T17:54:10.497Z"
   },
   {
    "duration": 842,
    "start_time": "2022-01-09T17:54:10.500Z"
   },
   {
    "duration": 842,
    "start_time": "2022-01-09T17:54:10.502Z"
   },
   {
    "duration": 839,
    "start_time": "2022-01-09T17:54:10.506Z"
   },
   {
    "duration": 4294,
    "start_time": "2022-01-09T17:54:25.588Z"
   },
   {
    "duration": 4275,
    "start_time": "2022-01-09T17:55:07.743Z"
   },
   {
    "duration": 4381,
    "start_time": "2022-01-09T17:55:21.297Z"
   },
   {
    "duration": 312,
    "start_time": "2022-01-09T17:55:32.367Z"
   },
   {
    "duration": 895,
    "start_time": "2022-01-09T17:55:44.336Z"
   },
   {
    "duration": 65,
    "start_time": "2022-01-09T17:55:45.234Z"
   },
   {
    "duration": 39,
    "start_time": "2022-01-09T17:55:45.302Z"
   },
   {
    "duration": 24,
    "start_time": "2022-01-09T17:55:45.344Z"
   },
   {
    "duration": 13,
    "start_time": "2022-01-09T17:55:45.371Z"
   },
   {
    "duration": 4,
    "start_time": "2022-01-09T17:55:45.386Z"
   },
   {
    "duration": 12,
    "start_time": "2022-01-09T17:55:45.392Z"
   },
   {
    "duration": 10,
    "start_time": "2022-01-09T17:55:45.407Z"
   },
   {
    "duration": 14,
    "start_time": "2022-01-09T17:55:45.422Z"
   },
   {
    "duration": 5,
    "start_time": "2022-01-09T17:55:45.439Z"
   },
   {
    "duration": 6,
    "start_time": "2022-01-09T17:55:45.446Z"
   },
   {
    "duration": 16,
    "start_time": "2022-01-09T17:55:45.467Z"
   },
   {
    "duration": 11,
    "start_time": "2022-01-09T17:55:45.485Z"
   },
   {
    "duration": 5,
    "start_time": "2022-01-09T17:55:45.499Z"
   },
   {
    "duration": 17,
    "start_time": "2022-01-09T17:55:45.506Z"
   },
   {
    "duration": 23,
    "start_time": "2022-01-09T17:55:45.526Z"
   },
   {
    "duration": 32,
    "start_time": "2022-01-09T17:55:45.552Z"
   },
   {
    "duration": 29,
    "start_time": "2022-01-09T17:55:45.586Z"
   },
   {
    "duration": 4951,
    "start_time": "2022-01-09T17:55:45.618Z"
   },
   {
    "duration": 51,
    "start_time": "2022-01-09T17:55:50.572Z"
   },
   {
    "duration": 564,
    "start_time": "2022-01-09T17:55:50.626Z"
   },
   {
    "duration": 7,
    "start_time": "2022-01-09T17:55:51.192Z"
   },
   {
    "duration": 15,
    "start_time": "2022-01-09T17:55:51.201Z"
   },
   {
    "duration": 9,
    "start_time": "2022-01-09T17:55:51.219Z"
   },
   {
    "duration": 47,
    "start_time": "2022-01-09T17:55:51.231Z"
   },
   {
    "duration": 8,
    "start_time": "2022-01-09T17:55:51.281Z"
   },
   {
    "duration": 16,
    "start_time": "2022-01-09T17:55:51.297Z"
   },
   {
    "duration": 4346,
    "start_time": "2022-01-09T17:55:51.317Z"
   },
   {
    "duration": 840,
    "start_time": "2022-01-09T17:55:54.826Z"
   },
   {
    "duration": 835,
    "start_time": "2022-01-09T17:55:54.832Z"
   },
   {
    "duration": 833,
    "start_time": "2022-01-09T17:55:54.836Z"
   },
   {
    "duration": 832,
    "start_time": "2022-01-09T17:55:54.839Z"
   },
   {
    "duration": 829,
    "start_time": "2022-01-09T17:55:54.843Z"
   },
   {
    "duration": 829,
    "start_time": "2022-01-09T17:55:54.845Z"
   },
   {
    "duration": 828,
    "start_time": "2022-01-09T17:55:54.847Z"
   },
   {
    "duration": 822,
    "start_time": "2022-01-09T17:55:54.855Z"
   },
   {
    "duration": 4469,
    "start_time": "2022-01-09T17:56:46.123Z"
   },
   {
    "duration": 422,
    "start_time": "2022-01-09T17:56:57.345Z"
   },
   {
    "duration": 7,
    "start_time": "2022-01-09T17:58:19.147Z"
   },
   {
    "duration": 340,
    "start_time": "2022-01-09T17:58:29.048Z"
   },
   {
    "duration": 323,
    "start_time": "2022-01-09T17:58:34.303Z"
   },
   {
    "duration": 3,
    "start_time": "2022-01-09T17:58:51.323Z"
   },
   {
    "duration": 70,
    "start_time": "2022-01-09T17:58:51.328Z"
   },
   {
    "duration": 29,
    "start_time": "2022-01-09T17:58:51.401Z"
   },
   {
    "duration": 16,
    "start_time": "2022-01-09T17:58:51.468Z"
   },
   {
    "duration": 13,
    "start_time": "2022-01-09T17:58:51.487Z"
   },
   {
    "duration": 6,
    "start_time": "2022-01-09T17:58:51.502Z"
   },
   {
    "duration": 11,
    "start_time": "2022-01-09T17:58:51.513Z"
   },
   {
    "duration": 13,
    "start_time": "2022-01-09T17:58:51.568Z"
   },
   {
    "duration": 16,
    "start_time": "2022-01-09T17:58:51.583Z"
   },
   {
    "duration": 5,
    "start_time": "2022-01-09T17:58:51.602Z"
   },
   {
    "duration": 6,
    "start_time": "2022-01-09T17:58:51.610Z"
   },
   {
    "duration": 69,
    "start_time": "2022-01-09T17:58:51.619Z"
   },
   {
    "duration": 6,
    "start_time": "2022-01-09T17:58:51.691Z"
   },
   {
    "duration": 11,
    "start_time": "2022-01-09T17:58:51.703Z"
   },
   {
    "duration": 54,
    "start_time": "2022-01-09T17:58:51.717Z"
   },
   {
    "duration": 25,
    "start_time": "2022-01-09T17:58:51.775Z"
   },
   {
    "duration": 27,
    "start_time": "2022-01-09T17:58:51.803Z"
   },
   {
    "duration": 58,
    "start_time": "2022-01-09T17:58:51.833Z"
   },
   {
    "duration": 25,
    "start_time": "2022-01-09T17:58:51.896Z"
   },
   {
    "duration": 43,
    "start_time": "2022-01-09T17:58:51.924Z"
   },
   {
    "duration": 4834,
    "start_time": "2022-01-09T17:58:51.970Z"
   },
   {
    "duration": 40,
    "start_time": "2022-01-09T17:58:56.807Z"
   },
   {
    "duration": 587,
    "start_time": "2022-01-09T17:58:56.849Z"
   },
   {
    "duration": 7,
    "start_time": "2022-01-09T17:58:57.438Z"
   },
   {
    "duration": 23,
    "start_time": "2022-01-09T17:58:57.447Z"
   },
   {
    "duration": 4,
    "start_time": "2022-01-09T17:58:57.473Z"
   },
   {
    "duration": 24,
    "start_time": "2022-01-09T17:58:57.480Z"
   },
   {
    "duration": 7,
    "start_time": "2022-01-09T17:58:57.506Z"
   },
   {
    "duration": 57,
    "start_time": "2022-01-09T17:58:57.515Z"
   },
   {
    "duration": 4129,
    "start_time": "2022-01-09T17:58:57.574Z"
   },
   {
    "duration": 836,
    "start_time": "2022-01-09T17:59:00.869Z"
   },
   {
    "duration": 824,
    "start_time": "2022-01-09T17:59:00.883Z"
   },
   {
    "duration": 819,
    "start_time": "2022-01-09T17:59:00.889Z"
   },
   {
    "duration": 818,
    "start_time": "2022-01-09T17:59:00.891Z"
   },
   {
    "duration": 817,
    "start_time": "2022-01-09T17:59:00.894Z"
   },
   {
    "duration": 815,
    "start_time": "2022-01-09T17:59:00.897Z"
   },
   {
    "duration": 814,
    "start_time": "2022-01-09T17:59:00.900Z"
   },
   {
    "duration": 808,
    "start_time": "2022-01-09T17:59:00.907Z"
   },
   {
    "duration": 4011,
    "start_time": "2022-01-09T17:59:25.192Z"
   },
   {
    "duration": 324,
    "start_time": "2022-01-09T17:59:38.869Z"
   },
   {
    "duration": 780,
    "start_time": "2022-01-09T17:59:50.475Z"
   },
   {
    "duration": 68,
    "start_time": "2022-01-09T17:59:51.259Z"
   },
   {
    "duration": 46,
    "start_time": "2022-01-09T17:59:51.331Z"
   },
   {
    "duration": 19,
    "start_time": "2022-01-09T17:59:51.380Z"
   },
   {
    "duration": 12,
    "start_time": "2022-01-09T17:59:51.402Z"
   },
   {
    "duration": 5,
    "start_time": "2022-01-09T17:59:51.417Z"
   },
   {
    "duration": 45,
    "start_time": "2022-01-09T17:59:51.425Z"
   },
   {
    "duration": 16,
    "start_time": "2022-01-09T17:59:51.473Z"
   },
   {
    "duration": 14,
    "start_time": "2022-01-09T17:59:51.495Z"
   },
   {
    "duration": 6,
    "start_time": "2022-01-09T17:59:51.513Z"
   },
   {
    "duration": 46,
    "start_time": "2022-01-09T17:59:51.521Z"
   },
   {
    "duration": 19,
    "start_time": "2022-01-09T17:59:51.570Z"
   },
   {
    "duration": 11,
    "start_time": "2022-01-09T17:59:51.592Z"
   },
   {
    "duration": 6,
    "start_time": "2022-01-09T17:59:51.606Z"
   },
   {
    "duration": 58,
    "start_time": "2022-01-09T17:59:51.615Z"
   },
   {
    "duration": 21,
    "start_time": "2022-01-09T17:59:51.675Z"
   },
   {
    "duration": 28,
    "start_time": "2022-01-09T17:59:51.699Z"
   },
   {
    "duration": 54,
    "start_time": "2022-01-09T17:59:51.729Z"
   },
   {
    "duration": 23,
    "start_time": "2022-01-09T17:59:51.785Z"
   },
   {
    "duration": 14,
    "start_time": "2022-01-09T17:59:51.810Z"
   },
   {
    "duration": 4690,
    "start_time": "2022-01-09T17:59:51.827Z"
   },
   {
    "duration": 53,
    "start_time": "2022-01-09T17:59:56.520Z"
   },
   {
    "duration": 577,
    "start_time": "2022-01-09T17:59:56.576Z"
   },
   {
    "duration": 13,
    "start_time": "2022-01-09T17:59:57.156Z"
   },
   {
    "duration": 9,
    "start_time": "2022-01-09T17:59:57.171Z"
   },
   {
    "duration": 4,
    "start_time": "2022-01-09T17:59:57.183Z"
   },
   {
    "duration": 22,
    "start_time": "2022-01-09T17:59:57.192Z"
   },
   {
    "duration": 50,
    "start_time": "2022-01-09T17:59:57.217Z"
   },
   {
    "duration": 16,
    "start_time": "2022-01-09T17:59:57.270Z"
   },
   {
    "duration": 3,
    "start_time": "2022-01-09T17:59:57.288Z"
   },
   {
    "duration": 417,
    "start_time": "2022-01-09T17:59:57.294Z"
   },
   {
    "duration": 817,
    "start_time": "2022-01-09T17:59:56.897Z"
   },
   {
    "duration": 815,
    "start_time": "2022-01-09T17:59:56.901Z"
   },
   {
    "duration": 802,
    "start_time": "2022-01-09T17:59:56.915Z"
   },
   {
    "duration": 790,
    "start_time": "2022-01-09T17:59:56.929Z"
   },
   {
    "duration": 771,
    "start_time": "2022-01-09T17:59:56.949Z"
   },
   {
    "duration": 758,
    "start_time": "2022-01-09T17:59:56.964Z"
   },
   {
    "duration": 746,
    "start_time": "2022-01-09T17:59:56.978Z"
   },
   {
    "duration": 3,
    "start_time": "2022-01-09T18:01:23.286Z"
   },
   {
    "duration": 346,
    "start_time": "2022-01-09T18:01:34.259Z"
   },
   {
    "duration": 4422,
    "start_time": "2022-01-09T18:01:39.992Z"
   },
   {
    "duration": 4,
    "start_time": "2022-01-09T18:01:47.754Z"
   },
   {
    "duration": 107,
    "start_time": "2022-01-09T18:01:47.760Z"
   },
   {
    "duration": 28,
    "start_time": "2022-01-09T18:01:47.870Z"
   },
   {
    "duration": 19,
    "start_time": "2022-01-09T18:01:47.901Z"
   },
   {
    "duration": 15,
    "start_time": "2022-01-09T18:01:47.922Z"
   },
   {
    "duration": 5,
    "start_time": "2022-01-09T18:01:47.968Z"
   },
   {
    "duration": 12,
    "start_time": "2022-01-09T18:01:47.978Z"
   },
   {
    "duration": 11,
    "start_time": "2022-01-09T18:01:47.994Z"
   },
   {
    "duration": 14,
    "start_time": "2022-01-09T18:01:48.008Z"
   },
   {
    "duration": 8,
    "start_time": "2022-01-09T18:01:48.067Z"
   },
   {
    "duration": 13,
    "start_time": "2022-01-09T18:01:48.079Z"
   },
   {
    "duration": 19,
    "start_time": "2022-01-09T18:01:48.095Z"
   },
   {
    "duration": 6,
    "start_time": "2022-01-09T18:01:48.118Z"
   },
   {
    "duration": 43,
    "start_time": "2022-01-09T18:01:48.127Z"
   },
   {
    "duration": 19,
    "start_time": "2022-01-09T18:01:48.173Z"
   },
   {
    "duration": 22,
    "start_time": "2022-01-09T18:01:48.195Z"
   },
   {
    "duration": 61,
    "start_time": "2022-01-09T18:01:48.220Z"
   },
   {
    "duration": 4,
    "start_time": "2022-01-09T18:01:48.284Z"
   },
   {
    "duration": 4784,
    "start_time": "2022-01-09T18:01:48.295Z"
   },
   {
    "duration": 38,
    "start_time": "2022-01-09T18:01:53.082Z"
   },
   {
    "duration": 560,
    "start_time": "2022-01-09T18:01:53.122Z"
   },
   {
    "duration": 7,
    "start_time": "2022-01-09T18:01:53.685Z"
   },
   {
    "duration": 10,
    "start_time": "2022-01-09T18:01:53.694Z"
   },
   {
    "duration": 4,
    "start_time": "2022-01-09T18:01:53.707Z"
   },
   {
    "duration": 57,
    "start_time": "2022-01-09T18:01:53.714Z"
   },
   {
    "duration": 8,
    "start_time": "2022-01-09T18:01:53.774Z"
   },
   {
    "duration": 18,
    "start_time": "2022-01-09T18:01:53.785Z"
   },
   {
    "duration": 4133,
    "start_time": "2022-01-09T18:01:53.806Z"
   },
   {
    "duration": 767,
    "start_time": "2022-01-09T18:01:57.175Z"
   },
   {
    "duration": 759,
    "start_time": "2022-01-09T18:01:57.185Z"
   },
   {
    "duration": 723,
    "start_time": "2022-01-09T18:01:57.222Z"
   },
   {
    "duration": 721,
    "start_time": "2022-01-09T18:01:57.226Z"
   },
   {
    "duration": 720,
    "start_time": "2022-01-09T18:01:57.228Z"
   },
   {
    "duration": 719,
    "start_time": "2022-01-09T18:01:57.231Z"
   },
   {
    "duration": 718,
    "start_time": "2022-01-09T18:01:57.234Z"
   },
   {
    "duration": 716,
    "start_time": "2022-01-09T18:01:57.237Z"
   },
   {
    "duration": 4015,
    "start_time": "2022-01-09T18:03:36.550Z"
   },
   {
    "duration": 477,
    "start_time": "2022-01-09T18:05:23.692Z"
   },
   {
    "duration": 837,
    "start_time": "2022-01-09T18:07:42.222Z"
   },
   {
    "duration": 820,
    "start_time": "2022-01-09T18:07:42.241Z"
   },
   {
    "duration": 818,
    "start_time": "2022-01-09T18:07:42.244Z"
   },
   {
    "duration": 818,
    "start_time": "2022-01-09T18:07:42.246Z"
   },
   {
    "duration": 816,
    "start_time": "2022-01-09T18:07:42.249Z"
   },
   {
    "duration": 815,
    "start_time": "2022-01-09T18:07:42.252Z"
   },
   {
    "duration": 814,
    "start_time": "2022-01-09T18:07:42.254Z"
   },
   {
    "duration": 814,
    "start_time": "2022-01-09T18:07:42.256Z"
   },
   {
    "duration": 808,
    "start_time": "2022-01-09T18:07:42.263Z"
   },
   {
    "duration": 807,
    "start_time": "2022-01-09T18:07:42.266Z"
   },
   {
    "duration": 806,
    "start_time": "2022-01-09T18:07:42.268Z"
   },
   {
    "duration": 805,
    "start_time": "2022-01-09T18:07:42.271Z"
   },
   {
    "duration": 804,
    "start_time": "2022-01-09T18:07:42.273Z"
   },
   {
    "duration": 804,
    "start_time": "2022-01-09T18:07:42.275Z"
   },
   {
    "duration": 803,
    "start_time": "2022-01-09T18:07:42.277Z"
   },
   {
    "duration": 802,
    "start_time": "2022-01-09T18:07:42.279Z"
   },
   {
    "duration": 801,
    "start_time": "2022-01-09T18:07:42.282Z"
   },
   {
    "duration": 787,
    "start_time": "2022-01-09T18:07:42.297Z"
   },
   {
    "duration": 781,
    "start_time": "2022-01-09T18:07:42.304Z"
   },
   {
    "duration": 779,
    "start_time": "2022-01-09T18:07:42.308Z"
   },
   {
    "duration": 777,
    "start_time": "2022-01-09T18:07:42.311Z"
   },
   {
    "duration": 776,
    "start_time": "2022-01-09T18:07:42.313Z"
   },
   {
    "duration": 769,
    "start_time": "2022-01-09T18:07:42.321Z"
   },
   {
    "duration": 769,
    "start_time": "2022-01-09T18:07:42.323Z"
   },
   {
    "duration": 767,
    "start_time": "2022-01-09T18:07:42.326Z"
   },
   {
    "duration": 766,
    "start_time": "2022-01-09T18:07:42.328Z"
   },
   {
    "duration": 765,
    "start_time": "2022-01-09T18:07:42.331Z"
   },
   {
    "duration": 759,
    "start_time": "2022-01-09T18:07:42.338Z"
   },
   {
    "duration": 758,
    "start_time": "2022-01-09T18:07:42.341Z"
   },
   {
    "duration": 756,
    "start_time": "2022-01-09T18:07:42.344Z"
   },
   {
    "duration": 752,
    "start_time": "2022-01-09T18:07:42.349Z"
   },
   {
    "duration": 752,
    "start_time": "2022-01-09T18:07:42.351Z"
   },
   {
    "duration": 750,
    "start_time": "2022-01-09T18:07:42.354Z"
   },
   {
    "duration": 750,
    "start_time": "2022-01-09T18:07:42.356Z"
   },
   {
    "duration": 809,
    "start_time": "2022-01-09T18:07:42.358Z"
   },
   {
    "duration": 809,
    "start_time": "2022-01-09T18:07:42.360Z"
   },
   {
    "duration": 3,
    "start_time": "2022-01-09T18:07:56.206Z"
   },
   {
    "duration": 75,
    "start_time": "2022-01-09T18:07:56.212Z"
   },
   {
    "duration": 28,
    "start_time": "2022-01-09T18:07:56.291Z"
   },
   {
    "duration": 53,
    "start_time": "2022-01-09T18:07:56.323Z"
   },
   {
    "duration": 15,
    "start_time": "2022-01-09T18:07:56.379Z"
   },
   {
    "duration": 5,
    "start_time": "2022-01-09T18:07:56.396Z"
   },
   {
    "duration": 13,
    "start_time": "2022-01-09T18:07:56.405Z"
   },
   {
    "duration": 47,
    "start_time": "2022-01-09T18:07:56.421Z"
   },
   {
    "duration": 13,
    "start_time": "2022-01-09T18:07:56.471Z"
   },
   {
    "duration": 5,
    "start_time": "2022-01-09T18:07:56.487Z"
   },
   {
    "duration": 8,
    "start_time": "2022-01-09T18:07:56.495Z"
   },
   {
    "duration": 24,
    "start_time": "2022-01-09T18:07:56.505Z"
   },
   {
    "duration": 5,
    "start_time": "2022-01-09T18:07:56.567Z"
   },
   {
    "duration": 13,
    "start_time": "2022-01-09T18:07:56.575Z"
   },
   {
    "duration": 19,
    "start_time": "2022-01-09T18:07:56.590Z"
   },
   {
    "duration": 26,
    "start_time": "2022-01-09T18:07:56.612Z"
   },
   {
    "duration": 51,
    "start_time": "2022-01-09T18:07:56.641Z"
   },
   {
    "duration": 3,
    "start_time": "2022-01-09T18:07:56.694Z"
   },
   {
    "duration": 5085,
    "start_time": "2022-01-09T18:07:56.703Z"
   },
   {
    "duration": 41,
    "start_time": "2022-01-09T18:08:01.792Z"
   },
   {
    "duration": 561,
    "start_time": "2022-01-09T18:08:01.836Z"
   },
   {
    "duration": 7,
    "start_time": "2022-01-09T18:08:02.400Z"
   },
   {
    "duration": 10,
    "start_time": "2022-01-09T18:08:02.409Z"
   },
   {
    "duration": 5,
    "start_time": "2022-01-09T18:08:02.422Z"
   },
   {
    "duration": 55,
    "start_time": "2022-01-09T18:08:02.429Z"
   },
   {
    "duration": 9,
    "start_time": "2022-01-09T18:08:02.487Z"
   },
   {
    "duration": 18,
    "start_time": "2022-01-09T18:08:02.499Z"
   },
   {
    "duration": 4546,
    "start_time": "2022-01-09T18:08:02.520Z"
   },
   {
    "duration": 826,
    "start_time": "2022-01-09T18:08:06.243Z"
   },
   {
    "duration": 823,
    "start_time": "2022-01-09T18:08:06.247Z"
   },
   {
    "duration": 821,
    "start_time": "2022-01-09T18:08:06.251Z"
   },
   {
    "duration": 819,
    "start_time": "2022-01-09T18:08:06.255Z"
   },
   {
    "duration": 817,
    "start_time": "2022-01-09T18:08:06.258Z"
   },
   {
    "duration": 814,
    "start_time": "2022-01-09T18:08:06.263Z"
   },
   {
    "duration": 811,
    "start_time": "2022-01-09T18:08:06.268Z"
   },
   {
    "duration": 809,
    "start_time": "2022-01-09T18:08:06.271Z"
   },
   {
    "duration": 4195,
    "start_time": "2022-01-09T18:09:02.214Z"
   },
   {
    "duration": 5,
    "start_time": "2022-01-09T18:09:35.323Z"
   },
   {
    "duration": 6,
    "start_time": "2022-01-09T18:09:42.870Z"
   },
   {
    "duration": 353,
    "start_time": "2022-01-09T18:09:58.333Z"
   },
   {
    "duration": 527,
    "start_time": "2022-01-10T16:10:06.886Z"
   },
   {
    "duration": 29,
    "start_time": "2022-01-10T16:10:37.817Z"
   },
   {
    "duration": 26,
    "start_time": "2022-01-10T16:10:37.822Z"
   },
   {
    "duration": 16,
    "start_time": "2022-01-10T16:10:37.834Z"
   },
   {
    "duration": 12,
    "start_time": "2022-01-10T16:10:37.839Z"
   },
   {
    "duration": 8,
    "start_time": "2022-01-10T16:10:37.844Z"
   },
   {
    "duration": 5,
    "start_time": "2022-01-10T16:10:37.849Z"
   },
   {
    "duration": 3,
    "start_time": "2022-01-10T16:10:37.852Z"
   },
   {
    "duration": -21,
    "start_time": "2022-01-10T16:10:37.878Z"
   },
   {
    "duration": -38,
    "start_time": "2022-01-10T16:10:37.896Z"
   },
   {
    "duration": -39,
    "start_time": "2022-01-10T16:10:37.899Z"
   },
   {
    "duration": -41,
    "start_time": "2022-01-10T16:10:37.902Z"
   },
   {
    "duration": -42,
    "start_time": "2022-01-10T16:10:37.904Z"
   },
   {
    "duration": -43,
    "start_time": "2022-01-10T16:10:37.907Z"
   },
   {
    "duration": -44,
    "start_time": "2022-01-10T16:10:37.909Z"
   },
   {
    "duration": -45,
    "start_time": "2022-01-10T16:10:37.912Z"
   },
   {
    "duration": -46,
    "start_time": "2022-01-10T16:10:37.914Z"
   },
   {
    "duration": -47,
    "start_time": "2022-01-10T16:10:37.916Z"
   },
   {
    "duration": 4,
    "start_time": "2022-01-10T16:10:37.919Z"
   },
   {
    "duration": 2,
    "start_time": "2022-01-10T16:10:37.922Z"
   },
   {
    "duration": 2,
    "start_time": "2022-01-10T16:10:37.924Z"
   },
   {
    "duration": -4,
    "start_time": "2022-01-10T16:10:37.932Z"
   },
   {
    "duration": -10,
    "start_time": "2022-01-10T16:10:37.939Z"
   },
   {
    "duration": -11,
    "start_time": "2022-01-10T16:10:37.942Z"
   },
   {
    "duration": -11,
    "start_time": "2022-01-10T16:10:37.944Z"
   },
   {
    "duration": -17,
    "start_time": "2022-01-10T16:10:37.951Z"
   },
   {
    "duration": -17,
    "start_time": "2022-01-10T16:10:37.953Z"
   },
   {
    "duration": -54,
    "start_time": "2022-01-10T16:10:37.992Z"
   },
   {
    "duration": -56,
    "start_time": "2022-01-10T16:10:37.995Z"
   },
   {
    "duration": -56,
    "start_time": "2022-01-10T16:10:37.997Z"
   },
   {
    "duration": -57,
    "start_time": "2022-01-10T16:10:38.000Z"
   },
   {
    "duration": -58,
    "start_time": "2022-01-10T16:10:38.003Z"
   },
   {
    "duration": -59,
    "start_time": "2022-01-10T16:10:38.005Z"
   },
   {
    "duration": -60,
    "start_time": "2022-01-10T16:10:38.007Z"
   },
   {
    "duration": -60,
    "start_time": "2022-01-10T16:10:38.009Z"
   },
   {
    "duration": -60,
    "start_time": "2022-01-10T16:10:38.011Z"
   },
   {
    "duration": -62,
    "start_time": "2022-01-10T16:10:38.014Z"
   },
   {
    "duration": -64,
    "start_time": "2022-01-10T16:10:38.017Z"
   },
   {
    "duration": 4,
    "start_time": "2022-01-10T16:10:45.069Z"
   },
   {
    "duration": 66,
    "start_time": "2022-01-10T16:10:45.076Z"
   },
   {
    "duration": 26,
    "start_time": "2022-01-10T16:10:45.144Z"
   },
   {
    "duration": 17,
    "start_time": "2022-01-10T16:10:45.173Z"
   },
   {
    "duration": 39,
    "start_time": "2022-01-10T16:10:45.193Z"
   },
   {
    "duration": 19,
    "start_time": "2022-01-10T16:10:45.235Z"
   },
   {
    "duration": 29,
    "start_time": "2022-01-10T16:10:45.258Z"
   },
   {
    "duration": 16,
    "start_time": "2022-01-10T16:10:45.290Z"
   },
   {
    "duration": 20,
    "start_time": "2022-01-10T16:10:45.309Z"
   },
   {
    "duration": 15,
    "start_time": "2022-01-10T16:10:45.332Z"
   },
   {
    "duration": 18,
    "start_time": "2022-01-10T16:10:45.349Z"
   },
   {
    "duration": 26,
    "start_time": "2022-01-10T16:10:45.369Z"
   },
   {
    "duration": 13,
    "start_time": "2022-01-10T16:10:45.398Z"
   },
   {
    "duration": 18,
    "start_time": "2022-01-10T16:10:45.413Z"
   },
   {
    "duration": 34,
    "start_time": "2022-01-10T16:10:45.433Z"
   },
   {
    "duration": 29,
    "start_time": "2022-01-10T16:10:45.469Z"
   },
   {
    "duration": 24,
    "start_time": "2022-01-10T16:10:45.500Z"
   },
   {
    "duration": 24,
    "start_time": "2022-01-10T16:10:45.526Z"
   },
   {
    "duration": 14,
    "start_time": "2022-01-10T16:10:45.555Z"
   },
   {
    "duration": 5280,
    "start_time": "2022-01-10T16:10:45.572Z"
   },
   {
    "duration": 38,
    "start_time": "2022-01-10T16:10:50.855Z"
   },
   {
    "duration": 624,
    "start_time": "2022-01-10T16:10:50.896Z"
   },
   {
    "duration": 9,
    "start_time": "2022-01-10T16:10:51.524Z"
   },
   {
    "duration": 19,
    "start_time": "2022-01-10T16:10:51.535Z"
   },
   {
    "duration": 4,
    "start_time": "2022-01-10T16:10:51.556Z"
   },
   {
    "duration": 30,
    "start_time": "2022-01-10T16:10:51.562Z"
   },
   {
    "duration": 32,
    "start_time": "2022-01-10T16:10:51.594Z"
   },
   {
    "duration": 15,
    "start_time": "2022-01-10T16:10:51.629Z"
   },
   {
    "duration": 4438,
    "start_time": "2022-01-10T16:10:51.646Z"
   },
   {
    "duration": 14,
    "start_time": "2022-01-10T16:10:56.072Z"
   },
   {
    "duration": 10,
    "start_time": "2022-01-10T16:10:56.078Z"
   },
   {
    "duration": 6,
    "start_time": "2022-01-10T16:10:56.083Z"
   },
   {
    "duration": 4,
    "start_time": "2022-01-10T16:10:56.087Z"
   },
   {
    "duration": 4,
    "start_time": "2022-01-10T16:10:56.089Z"
   },
   {
    "duration": 3,
    "start_time": "2022-01-10T16:10:56.091Z"
   },
   {
    "duration": 3,
    "start_time": "2022-01-10T16:10:56.093Z"
   },
   {
    "duration": 3,
    "start_time": "2022-01-10T16:10:56.095Z"
   },
   {
    "duration": 514,
    "start_time": "2022-01-10T16:11:24.894Z"
   },
   {
    "duration": 6,
    "start_time": "2022-01-10T16:13:35.622Z"
   },
   {
    "duration": 4379,
    "start_time": "2022-01-10T16:15:01.836Z"
   },
   {
    "duration": 4372,
    "start_time": "2022-01-10T16:15:08.284Z"
   },
   {
    "duration": 5063,
    "start_time": "2022-01-10T16:16:08.803Z"
   },
   {
    "duration": 6583,
    "start_time": "2022-01-10T16:16:19.772Z"
   },
   {
    "duration": 3,
    "start_time": "2022-01-10T16:17:49.919Z"
   },
   {
    "duration": 426,
    "start_time": "2022-01-10T16:17:51.922Z"
   },
   {
    "duration": 5,
    "start_time": "2022-01-10T16:18:09.748Z"
   },
   {
    "duration": 409,
    "start_time": "2022-01-10T16:18:13.545Z"
   },
   {
    "duration": 4208,
    "start_time": "2022-01-10T16:18:22.456Z"
   },
   {
    "duration": 4646,
    "start_time": "2022-01-10T16:20:09.193Z"
   },
   {
    "duration": 5908,
    "start_time": "2022-01-10T16:23:12.579Z"
   },
   {
    "duration": 6064,
    "start_time": "2022-01-10T16:24:02.906Z"
   },
   {
    "duration": 915,
    "start_time": "2022-01-10T16:24:26.214Z"
   },
   {
    "duration": 60,
    "start_time": "2022-01-10T16:24:27.133Z"
   },
   {
    "duration": 42,
    "start_time": "2022-01-10T16:24:27.196Z"
   },
   {
    "duration": 29,
    "start_time": "2022-01-10T16:24:27.242Z"
   },
   {
    "duration": 14,
    "start_time": "2022-01-10T16:24:27.274Z"
   },
   {
    "duration": 33,
    "start_time": "2022-01-10T16:24:27.291Z"
   },
   {
    "duration": 12,
    "start_time": "2022-01-10T16:24:27.327Z"
   },
   {
    "duration": 10,
    "start_time": "2022-01-10T16:24:27.345Z"
   },
   {
    "duration": 14,
    "start_time": "2022-01-10T16:24:27.358Z"
   },
   {
    "duration": 50,
    "start_time": "2022-01-10T16:24:27.375Z"
   },
   {
    "duration": 6,
    "start_time": "2022-01-10T16:24:27.428Z"
   },
   {
    "duration": 18,
    "start_time": "2022-01-10T16:24:27.436Z"
   },
   {
    "duration": 6,
    "start_time": "2022-01-10T16:24:27.457Z"
   },
   {
    "duration": 8,
    "start_time": "2022-01-10T16:24:27.465Z"
   },
   {
    "duration": 53,
    "start_time": "2022-01-10T16:24:27.476Z"
   },
   {
    "duration": 23,
    "start_time": "2022-01-10T16:24:27.532Z"
   },
   {
    "duration": 26,
    "start_time": "2022-01-10T16:24:27.559Z"
   },
   {
    "duration": 60,
    "start_time": "2022-01-10T16:24:27.587Z"
   },
   {
    "duration": 23,
    "start_time": "2022-01-10T16:24:27.649Z"
   },
   {
    "duration": 5530,
    "start_time": "2022-01-10T16:24:27.675Z"
   },
   {
    "duration": 65,
    "start_time": "2022-01-10T16:24:33.208Z"
   },
   {
    "duration": 627,
    "start_time": "2022-01-10T16:24:33.276Z"
   },
   {
    "duration": 19,
    "start_time": "2022-01-10T16:24:33.906Z"
   },
   {
    "duration": 13,
    "start_time": "2022-01-10T16:24:33.928Z"
   },
   {
    "duration": 5,
    "start_time": "2022-01-10T16:24:33.944Z"
   },
   {
    "duration": 25,
    "start_time": "2022-01-10T16:24:33.956Z"
   },
   {
    "duration": 40,
    "start_time": "2022-01-10T16:24:33.984Z"
   },
   {
    "duration": 18,
    "start_time": "2022-01-10T16:24:34.027Z"
   },
   {
    "duration": 7054,
    "start_time": "2022-01-10T16:24:34.047Z"
   },
   {
    "duration": 30,
    "start_time": "2022-01-10T16:24:41.075Z"
   },
   {
    "duration": 23,
    "start_time": "2022-01-10T16:24:41.084Z"
   },
   {
    "duration": 18,
    "start_time": "2022-01-10T16:24:41.091Z"
   },
   {
    "duration": 17,
    "start_time": "2022-01-10T16:24:41.095Z"
   },
   {
    "duration": 13,
    "start_time": "2022-01-10T16:24:41.101Z"
   },
   {
    "duration": 11,
    "start_time": "2022-01-10T16:24:41.105Z"
   },
   {
    "duration": 8,
    "start_time": "2022-01-10T16:24:41.110Z"
   },
   {
    "duration": 5,
    "start_time": "2022-01-10T16:24:41.115Z"
   },
   {
    "duration": 5,
    "start_time": "2022-01-10T16:24:54.631Z"
   },
   {
    "duration": 63,
    "start_time": "2022-01-10T16:24:54.639Z"
   },
   {
    "duration": 29,
    "start_time": "2022-01-10T16:24:54.725Z"
   },
   {
    "duration": 15,
    "start_time": "2022-01-10T16:24:54.757Z"
   },
   {
    "duration": 50,
    "start_time": "2022-01-10T16:24:54.775Z"
   },
   {
    "duration": 6,
    "start_time": "2022-01-10T16:24:54.828Z"
   },
   {
    "duration": 12,
    "start_time": "2022-01-10T16:24:54.836Z"
   },
   {
    "duration": 14,
    "start_time": "2022-01-10T16:24:54.856Z"
   },
   {
    "duration": 51,
    "start_time": "2022-01-10T16:24:54.874Z"
   },
   {
    "duration": 7,
    "start_time": "2022-01-10T16:24:54.928Z"
   },
   {
    "duration": 12,
    "start_time": "2022-01-10T16:24:54.937Z"
   },
   {
    "duration": 27,
    "start_time": "2022-01-10T16:24:54.952Z"
   },
   {
    "duration": 5,
    "start_time": "2022-01-10T16:24:54.982Z"
   },
   {
    "duration": 6,
    "start_time": "2022-01-10T16:24:55.026Z"
   },
   {
    "duration": 21,
    "start_time": "2022-01-10T16:24:55.035Z"
   },
   {
    "duration": 22,
    "start_time": "2022-01-10T16:24:55.059Z"
   },
   {
    "duration": 76,
    "start_time": "2022-01-10T16:24:55.084Z"
   },
   {
    "duration": 60,
    "start_time": "2022-01-10T16:24:55.163Z"
   },
   {
    "duration": 34,
    "start_time": "2022-01-10T16:24:55.227Z"
   },
   {
    "duration": 5997,
    "start_time": "2022-01-10T16:24:55.265Z"
   },
   {
    "duration": 41,
    "start_time": "2022-01-10T16:25:01.265Z"
   },
   {
    "duration": 524,
    "start_time": "2022-01-10T16:25:01.324Z"
   },
   {
    "duration": 7,
    "start_time": "2022-01-10T16:25:01.853Z"
   },
   {
    "duration": 15,
    "start_time": "2022-01-10T16:25:01.863Z"
   },
   {
    "duration": 7,
    "start_time": "2022-01-10T16:25:01.881Z"
   },
   {
    "duration": 46,
    "start_time": "2022-01-10T16:25:01.890Z"
   },
   {
    "duration": 8,
    "start_time": "2022-01-10T16:25:01.939Z"
   },
   {
    "duration": 16,
    "start_time": "2022-01-10T16:25:01.949Z"
   },
   {
    "duration": 5559,
    "start_time": "2022-01-10T16:25:01.968Z"
   },
   {
    "duration": 41,
    "start_time": "2022-01-10T16:25:07.490Z"
   },
   {
    "duration": 40,
    "start_time": "2022-01-10T16:25:07.493Z"
   },
   {
    "duration": 37,
    "start_time": "2022-01-10T16:25:07.499Z"
   },
   {
    "duration": 35,
    "start_time": "2022-01-10T16:25:07.503Z"
   },
   {
    "duration": 34,
    "start_time": "2022-01-10T16:25:07.506Z"
   },
   {
    "duration": 34,
    "start_time": "2022-01-10T16:25:07.508Z"
   },
   {
    "duration": 33,
    "start_time": "2022-01-10T16:25:07.511Z"
   },
   {
    "duration": 34,
    "start_time": "2022-01-10T16:25:07.513Z"
   },
   {
    "duration": 742,
    "start_time": "2022-01-10T16:25:23.821Z"
   },
   {
    "duration": 85,
    "start_time": "2022-01-10T16:25:24.566Z"
   },
   {
    "duration": 68,
    "start_time": "2022-01-10T16:25:24.655Z"
   },
   {
    "duration": 23,
    "start_time": "2022-01-10T16:25:24.727Z"
   },
   {
    "duration": 17,
    "start_time": "2022-01-10T16:25:24.753Z"
   },
   {
    "duration": 5,
    "start_time": "2022-01-10T16:25:24.773Z"
   },
   {
    "duration": 49,
    "start_time": "2022-01-10T16:25:24.781Z"
   },
   {
    "duration": 13,
    "start_time": "2022-01-10T16:25:24.836Z"
   },
   {
    "duration": 18,
    "start_time": "2022-01-10T16:25:24.853Z"
   },
   {
    "duration": 7,
    "start_time": "2022-01-10T16:25:24.874Z"
   },
   {
    "duration": 39,
    "start_time": "2022-01-10T16:25:24.884Z"
   },
   {
    "duration": 24,
    "start_time": "2022-01-10T16:25:24.927Z"
   },
   {
    "duration": 12,
    "start_time": "2022-01-10T16:25:24.954Z"
   },
   {
    "duration": 18,
    "start_time": "2022-01-10T16:25:24.969Z"
   },
   {
    "duration": 47,
    "start_time": "2022-01-10T16:25:24.991Z"
   },
   {
    "duration": 31,
    "start_time": "2022-01-10T16:25:25.042Z"
   },
   {
    "duration": 49,
    "start_time": "2022-01-10T16:25:25.076Z"
   },
   {
    "duration": 31,
    "start_time": "2022-01-10T16:25:25.128Z"
   },
   {
    "duration": 23,
    "start_time": "2022-01-10T16:25:25.161Z"
   },
   {
    "duration": 5611,
    "start_time": "2022-01-10T16:25:25.186Z"
   },
   {
    "duration": 53,
    "start_time": "2022-01-10T16:25:30.801Z"
   },
   {
    "duration": 573,
    "start_time": "2022-01-10T16:25:30.858Z"
   },
   {
    "duration": 9,
    "start_time": "2022-01-10T16:25:31.439Z"
   },
   {
    "duration": 33,
    "start_time": "2022-01-10T16:25:31.452Z"
   },
   {
    "duration": 22,
    "start_time": "2022-01-10T16:25:31.487Z"
   },
   {
    "duration": 51,
    "start_time": "2022-01-10T16:25:31.512Z"
   },
   {
    "duration": 9,
    "start_time": "2022-01-10T16:25:31.566Z"
   },
   {
    "duration": 17,
    "start_time": "2022-01-10T16:25:31.578Z"
   },
   {
    "duration": 4509,
    "start_time": "2022-01-10T16:25:31.598Z"
   },
   {
    "duration": 31,
    "start_time": "2022-01-10T16:25:36.080Z"
   },
   {
    "duration": 26,
    "start_time": "2022-01-10T16:25:36.088Z"
   },
   {
    "duration": 26,
    "start_time": "2022-01-10T16:25:36.090Z"
   },
   {
    "duration": 26,
    "start_time": "2022-01-10T16:25:36.092Z"
   },
   {
    "duration": 25,
    "start_time": "2022-01-10T16:25:36.096Z"
   },
   {
    "duration": 25,
    "start_time": "2022-01-10T16:25:36.098Z"
   },
   {
    "duration": 25,
    "start_time": "2022-01-10T16:25:36.100Z"
   },
   {
    "duration": 14,
    "start_time": "2022-01-10T16:25:36.114Z"
   },
   {
    "duration": 4764,
    "start_time": "2022-01-10T16:26:21.061Z"
   },
   {
    "duration": 4234,
    "start_time": "2022-01-10T16:27:30.682Z"
   },
   {
    "duration": 724,
    "start_time": "2022-01-10T16:28:13.532Z"
   },
   {
    "duration": 65,
    "start_time": "2022-01-10T16:28:14.259Z"
   },
   {
    "duration": 39,
    "start_time": "2022-01-10T16:28:18.076Z"
   },
   {
    "duration": 16,
    "start_time": "2022-01-10T16:28:23.367Z"
   },
   {
    "duration": 12,
    "start_time": "2022-01-10T16:28:28.884Z"
   },
   {
    "duration": 5,
    "start_time": "2022-01-10T16:28:31.843Z"
   },
   {
    "duration": 10,
    "start_time": "2022-01-10T16:28:32.386Z"
   },
   {
    "duration": 11,
    "start_time": "2022-01-10T16:28:33.874Z"
   },
   {
    "duration": 13,
    "start_time": "2022-01-10T16:28:37.162Z"
   },
   {
    "duration": 5,
    "start_time": "2022-01-10T16:28:50.699Z"
   },
   {
    "duration": 5,
    "start_time": "2022-01-10T16:28:51.250Z"
   },
   {
    "duration": 24,
    "start_time": "2022-01-10T16:28:52.899Z"
   },
   {
    "duration": 11,
    "start_time": "2022-01-10T16:29:05.195Z"
   },
   {
    "duration": 5,
    "start_time": "2022-01-10T16:29:06.764Z"
   },
   {
    "duration": 17,
    "start_time": "2022-01-10T16:29:07.809Z"
   },
   {
    "duration": 20,
    "start_time": "2022-01-10T16:29:11.500Z"
   },
   {
    "duration": 24,
    "start_time": "2022-01-10T16:29:18.572Z"
   },
   {
    "duration": 5138,
    "start_time": "2022-01-10T16:29:23.350Z"
   },
   {
    "duration": 76,
    "start_time": "2022-01-10T16:29:28.492Z"
   },
   {
    "duration": 629,
    "start_time": "2022-01-10T16:29:28.572Z"
   },
   {
    "duration": 7,
    "start_time": "2022-01-10T16:29:29.204Z"
   },
   {
    "duration": 8,
    "start_time": "2022-01-10T16:29:33.171Z"
   },
   {
    "duration": 5,
    "start_time": "2022-01-10T16:29:35.899Z"
   },
   {
    "duration": 20,
    "start_time": "2022-01-10T16:29:36.540Z"
   },
   {
    "duration": 6,
    "start_time": "2022-01-10T16:29:37.132Z"
   },
   {
    "duration": 14,
    "start_time": "2022-01-10T16:29:39.659Z"
   },
   {
    "duration": 6622,
    "start_time": "2022-01-10T16:29:44.404Z"
   },
   {
    "duration": 4,
    "start_time": "2022-01-10T16:30:00.730Z"
   },
   {
    "duration": 88,
    "start_time": "2022-01-10T16:30:00.738Z"
   },
   {
    "duration": 27,
    "start_time": "2022-01-10T16:30:00.829Z"
   },
   {
    "duration": 33,
    "start_time": "2022-01-10T16:30:00.859Z"
   },
   {
    "duration": 56,
    "start_time": "2022-01-10T16:30:00.894Z"
   },
   {
    "duration": 24,
    "start_time": "2022-01-10T16:30:00.953Z"
   },
   {
    "duration": 15,
    "start_time": "2022-01-10T16:30:00.981Z"
   },
   {
    "duration": 16,
    "start_time": "2022-01-10T16:30:01.000Z"
   },
   {
    "duration": 21,
    "start_time": "2022-01-10T16:30:01.020Z"
   },
   {
    "duration": 9,
    "start_time": "2022-01-10T16:30:01.043Z"
   },
   {
    "duration": 10,
    "start_time": "2022-01-10T16:30:01.055Z"
   },
   {
    "duration": 19,
    "start_time": "2022-01-10T16:30:01.068Z"
   },
   {
    "duration": 5,
    "start_time": "2022-01-10T16:30:01.089Z"
   },
   {
    "duration": 26,
    "start_time": "2022-01-10T16:30:01.097Z"
   },
   {
    "duration": 27,
    "start_time": "2022-01-10T16:30:01.126Z"
   },
   {
    "duration": 28,
    "start_time": "2022-01-10T16:30:01.155Z"
   },
   {
    "duration": 25,
    "start_time": "2022-01-10T16:30:01.185Z"
   },
   {
    "duration": 33,
    "start_time": "2022-01-10T16:30:01.213Z"
   },
   {
    "duration": 24,
    "start_time": "2022-01-10T16:30:01.251Z"
   },
   {
    "duration": 5081,
    "start_time": "2022-01-10T16:30:01.277Z"
   },
   {
    "duration": 42,
    "start_time": "2022-01-10T16:30:06.361Z"
   },
   {
    "duration": 569,
    "start_time": "2022-01-10T16:30:06.406Z"
   },
   {
    "duration": 7,
    "start_time": "2022-01-10T16:30:06.978Z"
   },
   {
    "duration": 35,
    "start_time": "2022-01-10T16:30:06.988Z"
   },
   {
    "duration": 6,
    "start_time": "2022-01-10T16:30:07.025Z"
   },
   {
    "duration": 33,
    "start_time": "2022-01-10T16:30:07.034Z"
   },
   {
    "duration": 6,
    "start_time": "2022-01-10T16:30:07.070Z"
   },
   {
    "duration": 16,
    "start_time": "2022-01-10T16:30:07.079Z"
   },
   {
    "duration": 5404,
    "start_time": "2022-01-10T16:30:07.097Z"
   },
   {
    "duration": 11,
    "start_time": "2022-01-10T16:30:12.493Z"
   },
   {
    "duration": 6,
    "start_time": "2022-01-10T16:30:12.500Z"
   },
   {
    "duration": 5,
    "start_time": "2022-01-10T16:30:12.503Z"
   },
   {
    "duration": 3,
    "start_time": "2022-01-10T16:30:12.506Z"
   },
   {
    "duration": 3,
    "start_time": "2022-01-10T16:30:12.508Z"
   },
   {
    "duration": 2,
    "start_time": "2022-01-10T16:30:12.511Z"
   },
   {
    "duration": -7,
    "start_time": "2022-01-10T16:30:12.522Z"
   },
   {
    "duration": -12,
    "start_time": "2022-01-10T16:30:12.528Z"
   },
   {
    "duration": 4320,
    "start_time": "2022-01-10T16:31:03.391Z"
   },
   {
    "duration": 58,
    "start_time": "2022-01-10T16:31:24.804Z"
   },
   {
    "duration": 8,
    "start_time": "2022-01-10T16:31:37.275Z"
   },
   {
    "duration": 9,
    "start_time": "2022-01-10T16:31:42.500Z"
   },
   {
    "duration": 44,
    "start_time": "2022-01-10T16:31:45.179Z"
   },
   {
    "duration": 12,
    "start_time": "2022-01-10T16:31:48.766Z"
   },
   {
    "duration": 365,
    "start_time": "2022-01-10T16:39:54.881Z"
   },
   {
    "duration": 366,
    "start_time": "2022-01-10T16:40:18.742Z"
   },
   {
    "duration": 18,
    "start_time": "2022-01-10T16:41:30.042Z"
   },
   {
    "duration": 25,
    "start_time": "2022-01-10T16:41:45.042Z"
   },
   {
    "duration": 25,
    "start_time": "2022-01-10T16:42:03.581Z"
   },
   {
    "duration": 520,
    "start_time": "2022-01-10T16:44:24.490Z"
   },
   {
    "duration": 424,
    "start_time": "2022-01-10T16:44:32.780Z"
   },
   {
    "duration": 329,
    "start_time": "2022-01-10T16:47:04.589Z"
   },
   {
    "duration": 333,
    "start_time": "2022-01-10T16:47:09.420Z"
   },
   {
    "duration": 27,
    "start_time": "2022-01-10T16:47:56.646Z"
   },
   {
    "duration": 34,
    "start_time": "2022-01-10T16:48:43.230Z"
   },
   {
    "duration": 27,
    "start_time": "2022-01-10T16:48:46.793Z"
   },
   {
    "duration": 27,
    "start_time": "2022-01-10T16:48:55.487Z"
   },
   {
    "duration": 28,
    "start_time": "2022-01-10T16:53:43.101Z"
   },
   {
    "duration": 30,
    "start_time": "2022-01-10T16:54:13.641Z"
   },
   {
    "duration": 335,
    "start_time": "2022-01-10T16:56:39.112Z"
   },
   {
    "duration": 817,
    "start_time": "2022-01-10T16:56:47.774Z"
   },
   {
    "duration": 31,
    "start_time": "2022-01-10T16:57:29.364Z"
   },
   {
    "duration": 30,
    "start_time": "2022-01-10T16:57:38.047Z"
   },
   {
    "duration": 32,
    "start_time": "2022-01-10T16:57:42.877Z"
   },
   {
    "duration": 4,
    "start_time": "2022-01-10T16:57:54.489Z"
   },
   {
    "duration": 68,
    "start_time": "2022-01-10T16:57:54.495Z"
   },
   {
    "duration": 28,
    "start_time": "2022-01-10T16:57:54.566Z"
   },
   {
    "duration": 36,
    "start_time": "2022-01-10T16:57:54.598Z"
   },
   {
    "duration": 13,
    "start_time": "2022-01-10T16:57:54.638Z"
   },
   {
    "duration": 4,
    "start_time": "2022-01-10T16:57:54.654Z"
   },
   {
    "duration": 13,
    "start_time": "2022-01-10T16:57:54.661Z"
   },
   {
    "duration": 8,
    "start_time": "2022-01-10T16:57:54.677Z"
   },
   {
    "duration": 17,
    "start_time": "2022-01-10T16:57:54.727Z"
   },
   {
    "duration": 5,
    "start_time": "2022-01-10T16:57:54.748Z"
   },
   {
    "duration": 5,
    "start_time": "2022-01-10T16:57:54.756Z"
   },
   {
    "duration": 16,
    "start_time": "2022-01-10T16:57:54.765Z"
   },
   {
    "duration": 6,
    "start_time": "2022-01-10T16:57:54.823Z"
   },
   {
    "duration": 7,
    "start_time": "2022-01-10T16:57:54.832Z"
   },
   {
    "duration": 18,
    "start_time": "2022-01-10T16:57:54.841Z"
   },
   {
    "duration": 23,
    "start_time": "2022-01-10T16:57:54.862Z"
   },
   {
    "duration": 26,
    "start_time": "2022-01-10T16:57:54.924Z"
   },
   {
    "duration": 27,
    "start_time": "2022-01-10T16:57:54.952Z"
   },
   {
    "duration": 46,
    "start_time": "2022-01-10T16:57:54.981Z"
   },
   {
    "duration": 5124,
    "start_time": "2022-01-10T16:57:55.030Z"
   },
   {
    "duration": 36,
    "start_time": "2022-01-10T16:58:00.157Z"
   },
   {
    "duration": 576,
    "start_time": "2022-01-10T16:58:00.196Z"
   },
   {
    "duration": 8,
    "start_time": "2022-01-10T16:58:00.775Z"
   },
   {
    "duration": 36,
    "start_time": "2022-01-10T16:58:00.786Z"
   },
   {
    "duration": 8,
    "start_time": "2022-01-10T16:58:00.824Z"
   },
   {
    "duration": 25,
    "start_time": "2022-01-10T16:58:00.835Z"
   },
   {
    "duration": 7,
    "start_time": "2022-01-10T16:58:00.868Z"
   },
   {
    "duration": 51,
    "start_time": "2022-01-10T16:58:00.879Z"
   },
   {
    "duration": 4677,
    "start_time": "2022-01-10T16:58:00.933Z"
   },
   {
    "duration": -11,
    "start_time": "2022-01-10T16:58:05.624Z"
   },
   {
    "duration": -13,
    "start_time": "2022-01-10T16:58:05.628Z"
   },
   {
    "duration": -13,
    "start_time": "2022-01-10T16:58:05.630Z"
   },
   {
    "duration": -12,
    "start_time": "2022-01-10T16:58:05.632Z"
   },
   {
    "duration": -12,
    "start_time": "2022-01-10T16:58:05.634Z"
   },
   {
    "duration": -13,
    "start_time": "2022-01-10T16:58:05.637Z"
   },
   {
    "duration": -13,
    "start_time": "2022-01-10T16:58:05.639Z"
   },
   {
    "duration": -13,
    "start_time": "2022-01-10T16:58:05.641Z"
   },
   {
    "duration": -14,
    "start_time": "2022-01-10T16:58:05.643Z"
   },
   {
    "duration": 762,
    "start_time": "2022-01-10T16:58:33.708Z"
   },
   {
    "duration": 62,
    "start_time": "2022-01-10T16:58:34.473Z"
   },
   {
    "duration": 36,
    "start_time": "2022-01-10T16:58:34.537Z"
   },
   {
    "duration": 19,
    "start_time": "2022-01-10T16:58:34.576Z"
   },
   {
    "duration": 35,
    "start_time": "2022-01-10T16:58:34.598Z"
   },
   {
    "duration": 5,
    "start_time": "2022-01-10T16:58:34.635Z"
   },
   {
    "duration": 12,
    "start_time": "2022-01-10T16:58:34.643Z"
   },
   {
    "duration": 10,
    "start_time": "2022-01-10T16:58:34.658Z"
   },
   {
    "duration": 14,
    "start_time": "2022-01-10T16:58:34.670Z"
   },
   {
    "duration": 37,
    "start_time": "2022-01-10T16:58:34.687Z"
   },
   {
    "duration": 10,
    "start_time": "2022-01-10T16:58:34.727Z"
   },
   {
    "duration": 20,
    "start_time": "2022-01-10T16:58:34.739Z"
   },
   {
    "duration": 11,
    "start_time": "2022-01-10T16:58:34.761Z"
   },
   {
    "duration": 6,
    "start_time": "2022-01-10T16:58:34.774Z"
   },
   {
    "duration": 50,
    "start_time": "2022-01-10T16:58:34.783Z"
   },
   {
    "duration": 23,
    "start_time": "2022-01-10T16:58:34.836Z"
   },
   {
    "duration": 25,
    "start_time": "2022-01-10T16:58:34.861Z"
   },
   {
    "duration": 26,
    "start_time": "2022-01-10T16:58:34.924Z"
   },
   {
    "duration": 22,
    "start_time": "2022-01-10T16:58:34.952Z"
   },
   {
    "duration": 4826,
    "start_time": "2022-01-10T16:58:34.977Z"
   },
   {
    "duration": 50,
    "start_time": "2022-01-10T16:58:39.807Z"
   },
   {
    "duration": 534,
    "start_time": "2022-01-10T16:58:39.860Z"
   },
   {
    "duration": 8,
    "start_time": "2022-01-10T16:58:40.400Z"
   },
   {
    "duration": 10,
    "start_time": "2022-01-10T16:58:40.425Z"
   },
   {
    "duration": 5,
    "start_time": "2022-01-10T16:58:40.437Z"
   },
   {
    "duration": 39,
    "start_time": "2022-01-10T16:58:40.444Z"
   },
   {
    "duration": 6,
    "start_time": "2022-01-10T16:58:40.486Z"
   },
   {
    "duration": 36,
    "start_time": "2022-01-10T16:58:40.494Z"
   },
   {
    "duration": 4624,
    "start_time": "2022-01-10T16:58:40.532Z"
   },
   {
    "duration": 54,
    "start_time": "2022-01-10T16:58:45.105Z"
   },
   {
    "duration": 53,
    "start_time": "2022-01-10T16:58:45.108Z"
   },
   {
    "duration": 52,
    "start_time": "2022-01-10T16:58:45.111Z"
   },
   {
    "duration": 51,
    "start_time": "2022-01-10T16:58:45.113Z"
   },
   {
    "duration": 49,
    "start_time": "2022-01-10T16:58:45.116Z"
   },
   {
    "duration": 49,
    "start_time": "2022-01-10T16:58:45.119Z"
   },
   {
    "duration": 48,
    "start_time": "2022-01-10T16:58:45.122Z"
   },
   {
    "duration": 47,
    "start_time": "2022-01-10T16:58:45.124Z"
   },
   {
    "duration": 47,
    "start_time": "2022-01-10T16:58:45.126Z"
   },
   {
    "duration": 335,
    "start_time": "2022-01-10T17:01:00.533Z"
   },
   {
    "duration": 380,
    "start_time": "2022-01-10T17:01:28.746Z"
   },
   {
    "duration": 740,
    "start_time": "2022-01-10T17:01:33.463Z"
   },
   {
    "duration": 65,
    "start_time": "2022-01-10T17:01:34.205Z"
   },
   {
    "duration": 35,
    "start_time": "2022-01-10T17:01:34.273Z"
   },
   {
    "duration": 26,
    "start_time": "2022-01-10T17:01:34.311Z"
   },
   {
    "duration": 14,
    "start_time": "2022-01-10T17:01:34.340Z"
   },
   {
    "duration": 7,
    "start_time": "2022-01-10T17:01:34.356Z"
   },
   {
    "duration": 12,
    "start_time": "2022-01-10T17:01:34.365Z"
   },
   {
    "duration": 50,
    "start_time": "2022-01-10T17:01:34.380Z"
   },
   {
    "duration": 13,
    "start_time": "2022-01-10T17:01:34.435Z"
   },
   {
    "duration": 5,
    "start_time": "2022-01-10T17:01:34.452Z"
   },
   {
    "duration": 7,
    "start_time": "2022-01-10T17:01:34.459Z"
   },
   {
    "duration": 55,
    "start_time": "2022-01-10T17:01:34.469Z"
   },
   {
    "duration": 11,
    "start_time": "2022-01-10T17:01:34.527Z"
   },
   {
    "duration": 6,
    "start_time": "2022-01-10T17:01:34.540Z"
   },
   {
    "duration": 18,
    "start_time": "2022-01-10T17:01:34.549Z"
   },
   {
    "duration": 22,
    "start_time": "2022-01-10T17:01:34.569Z"
   },
   {
    "duration": 55,
    "start_time": "2022-01-10T17:01:34.593Z"
   },
   {
    "duration": 27,
    "start_time": "2022-01-10T17:01:34.651Z"
   },
   {
    "duration": 51,
    "start_time": "2022-01-10T17:01:34.681Z"
   },
   {
    "duration": 4757,
    "start_time": "2022-01-10T17:01:34.734Z"
   },
   {
    "duration": 46,
    "start_time": "2022-01-10T17:01:39.494Z"
   },
   {
    "duration": 547,
    "start_time": "2022-01-10T17:01:39.542Z"
   },
   {
    "duration": 7,
    "start_time": "2022-01-10T17:01:40.092Z"
   },
   {
    "duration": 23,
    "start_time": "2022-01-10T17:01:40.101Z"
   },
   {
    "duration": 4,
    "start_time": "2022-01-10T17:01:40.126Z"
   },
   {
    "duration": 21,
    "start_time": "2022-01-10T17:01:40.132Z"
   },
   {
    "duration": 6,
    "start_time": "2022-01-10T17:01:40.158Z"
   },
   {
    "duration": 18,
    "start_time": "2022-01-10T17:01:40.167Z"
   },
   {
    "duration": 4848,
    "start_time": "2022-01-10T17:01:40.188Z"
   },
   {
    "duration": 63,
    "start_time": "2022-01-10T17:01:44.975Z"
   },
   {
    "duration": 60,
    "start_time": "2022-01-10T17:01:44.980Z"
   },
   {
    "duration": 57,
    "start_time": "2022-01-10T17:01:44.985Z"
   },
   {
    "duration": 55,
    "start_time": "2022-01-10T17:01:44.988Z"
   },
   {
    "duration": 55,
    "start_time": "2022-01-10T17:01:44.990Z"
   },
   {
    "duration": 54,
    "start_time": "2022-01-10T17:01:44.993Z"
   },
   {
    "duration": 52,
    "start_time": "2022-01-10T17:01:44.996Z"
   },
   {
    "duration": 52,
    "start_time": "2022-01-10T17:01:44.998Z"
   },
   {
    "duration": 51,
    "start_time": "2022-01-10T17:01:45.000Z"
   },
   {
    "duration": 803,
    "start_time": "2022-01-10T17:02:08.703Z"
   },
   {
    "duration": 64,
    "start_time": "2022-01-10T17:02:09.509Z"
   },
   {
    "duration": 52,
    "start_time": "2022-01-10T17:02:09.577Z"
   },
   {
    "duration": 25,
    "start_time": "2022-01-10T17:02:09.632Z"
   },
   {
    "duration": 18,
    "start_time": "2022-01-10T17:02:09.660Z"
   },
   {
    "duration": 5,
    "start_time": "2022-01-10T17:02:09.681Z"
   },
   {
    "duration": 34,
    "start_time": "2022-01-10T17:02:09.689Z"
   },
   {
    "duration": 13,
    "start_time": "2022-01-10T17:02:09.728Z"
   },
   {
    "duration": 19,
    "start_time": "2022-01-10T17:02:09.745Z"
   },
   {
    "duration": 7,
    "start_time": "2022-01-10T17:02:09.768Z"
   },
   {
    "duration": 8,
    "start_time": "2022-01-10T17:02:09.778Z"
   },
   {
    "duration": 48,
    "start_time": "2022-01-10T17:02:09.790Z"
   },
   {
    "duration": 11,
    "start_time": "2022-01-10T17:02:09.841Z"
   },
   {
    "duration": 5,
    "start_time": "2022-01-10T17:02:09.854Z"
   },
   {
    "duration": 24,
    "start_time": "2022-01-10T17:02:09.862Z"
   },
   {
    "duration": 52,
    "start_time": "2022-01-10T17:02:09.889Z"
   },
   {
    "duration": 33,
    "start_time": "2022-01-10T17:02:09.944Z"
   },
   {
    "duration": 50,
    "start_time": "2022-01-10T17:02:09.980Z"
   },
   {
    "duration": 26,
    "start_time": "2022-01-10T17:02:10.033Z"
   },
   {
    "duration": 5127,
    "start_time": "2022-01-10T17:02:10.061Z"
   },
   {
    "duration": 53,
    "start_time": "2022-01-10T17:02:15.191Z"
   },
   {
    "duration": 524,
    "start_time": "2022-01-10T17:02:15.248Z"
   },
   {
    "duration": 7,
    "start_time": "2022-01-10T17:02:15.779Z"
   },
   {
    "duration": 33,
    "start_time": "2022-01-10T17:02:15.790Z"
   },
   {
    "duration": 6,
    "start_time": "2022-01-10T17:02:15.825Z"
   },
   {
    "duration": 26,
    "start_time": "2022-01-10T17:02:15.834Z"
   },
   {
    "duration": 9,
    "start_time": "2022-01-10T17:02:15.864Z"
   },
   {
    "duration": 54,
    "start_time": "2022-01-10T17:02:15.876Z"
   },
   {
    "duration": 4191,
    "start_time": "2022-01-10T17:02:15.933Z"
   },
   {
    "duration": 52,
    "start_time": "2022-01-10T17:02:20.075Z"
   },
   {
    "duration": 50,
    "start_time": "2022-01-10T17:02:20.078Z"
   },
   {
    "duration": 48,
    "start_time": "2022-01-10T17:02:20.082Z"
   },
   {
    "duration": 43,
    "start_time": "2022-01-10T17:02:20.088Z"
   },
   {
    "duration": 43,
    "start_time": "2022-01-10T17:02:20.090Z"
   },
   {
    "duration": 44,
    "start_time": "2022-01-10T17:02:20.092Z"
   },
   {
    "duration": 42,
    "start_time": "2022-01-10T17:02:20.095Z"
   },
   {
    "duration": 40,
    "start_time": "2022-01-10T17:02:20.098Z"
   },
   {
    "duration": 39,
    "start_time": "2022-01-10T17:02:20.101Z"
   },
   {
    "duration": 995,
    "start_time": "2022-01-10T17:04:00.788Z"
   },
   {
    "duration": 66,
    "start_time": "2022-01-10T17:04:01.786Z"
   },
   {
    "duration": 36,
    "start_time": "2022-01-10T17:04:01.856Z"
   },
   {
    "duration": 38,
    "start_time": "2022-01-10T17:04:01.895Z"
   },
   {
    "duration": 24,
    "start_time": "2022-01-10T17:04:01.935Z"
   },
   {
    "duration": 6,
    "start_time": "2022-01-10T17:04:01.961Z"
   },
   {
    "duration": 11,
    "start_time": "2022-01-10T17:04:01.969Z"
   },
   {
    "duration": 10,
    "start_time": "2022-01-10T17:04:01.982Z"
   },
   {
    "duration": 38,
    "start_time": "2022-01-10T17:04:01.997Z"
   },
   {
    "duration": 9,
    "start_time": "2022-01-10T17:04:02.038Z"
   },
   {
    "duration": 7,
    "start_time": "2022-01-10T17:04:02.049Z"
   },
   {
    "duration": 28,
    "start_time": "2022-01-10T17:04:02.058Z"
   },
   {
    "duration": 32,
    "start_time": "2022-01-10T17:04:02.089Z"
   },
   {
    "duration": 13,
    "start_time": "2022-01-10T17:04:02.123Z"
   },
   {
    "duration": 16,
    "start_time": "2022-01-10T17:04:02.138Z"
   },
   {
    "duration": 46,
    "start_time": "2022-01-10T17:04:02.157Z"
   },
   {
    "duration": 25,
    "start_time": "2022-01-10T17:04:02.206Z"
   },
   {
    "duration": 26,
    "start_time": "2022-01-10T17:04:02.233Z"
   },
   {
    "duration": 22,
    "start_time": "2022-01-10T17:04:02.262Z"
   },
   {
    "duration": 4981,
    "start_time": "2022-01-10T17:04:02.286Z"
   },
   {
    "duration": 38,
    "start_time": "2022-01-10T17:04:07.269Z"
   },
   {
    "duration": 561,
    "start_time": "2022-01-10T17:04:07.309Z"
   },
   {
    "duration": 9,
    "start_time": "2022-01-10T17:04:07.872Z"
   },
   {
    "duration": 14,
    "start_time": "2022-01-10T17:04:07.883Z"
   },
   {
    "duration": 24,
    "start_time": "2022-01-10T17:04:07.900Z"
   },
   {
    "duration": 30,
    "start_time": "2022-01-10T17:04:07.927Z"
   },
   {
    "duration": 8,
    "start_time": "2022-01-10T17:04:07.962Z"
   },
   {
    "duration": 16,
    "start_time": "2022-01-10T17:04:07.973Z"
   },
   {
    "duration": 7782,
    "start_time": "2022-01-10T17:04:07.992Z"
   },
   {
    "duration": 67,
    "start_time": "2022-01-10T17:04:15.709Z"
   },
   {
    "duration": 61,
    "start_time": "2022-01-10T17:04:15.717Z"
   },
   {
    "duration": 57,
    "start_time": "2022-01-10T17:04:15.723Z"
   },
   {
    "duration": 54,
    "start_time": "2022-01-10T17:04:15.728Z"
   },
   {
    "duration": 48,
    "start_time": "2022-01-10T17:04:15.735Z"
   },
   {
    "duration": 41,
    "start_time": "2022-01-10T17:04:15.744Z"
   },
   {
    "duration": 37,
    "start_time": "2022-01-10T17:04:15.749Z"
   },
   {
    "duration": 34,
    "start_time": "2022-01-10T17:04:15.754Z"
   },
   {
    "duration": 31,
    "start_time": "2022-01-10T17:04:15.758Z"
   },
   {
    "duration": 718,
    "start_time": "2022-01-10T17:04:37.255Z"
   },
   {
    "duration": 65,
    "start_time": "2022-01-10T17:04:37.975Z"
   },
   {
    "duration": 36,
    "start_time": "2022-01-10T17:04:38.043Z"
   },
   {
    "duration": 41,
    "start_time": "2022-01-10T17:04:38.082Z"
   },
   {
    "duration": 15,
    "start_time": "2022-01-10T17:04:38.126Z"
   },
   {
    "duration": 5,
    "start_time": "2022-01-10T17:04:38.143Z"
   },
   {
    "duration": 19,
    "start_time": "2022-01-10T17:04:38.151Z"
   },
   {
    "duration": 10,
    "start_time": "2022-01-10T17:04:38.174Z"
   },
   {
    "duration": 42,
    "start_time": "2022-01-10T17:04:38.187Z"
   },
   {
    "duration": 5,
    "start_time": "2022-01-10T17:04:38.231Z"
   },
   {
    "duration": 5,
    "start_time": "2022-01-10T17:04:38.238Z"
   },
   {
    "duration": 19,
    "start_time": "2022-01-10T17:04:38.246Z"
   },
   {
    "duration": 10,
    "start_time": "2022-01-10T17:04:38.267Z"
   },
   {
    "duration": 5,
    "start_time": "2022-01-10T17:04:38.324Z"
   },
   {
    "duration": 16,
    "start_time": "2022-01-10T17:04:38.331Z"
   },
   {
    "duration": 23,
    "start_time": "2022-01-10T17:04:38.349Z"
   },
   {
    "duration": 50,
    "start_time": "2022-01-10T17:04:38.374Z"
   },
   {
    "duration": 26,
    "start_time": "2022-01-10T17:04:38.426Z"
   },
   {
    "duration": 22,
    "start_time": "2022-01-10T17:04:38.454Z"
   },
   {
    "duration": 5345,
    "start_time": "2022-01-10T17:04:38.478Z"
   },
   {
    "duration": 37,
    "start_time": "2022-01-10T17:04:43.826Z"
   },
   {
    "duration": 574,
    "start_time": "2022-01-10T17:04:43.866Z"
   },
   {
    "duration": 7,
    "start_time": "2022-01-10T17:04:44.445Z"
   },
   {
    "duration": 12,
    "start_time": "2022-01-10T17:04:44.455Z"
   },
   {
    "duration": 7,
    "start_time": "2022-01-10T17:04:44.470Z"
   },
   {
    "duration": 52,
    "start_time": "2022-01-10T17:04:44.480Z"
   },
   {
    "duration": 8,
    "start_time": "2022-01-10T17:04:44.534Z"
   },
   {
    "duration": 20,
    "start_time": "2022-01-10T17:04:44.545Z"
   },
   {
    "duration": 4445,
    "start_time": "2022-01-10T17:04:44.568Z"
   },
   {
    "duration": 62,
    "start_time": "2022-01-10T17:04:48.953Z"
   },
   {
    "duration": 57,
    "start_time": "2022-01-10T17:04:48.959Z"
   },
   {
    "duration": 56,
    "start_time": "2022-01-10T17:04:48.962Z"
   },
   {
    "duration": 54,
    "start_time": "2022-01-10T17:04:48.965Z"
   },
   {
    "duration": 52,
    "start_time": "2022-01-10T17:04:48.968Z"
   },
   {
    "duration": 51,
    "start_time": "2022-01-10T17:04:48.970Z"
   },
   {
    "duration": 51,
    "start_time": "2022-01-10T17:04:48.972Z"
   },
   {
    "duration": 49,
    "start_time": "2022-01-10T17:04:48.975Z"
   },
   {
    "duration": 47,
    "start_time": "2022-01-10T17:04:48.978Z"
   },
   {
    "duration": 3,
    "start_time": "2022-01-10T17:04:54.387Z"
   },
   {
    "duration": 70,
    "start_time": "2022-01-10T17:04:54.394Z"
   },
   {
    "duration": 62,
    "start_time": "2022-01-10T17:04:54.467Z"
   },
   {
    "duration": 18,
    "start_time": "2022-01-10T17:04:54.532Z"
   },
   {
    "duration": 14,
    "start_time": "2022-01-10T17:04:54.552Z"
   },
   {
    "duration": 54,
    "start_time": "2022-01-10T17:04:54.569Z"
   },
   {
    "duration": 10,
    "start_time": "2022-01-10T17:04:54.627Z"
   },
   {
    "duration": 12,
    "start_time": "2022-01-10T17:04:54.639Z"
   },
   {
    "duration": 14,
    "start_time": "2022-01-10T17:04:54.654Z"
   },
   {
    "duration": 5,
    "start_time": "2022-01-10T17:04:54.670Z"
   },
   {
    "duration": 45,
    "start_time": "2022-01-10T17:04:54.678Z"
   },
   {
    "duration": 22,
    "start_time": "2022-01-10T17:04:54.725Z"
   },
   {
    "duration": 6,
    "start_time": "2022-01-10T17:04:54.750Z"
   },
   {
    "duration": 8,
    "start_time": "2022-01-10T17:04:54.758Z"
   },
   {
    "duration": 18,
    "start_time": "2022-01-10T17:04:54.768Z"
   },
   {
    "duration": 55,
    "start_time": "2022-01-10T17:04:54.789Z"
   },
   {
    "duration": 27,
    "start_time": "2022-01-10T17:04:54.847Z"
   },
   {
    "duration": 59,
    "start_time": "2022-01-10T17:04:54.877Z"
   },
   {
    "duration": 24,
    "start_time": "2022-01-10T17:04:54.943Z"
   },
   {
    "duration": 5280,
    "start_time": "2022-01-10T17:04:54.970Z"
   },
   {
    "duration": 37,
    "start_time": "2022-01-10T17:05:00.253Z"
   },
   {
    "duration": 518,
    "start_time": "2022-01-10T17:05:00.292Z"
   },
   {
    "duration": 10,
    "start_time": "2022-01-10T17:05:00.813Z"
   },
   {
    "duration": 23,
    "start_time": "2022-01-10T17:05:00.826Z"
   },
   {
    "duration": 27,
    "start_time": "2022-01-10T17:05:00.851Z"
   },
   {
    "duration": 52,
    "start_time": "2022-01-10T17:05:00.881Z"
   },
   {
    "duration": 40,
    "start_time": "2022-01-10T17:05:00.936Z"
   },
   {
    "duration": 23,
    "start_time": "2022-01-10T17:05:00.978Z"
   },
   {
    "duration": 4535,
    "start_time": "2022-01-10T17:05:01.003Z"
   },
   {
    "duration": 43,
    "start_time": "2022-01-10T17:05:05.498Z"
   },
   {
    "duration": 33,
    "start_time": "2022-01-10T17:05:05.509Z"
   },
   {
    "duration": 29,
    "start_time": "2022-01-10T17:05:05.515Z"
   },
   {
    "duration": 27,
    "start_time": "2022-01-10T17:05:05.518Z"
   },
   {
    "duration": 24,
    "start_time": "2022-01-10T17:05:05.523Z"
   },
   {
    "duration": 23,
    "start_time": "2022-01-10T17:05:05.525Z"
   },
   {
    "duration": 19,
    "start_time": "2022-01-10T17:05:05.531Z"
   },
   {
    "duration": 16,
    "start_time": "2022-01-10T17:05:05.535Z"
   },
   {
    "duration": 12,
    "start_time": "2022-01-10T17:05:05.541Z"
   },
   {
    "duration": 774,
    "start_time": "2022-01-10T17:05:14.725Z"
   },
   {
    "duration": 64,
    "start_time": "2022-01-10T17:05:15.502Z"
   },
   {
    "duration": 51,
    "start_time": "2022-01-10T17:05:15.573Z"
   },
   {
    "duration": 16,
    "start_time": "2022-01-10T17:05:15.627Z"
   },
   {
    "duration": 12,
    "start_time": "2022-01-10T17:05:15.646Z"
   },
   {
    "duration": 4,
    "start_time": "2022-01-10T17:05:15.661Z"
   },
   {
    "duration": 10,
    "start_time": "2022-01-10T17:05:15.668Z"
   },
   {
    "duration": 12,
    "start_time": "2022-01-10T17:05:15.723Z"
   },
   {
    "duration": 17,
    "start_time": "2022-01-10T17:05:15.738Z"
   },
   {
    "duration": 14,
    "start_time": "2022-01-10T17:05:15.757Z"
   },
   {
    "duration": 9,
    "start_time": "2022-01-10T17:05:15.774Z"
   },
   {
    "duration": 46,
    "start_time": "2022-01-10T17:05:15.786Z"
   },
   {
    "duration": 10,
    "start_time": "2022-01-10T17:05:15.835Z"
   },
   {
    "duration": 5,
    "start_time": "2022-01-10T17:05:15.847Z"
   },
   {
    "duration": 17,
    "start_time": "2022-01-10T17:05:15.854Z"
   },
   {
    "duration": 21,
    "start_time": "2022-01-10T17:05:15.873Z"
   },
   {
    "duration": 50,
    "start_time": "2022-01-10T17:05:15.896Z"
   },
   {
    "duration": 24,
    "start_time": "2022-01-10T17:05:15.949Z"
   },
   {
    "duration": 50,
    "start_time": "2022-01-10T17:05:15.975Z"
   },
   {
    "duration": 4782,
    "start_time": "2022-01-10T17:05:16.027Z"
   },
   {
    "duration": 43,
    "start_time": "2022-01-10T17:05:20.812Z"
   },
   {
    "duration": 533,
    "start_time": "2022-01-10T17:05:20.858Z"
   },
   {
    "duration": 11,
    "start_time": "2022-01-10T17:05:21.395Z"
   },
   {
    "duration": 9,
    "start_time": "2022-01-10T17:05:21.424Z"
   },
   {
    "duration": 7,
    "start_time": "2022-01-10T17:05:21.435Z"
   },
   {
    "duration": 21,
    "start_time": "2022-01-10T17:05:21.447Z"
   },
   {
    "duration": 19,
    "start_time": "2022-01-10T17:05:21.471Z"
   },
   {
    "duration": 20,
    "start_time": "2022-01-10T17:05:21.524Z"
   },
   {
    "duration": 4204,
    "start_time": "2022-01-10T17:05:21.547Z"
   },
   {
    "duration": 21,
    "start_time": "2022-01-10T17:05:25.732Z"
   },
   {
    "duration": 19,
    "start_time": "2022-01-10T17:05:25.736Z"
   },
   {
    "duration": 17,
    "start_time": "2022-01-10T17:05:25.740Z"
   },
   {
    "duration": 16,
    "start_time": "2022-01-10T17:05:25.742Z"
   },
   {
    "duration": 14,
    "start_time": "2022-01-10T17:05:25.746Z"
   },
   {
    "duration": -1,
    "start_time": "2022-01-10T17:05:25.762Z"
   },
   {
    "duration": -17,
    "start_time": "2022-01-10T17:05:25.780Z"
   },
   {
    "duration": -21,
    "start_time": "2022-01-10T17:05:25.787Z"
   },
   {
    "duration": -21,
    "start_time": "2022-01-10T17:05:25.789Z"
   },
   {
    "duration": 735,
    "start_time": "2022-01-10T17:05:39.945Z"
   },
   {
    "duration": 68,
    "start_time": "2022-01-10T17:05:40.683Z"
   },
   {
    "duration": 35,
    "start_time": "2022-01-10T17:05:40.754Z"
   },
   {
    "duration": 39,
    "start_time": "2022-01-10T17:05:40.792Z"
   },
   {
    "duration": 17,
    "start_time": "2022-01-10T17:05:40.833Z"
   },
   {
    "duration": 4,
    "start_time": "2022-01-10T17:05:40.852Z"
   },
   {
    "duration": 21,
    "start_time": "2022-01-10T17:05:40.859Z"
   },
   {
    "duration": 18,
    "start_time": "2022-01-10T17:05:40.883Z"
   },
   {
    "duration": 13,
    "start_time": "2022-01-10T17:05:40.924Z"
   },
   {
    "duration": 14,
    "start_time": "2022-01-10T17:05:40.941Z"
   },
   {
    "duration": 11,
    "start_time": "2022-01-10T17:05:40.957Z"
   },
   {
    "duration": 22,
    "start_time": "2022-01-10T17:05:40.971Z"
   },
   {
    "duration": 27,
    "start_time": "2022-01-10T17:05:40.996Z"
   },
   {
    "duration": 6,
    "start_time": "2022-01-10T17:05:41.026Z"
   },
   {
    "duration": 25,
    "start_time": "2022-01-10T17:05:41.035Z"
   },
   {
    "duration": 34,
    "start_time": "2022-01-10T17:05:41.062Z"
   },
   {
    "duration": 43,
    "start_time": "2022-01-10T17:05:41.099Z"
   },
   {
    "duration": 26,
    "start_time": "2022-01-10T17:05:41.145Z"
   },
   {
    "duration": 23,
    "start_time": "2022-01-10T17:05:41.173Z"
   },
   {
    "duration": 4651,
    "start_time": "2022-01-10T17:05:41.222Z"
   },
   {
    "duration": 48,
    "start_time": "2022-01-10T17:05:45.876Z"
   },
   {
    "duration": 536,
    "start_time": "2022-01-10T17:05:45.926Z"
   },
   {
    "duration": 9,
    "start_time": "2022-01-10T17:05:46.464Z"
   },
   {
    "duration": 9,
    "start_time": "2022-01-10T17:05:46.476Z"
   },
   {
    "duration": 35,
    "start_time": "2022-01-10T17:05:46.488Z"
   },
   {
    "duration": 21,
    "start_time": "2022-01-10T17:05:46.525Z"
   },
   {
    "duration": 6,
    "start_time": "2022-01-10T17:05:46.551Z"
   },
   {
    "duration": 13,
    "start_time": "2022-01-10T17:05:46.560Z"
   },
   {
    "duration": 5655,
    "start_time": "2022-01-10T17:05:46.576Z"
   },
   {
    "duration": 35,
    "start_time": "2022-01-10T17:05:52.198Z"
   },
   {
    "duration": 20,
    "start_time": "2022-01-10T17:05:52.215Z"
   },
   {
    "duration": 16,
    "start_time": "2022-01-10T17:05:52.221Z"
   },
   {
    "duration": 14,
    "start_time": "2022-01-10T17:05:52.224Z"
   },
   {
    "duration": 13,
    "start_time": "2022-01-10T17:05:52.226Z"
   },
   {
    "duration": 13,
    "start_time": "2022-01-10T17:05:52.228Z"
   },
   {
    "duration": 11,
    "start_time": "2022-01-10T17:05:52.231Z"
   },
   {
    "duration": 5,
    "start_time": "2022-01-10T17:05:52.239Z"
   },
   {
    "duration": -6,
    "start_time": "2022-01-10T17:05:52.251Z"
   },
   {
    "duration": 778,
    "start_time": "2022-01-10T17:06:57.980Z"
   },
   {
    "duration": 67,
    "start_time": "2022-01-10T17:06:58.761Z"
   },
   {
    "duration": 33,
    "start_time": "2022-01-10T17:06:58.831Z"
   },
   {
    "duration": 14,
    "start_time": "2022-01-10T17:06:58.867Z"
   },
   {
    "duration": 11,
    "start_time": "2022-01-10T17:06:58.884Z"
   },
   {
    "duration": 6,
    "start_time": "2022-01-10T17:06:58.924Z"
   },
   {
    "duration": 12,
    "start_time": "2022-01-10T17:06:58.933Z"
   },
   {
    "duration": 9,
    "start_time": "2022-01-10T17:06:58.951Z"
   },
   {
    "duration": 12,
    "start_time": "2022-01-10T17:06:58.962Z"
   },
   {
    "duration": 47,
    "start_time": "2022-01-10T17:06:58.976Z"
   },
   {
    "duration": 7,
    "start_time": "2022-01-10T17:06:59.025Z"
   },
   {
    "duration": 16,
    "start_time": "2022-01-10T17:06:59.034Z"
   },
   {
    "duration": 10,
    "start_time": "2022-01-10T17:06:59.053Z"
   },
   {
    "duration": 5,
    "start_time": "2022-01-10T17:06:59.065Z"
   },
   {
    "duration": 51,
    "start_time": "2022-01-10T17:06:59.072Z"
   },
   {
    "duration": 20,
    "start_time": "2022-01-10T17:06:59.126Z"
   },
   {
    "duration": 30,
    "start_time": "2022-01-10T17:06:59.150Z"
   },
   {
    "duration": 50,
    "start_time": "2022-01-10T17:06:59.182Z"
   },
   {
    "duration": 22,
    "start_time": "2022-01-10T17:06:59.234Z"
   },
   {
    "duration": 5000,
    "start_time": "2022-01-10T17:06:59.259Z"
   },
   {
    "duration": 39,
    "start_time": "2022-01-10T17:07:04.262Z"
   },
   {
    "duration": 534,
    "start_time": "2022-01-10T17:07:04.324Z"
   },
   {
    "duration": 7,
    "start_time": "2022-01-10T17:07:04.864Z"
   },
   {
    "duration": 10,
    "start_time": "2022-01-10T17:07:04.873Z"
   },
   {
    "duration": 5,
    "start_time": "2022-01-10T17:07:04.885Z"
   },
   {
    "duration": 50,
    "start_time": "2022-01-10T17:07:04.892Z"
   },
   {
    "duration": 7,
    "start_time": "2022-01-10T17:07:04.945Z"
   },
   {
    "duration": 14,
    "start_time": "2022-01-10T17:07:04.955Z"
   },
   {
    "duration": 4182,
    "start_time": "2022-01-10T17:07:04.971Z"
   },
   {
    "duration": 62,
    "start_time": "2022-01-10T17:07:09.093Z"
   },
   {
    "duration": 59,
    "start_time": "2022-01-10T17:07:09.098Z"
   },
   {
    "duration": 54,
    "start_time": "2022-01-10T17:07:09.104Z"
   },
   {
    "duration": 51,
    "start_time": "2022-01-10T17:07:09.109Z"
   },
   {
    "duration": 49,
    "start_time": "2022-01-10T17:07:09.112Z"
   },
   {
    "duration": 48,
    "start_time": "2022-01-10T17:07:09.115Z"
   },
   {
    "duration": 46,
    "start_time": "2022-01-10T17:07:09.118Z"
   },
   {
    "duration": 41,
    "start_time": "2022-01-10T17:07:09.124Z"
   },
   {
    "duration": 38,
    "start_time": "2022-01-10T17:07:09.129Z"
   },
   {
    "duration": 819,
    "start_time": "2022-01-10T17:07:21.418Z"
   },
   {
    "duration": 64,
    "start_time": "2022-01-10T17:07:22.241Z"
   },
   {
    "duration": 39,
    "start_time": "2022-01-10T17:07:22.308Z"
   },
   {
    "duration": 14,
    "start_time": "2022-01-10T17:07:22.350Z"
   },
   {
    "duration": 11,
    "start_time": "2022-01-10T17:07:22.366Z"
   },
   {
    "duration": 10,
    "start_time": "2022-01-10T17:07:22.380Z"
   },
   {
    "duration": 38,
    "start_time": "2022-01-10T17:07:22.392Z"
   },
   {
    "duration": 9,
    "start_time": "2022-01-10T17:07:22.434Z"
   },
   {
    "duration": 17,
    "start_time": "2022-01-10T17:07:22.446Z"
   },
   {
    "duration": 10,
    "start_time": "2022-01-10T17:07:22.465Z"
   },
   {
    "duration": 10,
    "start_time": "2022-01-10T17:07:22.477Z"
   },
   {
    "duration": 40,
    "start_time": "2022-01-10T17:07:22.489Z"
   },
   {
    "duration": 12,
    "start_time": "2022-01-10T17:07:22.532Z"
   },
   {
    "duration": 19,
    "start_time": "2022-01-10T17:07:22.546Z"
   },
   {
    "duration": 22,
    "start_time": "2022-01-10T17:07:22.567Z"
   },
   {
    "duration": 33,
    "start_time": "2022-01-10T17:07:22.591Z"
   },
   {
    "duration": 24,
    "start_time": "2022-01-10T17:07:22.627Z"
   },
   {
    "duration": 26,
    "start_time": "2022-01-10T17:07:22.654Z"
   },
   {
    "duration": 51,
    "start_time": "2022-01-10T17:07:22.682Z"
   },
   {
    "duration": 4774,
    "start_time": "2022-01-10T17:07:22.735Z"
   },
   {
    "duration": 43,
    "start_time": "2022-01-10T17:07:27.512Z"
   },
   {
    "duration": 551,
    "start_time": "2022-01-10T17:07:27.557Z"
   },
   {
    "duration": 12,
    "start_time": "2022-01-10T17:07:28.113Z"
   },
   {
    "duration": 10,
    "start_time": "2022-01-10T17:07:28.129Z"
   },
   {
    "duration": 5,
    "start_time": "2022-01-10T17:07:28.142Z"
   },
   {
    "duration": 27,
    "start_time": "2022-01-10T17:07:28.150Z"
   },
   {
    "duration": 7,
    "start_time": "2022-01-10T17:07:28.179Z"
   },
   {
    "duration": 16,
    "start_time": "2022-01-10T17:07:28.224Z"
   },
   {
    "duration": 4171,
    "start_time": "2022-01-10T17:07:28.243Z"
   },
   {
    "duration": 56,
    "start_time": "2022-01-10T17:07:32.361Z"
   },
   {
    "duration": 43,
    "start_time": "2022-01-10T17:07:32.375Z"
   },
   {
    "duration": 40,
    "start_time": "2022-01-10T17:07:32.380Z"
   },
   {
    "duration": 39,
    "start_time": "2022-01-10T17:07:32.383Z"
   },
   {
    "duration": 36,
    "start_time": "2022-01-10T17:07:32.388Z"
   },
   {
    "duration": 32,
    "start_time": "2022-01-10T17:07:32.393Z"
   },
   {
    "duration": 28,
    "start_time": "2022-01-10T17:07:32.398Z"
   },
   {
    "duration": 28,
    "start_time": "2022-01-10T17:07:32.400Z"
   },
   {
    "duration": 27,
    "start_time": "2022-01-10T17:07:32.403Z"
   },
   {
    "duration": 745,
    "start_time": "2022-01-10T17:07:39.636Z"
   },
   {
    "duration": 58,
    "start_time": "2022-01-10T17:07:40.384Z"
   },
   {
    "duration": 34,
    "start_time": "2022-01-10T17:07:40.445Z"
   },
   {
    "duration": 14,
    "start_time": "2022-01-10T17:07:40.482Z"
   },
   {
    "duration": 12,
    "start_time": "2022-01-10T17:07:40.523Z"
   },
   {
    "duration": 4,
    "start_time": "2022-01-10T17:07:40.538Z"
   },
   {
    "duration": 11,
    "start_time": "2022-01-10T17:07:40.545Z"
   },
   {
    "duration": 11,
    "start_time": "2022-01-10T17:07:40.558Z"
   },
   {
    "duration": 53,
    "start_time": "2022-01-10T17:07:40.574Z"
   },
   {
    "duration": 4,
    "start_time": "2022-01-10T17:07:40.631Z"
   },
   {
    "duration": 7,
    "start_time": "2022-01-10T17:07:40.638Z"
   },
   {
    "duration": 16,
    "start_time": "2022-01-10T17:07:40.648Z"
   },
   {
    "duration": 10,
    "start_time": "2022-01-10T17:07:40.666Z"
   },
   {
    "duration": 8,
    "start_time": "2022-01-10T17:07:40.678Z"
   },
   {
    "duration": 48,
    "start_time": "2022-01-10T17:07:40.688Z"
   },
   {
    "duration": 20,
    "start_time": "2022-01-10T17:07:40.738Z"
   },
   {
    "duration": 25,
    "start_time": "2022-01-10T17:07:40.760Z"
   },
   {
    "duration": 58,
    "start_time": "2022-01-10T17:07:40.788Z"
   },
   {
    "duration": 21,
    "start_time": "2022-01-10T17:07:40.848Z"
   },
   {
    "duration": 4841,
    "start_time": "2022-01-10T17:07:40.871Z"
   },
   {
    "duration": 42,
    "start_time": "2022-01-10T17:07:45.715Z"
   },
   {
    "duration": 583,
    "start_time": "2022-01-10T17:07:45.760Z"
   },
   {
    "duration": 9,
    "start_time": "2022-01-10T17:07:46.346Z"
   },
   {
    "duration": 10,
    "start_time": "2022-01-10T17:07:46.358Z"
   },
   {
    "duration": 5,
    "start_time": "2022-01-10T17:07:46.371Z"
   },
   {
    "duration": 56,
    "start_time": "2022-01-10T17:07:46.379Z"
   },
   {
    "duration": 7,
    "start_time": "2022-01-10T17:07:46.440Z"
   },
   {
    "duration": 23,
    "start_time": "2022-01-10T17:07:46.450Z"
   },
   {
    "duration": 5344,
    "start_time": "2022-01-10T17:07:46.476Z"
   },
   {
    "duration": 53,
    "start_time": "2022-01-10T17:07:51.770Z"
   },
   {
    "duration": 50,
    "start_time": "2022-01-10T17:07:51.774Z"
   },
   {
    "duration": 46,
    "start_time": "2022-01-10T17:07:51.779Z"
   },
   {
    "duration": 42,
    "start_time": "2022-01-10T17:07:51.785Z"
   },
   {
    "duration": 39,
    "start_time": "2022-01-10T17:07:51.789Z"
   },
   {
    "duration": 37,
    "start_time": "2022-01-10T17:07:51.793Z"
   },
   {
    "duration": 35,
    "start_time": "2022-01-10T17:07:51.796Z"
   },
   {
    "duration": 32,
    "start_time": "2022-01-10T17:07:51.800Z"
   },
   {
    "duration": 28,
    "start_time": "2022-01-10T17:07:51.805Z"
   },
   {
    "duration": 744,
    "start_time": "2022-01-10T17:08:11.399Z"
   },
   {
    "duration": 64,
    "start_time": "2022-01-10T17:08:12.146Z"
   },
   {
    "duration": 38,
    "start_time": "2022-01-10T17:08:14.603Z"
   },
   {
    "duration": 15,
    "start_time": "2022-01-10T17:08:18.865Z"
   },
   {
    "duration": 13,
    "start_time": "2022-01-10T17:08:22.247Z"
   },
   {
    "duration": 5,
    "start_time": "2022-01-10T17:08:25.148Z"
   },
   {
    "duration": 11,
    "start_time": "2022-01-10T17:08:25.631Z"
   },
   {
    "duration": 12,
    "start_time": "2022-01-10T17:08:26.554Z"
   },
   {
    "duration": 13,
    "start_time": "2022-01-10T17:08:28.002Z"
   },
   {
    "duration": 6,
    "start_time": "2022-01-10T17:08:31.977Z"
   },
   {
    "duration": 5,
    "start_time": "2022-01-10T17:08:32.463Z"
   },
   {
    "duration": 15,
    "start_time": "2022-01-10T17:08:33.568Z"
   },
   {
    "duration": 11,
    "start_time": "2022-01-10T17:08:36.952Z"
   },
   {
    "duration": 5,
    "start_time": "2022-01-10T17:08:38.455Z"
   },
   {
    "duration": 16,
    "start_time": "2022-01-10T17:08:40.858Z"
   },
   {
    "duration": 20,
    "start_time": "2022-01-10T17:08:43.807Z"
   },
   {
    "duration": 26,
    "start_time": "2022-01-10T17:08:47.528Z"
   },
   {
    "duration": 27,
    "start_time": "2022-01-10T17:08:48.768Z"
   },
   {
    "duration": 24,
    "start_time": "2022-01-10T17:08:49.951Z"
   },
   {
    "duration": 5919,
    "start_time": "2022-01-10T17:08:53.511Z"
   },
   {
    "duration": 38,
    "start_time": "2022-01-10T17:08:59.434Z"
   },
   {
    "duration": 538,
    "start_time": "2022-01-10T17:08:59.476Z"
   },
   {
    "duration": 7,
    "start_time": "2022-01-10T17:09:01.743Z"
   },
   {
    "duration": 8,
    "start_time": "2022-01-10T17:09:08.753Z"
   },
   {
    "duration": 49,
    "start_time": "2022-01-10T17:09:17.249Z"
   },
   {
    "duration": 12,
    "start_time": "2022-01-10T17:09:17.808Z"
   },
   {
    "duration": 961,
    "start_time": "2022-01-10T17:09:20.361Z"
   },
   {
    "duration": 32,
    "start_time": "2022-01-10T17:09:51.103Z"
   },
   {
    "duration": 33,
    "start_time": "2022-01-10T17:09:58.284Z"
   },
   {
    "duration": 31,
    "start_time": "2022-01-10T17:10:38.686Z"
   },
   {
    "duration": 32,
    "start_time": "2022-01-10T17:13:11.357Z"
   },
   {
    "duration": 33,
    "start_time": "2022-01-10T17:13:18.408Z"
   },
   {
    "duration": 36,
    "start_time": "2022-01-10T17:13:21.745Z"
   },
   {
    "duration": 32,
    "start_time": "2022-01-10T17:13:27.517Z"
   },
   {
    "duration": 26,
    "start_time": "2022-01-10T17:14:08.010Z"
   },
   {
    "duration": 28,
    "start_time": "2022-01-10T17:15:40.014Z"
   },
   {
    "duration": 34,
    "start_time": "2022-01-10T17:15:55.803Z"
   },
   {
    "duration": 9,
    "start_time": "2022-01-10T17:15:56.533Z"
   },
   {
    "duration": 28,
    "start_time": "2022-01-10T17:16:12.245Z"
   },
   {
    "duration": 8,
    "start_time": "2022-01-10T17:16:13.474Z"
   },
   {
    "duration": 424,
    "start_time": "2022-01-10T17:16:50.956Z"
   },
   {
    "duration": 8,
    "start_time": "2022-01-10T17:16:57.283Z"
   },
   {
    "duration": 423,
    "start_time": "2022-01-10T17:21:49.614Z"
   },
   {
    "duration": 9,
    "start_time": "2022-01-10T17:21:57.149Z"
   },
   {
    "duration": 337,
    "start_time": "2022-01-10T17:24:01.245Z"
   },
   {
    "duration": 325,
    "start_time": "2022-01-10T17:24:27.891Z"
   },
   {
    "duration": 328,
    "start_time": "2022-01-10T17:24:43.549Z"
   },
   {
    "duration": 145,
    "start_time": "2022-01-10T17:48:33.064Z"
   },
   {
    "duration": 8,
    "start_time": "2022-01-10T18:09:54.076Z"
   },
   {
    "duration": 44,
    "start_time": "2022-01-10T18:09:56.108Z"
   },
   {
    "duration": 13,
    "start_time": "2022-01-10T18:09:56.881Z"
   },
   {
    "duration": 23,
    "start_time": "2022-01-10T18:10:00.220Z"
   },
   {
    "duration": 11,
    "start_time": "2022-01-10T18:10:10.947Z"
   },
   {
    "duration": 6,
    "start_time": "2022-01-10T18:10:14.275Z"
   },
   {
    "duration": 23,
    "start_time": "2022-01-10T18:10:14.820Z"
   },
   {
    "duration": 9,
    "start_time": "2022-01-10T18:10:16.770Z"
   },
   {
    "duration": 21,
    "start_time": "2022-01-10T18:10:18.930Z"
   },
   {
    "duration": 5613,
    "start_time": "2022-01-10T18:10:43.300Z"
   },
   {
    "duration": 688,
    "start_time": "2022-01-10T18:11:55.148Z"
   },
   {
    "duration": 319,
    "start_time": "2022-01-10T18:12:04.302Z"
   },
   {
    "duration": 437,
    "start_time": "2022-01-10T18:12:28.918Z"
   },
   {
    "duration": 4,
    "start_time": "2022-01-10T18:12:44.737Z"
   },
   {
    "duration": 101,
    "start_time": "2022-01-10T18:12:44.745Z"
   },
   {
    "duration": 28,
    "start_time": "2022-01-10T18:12:44.849Z"
   },
   {
    "duration": 53,
    "start_time": "2022-01-10T18:12:44.879Z"
   },
   {
    "duration": 15,
    "start_time": "2022-01-10T18:12:44.936Z"
   },
   {
    "duration": 6,
    "start_time": "2022-01-10T18:12:44.953Z"
   },
   {
    "duration": 20,
    "start_time": "2022-01-10T18:12:44.963Z"
   },
   {
    "duration": 50,
    "start_time": "2022-01-10T18:12:44.987Z"
   },
   {
    "duration": 18,
    "start_time": "2022-01-10T18:12:45.041Z"
   },
   {
    "duration": 5,
    "start_time": "2022-01-10T18:12:45.062Z"
   },
   {
    "duration": 6,
    "start_time": "2022-01-10T18:12:45.070Z"
   },
   {
    "duration": 55,
    "start_time": "2022-01-10T18:12:45.079Z"
   },
   {
    "duration": 5,
    "start_time": "2022-01-10T18:12:45.137Z"
   },
   {
    "duration": 10,
    "start_time": "2022-01-10T18:12:45.145Z"
   },
   {
    "duration": 24,
    "start_time": "2022-01-10T18:12:45.158Z"
   },
   {
    "duration": 48,
    "start_time": "2022-01-10T18:12:45.185Z"
   },
   {
    "duration": 34,
    "start_time": "2022-01-10T18:12:45.236Z"
   },
   {
    "duration": 29,
    "start_time": "2022-01-10T18:12:45.273Z"
   },
   {
    "duration": 24,
    "start_time": "2022-01-10T18:12:45.326Z"
   },
   {
    "duration": 5437,
    "start_time": "2022-01-10T18:12:45.353Z"
   },
   {
    "duration": 49,
    "start_time": "2022-01-10T18:12:50.793Z"
   },
   {
    "duration": 656,
    "start_time": "2022-01-10T18:12:50.845Z"
   },
   {
    "duration": 9,
    "start_time": "2022-01-10T18:12:51.504Z"
   },
   {
    "duration": 11,
    "start_time": "2022-01-10T18:12:51.524Z"
   },
   {
    "duration": 7,
    "start_time": "2022-01-10T18:12:51.537Z"
   },
   {
    "duration": 23,
    "start_time": "2022-01-10T18:12:51.546Z"
   },
   {
    "duration": 53,
    "start_time": "2022-01-10T18:12:51.572Z"
   },
   {
    "duration": 12,
    "start_time": "2022-01-10T18:12:51.627Z"
   },
   {
    "duration": 12,
    "start_time": "2022-01-10T18:12:51.641Z"
   },
   {
    "duration": 98,
    "start_time": "2022-01-10T18:12:51.656Z"
   },
   {
    "duration": 13,
    "start_time": "2022-01-10T18:12:51.757Z"
   },
   {
    "duration": 52,
    "start_time": "2022-01-10T18:12:51.773Z"
   },
   {
    "duration": 8,
    "start_time": "2022-01-10T18:12:51.827Z"
   },
   {
    "duration": 5,
    "start_time": "2022-01-10T18:12:51.838Z"
   },
   {
    "duration": 28,
    "start_time": "2022-01-10T18:12:51.845Z"
   },
   {
    "duration": 49,
    "start_time": "2022-01-10T18:12:51.876Z"
   },
   {
    "duration": 9,
    "start_time": "2022-01-10T18:12:51.928Z"
   },
   {
    "duration": 39,
    "start_time": "2022-01-10T18:12:51.940Z"
   },
   {
    "duration": 43,
    "start_time": "2022-01-10T18:12:51.982Z"
   },
   {
    "duration": 48,
    "start_time": "2022-01-10T18:28:14.178Z"
   },
   {
    "duration": 4,
    "start_time": "2022-01-10T18:32:34.328Z"
   },
   {
    "duration": 88,
    "start_time": "2022-01-10T18:32:34.335Z"
   },
   {
    "duration": 26,
    "start_time": "2022-01-10T18:32:34.427Z"
   },
   {
    "duration": 16,
    "start_time": "2022-01-10T18:32:34.456Z"
   },
   {
    "duration": 78,
    "start_time": "2022-01-10T18:32:34.474Z"
   },
   {
    "duration": 12,
    "start_time": "2022-01-10T18:32:34.554Z"
   },
   {
    "duration": 5,
    "start_time": "2022-01-10T18:32:34.568Z"
   },
   {
    "duration": 11,
    "start_time": "2022-01-10T18:32:34.575Z"
   },
   {
    "duration": 9,
    "start_time": "2022-01-10T18:32:34.622Z"
   },
   {
    "duration": 11,
    "start_time": "2022-01-10T18:32:34.634Z"
   },
   {
    "duration": 4,
    "start_time": "2022-01-10T18:32:34.648Z"
   },
   {
    "duration": 6,
    "start_time": "2022-01-10T18:32:34.654Z"
   },
   {
    "duration": 15,
    "start_time": "2022-01-10T18:32:34.662Z"
   },
   {
    "duration": 44,
    "start_time": "2022-01-10T18:32:34.679Z"
   },
   {
    "duration": 7,
    "start_time": "2022-01-10T18:32:34.725Z"
   },
   {
    "duration": 16,
    "start_time": "2022-01-10T18:32:34.734Z"
   },
   {
    "duration": 23,
    "start_time": "2022-01-10T18:32:34.753Z"
   },
   {
    "duration": 59,
    "start_time": "2022-01-10T18:32:34.778Z"
   },
   {
    "duration": 25,
    "start_time": "2022-01-10T18:32:34.840Z"
   },
   {
    "duration": 22,
    "start_time": "2022-01-10T18:32:34.868Z"
   },
   {
    "duration": 4889,
    "start_time": "2022-01-10T18:32:34.893Z"
   },
   {
    "duration": 51,
    "start_time": "2022-01-10T18:32:39.784Z"
   },
   {
    "duration": 534,
    "start_time": "2022-01-10T18:32:39.837Z"
   },
   {
    "duration": 7,
    "start_time": "2022-01-10T18:32:40.373Z"
   },
   {
    "duration": 17,
    "start_time": "2022-01-10T18:32:40.382Z"
   },
   {
    "duration": 23,
    "start_time": "2022-01-10T18:32:40.401Z"
   },
   {
    "duration": 32,
    "start_time": "2022-01-10T18:32:40.428Z"
   },
   {
    "duration": 7,
    "start_time": "2022-01-10T18:32:40.463Z"
   },
   {
    "duration": 10,
    "start_time": "2022-01-10T18:32:40.472Z"
   },
   {
    "duration": 6,
    "start_time": "2022-01-10T18:32:40.485Z"
   },
   {
    "duration": 41,
    "start_time": "2022-01-10T18:32:40.524Z"
   },
   {
    "duration": 12,
    "start_time": "2022-01-10T18:32:40.567Z"
   },
   {
    "duration": 55,
    "start_time": "2022-01-10T18:32:40.582Z"
   },
   {
    "duration": 9,
    "start_time": "2022-01-10T18:32:40.639Z"
   },
   {
    "duration": 8,
    "start_time": "2022-01-10T18:32:40.651Z"
   },
   {
    "duration": 21,
    "start_time": "2022-01-10T18:32:40.662Z"
   },
   {
    "duration": 40,
    "start_time": "2022-01-10T18:32:40.685Z"
   },
   {
    "duration": 6,
    "start_time": "2022-01-10T18:32:40.728Z"
   },
   {
    "duration": 34,
    "start_time": "2022-01-10T18:32:40.737Z"
   },
   {
    "duration": 57,
    "start_time": "2022-01-10T18:32:40.773Z"
   },
   {
    "duration": 863,
    "start_time": "2022-01-10T19:17:10.516Z"
   },
   {
    "duration": 63,
    "start_time": "2022-01-10T19:17:11.382Z"
   },
   {
    "duration": 41,
    "start_time": "2022-01-10T19:17:11.449Z"
   },
   {
    "duration": 15,
    "start_time": "2022-01-10T19:17:11.493Z"
   },
   {
    "duration": 80,
    "start_time": "2022-01-10T19:17:11.511Z"
   },
   {
    "duration": 13,
    "start_time": "2022-01-10T19:17:11.594Z"
   },
   {
    "duration": 5,
    "start_time": "2022-01-10T19:17:11.610Z"
   },
   {
    "duration": 41,
    "start_time": "2022-01-10T19:17:11.619Z"
   },
   {
    "duration": 15,
    "start_time": "2022-01-10T19:17:11.666Z"
   },
   {
    "duration": 12,
    "start_time": "2022-01-10T19:17:11.685Z"
   },
   {
    "duration": 4,
    "start_time": "2022-01-10T19:17:11.700Z"
   },
   {
    "duration": 4,
    "start_time": "2022-01-10T19:17:11.707Z"
   },
   {
    "duration": 59,
    "start_time": "2022-01-10T19:17:11.714Z"
   },
   {
    "duration": 14,
    "start_time": "2022-01-10T19:17:11.776Z"
   },
   {
    "duration": 6,
    "start_time": "2022-01-10T19:17:11.793Z"
   },
   {
    "duration": 25,
    "start_time": "2022-01-10T19:17:11.801Z"
   },
   {
    "duration": 52,
    "start_time": "2022-01-10T19:17:11.829Z"
   },
   {
    "duration": 28,
    "start_time": "2022-01-10T19:17:11.883Z"
   },
   {
    "duration": 53,
    "start_time": "2022-01-10T19:17:11.914Z"
   },
   {
    "duration": 27,
    "start_time": "2022-01-10T19:17:11.970Z"
   },
   {
    "duration": 5905,
    "start_time": "2022-01-10T19:17:12.000Z"
   },
   {
    "duration": 36,
    "start_time": "2022-01-10T19:17:17.908Z"
   },
   {
    "duration": 601,
    "start_time": "2022-01-10T19:17:17.946Z"
   },
   {
    "duration": 12,
    "start_time": "2022-01-10T19:17:18.549Z"
   },
   {
    "duration": 13,
    "start_time": "2022-01-10T19:17:18.564Z"
   },
   {
    "duration": 8,
    "start_time": "2022-01-10T19:17:18.580Z"
   },
   {
    "duration": 20,
    "start_time": "2022-01-10T19:17:18.593Z"
   },
   {
    "duration": 48,
    "start_time": "2022-01-10T19:17:18.615Z"
   },
   {
    "duration": 14,
    "start_time": "2022-01-10T19:17:18.666Z"
   },
   {
    "duration": 8,
    "start_time": "2022-01-10T19:17:18.683Z"
   },
   {
    "duration": 100,
    "start_time": "2022-01-10T19:17:18.694Z"
   },
   {
    "duration": 12,
    "start_time": "2022-01-10T19:17:18.797Z"
   },
   {
    "duration": 49,
    "start_time": "2022-01-10T19:17:18.811Z"
   },
   {
    "duration": 1432,
    "start_time": "2022-01-10T19:17:18.863Z"
   },
   {
    "duration": 4,
    "start_time": "2022-01-10T19:17:20.298Z"
   },
   {
    "duration": 24,
    "start_time": "2022-01-10T19:17:20.304Z"
   },
   {
    "duration": 8,
    "start_time": "2022-01-10T19:17:20.331Z"
   },
   {
    "duration": 8,
    "start_time": "2022-01-10T19:17:20.341Z"
   },
   {
    "duration": 48,
    "start_time": "2022-01-10T19:17:20.351Z"
   },
   {
    "duration": 10,
    "start_time": "2022-01-10T19:17:20.401Z"
   },
   {
    "duration": 395,
    "start_time": "2022-08-30T10:52:23.108Z"
   },
   {
    "duration": 123,
    "start_time": "2022-08-30T10:52:23.505Z"
   },
   {
    "duration": 21,
    "start_time": "2022-08-30T10:52:23.630Z"
   },
   {
    "duration": 15,
    "start_time": "2022-08-30T10:52:23.653Z"
   },
   {
    "duration": 31,
    "start_time": "2022-08-30T10:52:23.670Z"
   },
   {
    "duration": 31,
    "start_time": "2022-08-30T10:52:23.703Z"
   },
   {
    "duration": 3,
    "start_time": "2022-08-30T10:52:23.735Z"
   },
   {
    "duration": 7,
    "start_time": "2022-08-30T10:52:23.740Z"
   },
   {
    "duration": 11,
    "start_time": "2022-08-30T10:52:23.748Z"
   },
   {
    "duration": 10,
    "start_time": "2022-08-30T10:52:23.760Z"
   },
   {
    "duration": 3,
    "start_time": "2022-08-30T10:52:23.771Z"
   },
   {
    "duration": 5,
    "start_time": "2022-08-30T10:52:23.775Z"
   },
   {
    "duration": 14,
    "start_time": "2022-08-30T10:52:23.781Z"
   },
   {
    "duration": 4,
    "start_time": "2022-08-30T10:52:23.797Z"
   },
   {
    "duration": 30,
    "start_time": "2022-08-30T10:52:23.802Z"
   },
   {
    "duration": 14,
    "start_time": "2022-08-30T10:52:23.833Z"
   },
   {
    "duration": 13,
    "start_time": "2022-08-30T10:52:23.849Z"
   },
   {
    "duration": 21,
    "start_time": "2022-08-30T10:52:23.864Z"
   },
   {
    "duration": 16,
    "start_time": "2022-08-30T10:52:23.886Z"
   },
   {
    "duration": 29,
    "start_time": "2022-08-30T10:52:23.903Z"
   },
   {
    "duration": 3011,
    "start_time": "2022-08-30T10:52:23.934Z"
   },
   {
    "duration": 471,
    "start_time": "2022-08-30T10:52:26.947Z"
   },
   {
    "duration": 159,
    "start_time": "2022-08-30T10:52:27.420Z"
   },
   {
    "duration": 8,
    "start_time": "2022-08-30T10:52:27.581Z"
   },
   {
    "duration": 10,
    "start_time": "2022-08-30T10:52:27.590Z"
   },
   {
    "duration": 13,
    "start_time": "2022-08-30T10:52:27.602Z"
   },
   {
    "duration": 24,
    "start_time": "2022-08-30T10:52:27.617Z"
   },
   {
    "duration": 9,
    "start_time": "2022-08-30T10:52:27.643Z"
   },
   {
    "duration": 11,
    "start_time": "2022-08-30T10:52:27.653Z"
   },
   {
    "duration": 10,
    "start_time": "2022-08-30T10:52:27.666Z"
   },
   {
    "duration": 33,
    "start_time": "2022-08-30T10:52:27.678Z"
   },
   {
    "duration": 23,
    "start_time": "2022-08-30T10:52:27.713Z"
   },
   {
    "duration": 20,
    "start_time": "2022-08-30T10:52:27.738Z"
   },
   {
    "duration": 372,
    "start_time": "2022-08-30T10:52:27.760Z"
   },
   {
    "duration": 2,
    "start_time": "2022-08-30T10:52:28.134Z"
   },
   {
    "duration": 13,
    "start_time": "2022-08-30T10:52:28.137Z"
   },
   {
    "duration": 5,
    "start_time": "2022-08-30T10:52:28.151Z"
   },
   {
    "duration": 8,
    "start_time": "2022-08-30T10:52:28.157Z"
   },
   {
    "duration": 18,
    "start_time": "2022-08-30T10:52:28.166Z"
   },
   {
    "duration": 6,
    "start_time": "2022-08-30T10:52:28.185Z"
   }
  ],
  "kernelspec": {
   "display_name": "Python 3 (ipykernel)",
   "language": "python",
   "name": "python3"
  },
  "language_info": {
   "codemirror_mode": {
    "name": "ipython",
    "version": 3
   },
   "file_extension": ".py",
   "mimetype": "text/x-python",
   "name": "python",
   "nbconvert_exporter": "python",
   "pygments_lexer": "ipython3",
   "version": "3.9.5"
  },
  "toc": {
   "base_numbering": 1,
   "nav_menu": {},
   "number_sections": true,
   "sideBar": true,
   "skip_h1_title": true,
   "title_cell": "Table of Contents",
   "title_sidebar": "Contents",
   "toc_cell": false,
   "toc_position": {},
   "toc_section_display": true,
   "toc_window_display": false
  }
 },
 "nbformat": 4,
 "nbformat_minor": 2
}
