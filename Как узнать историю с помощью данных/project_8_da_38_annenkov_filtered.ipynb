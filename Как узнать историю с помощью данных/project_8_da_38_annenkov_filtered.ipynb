{
 "cells": [
  {
   "cell_type": "markdown",
   "metadata": {
    "toc": true
   },
   "source": [
    "<h1>Table of Contents<span class=\"tocSkip\"></span></h1>\n",
    "<div class=\"toc\"><ul class=\"toc-item\"><li><span><a href=\"#Описание-проекта\" data-toc-modified-id=\"Описание-проекта-1\"><span class=\"toc-item-num\">1&nbsp;&nbsp;</span>Описание проекта</a></span></li><li><span><a href=\"#Изучение-данных\" data-toc-modified-id=\"Изучение-данных-2\"><span class=\"toc-item-num\">2&nbsp;&nbsp;</span>Изучение данных</a></span></li><li><span><a href=\"#Предобработка-данных\" data-toc-modified-id=\"Предобработка-данных-3\"><span class=\"toc-item-num\">3&nbsp;&nbsp;</span>Предобработка данных</a></span></li><li><span><a href=\"#Анализ-данных\" data-toc-modified-id=\"Анализ-данных-4\"><span class=\"toc-item-num\">4&nbsp;&nbsp;</span>Анализ данных</a></span><ul class=\"toc-item\"><li><span><a href=\"#Исследование-соотношения-видов-объектов-общественного-питания-по-количеству.\" data-toc-modified-id=\"Исследование-соотношения-видов-объектов-общественного-питания-по-количеству.-4.1\"><span class=\"toc-item-num\">4.1&nbsp;&nbsp;</span>Исследование соотношения видов объектов общественного питания по количеству.</a></span></li><li><span><a href=\"#Исследование-соотношения-сетевых-и-несетевых-объектов-по-количеству.\" data-toc-modified-id=\"Исследование-соотношения-сетевых-и-несетевых-объектов-по-количеству.-4.2\"><span class=\"toc-item-num\">4.2&nbsp;&nbsp;</span>Исследование соотношения сетевых и несетевых объектов по количеству.</a></span></li><li><span><a href=\"#Для-какого-вида-объекта-общественного-питания-характерно-сетевое-распространение?\" data-toc-modified-id=\"Для-какого-вида-объекта-общественного-питания-характерно-сетевое-распространение?-4.3\"><span class=\"toc-item-num\">4.3&nbsp;&nbsp;</span>Для какого вида объекта общественного питания характерно сетевое распространение?</a></span></li><li><span><a href=\"#Что-характерно-для-сетевых-заведений:-много-заведений-с-небольшим-числом-посадочных-мест-в-каждом-или-мало-заведений-с-большим-количеством-посадочных-мест?\" data-toc-modified-id=\"Что-характерно-для-сетевых-заведений:-много-заведений-с-небольшим-числом-посадочных-мест-в-каждом-или-мало-заведений-с-большим-количеством-посадочных-мест?-4.4\"><span class=\"toc-item-num\">4.4&nbsp;&nbsp;</span>Что характерно для сетевых заведений: много заведений с небольшим числом посадочных мест в каждом или мало заведений с большим количеством посадочных мест?</a></span></li><li><span><a href=\"#Расчет-среднего-количества-посадочных-мест-для-каждого-вида-объекта-общественного-питания.\" data-toc-modified-id=\"Расчет-среднего-количества-посадочных-мест-для-каждого-вида-объекта-общественного-питания.-4.5\"><span class=\"toc-item-num\">4.5&nbsp;&nbsp;</span>Расчет среднего количества посадочных мест для каждого вида объекта общественного питания.</a></span></li><li><span><a href=\"#Выделение-в-отдельный-столбец-информацию-об-улице-из-столбца-address\" data-toc-modified-id=\"Выделение-в-отдельный-столбец-информацию-об-улице-из-столбца-address-4.6\"><span class=\"toc-item-num\">4.6&nbsp;&nbsp;</span>Выделение в отдельный столбец информацию об улице из столбца <code>address</code></a></span></li><li><span><a href=\"#Построение-графика-топ-10-улиц-по-количеству-объектов-общественного-питания.\" data-toc-modified-id=\"Построение-графика-топ-10-улиц-по-количеству-объектов-общественного-питания.-4.7\"><span class=\"toc-item-num\">4.7&nbsp;&nbsp;</span>Построение графика топ-10 улиц по количеству объектов общественного питания.</a></span></li><li><span><a href=\"#Топ-районов-Москвы-с-улицами,-с-одним-объектом-общественного-питания.\" data-toc-modified-id=\"Топ-районов-Москвы-с-улицами,-с-одним-объектом-общественного-питания.-4.8\"><span class=\"toc-item-num\">4.8&nbsp;&nbsp;</span>Топ районов Москвы с улицами, с одним объектом общественного питания.</a></span></li><li><span><a href=\"#Распределение-количества-посадочных-мест-для-улиц-с-большим-количеством-объектов-общественного-питания.\" data-toc-modified-id=\"Распределение-количества-посадочных-мест-для-улиц-с-большим-количеством-объектов-общественного-питания.-4.9\"><span class=\"toc-item-num\">4.9&nbsp;&nbsp;</span>Распределение количества посадочных мест для улиц с большим количеством объектов общественного питания.</a></span></li></ul></li><li><span><a href=\"#Вывод\" data-toc-modified-id=\"Вывод-5\"><span class=\"toc-item-num\">5&nbsp;&nbsp;</span>Вывод</a></span></li></ul></div>"
   ]
  },
  {
   "cell_type": "markdown",
   "metadata": {},
   "source": [
    "Презентация: <https://disk.yandex.ru/i/nwPqaVkSMr4nQg>"
   ]
  },
  {
   "cell_type": "markdown",
   "metadata": {},
   "source": [
    "## Описание проекта"
   ]
  },
  {
   "cell_type": "markdown",
   "metadata": {},
   "source": [
    "Мы решили открыть небольшое кафе в Москве. Оно оригинальное — гостей должны обслуживать роботы. Проект многообещающий, но дорогой. Вместе с партнёрами мы решились обратиться к инвесторам. Их интересует текущее положение дел на рынке — сможем ли мы снискать популярность на долгое время, когда все зеваки насмотрятся на роботов-официантов?\n",
    "Мы — гуру аналитики, и партнёры просят нас подготовить исследование рынка. У нас есть открытые данные о заведениях общественного питания в Москве."
   ]
  },
  {
   "cell_type": "markdown",
   "metadata": {},
   "source": [
    "## Изучение данных"
   ]
  },
  {
   "cell_type": "markdown",
   "metadata": {},
   "source": [
    "Импорт необхадимых библиотек."
   ]
  },
  {
   "cell_type": "code",
   "execution_count": 1,
   "metadata": {},
   "outputs": [],
   "source": [
    "import pandas as pd\n",
    "import matplotlib.pyplot as plt \n",
    "import numpy as np \n",
    "import seaborn as sns\n",
    "import re \n",
    "from pymystem3 import Mystem"
   ]
  },
  {
   "cell_type": "markdown",
   "metadata": {},
   "source": [
    "Прочитаем и посмотри файл с данными."
   ]
  },
  {
   "cell_type": "code",
   "execution_count": 2,
   "metadata": {},
   "outputs": [],
   "source": [
    "data = pd.read_csv('https://drive.google.com/file/d/1tE9aFpOlCHSxyH8jRzUi_5UOUeXYb-5V/view?usp=sharing')"
   ]
  },
  {
   "cell_type": "code",
   "execution_count": 3,
   "metadata": {},
   "outputs": [
    {
     "data": {
      "text/html": [
       "<div>\n",
       "<style scoped>\n",
       "    .dataframe tbody tr th:only-of-type {\n",
       "        vertical-align: middle;\n",
       "    }\n",
       "\n",
       "    .dataframe tbody tr th {\n",
       "        vertical-align: top;\n",
       "    }\n",
       "\n",
       "    .dataframe thead th {\n",
       "        text-align: right;\n",
       "    }\n",
       "</style>\n",
       "<table border=\"1\" class=\"dataframe\">\n",
       "  <thead>\n",
       "    <tr style=\"text-align: right;\">\n",
       "      <th></th>\n",
       "      <th>id</th>\n",
       "      <th>object_name</th>\n",
       "      <th>chain</th>\n",
       "      <th>object_type</th>\n",
       "      <th>address</th>\n",
       "      <th>number</th>\n",
       "    </tr>\n",
       "  </thead>\n",
       "  <tbody>\n",
       "    <tr>\n",
       "      <th>0</th>\n",
       "      <td>151635</td>\n",
       "      <td>СМЕТАНА</td>\n",
       "      <td>нет</td>\n",
       "      <td>кафе</td>\n",
       "      <td>город Москва, улица Егора Абакумова, дом 9</td>\n",
       "      <td>48</td>\n",
       "    </tr>\n",
       "    <tr>\n",
       "      <th>1</th>\n",
       "      <td>77874</td>\n",
       "      <td>Родник</td>\n",
       "      <td>нет</td>\n",
       "      <td>кафе</td>\n",
       "      <td>город Москва, улица Талалихина, дом 2/1, корпус 1</td>\n",
       "      <td>35</td>\n",
       "    </tr>\n",
       "    <tr>\n",
       "      <th>2</th>\n",
       "      <td>24309</td>\n",
       "      <td>Кафе «Академия»</td>\n",
       "      <td>нет</td>\n",
       "      <td>кафе</td>\n",
       "      <td>город Москва, Абельмановская улица, дом 6</td>\n",
       "      <td>95</td>\n",
       "    </tr>\n",
       "    <tr>\n",
       "      <th>3</th>\n",
       "      <td>21894</td>\n",
       "      <td>ПИЦЦЕТОРИЯ</td>\n",
       "      <td>да</td>\n",
       "      <td>кафе</td>\n",
       "      <td>город Москва, Абрамцевская улица, дом 1</td>\n",
       "      <td>40</td>\n",
       "    </tr>\n",
       "    <tr>\n",
       "      <th>4</th>\n",
       "      <td>119365</td>\n",
       "      <td>Кафе «Вишневая метель»</td>\n",
       "      <td>нет</td>\n",
       "      <td>кафе</td>\n",
       "      <td>город Москва, Абрамцевская улица, дом 9, корпус 1</td>\n",
       "      <td>50</td>\n",
       "    </tr>\n",
       "    <tr>\n",
       "      <th>5</th>\n",
       "      <td>27429</td>\n",
       "      <td>СТОЛ. ПРИ ГОУ СОШ № 1051</td>\n",
       "      <td>нет</td>\n",
       "      <td>столовая</td>\n",
       "      <td>город Москва, Абрамцевская улица, дом 15, корп...</td>\n",
       "      <td>240</td>\n",
       "    </tr>\n",
       "    <tr>\n",
       "      <th>6</th>\n",
       "      <td>148815</td>\n",
       "      <td>Брусника</td>\n",
       "      <td>да</td>\n",
       "      <td>кафе</td>\n",
       "      <td>город Москва, переулок Сивцев Вражек, дом 6/2</td>\n",
       "      <td>10</td>\n",
       "    </tr>\n",
       "    <tr>\n",
       "      <th>7</th>\n",
       "      <td>20957</td>\n",
       "      <td>Буфет МТУСИ</td>\n",
       "      <td>нет</td>\n",
       "      <td>столовая</td>\n",
       "      <td>город Москва, Авиамоторная улица, дом 8, строе...</td>\n",
       "      <td>90</td>\n",
       "    </tr>\n",
       "    <tr>\n",
       "      <th>8</th>\n",
       "      <td>20958</td>\n",
       "      <td>КПФ СЕМЬЯ-1</td>\n",
       "      <td>нет</td>\n",
       "      <td>столовая</td>\n",
       "      <td>город Москва, Авиамоторная улица, дом 8, строе...</td>\n",
       "      <td>150</td>\n",
       "    </tr>\n",
       "    <tr>\n",
       "      <th>9</th>\n",
       "      <td>28858</td>\n",
       "      <td>Столовая МТУСИ</td>\n",
       "      <td>нет</td>\n",
       "      <td>столовая</td>\n",
       "      <td>город Москва, Авиамоторная улица, дом 8, строе...</td>\n",
       "      <td>120</td>\n",
       "    </tr>\n",
       "  </tbody>\n",
       "</table>\n",
       "</div>"
      ],
      "text/plain": [
       "       id               object_name chain object_type  \\\n",
       "0  151635                   СМЕТАНА   нет        кафе   \n",
       "1   77874                    Родник   нет        кафе   \n",
       "2   24309           Кафе «Академия»   нет        кафе   \n",
       "3   21894                ПИЦЦЕТОРИЯ    да        кафе   \n",
       "4  119365    Кафе «Вишневая метель»   нет        кафе   \n",
       "5   27429  СТОЛ. ПРИ ГОУ СОШ № 1051   нет    столовая   \n",
       "6  148815                  Брусника    да        кафе   \n",
       "7   20957               Буфет МТУСИ   нет    столовая   \n",
       "8   20958               КПФ СЕМЬЯ-1   нет    столовая   \n",
       "9   28858            Столовая МТУСИ   нет    столовая   \n",
       "\n",
       "                                             address  number  \n",
       "0         город Москва, улица Егора Абакумова, дом 9      48  \n",
       "1  город Москва, улица Талалихина, дом 2/1, корпус 1      35  \n",
       "2          город Москва, Абельмановская улица, дом 6      95  \n",
       "3            город Москва, Абрамцевская улица, дом 1      40  \n",
       "4  город Москва, Абрамцевская улица, дом 9, корпус 1      50  \n",
       "5  город Москва, Абрамцевская улица, дом 15, корп...     240  \n",
       "6      город Москва, переулок Сивцев Вражек, дом 6/2      10  \n",
       "7  город Москва, Авиамоторная улица, дом 8, строе...      90  \n",
       "8  город Москва, Авиамоторная улица, дом 8, строе...     150  \n",
       "9  город Москва, Авиамоторная улица, дом 8, строе...     120  "
      ]
     },
     "execution_count": 3,
     "metadata": {},
     "output_type": "execute_result"
    }
   ],
   "source": [
    "data.head(10)"
   ]
  },
  {
   "cell_type": "markdown",
   "metadata": {},
   "source": [
    "Таблица **data**:\n",
    "* id — идентификатор объекта;\n",
    "* object_name — название объекта общественного питания;\n",
    "* chain — сетевой ресторан;\n",
    "* object_type — тип объекта общественного питания;\n",
    "* address — адрес;\n",
    "* number — количество посадочных мест."
   ]
  },
  {
   "cell_type": "code",
   "execution_count": 4,
   "metadata": {},
   "outputs": [
    {
     "name": "stdout",
     "output_type": "stream",
     "text": [
      "<class 'pandas.core.frame.DataFrame'>\n",
      "RangeIndex: 15366 entries, 0 to 15365\n",
      "Data columns (total 6 columns):\n",
      " #   Column       Non-Null Count  Dtype \n",
      "---  ------       --------------  ----- \n",
      " 0   id           15366 non-null  int64 \n",
      " 1   object_name  15366 non-null  object\n",
      " 2   chain        15366 non-null  object\n",
      " 3   object_type  15366 non-null  object\n",
      " 4   address      15366 non-null  object\n",
      " 5   number       15366 non-null  int64 \n",
      "dtypes: int64(2), object(4)\n",
      "memory usage: 720.4+ KB\n"
     ]
    }
   ],
   "source": [
    "data.info()"
   ]
  },
  {
   "cell_type": "code",
   "execution_count": 5,
   "metadata": {},
   "outputs": [
    {
     "data": {
      "text/plain": [
       "'Количество уникальных названий:'"
      ]
     },
     "metadata": {},
     "output_type": "display_data"
    },
    {
     "data": {
      "text/plain": [
       "10393"
      ]
     },
     "metadata": {},
     "output_type": "display_data"
    }
   ],
   "source": [
    "display(\"Количество уникальных названий:\", len(data['object_name'].unique()))"
   ]
  },
  {
   "cell_type": "code",
   "execution_count": 6,
   "metadata": {},
   "outputs": [
    {
     "data": {
      "text/plain": [
       "'Количество уникальных адресов:'"
      ]
     },
     "metadata": {},
     "output_type": "display_data"
    },
    {
     "data": {
      "text/plain": [
       "9108"
      ]
     },
     "metadata": {},
     "output_type": "display_data"
    }
   ],
   "source": [
    "display(\"Количество уникальных адресов:\", len(data['address'].unique()))"
   ]
  },
  {
   "cell_type": "code",
   "execution_count": 7,
   "metadata": {},
   "outputs": [
    {
     "data": {
      "text/plain": [
       "array(['кафе', 'столовая', 'закусочная',\n",
       "       'предприятие быстрого обслуживания', 'ресторан', 'кафетерий',\n",
       "       'буфет', 'бар', 'магазин (отдел кулинарии)'], dtype=object)"
      ]
     },
     "execution_count": 7,
     "metadata": {},
     "output_type": "execute_result"
    }
   ],
   "source": [
    "data['object_type'].unique()"
   ]
  },
  {
   "cell_type": "code",
   "execution_count": 8,
   "metadata": {},
   "outputs": [
    {
     "data": {
      "text/plain": [
       "chain\n",
       "да      2968\n",
       "нет    12398\n",
       "Name: id, dtype: int64"
      ]
     },
     "execution_count": 8,
     "metadata": {},
     "output_type": "execute_result"
    }
   ],
   "source": [
    "data.groupby('chain')['id'].count()"
   ]
  },
  {
   "cell_type": "code",
   "execution_count": 9,
   "metadata": {},
   "outputs": [
    {
     "data": {
      "text/plain": [
       "id             0\n",
       "object_name    0\n",
       "chain          0\n",
       "object_type    0\n",
       "address        0\n",
       "number         0\n",
       "dtype: int64"
      ]
     },
     "execution_count": 9,
     "metadata": {},
     "output_type": "execute_result"
    }
   ],
   "source": [
    "data.isna().sum()"
   ]
  },
  {
   "cell_type": "code",
   "execution_count": 10,
   "metadata": {},
   "outputs": [
    {
     "data": {
      "text/plain": [
       "82"
      ]
     },
     "execution_count": 10,
     "metadata": {},
     "output_type": "execute_result"
    }
   ],
   "source": [
    "data[['object_name', 'chain', 'object_type', 'address', 'number']].duplicated().sum() # просмотр дубликатов без столбца id"
   ]
  },
  {
   "cell_type": "markdown",
   "metadata": {},
   "source": [
    "**Вывод**\n",
    "\n",
    "Таблица **data** состоит из 6 столбцов и 15366 строк. В столбце **object_name** 10393 уникальных названия, значит есть несколько объектов с одинаковыми названиями, в столбце **address** 9108 уникальных адресов, соответственно есть адреса на которых располагаются несколько объектов общественного питания, это могут быть торговые центры. Сетевыми сетями общественного питания оказались 2968 объектов из 15366, остальные не сетевые. Пропусков и дубликатов не обнаружено."
   ]
  },
  {
   "cell_type": "markdown",
   "metadata": {},
   "source": [
    "## Предобработка данных"
   ]
  },
  {
   "cell_type": "markdown",
   "metadata": {},
   "source": [
    "Переименуем некоторые названия для удобства."
   ]
  },
  {
   "cell_type": "code",
   "execution_count": 11,
   "metadata": {},
   "outputs": [],
   "source": [
    "data.loc[data['object_type']=='предприятие быстрого обслуживания', 'object_type'] = 'фастфуд'\n",
    "data.loc[data['object_type']=='магазин (отдел кулинарии)', 'object_type'] = 'кулинария'"
   ]
  },
  {
   "cell_type": "code",
   "execution_count": 12,
   "metadata": {},
   "outputs": [],
   "source": [
    "data.loc[data['chain']=='нет', 'chain'] = 'не сетевой'\n",
    "data.loc[data['chain']=='да', 'chain'] = 'сетевой'"
   ]
  },
  {
   "cell_type": "code",
   "execution_count": 13,
   "metadata": {},
   "outputs": [
    {
     "data": {
      "text/plain": [
       "count    15366.000000\n",
       "mean        59.547182\n",
       "std         74.736833\n",
       "min          0.000000\n",
       "25%         12.000000\n",
       "50%         40.000000\n",
       "75%         80.000000\n",
       "max       1700.000000\n",
       "Name: number, dtype: float64"
      ]
     },
     "execution_count": 13,
     "metadata": {},
     "output_type": "execute_result"
    }
   ],
   "source": [
    "data['number'].describe()"
   ]
  },
  {
   "cell_type": "markdown",
   "metadata": {},
   "source": [
    "## Анализ данных"
   ]
  },
  {
   "cell_type": "markdown",
   "metadata": {},
   "source": [
    "### Исследование соотношения видов объектов общественного питания по количеству."
   ]
  },
  {
   "cell_type": "code",
   "execution_count": 14,
   "metadata": {},
   "outputs": [],
   "source": [
    "object_type = data.groupby('object_type')['id'].count().reset_index().sort_values(by='id', ascending=False)\n",
    "object_type['%'] = ((object_type['id'] / 15366) * 100).round()"
   ]
  },
  {
   "cell_type": "code",
   "execution_count": 15,
   "metadata": {},
   "outputs": [
    {
     "data": {
      "text/html": [
       "<div>\n",
       "<style scoped>\n",
       "    .dataframe tbody tr th:only-of-type {\n",
       "        vertical-align: middle;\n",
       "    }\n",
       "\n",
       "    .dataframe tbody tr th {\n",
       "        vertical-align: top;\n",
       "    }\n",
       "\n",
       "    .dataframe thead th {\n",
       "        text-align: right;\n",
       "    }\n",
       "</style>\n",
       "<table border=\"1\" class=\"dataframe\">\n",
       "  <thead>\n",
       "    <tr style=\"text-align: right;\">\n",
       "      <th></th>\n",
       "      <th>object_type</th>\n",
       "      <th>id</th>\n",
       "      <th>%</th>\n",
       "    </tr>\n",
       "  </thead>\n",
       "  <tbody>\n",
       "    <tr>\n",
       "      <th>3</th>\n",
       "      <td>кафе</td>\n",
       "      <td>6099</td>\n",
       "      <td>40.0</td>\n",
       "    </tr>\n",
       "    <tr>\n",
       "      <th>7</th>\n",
       "      <td>столовая</td>\n",
       "      <td>2587</td>\n",
       "      <td>17.0</td>\n",
       "    </tr>\n",
       "    <tr>\n",
       "      <th>6</th>\n",
       "      <td>ресторан</td>\n",
       "      <td>2285</td>\n",
       "      <td>15.0</td>\n",
       "    </tr>\n",
       "    <tr>\n",
       "      <th>8</th>\n",
       "      <td>фастфуд</td>\n",
       "      <td>1923</td>\n",
       "      <td>13.0</td>\n",
       "    </tr>\n",
       "    <tr>\n",
       "      <th>0</th>\n",
       "      <td>бар</td>\n",
       "      <td>856</td>\n",
       "      <td>6.0</td>\n",
       "    </tr>\n",
       "    <tr>\n",
       "      <th>1</th>\n",
       "      <td>буфет</td>\n",
       "      <td>585</td>\n",
       "      <td>4.0</td>\n",
       "    </tr>\n",
       "    <tr>\n",
       "      <th>4</th>\n",
       "      <td>кафетерий</td>\n",
       "      <td>398</td>\n",
       "      <td>3.0</td>\n",
       "    </tr>\n",
       "    <tr>\n",
       "      <th>2</th>\n",
       "      <td>закусочная</td>\n",
       "      <td>360</td>\n",
       "      <td>2.0</td>\n",
       "    </tr>\n",
       "    <tr>\n",
       "      <th>5</th>\n",
       "      <td>кулинария</td>\n",
       "      <td>273</td>\n",
       "      <td>2.0</td>\n",
       "    </tr>\n",
       "  </tbody>\n",
       "</table>\n",
       "</div>"
      ],
      "text/plain": [
       "  object_type    id     %\n",
       "3        кафе  6099  40.0\n",
       "7    столовая  2587  17.0\n",
       "6    ресторан  2285  15.0\n",
       "8     фастфуд  1923  13.0\n",
       "0         бар   856   6.0\n",
       "1       буфет   585   4.0\n",
       "4   кафетерий   398   3.0\n",
       "2  закусочная   360   2.0\n",
       "5   кулинария   273   2.0"
      ]
     },
     "execution_count": 15,
     "metadata": {},
     "output_type": "execute_result"
    }
   ],
   "source": [
    "object_type"
   ]
  },
  {
   "cell_type": "code",
   "execution_count": 16,
   "metadata": {},
   "outputs": [
    {
     "data": {
      "image/png": "[encoded data removed]",
      "text/plain": [
       "<Figure size 1080x576 with 1 Axes>"
      ]
     },
     "metadata": {
      "needs_background": "light"
     },
     "output_type": "display_data"
    }
   ],
   "source": [
    "plt.figure(figsize=(15, 8))\n",
    "sns.barplot(x='object_type',y='id',data=object_type)\n",
    "plt.xticks(rotation=45)\n",
    "plt.title('Количество обектов общественного питания')\n",
    "plt.xlabel('Объекты общественного питания')\n",
    "plt.ylabel('Количество объектов');"
   ]
  },
  {
   "cell_type": "markdown",
   "metadata": {},
   "source": [
    "Больше всего в выгрузке записей о **кафе** 6099, далее идут **столовые** 2587, **рестораны** 2285 и **фастфуд** 1923."
   ]
  },
  {
   "cell_type": "markdown",
   "metadata": {},
   "source": [
    "### Исследование соотношения сетевых и несетевых объектов по количеству."
   ]
  },
  {
   "cell_type": "code",
   "execution_count": 17,
   "metadata": {},
   "outputs": [],
   "source": [
    "chain = data.groupby('chain')['id'].count().reset_index().sort_values(by='id', ascending=False)"
   ]
  },
  {
   "cell_type": "code",
   "execution_count": 18,
   "metadata": {},
   "outputs": [
    {
     "data": {
      "text/html": [
       "<div>\n",
       "<style scoped>\n",
       "    .dataframe tbody tr th:only-of-type {\n",
       "        vertical-align: middle;\n",
       "    }\n",
       "\n",
       "    .dataframe tbody tr th {\n",
       "        vertical-align: top;\n",
       "    }\n",
       "\n",
       "    .dataframe thead th {\n",
       "        text-align: right;\n",
       "    }\n",
       "</style>\n",
       "<table border=\"1\" class=\"dataframe\">\n",
       "  <thead>\n",
       "    <tr style=\"text-align: right;\">\n",
       "      <th></th>\n",
       "      <th>chain</th>\n",
       "      <th>id</th>\n",
       "    </tr>\n",
       "  </thead>\n",
       "  <tbody>\n",
       "    <tr>\n",
       "      <th>0</th>\n",
       "      <td>не сетевой</td>\n",
       "      <td>12398</td>\n",
       "    </tr>\n",
       "    <tr>\n",
       "      <th>1</th>\n",
       "      <td>сетевой</td>\n",
       "      <td>2968</td>\n",
       "    </tr>\n",
       "  </tbody>\n",
       "</table>\n",
       "</div>"
      ],
      "text/plain": [
       "        chain     id\n",
       "0  не сетевой  12398\n",
       "1     сетевой   2968"
      ]
     },
     "execution_count": 18,
     "metadata": {},
     "output_type": "execute_result"
    }
   ],
   "source": [
    "chain"
   ]
  },
  {
   "cell_type": "code",
   "execution_count": 19,
   "metadata": {},
   "outputs": [
    {
     "data": {
      "image/png": "[encoded data removed]",
      "text/plain": [
       "<Figure size 1080x576 with 1 Axes>"
      ]
     },
     "metadata": {
      "needs_background": "light"
     },
     "output_type": "display_data"
    }
   ],
   "source": [
    "plt.figure(figsize=(15, 8))\n",
    "sns.barplot(x='chain',y='id',data=chain)\n",
    "plt.title('Количество сетевых и не сетевых обектов общественного питания')\n",
    "plt.xlabel('Объекты общественного питания')\n",
    "plt.ylabel('Количество объектов');"
   ]
  },
  {
   "cell_type": "markdown",
   "metadata": {},
   "source": [
    "**Не сетевых** заведений около 80%, а **сетевых** около 20% от общего количества заведений общественного питания."
   ]
  },
  {
   "cell_type": "markdown",
   "metadata": {},
   "source": [
    "### Для какого вида объекта общественного питания характерно сетевое распространение?"
   ]
  },
  {
   "cell_type": "code",
   "execution_count": 20,
   "metadata": {},
   "outputs": [],
   "source": [
    "group_chain = data.pivot_table(\n",
    "    values='object_name',\n",
    "    index='object_type',\n",
    "    columns=['chain'],\n",
    "    aggfunc='count'\n",
    ").reset_index()"
   ]
  },
  {
   "cell_type": "code",
   "execution_count": 21,
   "metadata": {},
   "outputs": [],
   "source": [
    "group_chain['ratio%'] = ((group_chain['сетевой'] / (group_chain['сетевой'] + group_chain['не сетевой'])) * 100).round(2)"
   ]
  },
  {
   "cell_type": "code",
   "execution_count": 22,
   "metadata": {},
   "outputs": [],
   "source": [
    "group_chain = group_chain.sort_values(by='ratio%', ascending=False)"
   ]
  },
  {
   "cell_type": "code",
   "execution_count": 23,
   "metadata": {},
   "outputs": [
    {
     "data": {
      "text/html": [
       "<div>\n",
       "<style scoped>\n",
       "    .dataframe tbody tr th:only-of-type {\n",
       "        vertical-align: middle;\n",
       "    }\n",
       "\n",
       "    .dataframe tbody tr th {\n",
       "        vertical-align: top;\n",
       "    }\n",
       "\n",
       "    .dataframe thead th {\n",
       "        text-align: right;\n",
       "    }\n",
       "</style>\n",
       "<table border=\"1\" class=\"dataframe\">\n",
       "  <thead>\n",
       "    <tr style=\"text-align: right;\">\n",
       "      <th>chain</th>\n",
       "      <th>object_type</th>\n",
       "      <th>не сетевой</th>\n",
       "      <th>сетевой</th>\n",
       "      <th>ratio%</th>\n",
       "    </tr>\n",
       "  </thead>\n",
       "  <tbody>\n",
       "    <tr>\n",
       "      <th>8</th>\n",
       "      <td>фастфуд</td>\n",
       "      <td>1132</td>\n",
       "      <td>791</td>\n",
       "      <td>41.13</td>\n",
       "    </tr>\n",
       "    <tr>\n",
       "      <th>5</th>\n",
       "      <td>кулинария</td>\n",
       "      <td>195</td>\n",
       "      <td>78</td>\n",
       "      <td>28.57</td>\n",
       "    </tr>\n",
       "    <tr>\n",
       "      <th>6</th>\n",
       "      <td>ресторан</td>\n",
       "      <td>1741</td>\n",
       "      <td>544</td>\n",
       "      <td>23.81</td>\n",
       "    </tr>\n",
       "    <tr>\n",
       "      <th>3</th>\n",
       "      <td>кафе</td>\n",
       "      <td>4703</td>\n",
       "      <td>1396</td>\n",
       "      <td>22.89</td>\n",
       "    </tr>\n",
       "    <tr>\n",
       "      <th>2</th>\n",
       "      <td>закусочная</td>\n",
       "      <td>304</td>\n",
       "      <td>56</td>\n",
       "      <td>15.56</td>\n",
       "    </tr>\n",
       "    <tr>\n",
       "      <th>4</th>\n",
       "      <td>кафетерий</td>\n",
       "      <td>346</td>\n",
       "      <td>52</td>\n",
       "      <td>13.07</td>\n",
       "    </tr>\n",
       "    <tr>\n",
       "      <th>0</th>\n",
       "      <td>бар</td>\n",
       "      <td>819</td>\n",
       "      <td>37</td>\n",
       "      <td>4.32</td>\n",
       "    </tr>\n",
       "    <tr>\n",
       "      <th>1</th>\n",
       "      <td>буфет</td>\n",
       "      <td>574</td>\n",
       "      <td>11</td>\n",
       "      <td>1.88</td>\n",
       "    </tr>\n",
       "    <tr>\n",
       "      <th>7</th>\n",
       "      <td>столовая</td>\n",
       "      <td>2584</td>\n",
       "      <td>3</td>\n",
       "      <td>0.12</td>\n",
       "    </tr>\n",
       "  </tbody>\n",
       "</table>\n",
       "</div>"
      ],
      "text/plain": [
       "chain object_type  не сетевой  сетевой  ratio%\n",
       "8         фастфуд        1132      791   41.13\n",
       "5       кулинария         195       78   28.57\n",
       "6        ресторан        1741      544   23.81\n",
       "3            кафе        4703     1396   22.89\n",
       "2      закусочная         304       56   15.56\n",
       "4       кафетерий         346       52   13.07\n",
       "0             бар         819       37    4.32\n",
       "1           буфет         574       11    1.88\n",
       "7        столовая        2584        3    0.12"
      ]
     },
     "execution_count": 23,
     "metadata": {},
     "output_type": "execute_result"
    }
   ],
   "source": [
    "group_chain"
   ]
  },
  {
   "cell_type": "code",
   "execution_count": 24,
   "metadata": {},
   "outputs": [
    {
     "data": {
      "image/png": "[encoded data removed]",
      "text/plain": [
       "<Figure size 1080x576 with 1 Axes>"
      ]
     },
     "metadata": {
      "needs_background": "light"
     },
     "output_type": "display_data"
    }
   ],
   "source": [
    "plt.figure(figsize=(15, 8))\n",
    "sns.barplot(x='object_type',y='ratio%',data=group_chain)\n",
    "plt.title('Сетевое распределение обектов общественного питания')\n",
    "plt.xlabel('Объекты общественного питания')\n",
    "plt.ylabel('Количество объектов %');"
   ]
  },
  {
   "cell_type": "markdown",
   "metadata": {},
   "source": [
    "Сетевое распространение более всего характерно для **фастфуд** 41%, **кулинария** 28% и **ресторанов** 24%."
   ]
  },
  {
   "cell_type": "markdown",
   "metadata": {},
   "source": [
    "### Что характерно для сетевых заведений: много заведений с небольшим числом посадочных мест в каждом или мало заведений с большим количеством посадочных мест?"
   ]
  },
  {
   "cell_type": "code",
   "execution_count": 25,
   "metadata": {},
   "outputs": [],
   "source": [
    "data_chain = data.query('chain == \"сетевой\"')"
   ]
  },
  {
   "cell_type": "code",
   "execution_count": 26,
   "metadata": {},
   "outputs": [],
   "source": [
    "data_chain = data_chain.groupby('object_type').agg({'id':'count', 'number':'mean'}).round(0)\n",
    "data_chain.columns = ['Кол-во заведений', 'Среднее число посадочных мест']"
   ]
  },
  {
   "cell_type": "code",
   "execution_count": 27,
   "metadata": {},
   "outputs": [
    {
     "data": {
      "text/html": [
       "<div>\n",
       "<style scoped>\n",
       "    .dataframe tbody tr th:only-of-type {\n",
       "        vertical-align: middle;\n",
       "    }\n",
       "\n",
       "    .dataframe tbody tr th {\n",
       "        vertical-align: top;\n",
       "    }\n",
       "\n",
       "    .dataframe thead th {\n",
       "        text-align: right;\n",
       "    }\n",
       "</style>\n",
       "<table border=\"1\" class=\"dataframe\">\n",
       "  <thead>\n",
       "    <tr style=\"text-align: right;\">\n",
       "      <th></th>\n",
       "      <th>Кол-во заведений</th>\n",
       "      <th>Среднее число посадочных мест</th>\n",
       "    </tr>\n",
       "    <tr>\n",
       "      <th>object_type</th>\n",
       "      <th></th>\n",
       "      <th></th>\n",
       "    </tr>\n",
       "  </thead>\n",
       "  <tbody>\n",
       "    <tr>\n",
       "      <th>бар</th>\n",
       "      <td>37</td>\n",
       "      <td>53.0</td>\n",
       "    </tr>\n",
       "    <tr>\n",
       "      <th>буфет</th>\n",
       "      <td>11</td>\n",
       "      <td>13.0</td>\n",
       "    </tr>\n",
       "    <tr>\n",
       "      <th>закусочная</th>\n",
       "      <td>56</td>\n",
       "      <td>14.0</td>\n",
       "    </tr>\n",
       "    <tr>\n",
       "      <th>кафе</th>\n",
       "      <td>1396</td>\n",
       "      <td>47.0</td>\n",
       "    </tr>\n",
       "    <tr>\n",
       "      <th>кафетерий</th>\n",
       "      <td>52</td>\n",
       "      <td>12.0</td>\n",
       "    </tr>\n",
       "    <tr>\n",
       "      <th>кулинария</th>\n",
       "      <td>78</td>\n",
       "      <td>9.0</td>\n",
       "    </tr>\n",
       "    <tr>\n",
       "      <th>ресторан</th>\n",
       "      <td>544</td>\n",
       "      <td>100.0</td>\n",
       "    </tr>\n",
       "    <tr>\n",
       "      <th>столовая</th>\n",
       "      <td>3</td>\n",
       "      <td>112.0</td>\n",
       "    </tr>\n",
       "    <tr>\n",
       "      <th>фастфуд</th>\n",
       "      <td>791</td>\n",
       "      <td>40.0</td>\n",
       "    </tr>\n",
       "  </tbody>\n",
       "</table>\n",
       "</div>"
      ],
      "text/plain": [
       "             Кол-во заведений  Среднее число посадочных мест\n",
       "object_type                                                 \n",
       "бар                        37                           53.0\n",
       "буфет                      11                           13.0\n",
       "закусочная                 56                           14.0\n",
       "кафе                     1396                           47.0\n",
       "кафетерий                  52                           12.0\n",
       "кулинария                  78                            9.0\n",
       "ресторан                  544                          100.0\n",
       "столовая                    3                          112.0\n",
       "фастфуд                   791                           40.0"
      ]
     },
     "execution_count": 27,
     "metadata": {},
     "output_type": "execute_result"
    }
   ],
   "source": [
    "data_chain"
   ]
  },
  {
   "cell_type": "code",
   "execution_count": 28,
   "metadata": {},
   "outputs": [
    {
     "data": {
      "image/png": "[encoded data removed]",
      "text/plain": [
       "<Figure size 1080x576 with 1 Axes>"
      ]
     },
     "metadata": {
      "needs_background": "light"
     },
     "output_type": "display_data"
    }
   ],
   "source": [
    "plt.figure(figsize=(15, 8))\n",
    "sns.scatterplot(x=\"Кол-во заведений\", y=\"Среднее число посадочных мест\", data=data_chain)\n",
    "plt.title('Распределение в сетевых заведениях')\n",
    "plt.xlabel('Кол-во заведений')\n",
    "plt.ylabel('Среднее число посадочных мест');"
   ]
  },
  {
   "cell_type": "markdown",
   "metadata": {},
   "source": [
    "Для **кафе** характено большое кол-во заведений и небольшое кол-во посадочных мест, так же как и для **общепита**, а вот **рестораны** имеют меньшее кол-во заведений, но большее среднее число посадочных мест. Что логично, так как в **ресторанах** люди проводят больше времени и приходят в основном в вечернее время, поэтому **рестораны** имеют больше посадочных мест, так же в них проводят мероприятия различного характера(корпоративы, банкеты и тд)."
   ]
  },
  {
   "cell_type": "markdown",
   "metadata": {},
   "source": [
    "### Расчет среднего количества посадочных мест для каждого вида объекта общественного питания. "
   ]
  },
  {
   "cell_type": "code",
   "execution_count": 29,
   "metadata": {},
   "outputs": [],
   "source": [
    "data_mean_number = data.groupby('object_type').agg({'number':'mean'}).reset_index().round()"
   ]
  },
  {
   "cell_type": "code",
   "execution_count": 30,
   "metadata": {},
   "outputs": [
    {
     "data": {
      "text/html": [
       "<div>\n",
       "<style scoped>\n",
       "    .dataframe tbody tr th:only-of-type {\n",
       "        vertical-align: middle;\n",
       "    }\n",
       "\n",
       "    .dataframe tbody tr th {\n",
       "        vertical-align: top;\n",
       "    }\n",
       "\n",
       "    .dataframe thead th {\n",
       "        text-align: right;\n",
       "    }\n",
       "</style>\n",
       "<table border=\"1\" class=\"dataframe\">\n",
       "  <thead>\n",
       "    <tr style=\"text-align: right;\">\n",
       "      <th></th>\n",
       "      <th>object_type</th>\n",
       "      <th>number</th>\n",
       "    </tr>\n",
       "  </thead>\n",
       "  <tbody>\n",
       "    <tr>\n",
       "      <th>7</th>\n",
       "      <td>столовая</td>\n",
       "      <td>130.0</td>\n",
       "    </tr>\n",
       "    <tr>\n",
       "      <th>6</th>\n",
       "      <td>ресторан</td>\n",
       "      <td>97.0</td>\n",
       "    </tr>\n",
       "    <tr>\n",
       "      <th>1</th>\n",
       "      <td>буфет</td>\n",
       "      <td>51.0</td>\n",
       "    </tr>\n",
       "    <tr>\n",
       "      <th>0</th>\n",
       "      <td>бар</td>\n",
       "      <td>43.0</td>\n",
       "    </tr>\n",
       "    <tr>\n",
       "      <th>3</th>\n",
       "      <td>кафе</td>\n",
       "      <td>40.0</td>\n",
       "    </tr>\n",
       "    <tr>\n",
       "      <th>8</th>\n",
       "      <td>фастфуд</td>\n",
       "      <td>21.0</td>\n",
       "    </tr>\n",
       "    <tr>\n",
       "      <th>4</th>\n",
       "      <td>кафетерий</td>\n",
       "      <td>9.0</td>\n",
       "    </tr>\n",
       "    <tr>\n",
       "      <th>2</th>\n",
       "      <td>закусочная</td>\n",
       "      <td>8.0</td>\n",
       "    </tr>\n",
       "    <tr>\n",
       "      <th>5</th>\n",
       "      <td>кулинария</td>\n",
       "      <td>6.0</td>\n",
       "    </tr>\n",
       "  </tbody>\n",
       "</table>\n",
       "</div>"
      ],
      "text/plain": [
       "  object_type  number\n",
       "7    столовая   130.0\n",
       "6    ресторан    97.0\n",
       "1       буфет    51.0\n",
       "0         бар    43.0\n",
       "3        кафе    40.0\n",
       "8     фастфуд    21.0\n",
       "4   кафетерий     9.0\n",
       "2  закусочная     8.0\n",
       "5   кулинария     6.0"
      ]
     },
     "execution_count": 30,
     "metadata": {},
     "output_type": "execute_result"
    }
   ],
   "source": [
    "data_mean_number = data_mean_number.sort_values(by='number', ascending=False)\n",
    "data_mean_number "
   ]
  },
  {
   "cell_type": "code",
   "execution_count": 31,
   "metadata": {},
   "outputs": [
    {
     "data": {
      "image/png": "[encoded data removed]",
      "text/plain": [
       "<Figure size 1080x576 with 1 Axes>"
      ]
     },
     "metadata": {
      "needs_background": "light"
     },
     "output_type": "display_data"
    }
   ],
   "source": [
    "plt.figure(figsize=(15, 8))\n",
    "sns.barplot(x='object_type',y='number',data=data)\n",
    "plt.ylim(0,150)\n",
    "plt.title('Среднее количествово посадочных мест')\n",
    "plt.xlabel('Заведения общественного питания')\n",
    "plt.ylabel('Среднее количество посадочных мест');"
   ]
  },
  {
   "cell_type": "markdown",
   "metadata": {},
   "source": [
    "У **Столовых** самое болшьшое среднее количество посадочных мест **130**, это связано с тем, что **столовые** расчитаны на принятие максимально количества поситителей за определенный промежуток времени(обеденный перерыв). В **ресторанах** люди проводят больше времени и приходят в основном в вечернее время, поэтому **рестораны** имеют больше посадочных мест, так же в них проводят мероприятия различного характера(корпоративы, банкеты и тд), у нас среднее количество посадочных мест **97**. **Буфеты** расчитаны на быстрый перекус сотрудников офиса и обычно находятся в здании офиса, среднее количество посадочных мест **51**.  А в **общепите**, **кафетериях**, **кулинариях**, **закусочных** - посетители не засиживаются, а посещают их на короткое время, такие заведения в основном работают \"на вынос\"."
   ]
  },
  {
   "cell_type": "markdown",
   "metadata": {},
   "source": [
    "### Выделение в отдельный столбец информацию об улице из столбца `address` "
   ]
  },
  {
   "cell_type": "code",
   "execution_count": 32,
   "metadata": {},
   "outputs": [
    {
     "data": {
      "text/html": [
       "<div>\n",
       "<style scoped>\n",
       "    .dataframe tbody tr th:only-of-type {\n",
       "        vertical-align: middle;\n",
       "    }\n",
       "\n",
       "    .dataframe tbody tr th {\n",
       "        vertical-align: top;\n",
       "    }\n",
       "\n",
       "    .dataframe thead th {\n",
       "        text-align: right;\n",
       "    }\n",
       "</style>\n",
       "<table border=\"1\" class=\"dataframe\">\n",
       "  <thead>\n",
       "    <tr style=\"text-align: right;\">\n",
       "      <th></th>\n",
       "      <th>id</th>\n",
       "      <th>object_name</th>\n",
       "      <th>chain</th>\n",
       "      <th>object_type</th>\n",
       "      <th>address</th>\n",
       "      <th>number</th>\n",
       "    </tr>\n",
       "  </thead>\n",
       "  <tbody>\n",
       "    <tr>\n",
       "      <th>0</th>\n",
       "      <td>151635</td>\n",
       "      <td>СМЕТАНА</td>\n",
       "      <td>не сетевой</td>\n",
       "      <td>кафе</td>\n",
       "      <td>город Москва, улица Егора Абакумова, дом 9</td>\n",
       "      <td>48</td>\n",
       "    </tr>\n",
       "    <tr>\n",
       "      <th>1</th>\n",
       "      <td>77874</td>\n",
       "      <td>Родник</td>\n",
       "      <td>не сетевой</td>\n",
       "      <td>кафе</td>\n",
       "      <td>город Москва, улица Талалихина, дом 2/1, корпус 1</td>\n",
       "      <td>35</td>\n",
       "    </tr>\n",
       "    <tr>\n",
       "      <th>2</th>\n",
       "      <td>24309</td>\n",
       "      <td>Кафе «Академия»</td>\n",
       "      <td>не сетевой</td>\n",
       "      <td>кафе</td>\n",
       "      <td>город Москва, Абельмановская улица, дом 6</td>\n",
       "      <td>95</td>\n",
       "    </tr>\n",
       "    <tr>\n",
       "      <th>3</th>\n",
       "      <td>21894</td>\n",
       "      <td>ПИЦЦЕТОРИЯ</td>\n",
       "      <td>сетевой</td>\n",
       "      <td>кафе</td>\n",
       "      <td>город Москва, Абрамцевская улица, дом 1</td>\n",
       "      <td>40</td>\n",
       "    </tr>\n",
       "    <tr>\n",
       "      <th>4</th>\n",
       "      <td>119365</td>\n",
       "      <td>Кафе «Вишневая метель»</td>\n",
       "      <td>не сетевой</td>\n",
       "      <td>кафе</td>\n",
       "      <td>город Москва, Абрамцевская улица, дом 9, корпус 1</td>\n",
       "      <td>50</td>\n",
       "    </tr>\n",
       "    <tr>\n",
       "      <th>...</th>\n",
       "      <td>...</td>\n",
       "      <td>...</td>\n",
       "      <td>...</td>\n",
       "      <td>...</td>\n",
       "      <td>...</td>\n",
       "      <td>...</td>\n",
       "    </tr>\n",
       "    <tr>\n",
       "      <th>15361</th>\n",
       "      <td>208537</td>\n",
       "      <td>Шоколадница</td>\n",
       "      <td>сетевой</td>\n",
       "      <td>кафе</td>\n",
       "      <td>город Москва, 3-й Крутицкий переулок, дом 18</td>\n",
       "      <td>50</td>\n",
       "    </tr>\n",
       "    <tr>\n",
       "      <th>15362</th>\n",
       "      <td>209264</td>\n",
       "      <td>Шоколадница</td>\n",
       "      <td>сетевой</td>\n",
       "      <td>кафе</td>\n",
       "      <td>город Москва, улица Земляной Вал, дом 33</td>\n",
       "      <td>10</td>\n",
       "    </tr>\n",
       "    <tr>\n",
       "      <th>15363</th>\n",
       "      <td>209186</td>\n",
       "      <td>Шоколадница</td>\n",
       "      <td>сетевой</td>\n",
       "      <td>кафе</td>\n",
       "      <td>город Москва, улица Земляной Вал, дом 33</td>\n",
       "      <td>20</td>\n",
       "    </tr>\n",
       "    <tr>\n",
       "      <th>15364</th>\n",
       "      <td>221900</td>\n",
       "      <td>Шоколадница</td>\n",
       "      <td>сетевой</td>\n",
       "      <td>кафе</td>\n",
       "      <td>город Москва, поселение Московский, Киевское ш...</td>\n",
       "      <td>36</td>\n",
       "    </tr>\n",
       "    <tr>\n",
       "      <th>15365</th>\n",
       "      <td>222535</td>\n",
       "      <td>Шоколадница</td>\n",
       "      <td>сетевой</td>\n",
       "      <td>кафе</td>\n",
       "      <td>город Москва, Ходынский бульвар, дом 4</td>\n",
       "      <td>10</td>\n",
       "    </tr>\n",
       "  </tbody>\n",
       "</table>\n",
       "<p>15366 rows × 6 columns</p>\n",
       "</div>"
      ],
      "text/plain": [
       "           id             object_name       chain object_type  \\\n",
       "0      151635                 СМЕТАНА  не сетевой        кафе   \n",
       "1       77874                  Родник  не сетевой        кафе   \n",
       "2       24309         Кафе «Академия»  не сетевой        кафе   \n",
       "3       21894              ПИЦЦЕТОРИЯ     сетевой        кафе   \n",
       "4      119365  Кафе «Вишневая метель»  не сетевой        кафе   \n",
       "...       ...                     ...         ...         ...   \n",
       "15361  208537             Шоколадница     сетевой        кафе   \n",
       "15362  209264             Шоколадница     сетевой        кафе   \n",
       "15363  209186             Шоколадница     сетевой        кафе   \n",
       "15364  221900             Шоколадница     сетевой        кафе   \n",
       "15365  222535             Шоколадница     сетевой        кафе   \n",
       "\n",
       "                                                 address  number  \n",
       "0             город Москва, улица Егора Абакумова, дом 9      48  \n",
       "1      город Москва, улица Талалихина, дом 2/1, корпус 1      35  \n",
       "2              город Москва, Абельмановская улица, дом 6      95  \n",
       "3                город Москва, Абрамцевская улица, дом 1      40  \n",
       "4      город Москва, Абрамцевская улица, дом 9, корпус 1      50  \n",
       "...                                                  ...     ...  \n",
       "15361       город Москва, 3-й Крутицкий переулок, дом 18      50  \n",
       "15362           город Москва, улица Земляной Вал, дом 33      10  \n",
       "15363           город Москва, улица Земляной Вал, дом 33      20  \n",
       "15364  город Москва, поселение Московский, Киевское ш...      36  \n",
       "15365             город Москва, Ходынский бульвар, дом 4      10  \n",
       "\n",
       "[15366 rows x 6 columns]"
      ]
     },
     "execution_count": 32,
     "metadata": {},
     "output_type": "execute_result"
    }
   ],
   "source": [
    "data"
   ]
  },
  {
   "cell_type": "markdown",
   "metadata": {},
   "source": [
    "Напишем функцию, которая будет убирать из строки адреса \"город Москва, \""
   ]
  },
  {
   "cell_type": "code",
   "execution_count": 33,
   "metadata": {},
   "outputs": [],
   "source": [
    "def street(row):\n",
    "    address = row.split(', ')\n",
    "    return address[1]\n",
    "data['street'] = data['address'].apply(street)"
   ]
  },
  {
   "cell_type": "code",
   "execution_count": 34,
   "metadata": {},
   "outputs": [
    {
     "data": {
      "text/html": [
       "<div>\n",
       "<style scoped>\n",
       "    .dataframe tbody tr th:only-of-type {\n",
       "        vertical-align: middle;\n",
       "    }\n",
       "\n",
       "    .dataframe tbody tr th {\n",
       "        vertical-align: top;\n",
       "    }\n",
       "\n",
       "    .dataframe thead th {\n",
       "        text-align: right;\n",
       "    }\n",
       "</style>\n",
       "<table border=\"1\" class=\"dataframe\">\n",
       "  <thead>\n",
       "    <tr style=\"text-align: right;\">\n",
       "      <th></th>\n",
       "      <th>id</th>\n",
       "      <th>object_name</th>\n",
       "      <th>chain</th>\n",
       "      <th>object_type</th>\n",
       "      <th>address</th>\n",
       "      <th>number</th>\n",
       "      <th>street</th>\n",
       "    </tr>\n",
       "  </thead>\n",
       "  <tbody>\n",
       "    <tr>\n",
       "      <th>0</th>\n",
       "      <td>151635</td>\n",
       "      <td>СМЕТАНА</td>\n",
       "      <td>не сетевой</td>\n",
       "      <td>кафе</td>\n",
       "      <td>город Москва, улица Егора Абакумова, дом 9</td>\n",
       "      <td>48</td>\n",
       "      <td>улица Егора Абакумова</td>\n",
       "    </tr>\n",
       "    <tr>\n",
       "      <th>1</th>\n",
       "      <td>77874</td>\n",
       "      <td>Родник</td>\n",
       "      <td>не сетевой</td>\n",
       "      <td>кафе</td>\n",
       "      <td>город Москва, улица Талалихина, дом 2/1, корпус 1</td>\n",
       "      <td>35</td>\n",
       "      <td>улица Талалихина</td>\n",
       "    </tr>\n",
       "    <tr>\n",
       "      <th>2</th>\n",
       "      <td>24309</td>\n",
       "      <td>Кафе «Академия»</td>\n",
       "      <td>не сетевой</td>\n",
       "      <td>кафе</td>\n",
       "      <td>город Москва, Абельмановская улица, дом 6</td>\n",
       "      <td>95</td>\n",
       "      <td>Абельмановская улица</td>\n",
       "    </tr>\n",
       "    <tr>\n",
       "      <th>3</th>\n",
       "      <td>21894</td>\n",
       "      <td>ПИЦЦЕТОРИЯ</td>\n",
       "      <td>сетевой</td>\n",
       "      <td>кафе</td>\n",
       "      <td>город Москва, Абрамцевская улица, дом 1</td>\n",
       "      <td>40</td>\n",
       "      <td>Абрамцевская улица</td>\n",
       "    </tr>\n",
       "    <tr>\n",
       "      <th>4</th>\n",
       "      <td>119365</td>\n",
       "      <td>Кафе «Вишневая метель»</td>\n",
       "      <td>не сетевой</td>\n",
       "      <td>кафе</td>\n",
       "      <td>город Москва, Абрамцевская улица, дом 9, корпус 1</td>\n",
       "      <td>50</td>\n",
       "      <td>Абрамцевская улица</td>\n",
       "    </tr>\n",
       "    <tr>\n",
       "      <th>...</th>\n",
       "      <td>...</td>\n",
       "      <td>...</td>\n",
       "      <td>...</td>\n",
       "      <td>...</td>\n",
       "      <td>...</td>\n",
       "      <td>...</td>\n",
       "      <td>...</td>\n",
       "    </tr>\n",
       "    <tr>\n",
       "      <th>15361</th>\n",
       "      <td>208537</td>\n",
       "      <td>Шоколадница</td>\n",
       "      <td>сетевой</td>\n",
       "      <td>кафе</td>\n",
       "      <td>город Москва, 3-й Крутицкий переулок, дом 18</td>\n",
       "      <td>50</td>\n",
       "      <td>3-й Крутицкий переулок</td>\n",
       "    </tr>\n",
       "    <tr>\n",
       "      <th>15362</th>\n",
       "      <td>209264</td>\n",
       "      <td>Шоколадница</td>\n",
       "      <td>сетевой</td>\n",
       "      <td>кафе</td>\n",
       "      <td>город Москва, улица Земляной Вал, дом 33</td>\n",
       "      <td>10</td>\n",
       "      <td>улица Земляной Вал</td>\n",
       "    </tr>\n",
       "    <tr>\n",
       "      <th>15363</th>\n",
       "      <td>209186</td>\n",
       "      <td>Шоколадница</td>\n",
       "      <td>сетевой</td>\n",
       "      <td>кафе</td>\n",
       "      <td>город Москва, улица Земляной Вал, дом 33</td>\n",
       "      <td>20</td>\n",
       "      <td>улица Земляной Вал</td>\n",
       "    </tr>\n",
       "    <tr>\n",
       "      <th>15364</th>\n",
       "      <td>221900</td>\n",
       "      <td>Шоколадница</td>\n",
       "      <td>сетевой</td>\n",
       "      <td>кафе</td>\n",
       "      <td>город Москва, поселение Московский, Киевское ш...</td>\n",
       "      <td>36</td>\n",
       "      <td>поселение Московский</td>\n",
       "    </tr>\n",
       "    <tr>\n",
       "      <th>15365</th>\n",
       "      <td>222535</td>\n",
       "      <td>Шоколадница</td>\n",
       "      <td>сетевой</td>\n",
       "      <td>кафе</td>\n",
       "      <td>город Москва, Ходынский бульвар, дом 4</td>\n",
       "      <td>10</td>\n",
       "      <td>Ходынский бульвар</td>\n",
       "    </tr>\n",
       "  </tbody>\n",
       "</table>\n",
       "<p>15366 rows × 7 columns</p>\n",
       "</div>"
      ],
      "text/plain": [
       "           id             object_name       chain object_type  \\\n",
       "0      151635                 СМЕТАНА  не сетевой        кафе   \n",
       "1       77874                  Родник  не сетевой        кафе   \n",
       "2       24309         Кафе «Академия»  не сетевой        кафе   \n",
       "3       21894              ПИЦЦЕТОРИЯ     сетевой        кафе   \n",
       "4      119365  Кафе «Вишневая метель»  не сетевой        кафе   \n",
       "...       ...                     ...         ...         ...   \n",
       "15361  208537             Шоколадница     сетевой        кафе   \n",
       "15362  209264             Шоколадница     сетевой        кафе   \n",
       "15363  209186             Шоколадница     сетевой        кафе   \n",
       "15364  221900             Шоколадница     сетевой        кафе   \n",
       "15365  222535             Шоколадница     сетевой        кафе   \n",
       "\n",
       "                                                 address  number  \\\n",
       "0             город Москва, улица Егора Абакумова, дом 9      48   \n",
       "1      город Москва, улица Талалихина, дом 2/1, корпус 1      35   \n",
       "2              город Москва, Абельмановская улица, дом 6      95   \n",
       "3                город Москва, Абрамцевская улица, дом 1      40   \n",
       "4      город Москва, Абрамцевская улица, дом 9, корпус 1      50   \n",
       "...                                                  ...     ...   \n",
       "15361       город Москва, 3-й Крутицкий переулок, дом 18      50   \n",
       "15362           город Москва, улица Земляной Вал, дом 33      10   \n",
       "15363           город Москва, улица Земляной Вал, дом 33      20   \n",
       "15364  город Москва, поселение Московский, Киевское ш...      36   \n",
       "15365             город Москва, Ходынский бульвар, дом 4      10   \n",
       "\n",
       "                       street  \n",
       "0       улица Егора Абакумова  \n",
       "1            улица Талалихина  \n",
       "2        Абельмановская улица  \n",
       "3          Абрамцевская улица  \n",
       "4          Абрамцевская улица  \n",
       "...                       ...  \n",
       "15361  3-й Крутицкий переулок  \n",
       "15362      улица Земляной Вал  \n",
       "15363      улица Земляной Вал  \n",
       "15364    поселение Московский  \n",
       "15365       Ходынский бульвар  \n",
       "\n",
       "[15366 rows x 7 columns]"
      ]
     },
     "execution_count": 34,
     "metadata": {},
     "output_type": "execute_result"
    }
   ],
   "source": [
    "data"
   ]
  },
  {
   "cell_type": "markdown",
   "metadata": {},
   "source": [
    "Все получилось, новый столбец добавлен."
   ]
  },
  {
   "cell_type": "markdown",
   "metadata": {},
   "source": [
    "### Построение графика топ-10 улиц по количеству объектов общественного питания."
   ]
  },
  {
   "cell_type": "code",
   "execution_count": 35,
   "metadata": {},
   "outputs": [],
   "source": [
    "top10_street = data.query('street != [\"город Зеленоград\", \"поселение Сосенское\"]').groupby('street')['id'].count().reset_index().sort_values(by='id', ascending=False).head(10)"
   ]
  },
  {
   "cell_type": "code",
   "execution_count": 36,
   "metadata": {},
   "outputs": [
    {
     "data": {
      "text/html": [
       "<div>\n",
       "<style scoped>\n",
       "    .dataframe tbody tr th:only-of-type {\n",
       "        vertical-align: middle;\n",
       "    }\n",
       "\n",
       "    .dataframe tbody tr th {\n",
       "        vertical-align: top;\n",
       "    }\n",
       "\n",
       "    .dataframe thead th {\n",
       "        text-align: right;\n",
       "    }\n",
       "</style>\n",
       "<table border=\"1\" class=\"dataframe\">\n",
       "  <thead>\n",
       "    <tr style=\"text-align: right;\">\n",
       "      <th></th>\n",
       "      <th>street</th>\n",
       "      <th>id</th>\n",
       "    </tr>\n",
       "  </thead>\n",
       "  <tbody>\n",
       "    <tr>\n",
       "      <th>1450</th>\n",
       "      <td>проспект Мира</td>\n",
       "      <td>204</td>\n",
       "    </tr>\n",
       "    <tr>\n",
       "      <th>993</th>\n",
       "      <td>Профсоюзная улица</td>\n",
       "      <td>182</td>\n",
       "    </tr>\n",
       "    <tr>\n",
       "      <th>683</th>\n",
       "      <td>Ленинградский проспект</td>\n",
       "      <td>171</td>\n",
       "    </tr>\n",
       "    <tr>\n",
       "      <th>979</th>\n",
       "      <td>Пресненская набережная</td>\n",
       "      <td>167</td>\n",
       "    </tr>\n",
       "    <tr>\n",
       "      <th>407</th>\n",
       "      <td>Варшавское шоссе</td>\n",
       "      <td>161</td>\n",
       "    </tr>\n",
       "    <tr>\n",
       "      <th>686</th>\n",
       "      <td>Ленинский проспект</td>\n",
       "      <td>147</td>\n",
       "    </tr>\n",
       "    <tr>\n",
       "      <th>1447</th>\n",
       "      <td>проспект Вернадского</td>\n",
       "      <td>132</td>\n",
       "    </tr>\n",
       "    <tr>\n",
       "      <th>674</th>\n",
       "      <td>Кутузовский проспект</td>\n",
       "      <td>114</td>\n",
       "    </tr>\n",
       "    <tr>\n",
       "      <th>600</th>\n",
       "      <td>Каширское шоссе</td>\n",
       "      <td>112</td>\n",
       "    </tr>\n",
       "    <tr>\n",
       "      <th>605</th>\n",
       "      <td>Кировоградская улица</td>\n",
       "      <td>110</td>\n",
       "    </tr>\n",
       "  </tbody>\n",
       "</table>\n",
       "</div>"
      ],
      "text/plain": [
       "                      street   id\n",
       "1450           проспект Мира  204\n",
       "993        Профсоюзная улица  182\n",
       "683   Ленинградский проспект  171\n",
       "979   Пресненская набережная  167\n",
       "407         Варшавское шоссе  161\n",
       "686       Ленинский проспект  147\n",
       "1447    проспект Вернадского  132\n",
       "674     Кутузовский проспект  114\n",
       "600          Каширское шоссе  112\n",
       "605     Кировоградская улица  110"
      ]
     },
     "execution_count": 36,
     "metadata": {},
     "output_type": "execute_result"
    }
   ],
   "source": [
    "top10_street"
   ]
  },
  {
   "cell_type": "code",
   "execution_count": 37,
   "metadata": {},
   "outputs": [
    {
     "data": {
      "image/png": "[encoded data removed]",
      "text/plain": [
       "<Figure size 1080x576 with 1 Axes>"
      ]
     },
     "metadata": {
      "needs_background": "light"
     },
     "output_type": "display_data"
    }
   ],
   "source": [
    "plt.figure(figsize=(15, 8))\n",
    "sns.barplot(x='street',y='id',data=top10_street)\n",
    "plt.xticks(rotation=45)\n",
    "plt.title('Топ-10 улиц по количеству объектов общественного питания')\n",
    "plt.xlabel('Название улиц')\n",
    "plt.ylabel('Количество объектов');"
   ]
  },
  {
   "cell_type": "markdown",
   "metadata": {},
   "source": [
    "Наибольшее количество объектов общественного питания находятся на **проспекте Мира 204**, дальше идет **Профсоюзная улица 182** и **Ленинградский проспект 171**."
   ]
  },
  {
   "cell_type": "code",
   "execution_count": 38,
   "metadata": {},
   "outputs": [],
   "source": [
    "from io import BytesIO \n",
    "import requests \n",
    "file_name = 'https://docs.google.com/spreadsheets/d/1qwUHaLWPgrgYce__5Hc4oiaoE0osyq61FaImW6xQVFg/export?format=csv' \n",
    "r = requests.get(file_name) \n",
    "df = pd.read_csv(BytesIO(r.content)) "
   ]
  },
  {
   "cell_type": "code",
   "execution_count": 39,
   "metadata": {},
   "outputs": [
    {
     "data": {
      "text/html": [
       "<div>\n",
       "<style scoped>\n",
       "    .dataframe tbody tr th:only-of-type {\n",
       "        vertical-align: middle;\n",
       "    }\n",
       "\n",
       "    .dataframe tbody tr th {\n",
       "        vertical-align: top;\n",
       "    }\n",
       "\n",
       "    .dataframe thead th {\n",
       "        text-align: right;\n",
       "    }\n",
       "</style>\n",
       "<table border=\"1\" class=\"dataframe\">\n",
       "  <thead>\n",
       "    <tr style=\"text-align: right;\">\n",
       "      <th></th>\n",
       "      <th>streetname</th>\n",
       "      <th>areaid</th>\n",
       "      <th>okrug</th>\n",
       "      <th>area</th>\n",
       "    </tr>\n",
       "  </thead>\n",
       "  <tbody>\n",
       "    <tr>\n",
       "      <th>0</th>\n",
       "      <td>Выставочный переулок</td>\n",
       "      <td>17</td>\n",
       "      <td>ЦАО</td>\n",
       "      <td>Пресненский район</td>\n",
       "    </tr>\n",
       "    <tr>\n",
       "      <th>1</th>\n",
       "      <td>улица Гашека</td>\n",
       "      <td>17</td>\n",
       "      <td>ЦАО</td>\n",
       "      <td>Пресненский район</td>\n",
       "    </tr>\n",
       "    <tr>\n",
       "      <th>2</th>\n",
       "      <td>Большая Никитская улица</td>\n",
       "      <td>17</td>\n",
       "      <td>ЦАО</td>\n",
       "      <td>Пресненский район</td>\n",
       "    </tr>\n",
       "    <tr>\n",
       "      <th>3</th>\n",
       "      <td>Глубокий переулок</td>\n",
       "      <td>17</td>\n",
       "      <td>ЦАО</td>\n",
       "      <td>Пресненский район</td>\n",
       "    </tr>\n",
       "    <tr>\n",
       "      <th>4</th>\n",
       "      <td>Большой Гнездниковский переулок</td>\n",
       "      <td>17</td>\n",
       "      <td>ЦАО</td>\n",
       "      <td>Пресненский район</td>\n",
       "    </tr>\n",
       "    <tr>\n",
       "      <th>...</th>\n",
       "      <td>...</td>\n",
       "      <td>...</td>\n",
       "      <td>...</td>\n",
       "      <td>...</td>\n",
       "    </tr>\n",
       "    <tr>\n",
       "      <th>4393</th>\n",
       "      <td>Вознесенский проезд</td>\n",
       "      <td>17</td>\n",
       "      <td>ЦАО</td>\n",
       "      <td>Пресненский район</td>\n",
       "    </tr>\n",
       "    <tr>\n",
       "      <th>4394</th>\n",
       "      <td>Волков переулок</td>\n",
       "      <td>17</td>\n",
       "      <td>ЦАО</td>\n",
       "      <td>Пресненский район</td>\n",
       "    </tr>\n",
       "    <tr>\n",
       "      <th>4395</th>\n",
       "      <td>Поварская улица</td>\n",
       "      <td>17</td>\n",
       "      <td>ЦАО</td>\n",
       "      <td>Пресненский район</td>\n",
       "    </tr>\n",
       "    <tr>\n",
       "      <th>4396</th>\n",
       "      <td>Кудринская площадь</td>\n",
       "      <td>17</td>\n",
       "      <td>ЦАО</td>\n",
       "      <td>Пресненский район</td>\n",
       "    </tr>\n",
       "    <tr>\n",
       "      <th>4397</th>\n",
       "      <td>Вспольный переулок</td>\n",
       "      <td>17</td>\n",
       "      <td>ЦАО</td>\n",
       "      <td>Пресненский район</td>\n",
       "    </tr>\n",
       "  </tbody>\n",
       "</table>\n",
       "<p>4398 rows × 4 columns</p>\n",
       "</div>"
      ],
      "text/plain": [
       "                           streetname  areaid okrug               area\n",
       "0                Выставочный переулок      17   ЦАО  Пресненский район\n",
       "1                        улица Гашека      17   ЦАО  Пресненский район\n",
       "2             Большая Никитская улица      17   ЦАО  Пресненский район\n",
       "3                   Глубокий переулок      17   ЦАО  Пресненский район\n",
       "4     Большой Гнездниковский переулок      17   ЦАО  Пресненский район\n",
       "...                               ...     ...   ...                ...\n",
       "4393              Вознесенский проезд      17   ЦАО  Пресненский район\n",
       "4394                  Волков переулок      17   ЦАО  Пресненский район\n",
       "4395                  Поварская улица      17   ЦАО  Пресненский район\n",
       "4396               Кудринская площадь      17   ЦАО  Пресненский район\n",
       "4397               Вспольный переулок      17   ЦАО  Пресненский район\n",
       "\n",
       "[4398 rows x 4 columns]"
      ]
     },
     "execution_count": 39,
     "metadata": {},
     "output_type": "execute_result"
    }
   ],
   "source": [
    "df"
   ]
  },
  {
   "cell_type": "code",
   "execution_count": 40,
   "metadata": {},
   "outputs": [],
   "source": [
    "df = df.rename(columns=({'streetname':'street'})) #переименуем столбец по которому будем объедитять, чтобы он не задвоился"
   ]
  },
  {
   "cell_type": "code",
   "execution_count": 41,
   "metadata": {},
   "outputs": [],
   "source": [
    "top10_street_df = top10_street.merge(df, how = 'inner', left_on = 'street', right_on = 'street') "
   ]
  },
  {
   "cell_type": "code",
   "execution_count": 42,
   "metadata": {},
   "outputs": [
    {
     "data": {
      "text/html": [
       "<div>\n",
       "<style scoped>\n",
       "    .dataframe tbody tr th:only-of-type {\n",
       "        vertical-align: middle;\n",
       "    }\n",
       "\n",
       "    .dataframe tbody tr th {\n",
       "        vertical-align: top;\n",
       "    }\n",
       "\n",
       "    .dataframe thead th {\n",
       "        text-align: right;\n",
       "    }\n",
       "</style>\n",
       "<table border=\"1\" class=\"dataframe\">\n",
       "  <thead>\n",
       "    <tr style=\"text-align: right;\">\n",
       "      <th></th>\n",
       "      <th>street</th>\n",
       "      <th>id</th>\n",
       "      <th>areaid</th>\n",
       "      <th>okrug</th>\n",
       "      <th>area</th>\n",
       "    </tr>\n",
       "  </thead>\n",
       "  <tbody>\n",
       "    <tr>\n",
       "      <th>0</th>\n",
       "      <td>проспект Мира</td>\n",
       "      <td>204</td>\n",
       "      <td>70</td>\n",
       "      <td>СВАО</td>\n",
       "      <td>Алексеевский район</td>\n",
       "    </tr>\n",
       "    <tr>\n",
       "      <th>1</th>\n",
       "      <td>проспект Мира</td>\n",
       "      <td>204</td>\n",
       "      <td>86</td>\n",
       "      <td>СВАО</td>\n",
       "      <td>Ярославский Район</td>\n",
       "    </tr>\n",
       "    <tr>\n",
       "      <th>2</th>\n",
       "      <td>проспект Мира</td>\n",
       "      <td>204</td>\n",
       "      <td>78</td>\n",
       "      <td>СВАО</td>\n",
       "      <td>Район Марьина роща</td>\n",
       "    </tr>\n",
       "    <tr>\n",
       "      <th>3</th>\n",
       "      <td>проспект Мира</td>\n",
       "      <td>204</td>\n",
       "      <td>79</td>\n",
       "      <td>СВАО</td>\n",
       "      <td>Останкинский район</td>\n",
       "    </tr>\n",
       "    <tr>\n",
       "      <th>4</th>\n",
       "      <td>проспект Мира</td>\n",
       "      <td>204</td>\n",
       "      <td>81</td>\n",
       "      <td>СВАО</td>\n",
       "      <td>Район Ростокино</td>\n",
       "    </tr>\n",
       "    <tr>\n",
       "      <th>5</th>\n",
       "      <td>проспект Мира</td>\n",
       "      <td>204</td>\n",
       "      <td>82</td>\n",
       "      <td>СВАО</td>\n",
       "      <td>Район Свиблово</td>\n",
       "    </tr>\n",
       "    <tr>\n",
       "      <th>6</th>\n",
       "      <td>проспект Мира</td>\n",
       "      <td>204</td>\n",
       "      <td>16</td>\n",
       "      <td>ЦАО</td>\n",
       "      <td>Мещанский район</td>\n",
       "    </tr>\n",
       "    <tr>\n",
       "      <th>7</th>\n",
       "      <td>Профсоюзная улица</td>\n",
       "      <td>182</td>\n",
       "      <td>123</td>\n",
       "      <td>ЮЗАО</td>\n",
       "      <td>Академический район</td>\n",
       "    </tr>\n",
       "    <tr>\n",
       "      <th>8</th>\n",
       "      <td>Профсоюзная улица</td>\n",
       "      <td>182</td>\n",
       "      <td>132</td>\n",
       "      <td>ЮЗАО</td>\n",
       "      <td>Район Черемушки</td>\n",
       "    </tr>\n",
       "    <tr>\n",
       "      <th>9</th>\n",
       "      <td>Профсоюзная улица</td>\n",
       "      <td>182</td>\n",
       "      <td>134</td>\n",
       "      <td>ЮЗАО</td>\n",
       "      <td>Район Ясенево</td>\n",
       "    </tr>\n",
       "  </tbody>\n",
       "</table>\n",
       "</div>"
      ],
      "text/plain": [
       "              street   id  areaid okrug                 area\n",
       "0      проспект Мира  204      70  СВАО   Алексеевский район\n",
       "1      проспект Мира  204      86  СВАО    Ярославский Район\n",
       "2      проспект Мира  204      78  СВАО   Район Марьина роща\n",
       "3      проспект Мира  204      79  СВАО   Останкинский район\n",
       "4      проспект Мира  204      81  СВАО      Район Ростокино\n",
       "5      проспект Мира  204      82  СВАО       Район Свиблово\n",
       "6      проспект Мира  204      16   ЦАО      Мещанский район\n",
       "7  Профсоюзная улица  182     123  ЮЗАО  Академический район\n",
       "8  Профсоюзная улица  182     132  ЮЗАО      Район Черемушки\n",
       "9  Профсоюзная улица  182     134  ЮЗАО        Район Ясенево"
      ]
     },
     "execution_count": 42,
     "metadata": {},
     "output_type": "execute_result"
    }
   ],
   "source": [
    "top10_street_df.head(10)"
   ]
  },
  {
   "cell_type": "markdown",
   "metadata": {},
   "source": [
    "Одна улица находится в нескольких районах, поэтому получилось много дубликатов, удалим их."
   ]
  },
  {
   "cell_type": "code",
   "execution_count": 43,
   "metadata": {},
   "outputs": [],
   "source": [
    "top10_street_df = top10_street_df.drop_duplicates(subset=['id'])"
   ]
  },
  {
   "cell_type": "code",
   "execution_count": 44,
   "metadata": {},
   "outputs": [
    {
     "data": {
      "text/html": [
       "<div>\n",
       "<style scoped>\n",
       "    .dataframe tbody tr th:only-of-type {\n",
       "        vertical-align: middle;\n",
       "    }\n",
       "\n",
       "    .dataframe tbody tr th {\n",
       "        vertical-align: top;\n",
       "    }\n",
       "\n",
       "    .dataframe thead th {\n",
       "        text-align: right;\n",
       "    }\n",
       "</style>\n",
       "<table border=\"1\" class=\"dataframe\">\n",
       "  <thead>\n",
       "    <tr style=\"text-align: right;\">\n",
       "      <th></th>\n",
       "      <th>street</th>\n",
       "      <th>id</th>\n",
       "      <th>areaid</th>\n",
       "      <th>okrug</th>\n",
       "      <th>area</th>\n",
       "    </tr>\n",
       "  </thead>\n",
       "  <tbody>\n",
       "    <tr>\n",
       "      <th>0</th>\n",
       "      <td>проспект Мира</td>\n",
       "      <td>204</td>\n",
       "      <td>70</td>\n",
       "      <td>СВАО</td>\n",
       "      <td>Алексеевский район</td>\n",
       "    </tr>\n",
       "    <tr>\n",
       "      <th>7</th>\n",
       "      <td>Профсоюзная улица</td>\n",
       "      <td>182</td>\n",
       "      <td>123</td>\n",
       "      <td>ЮЗАО</td>\n",
       "      <td>Академический район</td>\n",
       "    </tr>\n",
       "    <tr>\n",
       "      <th>13</th>\n",
       "      <td>Ленинградский проспект</td>\n",
       "      <td>171</td>\n",
       "      <td>54</td>\n",
       "      <td>САО</td>\n",
       "      <td>Район Аэропорт</td>\n",
       "    </tr>\n",
       "    <tr>\n",
       "      <th>17</th>\n",
       "      <td>Пресненская набережная</td>\n",
       "      <td>167</td>\n",
       "      <td>17</td>\n",
       "      <td>ЦАО</td>\n",
       "      <td>Пресненский район</td>\n",
       "    </tr>\n",
       "    <tr>\n",
       "      <th>18</th>\n",
       "      <td>Варшавское шоссе</td>\n",
       "      <td>161</td>\n",
       "      <td>109</td>\n",
       "      <td>ЮАО</td>\n",
       "      <td>Район Чертаново Центральное</td>\n",
       "    </tr>\n",
       "    <tr>\n",
       "      <th>26</th>\n",
       "      <td>Ленинский проспект</td>\n",
       "      <td>147</td>\n",
       "      <td>44</td>\n",
       "      <td>ЗАО</td>\n",
       "      <td>Район Проспект Вернадского</td>\n",
       "    </tr>\n",
       "    <tr>\n",
       "      <th>34</th>\n",
       "      <td>проспект Вернадского</td>\n",
       "      <td>132</td>\n",
       "      <td>44</td>\n",
       "      <td>ЗАО</td>\n",
       "      <td>Район Проспект Вернадского</td>\n",
       "    </tr>\n",
       "    <tr>\n",
       "      <th>39</th>\n",
       "      <td>Кутузовский проспект</td>\n",
       "      <td>114</td>\n",
       "      <td>38</td>\n",
       "      <td>ЗАО</td>\n",
       "      <td>Район Дорогомилово</td>\n",
       "    </tr>\n",
       "    <tr>\n",
       "      <th>41</th>\n",
       "      <td>Каширское шоссе</td>\n",
       "      <td>112</td>\n",
       "      <td>101</td>\n",
       "      <td>ЮАО</td>\n",
       "      <td>Район Москворечье-Сабурово</td>\n",
       "    </tr>\n",
       "    <tr>\n",
       "      <th>45</th>\n",
       "      <td>Кировоградская улица</td>\n",
       "      <td>110</td>\n",
       "      <td>109</td>\n",
       "      <td>ЮАО</td>\n",
       "      <td>Район Чертаново Центральное</td>\n",
       "    </tr>\n",
       "  </tbody>\n",
       "</table>\n",
       "</div>"
      ],
      "text/plain": [
       "                    street   id  areaid okrug                         area\n",
       "0            проспект Мира  204      70  СВАО           Алексеевский район\n",
       "7        Профсоюзная улица  182     123  ЮЗАО          Академический район\n",
       "13  Ленинградский проспект  171      54   САО               Район Аэропорт\n",
       "17  Пресненская набережная  167      17   ЦАО            Пресненский район\n",
       "18        Варшавское шоссе  161     109   ЮАО  Район Чертаново Центральное\n",
       "26      Ленинский проспект  147      44   ЗАО   Район Проспект Вернадского\n",
       "34    проспект Вернадского  132      44   ЗАО   Район Проспект Вернадского\n",
       "39    Кутузовский проспект  114      38   ЗАО           Район Дорогомилово\n",
       "41         Каширское шоссе  112     101   ЮАО   Район Москворечье-Сабурово\n",
       "45    Кировоградская улица  110     109   ЮАО  Район Чертаново Центральное"
      ]
     },
     "execution_count": 44,
     "metadata": {},
     "output_type": "execute_result"
    }
   ],
   "source": [
    "top10_street_df"
   ]
  },
  {
   "cell_type": "markdown",
   "metadata": {},
   "source": [
    "Наибольшее количество обектов общественного пиания находятся **Алексеевском районе** через который проходит **проспект Мира**,  **204** объекта, проспект проходит мимо ВДНХ там большой туристический поток, одна из главных магистралей Москвы. Далее идет **Академический район**, с **182** объектами общественного пиания, через который проходит **Профсоюзная улица**, так же одна из главнейших магистралей города на которой находятся торговые центры и учебные заведения. И немного отстает **Ленинградский проспект** с **171** объектам общественного пиания."
   ]
  },
  {
   "cell_type": "markdown",
   "metadata": {},
   "source": [
    "### Топ районов Москвы с улицами, с одним объектом общественного питания."
   ]
  },
  {
   "cell_type": "markdown",
   "metadata": {},
   "source": [
    "Составим список улиц с одним объектом общественного питания."
   ]
  },
  {
   "cell_type": "code",
   "execution_count": 45,
   "metadata": {},
   "outputs": [],
   "source": [
    "top_street = data.query('street != [\"город Зеленоград\", \"поселение Сосенское\"]').groupby('street')['id'].count().reset_index().sort_values(by='id', ascending=True)"
   ]
  },
  {
   "cell_type": "code",
   "execution_count": 46,
   "metadata": {},
   "outputs": [],
   "source": [
    "top_street = top_street.query('id == 1')"
   ]
  },
  {
   "cell_type": "code",
   "execution_count": 47,
   "metadata": {},
   "outputs": [
    {
     "data": {
      "text/html": [
       "<div>\n",
       "<style scoped>\n",
       "    .dataframe tbody tr th:only-of-type {\n",
       "        vertical-align: middle;\n",
       "    }\n",
       "\n",
       "    .dataframe tbody tr th {\n",
       "        vertical-align: top;\n",
       "    }\n",
       "\n",
       "    .dataframe thead th {\n",
       "        text-align: right;\n",
       "    }\n",
       "</style>\n",
       "<table border=\"1\" class=\"dataframe\">\n",
       "  <thead>\n",
       "    <tr style=\"text-align: right;\">\n",
       "      <th></th>\n",
       "      <th>street</th>\n",
       "      <th>id</th>\n",
       "    </tr>\n",
       "  </thead>\n",
       "  <tbody>\n",
       "    <tr>\n",
       "      <th>1466</th>\n",
       "      <td>улица Айвазовского</td>\n",
       "      <td>1</td>\n",
       "    </tr>\n",
       "    <tr>\n",
       "      <th>1490</th>\n",
       "      <td>улица Алексея Дикого</td>\n",
       "      <td>1</td>\n",
       "    </tr>\n",
       "    <tr>\n",
       "      <th>759</th>\n",
       "      <td>Малый Толмачёвский переулок</td>\n",
       "      <td>1</td>\n",
       "    </tr>\n",
       "    <tr>\n",
       "      <th>434</th>\n",
       "      <td>Волоцкой переулок</td>\n",
       "      <td>1</td>\n",
       "    </tr>\n",
       "    <tr>\n",
       "      <th>1484</th>\n",
       "      <td>улица Академика Семёнова</td>\n",
       "      <td>1</td>\n",
       "    </tr>\n",
       "    <tr>\n",
       "      <th>...</th>\n",
       "      <td>...</td>\n",
       "      <td>...</td>\n",
       "    </tr>\n",
       "    <tr>\n",
       "      <th>1660</th>\n",
       "      <td>улица Крутицкий Вал</td>\n",
       "      <td>1</td>\n",
       "    </tr>\n",
       "    <tr>\n",
       "      <th>204</th>\n",
       "      <td>5-й Рощинский проезд</td>\n",
       "      <td>1</td>\n",
       "    </tr>\n",
       "    <tr>\n",
       "      <th>1056</th>\n",
       "      <td>Северодвинская улица</td>\n",
       "      <td>1</td>\n",
       "    </tr>\n",
       "    <tr>\n",
       "      <th>1663</th>\n",
       "      <td>улица Кубинка</td>\n",
       "      <td>1</td>\n",
       "    </tr>\n",
       "    <tr>\n",
       "      <th>267</th>\n",
       "      <td>Архангельский переулок</td>\n",
       "      <td>1</td>\n",
       "    </tr>\n",
       "  </tbody>\n",
       "</table>\n",
       "<p>579 rows × 2 columns</p>\n",
       "</div>"
      ],
      "text/plain": [
       "                           street  id\n",
       "1466           улица Айвазовского   1\n",
       "1490         улица Алексея Дикого   1\n",
       "759   Малый Толмачёвский переулок   1\n",
       "434             Волоцкой переулок   1\n",
       "1484     улица Академика Семёнова   1\n",
       "...                           ...  ..\n",
       "1660          улица Крутицкий Вал   1\n",
       "204          5-й Рощинский проезд   1\n",
       "1056         Северодвинская улица   1\n",
       "1663                улица Кубинка   1\n",
       "267        Архангельский переулок   1\n",
       "\n",
       "[579 rows x 2 columns]"
      ]
     },
     "execution_count": 47,
     "metadata": {},
     "output_type": "execute_result"
    }
   ],
   "source": [
    "top_street"
   ]
  },
  {
   "cell_type": "markdown",
   "metadata": {},
   "source": [
    "Получили **579** улиц на которых находятся по одному объекту общественного питания."
   ]
  },
  {
   "cell_type": "code",
   "execution_count": 48,
   "metadata": {},
   "outputs": [],
   "source": [
    "top_street_df = top_street.merge(df, how = 'inner', left_on = 'street', right_on = 'street')"
   ]
  },
  {
   "cell_type": "code",
   "execution_count": 49,
   "metadata": {},
   "outputs": [
    {
     "data": {
      "text/html": [
       "<div>\n",
       "<style scoped>\n",
       "    .dataframe tbody tr th:only-of-type {\n",
       "        vertical-align: middle;\n",
       "    }\n",
       "\n",
       "    .dataframe tbody tr th {\n",
       "        vertical-align: top;\n",
       "    }\n",
       "\n",
       "    .dataframe thead th {\n",
       "        text-align: right;\n",
       "    }\n",
       "</style>\n",
       "<table border=\"1\" class=\"dataframe\">\n",
       "  <thead>\n",
       "    <tr style=\"text-align: right;\">\n",
       "      <th></th>\n",
       "      <th>area</th>\n",
       "      <th>id</th>\n",
       "    </tr>\n",
       "  </thead>\n",
       "  <tbody>\n",
       "    <tr>\n",
       "      <th>93</th>\n",
       "      <td>Таганский район</td>\n",
       "      <td>27</td>\n",
       "    </tr>\n",
       "    <tr>\n",
       "      <th>79</th>\n",
       "      <td>Район Хамовники</td>\n",
       "      <td>26</td>\n",
       "    </tr>\n",
       "    <tr>\n",
       "      <th>3</th>\n",
       "      <td>Басманный район</td>\n",
       "      <td>25</td>\n",
       "    </tr>\n",
       "    <tr>\n",
       "      <th>94</th>\n",
       "      <td>Тверской район</td>\n",
       "      <td>20</td>\n",
       "    </tr>\n",
       "    <tr>\n",
       "      <th>20</th>\n",
       "      <td>Пресненский район</td>\n",
       "      <td>19</td>\n",
       "    </tr>\n",
       "    <tr>\n",
       "      <th>49</th>\n",
       "      <td>Район Марьина роща</td>\n",
       "      <td>18</td>\n",
       "    </tr>\n",
       "    <tr>\n",
       "      <th>21</th>\n",
       "      <td>Район Арбат</td>\n",
       "      <td>17</td>\n",
       "    </tr>\n",
       "    <tr>\n",
       "      <th>13</th>\n",
       "      <td>Мещанский район</td>\n",
       "      <td>16</td>\n",
       "    </tr>\n",
       "    <tr>\n",
       "      <th>73</th>\n",
       "      <td>Район Сокольники</td>\n",
       "      <td>15</td>\n",
       "    </tr>\n",
       "    <tr>\n",
       "      <th>33</th>\n",
       "      <td>Район Замоскворечье</td>\n",
       "      <td>14</td>\n",
       "    </tr>\n",
       "  </tbody>\n",
       "</table>\n",
       "</div>"
      ],
      "text/plain": [
       "                   area  id\n",
       "93      Таганский район  27\n",
       "79      Район Хамовники  26\n",
       "3       Басманный район  25\n",
       "94       Тверской район  20\n",
       "20    Пресненский район  19\n",
       "49   Район Марьина роща  18\n",
       "21          Район Арбат  17\n",
       "13      Мещанский район  16\n",
       "73     Район Сокольники  15\n",
       "33  Район Замоскворечье  14"
      ]
     },
     "execution_count": 49,
     "metadata": {},
     "output_type": "execute_result"
    }
   ],
   "source": [
    "top_street_df.groupby('area')['id'].count().reset_index().sort_values(by='id', ascending=False).head(10)"
   ]
  },
  {
   "cell_type": "markdown",
   "metadata": {},
   "source": [
    "В **Таганском районе 27** улиц с одним объектом общественного питания, далее идет **Район Хамовники** с 26 улицами и **Басманный район** с **25** улицами."
   ]
  },
  {
   "cell_type": "markdown",
   "metadata": {},
   "source": [
    "### Распределение количества посадочных мест для улиц с большим количеством объектов общественного питания. "
   ]
  },
  {
   "cell_type": "markdown",
   "metadata": {},
   "source": [
    "Составим DF где будут объекты общественного питания на ходящиеся на улицах из топ 10."
   ]
  },
  {
   "cell_type": "code",
   "execution_count": 50,
   "metadata": {},
   "outputs": [],
   "source": [
    "top10_street = top10_street['street'].to_list()"
   ]
  },
  {
   "cell_type": "code",
   "execution_count": 51,
   "metadata": {},
   "outputs": [],
   "source": [
    "top = data.query('street in @top10_street') "
   ]
  },
  {
   "cell_type": "code",
   "execution_count": 52,
   "metadata": {},
   "outputs": [
    {
     "data": {
      "text/html": [
       "<div>\n",
       "<style scoped>\n",
       "    .dataframe tbody tr th:only-of-type {\n",
       "        vertical-align: middle;\n",
       "    }\n",
       "\n",
       "    .dataframe tbody tr th {\n",
       "        vertical-align: top;\n",
       "    }\n",
       "\n",
       "    .dataframe thead th {\n",
       "        text-align: right;\n",
       "    }\n",
       "</style>\n",
       "<table border=\"1\" class=\"dataframe\">\n",
       "  <thead>\n",
       "    <tr style=\"text-align: right;\">\n",
       "      <th></th>\n",
       "      <th>id</th>\n",
       "      <th>object_name</th>\n",
       "      <th>chain</th>\n",
       "      <th>object_type</th>\n",
       "      <th>address</th>\n",
       "      <th>number</th>\n",
       "      <th>street</th>\n",
       "    </tr>\n",
       "  </thead>\n",
       "  <tbody>\n",
       "    <tr>\n",
       "      <th>151</th>\n",
       "      <td>155973</td>\n",
       "      <td>Кафе «Андерсон»</td>\n",
       "      <td>сетевой</td>\n",
       "      <td>кафе</td>\n",
       "      <td>город Москва, Варшавское шоссе, дом 2</td>\n",
       "      <td>150</td>\n",
       "      <td>Варшавское шоссе</td>\n",
       "    </tr>\n",
       "    <tr>\n",
       "      <th>152</th>\n",
       "      <td>23618</td>\n",
       "      <td>Кафе «Subway»</td>\n",
       "      <td>сетевой</td>\n",
       "      <td>кафе</td>\n",
       "      <td>город Москва, Варшавское шоссе, дом 7, корпус 1</td>\n",
       "      <td>36</td>\n",
       "      <td>Варшавское шоссе</td>\n",
       "    </tr>\n",
       "    <tr>\n",
       "      <th>153</th>\n",
       "      <td>155852</td>\n",
       "      <td>Кафе «Ламаджо»</td>\n",
       "      <td>не сетевой</td>\n",
       "      <td>кафе</td>\n",
       "      <td>город Москва, Варшавское шоссе, дом 29</td>\n",
       "      <td>30</td>\n",
       "      <td>Варшавское шоссе</td>\n",
       "    </tr>\n",
       "    <tr>\n",
       "      <th>154</th>\n",
       "      <td>152556</td>\n",
       "      <td>Шаурма в пите</td>\n",
       "      <td>не сетевой</td>\n",
       "      <td>фастфуд</td>\n",
       "      <td>город Москва, Варшавское шоссе, дом 72, корпус 2</td>\n",
       "      <td>0</td>\n",
       "      <td>Варшавское шоссе</td>\n",
       "    </tr>\n",
       "    <tr>\n",
       "      <th>155</th>\n",
       "      <td>120658</td>\n",
       "      <td>Выпечка</td>\n",
       "      <td>не сетевой</td>\n",
       "      <td>кафетерий</td>\n",
       "      <td>город Москва, Варшавское шоссе, дом 100</td>\n",
       "      <td>2</td>\n",
       "      <td>Варшавское шоссе</td>\n",
       "    </tr>\n",
       "    <tr>\n",
       "      <th>...</th>\n",
       "      <td>...</td>\n",
       "      <td>...</td>\n",
       "      <td>...</td>\n",
       "      <td>...</td>\n",
       "      <td>...</td>\n",
       "      <td>...</td>\n",
       "      <td>...</td>\n",
       "    </tr>\n",
       "    <tr>\n",
       "      <th>15308</th>\n",
       "      <td>213629</td>\n",
       "      <td>ДОДО пицца</td>\n",
       "      <td>сетевой</td>\n",
       "      <td>кафе</td>\n",
       "      <td>город Москва, Пресненская набережная, дом 12</td>\n",
       "      <td>25</td>\n",
       "      <td>Пресненская набережная</td>\n",
       "    </tr>\n",
       "    <tr>\n",
       "      <th>15325</th>\n",
       "      <td>198436</td>\n",
       "      <td>Милти</td>\n",
       "      <td>сетевой</td>\n",
       "      <td>фастфуд</td>\n",
       "      <td>город Москва, Ленинградский проспект, дом 80, ...</td>\n",
       "      <td>0</td>\n",
       "      <td>Ленинградский проспект</td>\n",
       "    </tr>\n",
       "    <tr>\n",
       "      <th>15347</th>\n",
       "      <td>222491</td>\n",
       "      <td>Кальянная «Мята Lounge»</td>\n",
       "      <td>сетевой</td>\n",
       "      <td>кафе</td>\n",
       "      <td>город Москва, Профсоюзная улица, дом 142, корп...</td>\n",
       "      <td>40</td>\n",
       "      <td>Профсоюзная улица</td>\n",
       "    </tr>\n",
       "    <tr>\n",
       "      <th>15350</th>\n",
       "      <td>213061</td>\n",
       "      <td>Мята</td>\n",
       "      <td>сетевой</td>\n",
       "      <td>кафетерий</td>\n",
       "      <td>город Москва, Каширское шоссе, дом 96, корпус 1</td>\n",
       "      <td>35</td>\n",
       "      <td>Каширское шоссе</td>\n",
       "    </tr>\n",
       "    <tr>\n",
       "      <th>15358</th>\n",
       "      <td>213724</td>\n",
       "      <td>Шоколадница</td>\n",
       "      <td>сетевой</td>\n",
       "      <td>кафе</td>\n",
       "      <td>город Москва, Варшавское шоссе, дом 87Б</td>\n",
       "      <td>54</td>\n",
       "      <td>Варшавское шоссе</td>\n",
       "    </tr>\n",
       "  </tbody>\n",
       "</table>\n",
       "<p>1500 rows × 7 columns</p>\n",
       "</div>"
      ],
      "text/plain": [
       "           id              object_name       chain object_type  \\\n",
       "151    155973          Кафе «Андерсон»     сетевой        кафе   \n",
       "152     23618            Кафе «Subway»     сетевой        кафе   \n",
       "153    155852           Кафе «Ламаджо»  не сетевой        кафе   \n",
       "154    152556            Шаурма в пите  не сетевой     фастфуд   \n",
       "155    120658                  Выпечка  не сетевой   кафетерий   \n",
       "...       ...                      ...         ...         ...   \n",
       "15308  213629               ДОДО пицца     сетевой        кафе   \n",
       "15325  198436                    Милти     сетевой     фастфуд   \n",
       "15347  222491  Кальянная «Мята Lounge»     сетевой        кафе   \n",
       "15350  213061                     Мята     сетевой   кафетерий   \n",
       "15358  213724              Шоколадница     сетевой        кафе   \n",
       "\n",
       "                                                 address  number  \\\n",
       "151                город Москва, Варшавское шоссе, дом 2     150   \n",
       "152      город Москва, Варшавское шоссе, дом 7, корпус 1      36   \n",
       "153               город Москва, Варшавское шоссе, дом 29      30   \n",
       "154     город Москва, Варшавское шоссе, дом 72, корпус 2       0   \n",
       "155              город Москва, Варшавское шоссе, дом 100       2   \n",
       "...                                                  ...     ...   \n",
       "15308       город Москва, Пресненская набережная, дом 12      25   \n",
       "15325  город Москва, Ленинградский проспект, дом 80, ...       0   \n",
       "15347  город Москва, Профсоюзная улица, дом 142, корп...      40   \n",
       "15350    город Москва, Каширское шоссе, дом 96, корпус 1      35   \n",
       "15358            город Москва, Варшавское шоссе, дом 87Б      54   \n",
       "\n",
       "                       street  \n",
       "151          Варшавское шоссе  \n",
       "152          Варшавское шоссе  \n",
       "153          Варшавское шоссе  \n",
       "154          Варшавское шоссе  \n",
       "155          Варшавское шоссе  \n",
       "...                       ...  \n",
       "15308  Пресненская набережная  \n",
       "15325  Ленинградский проспект  \n",
       "15347       Профсоюзная улица  \n",
       "15350         Каширское шоссе  \n",
       "15358        Варшавское шоссе  \n",
       "\n",
       "[1500 rows x 7 columns]"
      ]
     },
     "execution_count": 52,
     "metadata": {},
     "output_type": "execute_result"
    }
   ],
   "source": [
    "top"
   ]
  },
  {
   "cell_type": "markdown",
   "metadata": {},
   "source": [
    "Получили DF."
   ]
  },
  {
   "cell_type": "code",
   "execution_count": 53,
   "metadata": {},
   "outputs": [
    {
     "data": {
      "image/png": "[encoded data removed]",
      "text/plain": [
       "<Figure size 1080x576 with 1 Axes>"
      ]
     },
     "metadata": {
      "needs_background": "light"
     },
     "output_type": "display_data"
    }
   ],
   "source": [
    "plt.figure(figsize=(15, 8))\n",
    "sns.boxplot(x='street',y='number',data=top)\n",
    "plt.ylim(-10,450)\n",
    "plt.xticks(rotation=45)\n",
    "plt.title('Распределение количества посадочных мест по улицам')\n",
    "plt.xlabel('Название улиц')\n",
    "plt.ylabel('Количество посадочных мест');"
   ]
  },
  {
   "cell_type": "code",
   "execution_count": 54,
   "metadata": {},
   "outputs": [
    {
     "data": {
      "text/plain": [
       "count    1500.000000\n",
       "mean       58.020667\n",
       "std        90.058384\n",
       "min         0.000000\n",
       "25%        12.000000\n",
       "50%        40.000000\n",
       "75%        75.000000\n",
       "max      1700.000000\n",
       "Name: number, dtype: float64"
      ]
     },
     "execution_count": 54,
     "metadata": {},
     "output_type": "execute_result"
    }
   ],
   "source": [
    "top['number'].describe()"
   ]
  },
  {
   "cell_type": "markdown",
   "metadata": {},
   "source": [
    "Среднее количество посадочных мест для улиц с большим количеством объектов общественного питания - **55**, медианное значение - **32**. Преобладают завдения с небольшим количеством мест **10-60**, объектов на большее число мест **60-120** меньше."
   ]
  },
  {
   "cell_type": "markdown",
   "metadata": {},
   "source": [
    "## Вывод"
   ]
  },
  {
   "cell_type": "markdown",
   "metadata": {},
   "source": [
    "Сделаем выводы о виде заведения, количестве посадочных мест, а также районе расположения. \n",
    "\n",
    "Мы выяснили, что наибольшее количество типов объектов общественного притания составляют кафе 40%, столовые 17%, рестораны 15%, общепит 13% и бары 6%.\n",
    "\n",
    "При этом сетевых заведений лишь 20% от общего количества, остальные - несетевые.\n",
    "Сетевое распространение характерно для предприятий быстрого обслуживания (41% заведений данного типа). В меньше мере оно характерно для магазинов (29% заведений), ресторанов (24% заведений) и кафе (23% заведений). Как правило для сетевых заведений характерно - мало заведений с большим количеством посадочных мест. В 90% сетей не больше 130 посадочных мест и 6 заведений в среднем.\n",
    "\n",
    "**Среднее количество посадочных мест по типам объектов общественного питания:**\n",
    "\n",
    "* столовая 103\n",
    "* ресторан 97\n",
    "* буфет 51\n",
    "* бар 43\n",
    "* кафе 40\n",
    "\n",
    "Как мы видим, именно у типов объекта СТОЛОВАЯ наибольшее количество посадочных мест - в среднем 103!\n",
    "\n",
    "**Топ-10 улиц с наибольшим количеством заведений:**\n",
    "* Проспект Мира 204\n",
    "* Профсоюзная улица 182\n",
    "* Ленинградский проспект 171\n",
    "* Пресненская набережная 167\n",
    "* Варшавское шоссе 161\n",
    "* Ленинский проспект 147\n",
    "* проспект Вернадского 132\n",
    "* Кутузовский проспект\t114\n",
    "* Каширское шоссе\t112\n",
    "* Кировоградская улица 110\n",
    "\n",
    "Так же у нас есть список районов, в которых располагаются топ-10 улиц по кол-ву объектов общественного питания. Всего улиц с одним объектом общественного питания **579**.\n",
    "\n",
    "**Рекомендации**\n",
    "\n",
    "На рынке более популярны кафе (предполагаем, что раз их больше, то они более популярны, но не факт), потому именно такой тип заведения и рекомендовать со средним количеством посадочных мест на 40 персон. Касаемо района и улиц, то предполагаем что объект лучше размещать на одной из топ-10 улиц, ведь не спроста на этих улицах наибольшее количество объектов. Но эта логика тоже не совсем точна, так как все-таки самое важное - это проходимость объекта, преобладающая каста людей в радиусе в зависимости от портрета клиента. Непонятно, в какие сроки инвесторы хотят отбить свои первоначальные вложения. Как правило рестораны отбиваются дольше. Так же необходимо понимать, что с выбором места размещения объекта есть множество нюансов, например, если инвесторы всё-таки склонятся к меньшим затратам и более быстрой окупаемости, то возможно выберут тип объекта - столовую с не столь большими вложениями, оформленную необычным способом. "
   ]
  },
  {
   "cell_type": "code",
   "execution_count": null,
   "metadata": {},
   "outputs": [],
   "source": []
  }
 ],
 "metadata": {
  "ExecuteTimeLog": [
   {
    "duration": 1642,
    "start_time": "2022-04-14T09:54:51.956Z"
   },
   {
    "duration": 55,
    "start_time": "2022-04-14T09:55:13.122Z"
   },
   {
    "duration": 16,
    "start_time": "2022-04-14T09:55:19.994Z"
   },
   {
    "duration": 20,
    "start_time": "2022-04-14T09:55:36.205Z"
   },
   {
    "duration": 9,
    "start_time": "2022-04-14T09:56:20.808Z"
   },
   {
    "duration": 7,
    "start_time": "2022-04-14T09:56:32.534Z"
   },
   {
    "duration": 108,
    "start_time": "2022-04-14T09:56:40.210Z"
   },
   {
    "duration": 5,
    "start_time": "2022-04-14T09:56:52.265Z"
   },
   {
    "duration": 16,
    "start_time": "2022-04-14T10:02:06.718Z"
   },
   {
    "duration": 15,
    "start_time": "2022-04-14T10:02:28.846Z"
   },
   {
    "duration": 5,
    "start_time": "2022-04-14T10:02:54.764Z"
   },
   {
    "duration": 9,
    "start_time": "2022-04-14T10:03:19.601Z"
   },
   {
    "duration": 20,
    "start_time": "2022-04-14T10:03:32.907Z"
   },
   {
    "duration": 17,
    "start_time": "2022-04-14T10:03:38.604Z"
   },
   {
    "duration": 7,
    "start_time": "2022-04-14T10:05:15.344Z"
   },
   {
    "duration": 7,
    "start_time": "2022-04-14T10:05:56.939Z"
   },
   {
    "duration": 8,
    "start_time": "2022-04-14T10:06:05.155Z"
   },
   {
    "duration": 5,
    "start_time": "2022-04-14T10:07:18.629Z"
   },
   {
    "duration": 13,
    "start_time": "2022-04-14T10:10:47.829Z"
   },
   {
    "duration": 6,
    "start_time": "2022-04-14T10:11:02.485Z"
   },
   {
    "duration": 7,
    "start_time": "2022-04-14T10:27:13.467Z"
   },
   {
    "duration": 8,
    "start_time": "2022-04-14T10:34:17.541Z"
   },
   {
    "duration": 5,
    "start_time": "2022-04-14T10:34:22.873Z"
   },
   {
    "duration": 4,
    "start_time": "2022-04-14T10:34:27.200Z"
   },
   {
    "duration": 11,
    "start_time": "2022-04-14T10:35:00.142Z"
   },
   {
    "duration": 9,
    "start_time": "2022-04-14T10:35:05.416Z"
   },
   {
    "duration": 9,
    "start_time": "2022-04-14T10:35:09.730Z"
   },
   {
    "duration": 11,
    "start_time": "2022-04-14T10:40:50.436Z"
   },
   {
    "duration": 4,
    "start_time": "2022-04-14T10:41:46.379Z"
   },
   {
    "duration": 4,
    "start_time": "2022-04-14T10:41:48.707Z"
   },
   {
    "duration": 7,
    "start_time": "2022-04-14T10:45:24.515Z"
   },
   {
    "duration": 7,
    "start_time": "2022-04-14T10:47:03.797Z"
   },
   {
    "duration": 8,
    "start_time": "2022-04-14T10:47:14.596Z"
   },
   {
    "duration": 418,
    "start_time": "2022-04-14T10:47:42.120Z"
   },
   {
    "duration": 448,
    "start_time": "2022-04-14T10:48:03.627Z"
   },
   {
    "duration": 479,
    "start_time": "2022-04-14T10:48:55.596Z"
   },
   {
    "duration": 478,
    "start_time": "2022-04-14T10:49:03.446Z"
   },
   {
    "duration": 465,
    "start_time": "2022-04-14T10:49:16.395Z"
   },
   {
    "duration": 448,
    "start_time": "2022-04-14T10:53:45.242Z"
   },
   {
    "duration": 477,
    "start_time": "2022-04-14T11:03:44.627Z"
   },
   {
    "duration": 528,
    "start_time": "2022-04-14T11:06:51.722Z"
   },
   {
    "duration": 20,
    "start_time": "2022-04-14T11:08:48.951Z"
   },
   {
    "duration": 217,
    "start_time": "2022-04-14T11:08:57.625Z"
   },
   {
    "duration": 209,
    "start_time": "2022-04-14T11:09:52.460Z"
   },
   {
    "duration": 6,
    "start_time": "2022-04-14T11:15:49.935Z"
   },
   {
    "duration": 5,
    "start_time": "2022-04-14T11:16:00.390Z"
   },
   {
    "duration": 229,
    "start_time": "2022-04-14T11:16:03.799Z"
   },
   {
    "duration": 11,
    "start_time": "2022-04-14T11:16:30.605Z"
   },
   {
    "duration": 207,
    "start_time": "2022-04-14T11:16:32.990Z"
   },
   {
    "duration": 10,
    "start_time": "2022-04-14T11:17:23.246Z"
   },
   {
    "duration": 231,
    "start_time": "2022-04-14T11:17:56.405Z"
   },
   {
    "duration": 210,
    "start_time": "2022-04-14T11:18:17.773Z"
   },
   {
    "duration": 217,
    "start_time": "2022-04-14T11:18:25.062Z"
   },
   {
    "duration": 1237,
    "start_time": "2022-04-17T15:45:03.341Z"
   },
   {
    "duration": 55,
    "start_time": "2022-04-17T15:45:04.580Z"
   },
   {
    "duration": 13,
    "start_time": "2022-04-17T15:45:04.637Z"
   },
   {
    "duration": 13,
    "start_time": "2022-04-17T15:45:04.652Z"
   },
   {
    "duration": 7,
    "start_time": "2022-04-17T15:45:04.667Z"
   },
   {
    "duration": 31,
    "start_time": "2022-04-17T15:45:04.676Z"
   },
   {
    "duration": 7,
    "start_time": "2022-04-17T15:45:04.709Z"
   },
   {
    "duration": 7,
    "start_time": "2022-04-17T15:45:04.717Z"
   },
   {
    "duration": 12,
    "start_time": "2022-04-17T15:45:04.725Z"
   },
   {
    "duration": 15,
    "start_time": "2022-04-17T15:45:04.739Z"
   },
   {
    "duration": 6,
    "start_time": "2022-04-17T15:45:04.756Z"
   },
   {
    "duration": 42,
    "start_time": "2022-04-17T15:45:04.764Z"
   },
   {
    "duration": 209,
    "start_time": "2022-04-17T15:45:04.808Z"
   },
   {
    "duration": 93,
    "start_time": "2022-04-17T15:45:55.992Z"
   },
   {
    "duration": 10,
    "start_time": "2022-04-17T15:46:17.928Z"
   },
   {
    "duration": 173,
    "start_time": "2022-04-17T15:46:27.746Z"
   },
   {
    "duration": 10,
    "start_time": "2022-04-17T15:46:43.561Z"
   },
   {
    "duration": 11,
    "start_time": "2022-04-17T16:05:57.793Z"
   },
   {
    "duration": 6,
    "start_time": "2022-04-17T16:06:25.661Z"
   },
   {
    "duration": 5,
    "start_time": "2022-04-17T16:06:32.764Z"
   },
   {
    "duration": 3,
    "start_time": "2022-04-17T16:11:26.696Z"
   },
   {
    "duration": 7,
    "start_time": "2022-04-17T16:11:36.253Z"
   },
   {
    "duration": 3,
    "start_time": "2022-04-17T16:11:51.462Z"
   },
   {
    "duration": 6,
    "start_time": "2022-04-17T16:11:52.518Z"
   },
   {
    "duration": 4,
    "start_time": "2022-04-17T16:12:07.536Z"
   },
   {
    "duration": 7,
    "start_time": "2022-04-17T16:12:08.386Z"
   },
   {
    "duration": 149,
    "start_time": "2022-04-17T16:13:21.751Z"
   },
   {
    "duration": 139,
    "start_time": "2022-04-17T16:13:37.876Z"
   },
   {
    "duration": 150,
    "start_time": "2022-04-17T16:14:01.588Z"
   },
   {
    "duration": 3,
    "start_time": "2022-04-17T16:14:17.763Z"
   },
   {
    "duration": 7,
    "start_time": "2022-04-17T16:14:18.251Z"
   },
   {
    "duration": 144,
    "start_time": "2022-04-17T16:14:19.864Z"
   },
   {
    "duration": 6,
    "start_time": "2022-04-17T16:14:29.100Z"
   },
   {
    "duration": 2,
    "start_time": "2022-04-17T16:14:30.779Z"
   },
   {
    "duration": 2,
    "start_time": "2022-04-17T16:14:31.187Z"
   },
   {
    "duration": 137,
    "start_time": "2022-04-17T16:14:31.627Z"
   },
   {
    "duration": 7,
    "start_time": "2022-04-17T16:16:35.917Z"
   },
   {
    "duration": 10,
    "start_time": "2022-04-17T16:17:22.648Z"
   },
   {
    "duration": 227,
    "start_time": "2022-04-17T16:17:23.431Z"
   },
   {
    "duration": 7,
    "start_time": "2022-04-17T16:17:37.389Z"
   },
   {
    "duration": 6,
    "start_time": "2022-04-17T16:17:48.948Z"
   },
   {
    "duration": 6,
    "start_time": "2022-04-17T16:17:49.860Z"
   },
   {
    "duration": 6,
    "start_time": "2022-04-17T16:18:22.521Z"
   },
   {
    "duration": 7,
    "start_time": "2022-04-17T16:18:23.124Z"
   },
   {
    "duration": 9,
    "start_time": "2022-04-17T16:18:33.085Z"
   },
   {
    "duration": 8,
    "start_time": "2022-04-17T16:18:33.945Z"
   },
   {
    "duration": 9,
    "start_time": "2022-04-17T16:18:43.557Z"
   },
   {
    "duration": 8,
    "start_time": "2022-04-17T16:18:44.197Z"
   },
   {
    "duration": 225,
    "start_time": "2022-04-17T16:18:44.900Z"
   },
   {
    "duration": 5,
    "start_time": "2022-04-17T16:19:17.591Z"
   },
   {
    "duration": 8,
    "start_time": "2022-04-17T16:19:18.246Z"
   },
   {
    "duration": 9,
    "start_time": "2022-04-17T16:19:25.817Z"
   },
   {
    "duration": 175,
    "start_time": "2022-04-17T16:19:26.348Z"
   },
   {
    "duration": 138,
    "start_time": "2022-04-17T16:19:48.628Z"
   },
   {
    "duration": 5,
    "start_time": "2022-04-17T16:20:11.068Z"
   },
   {
    "duration": 8,
    "start_time": "2022-04-17T16:20:11.895Z"
   },
   {
    "duration": 6,
    "start_time": "2022-04-17T16:20:18.462Z"
   },
   {
    "duration": 8,
    "start_time": "2022-04-17T16:20:20.466Z"
   },
   {
    "duration": 6,
    "start_time": "2022-04-17T16:20:26.101Z"
   },
   {
    "duration": 7,
    "start_time": "2022-04-17T16:20:27.114Z"
   },
   {
    "duration": 169,
    "start_time": "2022-04-17T16:20:29.815Z"
   },
   {
    "duration": 206,
    "start_time": "2022-04-17T16:20:47.368Z"
   },
   {
    "duration": 195,
    "start_time": "2022-04-17T16:20:54.142Z"
   },
   {
    "duration": 135,
    "start_time": "2022-04-17T16:22:42.027Z"
   },
   {
    "duration": 144,
    "start_time": "2022-04-17T16:22:46.494Z"
   },
   {
    "duration": 217,
    "start_time": "2022-04-17T16:23:29.199Z"
   },
   {
    "duration": 1149,
    "start_time": "2022-04-17T16:24:20.604Z"
   },
   {
    "duration": 60,
    "start_time": "2022-04-17T16:24:21.756Z"
   },
   {
    "duration": 20,
    "start_time": "2022-04-17T16:24:21.818Z"
   },
   {
    "duration": 16,
    "start_time": "2022-04-17T16:24:21.840Z"
   },
   {
    "duration": 21,
    "start_time": "2022-04-17T16:24:21.858Z"
   },
   {
    "duration": 32,
    "start_time": "2022-04-17T16:24:21.881Z"
   },
   {
    "duration": 7,
    "start_time": "2022-04-17T16:24:21.915Z"
   },
   {
    "duration": 15,
    "start_time": "2022-04-17T16:24:21.923Z"
   },
   {
    "duration": 11,
    "start_time": "2022-04-17T16:24:21.940Z"
   },
   {
    "duration": 17,
    "start_time": "2022-04-17T16:24:21.953Z"
   },
   {
    "duration": 7,
    "start_time": "2022-04-17T16:24:21.971Z"
   },
   {
    "duration": 31,
    "start_time": "2022-04-17T16:24:21.979Z"
   },
   {
    "duration": 212,
    "start_time": "2022-04-17T16:24:22.012Z"
   },
   {
    "duration": 7,
    "start_time": "2022-04-17T16:24:22.226Z"
   },
   {
    "duration": 10,
    "start_time": "2022-04-17T16:24:22.234Z"
   },
   {
    "duration": 7,
    "start_time": "2022-04-17T16:24:22.246Z"
   },
   {
    "duration": 9,
    "start_time": "2022-04-17T16:24:22.254Z"
   },
   {
    "duration": 171,
    "start_time": "2022-04-17T16:24:22.265Z"
   },
   {
    "duration": 81,
    "start_time": "2022-04-17T16:27:27.610Z"
   },
   {
    "duration": 99,
    "start_time": "2022-04-17T16:28:06.549Z"
   },
   {
    "duration": 101,
    "start_time": "2022-04-17T16:29:08.220Z"
   },
   {
    "duration": 221,
    "start_time": "2022-04-17T16:30:27.644Z"
   },
   {
    "duration": 233,
    "start_time": "2022-04-17T16:30:45.445Z"
   },
   {
    "duration": 128,
    "start_time": "2022-04-17T16:30:59.049Z"
   },
   {
    "duration": 193,
    "start_time": "2022-04-17T16:33:32.114Z"
   },
   {
    "duration": 120,
    "start_time": "2022-04-17T16:33:38.987Z"
   },
   {
    "duration": 235,
    "start_time": "2022-04-17T16:33:46.650Z"
   },
   {
    "duration": 120,
    "start_time": "2022-04-17T16:33:53.898Z"
   },
   {
    "duration": 20,
    "start_time": "2022-04-17T16:40:12.215Z"
   },
   {
    "duration": 9,
    "start_time": "2022-04-17T16:40:25.149Z"
   },
   {
    "duration": 99,
    "start_time": "2022-04-17T16:41:31.373Z"
   },
   {
    "duration": 20,
    "start_time": "2022-04-17T16:41:36.949Z"
   },
   {
    "duration": 2664,
    "start_time": "2022-04-17T16:41:51.148Z"
   },
   {
    "duration": 0,
    "start_time": "2022-04-17T16:41:53.814Z"
   },
   {
    "duration": 2683,
    "start_time": "2022-04-17T16:42:12.245Z"
   },
   {
    "duration": 7,
    "start_time": "2022-04-17T16:44:10.342Z"
   },
   {
    "duration": 3169,
    "start_time": "2022-04-17T16:44:16.550Z"
   },
   {
    "duration": 2751,
    "start_time": "2022-04-17T16:44:28.531Z"
   },
   {
    "duration": 2,
    "start_time": "2022-04-17T16:44:39.549Z"
   },
   {
    "duration": 55,
    "start_time": "2022-04-17T16:44:39.554Z"
   },
   {
    "duration": 9,
    "start_time": "2022-04-17T16:44:39.611Z"
   },
   {
    "duration": 18,
    "start_time": "2022-04-17T16:44:39.621Z"
   },
   {
    "duration": 8,
    "start_time": "2022-04-17T16:44:39.641Z"
   },
   {
    "duration": 11,
    "start_time": "2022-04-17T16:44:39.650Z"
   },
   {
    "duration": 4,
    "start_time": "2022-04-17T16:44:39.663Z"
   },
   {
    "duration": 32,
    "start_time": "2022-04-17T16:44:39.668Z"
   },
   {
    "duration": 8,
    "start_time": "2022-04-17T16:44:39.702Z"
   },
   {
    "duration": 17,
    "start_time": "2022-04-17T16:44:39.711Z"
   },
   {
    "duration": 5,
    "start_time": "2022-04-17T16:44:39.731Z"
   },
   {
    "duration": 8,
    "start_time": "2022-04-17T16:44:39.738Z"
   },
   {
    "duration": 9,
    "start_time": "2022-04-17T16:44:39.747Z"
   },
   {
    "duration": 274,
    "start_time": "2022-04-17T16:44:39.758Z"
   },
   {
    "duration": 8,
    "start_time": "2022-04-17T16:44:40.034Z"
   },
   {
    "duration": 8,
    "start_time": "2022-04-17T16:44:40.044Z"
   },
   {
    "duration": 193,
    "start_time": "2022-04-17T16:44:40.054Z"
   },
   {
    "duration": 2955,
    "start_time": "2022-04-17T16:44:40.249Z"
   },
   {
    "duration": 0,
    "start_time": "2022-04-17T16:44:43.206Z"
   },
   {
    "duration": 7,
    "start_time": "2022-04-17T16:44:52.309Z"
   },
   {
    "duration": 2702,
    "start_time": "2022-04-17T16:46:58.199Z"
   },
   {
    "duration": 14,
    "start_time": "2022-04-17T16:47:04.343Z"
   },
   {
    "duration": 2673,
    "start_time": "2022-04-17T16:47:11.341Z"
   },
   {
    "duration": 5,
    "start_time": "2022-04-17T16:47:39.807Z"
   },
   {
    "duration": 9,
    "start_time": "2022-04-17T16:47:42.338Z"
   },
   {
    "duration": 173,
    "start_time": "2022-04-17T16:48:01.355Z"
   },
   {
    "duration": 4,
    "start_time": "2022-04-17T16:48:04.399Z"
   },
   {
    "duration": 8,
    "start_time": "2022-04-17T16:48:06.959Z"
   },
   {
    "duration": 5,
    "start_time": "2022-04-17T16:48:16.763Z"
   },
   {
    "duration": 8,
    "start_time": "2022-04-17T16:48:17.646Z"
   },
   {
    "duration": 184,
    "start_time": "2022-04-17T16:48:38.209Z"
   },
   {
    "duration": 4,
    "start_time": "2022-04-17T16:48:59.659Z"
   },
   {
    "duration": 8,
    "start_time": "2022-04-17T16:49:01.127Z"
   },
   {
    "duration": 8,
    "start_time": "2022-04-17T16:49:05.271Z"
   },
   {
    "duration": 4,
    "start_time": "2022-04-17T16:49:08.774Z"
   },
   {
    "duration": 8,
    "start_time": "2022-04-17T16:49:09.440Z"
   },
   {
    "duration": 1432,
    "start_time": "2022-04-17T16:49:20.515Z"
   },
   {
    "duration": 68,
    "start_time": "2022-04-17T16:49:21.950Z"
   },
   {
    "duration": 16,
    "start_time": "2022-04-17T16:49:22.020Z"
   },
   {
    "duration": 19,
    "start_time": "2022-04-17T16:49:22.038Z"
   },
   {
    "duration": 11,
    "start_time": "2022-04-17T16:49:22.058Z"
   },
   {
    "duration": 31,
    "start_time": "2022-04-17T16:49:22.071Z"
   },
   {
    "duration": 6,
    "start_time": "2022-04-17T16:49:22.104Z"
   },
   {
    "duration": 7,
    "start_time": "2022-04-17T16:49:22.112Z"
   },
   {
    "duration": 10,
    "start_time": "2022-04-17T16:49:22.121Z"
   },
   {
    "duration": 19,
    "start_time": "2022-04-17T16:49:22.134Z"
   },
   {
    "duration": 9,
    "start_time": "2022-04-17T16:49:22.155Z"
   },
   {
    "duration": 35,
    "start_time": "2022-04-17T16:49:22.166Z"
   },
   {
    "duration": 14,
    "start_time": "2022-04-17T16:49:22.202Z"
   },
   {
    "duration": 288,
    "start_time": "2022-04-17T16:49:22.218Z"
   },
   {
    "duration": 7,
    "start_time": "2022-04-17T16:49:22.508Z"
   },
   {
    "duration": 7,
    "start_time": "2022-04-17T16:49:22.517Z"
   },
   {
    "duration": 137,
    "start_time": "2022-04-17T16:49:22.526Z"
   },
   {
    "duration": 15,
    "start_time": "2022-04-17T16:49:22.665Z"
   },
   {
    "duration": 4,
    "start_time": "2022-04-17T16:49:22.682Z"
   },
   {
    "duration": 9,
    "start_time": "2022-04-17T16:49:22.700Z"
   },
   {
    "duration": 2807,
    "start_time": "2022-04-17T16:49:50.966Z"
   },
   {
    "duration": 120,
    "start_time": "2022-04-17T16:49:59.418Z"
   },
   {
    "duration": 9,
    "start_time": "2022-04-17T16:50:27.977Z"
   },
   {
    "duration": 9,
    "start_time": "2022-04-17T16:50:39.294Z"
   },
   {
    "duration": 5,
    "start_time": "2022-04-17T16:50:48.654Z"
   },
   {
    "duration": 10,
    "start_time": "2022-04-17T16:50:53.071Z"
   },
   {
    "duration": 162,
    "start_time": "2022-04-17T16:51:04.821Z"
   },
   {
    "duration": 149,
    "start_time": "2022-04-17T16:51:25.311Z"
   },
   {
    "duration": 150,
    "start_time": "2022-04-17T16:51:29.159Z"
   },
   {
    "duration": 112,
    "start_time": "2022-04-17T16:51:41.489Z"
   },
   {
    "duration": 116,
    "start_time": "2022-04-17T16:51:56.415Z"
   },
   {
    "duration": 183,
    "start_time": "2022-04-17T16:52:01.407Z"
   },
   {
    "duration": 116,
    "start_time": "2022-04-17T16:52:08.288Z"
   },
   {
    "duration": 14,
    "start_time": "2022-04-17T16:53:10.127Z"
   },
   {
    "duration": 5,
    "start_time": "2022-04-17T16:53:15.254Z"
   },
   {
    "duration": 7,
    "start_time": "2022-04-17T16:53:15.726Z"
   },
   {
    "duration": 113,
    "start_time": "2022-04-17T16:53:17.351Z"
   },
   {
    "duration": 124,
    "start_time": "2022-04-17T16:54:40.028Z"
   },
   {
    "duration": 125,
    "start_time": "2022-04-17T16:54:47.051Z"
   },
   {
    "duration": 116,
    "start_time": "2022-04-17T16:54:55.132Z"
   },
   {
    "duration": 270,
    "start_time": "2022-04-17T16:55:12.777Z"
   },
   {
    "duration": 121,
    "start_time": "2022-04-17T16:56:15.929Z"
   },
   {
    "duration": 9,
    "start_time": "2022-04-17T16:58:53.479Z"
   },
   {
    "duration": 168,
    "start_time": "2022-04-17T16:59:00.228Z"
   },
   {
    "duration": 163,
    "start_time": "2022-04-17T17:00:22.883Z"
   },
   {
    "duration": 156,
    "start_time": "2022-04-17T17:01:13.219Z"
   },
   {
    "duration": 302,
    "start_time": "2022-04-17T17:03:27.544Z"
   },
   {
    "duration": 12,
    "start_time": "2022-04-17T17:06:07.721Z"
   },
   {
    "duration": 4,
    "start_time": "2022-04-17T17:09:32.743Z"
   },
   {
    "duration": 164,
    "start_time": "2022-04-17T17:09:34.518Z"
   },
   {
    "duration": 18,
    "start_time": "2022-04-17T17:11:33.209Z"
   },
   {
    "duration": 6,
    "start_time": "2022-04-17T17:12:54.584Z"
   },
   {
    "duration": 12,
    "start_time": "2022-04-17T17:12:59.791Z"
   },
   {
    "duration": 43,
    "start_time": "2022-04-18T06:21:57.466Z"
   },
   {
    "duration": 1768,
    "start_time": "2022-04-18T06:22:04.525Z"
   },
   {
    "duration": 94,
    "start_time": "2022-04-18T06:22:06.296Z"
   },
   {
    "duration": 21,
    "start_time": "2022-04-18T06:22:06.392Z"
   },
   {
    "duration": 22,
    "start_time": "2022-04-18T06:22:06.422Z"
   },
   {
    "duration": 11,
    "start_time": "2022-04-18T06:22:06.446Z"
   },
   {
    "duration": 13,
    "start_time": "2022-04-18T06:22:06.459Z"
   },
   {
    "duration": 6,
    "start_time": "2022-04-18T06:22:06.474Z"
   },
   {
    "duration": 45,
    "start_time": "2022-04-18T06:22:06.483Z"
   },
   {
    "duration": 14,
    "start_time": "2022-04-18T06:22:06.531Z"
   },
   {
    "duration": 15,
    "start_time": "2022-04-18T06:22:06.548Z"
   },
   {
    "duration": 7,
    "start_time": "2022-04-18T06:22:06.565Z"
   },
   {
    "duration": 8,
    "start_time": "2022-04-18T06:22:06.574Z"
   },
   {
    "duration": 45,
    "start_time": "2022-04-18T06:22:06.584Z"
   },
   {
    "duration": 231,
    "start_time": "2022-04-18T06:22:06.631Z"
   },
   {
    "duration": 164,
    "start_time": "2022-04-18T06:22:06.864Z"
   },
   {
    "duration": 0,
    "start_time": "2022-04-18T06:22:07.030Z"
   },
   {
    "duration": 0,
    "start_time": "2022-04-18T06:22:07.032Z"
   },
   {
    "duration": 0,
    "start_time": "2022-04-18T06:22:07.034Z"
   },
   {
    "duration": 0,
    "start_time": "2022-04-18T06:22:07.036Z"
   },
   {
    "duration": 0,
    "start_time": "2022-04-18T06:22:07.037Z"
   },
   {
    "duration": 0,
    "start_time": "2022-04-18T06:22:07.039Z"
   },
   {
    "duration": 0,
    "start_time": "2022-04-18T06:22:07.041Z"
   },
   {
    "duration": 0,
    "start_time": "2022-04-18T06:22:07.042Z"
   },
   {
    "duration": 0,
    "start_time": "2022-04-18T06:22:07.043Z"
   },
   {
    "duration": 7,
    "start_time": "2022-04-18T06:22:30.754Z"
   },
   {
    "duration": 6,
    "start_time": "2022-04-18T06:22:31.596Z"
   },
   {
    "duration": 143,
    "start_time": "2022-04-18T06:22:33.597Z"
   },
   {
    "duration": 15,
    "start_time": "2022-04-18T06:22:35.080Z"
   },
   {
    "duration": 5,
    "start_time": "2022-04-18T06:22:35.618Z"
   },
   {
    "duration": 5,
    "start_time": "2022-04-18T06:22:36.253Z"
   },
   {
    "duration": 270,
    "start_time": "2022-04-18T06:22:37.589Z"
   },
   {
    "duration": 18,
    "start_time": "2022-04-18T06:22:40.798Z"
   },
   {
    "duration": 9,
    "start_time": "2022-04-18T06:22:41.434Z"
   },
   {
    "duration": 73,
    "start_time": "2022-04-18T06:22:43.562Z"
   },
   {
    "duration": 20,
    "start_time": "2022-04-18T06:22:47.914Z"
   },
   {
    "duration": 10,
    "start_time": "2022-04-18T06:23:14.636Z"
   },
   {
    "duration": 4,
    "start_time": "2022-04-18T06:25:45.113Z"
   },
   {
    "duration": 5,
    "start_time": "2022-04-18T06:25:51.760Z"
   },
   {
    "duration": 4,
    "start_time": "2022-04-18T06:26:04.523Z"
   },
   {
    "duration": 4,
    "start_time": "2022-04-18T06:26:09.468Z"
   },
   {
    "duration": 14,
    "start_time": "2022-04-18T06:26:18.932Z"
   },
   {
    "duration": 12,
    "start_time": "2022-04-18T06:26:30.364Z"
   },
   {
    "duration": 1625,
    "start_time": "2022-04-18T06:26:41.259Z"
   },
   {
    "duration": 94,
    "start_time": "2022-04-18T06:26:42.887Z"
   },
   {
    "duration": 14,
    "start_time": "2022-04-18T06:26:42.983Z"
   },
   {
    "duration": 36,
    "start_time": "2022-04-18T06:26:42.999Z"
   },
   {
    "duration": 13,
    "start_time": "2022-04-18T06:26:43.037Z"
   },
   {
    "duration": 15,
    "start_time": "2022-04-18T06:26:43.053Z"
   },
   {
    "duration": 6,
    "start_time": "2022-04-18T06:26:43.069Z"
   },
   {
    "duration": 8,
    "start_time": "2022-04-18T06:26:43.076Z"
   },
   {
    "duration": 44,
    "start_time": "2022-04-18T06:26:43.086Z"
   },
   {
    "duration": 32,
    "start_time": "2022-04-18T06:26:43.134Z"
   },
   {
    "duration": 7,
    "start_time": "2022-04-18T06:26:43.168Z"
   },
   {
    "duration": 31,
    "start_time": "2022-04-18T06:26:43.177Z"
   },
   {
    "duration": 23,
    "start_time": "2022-04-18T06:26:43.210Z"
   },
   {
    "duration": 239,
    "start_time": "2022-04-18T06:26:43.235Z"
   },
   {
    "duration": 7,
    "start_time": "2022-04-18T06:26:43.476Z"
   },
   {
    "duration": 15,
    "start_time": "2022-04-18T06:26:43.484Z"
   },
   {
    "duration": 181,
    "start_time": "2022-04-18T06:26:43.500Z"
   },
   {
    "duration": 16,
    "start_time": "2022-04-18T06:26:43.683Z"
   },
   {
    "duration": 9,
    "start_time": "2022-04-18T06:26:43.701Z"
   },
   {
    "duration": 13,
    "start_time": "2022-04-18T06:26:43.722Z"
   },
   {
    "duration": 237,
    "start_time": "2022-04-18T06:26:43.738Z"
   },
   {
    "duration": 14,
    "start_time": "2022-04-18T06:26:43.977Z"
   },
   {
    "duration": 29,
    "start_time": "2022-04-18T06:26:43.993Z"
   },
   {
    "duration": 15,
    "start_time": "2022-04-18T06:26:44.025Z"
   },
   {
    "duration": 6,
    "start_time": "2022-04-18T06:26:55.135Z"
   },
   {
    "duration": 4,
    "start_time": "2022-04-18T06:26:57.858Z"
   },
   {
    "duration": 8,
    "start_time": "2022-04-18T06:27:19.153Z"
   },
   {
    "duration": 10,
    "start_time": "2022-04-18T06:27:36.186Z"
   },
   {
    "duration": 8,
    "start_time": "2022-04-18T06:27:58.370Z"
   },
   {
    "duration": 9,
    "start_time": "2022-04-18T06:28:12.778Z"
   },
   {
    "duration": 107,
    "start_time": "2022-04-18T06:30:27.237Z"
   },
   {
    "duration": 7,
    "start_time": "2022-04-18T06:30:33.307Z"
   },
   {
    "duration": 12,
    "start_time": "2022-04-18T06:31:05.932Z"
   },
   {
    "duration": 5,
    "start_time": "2022-04-18T06:31:21.657Z"
   },
   {
    "duration": 9,
    "start_time": "2022-04-18T06:31:26.171Z"
   },
   {
    "duration": 9,
    "start_time": "2022-04-18T06:32:04.305Z"
   },
   {
    "duration": 8,
    "start_time": "2022-04-18T06:32:15.180Z"
   },
   {
    "duration": 12,
    "start_time": "2022-04-18T06:32:23.739Z"
   },
   {
    "duration": 4,
    "start_time": "2022-04-18T06:33:09.006Z"
   },
   {
    "duration": 3,
    "start_time": "2022-04-18T06:33:22.281Z"
   },
   {
    "duration": 4,
    "start_time": "2022-04-18T06:33:25.344Z"
   },
   {
    "duration": 18,
    "start_time": "2022-04-18T06:37:03.340Z"
   },
   {
    "duration": 8,
    "start_time": "2022-04-18T06:37:08.402Z"
   },
   {
    "duration": 9,
    "start_time": "2022-04-18T06:37:10.787Z"
   },
   {
    "duration": 1321,
    "start_time": "2022-04-18T06:37:25.047Z"
   },
   {
    "duration": 67,
    "start_time": "2022-04-18T06:37:26.370Z"
   },
   {
    "duration": 19,
    "start_time": "2022-04-18T06:37:26.439Z"
   },
   {
    "duration": 21,
    "start_time": "2022-04-18T06:37:26.461Z"
   },
   {
    "duration": 29,
    "start_time": "2022-04-18T06:37:26.484Z"
   },
   {
    "duration": 17,
    "start_time": "2022-04-18T06:37:26.523Z"
   },
   {
    "duration": 6,
    "start_time": "2022-04-18T06:37:26.542Z"
   },
   {
    "duration": 7,
    "start_time": "2022-04-18T06:37:26.550Z"
   },
   {
    "duration": 32,
    "start_time": "2022-04-18T06:37:26.559Z"
   },
   {
    "duration": 47,
    "start_time": "2022-04-18T06:37:26.595Z"
   },
   {
    "duration": 8,
    "start_time": "2022-04-18T06:37:26.644Z"
   },
   {
    "duration": 22,
    "start_time": "2022-04-18T06:37:26.655Z"
   },
   {
    "duration": 21,
    "start_time": "2022-04-18T06:37:26.679Z"
   },
   {
    "duration": 267,
    "start_time": "2022-04-18T06:37:26.702Z"
   },
   {
    "duration": 7,
    "start_time": "2022-04-18T06:37:26.971Z"
   },
   {
    "duration": 18,
    "start_time": "2022-04-18T06:37:26.980Z"
   },
   {
    "duration": 174,
    "start_time": "2022-04-18T06:37:27.001Z"
   },
   {
    "duration": 15,
    "start_time": "2022-04-18T06:37:27.177Z"
   },
   {
    "duration": 6,
    "start_time": "2022-04-18T06:37:27.194Z"
   },
   {
    "duration": 21,
    "start_time": "2022-04-18T06:37:27.202Z"
   },
   {
    "duration": 201,
    "start_time": "2022-04-18T06:37:27.226Z"
   },
   {
    "duration": 17,
    "start_time": "2022-04-18T06:37:27.429Z"
   },
   {
    "duration": 6,
    "start_time": "2022-04-18T06:37:27.448Z"
   },
   {
    "duration": 22,
    "start_time": "2022-04-18T06:37:27.456Z"
   },
   {
    "duration": 8,
    "start_time": "2022-04-18T06:37:50.444Z"
   },
   {
    "duration": 9,
    "start_time": "2022-04-18T06:37:58.891Z"
   },
   {
    "duration": 8,
    "start_time": "2022-04-18T06:38:15.794Z"
   },
   {
    "duration": 11,
    "start_time": "2022-04-18T06:38:23.618Z"
   },
   {
    "duration": 6,
    "start_time": "2022-04-18T06:38:37.681Z"
   },
   {
    "duration": 7,
    "start_time": "2022-04-18T06:38:53.390Z"
   },
   {
    "duration": 6,
    "start_time": "2022-04-18T06:39:04.508Z"
   },
   {
    "duration": 100,
    "start_time": "2022-04-18T06:43:10.909Z"
   },
   {
    "duration": 11,
    "start_time": "2022-04-18T06:44:25.762Z"
   },
   {
    "duration": 8,
    "start_time": "2022-04-18T06:45:18.326Z"
   },
   {
    "duration": 2,
    "start_time": "2022-04-18T06:45:21.045Z"
   },
   {
    "duration": 5,
    "start_time": "2022-04-18T06:45:21.406Z"
   },
   {
    "duration": 6,
    "start_time": "2022-04-18T06:45:23.567Z"
   },
   {
    "duration": 13,
    "start_time": "2022-04-18T06:45:25.367Z"
   },
   {
    "duration": 8,
    "start_time": "2022-04-18T06:47:51.240Z"
   },
   {
    "duration": 9,
    "start_time": "2022-04-18T06:47:51.963Z"
   },
   {
    "duration": 14,
    "start_time": "2022-04-18T06:48:28.913Z"
   },
   {
    "duration": 7,
    "start_time": "2022-04-18T06:48:36.247Z"
   },
   {
    "duration": 9,
    "start_time": "2022-04-18T06:48:37.053Z"
   },
   {
    "duration": 13,
    "start_time": "2022-04-18T06:50:57.233Z"
   },
   {
    "duration": 6,
    "start_time": "2022-04-18T06:51:06.982Z"
   },
   {
    "duration": 8,
    "start_time": "2022-04-18T06:51:08.854Z"
   },
   {
    "duration": 14,
    "start_time": "2022-04-18T06:51:17.727Z"
   },
   {
    "duration": 121,
    "start_time": "2022-04-18T06:51:51.688Z"
   },
   {
    "duration": 151,
    "start_time": "2022-04-18T06:53:29.983Z"
   },
   {
    "duration": 216,
    "start_time": "2022-04-18T06:55:03.029Z"
   },
   {
    "duration": 93,
    "start_time": "2022-04-18T06:55:19.681Z"
   },
   {
    "duration": 1169,
    "start_time": "2022-04-18T06:55:48.819Z"
   },
   {
    "duration": 72,
    "start_time": "2022-04-18T06:55:49.990Z"
   },
   {
    "duration": 12,
    "start_time": "2022-04-18T06:55:50.063Z"
   },
   {
    "duration": 12,
    "start_time": "2022-04-18T06:55:50.077Z"
   },
   {
    "duration": 10,
    "start_time": "2022-04-18T06:55:50.090Z"
   },
   {
    "duration": 26,
    "start_time": "2022-04-18T06:55:50.101Z"
   },
   {
    "duration": 7,
    "start_time": "2022-04-18T06:55:50.129Z"
   },
   {
    "duration": 6,
    "start_time": "2022-04-18T06:55:50.138Z"
   },
   {
    "duration": 8,
    "start_time": "2022-04-18T06:55:50.145Z"
   },
   {
    "duration": 14,
    "start_time": "2022-04-18T06:55:50.155Z"
   },
   {
    "duration": 6,
    "start_time": "2022-04-18T06:55:50.170Z"
   },
   {
    "duration": 52,
    "start_time": "2022-04-18T06:55:50.177Z"
   },
   {
    "duration": 12,
    "start_time": "2022-04-18T06:55:50.232Z"
   },
   {
    "duration": 218,
    "start_time": "2022-04-18T06:55:50.246Z"
   },
   {
    "duration": 7,
    "start_time": "2022-04-18T06:55:50.465Z"
   },
   {
    "duration": 6,
    "start_time": "2022-04-18T06:55:50.473Z"
   },
   {
    "duration": 142,
    "start_time": "2022-04-18T06:55:50.480Z"
   },
   {
    "duration": 21,
    "start_time": "2022-04-18T06:55:50.624Z"
   },
   {
    "duration": 4,
    "start_time": "2022-04-18T06:55:50.647Z"
   },
   {
    "duration": 5,
    "start_time": "2022-04-18T06:55:50.652Z"
   },
   {
    "duration": 193,
    "start_time": "2022-04-18T06:55:50.658Z"
   },
   {
    "duration": 12,
    "start_time": "2022-04-18T06:55:50.852Z"
   },
   {
    "duration": 7,
    "start_time": "2022-04-18T06:55:50.865Z"
   },
   {
    "duration": 8,
    "start_time": "2022-04-18T06:55:50.873Z"
   },
   {
    "duration": 76,
    "start_time": "2022-04-18T06:55:50.883Z"
   },
   {
    "duration": 0,
    "start_time": "2022-04-18T06:55:50.960Z"
   },
   {
    "duration": 10,
    "start_time": "2022-04-18T06:56:42.663Z"
   },
   {
    "duration": 105,
    "start_time": "2022-04-18T06:56:45.208Z"
   },
   {
    "duration": 1188,
    "start_time": "2022-04-18T06:57:00.412Z"
   },
   {
    "duration": 64,
    "start_time": "2022-04-18T06:57:01.602Z"
   },
   {
    "duration": 12,
    "start_time": "2022-04-18T06:57:01.668Z"
   },
   {
    "duration": 24,
    "start_time": "2022-04-18T06:57:01.682Z"
   },
   {
    "duration": 31,
    "start_time": "2022-04-18T06:57:01.708Z"
   },
   {
    "duration": 16,
    "start_time": "2022-04-18T06:57:01.741Z"
   },
   {
    "duration": 4,
    "start_time": "2022-04-18T06:57:01.759Z"
   },
   {
    "duration": 19,
    "start_time": "2022-04-18T06:57:01.765Z"
   },
   {
    "duration": 16,
    "start_time": "2022-04-18T06:57:01.785Z"
   },
   {
    "duration": 17,
    "start_time": "2022-04-18T06:57:01.803Z"
   },
   {
    "duration": 8,
    "start_time": "2022-04-18T06:57:01.822Z"
   },
   {
    "duration": 8,
    "start_time": "2022-04-18T06:57:01.836Z"
   },
   {
    "duration": 29,
    "start_time": "2022-04-18T06:57:01.845Z"
   },
   {
    "duration": 213,
    "start_time": "2022-04-18T06:57:01.876Z"
   },
   {
    "duration": 5,
    "start_time": "2022-04-18T06:57:02.091Z"
   },
   {
    "duration": 18,
    "start_time": "2022-04-18T06:57:02.098Z"
   },
   {
    "duration": 138,
    "start_time": "2022-04-18T06:57:02.118Z"
   },
   {
    "duration": 16,
    "start_time": "2022-04-18T06:57:02.258Z"
   },
   {
    "duration": 5,
    "start_time": "2022-04-18T06:57:02.275Z"
   },
   {
    "duration": 4,
    "start_time": "2022-04-18T06:57:02.282Z"
   },
   {
    "duration": 195,
    "start_time": "2022-04-18T06:57:02.288Z"
   },
   {
    "duration": 12,
    "start_time": "2022-04-18T06:57:02.485Z"
   },
   {
    "duration": 12,
    "start_time": "2022-04-18T06:57:02.498Z"
   },
   {
    "duration": 17,
    "start_time": "2022-04-18T06:57:02.522Z"
   },
   {
    "duration": 9,
    "start_time": "2022-04-18T06:57:02.541Z"
   },
   {
    "duration": 250,
    "start_time": "2022-04-18T06:57:02.552Z"
   },
   {
    "duration": 102,
    "start_time": "2022-04-18T06:59:38.072Z"
   },
   {
    "duration": 3,
    "start_time": "2022-04-18T07:04:43.271Z"
   },
   {
    "duration": 65,
    "start_time": "2022-04-18T07:04:43.278Z"
   },
   {
    "duration": 11,
    "start_time": "2022-04-18T07:04:43.345Z"
   },
   {
    "duration": 14,
    "start_time": "2022-04-18T07:04:43.358Z"
   },
   {
    "duration": 10,
    "start_time": "2022-04-18T07:04:43.375Z"
   },
   {
    "duration": 41,
    "start_time": "2022-04-18T07:04:43.387Z"
   },
   {
    "duration": 8,
    "start_time": "2022-04-18T07:04:43.430Z"
   },
   {
    "duration": 7,
    "start_time": "2022-04-18T07:04:43.440Z"
   },
   {
    "duration": 9,
    "start_time": "2022-04-18T07:04:43.449Z"
   },
   {
    "duration": 16,
    "start_time": "2022-04-18T07:04:43.459Z"
   },
   {
    "duration": 11,
    "start_time": "2022-04-18T07:04:43.522Z"
   },
   {
    "duration": 9,
    "start_time": "2022-04-18T07:04:43.536Z"
   },
   {
    "duration": 14,
    "start_time": "2022-04-18T07:04:43.546Z"
   },
   {
    "duration": 251,
    "start_time": "2022-04-18T07:04:43.562Z"
   },
   {
    "duration": 13,
    "start_time": "2022-04-18T07:04:43.815Z"
   },
   {
    "duration": 10,
    "start_time": "2022-04-18T07:04:43.830Z"
   },
   {
    "duration": 176,
    "start_time": "2022-04-18T07:04:43.842Z"
   },
   {
    "duration": 23,
    "start_time": "2022-04-18T07:04:44.019Z"
   },
   {
    "duration": 3,
    "start_time": "2022-04-18T07:04:44.044Z"
   },
   {
    "duration": 10,
    "start_time": "2022-04-18T07:04:44.049Z"
   },
   {
    "duration": 191,
    "start_time": "2022-04-18T07:04:44.061Z"
   },
   {
    "duration": 13,
    "start_time": "2022-04-18T07:04:44.254Z"
   },
   {
    "duration": 6,
    "start_time": "2022-04-18T07:04:44.269Z"
   },
   {
    "duration": 10,
    "start_time": "2022-04-18T07:04:44.276Z"
   },
   {
    "duration": 36,
    "start_time": "2022-04-18T07:04:44.288Z"
   },
   {
    "duration": 184,
    "start_time": "2022-04-18T07:04:44.327Z"
   },
   {
    "duration": 234,
    "start_time": "2022-04-18T07:06:11.261Z"
   },
   {
    "duration": 155,
    "start_time": "2022-04-18T07:11:05.363Z"
   },
   {
    "duration": 14,
    "start_time": "2022-04-18T07:23:07.174Z"
   },
   {
    "duration": 8,
    "start_time": "2022-04-18T07:24:00.405Z"
   },
   {
    "duration": 8,
    "start_time": "2022-04-18T07:24:03.182Z"
   },
   {
    "duration": 9,
    "start_time": "2022-04-18T07:24:09.000Z"
   },
   {
    "duration": 7,
    "start_time": "2022-04-18T07:24:33.926Z"
   },
   {
    "duration": 7,
    "start_time": "2022-04-18T07:24:35.212Z"
   },
   {
    "duration": 9,
    "start_time": "2022-04-18T07:24:41.165Z"
   },
   {
    "duration": 8,
    "start_time": "2022-04-18T07:24:42.065Z"
   },
   {
    "duration": 168,
    "start_time": "2022-04-18T07:28:55.805Z"
   },
   {
    "duration": 8,
    "start_time": "2022-04-18T07:29:49.223Z"
   },
   {
    "duration": 7,
    "start_time": "2022-04-18T07:29:49.832Z"
   },
   {
    "duration": 166,
    "start_time": "2022-04-18T07:30:05.876Z"
   },
   {
    "duration": 8,
    "start_time": "2022-04-18T07:30:58.590Z"
   },
   {
    "duration": 167,
    "start_time": "2022-04-18T07:31:00.927Z"
   },
   {
    "duration": 179,
    "start_time": "2022-04-18T07:32:33.299Z"
   },
   {
    "duration": 219,
    "start_time": "2022-04-18T07:49:11.383Z"
   },
   {
    "duration": 230,
    "start_time": "2022-04-18T07:49:27.227Z"
   },
   {
    "duration": 340,
    "start_time": "2022-04-18T07:50:15.570Z"
   },
   {
    "duration": 255,
    "start_time": "2022-04-18T07:51:05.799Z"
   },
   {
    "duration": 358,
    "start_time": "2022-04-18T07:51:32.543Z"
   },
   {
    "duration": 492,
    "start_time": "2022-04-18T07:52:16.139Z"
   },
   {
    "duration": 1242,
    "start_time": "2022-04-19T16:27:08.280Z"
   },
   {
    "duration": 53,
    "start_time": "2022-04-19T16:27:09.524Z"
   },
   {
    "duration": 13,
    "start_time": "2022-04-19T16:27:09.578Z"
   },
   {
    "duration": 14,
    "start_time": "2022-04-19T16:27:09.593Z"
   },
   {
    "duration": 9,
    "start_time": "2022-04-19T16:27:09.609Z"
   },
   {
    "duration": 10,
    "start_time": "2022-04-19T16:27:09.647Z"
   },
   {
    "duration": 5,
    "start_time": "2022-04-19T16:27:09.659Z"
   },
   {
    "duration": 9,
    "start_time": "2022-04-19T16:27:09.665Z"
   },
   {
    "duration": 8,
    "start_time": "2022-04-19T16:27:09.676Z"
   },
   {
    "duration": 21,
    "start_time": "2022-04-19T16:27:09.686Z"
   },
   {
    "duration": 40,
    "start_time": "2022-04-19T16:27:09.709Z"
   },
   {
    "duration": 8,
    "start_time": "2022-04-19T16:27:09.751Z"
   },
   {
    "duration": 14,
    "start_time": "2022-04-19T16:27:09.761Z"
   },
   {
    "duration": 298,
    "start_time": "2022-04-19T16:27:09.777Z"
   },
   {
    "duration": 8,
    "start_time": "2022-04-19T16:27:10.076Z"
   },
   {
    "duration": 7,
    "start_time": "2022-04-19T16:27:10.086Z"
   },
   {
    "duration": 202,
    "start_time": "2022-04-19T16:27:10.095Z"
   },
   {
    "duration": 20,
    "start_time": "2022-04-19T16:27:10.299Z"
   },
   {
    "duration": 5,
    "start_time": "2022-04-19T16:27:10.321Z"
   },
   {
    "duration": 20,
    "start_time": "2022-04-19T16:27:10.327Z"
   },
   {
    "duration": 244,
    "start_time": "2022-04-19T16:27:10.349Z"
   },
   {
    "duration": 16,
    "start_time": "2022-04-19T16:27:10.595Z"
   },
   {
    "duration": 6,
    "start_time": "2022-04-19T16:27:10.613Z"
   },
   {
    "duration": 32,
    "start_time": "2022-04-19T16:27:10.621Z"
   },
   {
    "duration": 9,
    "start_time": "2022-04-19T16:27:10.655Z"
   },
   {
    "duration": 165,
    "start_time": "2022-04-19T16:27:10.666Z"
   },
   {
    "duration": 20,
    "start_time": "2022-04-19T16:27:10.833Z"
   },
   {
    "duration": 8,
    "start_time": "2022-04-19T16:27:10.856Z"
   },
   {
    "duration": 342,
    "start_time": "2022-04-19T16:27:10.866Z"
   },
   {
    "duration": 100,
    "start_time": "2022-04-19T16:27:46.582Z"
   },
   {
    "duration": 392,
    "start_time": "2022-04-19T16:28:04.359Z"
   },
   {
    "duration": 314,
    "start_time": "2022-04-19T16:29:25.296Z"
   },
   {
    "duration": 239,
    "start_time": "2022-04-19T16:31:30.332Z"
   },
   {
    "duration": 321,
    "start_time": "2022-04-19T16:31:50.069Z"
   },
   {
    "duration": 352,
    "start_time": "2022-04-19T16:35:56.793Z"
   },
   {
    "duration": 708,
    "start_time": "2022-04-19T16:37:25.519Z"
   },
   {
    "duration": 608,
    "start_time": "2022-04-19T16:37:36.570Z"
   },
   {
    "duration": 596,
    "start_time": "2022-04-19T16:41:56.734Z"
   },
   {
    "duration": 375,
    "start_time": "2022-04-19T16:42:14.908Z"
   },
   {
    "duration": 326,
    "start_time": "2022-04-19T16:42:27.182Z"
   },
   {
    "duration": 233,
    "start_time": "2022-04-19T16:43:53.441Z"
   },
   {
    "duration": 517,
    "start_time": "2022-04-19T16:55:48.765Z"
   },
   {
    "duration": 14,
    "start_time": "2022-04-19T17:11:02.994Z"
   },
   {
    "duration": 1301,
    "start_time": "2022-04-19T17:14:00.969Z"
   },
   {
    "duration": 6,
    "start_time": "2022-04-19T17:14:05.982Z"
   },
   {
    "duration": 11,
    "start_time": "2022-04-19T17:14:15.842Z"
   },
   {
    "duration": 8,
    "start_time": "2022-04-19T17:15:22.255Z"
   },
   {
    "duration": 18,
    "start_time": "2022-04-19T17:17:18.795Z"
   },
   {
    "duration": 3,
    "start_time": "2022-04-19T17:17:38.633Z"
   },
   {
    "duration": 133,
    "start_time": "2022-04-19T17:17:43.450Z"
   },
   {
    "duration": 15,
    "start_time": "2022-04-19T17:17:47.932Z"
   },
   {
    "duration": 8,
    "start_time": "2022-04-19T17:19:59.642Z"
   },
   {
    "duration": 7,
    "start_time": "2022-04-19T17:20:29.721Z"
   },
   {
    "duration": 2340,
    "start_time": "2022-04-19T17:20:34.601Z"
   },
   {
    "duration": 2677,
    "start_time": "2022-04-19T17:23:02.359Z"
   },
   {
    "duration": 18,
    "start_time": "2022-04-19T17:23:06.781Z"
   },
   {
    "duration": 9554,
    "start_time": "2022-04-19T17:23:56.423Z"
   },
   {
    "duration": 2460,
    "start_time": "2022-04-19T17:25:00.196Z"
   },
   {
    "duration": 201,
    "start_time": "2022-04-19T17:25:02.658Z"
   },
   {
    "duration": 18,
    "start_time": "2022-04-19T17:25:04.981Z"
   },
   {
    "duration": 12,
    "start_time": "2022-04-19T17:30:52.010Z"
   },
   {
    "duration": 18,
    "start_time": "2022-04-19T17:30:55.218Z"
   },
   {
    "duration": 1132,
    "start_time": "2022-04-19T17:31:17.610Z"
   },
   {
    "duration": 57,
    "start_time": "2022-04-19T17:31:18.744Z"
   },
   {
    "duration": 13,
    "start_time": "2022-04-19T17:31:18.803Z"
   },
   {
    "duration": 16,
    "start_time": "2022-04-19T17:31:18.819Z"
   },
   {
    "duration": 15,
    "start_time": "2022-04-19T17:31:18.837Z"
   },
   {
    "duration": 10,
    "start_time": "2022-04-19T17:31:18.854Z"
   },
   {
    "duration": 6,
    "start_time": "2022-04-19T17:31:18.866Z"
   },
   {
    "duration": 7,
    "start_time": "2022-04-19T17:31:18.874Z"
   },
   {
    "duration": 10,
    "start_time": "2022-04-19T17:31:18.882Z"
   },
   {
    "duration": 61,
    "start_time": "2022-04-19T17:31:18.895Z"
   },
   {
    "duration": 8,
    "start_time": "2022-04-19T17:31:18.958Z"
   },
   {
    "duration": 11,
    "start_time": "2022-04-19T17:31:18.968Z"
   },
   {
    "duration": 13,
    "start_time": "2022-04-19T17:31:18.981Z"
   },
   {
    "duration": 214,
    "start_time": "2022-04-19T17:31:18.996Z"
   },
   {
    "duration": 7,
    "start_time": "2022-04-19T17:31:19.212Z"
   },
   {
    "duration": 6,
    "start_time": "2022-04-19T17:31:19.220Z"
   },
   {
    "duration": 154,
    "start_time": "2022-04-19T17:31:19.228Z"
   },
   {
    "duration": 16,
    "start_time": "2022-04-19T17:31:19.383Z"
   },
   {
    "duration": 4,
    "start_time": "2022-04-19T17:31:19.401Z"
   },
   {
    "duration": 5,
    "start_time": "2022-04-19T17:31:19.406Z"
   },
   {
    "duration": 185,
    "start_time": "2022-04-19T17:31:19.413Z"
   },
   {
    "duration": 13,
    "start_time": "2022-04-19T17:31:19.600Z"
   },
   {
    "duration": 8,
    "start_time": "2022-04-19T17:31:19.614Z"
   },
   {
    "duration": 24,
    "start_time": "2022-04-19T17:31:19.624Z"
   },
   {
    "duration": 10,
    "start_time": "2022-04-19T17:31:19.649Z"
   },
   {
    "duration": 160,
    "start_time": "2022-04-19T17:31:19.660Z"
   },
   {
    "duration": 8,
    "start_time": "2022-04-19T17:31:19.822Z"
   },
   {
    "duration": 19,
    "start_time": "2022-04-19T17:31:19.833Z"
   },
   {
    "duration": 255,
    "start_time": "2022-04-19T17:31:19.854Z"
   },
   {
    "duration": 12,
    "start_time": "2022-04-19T17:31:20.112Z"
   },
   {
    "duration": 26,
    "start_time": "2022-04-19T17:31:20.125Z"
   },
   {
    "duration": 17,
    "start_time": "2022-04-19T17:31:20.152Z"
   },
   {
    "duration": 7,
    "start_time": "2022-04-19T17:39:01.600Z"
   },
   {
    "duration": 5,
    "start_time": "2022-04-19T17:39:11.633Z"
   },
   {
    "duration": 81,
    "start_time": "2022-04-19T17:39:25.554Z"
   },
   {
    "duration": 9,
    "start_time": "2022-04-19T17:39:29.544Z"
   },
   {
    "duration": 138,
    "start_time": "2022-04-19T17:41:09.600Z"
   },
   {
    "duration": 100,
    "start_time": "2022-04-19T17:41:53.476Z"
   },
   {
    "duration": 15,
    "start_time": "2022-04-19T17:42:05.088Z"
   },
   {
    "duration": 14,
    "start_time": "2022-04-19T17:42:14.974Z"
   },
   {
    "duration": 15,
    "start_time": "2022-04-19T17:43:08.342Z"
   },
   {
    "duration": 13,
    "start_time": "2022-04-19T17:43:18.492Z"
   },
   {
    "duration": 10,
    "start_time": "2022-04-19T17:43:59.507Z"
   },
   {
    "duration": 6,
    "start_time": "2022-04-19T17:44:07.972Z"
   },
   {
    "duration": 7,
    "start_time": "2022-04-19T17:44:15.122Z"
   },
   {
    "duration": 8,
    "start_time": "2022-04-19T17:46:47.590Z"
   },
   {
    "duration": 7,
    "start_time": "2022-04-19T17:46:48.333Z"
   },
   {
    "duration": 9,
    "start_time": "2022-04-19T17:47:12.278Z"
   },
   {
    "duration": 9,
    "start_time": "2022-04-19T17:47:13.502Z"
   },
   {
    "duration": 9,
    "start_time": "2022-04-19T17:47:22.787Z"
   },
   {
    "duration": 7,
    "start_time": "2022-04-19T17:47:32.771Z"
   },
   {
    "duration": 6,
    "start_time": "2022-04-19T17:47:33.780Z"
   },
   {
    "duration": 8,
    "start_time": "2022-04-19T17:47:56.379Z"
   },
   {
    "duration": 12,
    "start_time": "2022-04-19T17:48:46.605Z"
   },
   {
    "duration": 1347,
    "start_time": "2022-04-20T04:44:49.699Z"
   },
   {
    "duration": 66,
    "start_time": "2022-04-20T04:44:51.048Z"
   },
   {
    "duration": 13,
    "start_time": "2022-04-20T04:44:51.115Z"
   },
   {
    "duration": 19,
    "start_time": "2022-04-20T04:44:51.130Z"
   },
   {
    "duration": 16,
    "start_time": "2022-04-20T04:44:51.150Z"
   },
   {
    "duration": 21,
    "start_time": "2022-04-20T04:44:51.167Z"
   },
   {
    "duration": 15,
    "start_time": "2022-04-20T04:44:51.189Z"
   },
   {
    "duration": 19,
    "start_time": "2022-04-20T04:44:51.205Z"
   },
   {
    "duration": 13,
    "start_time": "2022-04-20T04:44:51.225Z"
   },
   {
    "duration": 28,
    "start_time": "2022-04-20T04:44:51.241Z"
   },
   {
    "duration": 7,
    "start_time": "2022-04-20T04:44:51.271Z"
   },
   {
    "duration": 27,
    "start_time": "2022-04-20T04:44:51.280Z"
   },
   {
    "duration": 27,
    "start_time": "2022-04-20T04:44:51.309Z"
   },
   {
    "duration": 200,
    "start_time": "2022-04-20T04:44:51.338Z"
   },
   {
    "duration": 6,
    "start_time": "2022-04-20T04:44:51.540Z"
   },
   {
    "duration": 21,
    "start_time": "2022-04-20T04:44:51.548Z"
   },
   {
    "duration": 135,
    "start_time": "2022-04-20T04:44:51.571Z"
   },
   {
    "duration": 23,
    "start_time": "2022-04-20T04:44:51.707Z"
   },
   {
    "duration": 4,
    "start_time": "2022-04-20T04:44:51.731Z"
   },
   {
    "duration": 8,
    "start_time": "2022-04-20T04:44:51.736Z"
   },
   {
    "duration": 172,
    "start_time": "2022-04-20T04:44:51.745Z"
   },
   {
    "duration": 12,
    "start_time": "2022-04-20T04:44:51.922Z"
   },
   {
    "duration": 10,
    "start_time": "2022-04-20T04:44:51.936Z"
   },
   {
    "duration": 7,
    "start_time": "2022-04-20T04:44:51.948Z"
   },
   {
    "duration": 10,
    "start_time": "2022-04-20T04:44:51.956Z"
   },
   {
    "duration": 170,
    "start_time": "2022-04-20T04:44:51.968Z"
   },
   {
    "duration": 8,
    "start_time": "2022-04-20T04:44:52.139Z"
   },
   {
    "duration": 8,
    "start_time": "2022-04-20T04:44:52.150Z"
   },
   {
    "duration": 256,
    "start_time": "2022-04-20T04:44:52.160Z"
   },
   {
    "duration": 14,
    "start_time": "2022-04-20T04:44:52.418Z"
   },
   {
    "duration": 12,
    "start_time": "2022-04-20T04:44:52.434Z"
   },
   {
    "duration": 15,
    "start_time": "2022-04-20T04:44:52.448Z"
   },
   {
    "duration": 10,
    "start_time": "2022-04-20T04:44:52.465Z"
   },
   {
    "duration": 162,
    "start_time": "2022-04-20T04:44:52.477Z"
   },
   {
    "duration": 10,
    "start_time": "2022-04-20T04:45:02.095Z"
   },
   {
    "duration": 10,
    "start_time": "2022-04-20T04:45:24.532Z"
   },
   {
    "duration": 8,
    "start_time": "2022-04-20T04:45:25.577Z"
   },
   {
    "duration": 2602,
    "start_time": "2022-04-20T04:46:52.058Z"
   },
   {
    "duration": 172,
    "start_time": "2022-04-20T04:47:05.574Z"
   },
   {
    "duration": 252,
    "start_time": "2022-04-20T04:47:39.611Z"
   },
   {
    "duration": 185,
    "start_time": "2022-04-20T04:47:57.720Z"
   },
   {
    "duration": 180,
    "start_time": "2022-04-20T04:50:45.348Z"
   },
   {
    "duration": 3,
    "start_time": "2022-04-20T04:52:15.172Z"
   },
   {
    "duration": 78,
    "start_time": "2022-04-20T04:52:15.180Z"
   },
   {
    "duration": 10,
    "start_time": "2022-04-20T04:52:15.260Z"
   },
   {
    "duration": 15,
    "start_time": "2022-04-20T04:52:15.272Z"
   },
   {
    "duration": 32,
    "start_time": "2022-04-20T04:52:15.290Z"
   },
   {
    "duration": 11,
    "start_time": "2022-04-20T04:52:15.324Z"
   },
   {
    "duration": 5,
    "start_time": "2022-04-20T04:52:15.337Z"
   },
   {
    "duration": 8,
    "start_time": "2022-04-20T04:52:15.343Z"
   },
   {
    "duration": 9,
    "start_time": "2022-04-20T04:52:15.353Z"
   },
   {
    "duration": 61,
    "start_time": "2022-04-20T04:52:15.363Z"
   },
   {
    "duration": 8,
    "start_time": "2022-04-20T04:52:15.426Z"
   },
   {
    "duration": 9,
    "start_time": "2022-04-20T04:52:15.436Z"
   },
   {
    "duration": 10,
    "start_time": "2022-04-20T04:52:15.447Z"
   },
   {
    "duration": 220,
    "start_time": "2022-04-20T04:52:15.459Z"
   },
   {
    "duration": 6,
    "start_time": "2022-04-20T04:52:15.680Z"
   },
   {
    "duration": 12,
    "start_time": "2022-04-20T04:52:15.688Z"
   },
   {
    "duration": 148,
    "start_time": "2022-04-20T04:52:15.701Z"
   },
   {
    "duration": 14,
    "start_time": "2022-04-20T04:52:15.851Z"
   },
   {
    "duration": 5,
    "start_time": "2022-04-20T04:52:15.867Z"
   },
   {
    "duration": 5,
    "start_time": "2022-04-20T04:52:15.873Z"
   },
   {
    "duration": 191,
    "start_time": "2022-04-20T04:52:15.880Z"
   },
   {
    "duration": 13,
    "start_time": "2022-04-20T04:52:16.072Z"
   },
   {
    "duration": 21,
    "start_time": "2022-04-20T04:52:16.086Z"
   },
   {
    "duration": 17,
    "start_time": "2022-04-20T04:52:16.109Z"
   },
   {
    "duration": 16,
    "start_time": "2022-04-20T04:52:16.128Z"
   },
   {
    "duration": 158,
    "start_time": "2022-04-20T04:52:16.147Z"
   },
   {
    "duration": 16,
    "start_time": "2022-04-20T04:52:16.307Z"
   },
   {
    "duration": 13,
    "start_time": "2022-04-20T04:52:16.325Z"
   },
   {
    "duration": 254,
    "start_time": "2022-04-20T04:52:16.342Z"
   },
   {
    "duration": 12,
    "start_time": "2022-04-20T04:52:16.597Z"
   },
   {
    "duration": 22,
    "start_time": "2022-04-20T04:52:16.611Z"
   },
   {
    "duration": 25,
    "start_time": "2022-04-20T04:52:16.635Z"
   },
   {
    "duration": 25,
    "start_time": "2022-04-20T04:52:16.662Z"
   },
   {
    "duration": 11,
    "start_time": "2022-04-20T04:52:16.688Z"
   },
   {
    "duration": 196,
    "start_time": "2022-04-20T04:52:16.700Z"
   },
   {
    "duration": 10,
    "start_time": "2022-04-20T04:58:58.926Z"
   },
   {
    "duration": 11,
    "start_time": "2022-04-20T04:59:16.896Z"
   },
   {
    "duration": 7,
    "start_time": "2022-04-20T04:59:19.044Z"
   },
   {
    "duration": 13,
    "start_time": "2022-04-20T04:59:28.987Z"
   },
   {
    "duration": 7,
    "start_time": "2022-04-20T04:59:29.984Z"
   },
   {
    "duration": 193,
    "start_time": "2022-04-20T04:59:35.813Z"
   },
   {
    "duration": 1498,
    "start_time": "2022-04-20T09:37:30.384Z"
   },
   {
    "duration": 49,
    "start_time": "2022-04-20T09:37:31.884Z"
   },
   {
    "duration": 17,
    "start_time": "2022-04-20T09:37:31.934Z"
   },
   {
    "duration": 23,
    "start_time": "2022-04-20T09:37:31.955Z"
   },
   {
    "duration": 13,
    "start_time": "2022-04-20T09:37:31.980Z"
   },
   {
    "duration": 11,
    "start_time": "2022-04-20T09:37:31.994Z"
   },
   {
    "duration": 4,
    "start_time": "2022-04-20T09:37:32.007Z"
   },
   {
    "duration": 7,
    "start_time": "2022-04-20T09:37:32.013Z"
   },
   {
    "duration": 37,
    "start_time": "2022-04-20T09:37:32.022Z"
   },
   {
    "duration": 33,
    "start_time": "2022-04-20T09:37:32.060Z"
   },
   {
    "duration": 6,
    "start_time": "2022-04-20T09:37:32.095Z"
   },
   {
    "duration": 7,
    "start_time": "2022-04-20T09:37:32.103Z"
   },
   {
    "duration": 11,
    "start_time": "2022-04-20T09:37:32.112Z"
   },
   {
    "duration": 249,
    "start_time": "2022-04-20T09:37:32.126Z"
   },
   {
    "duration": 7,
    "start_time": "2022-04-20T09:37:32.377Z"
   },
   {
    "duration": 7,
    "start_time": "2022-04-20T09:37:32.385Z"
   },
   {
    "duration": 164,
    "start_time": "2022-04-20T09:37:32.394Z"
   },
   {
    "duration": 23,
    "start_time": "2022-04-20T09:37:32.560Z"
   },
   {
    "duration": 4,
    "start_time": "2022-04-20T09:37:32.585Z"
   },
   {
    "duration": 6,
    "start_time": "2022-04-20T09:37:32.591Z"
   },
   {
    "duration": 205,
    "start_time": "2022-04-20T09:37:32.599Z"
   },
   {
    "duration": 13,
    "start_time": "2022-04-20T09:37:32.805Z"
   },
   {
    "duration": 8,
    "start_time": "2022-04-20T09:37:32.819Z"
   },
   {
    "duration": 32,
    "start_time": "2022-04-20T09:37:32.828Z"
   },
   {
    "duration": 12,
    "start_time": "2022-04-20T09:37:32.861Z"
   },
   {
    "duration": 178,
    "start_time": "2022-04-20T09:37:32.876Z"
   },
   {
    "duration": 13,
    "start_time": "2022-04-20T09:37:33.058Z"
   },
   {
    "duration": 16,
    "start_time": "2022-04-20T09:37:33.075Z"
   },
   {
    "duration": 316,
    "start_time": "2022-04-20T09:37:33.092Z"
   },
   {
    "duration": 13,
    "start_time": "2022-04-20T09:37:33.409Z"
   },
   {
    "duration": 14,
    "start_time": "2022-04-20T09:37:33.423Z"
   },
   {
    "duration": 24,
    "start_time": "2022-04-20T09:37:33.447Z"
   },
   {
    "duration": 26,
    "start_time": "2022-04-20T09:37:33.472Z"
   },
   {
    "duration": 7,
    "start_time": "2022-04-20T09:37:33.500Z"
   },
   {
    "duration": 227,
    "start_time": "2022-04-20T09:37:33.509Z"
   },
   {
    "duration": 14,
    "start_time": "2022-04-20T09:38:19.735Z"
   },
   {
    "duration": 7,
    "start_time": "2022-04-20T09:38:27.389Z"
   },
   {
    "duration": 13,
    "start_time": "2022-04-20T09:38:45.459Z"
   },
   {
    "duration": 9,
    "start_time": "2022-04-20T09:38:46.734Z"
   },
   {
    "duration": 98,
    "start_time": "2022-04-20T09:41:49.838Z"
   },
   {
    "duration": 11,
    "start_time": "2022-04-20T09:41:57.860Z"
   },
   {
    "duration": 5,
    "start_time": "2022-04-20T09:42:29.984Z"
   },
   {
    "duration": 8,
    "start_time": "2022-04-20T09:42:36.502Z"
   },
   {
    "duration": 20,
    "start_time": "2022-04-20T09:53:32.342Z"
   },
   {
    "duration": 15,
    "start_time": "2022-04-20T09:53:40.741Z"
   },
   {
    "duration": 8,
    "start_time": "2022-04-20T09:53:47.886Z"
   },
   {
    "duration": 26,
    "start_time": "2022-04-20T09:54:57.992Z"
   },
   {
    "duration": 1416,
    "start_time": "2022-04-20T09:55:41.053Z"
   },
   {
    "duration": 54,
    "start_time": "2022-04-20T09:55:42.472Z"
   },
   {
    "duration": 22,
    "start_time": "2022-04-20T09:55:42.528Z"
   },
   {
    "duration": 14,
    "start_time": "2022-04-20T09:55:42.552Z"
   },
   {
    "duration": 9,
    "start_time": "2022-04-20T09:55:42.568Z"
   },
   {
    "duration": 13,
    "start_time": "2022-04-20T09:55:42.579Z"
   },
   {
    "duration": 6,
    "start_time": "2022-04-20T09:55:42.594Z"
   },
   {
    "duration": 14,
    "start_time": "2022-04-20T09:55:42.603Z"
   },
   {
    "duration": 10,
    "start_time": "2022-04-20T09:55:42.647Z"
   },
   {
    "duration": 20,
    "start_time": "2022-04-20T09:55:42.660Z"
   },
   {
    "duration": 7,
    "start_time": "2022-04-20T09:55:42.682Z"
   },
   {
    "duration": 11,
    "start_time": "2022-04-20T09:55:42.691Z"
   },
   {
    "duration": 12,
    "start_time": "2022-04-20T09:55:42.704Z"
   },
   {
    "duration": 236,
    "start_time": "2022-04-20T09:55:42.718Z"
   },
   {
    "duration": 7,
    "start_time": "2022-04-20T09:55:42.956Z"
   },
   {
    "duration": 10,
    "start_time": "2022-04-20T09:55:42.965Z"
   },
   {
    "duration": 218,
    "start_time": "2022-04-20T09:55:42.977Z"
   },
   {
    "duration": 15,
    "start_time": "2022-04-20T09:55:43.197Z"
   },
   {
    "duration": 4,
    "start_time": "2022-04-20T09:55:43.214Z"
   },
   {
    "duration": 8,
    "start_time": "2022-04-20T09:55:43.220Z"
   },
   {
    "duration": 177,
    "start_time": "2022-04-20T09:55:43.247Z"
   },
   {
    "duration": 22,
    "start_time": "2022-04-20T09:55:43.426Z"
   },
   {
    "duration": 8,
    "start_time": "2022-04-20T09:55:43.450Z"
   },
   {
    "duration": 8,
    "start_time": "2022-04-20T09:55:43.459Z"
   },
   {
    "duration": 11,
    "start_time": "2022-04-20T09:55:43.469Z"
   },
   {
    "duration": 268,
    "start_time": "2022-04-20T09:55:43.482Z"
   },
   {
    "duration": 8,
    "start_time": "2022-04-20T09:55:43.752Z"
   },
   {
    "duration": 9,
    "start_time": "2022-04-20T09:55:43.763Z"
   },
   {
    "duration": 275,
    "start_time": "2022-04-20T09:55:43.774Z"
   },
   {
    "duration": 14,
    "start_time": "2022-04-20T09:55:44.052Z"
   },
   {
    "duration": 13,
    "start_time": "2022-04-20T09:55:44.068Z"
   },
   {
    "duration": 18,
    "start_time": "2022-04-20T09:55:44.083Z"
   },
   {
    "duration": 47,
    "start_time": "2022-04-20T09:55:44.103Z"
   },
   {
    "duration": 6,
    "start_time": "2022-04-20T09:55:44.152Z"
   },
   {
    "duration": 211,
    "start_time": "2022-04-20T09:55:44.160Z"
   },
   {
    "duration": 14,
    "start_time": "2022-04-20T09:55:44.372Z"
   },
   {
    "duration": 5,
    "start_time": "2022-04-20T09:55:44.388Z"
   },
   {
    "duration": 11,
    "start_time": "2022-04-20T09:55:44.395Z"
   },
   {
    "duration": 140,
    "start_time": "2022-04-20T09:55:44.408Z"
   },
   {
    "duration": 0,
    "start_time": "2022-04-20T09:55:44.550Z"
   },
   {
    "duration": 17,
    "start_time": "2022-04-20T09:56:02.938Z"
   },
   {
    "duration": 7,
    "start_time": "2022-04-20T09:56:05.394Z"
   },
   {
    "duration": 348,
    "start_time": "2022-04-20T09:58:53.562Z"
   },
   {
    "duration": 248,
    "start_time": "2022-04-20T09:59:01.912Z"
   },
   {
    "duration": 304,
    "start_time": "2022-04-20T09:59:13.106Z"
   },
   {
    "duration": 305,
    "start_time": "2022-04-20T09:59:27.651Z"
   },
   {
    "duration": 4,
    "start_time": "2022-04-20T10:00:08.326Z"
   },
   {
    "duration": 333,
    "start_time": "2022-04-20T10:00:10.208Z"
   },
   {
    "duration": 304,
    "start_time": "2022-04-20T10:02:05.782Z"
   },
   {
    "duration": 338,
    "start_time": "2022-04-20T10:03:01.713Z"
   },
   {
    "duration": 4,
    "start_time": "2022-04-20T10:08:17.575Z"
   },
   {
    "duration": 78,
    "start_time": "2022-04-20T10:08:17.582Z"
   },
   {
    "duration": 10,
    "start_time": "2022-04-20T10:08:17.662Z"
   },
   {
    "duration": 20,
    "start_time": "2022-04-20T10:08:17.674Z"
   },
   {
    "duration": 13,
    "start_time": "2022-04-20T10:08:17.696Z"
   },
   {
    "duration": 43,
    "start_time": "2022-04-20T10:08:17.711Z"
   },
   {
    "duration": 6,
    "start_time": "2022-04-20T10:08:17.756Z"
   },
   {
    "duration": 8,
    "start_time": "2022-04-20T10:08:17.764Z"
   },
   {
    "duration": 9,
    "start_time": "2022-04-20T10:08:17.773Z"
   },
   {
    "duration": 17,
    "start_time": "2022-04-20T10:08:17.784Z"
   },
   {
    "duration": 51,
    "start_time": "2022-04-20T10:08:17.803Z"
   },
   {
    "duration": 8,
    "start_time": "2022-04-20T10:08:17.856Z"
   },
   {
    "duration": 8,
    "start_time": "2022-04-20T10:08:17.866Z"
   },
   {
    "duration": 8,
    "start_time": "2022-04-20T10:08:17.876Z"
   },
   {
    "duration": 207,
    "start_time": "2022-04-20T10:08:17.885Z"
   },
   {
    "duration": 8,
    "start_time": "2022-04-20T10:08:18.094Z"
   },
   {
    "duration": 9,
    "start_time": "2022-04-20T10:08:18.104Z"
   },
   {
    "duration": 150,
    "start_time": "2022-04-20T10:08:18.115Z"
   },
   {
    "duration": 17,
    "start_time": "2022-04-20T10:08:18.266Z"
   },
   {
    "duration": 5,
    "start_time": "2022-04-20T10:08:18.284Z"
   },
   {
    "duration": 6,
    "start_time": "2022-04-20T10:08:18.291Z"
   },
   {
    "duration": 214,
    "start_time": "2022-04-20T10:08:18.299Z"
   },
   {
    "duration": 13,
    "start_time": "2022-04-20T10:08:18.515Z"
   },
   {
    "duration": 17,
    "start_time": "2022-04-20T10:08:18.530Z"
   },
   {
    "duration": 9,
    "start_time": "2022-04-20T10:08:18.549Z"
   },
   {
    "duration": 8,
    "start_time": "2022-04-20T10:08:18.562Z"
   },
   {
    "duration": 269,
    "start_time": "2022-04-20T10:08:18.572Z"
   },
   {
    "duration": 13,
    "start_time": "2022-04-20T10:08:18.843Z"
   },
   {
    "duration": 11,
    "start_time": "2022-04-20T10:08:18.858Z"
   },
   {
    "duration": 404,
    "start_time": "2022-04-20T10:08:18.871Z"
   },
   {
    "duration": 19,
    "start_time": "2022-04-20T10:08:19.277Z"
   },
   {
    "duration": 17,
    "start_time": "2022-04-20T10:08:19.298Z"
   },
   {
    "duration": 43,
    "start_time": "2022-04-20T10:08:19.317Z"
   },
   {
    "duration": 18,
    "start_time": "2022-04-20T10:08:19.361Z"
   },
   {
    "duration": 12,
    "start_time": "2022-04-20T10:08:19.380Z"
   },
   {
    "duration": 239,
    "start_time": "2022-04-20T10:08:19.394Z"
   },
   {
    "duration": 23,
    "start_time": "2022-04-20T10:08:19.635Z"
   },
   {
    "duration": 6,
    "start_time": "2022-04-20T10:08:19.659Z"
   },
   {
    "duration": 12,
    "start_time": "2022-04-20T10:08:19.668Z"
   },
   {
    "duration": 18,
    "start_time": "2022-04-20T10:08:19.682Z"
   },
   {
    "duration": 3,
    "start_time": "2022-04-20T10:08:19.702Z"
   },
   {
    "duration": 233,
    "start_time": "2022-04-20T10:08:19.707Z"
   },
   {
    "duration": 292,
    "start_time": "2022-04-20T10:08:50.779Z"
   },
   {
    "duration": 176,
    "start_time": "2022-04-20T10:09:14.496Z"
   },
   {
    "duration": 14,
    "start_time": "2022-04-20T10:12:10.296Z"
   },
   {
    "duration": 14,
    "start_time": "2022-04-20T10:12:19.754Z"
   },
   {
    "duration": 12,
    "start_time": "2022-04-20T10:12:24.202Z"
   },
   {
    "duration": 7,
    "start_time": "2022-04-20T10:12:27.324Z"
   },
   {
    "duration": 78,
    "start_time": "2022-04-20T10:12:58.069Z"
   },
   {
    "duration": 185,
    "start_time": "2022-04-20T10:13:04.036Z"
   },
   {
    "duration": 1291,
    "start_time": "2022-04-20T10:13:22.472Z"
   },
   {
    "duration": 90,
    "start_time": "2022-04-20T10:13:23.765Z"
   },
   {
    "duration": 24,
    "start_time": "2022-04-20T10:13:23.857Z"
   },
   {
    "duration": 14,
    "start_time": "2022-04-20T10:13:23.883Z"
   },
   {
    "duration": 8,
    "start_time": "2022-04-20T10:13:23.899Z"
   },
   {
    "duration": 9,
    "start_time": "2022-04-20T10:13:23.908Z"
   },
   {
    "duration": 42,
    "start_time": "2022-04-20T10:13:23.919Z"
   },
   {
    "duration": 24,
    "start_time": "2022-04-20T10:13:23.964Z"
   },
   {
    "duration": 9,
    "start_time": "2022-04-20T10:13:23.990Z"
   },
   {
    "duration": 16,
    "start_time": "2022-04-20T10:13:24.001Z"
   },
   {
    "duration": 7,
    "start_time": "2022-04-20T10:13:24.018Z"
   },
   {
    "duration": 10,
    "start_time": "2022-04-20T10:13:24.027Z"
   },
   {
    "duration": 20,
    "start_time": "2022-04-20T10:13:24.049Z"
   },
   {
    "duration": 11,
    "start_time": "2022-04-20T10:13:24.074Z"
   },
   {
    "duration": 223,
    "start_time": "2022-04-20T10:13:24.087Z"
   },
   {
    "duration": 6,
    "start_time": "2022-04-20T10:13:24.312Z"
   },
   {
    "duration": 6,
    "start_time": "2022-04-20T10:13:24.320Z"
   },
   {
    "duration": 189,
    "start_time": "2022-04-20T10:13:24.327Z"
   },
   {
    "duration": 17,
    "start_time": "2022-04-20T10:13:24.518Z"
   },
   {
    "duration": 4,
    "start_time": "2022-04-20T10:13:24.537Z"
   },
   {
    "duration": 16,
    "start_time": "2022-04-20T10:13:24.542Z"
   },
   {
    "duration": 244,
    "start_time": "2022-04-20T10:13:24.561Z"
   },
   {
    "duration": 13,
    "start_time": "2022-04-20T10:13:24.807Z"
   },
   {
    "duration": 13,
    "start_time": "2022-04-20T10:13:24.821Z"
   },
   {
    "duration": 23,
    "start_time": "2022-04-20T10:13:24.836Z"
   },
   {
    "duration": 13,
    "start_time": "2022-04-20T10:13:24.864Z"
   },
   {
    "duration": 202,
    "start_time": "2022-04-20T10:13:24.879Z"
   },
   {
    "duration": 8,
    "start_time": "2022-04-20T10:13:25.083Z"
   },
   {
    "duration": 8,
    "start_time": "2022-04-20T10:13:25.093Z"
   },
   {
    "duration": 433,
    "start_time": "2022-04-20T10:13:25.103Z"
   },
   {
    "duration": 31,
    "start_time": "2022-04-20T10:13:25.537Z"
   },
   {
    "duration": 18,
    "start_time": "2022-04-20T10:13:25.573Z"
   },
   {
    "duration": 14,
    "start_time": "2022-04-20T10:13:25.593Z"
   },
   {
    "duration": 15,
    "start_time": "2022-04-20T10:13:25.609Z"
   },
   {
    "duration": 6,
    "start_time": "2022-04-20T10:13:25.626Z"
   },
   {
    "duration": 258,
    "start_time": "2022-04-20T10:13:25.634Z"
   },
   {
    "duration": 15,
    "start_time": "2022-04-20T10:13:25.894Z"
   },
   {
    "duration": 6,
    "start_time": "2022-04-20T10:13:25.911Z"
   },
   {
    "duration": 39,
    "start_time": "2022-04-20T10:13:25.919Z"
   },
   {
    "duration": 36,
    "start_time": "2022-04-20T10:13:25.960Z"
   },
   {
    "duration": 3,
    "start_time": "2022-04-20T10:13:26.000Z"
   },
   {
    "duration": 235,
    "start_time": "2022-04-20T10:13:26.005Z"
   },
   {
    "duration": 228,
    "start_time": "2022-04-20T10:13:45.007Z"
   },
   {
    "duration": 186,
    "start_time": "2022-04-20T10:13:51.477Z"
   },
   {
    "duration": 1285,
    "start_time": "2022-04-20T15:41:54.030Z"
   },
   {
    "duration": 59,
    "start_time": "2022-04-20T15:41:55.317Z"
   },
   {
    "duration": 14,
    "start_time": "2022-04-20T15:41:55.378Z"
   },
   {
    "duration": 18,
    "start_time": "2022-04-20T15:41:55.394Z"
   },
   {
    "duration": 15,
    "start_time": "2022-04-20T15:41:55.414Z"
   },
   {
    "duration": 20,
    "start_time": "2022-04-20T15:41:55.431Z"
   },
   {
    "duration": 22,
    "start_time": "2022-04-20T15:41:55.453Z"
   },
   {
    "duration": 7,
    "start_time": "2022-04-20T15:41:55.477Z"
   },
   {
    "duration": 9,
    "start_time": "2022-04-20T15:41:55.485Z"
   },
   {
    "duration": 18,
    "start_time": "2022-04-20T15:41:55.497Z"
   },
   {
    "duration": 7,
    "start_time": "2022-04-20T15:41:55.517Z"
   },
   {
    "duration": 11,
    "start_time": "2022-04-20T15:41:55.525Z"
   },
   {
    "duration": 39,
    "start_time": "2022-04-20T15:41:55.538Z"
   },
   {
    "duration": 7,
    "start_time": "2022-04-20T15:41:55.579Z"
   },
   {
    "duration": 221,
    "start_time": "2022-04-20T15:41:55.588Z"
   },
   {
    "duration": 7,
    "start_time": "2022-04-20T15:41:55.810Z"
   },
   {
    "duration": 8,
    "start_time": "2022-04-20T15:41:55.819Z"
   },
   {
    "duration": 163,
    "start_time": "2022-04-20T15:41:55.829Z"
   },
   {
    "duration": 18,
    "start_time": "2022-04-20T15:41:55.995Z"
   },
   {
    "duration": 5,
    "start_time": "2022-04-20T15:41:56.015Z"
   },
   {
    "duration": 11,
    "start_time": "2022-04-20T15:41:56.022Z"
   },
   {
    "duration": 231,
    "start_time": "2022-04-20T15:41:56.034Z"
   },
   {
    "duration": 17,
    "start_time": "2022-04-20T15:41:56.267Z"
   },
   {
    "duration": 8,
    "start_time": "2022-04-20T15:41:56.285Z"
   },
   {
    "duration": 10,
    "start_time": "2022-04-20T15:41:56.294Z"
   },
   {
    "duration": 10,
    "start_time": "2022-04-20T15:41:56.305Z"
   },
   {
    "duration": 193,
    "start_time": "2022-04-20T15:41:56.317Z"
   },
   {
    "duration": 9,
    "start_time": "2022-04-20T15:41:56.513Z"
   },
   {
    "duration": 9,
    "start_time": "2022-04-20T15:41:56.524Z"
   },
   {
    "duration": 288,
    "start_time": "2022-04-20T15:41:56.535Z"
   },
   {
    "duration": 13,
    "start_time": "2022-04-20T15:41:56.825Z"
   },
   {
    "duration": 17,
    "start_time": "2022-04-20T15:41:56.840Z"
   },
   {
    "duration": 25,
    "start_time": "2022-04-20T15:41:56.858Z"
   },
   {
    "duration": 17,
    "start_time": "2022-04-20T15:41:56.885Z"
   },
   {
    "duration": 6,
    "start_time": "2022-04-20T15:41:56.904Z"
   },
   {
    "duration": 250,
    "start_time": "2022-04-20T15:41:56.912Z"
   },
   {
    "duration": 20,
    "start_time": "2022-04-20T15:41:57.164Z"
   },
   {
    "duration": 5,
    "start_time": "2022-04-20T15:41:57.186Z"
   },
   {
    "duration": 27,
    "start_time": "2022-04-20T15:41:57.192Z"
   },
   {
    "duration": 18,
    "start_time": "2022-04-20T15:41:57.220Z"
   },
   {
    "duration": 3,
    "start_time": "2022-04-20T15:41:57.240Z"
   },
   {
    "duration": 242,
    "start_time": "2022-04-20T15:41:57.245Z"
   },
   {
    "duration": 281,
    "start_time": "2022-04-20T15:42:21.075Z"
   },
   {
    "duration": 7,
    "start_time": "2022-04-20T15:42:25.521Z"
   },
   {
    "duration": 9,
    "start_time": "2022-04-20T15:42:26.016Z"
   },
   {
    "duration": 203,
    "start_time": "2022-04-20T15:42:26.597Z"
   },
   {
    "duration": 193,
    "start_time": "2022-04-20T15:42:30.913Z"
   },
   {
    "duration": 7,
    "start_time": "2022-04-20T15:42:35.722Z"
   },
   {
    "duration": 7,
    "start_time": "2022-04-20T15:42:36.192Z"
   },
   {
    "duration": 140,
    "start_time": "2022-04-20T15:42:36.680Z"
   },
   {
    "duration": 15,
    "start_time": "2022-04-20T15:42:41.696Z"
   },
   {
    "duration": 4,
    "start_time": "2022-04-20T15:42:42.752Z"
   },
   {
    "duration": 4,
    "start_time": "2022-04-20T15:42:43.264Z"
   },
   {
    "duration": 189,
    "start_time": "2022-04-20T15:42:43.799Z"
   },
   {
    "duration": 95,
    "start_time": "2022-04-20T16:00:54.563Z"
   },
   {
    "duration": 26511,
    "start_time": "2022-04-20T16:01:21.918Z"
   },
   {
    "duration": 14,
    "start_time": "2022-04-20T16:01:51.923Z"
   },
   {
    "duration": 14,
    "start_time": "2022-04-20T16:02:30.498Z"
   },
   {
    "duration": 6,
    "start_time": "2022-04-20T16:02:43.702Z"
   },
   {
    "duration": 4,
    "start_time": "2022-04-20T16:07:03.779Z"
   },
   {
    "duration": 109,
    "start_time": "2022-04-20T16:08:01.114Z"
   },
   {
    "duration": 15,
    "start_time": "2022-04-20T16:08:12.590Z"
   },
   {
    "duration": 11,
    "start_time": "2022-04-20T16:08:22.965Z"
   },
   {
    "duration": 14,
    "start_time": "2022-04-20T16:08:36.005Z"
   },
   {
    "duration": 89,
    "start_time": "2022-04-20T16:10:33.932Z"
   },
   {
    "duration": 16,
    "start_time": "2022-04-20T16:10:42.190Z"
   },
   {
    "duration": 1310,
    "start_time": "2022-04-20T16:10:54.851Z"
   },
   {
    "duration": 21,
    "start_time": "2022-04-20T16:10:59.516Z"
   },
   {
    "duration": 18,
    "start_time": "2022-04-20T16:11:10.841Z"
   },
   {
    "duration": 18,
    "start_time": "2022-04-20T16:11:37.196Z"
   },
   {
    "duration": 21,
    "start_time": "2022-04-20T16:11:39.573Z"
   },
   {
    "duration": 10,
    "start_time": "2022-04-20T16:12:35.055Z"
   },
   {
    "duration": 13,
    "start_time": "2022-04-20T16:12:44.358Z"
   },
   {
    "duration": 4,
    "start_time": "2022-04-20T16:12:53.229Z"
   },
   {
    "duration": 17,
    "start_time": "2022-04-20T16:13:00.852Z"
   },
   {
    "duration": 20,
    "start_time": "2022-04-20T16:13:01.846Z"
   },
   {
    "duration": 9,
    "start_time": "2022-04-20T16:17:55.289Z"
   },
   {
    "duration": 32,
    "start_time": "2022-04-20T16:18:00.909Z"
   },
   {
    "duration": 13,
    "start_time": "2022-04-20T16:20:31.704Z"
   },
   {
    "duration": 31,
    "start_time": "2022-04-20T16:20:39.486Z"
   },
   {
    "duration": 21,
    "start_time": "2022-04-20T16:21:18.006Z"
   },
   {
    "duration": 20,
    "start_time": "2022-04-20T16:21:18.887Z"
   },
   {
    "duration": 35,
    "start_time": "2022-04-20T16:21:24.511Z"
   },
   {
    "duration": 18,
    "start_time": "2022-04-20T16:21:27.295Z"
   },
   {
    "duration": 17,
    "start_time": "2022-04-20T16:21:28.296Z"
   },
   {
    "duration": 10,
    "start_time": "2022-04-20T16:21:58.887Z"
   },
   {
    "duration": 17,
    "start_time": "2022-04-20T16:22:00.063Z"
   },
   {
    "duration": 9,
    "start_time": "2022-04-20T16:22:05.137Z"
   },
   {
    "duration": 18,
    "start_time": "2022-04-20T16:22:07.985Z"
   },
   {
    "duration": 19,
    "start_time": "2022-04-20T16:22:12.371Z"
   },
   {
    "duration": 19,
    "start_time": "2022-04-20T16:22:13.072Z"
   },
   {
    "duration": 34,
    "start_time": "2022-04-20T16:22:15.559Z"
   },
   {
    "duration": 43,
    "start_time": "2022-04-20T16:22:17.959Z"
   },
   {
    "duration": 17,
    "start_time": "2022-04-20T16:22:19.057Z"
   },
   {
    "duration": 35,
    "start_time": "2022-04-20T16:24:21.752Z"
   },
   {
    "duration": 18,
    "start_time": "2022-04-20T16:24:22.711Z"
   },
   {
    "duration": 20,
    "start_time": "2022-04-20T16:24:32.024Z"
   },
   {
    "duration": 18,
    "start_time": "2022-04-20T16:24:32.705Z"
   },
   {
    "duration": 36,
    "start_time": "2022-04-20T16:24:35.438Z"
   },
   {
    "duration": 37,
    "start_time": "2022-04-20T16:26:04.113Z"
   },
   {
    "duration": 16,
    "start_time": "2022-04-20T16:26:05.380Z"
   },
   {
    "duration": 34,
    "start_time": "2022-04-20T16:26:39.634Z"
   },
   {
    "duration": 18,
    "start_time": "2022-04-20T16:26:41.003Z"
   },
   {
    "duration": 1215,
    "start_time": "2022-04-20T16:28:17.702Z"
   },
   {
    "duration": 944,
    "start_time": "2022-04-20T16:28:18.919Z"
   },
   {
    "duration": 52,
    "start_time": "2022-04-20T16:28:19.865Z"
   },
   {
    "duration": 14,
    "start_time": "2022-04-20T16:28:19.919Z"
   },
   {
    "duration": 15,
    "start_time": "2022-04-20T16:28:19.935Z"
   },
   {
    "duration": 25,
    "start_time": "2022-04-20T16:28:19.952Z"
   },
   {
    "duration": 12,
    "start_time": "2022-04-20T16:28:19.979Z"
   },
   {
    "duration": 7,
    "start_time": "2022-04-20T16:28:19.992Z"
   },
   {
    "duration": 12,
    "start_time": "2022-04-20T16:28:20.000Z"
   },
   {
    "duration": 11,
    "start_time": "2022-04-20T16:28:20.015Z"
   },
   {
    "duration": 49,
    "start_time": "2022-04-20T16:28:20.028Z"
   },
   {
    "duration": 8,
    "start_time": "2022-04-20T16:28:20.078Z"
   },
   {
    "duration": 11,
    "start_time": "2022-04-20T16:28:20.088Z"
   },
   {
    "duration": 11,
    "start_time": "2022-04-20T16:28:20.101Z"
   },
   {
    "duration": 15,
    "start_time": "2022-04-20T16:28:20.114Z"
   },
   {
    "duration": 225,
    "start_time": "2022-04-20T16:28:20.131Z"
   },
   {
    "duration": 16,
    "start_time": "2022-04-20T16:28:20.357Z"
   },
   {
    "duration": 7,
    "start_time": "2022-04-20T16:28:20.375Z"
   },
   {
    "duration": 153,
    "start_time": "2022-04-20T16:28:20.384Z"
   },
   {
    "duration": 18,
    "start_time": "2022-04-20T16:28:20.539Z"
   },
   {
    "duration": 17,
    "start_time": "2022-04-20T16:28:20.559Z"
   },
   {
    "duration": 8,
    "start_time": "2022-04-20T16:28:20.578Z"
   },
   {
    "duration": 211,
    "start_time": "2022-04-20T16:28:20.588Z"
   },
   {
    "duration": 14,
    "start_time": "2022-04-20T16:28:20.801Z"
   },
   {
    "duration": 13,
    "start_time": "2022-04-20T16:28:20.817Z"
   },
   {
    "duration": 13,
    "start_time": "2022-04-20T16:28:20.832Z"
   },
   {
    "duration": 27,
    "start_time": "2022-04-20T16:28:20.847Z"
   },
   {
    "duration": 189,
    "start_time": "2022-04-20T16:28:20.878Z"
   },
   {
    "duration": 9,
    "start_time": "2022-04-20T16:28:21.069Z"
   },
   {
    "duration": 11,
    "start_time": "2022-04-20T16:28:21.080Z"
   },
   {
    "duration": 298,
    "start_time": "2022-04-20T16:28:21.092Z"
   },
   {
    "duration": 13,
    "start_time": "2022-04-20T16:28:21.391Z"
   },
   {
    "duration": 12,
    "start_time": "2022-04-20T16:28:21.405Z"
   },
   {
    "duration": 20,
    "start_time": "2022-04-20T16:28:21.419Z"
   },
   {
    "duration": 40,
    "start_time": "2022-04-20T16:28:21.441Z"
   },
   {
    "duration": 8,
    "start_time": "2022-04-20T16:28:21.482Z"
   },
   {
    "duration": 249,
    "start_time": "2022-04-20T16:28:21.491Z"
   },
   {
    "duration": 4,
    "start_time": "2022-04-20T16:28:21.742Z"
   },
   {
    "duration": 26,
    "start_time": "2022-04-20T16:28:21.748Z"
   },
   {
    "duration": 18,
    "start_time": "2022-04-20T16:28:21.776Z"
   },
   {
    "duration": 35,
    "start_time": "2022-04-20T16:28:21.796Z"
   },
   {
    "duration": 60,
    "start_time": "2022-04-20T16:28:21.832Z"
   },
   {
    "duration": 17,
    "start_time": "2022-04-20T16:28:21.894Z"
   },
   {
    "duration": 18,
    "start_time": "2022-04-20T16:28:21.912Z"
   },
   {
    "duration": 110,
    "start_time": "2022-04-20T16:28:21.931Z"
   },
   {
    "duration": 14,
    "start_time": "2022-04-20T16:28:22.043Z"
   },
   {
    "duration": 28,
    "start_time": "2022-04-20T16:28:22.059Z"
   },
   {
    "duration": 4,
    "start_time": "2022-04-20T16:28:22.089Z"
   },
   {
    "duration": 259,
    "start_time": "2022-04-20T16:28:22.095Z"
   },
   {
    "duration": 14,
    "start_time": "2022-04-20T16:28:49.740Z"
   },
   {
    "duration": 6,
    "start_time": "2022-04-20T16:30:02.898Z"
   },
   {
    "duration": 14,
    "start_time": "2022-04-20T16:30:04.446Z"
   },
   {
    "duration": 18,
    "start_time": "2022-04-20T16:30:16.050Z"
   },
   {
    "duration": 6,
    "start_time": "2022-04-20T16:30:35.051Z"
   },
   {
    "duration": 16,
    "start_time": "2022-04-20T16:30:36.418Z"
   },
   {
    "duration": 18,
    "start_time": "2022-04-20T16:30:47.136Z"
   },
   {
    "duration": 17,
    "start_time": "2022-04-20T16:30:47.912Z"
   },
   {
    "duration": 32,
    "start_time": "2022-04-20T16:30:51.224Z"
   },
   {
    "duration": 35,
    "start_time": "2022-04-20T16:30:53.189Z"
   },
   {
    "duration": 17,
    "start_time": "2022-04-20T16:30:55.712Z"
   },
   {
    "duration": 30,
    "start_time": "2022-04-20T16:32:34.850Z"
   },
   {
    "duration": 16,
    "start_time": "2022-04-20T16:32:35.539Z"
   },
   {
    "duration": 20,
    "start_time": "2022-04-20T16:32:41.145Z"
   },
   {
    "duration": 15,
    "start_time": "2022-04-20T16:32:41.768Z"
   },
   {
    "duration": 35,
    "start_time": "2022-04-20T16:32:44.681Z"
   },
   {
    "duration": 32,
    "start_time": "2022-04-20T16:32:45.952Z"
   },
   {
    "duration": 16,
    "start_time": "2022-04-20T16:32:46.673Z"
   },
   {
    "duration": 3,
    "start_time": "2022-04-20T16:32:55.193Z"
   },
   {
    "duration": 616,
    "start_time": "2022-04-20T16:32:55.198Z"
   },
   {
    "duration": 48,
    "start_time": "2022-04-20T16:32:55.816Z"
   },
   {
    "duration": 9,
    "start_time": "2022-04-20T16:32:55.866Z"
   },
   {
    "duration": 18,
    "start_time": "2022-04-20T16:32:55.877Z"
   },
   {
    "duration": 8,
    "start_time": "2022-04-20T16:32:55.896Z"
   },
   {
    "duration": 12,
    "start_time": "2022-04-20T16:32:55.905Z"
   },
   {
    "duration": 6,
    "start_time": "2022-04-20T16:32:55.918Z"
   },
   {
    "duration": 7,
    "start_time": "2022-04-20T16:32:55.927Z"
   },
   {
    "duration": 38,
    "start_time": "2022-04-20T16:32:55.936Z"
   },
   {
    "duration": 16,
    "start_time": "2022-04-20T16:32:55.976Z"
   },
   {
    "duration": 7,
    "start_time": "2022-04-20T16:32:55.994Z"
   },
   {
    "duration": 12,
    "start_time": "2022-04-20T16:32:56.003Z"
   },
   {
    "duration": 16,
    "start_time": "2022-04-20T16:32:56.017Z"
   },
   {
    "duration": 7,
    "start_time": "2022-04-20T16:32:56.035Z"
   },
   {
    "duration": 229,
    "start_time": "2022-04-20T16:32:56.043Z"
   },
   {
    "duration": 7,
    "start_time": "2022-04-20T16:32:56.273Z"
   },
   {
    "duration": 7,
    "start_time": "2022-04-20T16:32:56.281Z"
   },
   {
    "duration": 161,
    "start_time": "2022-04-20T16:32:56.290Z"
   },
   {
    "duration": 20,
    "start_time": "2022-04-20T16:32:56.453Z"
   },
   {
    "duration": 5,
    "start_time": "2022-04-20T16:32:56.475Z"
   },
   {
    "duration": 8,
    "start_time": "2022-04-20T16:32:56.481Z"
   },
   {
    "duration": 209,
    "start_time": "2022-04-20T16:32:56.490Z"
   },
   {
    "duration": 12,
    "start_time": "2022-04-20T16:32:56.703Z"
   },
   {
    "duration": 7,
    "start_time": "2022-04-20T16:32:56.716Z"
   },
   {
    "duration": 8,
    "start_time": "2022-04-20T16:32:56.724Z"
   },
   {
    "duration": 8,
    "start_time": "2022-04-20T16:32:56.733Z"
   },
   {
    "duration": 189,
    "start_time": "2022-04-20T16:32:56.742Z"
   },
   {
    "duration": 8,
    "start_time": "2022-04-20T16:32:56.933Z"
   },
   {
    "duration": 8,
    "start_time": "2022-04-20T16:32:56.942Z"
   },
   {
    "duration": 282,
    "start_time": "2022-04-20T16:32:56.952Z"
   },
   {
    "duration": 14,
    "start_time": "2022-04-20T16:32:57.236Z"
   },
   {
    "duration": 26,
    "start_time": "2022-04-20T16:32:57.252Z"
   },
   {
    "duration": 16,
    "start_time": "2022-04-20T16:32:57.280Z"
   },
   {
    "duration": 17,
    "start_time": "2022-04-20T16:32:57.298Z"
   },
   {
    "duration": 7,
    "start_time": "2022-04-20T16:32:57.316Z"
   },
   {
    "duration": 244,
    "start_time": "2022-04-20T16:32:57.324Z"
   },
   {
    "duration": 5,
    "start_time": "2022-04-20T16:32:57.572Z"
   },
   {
    "duration": 23,
    "start_time": "2022-04-20T16:32:57.578Z"
   },
   {
    "duration": 17,
    "start_time": "2022-04-20T16:32:57.603Z"
   },
   {
    "duration": 55,
    "start_time": "2022-04-20T16:32:57.621Z"
   },
   {
    "duration": 33,
    "start_time": "2022-04-20T16:32:57.678Z"
   },
   {
    "duration": 16,
    "start_time": "2022-04-20T16:32:57.713Z"
   },
   {
    "duration": 23,
    "start_time": "2022-04-20T16:32:57.730Z"
   },
   {
    "duration": 20,
    "start_time": "2022-04-20T16:32:57.754Z"
   },
   {
    "duration": 23,
    "start_time": "2022-04-20T16:32:57.775Z"
   },
   {
    "duration": 24,
    "start_time": "2022-04-20T16:32:57.799Z"
   },
   {
    "duration": 3,
    "start_time": "2022-04-20T16:32:57.825Z"
   },
   {
    "duration": 221,
    "start_time": "2022-04-20T16:32:57.830Z"
   },
   {
    "duration": 134,
    "start_time": "2022-04-20T16:33:13.659Z"
   },
   {
    "duration": 9,
    "start_time": "2022-04-20T16:36:07.679Z"
   },
   {
    "duration": 16,
    "start_time": "2022-04-20T16:36:08.523Z"
   },
   {
    "duration": 15,
    "start_time": "2022-04-20T16:36:24.758Z"
   },
   {
    "duration": 12,
    "start_time": "2022-04-20T16:37:36.953Z"
   },
   {
    "duration": 12,
    "start_time": "2022-04-20T16:38:19.975Z"
   },
   {
    "duration": 5,
    "start_time": "2022-04-20T16:39:37.608Z"
   },
   {
    "duration": 18,
    "start_time": "2022-04-20T16:39:38.431Z"
   },
   {
    "duration": 4,
    "start_time": "2022-04-20T16:39:46.305Z"
   },
   {
    "duration": 983,
    "start_time": "2022-04-20T16:39:46.311Z"
   },
   {
    "duration": 50,
    "start_time": "2022-04-20T16:39:47.296Z"
   },
   {
    "duration": 10,
    "start_time": "2022-04-20T16:39:47.347Z"
   },
   {
    "duration": 22,
    "start_time": "2022-04-20T16:39:47.358Z"
   },
   {
    "duration": 13,
    "start_time": "2022-04-20T16:39:47.382Z"
   },
   {
    "duration": 10,
    "start_time": "2022-04-20T16:39:47.397Z"
   },
   {
    "duration": 8,
    "start_time": "2022-04-20T16:39:47.408Z"
   },
   {
    "duration": 9,
    "start_time": "2022-04-20T16:39:47.418Z"
   },
   {
    "duration": 13,
    "start_time": "2022-04-20T16:39:47.428Z"
   },
   {
    "duration": 41,
    "start_time": "2022-04-20T16:39:47.442Z"
   },
   {
    "duration": 7,
    "start_time": "2022-04-20T16:39:47.484Z"
   },
   {
    "duration": 13,
    "start_time": "2022-04-20T16:39:47.493Z"
   },
   {
    "duration": 13,
    "start_time": "2022-04-20T16:39:47.507Z"
   },
   {
    "duration": 10,
    "start_time": "2022-04-20T16:39:47.522Z"
   },
   {
    "duration": 204,
    "start_time": "2022-04-20T16:39:47.534Z"
   },
   {
    "duration": 7,
    "start_time": "2022-04-20T16:39:47.740Z"
   },
   {
    "duration": 10,
    "start_time": "2022-04-20T16:39:47.748Z"
   },
   {
    "duration": 158,
    "start_time": "2022-04-20T16:39:47.759Z"
   },
   {
    "duration": 16,
    "start_time": "2022-04-20T16:39:47.919Z"
   },
   {
    "duration": 5,
    "start_time": "2022-04-20T16:39:47.936Z"
   },
   {
    "duration": 6,
    "start_time": "2022-04-20T16:39:47.942Z"
   },
   {
    "duration": 301,
    "start_time": "2022-04-20T16:39:47.950Z"
   },
   {
    "duration": 22,
    "start_time": "2022-04-20T16:39:48.255Z"
   },
   {
    "duration": 10,
    "start_time": "2022-04-20T16:39:48.279Z"
   },
   {
    "duration": 14,
    "start_time": "2022-04-20T16:39:48.290Z"
   },
   {
    "duration": 9,
    "start_time": "2022-04-20T16:39:48.305Z"
   },
   {
    "duration": 185,
    "start_time": "2022-04-20T16:39:48.315Z"
   },
   {
    "duration": 9,
    "start_time": "2022-04-20T16:39:48.501Z"
   },
   {
    "duration": 10,
    "start_time": "2022-04-20T16:39:48.511Z"
   },
   {
    "duration": 282,
    "start_time": "2022-04-20T16:39:48.522Z"
   },
   {
    "duration": 13,
    "start_time": "2022-04-20T16:39:48.806Z"
   },
   {
    "duration": 13,
    "start_time": "2022-04-20T16:39:48.821Z"
   },
   {
    "duration": 16,
    "start_time": "2022-04-20T16:39:48.836Z"
   },
   {
    "duration": 36,
    "start_time": "2022-04-20T16:39:48.854Z"
   },
   {
    "duration": 8,
    "start_time": "2022-04-20T16:39:48.892Z"
   },
   {
    "duration": 242,
    "start_time": "2022-04-20T16:39:48.901Z"
   },
   {
    "duration": 4,
    "start_time": "2022-04-20T16:39:49.145Z"
   },
   {
    "duration": 37,
    "start_time": "2022-04-20T16:39:49.151Z"
   },
   {
    "duration": 15,
    "start_time": "2022-04-20T16:39:49.190Z"
   },
   {
    "duration": 13,
    "start_time": "2022-04-20T16:39:49.207Z"
   },
   {
    "duration": 14,
    "start_time": "2022-04-20T16:39:49.222Z"
   },
   {
    "duration": 58,
    "start_time": "2022-04-20T16:39:49.238Z"
   },
   {
    "duration": 13,
    "start_time": "2022-04-20T16:39:49.298Z"
   },
   {
    "duration": 17,
    "start_time": "2022-04-20T16:39:49.312Z"
   },
   {
    "duration": 15,
    "start_time": "2022-04-20T16:39:49.331Z"
   },
   {
    "duration": 27,
    "start_time": "2022-04-20T16:39:49.348Z"
   },
   {
    "duration": 12,
    "start_time": "2022-04-20T16:39:49.377Z"
   },
   {
    "duration": 18,
    "start_time": "2022-04-20T16:39:49.390Z"
   },
   {
    "duration": 3,
    "start_time": "2022-04-20T16:39:49.409Z"
   },
   {
    "duration": 237,
    "start_time": "2022-04-20T16:39:49.414Z"
   },
   {
    "duration": 5,
    "start_time": "2022-04-20T16:40:00.348Z"
   },
   {
    "duration": 19,
    "start_time": "2022-04-20T16:40:01.002Z"
   },
   {
    "duration": 3,
    "start_time": "2022-04-20T16:40:05.044Z"
   },
   {
    "duration": 642,
    "start_time": "2022-04-20T16:40:05.049Z"
   },
   {
    "duration": 52,
    "start_time": "2022-04-20T16:40:05.692Z"
   },
   {
    "duration": 10,
    "start_time": "2022-04-20T16:40:05.746Z"
   },
   {
    "duration": 33,
    "start_time": "2022-04-20T16:40:05.757Z"
   },
   {
    "duration": 14,
    "start_time": "2022-04-20T16:40:05.791Z"
   },
   {
    "duration": 15,
    "start_time": "2022-04-20T16:40:05.806Z"
   },
   {
    "duration": 12,
    "start_time": "2022-04-20T16:40:05.822Z"
   },
   {
    "duration": 13,
    "start_time": "2022-04-20T16:40:05.837Z"
   },
   {
    "duration": 23,
    "start_time": "2022-04-20T16:40:05.851Z"
   },
   {
    "duration": 19,
    "start_time": "2022-04-20T16:40:05.875Z"
   },
   {
    "duration": 7,
    "start_time": "2022-04-20T16:40:05.895Z"
   },
   {
    "duration": 22,
    "start_time": "2022-04-20T16:40:05.904Z"
   },
   {
    "duration": 13,
    "start_time": "2022-04-20T16:40:05.927Z"
   },
   {
    "duration": 12,
    "start_time": "2022-04-20T16:40:05.941Z"
   },
   {
    "duration": 219,
    "start_time": "2022-04-20T16:40:05.954Z"
   },
   {
    "duration": 8,
    "start_time": "2022-04-20T16:40:06.174Z"
   },
   {
    "duration": 9,
    "start_time": "2022-04-20T16:40:06.183Z"
   },
   {
    "duration": 162,
    "start_time": "2022-04-20T16:40:06.194Z"
   },
   {
    "duration": 23,
    "start_time": "2022-04-20T16:40:06.357Z"
   },
   {
    "duration": 5,
    "start_time": "2022-04-20T16:40:06.381Z"
   },
   {
    "duration": 6,
    "start_time": "2022-04-20T16:40:06.388Z"
   },
   {
    "duration": 220,
    "start_time": "2022-04-20T16:40:06.395Z"
   },
   {
    "duration": 13,
    "start_time": "2022-04-20T16:40:06.619Z"
   },
   {
    "duration": 8,
    "start_time": "2022-04-20T16:40:06.634Z"
   },
   {
    "duration": 29,
    "start_time": "2022-04-20T16:40:06.644Z"
   },
   {
    "duration": 8,
    "start_time": "2022-04-20T16:40:06.675Z"
   },
   {
    "duration": 175,
    "start_time": "2022-04-20T16:40:06.685Z"
   },
   {
    "duration": 16,
    "start_time": "2022-04-20T16:40:06.862Z"
   },
   {
    "duration": 10,
    "start_time": "2022-04-20T16:40:06.880Z"
   },
   {
    "duration": 383,
    "start_time": "2022-04-20T16:40:06.892Z"
   },
   {
    "duration": 13,
    "start_time": "2022-04-20T16:40:07.276Z"
   },
   {
    "duration": 14,
    "start_time": "2022-04-20T16:40:07.291Z"
   },
   {
    "duration": 15,
    "start_time": "2022-04-20T16:40:07.307Z"
   },
   {
    "duration": 18,
    "start_time": "2022-04-20T16:40:07.323Z"
   },
   {
    "duration": 32,
    "start_time": "2022-04-20T16:40:07.343Z"
   },
   {
    "duration": 251,
    "start_time": "2022-04-20T16:40:07.376Z"
   },
   {
    "duration": 4,
    "start_time": "2022-04-20T16:40:07.628Z"
   },
   {
    "duration": 24,
    "start_time": "2022-04-20T16:40:07.634Z"
   },
   {
    "duration": 26,
    "start_time": "2022-04-20T16:40:07.660Z"
   },
   {
    "duration": 15,
    "start_time": "2022-04-20T16:40:07.687Z"
   },
   {
    "duration": 15,
    "start_time": "2022-04-20T16:40:07.703Z"
   },
   {
    "duration": 58,
    "start_time": "2022-04-20T16:40:07.720Z"
   },
   {
    "duration": 15,
    "start_time": "2022-04-20T16:40:07.779Z"
   },
   {
    "duration": 17,
    "start_time": "2022-04-20T16:40:07.796Z"
   },
   {
    "duration": 18,
    "start_time": "2022-04-20T16:40:07.815Z"
   },
   {
    "duration": 5,
    "start_time": "2022-04-20T16:40:07.834Z"
   },
   {
    "duration": 38,
    "start_time": "2022-04-20T16:40:07.841Z"
   },
   {
    "duration": 19,
    "start_time": "2022-04-20T16:40:07.880Z"
   },
   {
    "duration": 4,
    "start_time": "2022-04-20T16:40:07.901Z"
   },
   {
    "duration": 249,
    "start_time": "2022-04-20T16:40:07.906Z"
   },
   {
    "duration": 6,
    "start_time": "2022-04-20T16:43:36.078Z"
   },
   {
    "duration": 17,
    "start_time": "2022-04-20T16:43:36.646Z"
   },
   {
    "duration": 5,
    "start_time": "2022-04-20T16:44:28.042Z"
   },
   {
    "duration": 18,
    "start_time": "2022-04-20T16:44:29.454Z"
   },
   {
    "duration": 17,
    "start_time": "2022-04-20T16:44:59.535Z"
   },
   {
    "duration": 12,
    "start_time": "2022-04-20T16:49:00.373Z"
   },
   {
    "duration": 3,
    "start_time": "2022-04-20T16:50:20.565Z"
   },
   {
    "duration": 55,
    "start_time": "2022-04-20T16:50:20.570Z"
   },
   {
    "duration": 11,
    "start_time": "2022-04-20T16:50:20.627Z"
   },
   {
    "duration": 41,
    "start_time": "2022-04-20T16:50:20.640Z"
   },
   {
    "duration": 9,
    "start_time": "2022-04-20T16:50:20.684Z"
   },
   {
    "duration": 10,
    "start_time": "2022-04-20T16:50:20.695Z"
   },
   {
    "duration": 4,
    "start_time": "2022-04-20T16:50:20.707Z"
   },
   {
    "duration": 9,
    "start_time": "2022-04-20T16:50:20.713Z"
   },
   {
    "duration": 50,
    "start_time": "2022-04-20T16:50:20.724Z"
   },
   {
    "duration": 16,
    "start_time": "2022-04-20T16:50:20.775Z"
   },
   {
    "duration": 7,
    "start_time": "2022-04-20T16:50:20.794Z"
   },
   {
    "duration": 13,
    "start_time": "2022-04-20T16:50:20.803Z"
   },
   {
    "duration": 6,
    "start_time": "2022-04-20T16:50:20.817Z"
   },
   {
    "duration": 7,
    "start_time": "2022-04-20T16:50:20.825Z"
   },
   {
    "duration": 220,
    "start_time": "2022-04-20T16:50:20.834Z"
   },
   {
    "duration": 6,
    "start_time": "2022-04-20T16:50:21.056Z"
   },
   {
    "duration": 7,
    "start_time": "2022-04-20T16:50:21.073Z"
   },
   {
    "duration": 150,
    "start_time": "2022-04-20T16:50:21.081Z"
   },
   {
    "duration": 15,
    "start_time": "2022-04-20T16:50:21.233Z"
   },
   {
    "duration": 4,
    "start_time": "2022-04-20T16:50:21.250Z"
   },
   {
    "duration": 19,
    "start_time": "2022-04-20T16:50:21.256Z"
   },
   {
    "duration": 204,
    "start_time": "2022-04-20T16:50:21.277Z"
   },
   {
    "duration": 13,
    "start_time": "2022-04-20T16:50:21.483Z"
   },
   {
    "duration": 10,
    "start_time": "2022-04-20T16:50:21.497Z"
   },
   {
    "duration": 10,
    "start_time": "2022-04-20T16:50:21.509Z"
   },
   {
    "duration": 16,
    "start_time": "2022-04-20T16:50:21.520Z"
   },
   {
    "duration": 190,
    "start_time": "2022-04-20T16:50:21.537Z"
   },
   {
    "duration": 9,
    "start_time": "2022-04-20T16:50:21.729Z"
   },
   {
    "duration": 8,
    "start_time": "2022-04-20T16:50:21.742Z"
   },
   {
    "duration": 293,
    "start_time": "2022-04-20T16:50:21.752Z"
   },
   {
    "duration": 27,
    "start_time": "2022-04-20T16:50:22.047Z"
   },
   {
    "duration": 14,
    "start_time": "2022-04-20T16:50:22.076Z"
   },
   {
    "duration": 19,
    "start_time": "2022-04-20T16:50:22.092Z"
   },
   {
    "duration": 24,
    "start_time": "2022-04-20T16:50:22.113Z"
   },
   {
    "duration": 7,
    "start_time": "2022-04-20T16:50:22.139Z"
   },
   {
    "duration": 280,
    "start_time": "2022-04-20T16:50:22.147Z"
   },
   {
    "duration": 997,
    "start_time": "2022-04-20T16:50:22.429Z"
   },
   {
    "duration": 11,
    "start_time": "2022-04-20T16:50:23.427Z"
   },
   {
    "duration": 11,
    "start_time": "2022-04-20T16:50:23.440Z"
   },
   {
    "duration": 19,
    "start_time": "2022-04-20T16:50:23.452Z"
   },
   {
    "duration": 18,
    "start_time": "2022-04-20T16:50:23.473Z"
   },
   {
    "duration": 14,
    "start_time": "2022-04-20T16:50:23.493Z"
   },
   {
    "duration": 17,
    "start_time": "2022-04-20T16:50:23.509Z"
   },
   {
    "duration": 18,
    "start_time": "2022-04-20T16:50:23.528Z"
   },
   {
    "duration": 28,
    "start_time": "2022-04-20T16:50:23.547Z"
   },
   {
    "duration": 11,
    "start_time": "2022-04-20T16:50:23.576Z"
   },
   {
    "duration": 15,
    "start_time": "2022-04-20T16:50:23.589Z"
   },
   {
    "duration": 4,
    "start_time": "2022-04-20T16:50:23.605Z"
   },
   {
    "duration": 249,
    "start_time": "2022-04-20T16:50:23.611Z"
   },
   {
    "duration": 14,
    "start_time": "2022-04-20T16:51:13.037Z"
   },
   {
    "duration": 9,
    "start_time": "2022-04-20T16:53:05.715Z"
   },
   {
    "duration": 8,
    "start_time": "2022-04-20T16:53:13.353Z"
   },
   {
    "duration": 16,
    "start_time": "2022-04-20T16:53:34.131Z"
   },
   {
    "duration": 4,
    "start_time": "2022-04-20T17:07:59.711Z"
   },
   {
    "duration": 18,
    "start_time": "2022-04-20T17:08:01.838Z"
   },
   {
    "duration": 905,
    "start_time": "2022-04-20T17:08:21.046Z"
   },
   {
    "duration": 4,
    "start_time": "2022-04-20T17:08:25.623Z"
   },
   {
    "duration": 19,
    "start_time": "2022-04-20T17:08:26.420Z"
   },
   {
    "duration": 19,
    "start_time": "2022-04-20T17:08:31.997Z"
   },
   {
    "duration": 17,
    "start_time": "2022-04-20T17:08:32.959Z"
   },
   {
    "duration": 1778,
    "start_time": "2022-04-20T17:09:17.038Z"
   },
   {
    "duration": 13,
    "start_time": "2022-04-20T17:09:19.486Z"
   },
   {
    "duration": 4,
    "start_time": "2022-04-20T17:09:24.837Z"
   },
   {
    "duration": 22,
    "start_time": "2022-04-20T17:09:25.967Z"
   },
   {
    "duration": 23,
    "start_time": "2022-04-20T17:09:27.593Z"
   },
   {
    "duration": 17,
    "start_time": "2022-04-20T17:09:45.179Z"
   },
   {
    "duration": 19,
    "start_time": "2022-04-20T17:09:45.439Z"
   },
   {
    "duration": 21,
    "start_time": "2022-04-20T17:09:54.066Z"
   },
   {
    "duration": 19,
    "start_time": "2022-04-20T17:09:54.879Z"
   },
   {
    "duration": 39,
    "start_time": "2022-04-20T17:10:16.071Z"
   },
   {
    "duration": 19,
    "start_time": "2022-04-20T17:10:17.240Z"
   },
   {
    "duration": 17,
    "start_time": "2022-04-20T17:11:09.755Z"
   },
   {
    "duration": 18,
    "start_time": "2022-04-20T17:11:10.888Z"
   },
   {
    "duration": 35,
    "start_time": "2022-04-20T17:13:36.885Z"
   },
   {
    "duration": 18,
    "start_time": "2022-04-20T17:13:37.731Z"
   },
   {
    "duration": 3,
    "start_time": "2022-04-20T17:13:51.927Z"
   },
   {
    "duration": 66,
    "start_time": "2022-04-20T17:13:51.932Z"
   },
   {
    "duration": 10,
    "start_time": "2022-04-20T17:13:52.000Z"
   },
   {
    "duration": 15,
    "start_time": "2022-04-20T17:13:52.012Z"
   },
   {
    "duration": 8,
    "start_time": "2022-04-20T17:13:52.029Z"
   },
   {
    "duration": 43,
    "start_time": "2022-04-20T17:13:52.038Z"
   },
   {
    "duration": 5,
    "start_time": "2022-04-20T17:13:52.082Z"
   },
   {
    "duration": 9,
    "start_time": "2022-04-20T17:13:52.089Z"
   },
   {
    "duration": 9,
    "start_time": "2022-04-20T17:13:52.099Z"
   },
   {
    "duration": 20,
    "start_time": "2022-04-20T17:13:52.110Z"
   },
   {
    "duration": 6,
    "start_time": "2022-04-20T17:13:52.133Z"
   },
   {
    "duration": 8,
    "start_time": "2022-04-20T17:13:52.172Z"
   },
   {
    "duration": 8,
    "start_time": "2022-04-20T17:13:52.182Z"
   },
   {
    "duration": 10,
    "start_time": "2022-04-20T17:13:52.192Z"
   },
   {
    "duration": 217,
    "start_time": "2022-04-20T17:13:52.203Z"
   },
   {
    "duration": 7,
    "start_time": "2022-04-20T17:13:52.421Z"
   },
   {
    "duration": 7,
    "start_time": "2022-04-20T17:13:52.430Z"
   },
   {
    "duration": 157,
    "start_time": "2022-04-20T17:13:52.438Z"
   },
   {
    "duration": 16,
    "start_time": "2022-04-20T17:13:52.597Z"
   },
   {
    "duration": 4,
    "start_time": "2022-04-20T17:13:52.615Z"
   },
   {
    "duration": 9,
    "start_time": "2022-04-20T17:13:52.621Z"
   },
   {
    "duration": 212,
    "start_time": "2022-04-20T17:13:52.631Z"
   },
   {
    "duration": 12,
    "start_time": "2022-04-20T17:13:52.845Z"
   },
   {
    "duration": 15,
    "start_time": "2022-04-20T17:13:52.859Z"
   },
   {
    "duration": 13,
    "start_time": "2022-04-20T17:13:52.876Z"
   },
   {
    "duration": 7,
    "start_time": "2022-04-20T17:13:52.891Z"
   },
   {
    "duration": 184,
    "start_time": "2022-04-20T17:13:52.900Z"
   },
   {
    "duration": 7,
    "start_time": "2022-04-20T17:13:53.086Z"
   },
   {
    "duration": 9,
    "start_time": "2022-04-20T17:13:53.097Z"
   },
   {
    "duration": 280,
    "start_time": "2022-04-20T17:13:53.107Z"
   },
   {
    "duration": 14,
    "start_time": "2022-04-20T17:13:53.389Z"
   },
   {
    "duration": 12,
    "start_time": "2022-04-20T17:13:53.405Z"
   },
   {
    "duration": 16,
    "start_time": "2022-04-20T17:13:53.418Z"
   },
   {
    "duration": 40,
    "start_time": "2022-04-20T17:13:53.436Z"
   },
   {
    "duration": 7,
    "start_time": "2022-04-20T17:13:53.477Z"
   },
   {
    "duration": 246,
    "start_time": "2022-04-20T17:13:53.486Z"
   },
   {
    "duration": 784,
    "start_time": "2022-04-20T17:13:53.733Z"
   },
   {
    "duration": 11,
    "start_time": "2022-04-20T17:13:54.519Z"
   },
   {
    "duration": 7,
    "start_time": "2022-04-20T17:13:54.532Z"
   },
   {
    "duration": 21,
    "start_time": "2022-04-20T17:13:54.540Z"
   },
   {
    "duration": 16,
    "start_time": "2022-04-20T17:13:54.563Z"
   },
   {
    "duration": 38,
    "start_time": "2022-04-20T17:13:54.581Z"
   },
   {
    "duration": 17,
    "start_time": "2022-04-20T17:13:54.620Z"
   },
   {
    "duration": 35,
    "start_time": "2022-04-20T17:13:54.639Z"
   },
   {
    "duration": 6,
    "start_time": "2022-04-20T17:13:54.676Z"
   },
   {
    "duration": 15,
    "start_time": "2022-04-20T17:13:54.684Z"
   },
   {
    "duration": 5,
    "start_time": "2022-04-20T17:13:54.701Z"
   },
   {
    "duration": 13,
    "start_time": "2022-04-20T17:13:54.708Z"
   },
   {
    "duration": 19,
    "start_time": "2022-04-20T17:13:54.723Z"
   },
   {
    "duration": 4,
    "start_time": "2022-04-20T17:13:54.744Z"
   },
   {
    "duration": 255,
    "start_time": "2022-04-20T17:13:54.750Z"
   },
   {
    "duration": 39,
    "start_time": "2022-04-20T17:18:57.175Z"
   },
   {
    "duration": 19,
    "start_time": "2022-04-20T17:18:57.917Z"
   },
   {
    "duration": 38,
    "start_time": "2022-04-20T17:19:08.307Z"
   },
   {
    "duration": 20,
    "start_time": "2022-04-20T17:19:09.421Z"
   },
   {
    "duration": 2552,
    "start_time": "2022-04-20T17:19:15.282Z"
   },
   {
    "duration": 4,
    "start_time": "2022-04-20T17:19:18.756Z"
   },
   {
    "duration": 19,
    "start_time": "2022-04-20T17:19:19.585Z"
   },
   {
    "duration": 47,
    "start_time": "2022-04-20T17:19:22.116Z"
   },
   {
    "duration": 17,
    "start_time": "2022-04-20T17:19:23.075Z"
   },
   {
    "duration": 1157,
    "start_time": "2022-04-20T17:19:59.528Z"
   },
   {
    "duration": 54,
    "start_time": "2022-04-20T17:20:00.687Z"
   },
   {
    "duration": 14,
    "start_time": "2022-04-20T17:20:00.743Z"
   },
   {
    "duration": 25,
    "start_time": "2022-04-20T17:20:00.759Z"
   },
   {
    "duration": 8,
    "start_time": "2022-04-20T17:20:00.786Z"
   },
   {
    "duration": 29,
    "start_time": "2022-04-20T17:20:00.796Z"
   },
   {
    "duration": 6,
    "start_time": "2022-04-20T17:20:00.827Z"
   },
   {
    "duration": 9,
    "start_time": "2022-04-20T17:20:00.835Z"
   },
   {
    "duration": 27,
    "start_time": "2022-04-20T17:20:00.846Z"
   },
   {
    "duration": 16,
    "start_time": "2022-04-20T17:20:00.876Z"
   },
   {
    "duration": 7,
    "start_time": "2022-04-20T17:20:00.893Z"
   },
   {
    "duration": 14,
    "start_time": "2022-04-20T17:20:00.901Z"
   },
   {
    "duration": 9,
    "start_time": "2022-04-20T17:20:00.917Z"
   },
   {
    "duration": 16,
    "start_time": "2022-04-20T17:20:00.928Z"
   },
   {
    "duration": 233,
    "start_time": "2022-04-20T17:20:00.946Z"
   },
   {
    "duration": 7,
    "start_time": "2022-04-20T17:20:01.181Z"
   },
   {
    "duration": 13,
    "start_time": "2022-04-20T17:20:01.190Z"
   },
   {
    "duration": 168,
    "start_time": "2022-04-20T17:20:01.205Z"
   },
   {
    "duration": 20,
    "start_time": "2022-04-20T17:20:01.375Z"
   },
   {
    "duration": 7,
    "start_time": "2022-04-20T17:20:01.397Z"
   },
   {
    "duration": 24,
    "start_time": "2022-04-20T17:20:01.406Z"
   },
   {
    "duration": 217,
    "start_time": "2022-04-20T17:20:01.432Z"
   },
   {
    "duration": 23,
    "start_time": "2022-04-20T17:20:01.651Z"
   },
   {
    "duration": 11,
    "start_time": "2022-04-20T17:20:01.677Z"
   },
   {
    "duration": 41,
    "start_time": "2022-04-20T17:20:01.689Z"
   },
   {
    "duration": 20,
    "start_time": "2022-04-20T17:20:01.732Z"
   },
   {
    "duration": 196,
    "start_time": "2022-04-20T17:20:01.754Z"
   },
   {
    "duration": 10,
    "start_time": "2022-04-20T17:20:01.954Z"
   },
   {
    "duration": 62,
    "start_time": "2022-04-20T17:20:01.966Z"
   },
   {
    "duration": 354,
    "start_time": "2022-04-20T17:20:02.030Z"
   },
   {
    "duration": 13,
    "start_time": "2022-04-20T17:20:02.386Z"
   },
   {
    "duration": 26,
    "start_time": "2022-04-20T17:20:02.401Z"
   },
   {
    "duration": 30,
    "start_time": "2022-04-20T17:20:02.429Z"
   },
   {
    "duration": 25,
    "start_time": "2022-04-20T17:20:02.461Z"
   },
   {
    "duration": 7,
    "start_time": "2022-04-20T17:20:02.488Z"
   },
   {
    "duration": 261,
    "start_time": "2022-04-20T17:20:02.498Z"
   },
   {
    "duration": 718,
    "start_time": "2022-04-20T17:20:02.761Z"
   },
   {
    "duration": 12,
    "start_time": "2022-04-20T17:20:03.480Z"
   },
   {
    "duration": 8,
    "start_time": "2022-04-20T17:20:03.493Z"
   },
   {
    "duration": 26,
    "start_time": "2022-04-20T17:20:03.502Z"
   },
   {
    "duration": 17,
    "start_time": "2022-04-20T17:20:03.530Z"
   },
   {
    "duration": 60,
    "start_time": "2022-04-20T17:20:03.548Z"
   },
   {
    "duration": 23,
    "start_time": "2022-04-20T17:20:03.610Z"
   },
   {
    "duration": 42,
    "start_time": "2022-04-20T17:20:03.635Z"
   },
   {
    "duration": 8,
    "start_time": "2022-04-20T17:20:03.679Z"
   },
   {
    "duration": 19,
    "start_time": "2022-04-20T17:20:03.689Z"
   },
   {
    "duration": 6,
    "start_time": "2022-04-20T17:20:03.710Z"
   },
   {
    "duration": 17,
    "start_time": "2022-04-20T17:20:03.717Z"
   },
   {
    "duration": 37,
    "start_time": "2022-04-20T17:20:03.736Z"
   },
   {
    "duration": 4,
    "start_time": "2022-04-20T17:20:03.775Z"
   },
   {
    "duration": 351,
    "start_time": "2022-04-20T17:20:03.780Z"
   },
   {
    "duration": 44,
    "start_time": "2022-04-20T17:22:51.831Z"
   },
   {
    "duration": 564,
    "start_time": "2022-04-20T17:22:59.047Z"
   },
   {
    "duration": 13,
    "start_time": "2022-04-20T17:23:00.527Z"
   },
   {
    "duration": 4,
    "start_time": "2022-04-20T17:23:03.670Z"
   },
   {
    "duration": 18,
    "start_time": "2022-04-20T17:23:05.071Z"
   },
   {
    "duration": 19,
    "start_time": "2022-04-20T17:23:06.878Z"
   },
   {
    "duration": 81,
    "start_time": "2022-04-20T17:24:14.771Z"
   },
   {
    "duration": 7,
    "start_time": "2022-04-20T17:24:29.939Z"
   },
   {
    "duration": 107,
    "start_time": "2022-04-20T17:25:04.919Z"
   },
   {
    "duration": 36,
    "start_time": "2022-04-20T17:25:18.937Z"
   },
   {
    "duration": 16,
    "start_time": "2022-04-20T17:25:20.628Z"
   },
   {
    "duration": 35,
    "start_time": "2022-04-20T17:25:38.011Z"
   },
   {
    "duration": 45,
    "start_time": "2022-04-20T17:25:43.546Z"
   },
   {
    "duration": 18,
    "start_time": "2022-04-20T17:25:44.259Z"
   },
   {
    "duration": 34,
    "start_time": "2022-04-20T17:25:50.825Z"
   },
   {
    "duration": 16,
    "start_time": "2022-04-20T17:25:51.401Z"
   },
   {
    "duration": 8,
    "start_time": "2022-04-20T17:28:28.090Z"
   },
   {
    "duration": 7,
    "start_time": "2022-04-20T17:28:29.300Z"
   },
   {
    "duration": 879,
    "start_time": "2022-04-20T17:28:37.296Z"
   },
   {
    "duration": 12,
    "start_time": "2022-04-20T17:28:38.177Z"
   },
   {
    "duration": 4,
    "start_time": "2022-04-20T17:28:41.956Z"
   },
   {
    "duration": 7,
    "start_time": "2022-04-20T17:28:42.753Z"
   },
   {
    "duration": 9,
    "start_time": "2022-04-20T17:28:43.627Z"
   },
   {
    "duration": 8,
    "start_time": "2022-04-20T17:28:56.380Z"
   },
   {
    "duration": 7,
    "start_time": "2022-04-20T17:28:57.514Z"
   },
   {
    "duration": 1238,
    "start_time": "2022-04-20T17:29:07.442Z"
   },
   {
    "duration": 59,
    "start_time": "2022-04-20T17:29:08.682Z"
   },
   {
    "duration": 13,
    "start_time": "2022-04-20T17:29:08.743Z"
   },
   {
    "duration": 19,
    "start_time": "2022-04-20T17:29:08.758Z"
   },
   {
    "duration": 8,
    "start_time": "2022-04-20T17:29:08.779Z"
   },
   {
    "duration": 11,
    "start_time": "2022-04-20T17:29:08.789Z"
   },
   {
    "duration": 5,
    "start_time": "2022-04-20T17:29:08.802Z"
   },
   {
    "duration": 8,
    "start_time": "2022-04-20T17:29:08.808Z"
   },
   {
    "duration": 11,
    "start_time": "2022-04-20T17:29:08.818Z"
   },
   {
    "duration": 52,
    "start_time": "2022-04-20T17:29:08.830Z"
   },
   {
    "duration": 8,
    "start_time": "2022-04-20T17:29:08.884Z"
   },
   {
    "duration": 11,
    "start_time": "2022-04-20T17:29:08.893Z"
   },
   {
    "duration": 8,
    "start_time": "2022-04-20T17:29:08.906Z"
   },
   {
    "duration": 9,
    "start_time": "2022-04-20T17:29:08.917Z"
   },
   {
    "duration": 230,
    "start_time": "2022-04-20T17:29:08.928Z"
   },
   {
    "duration": 17,
    "start_time": "2022-04-20T17:29:09.159Z"
   },
   {
    "duration": 7,
    "start_time": "2022-04-20T17:29:09.177Z"
   },
   {
    "duration": 156,
    "start_time": "2022-04-20T17:29:09.186Z"
   },
   {
    "duration": 29,
    "start_time": "2022-04-20T17:29:09.344Z"
   },
   {
    "duration": 6,
    "start_time": "2022-04-20T17:29:09.375Z"
   },
   {
    "duration": 7,
    "start_time": "2022-04-20T17:29:09.382Z"
   },
   {
    "duration": 215,
    "start_time": "2022-04-20T17:29:09.391Z"
   },
   {
    "duration": 14,
    "start_time": "2022-04-20T17:29:09.608Z"
   },
   {
    "duration": 8,
    "start_time": "2022-04-20T17:29:09.624Z"
   },
   {
    "duration": 9,
    "start_time": "2022-04-20T17:29:09.634Z"
   },
   {
    "duration": 33,
    "start_time": "2022-04-20T17:29:09.644Z"
   },
   {
    "duration": 185,
    "start_time": "2022-04-20T17:29:09.679Z"
   },
   {
    "duration": 12,
    "start_time": "2022-04-20T17:29:09.866Z"
   },
   {
    "duration": 10,
    "start_time": "2022-04-20T17:29:09.879Z"
   },
   {
    "duration": 292,
    "start_time": "2022-04-20T17:29:09.891Z"
   },
   {
    "duration": 14,
    "start_time": "2022-04-20T17:29:10.185Z"
   },
   {
    "duration": 14,
    "start_time": "2022-04-20T17:29:10.201Z"
   },
   {
    "duration": 27,
    "start_time": "2022-04-20T17:29:10.217Z"
   },
   {
    "duration": 37,
    "start_time": "2022-04-20T17:29:10.246Z"
   },
   {
    "duration": 7,
    "start_time": "2022-04-20T17:29:10.285Z"
   },
   {
    "duration": 239,
    "start_time": "2022-04-20T17:29:10.294Z"
   },
   {
    "duration": 655,
    "start_time": "2022-04-20T17:29:10.535Z"
   },
   {
    "duration": 12,
    "start_time": "2022-04-20T17:29:11.192Z"
   },
   {
    "duration": 7,
    "start_time": "2022-04-20T17:29:11.205Z"
   },
   {
    "duration": 10,
    "start_time": "2022-04-20T17:29:11.214Z"
   },
   {
    "duration": 14,
    "start_time": "2022-04-20T17:29:11.229Z"
   },
   {
    "duration": 116,
    "start_time": "2022-04-20T17:29:11.245Z"
   },
   {
    "duration": 0,
    "start_time": "2022-04-20T17:29:11.363Z"
   },
   {
    "duration": 0,
    "start_time": "2022-04-20T17:29:11.375Z"
   },
   {
    "duration": 0,
    "start_time": "2022-04-20T17:29:11.375Z"
   },
   {
    "duration": 0,
    "start_time": "2022-04-20T17:29:11.377Z"
   },
   {
    "duration": 0,
    "start_time": "2022-04-20T17:29:11.378Z"
   },
   {
    "duration": 0,
    "start_time": "2022-04-20T17:29:11.379Z"
   },
   {
    "duration": 0,
    "start_time": "2022-04-20T17:29:11.380Z"
   },
   {
    "duration": 0,
    "start_time": "2022-04-20T17:29:11.381Z"
   },
   {
    "duration": 0,
    "start_time": "2022-04-20T17:29:11.382Z"
   },
   {
    "duration": 16,
    "start_time": "2022-04-20T17:29:36.431Z"
   },
   {
    "duration": 14,
    "start_time": "2022-04-20T17:29:58.947Z"
   },
   {
    "duration": 7,
    "start_time": "2022-04-20T17:30:50.763Z"
   },
   {
    "duration": 13,
    "start_time": "2022-04-20T17:30:56.742Z"
   },
   {
    "duration": 14,
    "start_time": "2022-04-20T17:31:14.334Z"
   },
   {
    "duration": 21,
    "start_time": "2022-04-20T17:32:04.567Z"
   },
   {
    "duration": 6,
    "start_time": "2022-04-20T17:32:17.770Z"
   },
   {
    "duration": 14,
    "start_time": "2022-04-20T17:32:24.988Z"
   },
   {
    "duration": 6,
    "start_time": "2022-04-20T17:32:55.583Z"
   },
   {
    "duration": 9,
    "start_time": "2022-04-20T17:32:56.208Z"
   },
   {
    "duration": 14,
    "start_time": "2022-04-20T17:35:17.544Z"
   },
   {
    "duration": 6,
    "start_time": "2022-04-20T17:35:18.151Z"
   },
   {
    "duration": 10,
    "start_time": "2022-04-20T17:35:18.727Z"
   },
   {
    "duration": 7,
    "start_time": "2022-04-20T17:36:13.544Z"
   },
   {
    "duration": 16,
    "start_time": "2022-04-20T17:36:31.568Z"
   },
   {
    "duration": 6,
    "start_time": "2022-04-20T17:37:18.617Z"
   },
   {
    "duration": 16,
    "start_time": "2022-04-20T17:37:23.971Z"
   },
   {
    "duration": 7,
    "start_time": "2022-04-20T17:38:00.613Z"
   },
   {
    "duration": 12,
    "start_time": "2022-04-20T17:38:38.857Z"
   },
   {
    "duration": 12,
    "start_time": "2022-04-20T17:39:00.204Z"
   },
   {
    "duration": 18,
    "start_time": "2022-04-20T17:48:41.134Z"
   },
   {
    "duration": 5,
    "start_time": "2022-04-20T17:48:41.650Z"
   },
   {
    "duration": 312,
    "start_time": "2022-04-20T17:48:42.183Z"
   },
   {
    "duration": 1496,
    "start_time": "2022-04-21T16:13:28.277Z"
   },
   {
    "duration": 60,
    "start_time": "2022-04-21T16:13:29.775Z"
   },
   {
    "duration": 23,
    "start_time": "2022-04-21T16:13:29.838Z"
   },
   {
    "duration": 25,
    "start_time": "2022-04-21T16:13:29.874Z"
   },
   {
    "duration": 27,
    "start_time": "2022-04-21T16:13:29.902Z"
   },
   {
    "duration": 27,
    "start_time": "2022-04-21T16:13:29.931Z"
   },
   {
    "duration": 7,
    "start_time": "2022-04-21T16:13:29.973Z"
   },
   {
    "duration": 14,
    "start_time": "2022-04-21T16:13:29.982Z"
   },
   {
    "duration": 15,
    "start_time": "2022-04-21T16:13:29.999Z"
   },
   {
    "duration": 67,
    "start_time": "2022-04-21T16:13:30.019Z"
   },
   {
    "duration": 10,
    "start_time": "2022-04-21T16:13:30.089Z"
   },
   {
    "duration": 23,
    "start_time": "2022-04-21T16:13:30.102Z"
   },
   {
    "duration": 12,
    "start_time": "2022-04-21T16:13:30.128Z"
   },
   {
    "duration": 33,
    "start_time": "2022-04-21T16:13:30.142Z"
   },
   {
    "duration": 249,
    "start_time": "2022-04-21T16:13:30.177Z"
   },
   {
    "duration": 8,
    "start_time": "2022-04-21T16:13:30.429Z"
   },
   {
    "duration": 19,
    "start_time": "2022-04-21T16:13:30.438Z"
   },
   {
    "duration": 161,
    "start_time": "2022-04-21T16:13:30.472Z"
   },
   {
    "duration": 19,
    "start_time": "2022-04-21T16:13:30.635Z"
   },
   {
    "duration": 23,
    "start_time": "2022-04-21T16:13:30.656Z"
   },
   {
    "duration": 34,
    "start_time": "2022-04-21T16:13:30.682Z"
   },
   {
    "duration": 262,
    "start_time": "2022-04-21T16:13:30.719Z"
   },
   {
    "duration": 14,
    "start_time": "2022-04-21T16:13:30.983Z"
   },
   {
    "duration": 30,
    "start_time": "2022-04-21T16:13:30.999Z"
   },
   {
    "duration": 26,
    "start_time": "2022-04-21T16:13:31.031Z"
   },
   {
    "duration": 30,
    "start_time": "2022-04-21T16:13:31.059Z"
   },
   {
    "duration": 210,
    "start_time": "2022-04-21T16:13:31.091Z"
   },
   {
    "duration": 11,
    "start_time": "2022-04-21T16:13:31.306Z"
   },
   {
    "duration": 24,
    "start_time": "2022-04-21T16:13:31.319Z"
   },
   {
    "duration": 313,
    "start_time": "2022-04-21T16:13:31.346Z"
   },
   {
    "duration": 23,
    "start_time": "2022-04-21T16:13:31.661Z"
   },
   {
    "duration": 41,
    "start_time": "2022-04-21T16:13:31.686Z"
   },
   {
    "duration": 58,
    "start_time": "2022-04-21T16:13:31.729Z"
   },
   {
    "duration": 34,
    "start_time": "2022-04-21T16:13:31.789Z"
   },
   {
    "duration": 23,
    "start_time": "2022-04-21T16:13:31.825Z"
   },
   {
    "duration": 278,
    "start_time": "2022-04-21T16:13:31.851Z"
   },
   {
    "duration": 1146,
    "start_time": "2022-04-21T16:13:32.133Z"
   },
   {
    "duration": 14,
    "start_time": "2022-04-21T16:13:33.281Z"
   },
   {
    "duration": 9,
    "start_time": "2022-04-21T16:13:33.297Z"
   },
   {
    "duration": 12,
    "start_time": "2022-04-21T16:13:33.308Z"
   },
   {
    "duration": 22,
    "start_time": "2022-04-21T16:13:33.323Z"
   },
   {
    "duration": 28,
    "start_time": "2022-04-21T16:13:33.347Z"
   },
   {
    "duration": 15,
    "start_time": "2022-04-21T16:13:33.377Z"
   },
   {
    "duration": 21,
    "start_time": "2022-04-21T16:13:33.394Z"
   },
   {
    "duration": 8,
    "start_time": "2022-04-21T16:13:33.417Z"
   },
   {
    "duration": 16,
    "start_time": "2022-04-21T16:13:33.426Z"
   },
   {
    "duration": 31,
    "start_time": "2022-04-21T16:13:33.444Z"
   },
   {
    "duration": 22,
    "start_time": "2022-04-21T16:13:33.477Z"
   },
   {
    "duration": 20,
    "start_time": "2022-04-21T16:13:33.501Z"
   },
   {
    "duration": 4,
    "start_time": "2022-04-21T16:13:33.523Z"
   },
   {
    "duration": 358,
    "start_time": "2022-04-21T16:13:33.529Z"
   },
   {
    "duration": 300,
    "start_time": "2022-04-21T17:03:39.726Z"
   },
   {
    "duration": 341,
    "start_time": "2022-04-21T17:08:34.248Z"
   },
   {
    "duration": 16,
    "start_time": "2022-04-21T17:08:34.592Z"
   },
   {
    "duration": 76,
    "start_time": "2022-04-21T17:10:23.850Z"
   },
   {
    "duration": 1213,
    "start_time": "2022-04-21T17:10:34.854Z"
   },
   {
    "duration": 70,
    "start_time": "2022-04-21T17:10:36.069Z"
   },
   {
    "duration": 14,
    "start_time": "2022-04-21T17:10:36.140Z"
   },
   {
    "duration": 17,
    "start_time": "2022-04-21T17:10:36.156Z"
   },
   {
    "duration": 16,
    "start_time": "2022-04-21T17:10:36.178Z"
   },
   {
    "duration": 29,
    "start_time": "2022-04-21T17:10:36.198Z"
   },
   {
    "duration": 5,
    "start_time": "2022-04-21T17:10:36.229Z"
   },
   {
    "duration": 13,
    "start_time": "2022-04-21T17:10:36.236Z"
   },
   {
    "duration": 9,
    "start_time": "2022-04-21T17:10:36.250Z"
   },
   {
    "duration": 32,
    "start_time": "2022-04-21T17:10:36.262Z"
   },
   {
    "duration": 10,
    "start_time": "2022-04-21T17:10:36.301Z"
   },
   {
    "duration": 8,
    "start_time": "2022-04-21T17:10:36.313Z"
   },
   {
    "duration": 7,
    "start_time": "2022-04-21T17:10:36.323Z"
   },
   {
    "duration": 7,
    "start_time": "2022-04-21T17:10:36.332Z"
   },
   {
    "duration": 259,
    "start_time": "2022-04-21T17:10:36.341Z"
   },
   {
    "duration": 8,
    "start_time": "2022-04-21T17:10:36.602Z"
   },
   {
    "duration": 7,
    "start_time": "2022-04-21T17:10:36.611Z"
   },
   {
    "duration": 172,
    "start_time": "2022-04-21T17:10:36.619Z"
   },
   {
    "duration": 21,
    "start_time": "2022-04-21T17:10:36.793Z"
   },
   {
    "duration": 4,
    "start_time": "2022-04-21T17:10:36.816Z"
   },
   {
    "duration": 6,
    "start_time": "2022-04-21T17:10:36.822Z"
   },
   {
    "duration": 243,
    "start_time": "2022-04-21T17:10:36.830Z"
   },
   {
    "duration": 18,
    "start_time": "2022-04-21T17:10:37.075Z"
   },
   {
    "duration": 20,
    "start_time": "2022-04-21T17:10:37.095Z"
   },
   {
    "duration": 9,
    "start_time": "2022-04-21T17:10:37.117Z"
   },
   {
    "duration": 9,
    "start_time": "2022-04-21T17:10:37.128Z"
   },
   {
    "duration": 202,
    "start_time": "2022-04-21T17:10:37.139Z"
   },
   {
    "duration": 8,
    "start_time": "2022-04-21T17:10:37.345Z"
   },
   {
    "duration": 23,
    "start_time": "2022-04-21T17:10:37.355Z"
   },
   {
    "duration": 334,
    "start_time": "2022-04-21T17:10:37.380Z"
   },
   {
    "duration": 12,
    "start_time": "2022-04-21T17:10:37.717Z"
   },
   {
    "duration": 18,
    "start_time": "2022-04-21T17:10:37.731Z"
   },
   {
    "duration": 42,
    "start_time": "2022-04-21T17:10:37.751Z"
   },
   {
    "duration": 28,
    "start_time": "2022-04-21T17:10:37.795Z"
   },
   {
    "duration": 7,
    "start_time": "2022-04-21T17:10:37.825Z"
   },
   {
    "duration": 258,
    "start_time": "2022-04-21T17:10:37.834Z"
   },
   {
    "duration": 1357,
    "start_time": "2022-04-21T17:10:38.094Z"
   },
   {
    "duration": 12,
    "start_time": "2022-04-21T17:10:39.452Z"
   },
   {
    "duration": 6,
    "start_time": "2022-04-21T17:10:39.466Z"
   },
   {
    "duration": 32,
    "start_time": "2022-04-21T17:10:39.480Z"
   },
   {
    "duration": 16,
    "start_time": "2022-04-21T17:10:39.514Z"
   },
   {
    "duration": 7,
    "start_time": "2022-04-21T17:10:39.532Z"
   },
   {
    "duration": 12,
    "start_time": "2022-04-21T17:10:39.540Z"
   },
   {
    "duration": 16,
    "start_time": "2022-04-21T17:10:39.553Z"
   },
   {
    "duration": 12,
    "start_time": "2022-04-21T17:10:39.571Z"
   },
   {
    "duration": 14,
    "start_time": "2022-04-21T17:10:39.586Z"
   },
   {
    "duration": 18,
    "start_time": "2022-04-21T17:10:39.604Z"
   },
   {
    "duration": 11,
    "start_time": "2022-04-21T17:10:39.623Z"
   },
   {
    "duration": 2698,
    "start_time": "2022-04-21T17:10:39.636Z"
   },
   {
    "duration": 3,
    "start_time": "2022-04-21T17:10:42.336Z"
   },
   {
    "duration": 9,
    "start_time": "2022-04-21T17:10:42.341Z"
   },
   {
    "duration": 101,
    "start_time": "2022-04-21T17:10:42.352Z"
   },
   {
    "duration": 2848,
    "start_time": "2022-04-21T17:10:54.483Z"
   },
   {
    "duration": 2629,
    "start_time": "2022-04-21T17:11:26.368Z"
   },
   {
    "duration": 14,
    "start_time": "2022-04-21T17:12:10.012Z"
   },
   {
    "duration": 12,
    "start_time": "2022-04-21T17:12:17.958Z"
   },
   {
    "duration": 1354,
    "start_time": "2022-04-21T17:12:37.599Z"
   },
   {
    "duration": 69,
    "start_time": "2022-04-21T17:12:38.955Z"
   },
   {
    "duration": 13,
    "start_time": "2022-04-21T17:12:39.025Z"
   },
   {
    "duration": 14,
    "start_time": "2022-04-21T17:12:39.040Z"
   },
   {
    "duration": 23,
    "start_time": "2022-04-21T17:12:39.056Z"
   },
   {
    "duration": 24,
    "start_time": "2022-04-21T17:12:39.084Z"
   },
   {
    "duration": 18,
    "start_time": "2022-04-21T17:12:39.110Z"
   },
   {
    "duration": 6,
    "start_time": "2022-04-21T17:12:39.130Z"
   },
   {
    "duration": 8,
    "start_time": "2022-04-21T17:12:39.137Z"
   },
   {
    "duration": 33,
    "start_time": "2022-04-21T17:12:39.147Z"
   },
   {
    "duration": 10,
    "start_time": "2022-04-21T17:12:39.182Z"
   },
   {
    "duration": 28,
    "start_time": "2022-04-21T17:12:39.194Z"
   },
   {
    "duration": 8,
    "start_time": "2022-04-21T17:12:39.223Z"
   },
   {
    "duration": 7,
    "start_time": "2022-04-21T17:12:39.234Z"
   },
   {
    "duration": 255,
    "start_time": "2022-04-21T17:12:39.242Z"
   },
   {
    "duration": 15,
    "start_time": "2022-04-21T17:12:39.499Z"
   },
   {
    "duration": 12,
    "start_time": "2022-04-21T17:12:39.516Z"
   },
   {
    "duration": 192,
    "start_time": "2022-04-21T17:12:39.530Z"
   },
   {
    "duration": 18,
    "start_time": "2022-04-21T17:12:39.723Z"
   },
   {
    "duration": 5,
    "start_time": "2022-04-21T17:12:39.742Z"
   },
   {
    "duration": 7,
    "start_time": "2022-04-21T17:12:39.749Z"
   },
   {
    "duration": 271,
    "start_time": "2022-04-21T17:12:39.757Z"
   },
   {
    "duration": 14,
    "start_time": "2022-04-21T17:12:40.030Z"
   },
   {
    "duration": 5,
    "start_time": "2022-04-21T17:12:40.046Z"
   },
   {
    "duration": 17,
    "start_time": "2022-04-21T17:12:40.053Z"
   },
   {
    "duration": 48,
    "start_time": "2022-04-21T17:12:40.071Z"
   },
   {
    "duration": 212,
    "start_time": "2022-04-21T17:12:40.121Z"
   },
   {
    "duration": 9,
    "start_time": "2022-04-21T17:12:40.335Z"
   },
   {
    "duration": 10,
    "start_time": "2022-04-21T17:12:40.346Z"
   },
   {
    "duration": 342,
    "start_time": "2022-04-21T17:12:40.358Z"
   },
   {
    "duration": 17,
    "start_time": "2022-04-21T17:12:40.703Z"
   },
   {
    "duration": 11,
    "start_time": "2022-04-21T17:12:40.722Z"
   },
   {
    "duration": 15,
    "start_time": "2022-04-21T17:12:40.735Z"
   },
   {
    "duration": 49,
    "start_time": "2022-04-21T17:12:40.751Z"
   },
   {
    "duration": 14,
    "start_time": "2022-04-21T17:12:40.802Z"
   },
   {
    "duration": 253,
    "start_time": "2022-04-21T17:12:40.817Z"
   },
   {
    "duration": 1149,
    "start_time": "2022-04-21T17:12:41.072Z"
   },
   {
    "duration": 12,
    "start_time": "2022-04-21T17:12:42.223Z"
   },
   {
    "duration": 8,
    "start_time": "2022-04-21T17:12:42.236Z"
   },
   {
    "duration": 18,
    "start_time": "2022-04-21T17:12:42.245Z"
   },
   {
    "duration": 22,
    "start_time": "2022-04-21T17:12:42.266Z"
   },
   {
    "duration": 40,
    "start_time": "2022-04-21T17:12:42.290Z"
   },
   {
    "duration": 12,
    "start_time": "2022-04-21T17:12:42.332Z"
   },
   {
    "duration": 16,
    "start_time": "2022-04-21T17:12:42.345Z"
   },
   {
    "duration": 4,
    "start_time": "2022-04-21T17:12:42.363Z"
   },
   {
    "duration": 54,
    "start_time": "2022-04-21T17:12:42.369Z"
   },
   {
    "duration": 10,
    "start_time": "2022-04-21T17:12:42.425Z"
   },
   {
    "duration": 12,
    "start_time": "2022-04-21T17:12:42.437Z"
   },
   {
    "duration": 130,
    "start_time": "2022-04-21T17:12:42.451Z"
   },
   {
    "duration": 0,
    "start_time": "2022-04-21T17:12:42.583Z"
   },
   {
    "duration": 0,
    "start_time": "2022-04-21T17:12:42.584Z"
   },
   {
    "duration": 0,
    "start_time": "2022-04-21T17:12:42.586Z"
   },
   {
    "duration": 0,
    "start_time": "2022-04-21T17:12:42.588Z"
   },
   {
    "duration": 7,
    "start_time": "2022-04-21T17:12:47.721Z"
   },
   {
    "duration": 5,
    "start_time": "2022-04-21T17:12:58.760Z"
   },
   {
    "duration": 8,
    "start_time": "2022-04-21T17:13:01.806Z"
   },
   {
    "duration": 3,
    "start_time": "2022-04-21T17:13:26.430Z"
   },
   {
    "duration": 35,
    "start_time": "2022-04-21T17:13:30.948Z"
   },
   {
    "duration": 6,
    "start_time": "2022-04-21T17:14:29.229Z"
   },
   {
    "duration": 161,
    "start_time": "2022-04-21T17:15:02.768Z"
   },
   {
    "duration": 115,
    "start_time": "2022-04-21T17:15:45.126Z"
   },
   {
    "duration": 47,
    "start_time": "2022-04-21T17:16:37.706Z"
   },
   {
    "duration": 48,
    "start_time": "2022-04-21T17:17:13.197Z"
   },
   {
    "duration": 5,
    "start_time": "2022-04-21T17:24:49.934Z"
   },
   {
    "duration": 4,
    "start_time": "2022-04-21T17:25:01.986Z"
   },
   {
    "duration": 7,
    "start_time": "2022-04-21T17:25:41.253Z"
   },
   {
    "duration": 16,
    "start_time": "2022-04-21T17:25:47.818Z"
   },
   {
    "duration": 398,
    "start_time": "2022-04-21T17:26:09.546Z"
   },
   {
    "duration": 341,
    "start_time": "2022-04-21T17:26:50.076Z"
   },
   {
    "duration": 17,
    "start_time": "2022-04-21T17:32:40.069Z"
   },
   {
    "duration": 15,
    "start_time": "2022-04-21T17:34:15.795Z"
   },
   {
    "duration": 8,
    "start_time": "2022-04-21T17:34:31.453Z"
   },
   {
    "duration": 292,
    "start_time": "2022-04-21T17:36:51.589Z"
   },
   {
    "duration": 32,
    "start_time": "2022-04-21T17:45:33.831Z"
   },
   {
    "duration": 4,
    "start_time": "2022-04-21T17:45:39.228Z"
   },
   {
    "duration": 65,
    "start_time": "2022-04-21T17:45:39.234Z"
   },
   {
    "duration": 11,
    "start_time": "2022-04-21T17:45:39.301Z"
   },
   {
    "duration": 17,
    "start_time": "2022-04-21T17:45:39.313Z"
   },
   {
    "duration": 45,
    "start_time": "2022-04-21T17:45:39.332Z"
   },
   {
    "duration": 10,
    "start_time": "2022-04-21T17:45:39.379Z"
   },
   {
    "duration": 6,
    "start_time": "2022-04-21T17:45:39.390Z"
   },
   {
    "duration": 7,
    "start_time": "2022-04-21T17:45:39.397Z"
   },
   {
    "duration": 9,
    "start_time": "2022-04-21T17:45:39.405Z"
   },
   {
    "duration": 18,
    "start_time": "2022-04-21T17:45:39.415Z"
   },
   {
    "duration": 42,
    "start_time": "2022-04-21T17:45:39.435Z"
   },
   {
    "duration": 8,
    "start_time": "2022-04-21T17:45:39.479Z"
   },
   {
    "duration": 22,
    "start_time": "2022-04-21T17:45:39.489Z"
   },
   {
    "duration": 0,
    "start_time": "2022-04-21T17:45:39.515Z"
   },
   {
    "duration": 0,
    "start_time": "2022-04-21T17:45:39.516Z"
   },
   {
    "duration": 0,
    "start_time": "2022-04-21T17:45:39.518Z"
   },
   {
    "duration": 0,
    "start_time": "2022-04-21T17:45:39.519Z"
   },
   {
    "duration": 0,
    "start_time": "2022-04-21T17:45:39.521Z"
   },
   {
    "duration": 0,
    "start_time": "2022-04-21T17:45:39.522Z"
   },
   {
    "duration": 0,
    "start_time": "2022-04-21T17:45:39.523Z"
   },
   {
    "duration": 0,
    "start_time": "2022-04-21T17:45:39.524Z"
   },
   {
    "duration": 0,
    "start_time": "2022-04-21T17:45:39.526Z"
   },
   {
    "duration": 0,
    "start_time": "2022-04-21T17:45:39.527Z"
   },
   {
    "duration": 0,
    "start_time": "2022-04-21T17:45:39.529Z"
   },
   {
    "duration": 0,
    "start_time": "2022-04-21T17:45:39.530Z"
   },
   {
    "duration": 0,
    "start_time": "2022-04-21T17:45:39.531Z"
   },
   {
    "duration": 0,
    "start_time": "2022-04-21T17:45:39.574Z"
   },
   {
    "duration": 0,
    "start_time": "2022-04-21T17:45:39.575Z"
   },
   {
    "duration": 0,
    "start_time": "2022-04-21T17:45:39.577Z"
   },
   {
    "duration": 0,
    "start_time": "2022-04-21T17:45:39.579Z"
   },
   {
    "duration": 0,
    "start_time": "2022-04-21T17:45:39.580Z"
   },
   {
    "duration": 0,
    "start_time": "2022-04-21T17:45:39.581Z"
   },
   {
    "duration": 0,
    "start_time": "2022-04-21T17:45:39.583Z"
   },
   {
    "duration": 0,
    "start_time": "2022-04-21T17:45:39.584Z"
   },
   {
    "duration": 0,
    "start_time": "2022-04-21T17:45:39.586Z"
   },
   {
    "duration": 0,
    "start_time": "2022-04-21T17:45:39.587Z"
   },
   {
    "duration": 1,
    "start_time": "2022-04-21T17:45:39.588Z"
   },
   {
    "duration": 0,
    "start_time": "2022-04-21T17:45:39.590Z"
   },
   {
    "duration": 0,
    "start_time": "2022-04-21T17:45:39.591Z"
   },
   {
    "duration": 0,
    "start_time": "2022-04-21T17:45:39.593Z"
   },
   {
    "duration": 0,
    "start_time": "2022-04-21T17:45:39.594Z"
   },
   {
    "duration": 0,
    "start_time": "2022-04-21T17:45:39.595Z"
   },
   {
    "duration": 0,
    "start_time": "2022-04-21T17:45:39.597Z"
   },
   {
    "duration": 0,
    "start_time": "2022-04-21T17:45:39.598Z"
   },
   {
    "duration": 0,
    "start_time": "2022-04-21T17:45:39.598Z"
   },
   {
    "duration": 0,
    "start_time": "2022-04-21T17:45:39.599Z"
   },
   {
    "duration": 0,
    "start_time": "2022-04-21T17:45:39.600Z"
   },
   {
    "duration": 0,
    "start_time": "2022-04-21T17:45:39.601Z"
   },
   {
    "duration": 0,
    "start_time": "2022-04-21T17:45:39.602Z"
   },
   {
    "duration": 0,
    "start_time": "2022-04-21T17:45:39.603Z"
   },
   {
    "duration": 0,
    "start_time": "2022-04-21T17:45:39.605Z"
   },
   {
    "duration": 0,
    "start_time": "2022-04-21T17:45:39.606Z"
   },
   {
    "duration": 0,
    "start_time": "2022-04-21T17:45:39.607Z"
   },
   {
    "duration": 8,
    "start_time": "2022-04-21T17:45:55.188Z"
   },
   {
    "duration": 8,
    "start_time": "2022-04-21T17:46:02.113Z"
   },
   {
    "duration": 9,
    "start_time": "2022-04-21T17:46:06.525Z"
   },
   {
    "duration": 11,
    "start_time": "2022-04-21T17:46:26.714Z"
   },
   {
    "duration": 11,
    "start_time": "2022-04-21T17:46:27.695Z"
   },
   {
    "duration": 9,
    "start_time": "2022-04-21T17:46:41.360Z"
   },
   {
    "duration": 10,
    "start_time": "2022-04-21T17:46:42.549Z"
   },
   {
    "duration": 3,
    "start_time": "2022-04-21T17:46:49.842Z"
   },
   {
    "duration": 75,
    "start_time": "2022-04-21T17:46:49.847Z"
   },
   {
    "duration": 10,
    "start_time": "2022-04-21T17:46:49.925Z"
   },
   {
    "duration": 49,
    "start_time": "2022-04-21T17:46:49.936Z"
   },
   {
    "duration": 9,
    "start_time": "2022-04-21T17:46:49.988Z"
   },
   {
    "duration": 14,
    "start_time": "2022-04-21T17:46:49.999Z"
   },
   {
    "duration": 10,
    "start_time": "2022-04-21T17:46:50.015Z"
   },
   {
    "duration": 15,
    "start_time": "2022-04-21T17:46:50.027Z"
   },
   {
    "duration": 32,
    "start_time": "2022-04-21T17:46:50.045Z"
   },
   {
    "duration": 35,
    "start_time": "2022-04-21T17:46:50.080Z"
   },
   {
    "duration": 7,
    "start_time": "2022-04-21T17:46:50.118Z"
   },
   {
    "duration": 18,
    "start_time": "2022-04-21T17:46:50.126Z"
   },
   {
    "duration": 20,
    "start_time": "2022-04-21T17:46:50.146Z"
   },
   {
    "duration": 13,
    "start_time": "2022-04-21T17:46:50.168Z"
   },
   {
    "duration": 233,
    "start_time": "2022-04-21T17:46:50.184Z"
   },
   {
    "duration": 7,
    "start_time": "2022-04-21T17:46:50.419Z"
   },
   {
    "duration": 10,
    "start_time": "2022-04-21T17:46:50.427Z"
   },
   {
    "duration": 170,
    "start_time": "2022-04-21T17:46:50.439Z"
   },
   {
    "duration": 16,
    "start_time": "2022-04-21T17:46:50.611Z"
   },
   {
    "duration": 4,
    "start_time": "2022-04-21T17:46:50.629Z"
   },
   {
    "duration": 5,
    "start_time": "2022-04-21T17:46:50.635Z"
   },
   {
    "duration": 230,
    "start_time": "2022-04-21T17:46:50.642Z"
   },
   {
    "duration": 20,
    "start_time": "2022-04-21T17:46:50.874Z"
   },
   {
    "duration": 12,
    "start_time": "2022-04-21T17:46:50.896Z"
   },
   {
    "duration": 8,
    "start_time": "2022-04-21T17:46:50.910Z"
   },
   {
    "duration": 10,
    "start_time": "2022-04-21T17:46:50.920Z"
   },
   {
    "duration": 216,
    "start_time": "2022-04-21T17:46:50.932Z"
   },
   {
    "duration": 10,
    "start_time": "2022-04-21T17:46:51.150Z"
   },
   {
    "duration": 14,
    "start_time": "2022-04-21T17:46:51.174Z"
   },
   {
    "duration": 430,
    "start_time": "2022-04-21T17:46:51.190Z"
   },
   {
    "duration": 14,
    "start_time": "2022-04-21T17:46:51.622Z"
   },
   {
    "duration": 16,
    "start_time": "2022-04-21T17:46:51.638Z"
   },
   {
    "duration": 31,
    "start_time": "2022-04-21T17:46:51.656Z"
   },
   {
    "duration": 20,
    "start_time": "2022-04-21T17:46:51.690Z"
   },
   {
    "duration": 7,
    "start_time": "2022-04-21T17:46:51.712Z"
   },
   {
    "duration": 293,
    "start_time": "2022-04-21T17:46:51.721Z"
   },
   {
    "duration": 1354,
    "start_time": "2022-04-21T17:46:52.016Z"
   },
   {
    "duration": 21,
    "start_time": "2022-04-21T17:46:53.371Z"
   },
   {
    "duration": 5,
    "start_time": "2022-04-21T17:46:53.395Z"
   },
   {
    "duration": 14,
    "start_time": "2022-04-21T17:46:53.403Z"
   },
   {
    "duration": 12,
    "start_time": "2022-04-21T17:46:53.420Z"
   },
   {
    "duration": 6,
    "start_time": "2022-04-21T17:46:53.434Z"
   },
   {
    "duration": 45,
    "start_time": "2022-04-21T17:46:53.441Z"
   },
   {
    "duration": 18,
    "start_time": "2022-04-21T17:46:53.489Z"
   },
   {
    "duration": 5,
    "start_time": "2022-04-21T17:46:53.509Z"
   },
   {
    "duration": 12,
    "start_time": "2022-04-21T17:46:53.515Z"
   },
   {
    "duration": 11,
    "start_time": "2022-04-21T17:46:53.528Z"
   },
   {
    "duration": 33,
    "start_time": "2022-04-21T17:46:53.541Z"
   },
   {
    "duration": 4,
    "start_time": "2022-04-21T17:46:53.576Z"
   },
   {
    "duration": 18,
    "start_time": "2022-04-21T17:46:53.582Z"
   },
   {
    "duration": 15,
    "start_time": "2022-04-21T17:46:53.602Z"
   },
   {
    "duration": 323,
    "start_time": "2022-04-21T17:46:53.620Z"
   },
   {
    "duration": 9,
    "start_time": "2022-04-21T17:46:53.944Z"
   },
   {
    "duration": 9,
    "start_time": "2022-04-21T17:47:12.966Z"
   },
   {
    "duration": 9,
    "start_time": "2022-04-21T17:50:08.591Z"
   },
   {
    "duration": 10,
    "start_time": "2022-04-21T17:57:24.861Z"
   },
   {
    "duration": 13,
    "start_time": "2022-04-21T17:57:33.690Z"
   },
   {
    "duration": 9,
    "start_time": "2022-04-21T17:57:39.104Z"
   },
   {
    "duration": 10,
    "start_time": "2022-04-21T17:58:04.641Z"
   },
   {
    "duration": 13,
    "start_time": "2022-04-21T17:58:09.296Z"
   },
   {
    "duration": 7,
    "start_time": "2022-04-21T17:58:10.200Z"
   },
   {
    "duration": 13,
    "start_time": "2022-04-21T17:58:11.096Z"
   },
   {
    "duration": 10,
    "start_time": "2022-04-21T18:09:39.586Z"
   },
   {
    "duration": 1237,
    "start_time": "2022-04-21T18:11:33.087Z"
   },
   {
    "duration": 70,
    "start_time": "2022-04-21T18:11:34.327Z"
   },
   {
    "duration": 14,
    "start_time": "2022-04-21T18:11:34.399Z"
   },
   {
    "duration": 13,
    "start_time": "2022-04-21T18:11:34.415Z"
   },
   {
    "duration": 10,
    "start_time": "2022-04-21T18:11:34.431Z"
   },
   {
    "duration": 9,
    "start_time": "2022-04-21T18:11:34.443Z"
   },
   {
    "duration": 8,
    "start_time": "2022-04-21T18:11:34.474Z"
   },
   {
    "duration": 14,
    "start_time": "2022-04-21T18:11:34.487Z"
   },
   {
    "duration": 12,
    "start_time": "2022-04-21T18:11:34.503Z"
   },
   {
    "duration": 17,
    "start_time": "2022-04-21T18:11:34.517Z"
   },
   {
    "duration": 7,
    "start_time": "2022-04-21T18:11:34.535Z"
   },
   {
    "duration": 35,
    "start_time": "2022-04-21T18:11:34.544Z"
   },
   {
    "duration": 14,
    "start_time": "2022-04-21T18:11:34.583Z"
   },
   {
    "duration": 8,
    "start_time": "2022-04-21T18:11:34.600Z"
   },
   {
    "duration": 251,
    "start_time": "2022-04-21T18:11:34.610Z"
   },
   {
    "duration": 13,
    "start_time": "2022-04-21T18:11:34.863Z"
   },
   {
    "duration": 27,
    "start_time": "2022-04-21T18:11:34.878Z"
   },
   {
    "duration": 156,
    "start_time": "2022-04-21T18:11:34.907Z"
   },
   {
    "duration": 26,
    "start_time": "2022-04-21T18:11:35.065Z"
   },
   {
    "duration": 6,
    "start_time": "2022-04-21T18:11:35.093Z"
   },
   {
    "duration": 8,
    "start_time": "2022-04-21T18:11:35.101Z"
   },
   {
    "duration": 12,
    "start_time": "2022-04-21T18:11:35.111Z"
   },
   {
    "duration": 242,
    "start_time": "2022-04-21T18:11:35.124Z"
   },
   {
    "duration": 24,
    "start_time": "2022-04-21T18:11:35.368Z"
   },
   {
    "duration": 9,
    "start_time": "2022-04-21T18:11:35.394Z"
   },
   {
    "duration": 14,
    "start_time": "2022-04-21T18:11:35.405Z"
   },
   {
    "duration": 7,
    "start_time": "2022-04-21T18:11:35.421Z"
   },
   {
    "duration": 223,
    "start_time": "2022-04-21T18:11:35.430Z"
   },
   {
    "duration": 8,
    "start_time": "2022-04-21T18:11:35.655Z"
   },
   {
    "duration": 15,
    "start_time": "2022-04-21T18:11:35.665Z"
   },
   {
    "duration": 327,
    "start_time": "2022-04-21T18:11:35.682Z"
   },
   {
    "duration": 19,
    "start_time": "2022-04-21T18:11:36.012Z"
   },
   {
    "duration": 13,
    "start_time": "2022-04-21T18:11:36.033Z"
   },
   {
    "duration": 43,
    "start_time": "2022-04-21T18:11:36.047Z"
   },
   {
    "duration": 18,
    "start_time": "2022-04-21T18:11:36.092Z"
   },
   {
    "duration": 7,
    "start_time": "2022-04-21T18:11:36.111Z"
   },
   {
    "duration": 306,
    "start_time": "2022-04-21T18:11:36.120Z"
   },
   {
    "duration": 1232,
    "start_time": "2022-04-21T18:11:36.428Z"
   },
   {
    "duration": 13,
    "start_time": "2022-04-21T18:11:37.662Z"
   },
   {
    "duration": 18,
    "start_time": "2022-04-21T18:11:37.681Z"
   },
   {
    "duration": 14,
    "start_time": "2022-04-21T18:11:37.704Z"
   },
   {
    "duration": 23,
    "start_time": "2022-04-21T18:11:37.719Z"
   },
   {
    "duration": 12,
    "start_time": "2022-04-21T18:11:37.743Z"
   },
   {
    "duration": 19,
    "start_time": "2022-04-21T18:11:37.757Z"
   },
   {
    "duration": 30,
    "start_time": "2022-04-21T18:11:37.779Z"
   },
   {
    "duration": 6,
    "start_time": "2022-04-21T18:11:37.811Z"
   },
   {
    "duration": 16,
    "start_time": "2022-04-21T18:11:37.819Z"
   },
   {
    "duration": 15,
    "start_time": "2022-04-21T18:11:37.836Z"
   },
   {
    "duration": 11,
    "start_time": "2022-04-21T18:11:37.853Z"
   },
   {
    "duration": 6,
    "start_time": "2022-04-21T18:11:37.866Z"
   },
   {
    "duration": 28,
    "start_time": "2022-04-21T18:11:37.874Z"
   },
   {
    "duration": 19,
    "start_time": "2022-04-21T18:11:37.904Z"
   },
   {
    "duration": 441,
    "start_time": "2022-04-21T18:11:37.925Z"
   },
   {
    "duration": 17,
    "start_time": "2022-04-21T18:11:38.368Z"
   },
   {
    "duration": 117,
    "start_time": "2022-04-21T18:13:30.542Z"
   },
   {
    "duration": 21,
    "start_time": "2022-04-21T18:13:42.771Z"
   },
   {
    "duration": 1338,
    "start_time": "2022-04-26T06:01:19.471Z"
   },
   {
    "duration": 58,
    "start_time": "2022-04-26T06:01:20.811Z"
   },
   {
    "duration": 13,
    "start_time": "2022-04-26T06:01:20.871Z"
   },
   {
    "duration": 19,
    "start_time": "2022-04-26T06:01:20.886Z"
   },
   {
    "duration": 24,
    "start_time": "2022-04-26T06:01:20.907Z"
   },
   {
    "duration": 14,
    "start_time": "2022-04-26T06:01:20.932Z"
   },
   {
    "duration": 21,
    "start_time": "2022-04-26T06:01:20.947Z"
   },
   {
    "duration": 12,
    "start_time": "2022-04-26T06:01:20.969Z"
   },
   {
    "duration": 21,
    "start_time": "2022-04-26T06:01:20.982Z"
   },
   {
    "duration": 28,
    "start_time": "2022-04-26T06:01:21.006Z"
   },
   {
    "duration": 7,
    "start_time": "2022-04-26T06:01:21.035Z"
   },
   {
    "duration": 28,
    "start_time": "2022-04-26T06:01:21.043Z"
   },
   {
    "duration": 17,
    "start_time": "2022-04-26T06:01:21.073Z"
   },
   {
    "duration": 14,
    "start_time": "2022-04-26T06:01:21.092Z"
   },
   {
    "duration": 213,
    "start_time": "2022-04-26T06:01:21.107Z"
   },
   {
    "duration": 7,
    "start_time": "2022-04-26T06:01:21.321Z"
   },
   {
    "duration": 22,
    "start_time": "2022-04-26T06:01:21.329Z"
   },
   {
    "duration": 150,
    "start_time": "2022-04-26T06:01:21.352Z"
   },
   {
    "duration": 16,
    "start_time": "2022-04-26T06:01:21.503Z"
   },
   {
    "duration": 5,
    "start_time": "2022-04-26T06:01:21.521Z"
   },
   {
    "duration": 25,
    "start_time": "2022-04-26T06:01:21.527Z"
   },
   {
    "duration": 24,
    "start_time": "2022-04-26T06:01:21.554Z"
   },
   {
    "duration": 209,
    "start_time": "2022-04-26T06:01:21.580Z"
   },
   {
    "duration": 5,
    "start_time": "2022-04-26T06:01:21.792Z"
   },
   {
    "duration": 11,
    "start_time": "2022-04-26T06:01:21.799Z"
   },
   {
    "duration": 10,
    "start_time": "2022-04-26T06:01:21.812Z"
   },
   {
    "duration": 185,
    "start_time": "2022-04-26T06:01:21.824Z"
   },
   {
    "duration": 8,
    "start_time": "2022-04-26T06:01:22.013Z"
   },
   {
    "duration": 18,
    "start_time": "2022-04-26T06:01:22.023Z"
   },
   {
    "duration": 274,
    "start_time": "2022-04-26T06:01:22.043Z"
   },
   {
    "duration": 13,
    "start_time": "2022-04-26T06:01:22.318Z"
   },
   {
    "duration": 32,
    "start_time": "2022-04-26T06:01:22.332Z"
   },
   {
    "duration": 14,
    "start_time": "2022-04-26T06:01:22.366Z"
   },
   {
    "duration": 31,
    "start_time": "2022-04-26T06:01:22.381Z"
   },
   {
    "duration": 20,
    "start_time": "2022-04-26T06:01:22.414Z"
   },
   {
    "duration": 236,
    "start_time": "2022-04-26T06:01:22.436Z"
   },
   {
    "duration": 1410,
    "start_time": "2022-04-26T06:01:22.674Z"
   },
   {
    "duration": 12,
    "start_time": "2022-04-26T06:01:24.086Z"
   },
   {
    "duration": 5,
    "start_time": "2022-04-26T06:01:24.100Z"
   },
   {
    "duration": 12,
    "start_time": "2022-04-26T06:01:24.106Z"
   },
   {
    "duration": 9,
    "start_time": "2022-04-26T06:01:24.119Z"
   },
   {
    "duration": 7,
    "start_time": "2022-04-26T06:01:24.129Z"
   },
   {
    "duration": 11,
    "start_time": "2022-04-26T06:01:24.138Z"
   },
   {
    "duration": 48,
    "start_time": "2022-04-26T06:01:24.150Z"
   },
   {
    "duration": 5,
    "start_time": "2022-04-26T06:01:24.200Z"
   },
   {
    "duration": 14,
    "start_time": "2022-04-26T06:01:24.207Z"
   },
   {
    "duration": 8,
    "start_time": "2022-04-26T06:01:24.223Z"
   },
   {
    "duration": 11,
    "start_time": "2022-04-26T06:01:24.233Z"
   },
   {
    "duration": 5,
    "start_time": "2022-04-26T06:01:24.245Z"
   },
   {
    "duration": 19,
    "start_time": "2022-04-26T06:01:24.251Z"
   },
   {
    "duration": 21,
    "start_time": "2022-04-26T06:01:24.272Z"
   },
   {
    "duration": 334,
    "start_time": "2022-04-26T06:01:24.295Z"
   },
   {
    "duration": 8,
    "start_time": "2022-04-26T06:01:24.630Z"
   },
   {
    "duration": 3,
    "start_time": "2022-04-26T06:02:55.058Z"
   },
   {
    "duration": 50,
    "start_time": "2022-04-26T06:02:55.065Z"
   },
   {
    "duration": 10,
    "start_time": "2022-04-26T06:02:55.117Z"
   },
   {
    "duration": 14,
    "start_time": "2022-04-26T06:02:55.128Z"
   },
   {
    "duration": 8,
    "start_time": "2022-04-26T06:02:55.144Z"
   },
   {
    "duration": 41,
    "start_time": "2022-04-26T06:02:55.154Z"
   },
   {
    "duration": 5,
    "start_time": "2022-04-26T06:02:55.197Z"
   },
   {
    "duration": 8,
    "start_time": "2022-04-26T06:02:55.204Z"
   },
   {
    "duration": 9,
    "start_time": "2022-04-26T06:02:55.213Z"
   },
   {
    "duration": 23,
    "start_time": "2022-04-26T06:02:55.224Z"
   },
   {
    "duration": 7,
    "start_time": "2022-04-26T06:02:55.250Z"
   },
   {
    "duration": 8,
    "start_time": "2022-04-26T06:02:55.293Z"
   },
   {
    "duration": 9,
    "start_time": "2022-04-26T06:02:55.303Z"
   },
   {
    "duration": 9,
    "start_time": "2022-04-26T06:02:55.314Z"
   },
   {
    "duration": 230,
    "start_time": "2022-04-26T06:02:55.324Z"
   },
   {
    "duration": 6,
    "start_time": "2022-04-26T06:02:55.556Z"
   },
   {
    "duration": 8,
    "start_time": "2022-04-26T06:02:55.564Z"
   },
   {
    "duration": 165,
    "start_time": "2022-04-26T06:02:55.573Z"
   },
   {
    "duration": 17,
    "start_time": "2022-04-26T06:02:55.739Z"
   },
   {
    "duration": 4,
    "start_time": "2022-04-26T06:02:55.758Z"
   },
   {
    "duration": 6,
    "start_time": "2022-04-26T06:02:55.764Z"
   },
   {
    "duration": 8,
    "start_time": "2022-04-26T06:02:55.792Z"
   },
   {
    "duration": 205,
    "start_time": "2022-04-26T06:02:55.802Z"
   },
   {
    "duration": 6,
    "start_time": "2022-04-26T06:02:56.010Z"
   },
   {
    "duration": 9,
    "start_time": "2022-04-26T06:02:56.018Z"
   },
   {
    "duration": 7,
    "start_time": "2022-04-26T06:02:56.029Z"
   },
   {
    "duration": 189,
    "start_time": "2022-04-26T06:02:56.038Z"
   },
   {
    "duration": 9,
    "start_time": "2022-04-26T06:02:56.229Z"
   },
   {
    "duration": 9,
    "start_time": "2022-04-26T06:02:56.239Z"
   },
   {
    "duration": 271,
    "start_time": "2022-04-26T06:02:56.250Z"
   },
   {
    "duration": 13,
    "start_time": "2022-04-26T06:02:56.523Z"
   },
   {
    "duration": 14,
    "start_time": "2022-04-26T06:02:56.538Z"
   },
   {
    "duration": 41,
    "start_time": "2022-04-26T06:02:56.553Z"
   },
   {
    "duration": 17,
    "start_time": "2022-04-26T06:02:56.596Z"
   },
   {
    "duration": 7,
    "start_time": "2022-04-26T06:02:56.615Z"
   },
   {
    "duration": 247,
    "start_time": "2022-04-26T06:02:56.624Z"
   },
   {
    "duration": 957,
    "start_time": "2022-04-26T06:02:56.873Z"
   },
   {
    "duration": 13,
    "start_time": "2022-04-26T06:02:57.832Z"
   },
   {
    "duration": 5,
    "start_time": "2022-04-26T06:02:57.847Z"
   },
   {
    "duration": 8,
    "start_time": "2022-04-26T06:02:57.854Z"
   },
   {
    "duration": 13,
    "start_time": "2022-04-26T06:02:57.864Z"
   },
   {
    "duration": 5,
    "start_time": "2022-04-26T06:02:57.879Z"
   },
   {
    "duration": 11,
    "start_time": "2022-04-26T06:02:57.886Z"
   },
   {
    "duration": 14,
    "start_time": "2022-04-26T06:02:57.898Z"
   },
   {
    "duration": 5,
    "start_time": "2022-04-26T06:02:57.914Z"
   },
   {
    "duration": 15,
    "start_time": "2022-04-26T06:02:57.920Z"
   },
   {
    "duration": 9,
    "start_time": "2022-04-26T06:02:57.937Z"
   },
   {
    "duration": 10,
    "start_time": "2022-04-26T06:02:57.948Z"
   },
   {
    "duration": 4,
    "start_time": "2022-04-26T06:02:57.960Z"
   },
   {
    "duration": 27,
    "start_time": "2022-04-26T06:02:57.966Z"
   },
   {
    "duration": 15,
    "start_time": "2022-04-26T06:02:57.994Z"
   },
   {
    "duration": 320,
    "start_time": "2022-04-26T06:02:58.011Z"
   },
   {
    "duration": 7,
    "start_time": "2022-04-26T06:02:58.333Z"
   },
   {
    "duration": 3,
    "start_time": "2022-04-26T06:17:01.934Z"
   },
   {
    "duration": 77,
    "start_time": "2022-04-26T06:17:01.941Z"
   },
   {
    "duration": 10,
    "start_time": "2022-04-26T06:17:02.020Z"
   },
   {
    "duration": 22,
    "start_time": "2022-04-26T06:17:02.031Z"
   },
   {
    "duration": 38,
    "start_time": "2022-04-26T06:17:02.055Z"
   },
   {
    "duration": 27,
    "start_time": "2022-04-26T06:17:02.095Z"
   },
   {
    "duration": 4,
    "start_time": "2022-04-26T06:17:02.124Z"
   },
   {
    "duration": 10,
    "start_time": "2022-04-26T06:17:02.130Z"
   },
   {
    "duration": 19,
    "start_time": "2022-04-26T06:17:02.142Z"
   },
   {
    "duration": 26,
    "start_time": "2022-04-26T06:17:02.163Z"
   },
   {
    "duration": 14,
    "start_time": "2022-04-26T06:17:02.192Z"
   },
   {
    "duration": 23,
    "start_time": "2022-04-26T06:17:02.208Z"
   },
   {
    "duration": 9,
    "start_time": "2022-04-26T06:17:02.233Z"
   },
   {
    "duration": 13,
    "start_time": "2022-04-26T06:17:02.244Z"
   },
   {
    "duration": 450,
    "start_time": "2022-04-26T06:17:02.259Z"
   },
   {
    "duration": 7,
    "start_time": "2022-04-26T06:17:02.711Z"
   },
   {
    "duration": 16,
    "start_time": "2022-04-26T06:17:02.720Z"
   },
   {
    "duration": 218,
    "start_time": "2022-04-26T06:17:02.737Z"
   },
   {
    "duration": 16,
    "start_time": "2022-04-26T06:17:02.956Z"
   },
   {
    "duration": 20,
    "start_time": "2022-04-26T06:17:02.974Z"
   },
   {
    "duration": 5,
    "start_time": "2022-04-26T06:17:02.996Z"
   },
   {
    "duration": 13,
    "start_time": "2022-04-26T06:17:03.002Z"
   },
   {
    "duration": 196,
    "start_time": "2022-04-26T06:17:03.016Z"
   },
   {
    "duration": 6,
    "start_time": "2022-04-26T06:17:03.214Z"
   },
   {
    "duration": 10,
    "start_time": "2022-04-26T06:17:03.222Z"
   },
   {
    "duration": 7,
    "start_time": "2022-04-26T06:17:03.233Z"
   },
   {
    "duration": 186,
    "start_time": "2022-04-26T06:17:03.242Z"
   },
   {
    "duration": 9,
    "start_time": "2022-04-26T06:17:03.430Z"
   },
   {
    "duration": 8,
    "start_time": "2022-04-26T06:17:03.444Z"
   },
   {
    "duration": 284,
    "start_time": "2022-04-26T06:17:03.454Z"
   },
   {
    "duration": 14,
    "start_time": "2022-04-26T06:17:03.739Z"
   },
   {
    "duration": 12,
    "start_time": "2022-04-26T06:17:03.754Z"
   },
   {
    "duration": 36,
    "start_time": "2022-04-26T06:17:03.768Z"
   },
   {
    "duration": 18,
    "start_time": "2022-04-26T06:17:03.805Z"
   },
   {
    "duration": 8,
    "start_time": "2022-04-26T06:17:03.825Z"
   },
   {
    "duration": 252,
    "start_time": "2022-04-26T06:17:03.835Z"
   },
   {
    "duration": 1200,
    "start_time": "2022-04-26T06:17:04.092Z"
   },
   {
    "duration": 12,
    "start_time": "2022-04-26T06:17:05.294Z"
   },
   {
    "duration": 15,
    "start_time": "2022-04-26T06:17:05.308Z"
   },
   {
    "duration": 17,
    "start_time": "2022-04-26T06:17:05.325Z"
   },
   {
    "duration": 55,
    "start_time": "2022-04-26T06:17:05.343Z"
   },
   {
    "duration": 4,
    "start_time": "2022-04-26T06:17:05.400Z"
   },
   {
    "duration": 12,
    "start_time": "2022-04-26T06:17:05.406Z"
   },
   {
    "duration": 72,
    "start_time": "2022-04-26T06:17:05.421Z"
   },
   {
    "duration": 7,
    "start_time": "2022-04-26T06:17:05.495Z"
   },
   {
    "duration": 12,
    "start_time": "2022-04-26T06:17:05.504Z"
   },
   {
    "duration": 11,
    "start_time": "2022-04-26T06:17:05.518Z"
   },
   {
    "duration": 13,
    "start_time": "2022-04-26T06:17:05.531Z"
   },
   {
    "duration": 3,
    "start_time": "2022-04-26T06:17:05.593Z"
   },
   {
    "duration": 7,
    "start_time": "2022-04-26T06:17:05.598Z"
   },
   {
    "duration": 17,
    "start_time": "2022-04-26T06:17:05.607Z"
   },
   {
    "duration": 582,
    "start_time": "2022-04-26T06:17:05.626Z"
   },
   {
    "duration": 8,
    "start_time": "2022-04-26T06:17:06.209Z"
   },
   {
    "duration": 83,
    "start_time": "2022-04-26T17:41:14.332Z"
   },
   {
    "duration": 1858,
    "start_time": "2022-04-26T17:41:18.408Z"
   },
   {
    "duration": 84,
    "start_time": "2022-04-26T17:41:20.269Z"
   },
   {
    "duration": 42,
    "start_time": "2022-04-26T17:41:20.355Z"
   },
   {
    "duration": 25,
    "start_time": "2022-04-26T17:41:20.399Z"
   },
   {
    "duration": 13,
    "start_time": "2022-04-26T17:41:20.427Z"
   },
   {
    "duration": 52,
    "start_time": "2022-04-26T17:41:20.442Z"
   },
   {
    "duration": 14,
    "start_time": "2022-04-26T17:41:20.496Z"
   },
   {
    "duration": 11,
    "start_time": "2022-04-26T17:41:20.512Z"
   },
   {
    "duration": 11,
    "start_time": "2022-04-26T17:41:20.525Z"
   },
   {
    "duration": 57,
    "start_time": "2022-04-26T17:41:20.538Z"
   },
   {
    "duration": 12,
    "start_time": "2022-04-26T17:41:20.597Z"
   },
   {
    "duration": 16,
    "start_time": "2022-04-26T17:41:20.611Z"
   },
   {
    "duration": 15,
    "start_time": "2022-04-26T17:41:20.629Z"
   },
   {
    "duration": 11,
    "start_time": "2022-04-26T17:41:20.649Z"
   },
   {
    "duration": 399,
    "start_time": "2022-04-26T17:41:20.662Z"
   },
   {
    "duration": 21,
    "start_time": "2022-04-26T17:41:21.064Z"
   },
   {
    "duration": 12,
    "start_time": "2022-04-26T17:41:21.093Z"
   },
   {
    "duration": 286,
    "start_time": "2022-04-26T17:41:21.107Z"
   },
   {
    "duration": 28,
    "start_time": "2022-04-26T17:41:21.396Z"
   },
   {
    "duration": 6,
    "start_time": "2022-04-26T17:41:21.426Z"
   },
   {
    "duration": 7,
    "start_time": "2022-04-26T17:41:21.434Z"
   },
   {
    "duration": 15,
    "start_time": "2022-04-26T17:41:21.443Z"
   },
   {
    "duration": 376,
    "start_time": "2022-04-26T17:41:21.460Z"
   },
   {
    "duration": 9,
    "start_time": "2022-04-26T17:41:21.838Z"
   },
   {
    "duration": 14,
    "start_time": "2022-04-26T17:41:21.849Z"
   },
   {
    "duration": 32,
    "start_time": "2022-04-26T17:41:21.865Z"
   },
   {
    "duration": 326,
    "start_time": "2022-04-26T17:41:21.904Z"
   },
   {
    "duration": 12,
    "start_time": "2022-04-26T17:41:22.232Z"
   },
   {
    "duration": 11,
    "start_time": "2022-04-26T17:41:22.246Z"
   },
   {
    "duration": 476,
    "start_time": "2022-04-26T17:41:22.287Z"
   },
   {
    "duration": 34,
    "start_time": "2022-04-26T17:41:22.765Z"
   },
   {
    "duration": 27,
    "start_time": "2022-04-26T17:41:22.802Z"
   },
   {
    "duration": 24,
    "start_time": "2022-04-26T17:41:22.832Z"
   },
   {
    "duration": 42,
    "start_time": "2022-04-26T17:41:22.858Z"
   },
   {
    "duration": 17,
    "start_time": "2022-04-26T17:41:22.906Z"
   },
   {
    "duration": 428,
    "start_time": "2022-04-26T17:41:22.925Z"
   },
   {
    "duration": 1755,
    "start_time": "2022-04-26T17:41:23.355Z"
   },
   {
    "duration": 18,
    "start_time": "2022-04-26T17:41:25.113Z"
   },
   {
    "duration": 56,
    "start_time": "2022-04-26T17:41:25.133Z"
   },
   {
    "duration": 28,
    "start_time": "2022-04-26T17:41:25.196Z"
   },
   {
    "duration": 57,
    "start_time": "2022-04-26T17:41:25.230Z"
   },
   {
    "duration": 41,
    "start_time": "2022-04-26T17:41:25.289Z"
   },
   {
    "duration": 73,
    "start_time": "2022-04-26T17:41:25.333Z"
   },
   {
    "duration": 73,
    "start_time": "2022-04-26T17:41:25.411Z"
   },
   {
    "duration": 14,
    "start_time": "2022-04-26T17:41:25.487Z"
   },
   {
    "duration": 27,
    "start_time": "2022-04-26T17:41:25.504Z"
   },
   {
    "duration": 51,
    "start_time": "2022-04-26T17:41:25.533Z"
   },
   {
    "duration": 35,
    "start_time": "2022-04-26T17:41:25.589Z"
   },
   {
    "duration": 9,
    "start_time": "2022-04-26T17:41:25.626Z"
   },
   {
    "duration": 59,
    "start_time": "2022-04-26T17:41:25.637Z"
   },
   {
    "duration": 44,
    "start_time": "2022-04-26T17:41:25.699Z"
   },
   {
    "duration": 1089,
    "start_time": "2022-04-26T17:41:25.793Z"
   },
   {
    "duration": 15,
    "start_time": "2022-04-26T17:41:26.884Z"
   },
   {
    "duration": 9,
    "start_time": "2022-04-26T17:44:18.459Z"
   },
   {
    "duration": 11,
    "start_time": "2022-04-26T17:44:23.738Z"
   },
   {
    "duration": 11,
    "start_time": "2022-04-26T17:44:24.207Z"
   },
   {
    "duration": 357,
    "start_time": "2022-04-26T17:44:26.304Z"
   },
   {
    "duration": 4,
    "start_time": "2022-04-26T17:44:33.872Z"
   },
   {
    "duration": 99,
    "start_time": "2022-04-26T17:44:33.878Z"
   },
   {
    "duration": 24,
    "start_time": "2022-04-26T17:44:33.979Z"
   },
   {
    "duration": 28,
    "start_time": "2022-04-26T17:44:34.006Z"
   },
   {
    "duration": 14,
    "start_time": "2022-04-26T17:44:34.037Z"
   },
   {
    "duration": 47,
    "start_time": "2022-04-26T17:44:34.053Z"
   },
   {
    "duration": 17,
    "start_time": "2022-04-26T17:44:34.102Z"
   },
   {
    "duration": 9,
    "start_time": "2022-04-26T17:44:34.122Z"
   },
   {
    "duration": 13,
    "start_time": "2022-04-26T17:44:34.132Z"
   },
   {
    "duration": 66,
    "start_time": "2022-04-26T17:44:34.147Z"
   },
   {
    "duration": 10,
    "start_time": "2022-04-26T17:44:34.217Z"
   },
   {
    "duration": 14,
    "start_time": "2022-04-26T17:44:34.229Z"
   },
   {
    "duration": 10,
    "start_time": "2022-04-26T17:44:34.246Z"
   },
   {
    "duration": 45,
    "start_time": "2022-04-26T17:44:34.258Z"
   },
   {
    "duration": 360,
    "start_time": "2022-04-26T17:44:34.305Z"
   },
   {
    "duration": 14,
    "start_time": "2022-04-26T17:44:34.668Z"
   },
   {
    "duration": 36,
    "start_time": "2022-04-26T17:44:34.687Z"
   },
   {
    "duration": 267,
    "start_time": "2022-04-26T17:44:34.726Z"
   },
   {
    "duration": 25,
    "start_time": "2022-04-26T17:44:34.998Z"
   },
   {
    "duration": 6,
    "start_time": "2022-04-26T17:44:35.026Z"
   },
   {
    "duration": 7,
    "start_time": "2022-04-26T17:44:35.034Z"
   },
   {
    "duration": 14,
    "start_time": "2022-04-26T17:44:35.043Z"
   },
   {
    "duration": 384,
    "start_time": "2022-04-26T17:44:35.059Z"
   },
   {
    "duration": 8,
    "start_time": "2022-04-26T17:44:35.445Z"
   },
   {
    "duration": 30,
    "start_time": "2022-04-26T17:44:35.454Z"
   },
   {
    "duration": 16,
    "start_time": "2022-04-26T17:44:35.489Z"
   },
   {
    "duration": 328,
    "start_time": "2022-04-26T17:44:35.508Z"
   },
   {
    "duration": 12,
    "start_time": "2022-04-26T17:44:35.838Z"
   },
   {
    "duration": 27,
    "start_time": "2022-04-26T17:44:35.855Z"
   },
   {
    "duration": 501,
    "start_time": "2022-04-26T17:44:35.884Z"
   },
   {
    "duration": 23,
    "start_time": "2022-04-26T17:44:36.390Z"
   },
   {
    "duration": 18,
    "start_time": "2022-04-26T17:44:36.416Z"
   },
   {
    "duration": 54,
    "start_time": "2022-04-26T17:44:36.436Z"
   },
   {
    "duration": 29,
    "start_time": "2022-04-26T17:44:36.493Z"
   },
   {
    "duration": 11,
    "start_time": "2022-04-26T17:44:36.524Z"
   },
   {
    "duration": 776,
    "start_time": "2022-04-26T17:44:36.537Z"
   },
   {
    "duration": 804,
    "start_time": "2022-04-26T17:44:37.315Z"
   },
   {
    "duration": 66,
    "start_time": "2022-04-26T17:44:38.121Z"
   },
   {
    "duration": 6,
    "start_time": "2022-04-26T17:44:38.193Z"
   },
   {
    "duration": 20,
    "start_time": "2022-04-26T17:44:38.203Z"
   },
   {
    "duration": 61,
    "start_time": "2022-04-26T17:44:38.226Z"
   },
   {
    "duration": 13,
    "start_time": "2022-04-26T17:44:38.292Z"
   },
   {
    "duration": 18,
    "start_time": "2022-04-26T17:44:38.310Z"
   },
   {
    "duration": 67,
    "start_time": "2022-04-26T17:44:38.330Z"
   },
   {
    "duration": 21,
    "start_time": "2022-04-26T17:44:38.399Z"
   },
   {
    "duration": 13,
    "start_time": "2022-04-26T17:44:38.422Z"
   },
   {
    "duration": 275,
    "start_time": "2022-04-26T17:44:38.437Z"
   },
   {
    "duration": 81,
    "start_time": "2022-04-26T17:44:38.715Z"
   },
   {
    "duration": 16,
    "start_time": "2022-04-26T17:44:38.800Z"
   },
   {
    "duration": 9,
    "start_time": "2022-04-26T17:44:38.818Z"
   },
   {
    "duration": 64,
    "start_time": "2022-04-26T17:44:38.830Z"
   },
   {
    "duration": 726,
    "start_time": "2022-04-26T17:44:38.896Z"
   },
   {
    "duration": 11,
    "start_time": "2022-04-26T17:44:39.625Z"
   },
   {
    "duration": 267,
    "start_time": "2022-04-26T17:51:53.947Z"
   },
   {
    "duration": 491,
    "start_time": "2022-04-26T18:22:18.649Z"
   },
   {
    "duration": 12,
    "start_time": "2022-04-26T18:22:22.677Z"
   },
   {
    "duration": 112,
    "start_time": "2022-04-26T18:22:22.692Z"
   },
   {
    "duration": 16,
    "start_time": "2022-04-26T18:22:22.806Z"
   },
   {
    "duration": 27,
    "start_time": "2022-04-26T18:22:22.825Z"
   },
   {
    "duration": 33,
    "start_time": "2022-04-26T18:22:22.854Z"
   },
   {
    "duration": 18,
    "start_time": "2022-04-26T18:22:22.890Z"
   },
   {
    "duration": 21,
    "start_time": "2022-04-26T18:22:22.911Z"
   },
   {
    "duration": 9,
    "start_time": "2022-04-26T18:22:22.935Z"
   },
   {
    "duration": 46,
    "start_time": "2022-04-26T18:22:22.947Z"
   },
   {
    "duration": 30,
    "start_time": "2022-04-26T18:22:22.998Z"
   },
   {
    "duration": 9,
    "start_time": "2022-04-26T18:22:23.031Z"
   },
   {
    "duration": 13,
    "start_time": "2022-04-26T18:22:23.042Z"
   },
   {
    "duration": 16,
    "start_time": "2022-04-26T18:22:23.057Z"
   },
   {
    "duration": 15,
    "start_time": "2022-04-26T18:22:23.092Z"
   },
   {
    "duration": 405,
    "start_time": "2022-04-26T18:22:23.115Z"
   },
   {
    "duration": 11,
    "start_time": "2022-04-26T18:22:23.524Z"
   },
   {
    "duration": 11,
    "start_time": "2022-04-26T18:22:23.537Z"
   },
   {
    "duration": 301,
    "start_time": "2022-04-26T18:22:23.550Z"
   },
   {
    "duration": 39,
    "start_time": "2022-04-26T18:22:23.853Z"
   },
   {
    "duration": 20,
    "start_time": "2022-04-26T18:22:23.894Z"
   },
   {
    "duration": 10,
    "start_time": "2022-04-26T18:22:23.916Z"
   },
   {
    "duration": 15,
    "start_time": "2022-04-26T18:22:23.928Z"
   },
   {
    "duration": 373,
    "start_time": "2022-04-26T18:22:23.945Z"
   },
   {
    "duration": 9,
    "start_time": "2022-04-26T18:22:24.328Z"
   },
   {
    "duration": 19,
    "start_time": "2022-04-26T18:22:24.341Z"
   },
   {
    "duration": 33,
    "start_time": "2022-04-26T18:22:24.363Z"
   },
   {
    "duration": 470,
    "start_time": "2022-04-26T18:22:24.398Z"
   },
   {
    "duration": 23,
    "start_time": "2022-04-26T18:22:24.871Z"
   },
   {
    "duration": 42,
    "start_time": "2022-04-26T18:22:24.896Z"
   },
   {
    "duration": 505,
    "start_time": "2022-04-26T18:22:24.940Z"
   },
   {
    "duration": 20,
    "start_time": "2022-04-26T18:22:25.447Z"
   },
   {
    "duration": 46,
    "start_time": "2022-04-26T18:22:25.469Z"
   },
   {
    "duration": 34,
    "start_time": "2022-04-26T18:22:25.518Z"
   },
   {
    "duration": 41,
    "start_time": "2022-04-26T18:22:25.554Z"
   },
   {
    "duration": 21,
    "start_time": "2022-04-26T18:22:25.597Z"
   },
   {
    "duration": 530,
    "start_time": "2022-04-26T18:22:25.620Z"
   },
   {
    "duration": 1344,
    "start_time": "2022-04-26T18:22:26.152Z"
   },
   {
    "duration": 21,
    "start_time": "2022-04-26T18:22:27.502Z"
   },
   {
    "duration": 6,
    "start_time": "2022-04-26T18:22:27.525Z"
   },
   {
    "duration": 12,
    "start_time": "2022-04-26T18:22:27.533Z"
   },
   {
    "duration": 33,
    "start_time": "2022-04-26T18:22:27.548Z"
   },
   {
    "duration": 11,
    "start_time": "2022-04-26T18:22:27.584Z"
   },
   {
    "duration": 40,
    "start_time": "2022-04-26T18:22:27.597Z"
   },
   {
    "duration": 20,
    "start_time": "2022-04-26T18:22:27.640Z"
   },
   {
    "duration": 6,
    "start_time": "2022-04-26T18:22:27.662Z"
   },
   {
    "duration": 28,
    "start_time": "2022-04-26T18:22:27.670Z"
   },
   {
    "duration": 31,
    "start_time": "2022-04-26T18:22:27.700Z"
   },
   {
    "duration": 20,
    "start_time": "2022-04-26T18:22:27.733Z"
   },
   {
    "duration": 7,
    "start_time": "2022-04-26T18:22:27.755Z"
   },
   {
    "duration": 10,
    "start_time": "2022-04-26T18:22:27.764Z"
   },
   {
    "duration": 24,
    "start_time": "2022-04-26T18:22:27.776Z"
   },
   {
    "duration": 783,
    "start_time": "2022-04-26T18:22:27.803Z"
   },
   {
    "duration": 20,
    "start_time": "2022-04-26T18:22:28.589Z"
   },
   {
    "duration": 1487,
    "start_time": "2022-04-26T18:45:58.937Z"
   },
   {
    "duration": 77,
    "start_time": "2022-04-26T18:46:00.427Z"
   },
   {
    "duration": 22,
    "start_time": "2022-04-26T18:46:00.507Z"
   },
   {
    "duration": 20,
    "start_time": "2022-04-26T18:46:00.533Z"
   },
   {
    "duration": 40,
    "start_time": "2022-04-26T18:46:00.556Z"
   },
   {
    "duration": 21,
    "start_time": "2022-04-26T18:46:00.599Z"
   },
   {
    "duration": 8,
    "start_time": "2022-04-26T18:46:00.623Z"
   },
   {
    "duration": 15,
    "start_time": "2022-04-26T18:46:00.633Z"
   },
   {
    "duration": 14,
    "start_time": "2022-04-26T18:46:00.690Z"
   },
   {
    "duration": 24,
    "start_time": "2022-04-26T18:46:00.707Z"
   },
   {
    "duration": 8,
    "start_time": "2022-04-26T18:46:00.734Z"
   },
   {
    "duration": 40,
    "start_time": "2022-04-26T18:46:00.745Z"
   },
   {
    "duration": 13,
    "start_time": "2022-04-26T18:46:00.788Z"
   },
   {
    "duration": 16,
    "start_time": "2022-04-26T18:46:00.804Z"
   },
   {
    "duration": 380,
    "start_time": "2022-04-26T18:46:00.822Z"
   },
   {
    "duration": 9,
    "start_time": "2022-04-26T18:46:01.205Z"
   },
   {
    "duration": 20,
    "start_time": "2022-04-26T18:46:01.216Z"
   },
   {
    "duration": 345,
    "start_time": "2022-04-26T18:46:01.238Z"
   },
   {
    "duration": 22,
    "start_time": "2022-04-26T18:46:01.591Z"
   },
   {
    "duration": 26,
    "start_time": "2022-04-26T18:46:01.615Z"
   },
   {
    "duration": 23,
    "start_time": "2022-04-26T18:46:01.643Z"
   },
   {
    "duration": 35,
    "start_time": "2022-04-26T18:46:01.669Z"
   },
   {
    "duration": 385,
    "start_time": "2022-04-26T18:46:01.707Z"
   },
   {
    "duration": 8,
    "start_time": "2022-04-26T18:46:02.099Z"
   },
   {
    "duration": 15,
    "start_time": "2022-04-26T18:46:02.109Z"
   },
   {
    "duration": 15,
    "start_time": "2022-04-26T18:46:02.126Z"
   },
   {
    "duration": 334,
    "start_time": "2022-04-26T18:46:02.143Z"
   },
   {
    "duration": 13,
    "start_time": "2022-04-26T18:46:02.482Z"
   },
   {
    "duration": 15,
    "start_time": "2022-04-26T18:46:02.498Z"
   },
   {
    "duration": 590,
    "start_time": "2022-04-26T18:46:02.515Z"
   },
   {
    "duration": 19,
    "start_time": "2022-04-26T18:46:03.108Z"
   },
   {
    "duration": 19,
    "start_time": "2022-04-26T18:46:03.129Z"
   },
   {
    "duration": 52,
    "start_time": "2022-04-26T18:46:03.150Z"
   },
   {
    "duration": 22,
    "start_time": "2022-04-26T18:46:03.205Z"
   },
   {
    "duration": 9,
    "start_time": "2022-04-26T18:46:03.230Z"
   },
   {
    "duration": 437,
    "start_time": "2022-04-26T18:46:03.241Z"
   },
   {
    "duration": 1235,
    "start_time": "2022-04-26T18:46:03.683Z"
   },
   {
    "duration": 17,
    "start_time": "2022-04-26T18:46:04.920Z"
   },
   {
    "duration": 6,
    "start_time": "2022-04-26T18:46:04.940Z"
   },
   {
    "duration": 11,
    "start_time": "2022-04-26T18:46:04.948Z"
   },
   {
    "duration": 35,
    "start_time": "2022-04-26T18:46:04.961Z"
   },
   {
    "duration": 12,
    "start_time": "2022-04-26T18:46:04.998Z"
   },
   {
    "duration": 15,
    "start_time": "2022-04-26T18:46:05.012Z"
   },
   {
    "duration": 18,
    "start_time": "2022-04-26T18:46:05.029Z"
   },
   {
    "duration": 6,
    "start_time": "2022-04-26T18:46:05.050Z"
   },
   {
    "duration": 34,
    "start_time": "2022-04-26T18:46:05.058Z"
   },
   {
    "duration": 12,
    "start_time": "2022-04-26T18:46:05.096Z"
   },
   {
    "duration": 16,
    "start_time": "2022-04-26T18:46:05.110Z"
   },
   {
    "duration": 6,
    "start_time": "2022-04-26T18:46:05.128Z"
   },
   {
    "duration": 13,
    "start_time": "2022-04-26T18:46:05.136Z"
   },
   {
    "duration": 62,
    "start_time": "2022-04-26T18:46:05.151Z"
   },
   {
    "duration": 584,
    "start_time": "2022-04-26T18:46:05.215Z"
   },
   {
    "duration": 10,
    "start_time": "2022-04-26T18:46:05.801Z"
   },
   {
    "duration": 1759,
    "start_time": "2022-04-27T17:35:13.814Z"
   },
   {
    "duration": 76,
    "start_time": "2022-04-27T17:35:15.576Z"
   },
   {
    "duration": 15,
    "start_time": "2022-04-27T17:35:15.653Z"
   },
   {
    "duration": 19,
    "start_time": "2022-04-27T17:35:15.671Z"
   },
   {
    "duration": 30,
    "start_time": "2022-04-27T17:35:15.692Z"
   },
   {
    "duration": 15,
    "start_time": "2022-04-27T17:35:15.724Z"
   },
   {
    "duration": 5,
    "start_time": "2022-04-27T17:35:15.741Z"
   },
   {
    "duration": 7,
    "start_time": "2022-04-27T17:35:15.748Z"
   },
   {
    "duration": 9,
    "start_time": "2022-04-27T17:35:15.757Z"
   },
   {
    "duration": 57,
    "start_time": "2022-04-27T17:35:15.769Z"
   },
   {
    "duration": 9,
    "start_time": "2022-04-27T17:35:15.828Z"
   },
   {
    "duration": 8,
    "start_time": "2022-04-27T17:35:15.840Z"
   },
   {
    "duration": 21,
    "start_time": "2022-04-27T17:35:15.850Z"
   },
   {
    "duration": 9,
    "start_time": "2022-04-27T17:35:15.872Z"
   },
   {
    "duration": 239,
    "start_time": "2022-04-27T17:35:15.883Z"
   },
   {
    "duration": 16,
    "start_time": "2022-04-27T17:35:16.126Z"
   },
   {
    "duration": 7,
    "start_time": "2022-04-27T17:35:16.145Z"
   },
   {
    "duration": 171,
    "start_time": "2022-04-27T17:35:16.154Z"
   },
   {
    "duration": 20,
    "start_time": "2022-04-27T17:35:16.327Z"
   },
   {
    "duration": 4,
    "start_time": "2022-04-27T17:35:16.349Z"
   },
   {
    "duration": 5,
    "start_time": "2022-04-27T17:35:16.355Z"
   },
   {
    "duration": 14,
    "start_time": "2022-04-27T17:35:16.361Z"
   },
   {
    "duration": 249,
    "start_time": "2022-04-27T17:35:16.377Z"
   },
   {
    "duration": 8,
    "start_time": "2022-04-27T17:35:16.628Z"
   },
   {
    "duration": 10,
    "start_time": "2022-04-27T17:35:16.638Z"
   },
   {
    "duration": 8,
    "start_time": "2022-04-27T17:35:16.649Z"
   },
   {
    "duration": 281,
    "start_time": "2022-04-27T17:35:16.659Z"
   },
   {
    "duration": 8,
    "start_time": "2022-04-27T17:35:16.944Z"
   },
   {
    "duration": 9,
    "start_time": "2022-04-27T17:35:16.953Z"
   },
   {
    "duration": 293,
    "start_time": "2022-04-27T17:35:16.964Z"
   },
   {
    "duration": 14,
    "start_time": "2022-04-27T17:35:17.259Z"
   },
   {
    "duration": 13,
    "start_time": "2022-04-27T17:35:17.275Z"
   },
   {
    "duration": 41,
    "start_time": "2022-04-27T17:35:17.290Z"
   },
   {
    "duration": 21,
    "start_time": "2022-04-27T17:35:17.335Z"
   },
   {
    "duration": 8,
    "start_time": "2022-04-27T17:35:17.358Z"
   },
   {
    "duration": 360,
    "start_time": "2022-04-27T17:35:17.368Z"
   },
   {
    "duration": 1109,
    "start_time": "2022-04-27T17:35:17.730Z"
   },
   {
    "duration": 14,
    "start_time": "2022-04-27T17:35:18.840Z"
   },
   {
    "duration": 3,
    "start_time": "2022-04-27T17:35:18.856Z"
   },
   {
    "duration": 9,
    "start_time": "2022-04-27T17:35:18.860Z"
   },
   {
    "duration": 8,
    "start_time": "2022-04-27T17:35:18.871Z"
   },
   {
    "duration": 9,
    "start_time": "2022-04-27T17:35:18.881Z"
   },
   {
    "duration": 34,
    "start_time": "2022-04-27T17:35:18.892Z"
   },
   {
    "duration": 17,
    "start_time": "2022-04-27T17:35:18.928Z"
   },
   {
    "duration": 5,
    "start_time": "2022-04-27T17:35:18.946Z"
   },
   {
    "duration": 12,
    "start_time": "2022-04-27T17:35:18.952Z"
   },
   {
    "duration": 11,
    "start_time": "2022-04-27T17:35:18.966Z"
   },
   {
    "duration": 11,
    "start_time": "2022-04-27T17:35:18.978Z"
   },
   {
    "duration": 3,
    "start_time": "2022-04-27T17:35:19.029Z"
   },
   {
    "duration": 8,
    "start_time": "2022-04-27T17:35:19.034Z"
   },
   {
    "duration": 16,
    "start_time": "2022-04-27T17:35:19.043Z"
   },
   {
    "duration": 369,
    "start_time": "2022-04-27T17:35:19.061Z"
   },
   {
    "duration": 12,
    "start_time": "2022-04-27T17:35:19.432Z"
   },
   {
    "duration": 1227,
    "start_time": "2022-04-29T10:09:45.650Z"
   },
   {
    "duration": 66,
    "start_time": "2022-04-29T10:09:47.345Z"
   },
   {
    "duration": 13,
    "start_time": "2022-04-29T10:09:48.220Z"
   },
   {
    "duration": 14,
    "start_time": "2022-04-29T10:09:52.765Z"
   },
   {
    "duration": 8,
    "start_time": "2022-04-29T10:09:56.953Z"
   },
   {
    "duration": 11,
    "start_time": "2022-04-29T10:09:57.722Z"
   },
   {
    "duration": 5,
    "start_time": "2022-04-29T10:10:06.129Z"
   },
   {
    "duration": 8,
    "start_time": "2022-04-29T10:10:16.069Z"
   },
   {
    "duration": 12,
    "start_time": "2022-04-29T10:10:20.142Z"
   },
   {
    "duration": 14,
    "start_time": "2022-04-29T10:10:20.956Z"
   },
   {
    "duration": 7,
    "start_time": "2022-04-29T10:10:56.058Z"
   },
   {
    "duration": 4,
    "start_time": "2022-04-29T10:13:57.336Z"
   },
   {
    "duration": 8,
    "start_time": "2022-04-29T10:14:12.932Z"
   },
   {
    "duration": 13,
    "start_time": "2022-04-29T10:14:27.010Z"
   },
   {
    "duration": 4,
    "start_time": "2022-04-29T10:16:53.099Z"
   },
   {
    "duration": 13,
    "start_time": "2022-04-29T10:16:53.487Z"
   },
   {
    "duration": 15,
    "start_time": "2022-04-29T10:18:10.165Z"
   },
   {
    "duration": 16,
    "start_time": "2022-04-29T10:18:44.496Z"
   },
   {
    "duration": 16,
    "start_time": "2022-04-29T10:19:25.861Z"
   },
   {
    "duration": 836,
    "start_time": "2022-04-29T10:20:04.226Z"
   },
   {
    "duration": 12,
    "start_time": "2022-04-29T10:20:09.809Z"
   },
   {
    "duration": 7,
    "start_time": "2022-04-29T10:20:21.668Z"
   },
   {
    "duration": 383,
    "start_time": "2022-04-29T10:20:25.818Z"
   },
   {
    "duration": 7,
    "start_time": "2022-04-29T10:20:28.910Z"
   },
   {
    "duration": 97,
    "start_time": "2022-04-29T10:23:42.564Z"
   },
   {
    "duration": 3,
    "start_time": "2022-04-29T10:23:47.134Z"
   },
   {
    "duration": 58,
    "start_time": "2022-04-29T10:23:47.143Z"
   },
   {
    "duration": 10,
    "start_time": "2022-04-29T10:23:47.203Z"
   },
   {
    "duration": 15,
    "start_time": "2022-04-29T10:23:47.214Z"
   },
   {
    "duration": 8,
    "start_time": "2022-04-29T10:23:47.231Z"
   },
   {
    "duration": 8,
    "start_time": "2022-04-29T10:23:47.241Z"
   },
   {
    "duration": 5,
    "start_time": "2022-04-29T10:23:47.251Z"
   },
   {
    "duration": 46,
    "start_time": "2022-04-29T10:23:47.258Z"
   },
   {
    "duration": 9,
    "start_time": "2022-04-29T10:23:47.306Z"
   },
   {
    "duration": 18,
    "start_time": "2022-04-29T10:23:47.317Z"
   },
   {
    "duration": 5,
    "start_time": "2022-04-29T10:23:47.338Z"
   },
   {
    "duration": 8,
    "start_time": "2022-04-29T10:23:47.345Z"
   },
   {
    "duration": 8,
    "start_time": "2022-04-29T10:23:47.354Z"
   },
   {
    "duration": 44,
    "start_time": "2022-04-29T10:23:47.364Z"
   },
   {
    "duration": 8,
    "start_time": "2022-04-29T10:23:47.410Z"
   },
   {
    "duration": 224,
    "start_time": "2022-04-29T10:23:47.419Z"
   },
   {
    "duration": 8,
    "start_time": "2022-04-29T10:23:47.645Z"
   },
   {
    "duration": 14,
    "start_time": "2022-04-29T10:23:47.654Z"
   },
   {
    "duration": 156,
    "start_time": "2022-04-29T10:23:47.670Z"
   },
   {
    "duration": 15,
    "start_time": "2022-04-29T10:23:47.828Z"
   },
   {
    "duration": 5,
    "start_time": "2022-04-29T10:23:47.845Z"
   },
   {
    "duration": 23,
    "start_time": "2022-04-29T10:23:47.852Z"
   },
   {
    "duration": 23,
    "start_time": "2022-04-29T10:23:47.878Z"
   },
   {
    "duration": 185,
    "start_time": "2022-04-29T10:23:47.902Z"
   },
   {
    "duration": 12,
    "start_time": "2022-04-29T10:23:48.089Z"
   },
   {
    "duration": 32,
    "start_time": "2022-04-29T10:23:48.102Z"
   },
   {
    "duration": 29,
    "start_time": "2022-04-29T10:23:48.135Z"
   },
   {
    "duration": 32,
    "start_time": "2022-04-29T10:23:48.165Z"
   },
   {
    "duration": 0,
    "start_time": "2022-04-29T10:23:48.199Z"
   },
   {
    "duration": 0,
    "start_time": "2022-04-29T10:23:48.200Z"
   },
   {
    "duration": 0,
    "start_time": "2022-04-29T10:23:48.201Z"
   },
   {
    "duration": 0,
    "start_time": "2022-04-29T10:23:48.202Z"
   },
   {
    "duration": 0,
    "start_time": "2022-04-29T10:23:48.203Z"
   },
   {
    "duration": 0,
    "start_time": "2022-04-29T10:23:48.204Z"
   },
   {
    "duration": 0,
    "start_time": "2022-04-29T10:23:48.205Z"
   },
   {
    "duration": 0,
    "start_time": "2022-04-29T10:23:48.206Z"
   },
   {
    "duration": 0,
    "start_time": "2022-04-29T10:23:48.207Z"
   },
   {
    "duration": 0,
    "start_time": "2022-04-29T10:23:48.208Z"
   },
   {
    "duration": 0,
    "start_time": "2022-04-29T10:23:48.209Z"
   },
   {
    "duration": 0,
    "start_time": "2022-04-29T10:23:48.210Z"
   },
   {
    "duration": 0,
    "start_time": "2022-04-29T10:23:48.211Z"
   },
   {
    "duration": 0,
    "start_time": "2022-04-29T10:23:48.212Z"
   },
   {
    "duration": 0,
    "start_time": "2022-04-29T10:23:48.213Z"
   },
   {
    "duration": 0,
    "start_time": "2022-04-29T10:23:48.214Z"
   },
   {
    "duration": 0,
    "start_time": "2022-04-29T10:23:48.214Z"
   },
   {
    "duration": 0,
    "start_time": "2022-04-29T10:23:48.215Z"
   },
   {
    "duration": 0,
    "start_time": "2022-04-29T10:23:48.216Z"
   },
   {
    "duration": 0,
    "start_time": "2022-04-29T10:23:48.218Z"
   },
   {
    "duration": 0,
    "start_time": "2022-04-29T10:23:48.218Z"
   },
   {
    "duration": 0,
    "start_time": "2022-04-29T10:23:48.219Z"
   },
   {
    "duration": 0,
    "start_time": "2022-04-29T10:23:48.220Z"
   },
   {
    "duration": 0,
    "start_time": "2022-04-29T10:23:48.221Z"
   },
   {
    "duration": 0,
    "start_time": "2022-04-29T10:23:48.222Z"
   },
   {
    "duration": 0,
    "start_time": "2022-04-29T10:23:48.223Z"
   },
   {
    "duration": 265,
    "start_time": "2022-04-29T10:24:21.568Z"
   },
   {
    "duration": 251,
    "start_time": "2022-04-29T10:24:32.112Z"
   },
   {
    "duration": 10,
    "start_time": "2022-04-29T10:24:37.705Z"
   },
   {
    "duration": 10,
    "start_time": "2022-04-29T10:24:38.400Z"
   },
   {
    "duration": 427,
    "start_time": "2022-04-29T10:24:41.805Z"
   },
   {
    "duration": 644,
    "start_time": "2022-04-29T10:25:15.259Z"
   },
   {
    "duration": 622,
    "start_time": "2022-04-29T10:25:27.862Z"
   },
   {
    "duration": 11,
    "start_time": "2022-04-29T10:27:55.721Z"
   },
   {
    "duration": 12,
    "start_time": "2022-04-29T10:27:56.640Z"
   },
   {
    "duration": 13,
    "start_time": "2022-04-29T10:27:57.388Z"
   },
   {
    "duration": 15,
    "start_time": "2022-04-29T10:29:24.605Z"
   },
   {
    "duration": 6,
    "start_time": "2022-04-29T10:29:25.142Z"
   },
   {
    "duration": 203,
    "start_time": "2022-04-29T10:29:29.199Z"
   },
   {
    "duration": 1286,
    "start_time": "2022-04-29T10:29:33.812Z"
   },
   {
    "duration": 10,
    "start_time": "2022-04-29T10:29:35.730Z"
   },
   {
    "duration": 4,
    "start_time": "2022-04-29T10:29:40.702Z"
   },
   {
    "duration": 7,
    "start_time": "2022-04-29T10:29:41.383Z"
   },
   {
    "duration": 8,
    "start_time": "2022-04-29T10:29:41.985Z"
   },
   {
    "duration": 4,
    "start_time": "2022-04-29T10:29:45.586Z"
   },
   {
    "duration": 8,
    "start_time": "2022-04-29T10:29:46.185Z"
   },
   {
    "duration": 12,
    "start_time": "2022-04-29T10:31:29.262Z"
   },
   {
    "duration": 5,
    "start_time": "2022-04-29T10:31:29.796Z"
   },
   {
    "duration": 9,
    "start_time": "2022-04-29T10:31:30.228Z"
   },
   {
    "duration": 7,
    "start_time": "2022-04-29T10:31:33.474Z"
   },
   {
    "duration": 10,
    "start_time": "2022-04-29T10:31:33.947Z"
   },
   {
    "duration": 2,
    "start_time": "2022-04-29T10:32:52.402Z"
   },
   {
    "duration": 8,
    "start_time": "2022-04-29T10:32:53.418Z"
   },
   {
    "duration": 18,
    "start_time": "2022-04-29T10:32:54.010Z"
   },
   {
    "duration": 252,
    "start_time": "2022-04-29T10:32:56.687Z"
   },
   {
    "duration": 7,
    "start_time": "2022-04-29T10:32:59.977Z"
   },
   {
    "duration": 1099,
    "start_time": "2022-08-30T11:24:25.319Z"
   },
   {
    "duration": 119,
    "start_time": "2022-08-30T11:24:26.420Z"
   },
   {
    "duration": 13,
    "start_time": "2022-08-30T11:24:26.540Z"
   },
   {
    "duration": 11,
    "start_time": "2022-08-30T11:24:26.556Z"
   },
   {
    "duration": 8,
    "start_time": "2022-08-30T11:24:26.568Z"
   },
   {
    "duration": 9,
    "start_time": "2022-08-30T11:24:26.577Z"
   },
   {
    "duration": 8,
    "start_time": "2022-08-30T11:24:26.587Z"
   },
   {
    "duration": 7,
    "start_time": "2022-08-30T11:24:26.596Z"
   },
   {
    "duration": 31,
    "start_time": "2022-08-30T11:24:26.605Z"
   },
   {
    "duration": 15,
    "start_time": "2022-08-30T11:24:26.639Z"
   },
   {
    "duration": 6,
    "start_time": "2022-08-30T11:24:26.656Z"
   },
   {
    "duration": 9,
    "start_time": "2022-08-30T11:24:26.664Z"
   },
   {
    "duration": 9,
    "start_time": "2022-08-30T11:24:26.674Z"
   },
   {
    "duration": 8,
    "start_time": "2022-08-30T11:24:26.685Z"
   },
   {
    "duration": 38,
    "start_time": "2022-08-30T11:24:26.694Z"
   },
   {
    "duration": 204,
    "start_time": "2022-08-30T11:24:26.734Z"
   },
   {
    "duration": 6,
    "start_time": "2022-08-30T11:24:26.940Z"
   },
   {
    "duration": 11,
    "start_time": "2022-08-30T11:24:26.948Z"
   },
   {
    "duration": 146,
    "start_time": "2022-08-30T11:24:26.960Z"
   },
   {
    "duration": 23,
    "start_time": "2022-08-30T11:24:27.108Z"
   },
   {
    "duration": 4,
    "start_time": "2022-08-30T11:24:27.133Z"
   },
   {
    "duration": 8,
    "start_time": "2022-08-30T11:24:27.138Z"
   },
   {
    "duration": 11,
    "start_time": "2022-08-30T11:24:27.147Z"
   },
   {
    "duration": 209,
    "start_time": "2022-08-30T11:24:27.159Z"
   },
   {
    "duration": 6,
    "start_time": "2022-08-30T11:24:27.369Z"
   },
   {
    "duration": 10,
    "start_time": "2022-08-30T11:24:27.376Z"
   },
   {
    "duration": 9,
    "start_time": "2022-08-30T11:24:27.387Z"
   },
   {
    "duration": 180,
    "start_time": "2022-08-30T11:24:27.399Z"
   },
   {
    "duration": 10,
    "start_time": "2022-08-30T11:24:27.580Z"
   },
   {
    "duration": 23,
    "start_time": "2022-08-30T11:24:27.591Z"
   },
   {
    "duration": 439,
    "start_time": "2022-08-30T11:24:27.615Z"
   },
   {
    "duration": 13,
    "start_time": "2022-08-30T11:24:28.055Z"
   },
   {
    "duration": 12,
    "start_time": "2022-08-30T11:24:28.070Z"
   },
   {
    "duration": 32,
    "start_time": "2022-08-30T11:24:28.083Z"
   },
   {
    "duration": 26,
    "start_time": "2022-08-30T11:24:28.117Z"
   },
   {
    "duration": 6,
    "start_time": "2022-08-30T11:24:28.144Z"
   },
   {
    "duration": 224,
    "start_time": "2022-08-30T11:24:28.152Z"
   },
   {
    "duration": 1144,
    "start_time": "2022-08-30T11:24:28.378Z"
   },
   {
    "duration": 11,
    "start_time": "2022-08-30T11:24:29.523Z"
   },
   {
    "duration": 7,
    "start_time": "2022-08-30T11:24:29.535Z"
   },
   {
    "duration": 9,
    "start_time": "2022-08-30T11:24:29.543Z"
   },
   {
    "duration": 9,
    "start_time": "2022-08-30T11:24:29.554Z"
   },
   {
    "duration": 7,
    "start_time": "2022-08-30T11:24:29.564Z"
   },
   {
    "duration": 12,
    "start_time": "2022-08-30T11:24:29.572Z"
   },
   {
    "duration": 15,
    "start_time": "2022-08-30T11:24:29.585Z"
   },
   {
    "duration": 5,
    "start_time": "2022-08-30T11:24:29.601Z"
   },
   {
    "duration": 27,
    "start_time": "2022-08-30T11:24:29.607Z"
   },
   {
    "duration": 6,
    "start_time": "2022-08-30T11:24:29.635Z"
   },
   {
    "duration": 9,
    "start_time": "2022-08-30T11:24:29.643Z"
   },
   {
    "duration": 3,
    "start_time": "2022-08-30T11:24:29.653Z"
   },
   {
    "duration": 12,
    "start_time": "2022-08-30T11:24:29.657Z"
   },
   {
    "duration": 14,
    "start_time": "2022-08-30T11:24:29.670Z"
   },
   {
    "duration": 300,
    "start_time": "2022-08-30T11:24:29.685Z"
   },
   {
    "duration": 8,
    "start_time": "2022-08-30T11:24:29.986Z"
   }
  ],
  "kernelspec": {
   "display_name": "Python 3 (ipykernel)",
   "language": "python",
   "name": "python3"
  },
  "language_info": {
   "codemirror_mode": {
    "name": "ipython",
    "version": 3
   },
   "file_extension": ".py",
   "mimetype": "text/x-python",
   "name": "python",
   "nbconvert_exporter": "python",
   "pygments_lexer": "ipython3",
   "version": "3.9.5"
  },
  "toc": {
   "base_numbering": 1,
   "nav_menu": {},
   "number_sections": true,
   "sideBar": true,
   "skip_h1_title": true,
   "title_cell": "Table of Contents",
   "title_sidebar": "Contents",
   "toc_cell": true,
   "toc_position": {
    "height": "calc(100% - 180px)",
    "left": "10px",
    "top": "150px",
    "width": "165px"
   },
   "toc_section_display": true,
   "toc_window_display": true
  }
 },
 "nbformat": 4,
 "nbformat_minor": 2
}
